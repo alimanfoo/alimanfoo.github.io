{
 "cells": [
  {
   "cell_type": "raw",
   "id": "60384559-a841-4e19-8150-a29fcb694a55",
   "metadata": {},
   "source": [
    "---\n",
    "layout: post\n",
    "title: TODO\n",
    "---\n",
    "{% raw %}"
   ]
  },
  {
   "cell_type": "code",
   "execution_count": 2,
   "id": "8962b8d3-e0d3-4818-8762-ca4886bfa34b",
   "metadata": {
    "editable": true,
    "slideshow": {
     "slide_type": ""
    },
    "tags": [
     "remove_input"
    ]
   },
   "outputs": [
    {
     "data": {
      "text/html": [
       "<style type=\"text/css\">\n",
       ".input details {\n",
       "    margin-bottom: 10px;\n",
       "}\n",
       ".input details summary {\n",
       "    color: #998;\n",
       "    background-color: #eef;\n",
       "    padding: 2px 12px;\n",
       "    border: 1px solid #e8e8e8;\n",
       "    cursor: default;\n",
       "}\n",
       "</style>\n"
      ],
      "text/plain": [
       "<IPython.core.display.HTML object>"
      ]
     },
     "metadata": {},
     "output_type": "display_data"
    }
   ],
   "source": [
    "%%html\n",
    "<style type=\"text/css\">\n",
    ".input details {\n",
    "    margin-bottom: 10px;\n",
    "}\n",
    ".input details summary {\n",
    "    color: #998;\n",
    "    background-color: #eef;\n",
    "    padding: 2px 12px;\n",
    "    border: 1px solid #e8e8e8;\n",
    "    cursor: default;\n",
    "}\n",
    "</style>"
   ]
  },
  {
   "cell_type": "markdown",
   "id": "aa99797d-5e4a-493f-955c-5a5e15386b42",
   "metadata": {},
   "source": [
    "This is some text before."
   ]
  },
  {
   "cell_type": "code",
   "execution_count": 1,
   "id": "7bc97741-76e4-44d8-a6e6-c537e11d5275",
   "metadata": {
    "editable": true,
    "slideshow": {
     "slide_type": ""
    },
    "tags": []
   },
   "outputs": [
    {
     "name": "stdout",
     "output_type": "stream",
     "text": [
      "hellooooo detailed world\n"
     ]
    }
   ],
   "source": [
    "# This is a code cell.\n",
    "print(\"hellooooo detailed world\")"
   ]
  },
  {
   "cell_type": "markdown",
   "id": "aee3d804-7fb7-458a-bebb-f90ea3faddb5",
   "metadata": {},
   "source": [
    "This is more text."
   ]
  },
  {
   "cell_type": "raw",
   "id": "a1cb699b-cb10-4559-aeab-92190cc2ed00",
   "metadata": {},
   "source": [
    "{% endraw %}"
   ]
  }
 ],
 "metadata": {
  "kernelspec": {
   "display_name": "Python (Pixi)",
   "language": "python",
   "name": "pixi-kernel-python3"
  },
  "language_info": {
   "codemirror_mode": {
    "name": "ipython",
    "version": 3
   },
   "file_extension": ".py",
   "mimetype": "text/x-python",
   "name": "python",
   "nbconvert_exporter": "python",
   "pygments_lexer": "ipython3",
   "version": "3.12.5"
  },
  "widgets": {
   "application/vnd.jupyter.widget-state+json": {
    "state": {},
    "version_major": 2,
    "version_minor": 0
   }
  }
 },
 "nbformat": 4,
 "nbformat_minor": 5
}
