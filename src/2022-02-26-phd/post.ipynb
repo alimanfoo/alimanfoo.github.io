{
 "cells": [
  {
   "cell_type": "raw",
   "id": "d9129f40-2467-4f96-a07d-512fae391b4e",
   "metadata": {},
   "source": [
    "---\n",
    "layout: post\n",
    "title: Trust me, I'm a doctor!\n",
    "---"
   ]
  },
  {
   "cell_type": "markdown",
   "id": "4792ddc3-42ec-4c12-a668-d4bdb12e3b2d",
   "metadata": {},
   "source": [
    "*6 years, 2 babies and a pandemic later...*\n",
    "\n",
    "---"
   ]
  },
  {
   "cell_type": "markdown",
   "id": "a558f449-90c1-4476-b111-41b412a8eb61",
   "metadata": {},
   "source": [
    "Today I finally graduated as a Doctor of Philosophy. It was a beautiful sunny winter's day in Oxford, and I got to share the experience with my wife and eldest daughter. It was a real treat. "
   ]
  },
  {
   "cell_type": "markdown",
   "id": "c3935d1e-eca6-4fa0-90f3-a20b5db2f75c",
   "metadata": {},
   "source": [
    "When I originally enrolled as a PhD student, I was 37 years old, with one daughter and a full-time job. The logic was that I could keep the job and do the PhD at the same time, because I was already working in a scientific position, and so I should be able to re-use a lot of the work I was doing anyway for a thesis. It sounded great in theory."
   ]
  }
 ],
 "metadata": {
  "kernelspec": {
   "display_name": "Python (Pixi)",
   "language": "python",
   "name": "pixi-kernel-python3"
  },
  "language_info": {
   "codemirror_mode": {
    "name": "ipython",
    "version": 3
   },
   "file_extension": ".py",
   "mimetype": "text/x-python",
   "name": "python",
   "nbconvert_exporter": "python",
   "pygments_lexer": "ipython3",
   "version": "3.12.7"
  }
 },
 "nbformat": 4,
 "nbformat_minor": 5
}
