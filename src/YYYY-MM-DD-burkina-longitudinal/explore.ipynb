{
 "cells": [
  {
   "cell_type": "raw",
   "id": "63bd79bc-661a-43c8-b80f-6677dd19bb81",
   "metadata": {},
   "source": [
    "---\n",
    "layout: post\n",
    "title: \"Longitudinal trends in insecticide resistance in Burkina Faso\"\n",
    "description: \"Replicates selected analyses from Kientega et al. (2024) Whole-genome sequencing of major malaria vectors revealed an evolution of new insecticide resistance variants in a longitudinal study in Burkina Faso.\"\n",
    "image: /src/YYYY-MM-DD-burkina-longitudinal/image.png\n",
    "---\n",
    "{% raw %}"
   ]
  },
  {
   "cell_type": "code",
   "execution_count": null,
   "id": "eab34e33-071f-4e93-97f4-2bf5961558cb",
   "metadata": {
    "tags": []
   },
   "outputs": [],
   "source": [
    "print(\"hello\")"
   ]
  },
  {
   "cell_type": "code",
   "execution_count": null,
   "id": "1a2d4415-2bfc-4aa9-bff4-90f33a34ec37",
   "metadata": {
    "tags": []
   },
   "outputs": [],
   "source": [
    "import sys\n",
    "sys.version_info"
   ]
  },
  {
   "cell_type": "code",
   "execution_count": null,
   "id": "9fe21206-a9a8-4350-a616-ba249c75f247",
   "metadata": {
    "tags": []
   },
   "outputs": [],
   "source": [
    "import plotly.io\n",
    "plotly.io.renderers.default = \"notebook_connected+plotly_mimetype\""
   ]
  },
  {
   "cell_type": "code",
   "execution_count": null,
   "id": "b2bb5f4a-0d63-4e7a-a9d8-36d5f211e6f6",
   "metadata": {
    "tags": []
   },
   "outputs": [],
   "source": [
    "import malariagen_data"
   ]
  },
  {
   "cell_type": "code",
   "execution_count": null,
   "id": "10a60c85-0666-4244-913f-afdbf2e5db56",
   "metadata": {
    "tags": []
   },
   "outputs": [],
   "source": [
    "ag3 = malariagen_data.Ag3(\n",
    "    results_cache=\"results_cache\",\n",
    ")\n",
    "ag3"
   ]
  },
  {
   "cell_type": "code",
   "execution_count": null,
   "id": "ec9399da-44c3-43e8-8e3d-66c0afb398d3",
   "metadata": {
    "tags": []
   },
   "outputs": [],
   "source": [
    "# Hide progress for the blog post.\n",
    "# ag3._show_progress = False"
   ]
  },
  {
   "cell_type": "markdown",
   "id": "0ff33d66-5edd-45c4-b9b8-cd5f320576ac",
   "metadata": {},
   "source": [
    "## Sample selection"
   ]
  },
  {
   "cell_type": "code",
   "execution_count": null,
   "id": "fd4a58c2-23e2-4898-ab22-340bc1ad4b73",
   "metadata": {
    "tags": []
   },
   "outputs": [],
   "source": [
    "df_samples = ag3.sample_metadata()"
   ]
  },
  {
   "cell_type": "code",
   "execution_count": null,
   "id": "4e0e5fe5-c408-44cc-906b-41b38cf2814f",
   "metadata": {
    "tags": []
   },
   "outputs": [],
   "source": [
    "df_samples.query(\"country == 'Burkina Faso'\").groupby([\"sample_set\", \"contributor\", \"year\"]).size()"
   ]
  },
  {
   "cell_type": "code",
   "execution_count": null,
   "id": "8573c19e-10fa-4408-ad7c-84b2ac4423cb",
   "metadata": {
    "tags": []
   },
   "outputs": [],
   "source": [
    "sample_sets = [\n",
    "    \"AG1000G-BF-A\",\n",
    "    \"AG1000G-BF-B\",\n",
    "    \"1191-VO-MULTI-OLOUGHLIN-VMF00106\",\n",
    "    \"1191-VO-MULTI-OLOUGHLIN-VMF00140\",\n",
    "]\n",
    "sample_query = \"country == 'Burkina Faso'\""
   ]
  },
  {
   "cell_type": "code",
   "execution_count": null,
   "id": "be332472-7035-4aab-9542-a548a725db80",
   "metadata": {
    "tags": []
   },
   "outputs": [],
   "source": [
    "ag3.count_samples(\n",
    "    sample_sets=sample_sets,\n",
    "    sample_query=sample_query,\n",
    ")"
   ]
  },
  {
   "cell_type": "markdown",
   "id": "1ae5b8df-878d-4636-acc6-45c0cd1cb99d",
   "metadata": {},
   "source": [
    "## Changes in pyrethroid target-site resistance"
   ]
  },
  {
   "cell_type": "code",
   "execution_count": null,
   "id": "e7171294-bae9-4bcb-a454-ab60ad3c7a7e",
   "metadata": {
    "tags": []
   },
   "outputs": [],
   "source": [
    "vgsc_transcript = \"AGAP004707-RD\""
   ]
  },
  {
   "cell_type": "code",
   "execution_count": null,
   "id": "09f27c31-297f-405b-a01f-ab82499addf7",
   "metadata": {
    "tags": []
   },
   "outputs": [],
   "source": [
    "ds_colu_vgsc_aa_frq = ag3.aa_allele_frequencies_advanced(\n",
    "    transcript=vgsc_transcript,\n",
    "    area_by=\"admin1_name\",\n",
    "    period_by=\"year\",\n",
    "    sample_sets=sample_sets,\n",
    "    sample_query=\"country == 'Burkina Faso' and taxon == 'coluzzii'\",\n",
    "    variant_query=\"max_af >= 0.05\",\n",
    ")\n",
    "ds_colu_vgsc_aa_frq"
   ]
  },
  {
   "cell_type": "code",
   "execution_count": null,
   "id": "429c2bcc-8215-4c37-937f-126016c9a90a",
   "metadata": {
    "tags": []
   },
   "outputs": [],
   "source": [
    "ag3.plot_frequencies_time_series(\n",
    "    ds_colu_vgsc_aa_frq,\n",
    "    height=500,\n",
    "    width=700,\n",
    ")"
   ]
  },
  {
   "cell_type": "markdown",
   "id": "15d63216-496d-42ed-92e0-658ae2693515",
   "metadata": {},
   "source": [
    "* Interesting that N1570Y is declining, even though we know much higher resistance.\n",
    "* But P1874S is not declining, holding it's own against V402L+I1527T, suggesting comparable selection coefficient."
   ]
  },
  {
   "cell_type": "code",
   "execution_count": null,
   "id": "6dd0e22f-34f2-43ac-bc6f-ed48e14b88ab",
   "metadata": {
    "tags": []
   },
   "outputs": [],
   "source": [
    "ag3.plot_diplotype_clustering_advanced(\n",
    "    region=vgsc_transcript,\n",
    "    sample_sets=sample_sets,\n",
    "    sample_query=\"country == 'Burkina Faso' and taxon == 'coluzzii'\",\n",
    "    site_mask=\"gamb_colu\",\n",
    "    color=\"year\",\n",
    "    linkage_method=\"complete\",\n",
    "    snp_transcript=vgsc_transcript,\n",
    "    snp_filter_min_maf=0.03,\n",
    ")"
   ]
  },
  {
   "cell_type": "code",
   "execution_count": null,
   "id": "0da47ec5-3df7-4cb4-bb81-eae42290135d",
   "metadata": {
    "tags": []
   },
   "outputs": [],
   "source": [
    "ace1_transcript = \"AGAP001356-RA\""
   ]
  },
  {
   "cell_type": "code",
   "execution_count": null,
   "id": "357f9cde-a22b-4e19-b997-99a581c15759",
   "metadata": {
    "tags": []
   },
   "outputs": [],
   "source": [
    "ds_gamb_ace1_aa_frq = ag3.aa_allele_frequencies_advanced(\n",
    "    transcript=ace1_transcript,\n",
    "    area_by=\"admin1_name\",\n",
    "    period_by=\"year\",\n",
    "    sample_sets=sample_sets,\n",
    "    sample_query=\"country == 'Burkina Faso' and taxon == 'gambiae'\",\n",
    "    variant_query=\"max_af >= 0.05\",\n",
    ")\n",
    "ds_gamb_ace1_aa_frq"
   ]
  },
  {
   "cell_type": "code",
   "execution_count": null,
   "id": "4e480a90-21f0-48d4-b952-499a59ef5bd6",
   "metadata": {
    "tags": []
   },
   "outputs": [],
   "source": [
    "ds_gamb_ace1_cnv_frq = ag3.gene_cnv_frequencies_advanced(\n",
    "    region=ace1_transcript,\n",
    "    area_by=\"admin1_name\",\n",
    "    period_by=\"year\",\n",
    "    sample_sets=sample_sets,\n",
    "    sample_query=\"country == 'Burkina Faso' and taxon == 'gambiae'\",\n",
    "    variant_query=\"max_af >= 0.05\",\n",
    ")\n",
    "ds_gamb_ace1_cnv_frq"
   ]
  },
  {
   "cell_type": "code",
   "execution_count": null,
   "id": "25107d69-2594-45b4-99b0-c021e9025f96",
   "metadata": {
    "tags": []
   },
   "outputs": [],
   "source": [
    "ag3.plot_frequencies_time_series(\n",
    "    ds_gamb_ace1_aa_frq,\n",
    "    height=500,\n",
    "    width=700,\n",
    ")"
   ]
  },
  {
   "cell_type": "code",
   "execution_count": null,
   "id": "c419f0a5-b3f6-456c-ade2-21c9b58d4960",
   "metadata": {
    "tags": []
   },
   "outputs": [],
   "source": [
    "ag3.plot_frequencies_time_series(\n",
    "    ds_gamb_ace1_cnv_frq,\n",
    "    height=500,\n",
    "    width=700,\n",
    ")"
   ]
  },
  {
   "cell_type": "code",
   "execution_count": null,
   "id": "ad1513ce-7a95-4823-a502-fa4fadd2c6c0",
   "metadata": {
    "tags": []
   },
   "outputs": [],
   "source": [
    "import xarray as xr"
   ]
  },
  {
   "cell_type": "code",
   "execution_count": null,
   "id": "279d0e72-36fe-4ff8-986f-30017cf6ffb5",
   "metadata": {
    "tags": []
   },
   "outputs": [],
   "source": [
    "ds_gamb_ace1_frq = xr.concat(\n",
    "    [ds_gamb_ace1_aa_frq, ds_gamb_ace1_cnv_frq], \n",
    "    dim=\"variants\", \n",
    "    coords=\"minimal\",\n",
    "    data_vars=\"minimal\",\n",
    "    compat=\"override\",\n",
    "    join=\"override\",\n",
    ")\n",
    "ds_gamb_ace1_frq"
   ]
  },
  {
   "cell_type": "code",
   "execution_count": null,
   "id": "b9e26f94-48bd-4528-aafd-78ab0d11b9af",
   "metadata": {
    "tags": []
   },
   "outputs": [],
   "source": [
    "ag3.plot_frequencies_time_series(\n",
    "    ds_gamb_ace1_frq,\n",
    "    height=500,\n",
    "    width=700,\n",
    ")"
   ]
  },
  {
   "cell_type": "markdown",
   "id": "d0877b2a-0e5d-47a4-9e5c-d4856e769958",
   "metadata": {},
   "source": [
    "TODO remove fixed variants."
   ]
  },
  {
   "cell_type": "markdown",
   "id": "67378990-e130-4a91-a2c1-7e27e2ffb1e6",
   "metadata": {},
   "source": [
    "## Genome-wide scan for allele frequency changes"
   ]
  },
  {
   "cell_type": "code",
   "execution_count": null,
   "id": "652201d5-ab1d-422d-9050-99b07c010c90",
   "metadata": {
    "tags": []
   },
   "outputs": [],
   "source": [
    "import warnings\n",
    "warnings.simplefilter(action=\"ignore\")"
   ]
  },
  {
   "cell_type": "code",
   "execution_count": null,
   "id": "933288e9-a07e-4629-8c4b-9ce24dbe12ed",
   "metadata": {
    "tags": []
   },
   "outputs": [],
   "source": [
    "ag3.plot_fst_gwss(\n",
    "    contig=\"2RL\",\n",
    "    window_size=500,\n",
    "    cohort1_query=\"country == 'Burkina Faso' and taxon == 'gambiae' and year == 2012\",\n",
    "    cohort2_query=\"country == 'Burkina Faso' and taxon == 'gambiae' and year == 2017\",\n",
    "    sample_sets=sample_sets,\n",
    "    site_mask=\"gamb_colu\",\n",
    "    max_cohort_size=None,\n",
    ")"
   ]
  },
  {
   "cell_type": "code",
   "execution_count": null,
   "id": "dc5b4982-2c5d-4370-a61b-458a50c67bd5",
   "metadata": {
    "tags": []
   },
   "outputs": [],
   "source": [
    "ag3.plot_fst_gwss(\n",
    "    contig=\"2R\",\n",
    "    window_size=500,\n",
    "    cohort1_query=\"country == 'Burkina Faso' and taxon == 'gambiae' and year == 2012\",\n",
    "    cohort2_query=\"country == 'Burkina Faso' and taxon == 'gambiae' and year == 2017\",\n",
    "    sample_sets=sample_sets,\n",
    "    site_mask=\"gamb_colu\",\n",
    "    max_cohort_size=None,\n",
    ")"
   ]
  },
  {
   "cell_type": "code",
   "execution_count": null,
   "id": "0d0097e7-9eb9-4289-8609-9a4b603deffa",
   "metadata": {
    "tags": []
   },
   "outputs": [],
   "source": [
    "ag3.plot_fst_gwss(\n",
    "    contig=\"2RL\",\n",
    "    window_size=1_000,\n",
    "    cohort1_query=\"country == 'Burkina Faso' and taxon == 'gambiae' and year == 2012\",\n",
    "    cohort2_query=\"country == 'Burkina Faso' and taxon == 'gambiae' and year == 2017\",\n",
    "    sample_sets=sample_sets,\n",
    "    site_mask=\"gamb_colu\",\n",
    "    max_cohort_size=None,\n",
    ")"
   ]
  },
  {
   "cell_type": "code",
   "execution_count": null,
   "id": "c4f536c7-80d4-443d-81e1-29b320e391ae",
   "metadata": {
    "tags": []
   },
   "outputs": [],
   "source": [
    "ag3.plot_fst_gwss(\n",
    "    contig=\"3RL\",\n",
    "    window_size=500,\n",
    "    cohort1_query=\"country == 'Burkina Faso' and taxon == 'gambiae' and year == 2012\",\n",
    "    cohort2_query=\"country == 'Burkina Faso' and taxon == 'gambiae' and year == 2017\",\n",
    "    sample_sets=sample_sets,\n",
    "    site_mask=\"gamb_colu\",\n",
    "    max_cohort_size=None,\n",
    ")"
   ]
  },
  {
   "cell_type": "code",
   "execution_count": null,
   "id": "b9930f81-0112-40a9-9bb5-68ae8d29764b",
   "metadata": {
    "tags": []
   },
   "outputs": [],
   "source": [
    "ag3.plot_fst_gwss(\n",
    "    contig=\"X\",\n",
    "    window_size=500,\n",
    "    cohort1_query=\"country == 'Burkina Faso' and taxon == 'gambiae' and year == 2012\",\n",
    "    cohort2_query=\"country == 'Burkina Faso' and taxon == 'gambiae' and year == 2017\",\n",
    "    sample_sets=sample_sets,\n",
    "    site_mask=\"gamb_colu\",\n",
    "    max_cohort_size=None,\n",
    "    \n",
    ")"
   ]
  },
  {
   "cell_type": "code",
   "execution_count": null,
   "id": "7ad68098-d5d7-4fa9-8ad3-7588aacaf0b0",
   "metadata": {
    "tags": []
   },
   "outputs": [],
   "source": [
    "ag3.plot_fst_gwss?"
   ]
  },
  {
   "cell_type": "raw",
   "id": "8a7c2432-be66-4bc7-95b6-bf2268479ac4",
   "metadata": {},
   "source": [
    "{% endraw %}"
   ]
  }
 ],
 "metadata": {
  "environment": {
   "kernel": "conda-base-pixi-kernel-python3",
   "name": "workbench-notebooks.m124",
   "type": "gcloud",
   "uri": "us-docker.pkg.dev/deeplearning-platform-release/gcr.io/workbench-notebooks:m124"
  },
  "kernelspec": {
   "display_name": "Pixi - Python 3 (ipykernel)",
   "language": "python",
   "name": "conda-base-pixi-kernel-python3"
  },
  "language_info": {
   "codemirror_mode": {
    "name": "ipython",
    "version": 3
   },
   "file_extension": ".py",
   "mimetype": "text/x-python",
   "name": "python",
   "nbconvert_exporter": "python",
   "pygments_lexer": "ipython3",
   "version": "3.12.5"
  }
 },
 "nbformat": 4,
 "nbformat_minor": 5
}
