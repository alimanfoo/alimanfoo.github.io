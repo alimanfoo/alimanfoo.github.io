{
 "cells": [
  {
   "cell_type": "raw",
   "id": "1b21c3b6-b09e-4269-bb3a-b0e62d762fea",
   "metadata": {},
   "source": [
    "---\n",
    "layout: post\n",
    "title: A coding assistant for genomic data analysis?\n",
    "description: \"AI coding assistants are getting very good. Would it be possible to create an AI assistant to support generation of code to analyse genomic data on malaria mosquitoes?\"\n",
    "---\n",
    "{% raw %}"
   ]
  },
  {
   "cell_type": "code",
   "execution_count": 22,
   "id": "1c4038d6-4b6e-4a6f-b73b-2496d2ff9842",
   "metadata": {
    "tags": [
     "remove_input"
    ]
   },
   "outputs": [
    {
     "data": {
      "text/html": [
       "<script\n",
       "src=\"https://cdnjs.cloudflare.com/ajax/libs/require.js/2.3.7/require.min.js\"\n",
       "integrity=\"sha512-J5ha2LF4Le+PBQnI5+xAVJDR+sZG9uSgroy4n/A6TLjNkvYQbqZA8WHZdaOvJ0HiKkBC9Frmvs10rFDSHKmveQ==\"\n",
       "crossorigin=\"anonymous\"\n",
       "referrerpolicy=\"no-referrer\"></script>\n"
      ],
      "text/plain": [
       "<IPython.core.display.HTML object>"
      ]
     },
     "metadata": {},
     "output_type": "display_data"
    }
   ],
   "source": [
    "%%html\n",
    "<script\n",
    "src=\"https://cdnjs.cloudflare.com/ajax/libs/require.js/2.3.7/require.min.js\"\n",
    "integrity=\"sha512-J5ha2LF4Le+PBQnI5+xAVJDR+sZG9uSgroy4n/A6TLjNkvYQbqZA8WHZdaOvJ0HiKkBC9Frmvs10rFDSHKmveQ==\"\n",
    "crossorigin=\"anonymous\"\n",
    "referrerpolicy=\"no-referrer\"></script>"
   ]
  },
  {
   "cell_type": "code",
   "execution_count": 23,
   "id": "28d434b5-7e45-4ce7-bb55-9cc02e0afff2",
   "metadata": {
    "tags": [
     "remove_input"
    ]
   },
   "outputs": [],
   "source": [
    "import plotly.io as pio\n",
    "pio.renderers.default = \"notebook_connected+plotly_mimetype\""
   ]
  },
  {
   "cell_type": "markdown",
   "id": "26726f90-3fda-4aa8-bb24-84ce7c0112b7",
   "metadata": {},
   "source": [
    "Large genomic datasets like the [vector observatory](https://malariagen.net/vobs) can be difficult to analyse. To make analysing these data easier, we've created [analytical software](https://malariagen.github.io/malariagen-data-python/latest/) and an [online training course](https://anopheles-genomic-surveillance.github.io/), and these have definitely helped. But many potential users of these data are coming from a background without much experience of genomics or programming, and so coming up with the right code can still be a challenge.\n",
    "\n",
    "AI coding assistants are getting very good. E.g., I recently saw a talk and paper by Josh Proctor on [using an LLM to generate disease modelling code](https://www.medrxiv.org/content/10.1101/2024.07.17.24310520v1) which performed scarily well. Would it be possible to create a specialised AI assistant to support generation of code to analyse genomic data on malaria mosquitoes?"
   ]
  },
  {
   "cell_type": "markdown",
   "id": "63845c7c-7b87-4cf4-b116-730ac132dd3b",
   "metadata": {},
   "source": [
    "## Use case: investigating insecticide resistance\n",
    "\n",
    "Consider a use case where an analyst would like to investigate evidence for insecticide resistance in mosquito populations within a country of interest. Assume the analyst has good knowledge of vector biology but patchy knowledge of genomics and the molecular biology of insecticide resistance. Assume the analyst has completed [basic training in vector genomics data analysis](https://anopheles-genomic-surveillance.github.io/) but is not an experienced programmer and finds writing data analysis code challenging."
   ]
  },
  {
   "cell_type": "markdown",
   "id": "04161f39-1d1d-4782-be83-542a081d4ca4",
   "metadata": {},
   "source": [
    "## Prompt refinement\n",
    "\n",
    "Typically an analyst might start with a relatively broad question like, \"Is there resistance to pyrethroid insecticides in Uganda?\" But there are multiple possible mechanisms of pyrethroid resistance that need to be considered, and there are also multiple species of malaria vector present in Uganda. So this question is likely to need some refinement. If I were assisting this user, I would ask a series of questions to narrow down the focus, and to help the user become aware of the relevant data that are available. I would then be able to identify a smaller set of analysis function calls and parameter values that are relevant. \n",
    "\n",
    "Would it be possible to create a chatbot assistant to help with this refinement? E.g., here is a hypothetical conversation between a user and an assistant that would refine the scope of the initial question to reach a point where code generation would be easier:\n",
    "\n",
    "<table style=\"width: 100%; font-size: 1.1em; font-style: italic;\">\n",
    "    <colgroup>\n",
    "       <col span=\"1\" style=\"width: 50%;\">\n",
    "       <col span=\"1\" style=\"width: 50%;\">\n",
    "    </colgroup>\n",
    "    <thead>\n",
    "        <tr>\n",
    "            <th style=\"text-align: left;\">User</th>\n",
    "            <th style=\"text-align: left;\">Assistant</th>\n",
    "        </tr>\n",
    "    </thead>\n",
    "    <tbody>\n",
    "        <tr>\n",
    "            <td>\n",
    "<p>Is there resistance to pyrethroid insecticides in Uganda?</p> \n",
    "            </td>\n",
    "            <td></td>\n",
    "        </tr>\n",
    "        <tr>\n",
    "            <td></td>\n",
    "            <td>\n",
    "<p>Which mosquito species are you interested in?</p>\n",
    "<p>In Uganda there are data available for <em>Anopheles gambiae</em>, <em>Anopheles arabiensis</em> and <em>Anopheles funestus</em>.</p>\n",
    "            </td>\n",
    "        </tr>\n",
    "        <tr>\n",
    "            <td>\n",
    "<p>Anopheles gambiae.</p>\n",
    "            </td>\n",
    "            <td></td>            \n",
    "        </tr>\n",
    "        <tr>\n",
    "            <td></td>\n",
    "            <td>\n",
    "<p>Which molecular mechanism of pyrethroid resistance are you interested in?</p>\n",
    "<p>E.g., target-site resistance, Cyp-mediated metabolic resistance, or other resistance mechanisms?</p>\n",
    "            </td>            \n",
    "        </tr>\n",
    "        <tr>\n",
    "            <td>\n",
    "<p>Cyp-mediated metabolic resistance.</p>\n",
    "            </td>\n",
    "            <td></td>            \n",
    "        </tr>\n",
    "    </tbody>\n",
    "</table>"
   ]
  },
  {
   "cell_type": "markdown",
   "id": "afa97235-dc65-4968-a63b-32f04b527f7d",
   "metadata": {},
   "source": [
    "## Code generation\n",
    "\n",
    "If we can get to this point, we probably have just enough information to start suggesting some code. E.g., we know that copy number amplification of *Cyp* genes has been associated with pyrethroid resistance. If I were assisting the analyst, I might suggest to try analysing CNV frequencies at a selection of *Cyp* genes which have been previously linked to pyrethroid resistance. Here is some code which sets up an API to access data on the *Anopheles gambiae* complex, then uses two function calls to compute and then visualise gene CNV frequencies in Uganda, grouping mosquitoes by year and level one administrative units."
   ]
  },
  {
   "cell_type": "code",
   "execution_count": 12,
   "id": "628e72d5-1220-4738-b98e-5bc9e9296c30",
   "metadata": {
    "tags": []
   },
   "outputs": [
    {
     "data": {
      "application/javascript": [
       "'use strict';\n",
       "(function(root) {\n",
       "  function now() {\n",
       "    return new Date();\n",
       "  }\n",
       "\n",
       "  const force = true;\n",
       "\n",
       "  if (typeof root._bokeh_onload_callbacks === \"undefined\" || force === true) {\n",
       "    root._bokeh_onload_callbacks = [];\n",
       "    root._bokeh_is_loading = undefined;\n",
       "  }\n",
       "\n",
       "const JS_MIME_TYPE = 'application/javascript';\n",
       "  const HTML_MIME_TYPE = 'text/html';\n",
       "  const EXEC_MIME_TYPE = 'application/vnd.bokehjs_exec.v0+json';\n",
       "  const CLASS_NAME = 'output_bokeh rendered_html';\n",
       "\n",
       "  /**\n",
       "   * Render data to the DOM node\n",
       "   */\n",
       "  function render(props, node) {\n",
       "    const script = document.createElement(\"script\");\n",
       "    node.appendChild(script);\n",
       "  }\n",
       "\n",
       "  /**\n",
       "   * Handle when an output is cleared or removed\n",
       "   */\n",
       "  function handleClearOutput(event, handle) {\n",
       "    function drop(id) {\n",
       "      const view = Bokeh.index.get_by_id(id)\n",
       "      if (view != null) {\n",
       "        view.model.document.clear()\n",
       "        Bokeh.index.delete(view)\n",
       "      }\n",
       "    }\n",
       "\n",
       "    const cell = handle.cell;\n",
       "\n",
       "    const id = cell.output_area._bokeh_element_id;\n",
       "    const server_id = cell.output_area._bokeh_server_id;\n",
       "\n",
       "    // Clean up Bokeh references\n",
       "    if (id != null) {\n",
       "      drop(id)\n",
       "    }\n",
       "\n",
       "    if (server_id !== undefined) {\n",
       "      // Clean up Bokeh references\n",
       "      const cmd_clean = \"from bokeh.io.state import curstate; print(curstate().uuid_to_server['\" + server_id + \"'].get_sessions()[0].document.roots[0]._id)\";\n",
       "      cell.notebook.kernel.execute(cmd_clean, {\n",
       "        iopub: {\n",
       "          output: function(msg) {\n",
       "            const id = msg.content.text.trim()\n",
       "            drop(id)\n",
       "          }\n",
       "        }\n",
       "      });\n",
       "      // Destroy server and session\n",
       "      const cmd_destroy = \"import bokeh.io.notebook as ion; ion.destroy_server('\" + server_id + \"')\";\n",
       "      cell.notebook.kernel.execute(cmd_destroy);\n",
       "    }\n",
       "  }\n",
       "\n",
       "  /**\n",
       "   * Handle when a new output is added\n",
       "   */\n",
       "  function handleAddOutput(event, handle) {\n",
       "    const output_area = handle.output_area;\n",
       "    const output = handle.output;\n",
       "\n",
       "    // limit handleAddOutput to display_data with EXEC_MIME_TYPE content only\n",
       "    if ((output.output_type != \"display_data\") || (!Object.prototype.hasOwnProperty.call(output.data, EXEC_MIME_TYPE))) {\n",
       "      return\n",
       "    }\n",
       "\n",
       "    const toinsert = output_area.element.find(\".\" + CLASS_NAME.split(' ')[0]);\n",
       "\n",
       "    if (output.metadata[EXEC_MIME_TYPE][\"id\"] !== undefined) {\n",
       "      toinsert[toinsert.length - 1].firstChild.textContent = output.data[JS_MIME_TYPE];\n",
       "      // store reference to embed id on output_area\n",
       "      output_area._bokeh_element_id = output.metadata[EXEC_MIME_TYPE][\"id\"];\n",
       "    }\n",
       "    if (output.metadata[EXEC_MIME_TYPE][\"server_id\"] !== undefined) {\n",
       "      const bk_div = document.createElement(\"div\");\n",
       "      bk_div.innerHTML = output.data[HTML_MIME_TYPE];\n",
       "      const script_attrs = bk_div.children[0].attributes;\n",
       "      for (let i = 0; i < script_attrs.length; i++) {\n",
       "        toinsert[toinsert.length - 1].firstChild.setAttribute(script_attrs[i].name, script_attrs[i].value);\n",
       "        toinsert[toinsert.length - 1].firstChild.textContent = bk_div.children[0].textContent\n",
       "      }\n",
       "      // store reference to server id on output_area\n",
       "      output_area._bokeh_server_id = output.metadata[EXEC_MIME_TYPE][\"server_id\"];\n",
       "    }\n",
       "  }\n",
       "\n",
       "  function register_renderer(events, OutputArea) {\n",
       "\n",
       "    function append_mime(data, metadata, element) {\n",
       "      // create a DOM node to render to\n",
       "      const toinsert = this.create_output_subarea(\n",
       "        metadata,\n",
       "        CLASS_NAME,\n",
       "        EXEC_MIME_TYPE\n",
       "      );\n",
       "      this.keyboard_manager.register_events(toinsert);\n",
       "      // Render to node\n",
       "      const props = {data: data, metadata: metadata[EXEC_MIME_TYPE]};\n",
       "      render(props, toinsert[toinsert.length - 1]);\n",
       "      element.append(toinsert);\n",
       "      return toinsert\n",
       "    }\n",
       "\n",
       "    /* Handle when an output is cleared or removed */\n",
       "    events.on('clear_output.CodeCell', handleClearOutput);\n",
       "    events.on('delete.Cell', handleClearOutput);\n",
       "\n",
       "    /* Handle when a new output is added */\n",
       "    events.on('output_added.OutputArea', handleAddOutput);\n",
       "\n",
       "    /**\n",
       "     * Register the mime type and append_mime function with output_area\n",
       "     */\n",
       "    OutputArea.prototype.register_mime_type(EXEC_MIME_TYPE, append_mime, {\n",
       "      /* Is output safe? */\n",
       "      safe: true,\n",
       "      /* Index of renderer in `output_area.display_order` */\n",
       "      index: 0\n",
       "    });\n",
       "  }\n",
       "\n",
       "  // register the mime type if in Jupyter Notebook environment and previously unregistered\n",
       "  if (root.Jupyter !== undefined) {\n",
       "    const events = require('base/js/events');\n",
       "    const OutputArea = require('notebook/js/outputarea').OutputArea;\n",
       "\n",
       "    if (OutputArea.prototype.mime_types().indexOf(EXEC_MIME_TYPE) == -1) {\n",
       "      register_renderer(events, OutputArea);\n",
       "    }\n",
       "  }\n",
       "  if (typeof (root._bokeh_timeout) === \"undefined\" || force === true) {\n",
       "    root._bokeh_timeout = Date.now() + 5000;\n",
       "    root._bokeh_failed_load = false;\n",
       "  }\n",
       "\n",
       "  const NB_LOAD_WARNING = {'data': {'text/html':\n",
       "     \"<div style='background-color: #fdd'>\\n\"+\n",
       "     \"<p>\\n\"+\n",
       "     \"BokehJS does not appear to have successfully loaded. If loading BokehJS from CDN, this \\n\"+\n",
       "     \"may be due to a slow or bad network connection. Possible fixes:\\n\"+\n",
       "     \"</p>\\n\"+\n",
       "     \"<ul>\\n\"+\n",
       "     \"<li>re-rerun `output_notebook()` to attempt to load from CDN again, or</li>\\n\"+\n",
       "     \"<li>use INLINE resources instead, as so:</li>\\n\"+\n",
       "     \"</ul>\\n\"+\n",
       "     \"<code>\\n\"+\n",
       "     \"from bokeh.resources import INLINE\\n\"+\n",
       "     \"output_notebook(resources=INLINE)\\n\"+\n",
       "     \"</code>\\n\"+\n",
       "     \"</div>\"}};\n",
       "\n",
       "  function display_loaded(error = null) {\n",
       "    const el = document.getElementById(null);\n",
       "    if (el != null) {\n",
       "      const html = (() => {\n",
       "        if (typeof root.Bokeh === \"undefined\") {\n",
       "          if (error == null) {\n",
       "            return \"BokehJS is loading ...\";\n",
       "          } else {\n",
       "            return \"BokehJS failed to load.\";\n",
       "          }\n",
       "        } else {\n",
       "          const prefix = `BokehJS ${root.Bokeh.version}`;\n",
       "          if (error == null) {\n",
       "            return `${prefix} successfully loaded.`;\n",
       "          } else {\n",
       "            return `${prefix} <b>encountered errors</b> while loading and may not function as expected.`;\n",
       "          }\n",
       "        }\n",
       "      })();\n",
       "      el.innerHTML = html;\n",
       "\n",
       "      if (error != null) {\n",
       "        const wrapper = document.createElement(\"div\");\n",
       "        wrapper.style.overflow = \"auto\";\n",
       "        wrapper.style.height = \"5em\";\n",
       "        wrapper.style.resize = \"vertical\";\n",
       "        const content = document.createElement(\"div\");\n",
       "        content.style.fontFamily = \"monospace\";\n",
       "        content.style.whiteSpace = \"pre-wrap\";\n",
       "        content.style.backgroundColor = \"rgb(255, 221, 221)\";\n",
       "        content.textContent = error.stack ?? error.toString();\n",
       "        wrapper.append(content);\n",
       "        el.append(wrapper);\n",
       "      }\n",
       "    } else if (Date.now() < root._bokeh_timeout) {\n",
       "      setTimeout(() => display_loaded(error), 100);\n",
       "    }\n",
       "  }\n",
       "\n",
       "  function run_callbacks() {\n",
       "    try {\n",
       "      root._bokeh_onload_callbacks.forEach(function(callback) {\n",
       "        if (callback != null)\n",
       "          callback();\n",
       "      });\n",
       "    } finally {\n",
       "      delete root._bokeh_onload_callbacks\n",
       "    }\n",
       "    console.debug(\"Bokeh: all callbacks have finished\");\n",
       "  }\n",
       "\n",
       "  function load_libs(css_urls, js_urls, callback) {\n",
       "    if (css_urls == null) css_urls = [];\n",
       "    if (js_urls == null) js_urls = [];\n",
       "\n",
       "    root._bokeh_onload_callbacks.push(callback);\n",
       "    if (root._bokeh_is_loading > 0) {\n",
       "      console.debug(\"Bokeh: BokehJS is being loaded, scheduling callback at\", now());\n",
       "      return null;\n",
       "    }\n",
       "    if (js_urls == null || js_urls.length === 0) {\n",
       "      run_callbacks();\n",
       "      return null;\n",
       "    }\n",
       "    console.debug(\"Bokeh: BokehJS not loaded, scheduling load and callback at\", now());\n",
       "    root._bokeh_is_loading = css_urls.length + js_urls.length;\n",
       "\n",
       "    function on_load() {\n",
       "      root._bokeh_is_loading--;\n",
       "      if (root._bokeh_is_loading === 0) {\n",
       "        console.debug(\"Bokeh: all BokehJS libraries/stylesheets loaded\");\n",
       "        run_callbacks()\n",
       "      }\n",
       "    }\n",
       "\n",
       "    function on_error(url) {\n",
       "      console.error(\"failed to load \" + url);\n",
       "    }\n",
       "\n",
       "    for (let i = 0; i < css_urls.length; i++) {\n",
       "      const url = css_urls[i];\n",
       "      const element = document.createElement(\"link\");\n",
       "      element.onload = on_load;\n",
       "      element.onerror = on_error.bind(null, url);\n",
       "      element.rel = \"stylesheet\";\n",
       "      element.type = \"text/css\";\n",
       "      element.href = url;\n",
       "      console.debug(\"Bokeh: injecting link tag for BokehJS stylesheet: \", url);\n",
       "      document.body.appendChild(element);\n",
       "    }\n",
       "\n",
       "    for (let i = 0; i < js_urls.length; i++) {\n",
       "      const url = js_urls[i];\n",
       "      const element = document.createElement('script');\n",
       "      element.onload = on_load;\n",
       "      element.onerror = on_error.bind(null, url);\n",
       "      element.async = false;\n",
       "      element.src = url;\n",
       "      console.debug(\"Bokeh: injecting script tag for BokehJS library: \", url);\n",
       "      document.head.appendChild(element);\n",
       "    }\n",
       "  };\n",
       "\n",
       "  function inject_raw_css(css) {\n",
       "    const element = document.createElement(\"style\");\n",
       "    element.appendChild(document.createTextNode(css));\n",
       "    document.body.appendChild(element);\n",
       "  }\n",
       "\n",
       "  const js_urls = [\"https://cdn.bokeh.org/bokeh/release/bokeh-3.6.1.min.js\", \"https://cdn.bokeh.org/bokeh/release/bokeh-gl-3.6.1.min.js\", \"https://cdn.bokeh.org/bokeh/release/bokeh-widgets-3.6.1.min.js\", \"https://cdn.bokeh.org/bokeh/release/bokeh-tables-3.6.1.min.js\", \"https://cdn.bokeh.org/bokeh/release/bokeh-mathjax-3.6.1.min.js\"];\n",
       "  const css_urls = [];\n",
       "\n",
       "  const inline_js = [    function(Bokeh) {\n",
       "      Bokeh.set_log_level(\"info\");\n",
       "    },\n",
       "function(Bokeh) {\n",
       "    }\n",
       "  ];\n",
       "\n",
       "  function run_inline_js() {\n",
       "    if (root.Bokeh !== undefined || force === true) {\n",
       "      try {\n",
       "            for (let i = 0; i < inline_js.length; i++) {\n",
       "      inline_js[i].call(root, root.Bokeh);\n",
       "    }\n",
       "\n",
       "      } catch (error) {throw error;\n",
       "      }} else if (Date.now() < root._bokeh_timeout) {\n",
       "      setTimeout(run_inline_js, 100);\n",
       "    } else if (!root._bokeh_failed_load) {\n",
       "      console.log(\"Bokeh: BokehJS failed to load within specified timeout.\");\n",
       "      root._bokeh_failed_load = true;\n",
       "    } else if (force !== true) {\n",
       "      const cell = $(document.getElementById(null)).parents('.cell').data().cell;\n",
       "      cell.output_area.append_execute_result(NB_LOAD_WARNING)\n",
       "    }\n",
       "  }\n",
       "\n",
       "  if (root._bokeh_is_loading === 0) {\n",
       "    console.debug(\"Bokeh: BokehJS loaded, going straight to plotting\");\n",
       "    run_inline_js();\n",
       "  } else {\n",
       "    load_libs(css_urls, js_urls, function() {\n",
       "      console.debug(\"Bokeh: BokehJS plotting callback run at\", now());\n",
       "      run_inline_js();\n",
       "    });\n",
       "  }\n",
       "}(window));"
      ],
      "application/vnd.bokehjs_load.v0+json": "'use strict';\n(function(root) {\n  function now() {\n    return new Date();\n  }\n\n  const force = true;\n\n  if (typeof root._bokeh_onload_callbacks === \"undefined\" || force === true) {\n    root._bokeh_onload_callbacks = [];\n    root._bokeh_is_loading = undefined;\n  }\n\n\n  if (typeof (root._bokeh_timeout) === \"undefined\" || force === true) {\n    root._bokeh_timeout = Date.now() + 5000;\n    root._bokeh_failed_load = false;\n  }\n\n  const NB_LOAD_WARNING = {'data': {'text/html':\n     \"<div style='background-color: #fdd'>\\n\"+\n     \"<p>\\n\"+\n     \"BokehJS does not appear to have successfully loaded. If loading BokehJS from CDN, this \\n\"+\n     \"may be due to a slow or bad network connection. Possible fixes:\\n\"+\n     \"</p>\\n\"+\n     \"<ul>\\n\"+\n     \"<li>re-rerun `output_notebook()` to attempt to load from CDN again, or</li>\\n\"+\n     \"<li>use INLINE resources instead, as so:</li>\\n\"+\n     \"</ul>\\n\"+\n     \"<code>\\n\"+\n     \"from bokeh.resources import INLINE\\n\"+\n     \"output_notebook(resources=INLINE)\\n\"+\n     \"</code>\\n\"+\n     \"</div>\"}};\n\n  function display_loaded(error = null) {\n    const el = document.getElementById(null);\n    if (el != null) {\n      const html = (() => {\n        if (typeof root.Bokeh === \"undefined\") {\n          if (error == null) {\n            return \"BokehJS is loading ...\";\n          } else {\n            return \"BokehJS failed to load.\";\n          }\n        } else {\n          const prefix = `BokehJS ${root.Bokeh.version}`;\n          if (error == null) {\n            return `${prefix} successfully loaded.`;\n          } else {\n            return `${prefix} <b>encountered errors</b> while loading and may not function as expected.`;\n          }\n        }\n      })();\n      el.innerHTML = html;\n\n      if (error != null) {\n        const wrapper = document.createElement(\"div\");\n        wrapper.style.overflow = \"auto\";\n        wrapper.style.height = \"5em\";\n        wrapper.style.resize = \"vertical\";\n        const content = document.createElement(\"div\");\n        content.style.fontFamily = \"monospace\";\n        content.style.whiteSpace = \"pre-wrap\";\n        content.style.backgroundColor = \"rgb(255, 221, 221)\";\n        content.textContent = error.stack ?? error.toString();\n        wrapper.append(content);\n        el.append(wrapper);\n      }\n    } else if (Date.now() < root._bokeh_timeout) {\n      setTimeout(() => display_loaded(error), 100);\n    }\n  }\n\n  function run_callbacks() {\n    try {\n      root._bokeh_onload_callbacks.forEach(function(callback) {\n        if (callback != null)\n          callback();\n      });\n    } finally {\n      delete root._bokeh_onload_callbacks\n    }\n    console.debug(\"Bokeh: all callbacks have finished\");\n  }\n\n  function load_libs(css_urls, js_urls, callback) {\n    if (css_urls == null) css_urls = [];\n    if (js_urls == null) js_urls = [];\n\n    root._bokeh_onload_callbacks.push(callback);\n    if (root._bokeh_is_loading > 0) {\n      console.debug(\"Bokeh: BokehJS is being loaded, scheduling callback at\", now());\n      return null;\n    }\n    if (js_urls == null || js_urls.length === 0) {\n      run_callbacks();\n      return null;\n    }\n    console.debug(\"Bokeh: BokehJS not loaded, scheduling load and callback at\", now());\n    root._bokeh_is_loading = css_urls.length + js_urls.length;\n\n    function on_load() {\n      root._bokeh_is_loading--;\n      if (root._bokeh_is_loading === 0) {\n        console.debug(\"Bokeh: all BokehJS libraries/stylesheets loaded\");\n        run_callbacks()\n      }\n    }\n\n    function on_error(url) {\n      console.error(\"failed to load \" + url);\n    }\n\n    for (let i = 0; i < css_urls.length; i++) {\n      const url = css_urls[i];\n      const element = document.createElement(\"link\");\n      element.onload = on_load;\n      element.onerror = on_error.bind(null, url);\n      element.rel = \"stylesheet\";\n      element.type = \"text/css\";\n      element.href = url;\n      console.debug(\"Bokeh: injecting link tag for BokehJS stylesheet: \", url);\n      document.body.appendChild(element);\n    }\n\n    for (let i = 0; i < js_urls.length; i++) {\n      const url = js_urls[i];\n      const element = document.createElement('script');\n      element.onload = on_load;\n      element.onerror = on_error.bind(null, url);\n      element.async = false;\n      element.src = url;\n      console.debug(\"Bokeh: injecting script tag for BokehJS library: \", url);\n      document.head.appendChild(element);\n    }\n  };\n\n  function inject_raw_css(css) {\n    const element = document.createElement(\"style\");\n    element.appendChild(document.createTextNode(css));\n    document.body.appendChild(element);\n  }\n\n  const js_urls = [\"https://cdn.bokeh.org/bokeh/release/bokeh-3.6.1.min.js\", \"https://cdn.bokeh.org/bokeh/release/bokeh-gl-3.6.1.min.js\", \"https://cdn.bokeh.org/bokeh/release/bokeh-widgets-3.6.1.min.js\", \"https://cdn.bokeh.org/bokeh/release/bokeh-tables-3.6.1.min.js\", \"https://cdn.bokeh.org/bokeh/release/bokeh-mathjax-3.6.1.min.js\"];\n  const css_urls = [];\n\n  const inline_js = [    function(Bokeh) {\n      Bokeh.set_log_level(\"info\");\n    },\nfunction(Bokeh) {\n    }\n  ];\n\n  function run_inline_js() {\n    if (root.Bokeh !== undefined || force === true) {\n      try {\n            for (let i = 0; i < inline_js.length; i++) {\n      inline_js[i].call(root, root.Bokeh);\n    }\n\n      } catch (error) {throw error;\n      }} else if (Date.now() < root._bokeh_timeout) {\n      setTimeout(run_inline_js, 100);\n    } else if (!root._bokeh_failed_load) {\n      console.log(\"Bokeh: BokehJS failed to load within specified timeout.\");\n      root._bokeh_failed_load = true;\n    } else if (force !== true) {\n      const cell = $(document.getElementById(null)).parents('.cell').data().cell;\n      cell.output_area.append_execute_result(NB_LOAD_WARNING)\n    }\n  }\n\n  if (root._bokeh_is_loading === 0) {\n    console.debug(\"Bokeh: BokehJS loaded, going straight to plotting\");\n    run_inline_js();\n  } else {\n    load_libs(css_urls, js_urls, function() {\n      console.debug(\"Bokeh: BokehJS plotting callback run at\", now());\n      run_inline_js();\n    });\n  }\n}(window));"
     },
     "metadata": {},
     "output_type": "display_data"
    }
   ],
   "source": [
    "# Set up the API to access data from the Anopheles gambiae complex.\n",
    "import malariagen_data\n",
    "ag3 = malariagen_data.Ag3()"
   ]
  },
  {
   "cell_type": "code",
   "execution_count": 13,
   "id": "9225ae24-14b4-46de-a895-6276beb69f17",
   "metadata": {
    "tags": []
   },
   "outputs": [],
   "source": [
    "# Define genes of interest.\n",
    "interesting_cyp_genes = [\n",
    "    \"AGAP002862\",  # Cyp6aa1\n",
    "    \"AGAP013128\",  # Cyp6aa2\n",
    "    \"AGAP002865\",  # Cyp6p3\n",
    "    \"AGAP000818\",  # Cyp9k1\n",
    "    \"AGAP008212\",  # Cyp6m2\n",
    "    \"AGAP008218\",  # Cyp6z2    \n",
    "]"
   ]
  },
  {
   "cell_type": "code",
   "execution_count": 15,
   "id": "1fb200b3-2ea4-41ff-adff-e448e83130cf",
   "metadata": {
    "tags": [
     "remove_output"
    ]
   },
   "outputs": [
    {
     "name": "stdout",
     "output_type": "stream",
     "text": [
      "                                     \r"
     ]
    },
    {
     "data": {
      "application/vnd.jupyter.widget-view+json": {
       "model_id": "",
       "version_major": 2,
       "version_minor": 0
      },
      "text/plain": [
       "Load CNV HMM data:   0%|          | 0/1360 [00:00<?, ?it/s]"
      ]
     },
     "metadata": {},
     "output_type": "display_data"
    },
    {
     "name": "stdout",
     "output_type": "stream",
     "text": [
      "                                     \r"
     ]
    },
    {
     "data": {
      "application/vnd.jupyter.widget-view+json": {
       "model_id": "",
       "version_major": 2,
       "version_minor": 0
      },
      "text/plain": [
       "Compute modal gene copy number:   0%|          | 0/2 [00:00<?, ?it/s]"
      ]
     },
     "metadata": {},
     "output_type": "display_data"
    },
    {
     "name": "stdout",
     "output_type": "stream",
     "text": []
    },
    {
     "name": "stdout",
     "output_type": "stream",
     "text": [
      "                                    \r"
     ]
    },
    {
     "data": {
      "application/vnd.jupyter.widget-view+json": {
       "model_id": "",
       "version_major": 2,
       "version_minor": 0
      },
      "text/plain": [
       "Load CNV HMM data:   0%|          | 0/1360 [00:00<?, ?it/s]"
      ]
     },
     "metadata": {},
     "output_type": "display_data"
    },
    {
     "name": "stdout",
     "output_type": "stream",
     "text": [
      "                                     \r"
     ]
    },
    {
     "data": {
      "application/vnd.jupyter.widget-view+json": {
       "model_id": "",
       "version_major": 2,
       "version_minor": 0
      },
      "text/plain": [
       "Compute modal gene copy number:   0%|          | 0/2 [00:00<?, ?it/s]"
      ]
     },
     "metadata": {},
     "output_type": "display_data"
    },
    {
     "name": "stdout",
     "output_type": "stream",
     "text": [
      "                                    \r"
     ]
    },
    {
     "data": {
      "application/vnd.jupyter.widget-view+json": {
       "model_id": "",
       "version_major": 2,
       "version_minor": 0
      },
      "text/plain": [
       "Load CNV HMM data:   0%|          | 0/1360 [00:00<?, ?it/s]"
      ]
     },
     "metadata": {},
     "output_type": "display_data"
    },
    {
     "name": "stdout",
     "output_type": "stream",
     "text": [
      "                                     \r"
     ]
    },
    {
     "data": {
      "application/vnd.jupyter.widget-view+json": {
       "model_id": "",
       "version_major": 2,
       "version_minor": 0
      },
      "text/plain": [
       "Compute modal gene copy number:   0%|          | 0/2 [00:00<?, ?it/s]"
      ]
     },
     "metadata": {},
     "output_type": "display_data"
    },
    {
     "name": "stdout",
     "output_type": "stream",
     "text": []
    },
    {
     "name": "stdout",
     "output_type": "stream",
     "text": [
      "                                    \r"
     ]
    },
    {
     "data": {
      "application/vnd.jupyter.widget-view+json": {
       "model_id": "",
       "version_major": 2,
       "version_minor": 0
      },
      "text/plain": [
       "Load CNV HMM data:   0%|          | 0/680 [00:00<?, ?it/s]"
      ]
     },
     "metadata": {},
     "output_type": "display_data"
    },
    {
     "name": "stdout",
     "output_type": "stream",
     "text": [
      "                                     \r"
     ]
    },
    {
     "data": {
      "application/vnd.jupyter.widget-view+json": {
       "model_id": "",
       "version_major": 2,
       "version_minor": 0
      },
      "text/plain": [
       "Compute modal gene copy number:   0%|          | 0/1 [00:00<?, ?it/s]"
      ]
     },
     "metadata": {},
     "output_type": "display_data"
    },
    {
     "name": "stdout",
     "output_type": "stream",
     "text": []
    },
    {
     "name": "stdout",
     "output_type": "stream",
     "text": [
      "                                    \r"
     ]
    },
    {
     "data": {
      "application/vnd.jupyter.widget-view+json": {
       "model_id": "",
       "version_major": 2,
       "version_minor": 0
      },
      "text/plain": [
       "Load CNV HMM data:   0%|          | 0/1020 [00:00<?, ?it/s]"
      ]
     },
     "metadata": {},
     "output_type": "display_data"
    },
    {
     "name": "stdout",
     "output_type": "stream",
     "text": []
    },
    {
     "name": "stdout",
     "output_type": "stream",
     "text": [
      "                                     \r"
     ]
    },
    {
     "data": {
      "application/vnd.jupyter.widget-view+json": {
       "model_id": "",
       "version_major": 2,
       "version_minor": 0
      },
      "text/plain": [
       "Compute modal gene copy number:   0%|          | 0/1 [00:00<?, ?it/s]"
      ]
     },
     "metadata": {},
     "output_type": "display_data"
    },
    {
     "name": "stdout",
     "output_type": "stream",
     "text": []
    },
    {
     "name": "stdout",
     "output_type": "stream",
     "text": [
      "                                    \r"
     ]
    },
    {
     "data": {
      "application/vnd.jupyter.widget-view+json": {
       "model_id": "",
       "version_major": 2,
       "version_minor": 0
      },
      "text/plain": [
       "Load CNV HMM data:   0%|          | 0/1020 [00:00<?, ?it/s]"
      ]
     },
     "metadata": {},
     "output_type": "display_data"
    },
    {
     "name": "stdout",
     "output_type": "stream",
     "text": [
      "                                     \r"
     ]
    },
    {
     "data": {
      "application/vnd.jupyter.widget-view+json": {
       "model_id": "",
       "version_major": 2,
       "version_minor": 0
      },
      "text/plain": [
       "Compute modal gene copy number:   0%|          | 0/1 [00:00<?, ?it/s]"
      ]
     },
     "metadata": {},
     "output_type": "display_data"
    }
   ],
   "source": [
    "# Compute gene CNV frequencies.\n",
    "df_cyp_cnv_frq = ag3.gene_cnv_frequencies(\n",
    "    region=interesting_cyp_genes,\n",
    "    sample_query=\"country == 'Uganda' and taxon == 'gambiae'\",\n",
    "    cohorts=\"admin1_year\",\n",
    ")"
   ]
  },
  {
   "cell_type": "code",
   "execution_count": 24,
   "id": "86338a7a-6395-4c49-891a-123093321023",
   "metadata": {
    "tags": []
   },
   "outputs": [
    {
     "data": {
      "text/html": [
       "        <script type=\"text/javascript\">\n",
       "        window.PlotlyConfig = {MathJaxConfig: 'local'};\n",
       "        if (window.MathJax && window.MathJax.Hub && window.MathJax.Hub.Config) {window.MathJax.Hub.Config({SVG: {font: \"STIX-Web\"}});}\n",
       "        if (typeof require !== 'undefined') {\n",
       "        require.undef(\"plotly\");\n",
       "        requirejs.config({\n",
       "            paths: {\n",
       "                'plotly': ['https://cdn.plot.ly/plotly-2.35.2.min']\n",
       "            }\n",
       "        });\n",
       "        require(['plotly'], function(Plotly) {\n",
       "            window._Plotly = Plotly;\n",
       "        });\n",
       "        }\n",
       "        </script>\n",
       "        "
      ]
     },
     "metadata": {},
     "output_type": "display_data"
    },
    {
     "data": {
      "application/vnd.plotly.v1+json": {
       "config": {
        "plotlyServerURL": "https://plot.ly"
       },
       "data": [
        {
         "coloraxis": "coloraxis",
         "hovertemplate": "x: %{x}<br>label: %{y}<br>color: %{z}<extra></extra>",
         "name": "0",
         "texttemplate": "%{z:.0%}",
         "type": "heatmap",
         "x": [
          "UG-C_gamb_2013",
          "UG-C_gamb_2014",
          "UG-C_gamb_2015",
          "UG-C_gamb_2016",
          "UG-C_gamb_2017",
          "UG-C_gamb_2018",
          "UG-E_gamb_2012",
          "UG-E_gamb_2016",
          "UG-E_gamb_2017",
          "UG-E_gamb_2018",
          "UG-E_gamb_2019",
          "UG-W_gamb_2012",
          "UG-W_gamb_2017",
          "UG-W_gamb_2018",
          "UG-W_gamb_2019"
         ],
         "xaxis": "x",
         "y": [
          "AGAP002862 (CYP6AA1) amp",
          "AGAP013128 (CYP6AA2) amp",
          "AGAP002865 (CYP6P3) amp",
          "AGAP000818 (CYP9K1) amp",
          "AGAP008212 (CYP6M2) amp",
          "AGAP008218 (CYP6Z2) amp",
          "AGAP008218 (CYP6Z2) del"
         ],
         "yaxis": "y",
         "z": [
          [
           0.15217391304347827,
           0.6853146853146853,
           0.7540983606557377,
           0.8217054263565892,
           0.9625668449197861,
           0.9873817034700315,
           0.6428571428571429,
           0.95,
           0.9574468085106383,
           0.9820627802690582,
           0.9889705882352942,
           0.2978723404255319,
           1,
           1,
           1
          ],
          [
           0,
           0.04195804195804196,
           0.03278688524590164,
           0.031007751937984496,
           0.0374331550802139,
           0.025236593059936908,
           0.07142857142857142,
           0.3,
           0.23404255319148937,
           0.04932735426008968,
           0.0661764705882353,
           0.0851063829787234,
           0.0851063829787234,
           0.07692307692307693,
           0.0380952380952381
          ],
          [
           0,
           0,
           0.01639344262295082,
           0.023255813953488372,
           0.0053475935828877,
           0.0031545741324921135,
           0.008928571428571428,
           0.15,
           0.0121580547112462,
           0,
           0,
           0.0425531914893617,
           0,
           0.07692307692307693,
           0
          ],
          [
           0.41304347826086957,
           0.5314685314685315,
           0.7158469945355191,
           0.7054263565891473,
           0.6203208556149733,
           0.7602523659305994,
           0.35714285714285715,
           0.35,
           0.48024316109422494,
           0.5515695067264574,
           0.5073529411764706,
           0.8404255319148937,
           0.9095744680851063,
           1,
           0.9238095238095239
          ],
          [
           0,
           0.006993006993006993,
           0,
           0,
           0.0106951871657754,
           0.006309148264984227,
           0,
           0,
           0.00911854103343465,
           0.013452914798206279,
           0.007352941176470588,
           0,
           0.015957446808510637,
           0,
           0
          ],
          [
           0.2391304347826087,
           0.1888111888111888,
           0.07103825136612021,
           0.09302325581395349,
           0.016042780748663103,
           0.022082018927444796,
           0.03571428571428571,
           0.05,
           0.030395136778115502,
           0.04035874439461883,
           0.04411764705882353,
           0.06382978723404255,
           0.05319148936170213,
           0,
           0.01904761904761905
          ],
          [
           0,
           0,
           0,
           0,
           0.016042780748663103,
           0.015772870662460567,
           0.05357142857142857,
           0,
           0.02735562310030395,
           0.026905829596412557,
           0.022058823529411766,
           0.010638297872340425,
           0.02127659574468085,
           0.07692307692307693,
           0.0380952380952381
          ]
         ]
        }
       ],
       "layout": {
        "coloraxis": {
         "cmax": 1,
         "cmin": 0,
         "colorbar": {
          "ticktext": [
           "0%",
           "20%",
           "40%",
           "60%",
           "80%",
           "100%"
          ],
          "tickvals": [
           0,
           0.2,
           0.4,
           0.6,
           0.8,
           1
          ],
          "title": {
           "text": "Frequency"
          }
         },
         "colorscale": [
          [
           0,
           "rgb(255,245,240)"
          ],
          [
           0.125,
           "rgb(254,224,210)"
          ],
          [
           0.25,
           "rgb(252,187,161)"
          ],
          [
           0.375,
           "rgb(252,146,114)"
          ],
          [
           0.5,
           "rgb(251,106,74)"
          ],
          [
           0.625,
           "rgb(239,59,44)"
          ],
          [
           0.75,
           "rgb(203,24,29)"
          ],
          [
           0.875,
           "rgb(165,15,21)"
          ],
          [
           1,
           "rgb(103,0,13)"
          ]
         ]
        },
        "height": 380,
        "template": {
         "data": {
          "bar": [
           {
            "error_x": {
             "color": "#2a3f5f"
            },
            "error_y": {
             "color": "#2a3f5f"
            },
            "marker": {
             "line": {
              "color": "#E5ECF6",
              "width": 0.5
             },
             "pattern": {
              "fillmode": "overlay",
              "size": 10,
              "solidity": 0.2
             }
            },
            "type": "bar"
           }
          ],
          "barpolar": [
           {
            "marker": {
             "line": {
              "color": "#E5ECF6",
              "width": 0.5
             },
             "pattern": {
              "fillmode": "overlay",
              "size": 10,
              "solidity": 0.2
             }
            },
            "type": "barpolar"
           }
          ],
          "carpet": [
           {
            "aaxis": {
             "endlinecolor": "#2a3f5f",
             "gridcolor": "white",
             "linecolor": "white",
             "minorgridcolor": "white",
             "startlinecolor": "#2a3f5f"
            },
            "baxis": {
             "endlinecolor": "#2a3f5f",
             "gridcolor": "white",
             "linecolor": "white",
             "minorgridcolor": "white",
             "startlinecolor": "#2a3f5f"
            },
            "type": "carpet"
           }
          ],
          "choropleth": [
           {
            "colorbar": {
             "outlinewidth": 0,
             "ticks": ""
            },
            "type": "choropleth"
           }
          ],
          "contour": [
           {
            "colorbar": {
             "outlinewidth": 0,
             "ticks": ""
            },
            "colorscale": [
             [
              0,
              "#0d0887"
             ],
             [
              0.1111111111111111,
              "#46039f"
             ],
             [
              0.2222222222222222,
              "#7201a8"
             ],
             [
              0.3333333333333333,
              "#9c179e"
             ],
             [
              0.4444444444444444,
              "#bd3786"
             ],
             [
              0.5555555555555556,
              "#d8576b"
             ],
             [
              0.6666666666666666,
              "#ed7953"
             ],
             [
              0.7777777777777778,
              "#fb9f3a"
             ],
             [
              0.8888888888888888,
              "#fdca26"
             ],
             [
              1,
              "#f0f921"
             ]
            ],
            "type": "contour"
           }
          ],
          "contourcarpet": [
           {
            "colorbar": {
             "outlinewidth": 0,
             "ticks": ""
            },
            "type": "contourcarpet"
           }
          ],
          "heatmap": [
           {
            "colorbar": {
             "outlinewidth": 0,
             "ticks": ""
            },
            "colorscale": [
             [
              0,
              "#0d0887"
             ],
             [
              0.1111111111111111,
              "#46039f"
             ],
             [
              0.2222222222222222,
              "#7201a8"
             ],
             [
              0.3333333333333333,
              "#9c179e"
             ],
             [
              0.4444444444444444,
              "#bd3786"
             ],
             [
              0.5555555555555556,
              "#d8576b"
             ],
             [
              0.6666666666666666,
              "#ed7953"
             ],
             [
              0.7777777777777778,
              "#fb9f3a"
             ],
             [
              0.8888888888888888,
              "#fdca26"
             ],
             [
              1,
              "#f0f921"
             ]
            ],
            "type": "heatmap"
           }
          ],
          "heatmapgl": [
           {
            "colorbar": {
             "outlinewidth": 0,
             "ticks": ""
            },
            "colorscale": [
             [
              0,
              "#0d0887"
             ],
             [
              0.1111111111111111,
              "#46039f"
             ],
             [
              0.2222222222222222,
              "#7201a8"
             ],
             [
              0.3333333333333333,
              "#9c179e"
             ],
             [
              0.4444444444444444,
              "#bd3786"
             ],
             [
              0.5555555555555556,
              "#d8576b"
             ],
             [
              0.6666666666666666,
              "#ed7953"
             ],
             [
              0.7777777777777778,
              "#fb9f3a"
             ],
             [
              0.8888888888888888,
              "#fdca26"
             ],
             [
              1,
              "#f0f921"
             ]
            ],
            "type": "heatmapgl"
           }
          ],
          "histogram": [
           {
            "marker": {
             "pattern": {
              "fillmode": "overlay",
              "size": 10,
              "solidity": 0.2
             }
            },
            "type": "histogram"
           }
          ],
          "histogram2d": [
           {
            "colorbar": {
             "outlinewidth": 0,
             "ticks": ""
            },
            "colorscale": [
             [
              0,
              "#0d0887"
             ],
             [
              0.1111111111111111,
              "#46039f"
             ],
             [
              0.2222222222222222,
              "#7201a8"
             ],
             [
              0.3333333333333333,
              "#9c179e"
             ],
             [
              0.4444444444444444,
              "#bd3786"
             ],
             [
              0.5555555555555556,
              "#d8576b"
             ],
             [
              0.6666666666666666,
              "#ed7953"
             ],
             [
              0.7777777777777778,
              "#fb9f3a"
             ],
             [
              0.8888888888888888,
              "#fdca26"
             ],
             [
              1,
              "#f0f921"
             ]
            ],
            "type": "histogram2d"
           }
          ],
          "histogram2dcontour": [
           {
            "colorbar": {
             "outlinewidth": 0,
             "ticks": ""
            },
            "colorscale": [
             [
              0,
              "#0d0887"
             ],
             [
              0.1111111111111111,
              "#46039f"
             ],
             [
              0.2222222222222222,
              "#7201a8"
             ],
             [
              0.3333333333333333,
              "#9c179e"
             ],
             [
              0.4444444444444444,
              "#bd3786"
             ],
             [
              0.5555555555555556,
              "#d8576b"
             ],
             [
              0.6666666666666666,
              "#ed7953"
             ],
             [
              0.7777777777777778,
              "#fb9f3a"
             ],
             [
              0.8888888888888888,
              "#fdca26"
             ],
             [
              1,
              "#f0f921"
             ]
            ],
            "type": "histogram2dcontour"
           }
          ],
          "mesh3d": [
           {
            "colorbar": {
             "outlinewidth": 0,
             "ticks": ""
            },
            "type": "mesh3d"
           }
          ],
          "parcoords": [
           {
            "line": {
             "colorbar": {
              "outlinewidth": 0,
              "ticks": ""
             }
            },
            "type": "parcoords"
           }
          ],
          "pie": [
           {
            "automargin": true,
            "type": "pie"
           }
          ],
          "scatter": [
           {
            "fillpattern": {
             "fillmode": "overlay",
             "size": 10,
             "solidity": 0.2
            },
            "type": "scatter"
           }
          ],
          "scatter3d": [
           {
            "line": {
             "colorbar": {
              "outlinewidth": 0,
              "ticks": ""
             }
            },
            "marker": {
             "colorbar": {
              "outlinewidth": 0,
              "ticks": ""
             }
            },
            "type": "scatter3d"
           }
          ],
          "scattercarpet": [
           {
            "marker": {
             "colorbar": {
              "outlinewidth": 0,
              "ticks": ""
             }
            },
            "type": "scattercarpet"
           }
          ],
          "scattergeo": [
           {
            "marker": {
             "colorbar": {
              "outlinewidth": 0,
              "ticks": ""
             }
            },
            "type": "scattergeo"
           }
          ],
          "scattergl": [
           {
            "marker": {
             "colorbar": {
              "outlinewidth": 0,
              "ticks": ""
             }
            },
            "type": "scattergl"
           }
          ],
          "scattermapbox": [
           {
            "marker": {
             "colorbar": {
              "outlinewidth": 0,
              "ticks": ""
             }
            },
            "type": "scattermapbox"
           }
          ],
          "scatterpolar": [
           {
            "marker": {
             "colorbar": {
              "outlinewidth": 0,
              "ticks": ""
             }
            },
            "type": "scatterpolar"
           }
          ],
          "scatterpolargl": [
           {
            "marker": {
             "colorbar": {
              "outlinewidth": 0,
              "ticks": ""
             }
            },
            "type": "scatterpolargl"
           }
          ],
          "scatterternary": [
           {
            "marker": {
             "colorbar": {
              "outlinewidth": 0,
              "ticks": ""
             }
            },
            "type": "scatterternary"
           }
          ],
          "surface": [
           {
            "colorbar": {
             "outlinewidth": 0,
             "ticks": ""
            },
            "colorscale": [
             [
              0,
              "#0d0887"
             ],
             [
              0.1111111111111111,
              "#46039f"
             ],
             [
              0.2222222222222222,
              "#7201a8"
             ],
             [
              0.3333333333333333,
              "#9c179e"
             ],
             [
              0.4444444444444444,
              "#bd3786"
             ],
             [
              0.5555555555555556,
              "#d8576b"
             ],
             [
              0.6666666666666666,
              "#ed7953"
             ],
             [
              0.7777777777777778,
              "#fb9f3a"
             ],
             [
              0.8888888888888888,
              "#fdca26"
             ],
             [
              1,
              "#f0f921"
             ]
            ],
            "type": "surface"
           }
          ],
          "table": [
           {
            "cells": {
             "fill": {
              "color": "#EBF0F8"
             },
             "line": {
              "color": "white"
             }
            },
            "header": {
             "fill": {
              "color": "#C8D4E3"
             },
             "line": {
              "color": "white"
             }
            },
            "type": "table"
           }
          ]
         },
         "layout": {
          "annotationdefaults": {
           "arrowcolor": "#2a3f5f",
           "arrowhead": 0,
           "arrowwidth": 1
          },
          "autotypenumbers": "strict",
          "coloraxis": {
           "colorbar": {
            "outlinewidth": 0,
            "ticks": ""
           }
          },
          "colorscale": {
           "diverging": [
            [
             0,
             "#8e0152"
            ],
            [
             0.1,
             "#c51b7d"
            ],
            [
             0.2,
             "#de77ae"
            ],
            [
             0.3,
             "#f1b6da"
            ],
            [
             0.4,
             "#fde0ef"
            ],
            [
             0.5,
             "#f7f7f7"
            ],
            [
             0.6,
             "#e6f5d0"
            ],
            [
             0.7,
             "#b8e186"
            ],
            [
             0.8,
             "#7fbc41"
            ],
            [
             0.9,
             "#4d9221"
            ],
            [
             1,
             "#276419"
            ]
           ],
           "sequential": [
            [
             0,
             "#0d0887"
            ],
            [
             0.1111111111111111,
             "#46039f"
            ],
            [
             0.2222222222222222,
             "#7201a8"
            ],
            [
             0.3333333333333333,
             "#9c179e"
            ],
            [
             0.4444444444444444,
             "#bd3786"
            ],
            [
             0.5555555555555556,
             "#d8576b"
            ],
            [
             0.6666666666666666,
             "#ed7953"
            ],
            [
             0.7777777777777778,
             "#fb9f3a"
            ],
            [
             0.8888888888888888,
             "#fdca26"
            ],
            [
             1,
             "#f0f921"
            ]
           ],
           "sequentialminus": [
            [
             0,
             "#0d0887"
            ],
            [
             0.1111111111111111,
             "#46039f"
            ],
            [
             0.2222222222222222,
             "#7201a8"
            ],
            [
             0.3333333333333333,
             "#9c179e"
            ],
            [
             0.4444444444444444,
             "#bd3786"
            ],
            [
             0.5555555555555556,
             "#d8576b"
            ],
            [
             0.6666666666666666,
             "#ed7953"
            ],
            [
             0.7777777777777778,
             "#fb9f3a"
            ],
            [
             0.8888888888888888,
             "#fdca26"
            ],
            [
             1,
             "#f0f921"
            ]
           ]
          },
          "colorway": [
           "#636efa",
           "#EF553B",
           "#00cc96",
           "#ab63fa",
           "#FFA15A",
           "#19d3f3",
           "#FF6692",
           "#B6E880",
           "#FF97FF",
           "#FECB52"
          ],
          "font": {
           "color": "#2a3f5f"
          },
          "geo": {
           "bgcolor": "white",
           "lakecolor": "white",
           "landcolor": "#E5ECF6",
           "showlakes": true,
           "showland": true,
           "subunitcolor": "white"
          },
          "hoverlabel": {
           "align": "left"
          },
          "hovermode": "closest",
          "mapbox": {
           "style": "light"
          },
          "paper_bgcolor": "white",
          "plot_bgcolor": "#E5ECF6",
          "polar": {
           "angularaxis": {
            "gridcolor": "white",
            "linecolor": "white",
            "ticks": ""
           },
           "bgcolor": "#E5ECF6",
           "radialaxis": {
            "gridcolor": "white",
            "linecolor": "white",
            "ticks": ""
           }
          },
          "scene": {
           "xaxis": {
            "backgroundcolor": "#E5ECF6",
            "gridcolor": "white",
            "gridwidth": 2,
            "linecolor": "white",
            "showbackground": true,
            "ticks": "",
            "zerolinecolor": "white"
           },
           "yaxis": {
            "backgroundcolor": "#E5ECF6",
            "gridcolor": "white",
            "gridwidth": 2,
            "linecolor": "white",
            "showbackground": true,
            "ticks": "",
            "zerolinecolor": "white"
           },
           "zaxis": {
            "backgroundcolor": "#E5ECF6",
            "gridcolor": "white",
            "gridwidth": 2,
            "linecolor": "white",
            "showbackground": true,
            "ticks": "",
            "zerolinecolor": "white"
           }
          },
          "shapedefaults": {
           "line": {
            "color": "#2a3f5f"
           }
          },
          "ternary": {
           "aaxis": {
            "gridcolor": "white",
            "linecolor": "white",
            "ticks": ""
           },
           "baxis": {
            "gridcolor": "white",
            "linecolor": "white",
            "ticks": ""
           },
           "bgcolor": "#E5ECF6",
           "caxis": {
            "gridcolor": "white",
            "linecolor": "white",
            "ticks": ""
           }
          },
          "title": {
           "x": 0.05
          },
          "xaxis": {
           "automargin": true,
           "gridcolor": "white",
           "linecolor": "white",
           "ticks": "",
           "title": {
            "standoff": 15
           },
           "zerolinecolor": "white",
           "zerolinewidth": 2
          },
          "yaxis": {
           "automargin": true,
           "gridcolor": "white",
           "linecolor": "white",
           "ticks": "",
           "title": {
            "standoff": 15
           },
           "zerolinecolor": "white",
           "zerolinewidth": 2
          }
         }
        },
        "title": {
         "text": "Gene CNV frequencies (2R:28,480,576-28,482,637; 2R:28,483,301-28,484,921; 2R:28,491,415-28,493,141; X:15,240,572-15,242,864; 3R:6,928,858-6,930,547; 3R:6,973,779-6,975,563)"
        },
        "width": 1040,
        "xaxis": {
         "anchor": "y",
         "autorange": true,
         "domain": [
          0,
          1
         ],
         "range": [
          -0.5,
          14.5
         ],
         "side": "bottom",
         "tickangle": 30,
         "title": {
          "text": "Cohorts"
         },
         "type": "category"
        },
        "yaxis": {
         "anchor": "x",
         "autorange": true,
         "domain": [
          0,
          1
         ],
         "range": [
          6.5,
          -0.5
         ],
         "title": {
          "text": "Variants"
         },
         "type": "category"
        }
       }
      },
      "image/png": "[encoded data removed]",
      "text/html": [
       "<div>                            <div id=\"da083c2b-d3ed-4369-a336-6a3c87605513\" class=\"plotly-graph-div\" style=\"height:380px; width:1040px;\"></div>            <script type=\"text/javascript\">                require([\"plotly\"], function(Plotly) {                    window.PLOTLYENV=window.PLOTLYENV || {};                                    if (document.getElementById(\"da083c2b-d3ed-4369-a336-6a3c87605513\")) {                    Plotly.newPlot(                        \"da083c2b-d3ed-4369-a336-6a3c87605513\",                        [{\"coloraxis\":\"coloraxis\",\"name\":\"0\",\"texttemplate\":\"%{z:.0%}\",\"x\":[\"UG-C_gamb_2013\",\"UG-C_gamb_2014\",\"UG-C_gamb_2015\",\"UG-C_gamb_2016\",\"UG-C_gamb_2017\",\"UG-C_gamb_2018\",\"UG-E_gamb_2012\",\"UG-E_gamb_2016\",\"UG-E_gamb_2017\",\"UG-E_gamb_2018\",\"UG-E_gamb_2019\",\"UG-W_gamb_2012\",\"UG-W_gamb_2017\",\"UG-W_gamb_2018\",\"UG-W_gamb_2019\"],\"y\":[\"AGAP002862 (CYP6AA1) amp\",\"AGAP013128 (CYP6AA2) amp\",\"AGAP002865 (CYP6P3) amp\",\"AGAP000818 (CYP9K1) amp\",\"AGAP008212 (CYP6M2) amp\",\"AGAP008218 (CYP6Z2) amp\",\"AGAP008218 (CYP6Z2) del\"],\"z\":[[0.15217391304347827,0.6853146853146853,0.7540983606557377,0.8217054263565892,0.9625668449197861,0.9873817034700315,0.6428571428571429,0.95,0.9574468085106383,0.9820627802690582,0.9889705882352942,0.2978723404255319,1.0,1.0,1.0],[0.0,0.04195804195804196,0.03278688524590164,0.031007751937984496,0.0374331550802139,0.025236593059936908,0.07142857142857142,0.3,0.23404255319148937,0.04932735426008968,0.0661764705882353,0.0851063829787234,0.0851063829787234,0.07692307692307693,0.0380952380952381],[0.0,0.0,0.01639344262295082,0.023255813953488372,0.0053475935828877,0.0031545741324921135,0.008928571428571428,0.15,0.0121580547112462,0.0,0.0,0.0425531914893617,0.0,0.07692307692307693,0.0],[0.41304347826086957,0.5314685314685315,0.7158469945355191,0.7054263565891473,0.6203208556149733,0.7602523659305994,0.35714285714285715,0.35,0.48024316109422494,0.5515695067264574,0.5073529411764706,0.8404255319148937,0.9095744680851063,1.0,0.9238095238095239],[0.0,0.006993006993006993,0.0,0.0,0.0106951871657754,0.006309148264984227,0.0,0.0,0.00911854103343465,0.013452914798206279,0.007352941176470588,0.0,0.015957446808510637,0.0,0.0],[0.2391304347826087,0.1888111888111888,0.07103825136612021,0.09302325581395349,0.016042780748663103,0.022082018927444796,0.03571428571428571,0.05,0.030395136778115502,0.04035874439461883,0.04411764705882353,0.06382978723404255,0.05319148936170213,0.0,0.01904761904761905],[0.0,0.0,0.0,0.0,0.016042780748663103,0.015772870662460567,0.05357142857142857,0.0,0.02735562310030395,0.026905829596412557,0.022058823529411766,0.010638297872340425,0.02127659574468085,0.07692307692307693,0.0380952380952381]],\"type\":\"heatmap\",\"xaxis\":\"x\",\"yaxis\":\"y\",\"hovertemplate\":\"x: %{x}\\u003cbr\\u003elabel: %{y}\\u003cbr\\u003ecolor: %{z}\\u003cextra\\u003e\\u003c\\u002fextra\\u003e\"}],                        {\"template\":{\"data\":{\"histogram2dcontour\":[{\"type\":\"histogram2dcontour\",\"colorbar\":{\"outlinewidth\":0,\"ticks\":\"\"},\"colorscale\":[[0.0,\"#0d0887\"],[0.1111111111111111,\"#46039f\"],[0.2222222222222222,\"#7201a8\"],[0.3333333333333333,\"#9c179e\"],[0.4444444444444444,\"#bd3786\"],[0.5555555555555556,\"#d8576b\"],[0.6666666666666666,\"#ed7953\"],[0.7777777777777778,\"#fb9f3a\"],[0.8888888888888888,\"#fdca26\"],[1.0,\"#f0f921\"]]}],\"choropleth\":[{\"type\":\"choropleth\",\"colorbar\":{\"outlinewidth\":0,\"ticks\":\"\"}}],\"histogram2d\":[{\"type\":\"histogram2d\",\"colorbar\":{\"outlinewidth\":0,\"ticks\":\"\"},\"colorscale\":[[0.0,\"#0d0887\"],[0.1111111111111111,\"#46039f\"],[0.2222222222222222,\"#7201a8\"],[0.3333333333333333,\"#9c179e\"],[0.4444444444444444,\"#bd3786\"],[0.5555555555555556,\"#d8576b\"],[0.6666666666666666,\"#ed7953\"],[0.7777777777777778,\"#fb9f3a\"],[0.8888888888888888,\"#fdca26\"],[1.0,\"#f0f921\"]]}],\"heatmap\":[{\"type\":\"heatmap\",\"colorbar\":{\"outlinewidth\":0,\"ticks\":\"\"},\"colorscale\":[[0.0,\"#0d0887\"],[0.1111111111111111,\"#46039f\"],[0.2222222222222222,\"#7201a8\"],[0.3333333333333333,\"#9c179e\"],[0.4444444444444444,\"#bd3786\"],[0.5555555555555556,\"#d8576b\"],[0.6666666666666666,\"#ed7953\"],[0.7777777777777778,\"#fb9f3a\"],[0.8888888888888888,\"#fdca26\"],[1.0,\"#f0f921\"]]}],\"heatmapgl\":[{\"type\":\"heatmapgl\",\"colorbar\":{\"outlinewidth\":0,\"ticks\":\"\"},\"colorscale\":[[0.0,\"#0d0887\"],[0.1111111111111111,\"#46039f\"],[0.2222222222222222,\"#7201a8\"],[0.3333333333333333,\"#9c179e\"],[0.4444444444444444,\"#bd3786\"],[0.5555555555555556,\"#d8576b\"],[0.6666666666666666,\"#ed7953\"],[0.7777777777777778,\"#fb9f3a\"],[0.8888888888888888,\"#fdca26\"],[1.0,\"#f0f921\"]]}],\"contourcarpet\":[{\"type\":\"contourcarpet\",\"colorbar\":{\"outlinewidth\":0,\"ticks\":\"\"}}],\"contour\":[{\"type\":\"contour\",\"colorbar\":{\"outlinewidth\":0,\"ticks\":\"\"},\"colorscale\":[[0.0,\"#0d0887\"],[0.1111111111111111,\"#46039f\"],[0.2222222222222222,\"#7201a8\"],[0.3333333333333333,\"#9c179e\"],[0.4444444444444444,\"#bd3786\"],[0.5555555555555556,\"#d8576b\"],[0.6666666666666666,\"#ed7953\"],[0.7777777777777778,\"#fb9f3a\"],[0.8888888888888888,\"#fdca26\"],[1.0,\"#f0f921\"]]}],\"surface\":[{\"type\":\"surface\",\"colorbar\":{\"outlinewidth\":0,\"ticks\":\"\"},\"colorscale\":[[0.0,\"#0d0887\"],[0.1111111111111111,\"#46039f\"],[0.2222222222222222,\"#7201a8\"],[0.3333333333333333,\"#9c179e\"],[0.4444444444444444,\"#bd3786\"],[0.5555555555555556,\"#d8576b\"],[0.6666666666666666,\"#ed7953\"],[0.7777777777777778,\"#fb9f3a\"],[0.8888888888888888,\"#fdca26\"],[1.0,\"#f0f921\"]]}],\"mesh3d\":[{\"type\":\"mesh3d\",\"colorbar\":{\"outlinewidth\":0,\"ticks\":\"\"}}],\"scatter\":[{\"fillpattern\":{\"fillmode\":\"overlay\",\"size\":10,\"solidity\":0.2},\"type\":\"scatter\"}],\"parcoords\":[{\"type\":\"parcoords\",\"line\":{\"colorbar\":{\"outlinewidth\":0,\"ticks\":\"\"}}}],\"scatterpolargl\":[{\"type\":\"scatterpolargl\",\"marker\":{\"colorbar\":{\"outlinewidth\":0,\"ticks\":\"\"}}}],\"bar\":[{\"error_x\":{\"color\":\"#2a3f5f\"},\"error_y\":{\"color\":\"#2a3f5f\"},\"marker\":{\"line\":{\"color\":\"#E5ECF6\",\"width\":0.5},\"pattern\":{\"fillmode\":\"overlay\",\"size\":10,\"solidity\":0.2}},\"type\":\"bar\"}],\"scattergeo\":[{\"type\":\"scattergeo\",\"marker\":{\"colorbar\":{\"outlinewidth\":0,\"ticks\":\"\"}}}],\"scatterpolar\":[{\"type\":\"scatterpolar\",\"marker\":{\"colorbar\":{\"outlinewidth\":0,\"ticks\":\"\"}}}],\"histogram\":[{\"marker\":{\"pattern\":{\"fillmode\":\"overlay\",\"size\":10,\"solidity\":0.2}},\"type\":\"histogram\"}],\"scattergl\":[{\"type\":\"scattergl\",\"marker\":{\"colorbar\":{\"outlinewidth\":0,\"ticks\":\"\"}}}],\"scatter3d\":[{\"type\":\"scatter3d\",\"line\":{\"colorbar\":{\"outlinewidth\":0,\"ticks\":\"\"}},\"marker\":{\"colorbar\":{\"outlinewidth\":0,\"ticks\":\"\"}}}],\"scattermapbox\":[{\"type\":\"scattermapbox\",\"marker\":{\"colorbar\":{\"outlinewidth\":0,\"ticks\":\"\"}}}],\"scatterternary\":[{\"type\":\"scatterternary\",\"marker\":{\"colorbar\":{\"outlinewidth\":0,\"ticks\":\"\"}}}],\"scattercarpet\":[{\"type\":\"scattercarpet\",\"marker\":{\"colorbar\":{\"outlinewidth\":0,\"ticks\":\"\"}}}],\"carpet\":[{\"aaxis\":{\"endlinecolor\":\"#2a3f5f\",\"gridcolor\":\"white\",\"linecolor\":\"white\",\"minorgridcolor\":\"white\",\"startlinecolor\":\"#2a3f5f\"},\"baxis\":{\"endlinecolor\":\"#2a3f5f\",\"gridcolor\":\"white\",\"linecolor\":\"white\",\"minorgridcolor\":\"white\",\"startlinecolor\":\"#2a3f5f\"},\"type\":\"carpet\"}],\"table\":[{\"cells\":{\"fill\":{\"color\":\"#EBF0F8\"},\"line\":{\"color\":\"white\"}},\"header\":{\"fill\":{\"color\":\"#C8D4E3\"},\"line\":{\"color\":\"white\"}},\"type\":\"table\"}],\"barpolar\":[{\"marker\":{\"line\":{\"color\":\"#E5ECF6\",\"width\":0.5},\"pattern\":{\"fillmode\":\"overlay\",\"size\":10,\"solidity\":0.2}},\"type\":\"barpolar\"}],\"pie\":[{\"automargin\":true,\"type\":\"pie\"}]},\"layout\":{\"autotypenumbers\":\"strict\",\"colorway\":[\"#636efa\",\"#EF553B\",\"#00cc96\",\"#ab63fa\",\"#FFA15A\",\"#19d3f3\",\"#FF6692\",\"#B6E880\",\"#FF97FF\",\"#FECB52\"],\"font\":{\"color\":\"#2a3f5f\"},\"hovermode\":\"closest\",\"hoverlabel\":{\"align\":\"left\"},\"paper_bgcolor\":\"white\",\"plot_bgcolor\":\"#E5ECF6\",\"polar\":{\"bgcolor\":\"#E5ECF6\",\"angularaxis\":{\"gridcolor\":\"white\",\"linecolor\":\"white\",\"ticks\":\"\"},\"radialaxis\":{\"gridcolor\":\"white\",\"linecolor\":\"white\",\"ticks\":\"\"}},\"ternary\":{\"bgcolor\":\"#E5ECF6\",\"aaxis\":{\"gridcolor\":\"white\",\"linecolor\":\"white\",\"ticks\":\"\"},\"baxis\":{\"gridcolor\":\"white\",\"linecolor\":\"white\",\"ticks\":\"\"},\"caxis\":{\"gridcolor\":\"white\",\"linecolor\":\"white\",\"ticks\":\"\"}},\"coloraxis\":{\"colorbar\":{\"outlinewidth\":0,\"ticks\":\"\"}},\"colorscale\":{\"sequential\":[[0.0,\"#0d0887\"],[0.1111111111111111,\"#46039f\"],[0.2222222222222222,\"#7201a8\"],[0.3333333333333333,\"#9c179e\"],[0.4444444444444444,\"#bd3786\"],[0.5555555555555556,\"#d8576b\"],[0.6666666666666666,\"#ed7953\"],[0.7777777777777778,\"#fb9f3a\"],[0.8888888888888888,\"#fdca26\"],[1.0,\"#f0f921\"]],\"sequentialminus\":[[0.0,\"#0d0887\"],[0.1111111111111111,\"#46039f\"],[0.2222222222222222,\"#7201a8\"],[0.3333333333333333,\"#9c179e\"],[0.4444444444444444,\"#bd3786\"],[0.5555555555555556,\"#d8576b\"],[0.6666666666666666,\"#ed7953\"],[0.7777777777777778,\"#fb9f3a\"],[0.8888888888888888,\"#fdca26\"],[1.0,\"#f0f921\"]],\"diverging\":[[0,\"#8e0152\"],[0.1,\"#c51b7d\"],[0.2,\"#de77ae\"],[0.3,\"#f1b6da\"],[0.4,\"#fde0ef\"],[0.5,\"#f7f7f7\"],[0.6,\"#e6f5d0\"],[0.7,\"#b8e186\"],[0.8,\"#7fbc41\"],[0.9,\"#4d9221\"],[1,\"#276419\"]]},\"xaxis\":{\"gridcolor\":\"white\",\"linecolor\":\"white\",\"ticks\":\"\",\"title\":{\"standoff\":15},\"zerolinecolor\":\"white\",\"automargin\":true,\"zerolinewidth\":2},\"yaxis\":{\"gridcolor\":\"white\",\"linecolor\":\"white\",\"ticks\":\"\",\"title\":{\"standoff\":15},\"zerolinecolor\":\"white\",\"automargin\":true,\"zerolinewidth\":2},\"scene\":{\"xaxis\":{\"backgroundcolor\":\"#E5ECF6\",\"gridcolor\":\"white\",\"linecolor\":\"white\",\"showbackground\":true,\"ticks\":\"\",\"zerolinecolor\":\"white\",\"gridwidth\":2},\"yaxis\":{\"backgroundcolor\":\"#E5ECF6\",\"gridcolor\":\"white\",\"linecolor\":\"white\",\"showbackground\":true,\"ticks\":\"\",\"zerolinecolor\":\"white\",\"gridwidth\":2},\"zaxis\":{\"backgroundcolor\":\"#E5ECF6\",\"gridcolor\":\"white\",\"linecolor\":\"white\",\"showbackground\":true,\"ticks\":\"\",\"zerolinecolor\":\"white\",\"gridwidth\":2}},\"shapedefaults\":{\"line\":{\"color\":\"#2a3f5f\"}},\"annotationdefaults\":{\"arrowcolor\":\"#2a3f5f\",\"arrowhead\":0,\"arrowwidth\":1},\"geo\":{\"bgcolor\":\"white\",\"landcolor\":\"#E5ECF6\",\"subunitcolor\":\"white\",\"showland\":true,\"showlakes\":true,\"lakecolor\":\"white\"},\"title\":{\"x\":0.05},\"mapbox\":{\"style\":\"light\"}}},\"xaxis\":{\"anchor\":\"y\",\"domain\":[0.0,1.0],\"side\":\"bottom\",\"tickangle\":30,\"title\":{\"text\":\"Cohorts\"}},\"yaxis\":{\"anchor\":\"x\",\"domain\":[0.0,1.0],\"autorange\":\"reversed\",\"title\":{\"text\":\"Variants\"}},\"coloraxis\":{\"colorscale\":[[0.0,\"rgb(255,245,240)\"],[0.125,\"rgb(254,224,210)\"],[0.25,\"rgb(252,187,161)\"],[0.375,\"rgb(252,146,114)\"],[0.5,\"rgb(251,106,74)\"],[0.625,\"rgb(239,59,44)\"],[0.75,\"rgb(203,24,29)\"],[0.875,\"rgb(165,15,21)\"],[1.0,\"rgb(103,0,13)\"]],\"cmin\":0,\"cmax\":1,\"colorbar\":{\"title\":{\"text\":\"Frequency\"},\"tickvals\":[0,0.2,0.4,0.6,0.8,1.0],\"ticktext\":[\"0%\",\"20%\",\"40%\",\"60%\",\"80%\",\"100%\"]}},\"title\":{\"text\":\"Gene CNV frequencies (2R:28,480,576-28,482,637; 2R:28,483,301-28,484,921; 2R:28,491,415-28,493,141; X:15,240,572-15,242,864; 3R:6,928,858-6,930,547; 3R:6,973,779-6,975,563)\"},\"height\":380,\"width\":1040},                        {\"responsive\": true}                    ).then(function(){\n",
       "                            \n",
       "var gd = document.getElementById('da083c2b-d3ed-4369-a336-6a3c87605513');\n",
       "var x = new MutationObserver(function (mutations, observer) {{\n",
       "        var display = window.getComputedStyle(gd).display;\n",
       "        if (!display || display === 'none') {{\n",
       "            console.log([gd, 'removed!']);\n",
       "            Plotly.purge(gd);\n",
       "            observer.disconnect();\n",
       "        }}\n",
       "}});\n",
       "\n",
       "// Listen for the removal of the full notebook cells\n",
       "var notebookContainer = gd.closest('#notebook-container');\n",
       "if (notebookContainer) {{\n",
       "    x.observe(notebookContainer, {childList: true});\n",
       "}}\n",
       "\n",
       "// Listen for the clearing of the current output cell\n",
       "var outputEl = gd.closest('.output');\n",
       "if (outputEl) {{\n",
       "    x.observe(outputEl, {childList: true});\n",
       "}}\n",
       "\n",
       "                        })                };                });            </script>        </div>"
      ]
     },
     "metadata": {},
     "output_type": "display_data"
    }
   ],
   "source": [
    "# Visualise CNV frequencies as a heatmap.\n",
    "ag3.plot_frequencies_heatmap(df_cyp_cnv_frq)"
   ]
  },
  {
   "cell_type": "markdown",
   "id": "3f1fe6d4-192c-4f7d-94e0-0cf16098e66c",
   "metadata": {},
   "source": [
    "This is a useful starting point for exploratory data analysis, because we can see for example that amplifications of *Cyp6aa1* and *Cyp69k1* are very high or fixed in almost all regions and years. Both of these genes are associated with pyrethroid resistance, and so this combination implies very strong metabolic resistance. \n",
    "\n",
    "For Uganda there are data for multiple years and regions, and the user might also be interested in changes over time. I might therefore be tempted to suggest some code to visualise frequency time series, e.g.:"
   ]
  },
  {
   "cell_type": "code",
   "execution_count": 17,
   "id": "71061033-b039-4ed3-8fda-39d0fe6cf10f",
   "metadata": {
    "tags": [
     "remove_output"
    ]
   },
   "outputs": [
    {
     "name": "stdout",
     "output_type": "stream",
     "text": [
      "                                     \r"
     ]
    },
    {
     "data": {
      "application/vnd.jupyter.widget-view+json": {
       "model_id": "",
       "version_major": 2,
       "version_minor": 0
      },
      "text/plain": [
       "Load CNV HMM data:   0%|          | 0/1360 [00:00<?, ?it/s]"
      ]
     },
     "metadata": {},
     "output_type": "display_data"
    },
    {
     "name": "stdout",
     "output_type": "stream",
     "text": []
    },
    {
     "name": "stdout",
     "output_type": "stream",
     "text": [
      "                                     \r"
     ]
    },
    {
     "data": {
      "application/vnd.jupyter.widget-view+json": {
       "model_id": "",
       "version_major": 2,
       "version_minor": 0
      },
      "text/plain": [
       "Compute modal gene copy number:   0%|          | 0/2 [00:00<?, ?it/s]"
      ]
     },
     "metadata": {},
     "output_type": "display_data"
    },
    {
     "name": "stdout",
     "output_type": "stream",
     "text": [
      "                                    \r"
     ]
    },
    {
     "data": {
      "application/vnd.jupyter.widget-view+json": {
       "model_id": "",
       "version_major": 2,
       "version_minor": 0
      },
      "text/plain": [
       "Load CNV HMM data:   0%|          | 0/1360 [00:00<?, ?it/s]"
      ]
     },
     "metadata": {},
     "output_type": "display_data"
    },
    {
     "name": "stdout",
     "output_type": "stream",
     "text": [
      "                                     \r"
     ]
    },
    {
     "data": {
      "application/vnd.jupyter.widget-view+json": {
       "model_id": "",
       "version_major": 2,
       "version_minor": 0
      },
      "text/plain": [
       "Compute modal gene copy number:   0%|          | 0/2 [00:00<?, ?it/s]"
      ]
     },
     "metadata": {},
     "output_type": "display_data"
    },
    {
     "name": "stdout",
     "output_type": "stream",
     "text": [
      "                                    \r"
     ]
    },
    {
     "data": {
      "application/vnd.jupyter.widget-view+json": {
       "model_id": "",
       "version_major": 2,
       "version_minor": 0
      },
      "text/plain": [
       "Load CNV HMM data:   0%|          | 0/1360 [00:00<?, ?it/s]"
      ]
     },
     "metadata": {},
     "output_type": "display_data"
    },
    {
     "name": "stdout",
     "output_type": "stream",
     "text": [
      "                                     \r"
     ]
    },
    {
     "data": {
      "application/vnd.jupyter.widget-view+json": {
       "model_id": "",
       "version_major": 2,
       "version_minor": 0
      },
      "text/plain": [
       "Compute modal gene copy number:   0%|          | 0/2 [00:00<?, ?it/s]"
      ]
     },
     "metadata": {},
     "output_type": "display_data"
    },
    {
     "name": "stdout",
     "output_type": "stream",
     "text": [
      "                                    \r"
     ]
    },
    {
     "data": {
      "application/vnd.jupyter.widget-view+json": {
       "model_id": "",
       "version_major": 2,
       "version_minor": 0
      },
      "text/plain": [
       "Load CNV HMM data:   0%|          | 0/680 [00:00<?, ?it/s]"
      ]
     },
     "metadata": {},
     "output_type": "display_data"
    },
    {
     "name": "stdout",
     "output_type": "stream",
     "text": []
    },
    {
     "name": "stdout",
     "output_type": "stream",
     "text": [
      "                                     \r"
     ]
    },
    {
     "data": {
      "application/vnd.jupyter.widget-view+json": {
       "model_id": "",
       "version_major": 2,
       "version_minor": 0
      },
      "text/plain": [
       "Compute modal gene copy number:   0%|          | 0/1 [00:00<?, ?it/s]"
      ]
     },
     "metadata": {},
     "output_type": "display_data"
    },
    {
     "name": "stdout",
     "output_type": "stream",
     "text": [
      "                                    \r"
     ]
    },
    {
     "data": {
      "application/vnd.jupyter.widget-view+json": {
       "model_id": "",
       "version_major": 2,
       "version_minor": 0
      },
      "text/plain": [
       "Load CNV HMM data:   0%|          | 0/1020 [00:00<?, ?it/s]"
      ]
     },
     "metadata": {},
     "output_type": "display_data"
    },
    {
     "name": "stdout",
     "output_type": "stream",
     "text": []
    },
    {
     "name": "stdout",
     "output_type": "stream",
     "text": [
      "                                     \r"
     ]
    },
    {
     "data": {
      "application/vnd.jupyter.widget-view+json": {
       "model_id": "",
       "version_major": 2,
       "version_minor": 0
      },
      "text/plain": [
       "Compute modal gene copy number:   0%|          | 0/1 [00:00<?, ?it/s]"
      ]
     },
     "metadata": {},
     "output_type": "display_data"
    },
    {
     "name": "stdout",
     "output_type": "stream",
     "text": []
    },
    {
     "name": "stdout",
     "output_type": "stream",
     "text": [
      "                                    \r"
     ]
    },
    {
     "data": {
      "application/vnd.jupyter.widget-view+json": {
       "model_id": "",
       "version_major": 2,
       "version_minor": 0
      },
      "text/plain": [
       "Load CNV HMM data:   0%|          | 0/1020 [00:00<?, ?it/s]"
      ]
     },
     "metadata": {},
     "output_type": "display_data"
    },
    {
     "name": "stdout",
     "output_type": "stream",
     "text": []
    },
    {
     "name": "stdout",
     "output_type": "stream",
     "text": [
      "                                     \r"
     ]
    },
    {
     "data": {
      "application/vnd.jupyter.widget-view+json": {
       "model_id": "",
       "version_major": 2,
       "version_minor": 0
      },
      "text/plain": [
       "Compute modal gene copy number:   0%|          | 0/1 [00:00<?, ?it/s]"
      ]
     },
     "metadata": {},
     "output_type": "display_data"
    }
   ],
   "source": [
    "# Compute gene CNV frequencies.\n",
    "ds_cyp_cnv_frq = ag3.gene_cnv_frequencies_advanced(\n",
    "    region=interesting_cyp_genes,\n",
    "    sample_query=\"country == 'Uganda' and taxon == 'gambiae'\",\n",
    "    area_by=\"admin1_iso\",\n",
    "    period_by=\"year\",\n",
    ")"
   ]
  },
  {
   "cell_type": "code",
   "execution_count": 25,
   "id": "622dccb0-87f9-4cef-9459-fdd5e7f59dce",
   "metadata": {
    "tags": []
   },
   "outputs": [
    {
     "data": {
      "application/vnd.plotly.v1+json": {
       "config": {
        "plotlyServerURL": "https://plot.ly"
       },
       "data": [
        {
         "customdata": [
          [
           "2013",
           "UG-C",
           "gambiae",
           46,
           "AGAP002862 (CYP6AA1) amp"
          ],
          [
           "2014",
           "UG-C",
           "gambiae",
           143,
           "AGAP002862 (CYP6AA1) amp"
          ],
          [
           "2015",
           "UG-C",
           "gambiae",
           183,
           "AGAP002862 (CYP6AA1) amp"
          ],
          [
           "2016",
           "UG-C",
           "gambiae",
           129,
           "AGAP002862 (CYP6AA1) amp"
          ],
          [
           "2017",
           "UG-C",
           "gambiae",
           187,
           "AGAP002862 (CYP6AA1) amp"
          ],
          [
           "2018",
           "UG-C",
           "gambiae",
           317,
           "AGAP002862 (CYP6AA1) amp"
          ]
         ],
         "error_y": {
          "array": [
           0.13006748247713174,
           0.07041994536765017,
           0.05674197943067294,
           0.05644762480287713,
           0.019184295626336834,
           0.00770064244598212
          ],
          "arrayminus": [
           0.07645109076542363,
           0.08011582741926504,
           0.06719049974330482,
           0.0750535353177677,
           0.03780636545915317,
           0.019371557736803102
          ]
         },
         "hovertemplate": "<b>%{hovertext}</b><br><br>Area=%{customdata[1]}<br>Taxon=%{customdata[2]}<br>Frequency=%{y:.0%}<br>Period=%{customdata[0]}<br>Sample size=%{customdata[3]}<extra></extra>",
         "hovertext": [
          "AGAP002862 (CYP6AA1) amp",
          "AGAP002862 (CYP6AA1) amp",
          "AGAP002862 (CYP6AA1) amp",
          "AGAP002862 (CYP6AA1) amp",
          "AGAP002862 (CYP6AA1) amp",
          "AGAP002862 (CYP6AA1) amp"
         ],
         "legendgroup": "AGAP002862 (CYP6AA1) amp",
         "line": {
          "color": "#636efa",
          "dash": "solid"
         },
         "marker": {
          "symbol": "circle"
         },
         "mode": "lines+markers",
         "name": "AGAP002862 (CYP6AA1) amp",
         "orientation": "v",
         "showlegend": true,
         "type": "scatter",
         "x": [
          "2013-01-01T00:00:00",
          "2014-01-01T00:00:00",
          "2015-01-01T00:00:00",
          "2016-01-01T00:00:00",
          "2017-01-01T00:00:00",
          "2018-01-01T00:00:00"
         ],
         "xaxis": "x3",
         "y": [
          0.15217391304347827,
          0.6853146853146853,
          0.7540983606557377,
          0.8217054263565892,
          0.9625668449197861,
          0.9873817034700315
         ],
         "yaxis": "y3"
        },
        {
         "customdata": [
          [
           "2012",
           "UG-E",
           "gambiae",
           112,
           "AGAP002862 (CYP6AA1) amp"
          ],
          [
           "2016",
           "UG-E",
           "gambiae",
           20,
           "AGAP002862 (CYP6AA1) amp"
          ],
          [
           "2017",
           "UG-E",
           "gambiae",
           329,
           "AGAP002862 (CYP6AA1) amp"
          ],
          [
           "2018",
           "UG-E",
           "gambiae",
           223,
           "AGAP002862 (CYP6AA1) amp"
          ],
          [
           "2019",
           "UG-E",
           "gambiae",
           272,
           "AGAP002862 (CYP6AA1) amp"
          ]
         ],
         "error_y": {
          "array": [
           0.08264697066063287,
           0.04111855119920449,
           0.017038547137887106,
           0.010940231529905198,
           0.0072714604626888946
          ],
          "arrayminus": [
           0.09212164125118816,
           0.18613119344674223,
           0.027597706947952938,
           0.02726726741673291,
           0.02089059072154864
          ]
         },
         "hovertemplate": "<b>%{hovertext}</b><br><br>Area=%{customdata[1]}<br>Taxon=%{customdata[2]}<br>Frequency=%{y:.0%}<br>Period=%{customdata[0]}<br>Sample size=%{customdata[3]}<extra></extra>",
         "hovertext": [
          "AGAP002862 (CYP6AA1) amp",
          "AGAP002862 (CYP6AA1) amp",
          "AGAP002862 (CYP6AA1) amp",
          "AGAP002862 (CYP6AA1) amp",
          "AGAP002862 (CYP6AA1) amp"
         ],
         "legendgroup": "AGAP002862 (CYP6AA1) amp",
         "line": {
          "color": "#636efa",
          "dash": "solid"
         },
         "marker": {
          "symbol": "circle"
         },
         "mode": "lines+markers",
         "name": "AGAP002862 (CYP6AA1) amp",
         "orientation": "v",
         "showlegend": false,
         "type": "scatter",
         "x": [
          "2012-01-01T00:00:00",
          "2016-01-01T00:00:00",
          "2017-01-01T00:00:00",
          "2018-01-01T00:00:00",
          "2019-01-01T00:00:00"
         ],
         "xaxis": "x2",
         "y": [
          0.6428571428571429,
          0.95,
          0.9574468085106383,
          0.9820627802690582,
          0.9889705882352942
         ],
         "yaxis": "y2"
        },
        {
         "customdata": [
          [
           "2012",
           "UG-W",
           "gambiae",
           94,
           "AGAP002862 (CYP6AA1) amp"
          ],
          [
           "2017",
           "UG-W",
           "gambiae",
           188,
           "AGAP002862 (CYP6AA1) amp"
          ],
          [
           "2018",
           "UG-W",
           "gambiae",
           13,
           "AGAP002862 (CYP6AA1) amp"
          ],
          [
           "2019",
           "UG-W",
           "gambiae",
           105,
           "AGAP002862 (CYP6AA1) amp"
          ]
         ],
         "error_y": {
          "array": [
           0.09889980748418681,
           0,
           0,
           0
          ],
          "arrayminus": [
           0.08302790430249848,
           0.020024132657813887,
           0.22809537235419852,
           0.03529407692910991
          ]
         },
         "hovertemplate": "<b>%{hovertext}</b><br><br>Area=%{customdata[1]}<br>Taxon=%{customdata[2]}<br>Frequency=%{y:.0%}<br>Period=%{customdata[0]}<br>Sample size=%{customdata[3]}<extra></extra>",
         "hovertext": [
          "AGAP002862 (CYP6AA1) amp",
          "AGAP002862 (CYP6AA1) amp",
          "AGAP002862 (CYP6AA1) amp",
          "AGAP002862 (CYP6AA1) amp"
         ],
         "legendgroup": "AGAP002862 (CYP6AA1) amp",
         "line": {
          "color": "#636efa",
          "dash": "solid"
         },
         "marker": {
          "symbol": "circle"
         },
         "mode": "lines+markers",
         "name": "AGAP002862 (CYP6AA1) amp",
         "orientation": "v",
         "showlegend": false,
         "type": "scatter",
         "x": [
          "2012-01-01T00:00:00",
          "2017-01-01T00:00:00",
          "2018-01-01T00:00:00",
          "2019-01-01T00:00:00"
         ],
         "xaxis": "x",
         "y": [
          0.2978723404255319,
          1,
          1,
          1
         ],
         "yaxis": "y"
        },
        {
         "customdata": [
          [
           "2013",
           "UG-C",
           "gambiae",
           46,
           "AGAP013128 (CYP6AA2) amp"
          ],
          [
           "2014",
           "UG-C",
           "gambiae",
           143,
           "AGAP013128 (CYP6AA2) amp"
          ],
          [
           "2015",
           "UG-C",
           "gambiae",
           183,
           "AGAP013128 (CYP6AA2) amp"
          ],
          [
           "2016",
           "UG-C",
           "gambiae",
           129,
           "AGAP013128 (CYP6AA2) amp"
          ],
          [
           "2017",
           "UG-C",
           "gambiae",
           187,
           "AGAP013128 (CYP6AA2) amp"
          ],
          [
           "2018",
           "UG-C",
           "gambiae",
           317,
           "AGAP013128 (CYP6AA2) amp"
          ]
         ],
         "error_y": {
          "array": [
           0.07707356308558042,
           0.046553960320785105,
           0.036887205939552976,
           0.046008992808943966,
           0.03780636545915325,
           0.02376326859858074
          ],
          "arrayminus": [
           0,
           0.022588666947925766,
           0.01767541052600396,
           0.01888471362458529,
           0.019184295626336802,
           0.012394512926939539
          ]
         },
         "hovertemplate": "<b>%{hovertext}</b><br><br>Area=%{customdata[1]}<br>Taxon=%{customdata[2]}<br>Frequency=%{y:.0%}<br>Period=%{customdata[0]}<br>Sample size=%{customdata[3]}<extra></extra>",
         "hovertext": [
          "AGAP013128 (CYP6AA2) amp",
          "AGAP013128 (CYP6AA2) amp",
          "AGAP013128 (CYP6AA2) amp",
          "AGAP013128 (CYP6AA2) amp",
          "AGAP013128 (CYP6AA2) amp",
          "AGAP013128 (CYP6AA2) amp"
         ],
         "legendgroup": "AGAP013128 (CYP6AA2) amp",
         "line": {
          "color": "#EF553B",
          "dash": "solid"
         },
         "marker": {
          "symbol": "circle"
         },
         "mode": "lines+markers",
         "name": "AGAP013128 (CYP6AA2) amp",
         "orientation": "v",
         "showlegend": true,
         "type": "scatter",
         "x": [
          "2013-01-01T00:00:00",
          "2014-01-01T00:00:00",
          "2015-01-01T00:00:00",
          "2016-01-01T00:00:00",
          "2017-01-01T00:00:00",
          "2018-01-01T00:00:00"
         ],
         "xaxis": "x3",
         "y": [
          0,
          0.04195804195804196,
          0.03278688524590164,
          0.031007751937984496,
          0.0374331550802139,
          0.025236593059936908
         ],
         "yaxis": "y3"
        },
        {
         "customdata": [
          [
           "2012",
           "UG-E",
           "gambiae",
           112,
           "AGAP013128 (CYP6AA2) amp"
          ],
          [
           "2016",
           "UG-E",
           "gambiae",
           20,
           "AGAP013128 (CYP6AA2) amp"
          ],
          [
           "2017",
           "UG-E",
           "gambiae",
           329,
           "AGAP013128 (CYP6AA2) amp"
          ],
          [
           "2018",
           "UG-E",
           "gambiae",
           223,
           "AGAP013128 (CYP6AA2) amp"
          ],
          [
           "2019",
           "UG-E",
           "gambiae",
           272,
           "AGAP013128 (CYP6AA2) amp"
          ]
         ],
         "error_y": {
          "array": [
           0.06321668130234706,
           0.2189728183535234,
           0.048659118810698954,
           0.036827458147845694,
           0.03599332885060465
          ],
          "arrayminus": [
           0.03479266953068085,
           0.15452275513239577,
           0.04252007240949798,
           0.021563578086206778,
           0.02391019072620275
          ]
         },
         "hovertemplate": "<b>%{hovertext}</b><br><br>Area=%{customdata[1]}<br>Taxon=%{customdata[2]}<br>Frequency=%{y:.0%}<br>Period=%{customdata[0]}<br>Sample size=%{customdata[3]}<extra></extra>",
         "hovertext": [
          "AGAP013128 (CYP6AA2) amp",
          "AGAP013128 (CYP6AA2) amp",
          "AGAP013128 (CYP6AA2) amp",
          "AGAP013128 (CYP6AA2) amp",
          "AGAP013128 (CYP6AA2) amp"
         ],
         "legendgroup": "AGAP013128 (CYP6AA2) amp",
         "line": {
          "color": "#EF553B",
          "dash": "solid"
         },
         "marker": {
          "symbol": "circle"
         },
         "mode": "lines+markers",
         "name": "AGAP013128 (CYP6AA2) amp",
         "orientation": "v",
         "showlegend": false,
         "type": "scatter",
         "x": [
          "2012-01-01T00:00:00",
          "2016-01-01T00:00:00",
          "2017-01-01T00:00:00",
          "2018-01-01T00:00:00",
          "2019-01-01T00:00:00"
         ],
         "xaxis": "x2",
         "y": [
          0.07142857142857142,
          0.3,
          0.23404255319148937,
          0.04932735426008968,
          0.0661764705882353
         ],
         "yaxis": "y2"
        },
        {
         "customdata": [
          [
           "2012",
           "UG-W",
           "gambiae",
           94,
           "AGAP013128 (CYP6AA2) amp"
          ],
          [
           "2017",
           "UG-W",
           "gambiae",
           188,
           "AGAP013128 (CYP6AA2) amp"
          ],
          [
           "2018",
           "UG-W",
           "gambiae",
           13,
           "AGAP013128 (CYP6AA2) amp"
          ],
          [
           "2019",
           "UG-W",
           "gambiae",
           105,
           "AGAP013128 (CYP6AA2) amp"
          ]
         ],
         "error_y": {
          "array": [
           0.07393006429617537,
           0.04865842050328624,
           0.25621643228791907,
           0.05578778316530819
          ],
          "arrayminus": [
           0.041350894607446745,
           0.03204265085105763,
           0.06321265568052034,
           0.023182778764130454
          ]
         },
         "hovertemplate": "<b>%{hovertext}</b><br><br>Area=%{customdata[1]}<br>Taxon=%{customdata[2]}<br>Frequency=%{y:.0%}<br>Period=%{customdata[0]}<br>Sample size=%{customdata[3]}<extra></extra>",
         "hovertext": [
          "AGAP013128 (CYP6AA2) amp",
          "AGAP013128 (CYP6AA2) amp",
          "AGAP013128 (CYP6AA2) amp",
          "AGAP013128 (CYP6AA2) amp"
         ],
         "legendgroup": "AGAP013128 (CYP6AA2) amp",
         "line": {
          "color": "#EF553B",
          "dash": "solid"
         },
         "marker": {
          "symbol": "circle"
         },
         "mode": "lines+markers",
         "name": "AGAP013128 (CYP6AA2) amp",
         "orientation": "v",
         "showlegend": false,
         "type": "scatter",
         "x": [
          "2012-01-01T00:00:00",
          "2017-01-01T00:00:00",
          "2018-01-01T00:00:00",
          "2019-01-01T00:00:00"
         ],
         "xaxis": "x",
         "y": [
          0.0851063829787234,
          0.0851063829787234,
          0.07692307692307693,
          0.0380952380952381
         ],
         "yaxis": "y"
        },
        {
         "customdata": [
          [
           "2013",
           "UG-C",
           "gambiae",
           46,
           "AGAP002865 (CYP6P3) amp"
          ],
          [
           "2014",
           "UG-C",
           "gambiae",
           143,
           "AGAP002865 (CYP6P3) amp"
          ],
          [
           "2015",
           "UG-C",
           "gambiae",
           183,
           "AGAP002865 (CYP6P3) amp"
          ],
          [
           "2016",
           "UG-C",
           "gambiae",
           129,
           "AGAP002865 (CYP6P3) amp"
          ],
          [
           "2017",
           "UG-C",
           "gambiae",
           187,
           "AGAP002865 (CYP6P3) amp"
          ],
          [
           "2018",
           "UG-C",
           "gambiae",
           317,
           "AGAP002865 (CYP6P3) amp"
          ]
         ],
         "error_y": {
          "array": [
           0.07707356308558042,
           0.026160587422281566,
           0.030688689403020723,
           0.04288829089839749,
           0.024316761564157796,
           0.014495032130069469
          ],
          "arrayminus": [
           0,
           0,
           0.010802795904785781,
           0.015315676520908917,
           0.004402987465481252,
           0.0025974971248635685
          ]
         },
         "hovertemplate": "<b>%{hovertext}</b><br><br>Area=%{customdata[1]}<br>Taxon=%{customdata[2]}<br>Frequency=%{y:.0%}<br>Period=%{customdata[0]}<br>Sample size=%{customdata[3]}<extra></extra>",
         "hovertext": [
          "AGAP002865 (CYP6P3) amp",
          "AGAP002865 (CYP6P3) amp",
          "AGAP002865 (CYP6P3) amp",
          "AGAP002865 (CYP6P3) amp",
          "AGAP002865 (CYP6P3) amp",
          "AGAP002865 (CYP6P3) amp"
         ],
         "legendgroup": "AGAP002865 (CYP6P3) amp",
         "line": {
          "color": "#00cc96",
          "dash": "solid"
         },
         "marker": {
          "symbol": "circle"
         },
         "mode": "lines+markers",
         "name": "AGAP002865 (CYP6P3) amp",
         "orientation": "v",
         "showlegend": true,
         "type": "scatter",
         "x": [
          "2013-01-01T00:00:00",
          "2014-01-01T00:00:00",
          "2015-01-01T00:00:00",
          "2016-01-01T00:00:00",
          "2017-01-01T00:00:00",
          "2018-01-01T00:00:00"
         ],
         "xaxis": "x3",
         "y": [
          0,
          0,
          0.01639344262295082,
          0.023255813953488372,
          0.0053475935828877,
          0.0031545741324921135
         ],
         "yaxis": "y3"
        },
        {
         "customdata": [
          [
           "2012",
           "UG-E",
           "gambiae",
           112,
           "AGAP002865 (CYP6P3) amp"
          ],
          [
           "2016",
           "UG-E",
           "gambiae",
           20,
           "AGAP002865 (CYP6P3) amp"
          ],
          [
           "2017",
           "UG-E",
           "gambiae",
           329,
           "AGAP002865 (CYP6P3) amp"
          ],
          [
           "2018",
           "UG-E",
           "gambiae",
           223,
           "AGAP002865 (CYP6P3) amp"
          ],
          [
           "2019",
           "UG-E",
           "gambiae",
           272,
           "AGAP002865 (CYP6P3) amp"
          ]
         ],
         "error_y": {
          "array": [
           0.03991989688031347,
           0.21041886474075697,
           0.018680908875413085,
           0.016934553501221274,
           0.01392632868575133
          ],
          "arrayminus": [
           0.007350716725279292,
           0.0976312541037834,
           0.007420143762352907,
           0,
           0
          ]
         },
         "hovertemplate": "<b>%{hovertext}</b><br><br>Area=%{customdata[1]}<br>Taxon=%{customdata[2]}<br>Frequency=%{y:.0%}<br>Period=%{customdata[0]}<br>Sample size=%{customdata[3]}<extra></extra>",
         "hovertext": [
          "AGAP002865 (CYP6P3) amp",
          "AGAP002865 (CYP6P3) amp",
          "AGAP002865 (CYP6P3) amp",
          "AGAP002865 (CYP6P3) amp",
          "AGAP002865 (CYP6P3) amp"
         ],
         "legendgroup": "AGAP002865 (CYP6P3) amp",
         "line": {
          "color": "#00cc96",
          "dash": "solid"
         },
         "marker": {
          "symbol": "circle"
         },
         "mode": "lines+markers",
         "name": "AGAP002865 (CYP6P3) amp",
         "orientation": "v",
         "showlegend": false,
         "type": "scatter",
         "x": [
          "2012-01-01T00:00:00",
          "2016-01-01T00:00:00",
          "2017-01-01T00:00:00",
          "2018-01-01T00:00:00",
          "2019-01-01T00:00:00"
         ],
         "xaxis": "x2",
         "y": [
          0.008928571428571428,
          0.15,
          0.0121580547112462,
          0,
          0
         ],
         "yaxis": "y2"
        },
        {
         "customdata": [
          [
           "2012",
           "UG-W",
           "gambiae",
           94,
           "AGAP002865 (CYP6P3) amp"
          ],
          [
           "2017",
           "UG-W",
           "gambiae",
           188,
           "AGAP002865 (CYP6P3) amp"
          ],
          [
           "2018",
           "UG-W",
           "gambiae",
           13,
           "AGAP002865 (CYP6P3) amp"
          ],
          [
           "2019",
           "UG-W",
           "gambiae",
           105,
           "AGAP002865 (CYP6P3) amp"
          ]
         ],
         "error_y": {
          "array": [
           0.061803266329455674,
           0.020024132657813932,
           0.25621643228791907,
           0.035294076929109915
          ],
          "arrayminus": [
           0.02588264333931898,
           0,
           0.06321265568052034,
           0
          ]
         },
         "hovertemplate": "<b>%{hovertext}</b><br><br>Area=%{customdata[1]}<br>Taxon=%{customdata[2]}<br>Frequency=%{y:.0%}<br>Period=%{customdata[0]}<br>Sample size=%{customdata[3]}<extra></extra>",
         "hovertext": [
          "AGAP002865 (CYP6P3) amp",
          "AGAP002865 (CYP6P3) amp",
          "AGAP002865 (CYP6P3) amp",
          "AGAP002865 (CYP6P3) amp"
         ],
         "legendgroup": "AGAP002865 (CYP6P3) amp",
         "line": {
          "color": "#00cc96",
          "dash": "solid"
         },
         "marker": {
          "symbol": "circle"
         },
         "mode": "lines+markers",
         "name": "AGAP002865 (CYP6P3) amp",
         "orientation": "v",
         "showlegend": false,
         "type": "scatter",
         "x": [
          "2012-01-01T00:00:00",
          "2017-01-01T00:00:00",
          "2018-01-01T00:00:00",
          "2019-01-01T00:00:00"
         ],
         "xaxis": "x",
         "y": [
          0.0425531914893617,
          0,
          0.07692307692307693,
          0
         ],
         "yaxis": "y"
        },
        {
         "customdata": [
          [
           "2013",
           "UG-C",
           "gambiae",
           46,
           "AGAP000818 (CYP9K1) amp"
          ],
          [
           "2014",
           "UG-C",
           "gambiae",
           143,
           "AGAP000818 (CYP9K1) amp"
          ],
          [
           "2015",
           "UG-C",
           "gambiae",
           183,
           "AGAP000818 (CYP9K1) amp"
          ],
          [
           "2016",
           "UG-C",
           "gambiae",
           129,
           "AGAP000818 (CYP9K1) amp"
          ],
          [
           "2017",
           "UG-C",
           "gambiae",
           187,
           "AGAP000818 (CYP9K1) amp"
          ],
          [
           "2018",
           "UG-C",
           "gambiae",
           317,
           "AGAP000818 (CYP9K1) amp"
          ]
         ],
         "error_y": {
          "array": [
           0.14356154394066895,
           0.07989181021199587,
           0.060383508234924554,
           0.07180510915876492,
           0.06647449708829178,
           0.043703061130328735
          ],
          "arrayminus": [
           0.13015744601274187,
           0.08153828074906255,
           0.06925913301662268,
           0.0836859917767071,
           0.07131838808526725,
           0.04993510327591266
          ]
         },
         "hovertemplate": "<b>%{hovertext}</b><br><br>Area=%{customdata[1]}<br>Taxon=%{customdata[2]}<br>Frequency=%{y:.0%}<br>Period=%{customdata[0]}<br>Sample size=%{customdata[3]}<extra></extra>",
         "hovertext": [
          "AGAP000818 (CYP9K1) amp",
          "AGAP000818 (CYP9K1) amp",
          "AGAP000818 (CYP9K1) amp",
          "AGAP000818 (CYP9K1) amp",
          "AGAP000818 (CYP9K1) amp",
          "AGAP000818 (CYP9K1) amp"
         ],
         "legendgroup": "AGAP000818 (CYP9K1) amp",
         "line": {
          "color": "#ab63fa",
          "dash": "solid"
         },
         "marker": {
          "symbol": "circle"
         },
         "mode": "lines+markers",
         "name": "AGAP000818 (CYP9K1) amp",
         "orientation": "v",
         "showlegend": true,
         "type": "scatter",
         "x": [
          "2013-01-01T00:00:00",
          "2014-01-01T00:00:00",
          "2015-01-01T00:00:00",
          "2016-01-01T00:00:00",
          "2017-01-01T00:00:00",
          "2018-01-01T00:00:00"
         ],
         "xaxis": "x3",
         "y": [
          0.41304347826086957,
          0.5314685314685315,
          0.7158469945355191,
          0.7054263565891473,
          0.6203208556149733,
          0.7602523659305994
         ],
         "yaxis": "y3"
        },
        {
         "customdata": [
          [
           "2012",
           "UG-E",
           "gambiae",
           112,
           "AGAP000818 (CYP9K1) amp"
          ],
          [
           "2016",
           "UG-E",
           "gambiae",
           20,
           "AGAP000818 (CYP9K1) amp"
          ],
          [
           "2017",
           "UG-E",
           "gambiae",
           329,
           "AGAP000818 (CYP9K1) amp"
          ],
          [
           "2018",
           "UG-E",
           "gambiae",
           223,
           "AGAP000818 (CYP9K1) amp"
          ],
          [
           "2019",
           "UG-E",
           "gambiae",
           272,
           "AGAP000818 (CYP9K1) amp"
          ]
         ],
         "error_y": {
          "array": [
           0.09212164125118827,
           0.21714572331476378,
           0.053902026735333286,
           0.06385199799097385,
           0.058896242201696536
          ],
          "arrayminus": [
           0.08264697066063287,
           0.16880817589891794,
           0.0534459832883869,
           0.06559861113235527,
           0.059101041152957556
          ]
         },
         "hovertemplate": "<b>%{hovertext}</b><br><br>Area=%{customdata[1]}<br>Taxon=%{customdata[2]}<br>Frequency=%{y:.0%}<br>Period=%{customdata[0]}<br>Sample size=%{customdata[3]}<extra></extra>",
         "hovertext": [
          "AGAP000818 (CYP9K1) amp",
          "AGAP000818 (CYP9K1) amp",
          "AGAP000818 (CYP9K1) amp",
          "AGAP000818 (CYP9K1) amp",
          "AGAP000818 (CYP9K1) amp"
         ],
         "legendgroup": "AGAP000818 (CYP9K1) amp",
         "line": {
          "color": "#ab63fa",
          "dash": "solid"
         },
         "marker": {
          "symbol": "circle"
         },
         "mode": "lines+markers",
         "name": "AGAP000818 (CYP9K1) amp",
         "orientation": "v",
         "showlegend": false,
         "type": "scatter",
         "x": [
          "2012-01-01T00:00:00",
          "2016-01-01T00:00:00",
          "2017-01-01T00:00:00",
          "2018-01-01T00:00:00",
          "2019-01-01T00:00:00"
         ],
         "xaxis": "x2",
         "y": [
          0.35714285714285715,
          0.35,
          0.48024316109422494,
          0.5515695067264574,
          0.5073529411764706
         ],
         "yaxis": "y2"
        },
        {
         "customdata": [
          [
           "2012",
           "UG-W",
           "gambiae",
           94,
           "AGAP000818 (CYP9K1) amp"
          ],
          [
           "2017",
           "UG-W",
           "gambiae",
           188,
           "AGAP000818 (CYP9K1) amp"
          ],
          [
           "2018",
           "UG-W",
           "gambiae",
           13,
           "AGAP000818 (CYP9K1) amp"
          ],
          [
           "2019",
           "UG-W",
           "gambiae",
           105,
           "AGAP000818 (CYP9K1) amp"
          ]
         ],
         "error_y": {
          "array": [
           0.06041833119905382,
           0.03320179680599811,
           0,
           0.0370798237597072
          ],
          "arrayminus": [
           0.0871499576103183,
           0.049604543770377596,
           0.22809537235419852,
           0.06699575563295279
          ]
         },
         "hovertemplate": "<b>%{hovertext}</b><br><br>Area=%{customdata[1]}<br>Taxon=%{customdata[2]}<br>Frequency=%{y:.0%}<br>Period=%{customdata[0]}<br>Sample size=%{customdata[3]}<extra></extra>",
         "hovertext": [
          "AGAP000818 (CYP9K1) amp",
          "AGAP000818 (CYP9K1) amp",
          "AGAP000818 (CYP9K1) amp",
          "AGAP000818 (CYP9K1) amp"
         ],
         "legendgroup": "AGAP000818 (CYP9K1) amp",
         "line": {
          "color": "#ab63fa",
          "dash": "solid"
         },
         "marker": {
          "symbol": "circle"
         },
         "mode": "lines+markers",
         "name": "AGAP000818 (CYP9K1) amp",
         "orientation": "v",
         "showlegend": false,
         "type": "scatter",
         "x": [
          "2012-01-01T00:00:00",
          "2017-01-01T00:00:00",
          "2018-01-01T00:00:00",
          "2019-01-01T00:00:00"
         ],
         "xaxis": "x",
         "y": [
          0.8404255319148937,
          0.9095744680851063,
          1,
          0.9238095238095239
         ],
         "yaxis": "y"
        },
        {
         "customdata": [
          [
           "2013",
           "UG-C",
           "gambiae",
           46,
           "AGAP008212 (CYP6M2) amp"
          ],
          [
           "2014",
           "UG-C",
           "gambiae",
           143,
           "AGAP008212 (CYP6M2) amp"
          ],
          [
           "2015",
           "UG-C",
           "gambiae",
           183,
           "AGAP008212 (CYP6M2) amp"
          ],
          [
           "2016",
           "UG-C",
           "gambiae",
           129,
           "AGAP008212 (CYP6M2) amp"
          ],
          [
           "2017",
           "UG-C",
           "gambiae",
           187,
           "AGAP008212 (CYP6M2) amp"
          ],
          [
           "2018",
           "UG-C",
           "gambiae",
           317,
           "AGAP008212 (CYP6M2) amp"
          ]
         ],
         "error_y": {
          "array": [
           0.07707356308558042,
           0.03155220618354436,
           0.02055999158292087,
           0.02891761995687827,
           0.02745575429983041,
           0.016399238793341476
          ],
          "arrayminus": [
           0,
           0.005757501102833168,
           0,
           0,
           0.007757264245463887,
           0.0045772436929305315
          ]
         },
         "hovertemplate": "<b>%{hovertext}</b><br><br>Area=%{customdata[1]}<br>Taxon=%{customdata[2]}<br>Frequency=%{y:.0%}<br>Period=%{customdata[0]}<br>Sample size=%{customdata[3]}<extra></extra>",
         "hovertext": [
          "AGAP008212 (CYP6M2) amp",
          "AGAP008212 (CYP6M2) amp",
          "AGAP008212 (CYP6M2) amp",
          "AGAP008212 (CYP6M2) amp",
          "AGAP008212 (CYP6M2) amp",
          "AGAP008212 (CYP6M2) amp"
         ],
         "legendgroup": "AGAP008212 (CYP6M2) amp",
         "line": {
          "color": "#FFA15A",
          "dash": "solid"
         },
         "marker": {
          "symbol": "circle"
         },
         "mode": "lines+markers",
         "name": "AGAP008212 (CYP6M2) amp",
         "orientation": "v",
         "showlegend": true,
         "type": "scatter",
         "x": [
          "2013-01-01T00:00:00",
          "2014-01-01T00:00:00",
          "2015-01-01T00:00:00",
          "2016-01-01T00:00:00",
          "2017-01-01T00:00:00",
          "2018-01-01T00:00:00"
         ],
         "xaxis": "x3",
         "y": [
          0,
          0.006993006993006993,
          0,
          0,
          0.0106951871657754,
          0.006309148264984227
         ],
         "yaxis": "y3"
        },
        {
         "customdata": [
          [
           "2012",
           "UG-E",
           "gambiae",
           112,
           "AGAP008212 (CYP6M2) amp"
          ],
          [
           "2016",
           "UG-E",
           "gambiae",
           20,
           "AGAP008212 (CYP6M2) amp"
          ],
          [
           "2017",
           "UG-E",
           "gambiae",
           329,
           "AGAP008212 (CYP6M2) amp"
          ],
          [
           "2018",
           "UG-E",
           "gambiae",
           223,
           "AGAP008212 (CYP6M2) amp"
          ],
          [
           "2019",
           "UG-E",
           "gambiae",
           272,
           "AGAP008212 (CYP6M2) amp"
          ]
         ],
         "error_y": {
          "array": [
           0.03316134706694389,
           0.1611251580528194,
           0.017343588609720552,
           0.02534626730308139,
           0.019055707789347606
          ],
          "arrayminus": [
           -3.469446951953614e-18,
           0,
           0.006012662966360934,
           0.008867352012655306,
           0.005334178054857324
          ]
         },
         "hovertemplate": "<b>%{hovertext}</b><br><br>Area=%{customdata[1]}<br>Taxon=%{customdata[2]}<br>Frequency=%{y:.0%}<br>Period=%{customdata[0]}<br>Sample size=%{customdata[3]}<extra></extra>",
         "hovertext": [
          "AGAP008212 (CYP6M2) amp",
          "AGAP008212 (CYP6M2) amp",
          "AGAP008212 (CYP6M2) amp",
          "AGAP008212 (CYP6M2) amp",
          "AGAP008212 (CYP6M2) amp"
         ],
         "legendgroup": "AGAP008212 (CYP6M2) amp",
         "line": {
          "color": "#FFA15A",
          "dash": "solid"
         },
         "marker": {
          "symbol": "circle"
         },
         "mode": "lines+markers",
         "name": "AGAP008212 (CYP6M2) amp",
         "orientation": "v",
         "showlegend": false,
         "type": "scatter",
         "x": [
          "2012-01-01T00:00:00",
          "2016-01-01T00:00:00",
          "2017-01-01T00:00:00",
          "2018-01-01T00:00:00",
          "2019-01-01T00:00:00"
         ],
         "xaxis": "x2",
         "y": [
          0,
          0,
          0.00911854103343465,
          0.013452914798206279,
          0.007352941176470588
         ],
         "yaxis": "y2"
        },
        {
         "customdata": [
          [
           "2012",
           "UG-W",
           "gambiae",
           94,
           "AGAP008212 (CYP6M2) amp"
          ],
          [
           "2017",
           "UG-W",
           "gambiae",
           188,
           "AGAP008212 (CYP6M2) amp"
          ],
          [
           "2018",
           "UG-W",
           "gambiae",
           13,
           "AGAP008212 (CYP6M2) amp"
          ],
          [
           "2019",
           "UG-W",
           "gambiae",
           105,
           "AGAP008212 (CYP6M2) amp"
          ]
         ],
         "error_y": {
          "array": [
           0.039262076291544754,
           0.029900952987258107,
           0.22809537235419847,
           0.035294076929109915
          ],
          "arrayminus": [
           0,
           0.010515888392991429,
           0,
           0
          ]
         },
         "hovertemplate": "<b>%{hovertext}</b><br><br>Area=%{customdata[1]}<br>Taxon=%{customdata[2]}<br>Frequency=%{y:.0%}<br>Period=%{customdata[0]}<br>Sample size=%{customdata[3]}<extra></extra>",
         "hovertext": [
          "AGAP008212 (CYP6M2) amp",
          "AGAP008212 (CYP6M2) amp",
          "AGAP008212 (CYP6M2) amp",
          "AGAP008212 (CYP6M2) amp"
         ],
         "legendgroup": "AGAP008212 (CYP6M2) amp",
         "line": {
          "color": "#FFA15A",
          "dash": "solid"
         },
         "marker": {
          "symbol": "circle"
         },
         "mode": "lines+markers",
         "name": "AGAP008212 (CYP6M2) amp",
         "orientation": "v",
         "showlegend": false,
         "type": "scatter",
         "x": [
          "2012-01-01T00:00:00",
          "2017-01-01T00:00:00",
          "2018-01-01T00:00:00",
          "2019-01-01T00:00:00"
         ],
         "xaxis": "x",
         "y": [
          0,
          0.015957446808510637,
          0,
          0
         ],
         "yaxis": "y"
        },
        {
         "customdata": [
          [
           "2013",
           "UG-C",
           "gambiae",
           46,
           "AGAP008218 (CYP6Z2) amp"
          ],
          [
           "2014",
           "UG-C",
           "gambiae",
           143,
           "AGAP008218 (CYP6Z2) amp"
          ],
          [
           "2015",
           "UG-C",
           "gambiae",
           183,
           "AGAP008218 (CYP6Z2) amp"
          ],
          [
           "2016",
           "UG-C",
           "gambiae",
           129,
           "AGAP008218 (CYP6Z2) amp"
          ],
          [
           "2017",
           "UG-C",
           "gambiae",
           187,
           "AGAP008218 (CYP6Z2) amp"
          ],
          [
           "2018",
           "UG-C",
           "gambiae",
           317,
           "AGAP008218 (CYP6Z2) amp"
          ]
         ],
         "error_y": {
          "array": [
           0.14022095079361158,
           0.07196148531102525,
           0.046695219559695245,
           0.06254558670813765,
           0.030055250227776657,
           0.022789496277847446
          ],
          "arrayminus": [
           0.10000865700983047,
           0.05567972111114372,
           0.029056319677080056,
           0.039007989068818145,
           0.01057204421772015,
           0.011345200701411286
          ]
         },
         "hovertemplate": "<b>%{hovertext}</b><br><br>Area=%{customdata[1]}<br>Taxon=%{customdata[2]}<br>Frequency=%{y:.0%}<br>Period=%{customdata[0]}<br>Sample size=%{customdata[3]}<extra></extra>",
         "hovertext": [
          "AGAP008218 (CYP6Z2) amp",
          "AGAP008218 (CYP6Z2) amp",
          "AGAP008218 (CYP6Z2) amp",
          "AGAP008218 (CYP6Z2) amp",
          "AGAP008218 (CYP6Z2) amp",
          "AGAP008218 (CYP6Z2) amp"
         ],
         "legendgroup": "AGAP008218 (CYP6Z2) amp",
         "line": {
          "color": "#19d3f3",
          "dash": "solid"
         },
         "marker": {
          "symbol": "circle"
         },
         "mode": "lines+markers",
         "name": "AGAP008218 (CYP6Z2) amp",
         "orientation": "v",
         "showlegend": true,
         "type": "scatter",
         "x": [
          "2013-01-01T00:00:00",
          "2014-01-01T00:00:00",
          "2015-01-01T00:00:00",
          "2016-01-01T00:00:00",
          "2017-01-01T00:00:00",
          "2018-01-01T00:00:00"
         ],
         "xaxis": "x3",
         "y": [
          0.2391304347826087,
          0.1888111888111888,
          0.07103825136612021,
          0.09302325581395349,
          0.016042780748663103,
          0.022082018927444796
         ],
         "yaxis": "y3"
        },
        {
         "customdata": [
          [
           "2012",
           "UG-E",
           "gambiae",
           112,
           "AGAP008218 (CYP6Z2) amp"
          ],
          [
           "2016",
           "UG-E",
           "gambiae",
           20,
           "AGAP008218 (CYP6Z2) amp"
          ],
          [
           "2017",
           "UG-E",
           "gambiae",
           329,
           "AGAP008218 (CYP6Z2) amp"
          ],
          [
           "2018",
           "UG-E",
           "gambiae",
           223,
           "AGAP008218 (CYP6Z2) amp"
          ],
          [
           "2019",
           "UG-E",
           "gambiae",
           272,
           "AGAP008218 (CYP6Z2) amp"
          ]
         ],
         "error_y": {
          "array": [
           0.05253235273891388,
           0.18613119344674212,
           0.024642681290030086,
           0.034550621298883304,
           0.031400672783190385
          ],
          "arrayminus": [
           0.021739673319608827,
           0.0411185511992046,
           0.013802879358766545,
           0.018982982430047594,
           0.018703137805005342
          ]
         },
         "hovertemplate": "<b>%{hovertext}</b><br><br>Area=%{customdata[1]}<br>Taxon=%{customdata[2]}<br>Frequency=%{y:.0%}<br>Period=%{customdata[0]}<br>Sample size=%{customdata[3]}<extra></extra>",
         "hovertext": [
          "AGAP008218 (CYP6Z2) amp",
          "AGAP008218 (CYP6Z2) amp",
          "AGAP008218 (CYP6Z2) amp",
          "AGAP008218 (CYP6Z2) amp",
          "AGAP008218 (CYP6Z2) amp"
         ],
         "legendgroup": "AGAP008218 (CYP6Z2) amp",
         "line": {
          "color": "#19d3f3",
          "dash": "solid"
         },
         "marker": {
          "symbol": "circle"
         },
         "mode": "lines+markers",
         "name": "AGAP008218 (CYP6Z2) amp",
         "orientation": "v",
         "showlegend": false,
         "type": "scatter",
         "x": [
          "2012-01-01T00:00:00",
          "2016-01-01T00:00:00",
          "2017-01-01T00:00:00",
          "2018-01-01T00:00:00",
          "2019-01-01T00:00:00"
         ],
         "xaxis": "x2",
         "y": [
          0.03571428571428571,
          0.05,
          0.030395136778115502,
          0.04035874439461883,
          0.04411764705882353
         ],
         "yaxis": "y2"
        },
        {
         "customdata": [
          [
           "2012",
           "UG-W",
           "gambiae",
           94,
           "AGAP008218 (CYP6Z2) amp"
          ],
          [
           "2017",
           "UG-W",
           "gambiae",
           188,
           "AGAP008218 (CYP6Z2) amp"
          ],
          [
           "2018",
           "UG-W",
           "gambiae",
           13,
           "AGAP008218 (CYP6Z2) amp"
          ],
          [
           "2019",
           "UG-W",
           "gambiae",
           105,
           "AGAP008218 (CYP6Z2) amp"
          ]
         ],
         "error_y": {
          "array": [
           0.06849994827590118,
           0.041939473785807334,
           0.22809537235419847,
           0.04775797764679994
          ],
          "arrayminus": [
           0.034250051936468524,
           0.024045568006484233,
           0,
           0.013808436981656111
          ]
         },
         "hovertemplate": "<b>%{hovertext}</b><br><br>Area=%{customdata[1]}<br>Taxon=%{customdata[2]}<br>Frequency=%{y:.0%}<br>Period=%{customdata[0]}<br>Sample size=%{customdata[3]}<extra></extra>",
         "hovertext": [
          "AGAP008218 (CYP6Z2) amp",
          "AGAP008218 (CYP6Z2) amp",
          "AGAP008218 (CYP6Z2) amp",
          "AGAP008218 (CYP6Z2) amp"
         ],
         "legendgroup": "AGAP008218 (CYP6Z2) amp",
         "line": {
          "color": "#19d3f3",
          "dash": "solid"
         },
         "marker": {
          "symbol": "circle"
         },
         "mode": "lines+markers",
         "name": "AGAP008218 (CYP6Z2) amp",
         "orientation": "v",
         "showlegend": false,
         "type": "scatter",
         "x": [
          "2012-01-01T00:00:00",
          "2017-01-01T00:00:00",
          "2018-01-01T00:00:00",
          "2019-01-01T00:00:00"
         ],
         "xaxis": "x",
         "y": [
          0.06382978723404255,
          0.05319148936170213,
          0,
          0.01904761904761905
         ],
         "yaxis": "y"
        },
        {
         "customdata": [
          [
           "2013",
           "UG-C",
           "gambiae",
           46,
           "AGAP008218 (CYP6Z2) del"
          ],
          [
           "2014",
           "UG-C",
           "gambiae",
           143,
           "AGAP008218 (CYP6Z2) del"
          ],
          [
           "2015",
           "UG-C",
           "gambiae",
           183,
           "AGAP008218 (CYP6Z2) del"
          ],
          [
           "2016",
           "UG-C",
           "gambiae",
           129,
           "AGAP008218 (CYP6Z2) del"
          ],
          [
           "2017",
           "UG-C",
           "gambiae",
           187,
           "AGAP008218 (CYP6Z2) del"
          ],
          [
           "2018",
           "UG-C",
           "gambiae",
           317,
           "AGAP008218 (CYP6Z2) del"
          ]
         ],
         "error_y": {
          "array": [
           0.07707356308558042,
           0.026160587422281566,
           0.02055999158292087,
           0.02891761995687827,
           0.030055250227776657,
           0.020612688256720295
          ],
          "arrayminus": [
           0,
           0,
           0,
           0,
           0.01057204421772015,
           0.009017312870694225
          ]
         },
         "hovertemplate": "<b>%{hovertext}</b><br><br>Area=%{customdata[1]}<br>Taxon=%{customdata[2]}<br>Frequency=%{y:.0%}<br>Period=%{customdata[0]}<br>Sample size=%{customdata[3]}<extra></extra>",
         "hovertext": [
          "AGAP008218 (CYP6Z2) del",
          "AGAP008218 (CYP6Z2) del",
          "AGAP008218 (CYP6Z2) del",
          "AGAP008218 (CYP6Z2) del",
          "AGAP008218 (CYP6Z2) del",
          "AGAP008218 (CYP6Z2) del"
         ],
         "legendgroup": "AGAP008218 (CYP6Z2) del",
         "line": {
          "color": "#FF6692",
          "dash": "solid"
         },
         "marker": {
          "symbol": "circle"
         },
         "mode": "lines+markers",
         "name": "AGAP008218 (CYP6Z2) del",
         "orientation": "v",
         "showlegend": true,
         "type": "scatter",
         "x": [
          "2013-01-01T00:00:00",
          "2014-01-01T00:00:00",
          "2015-01-01T00:00:00",
          "2016-01-01T00:00:00",
          "2017-01-01T00:00:00",
          "2018-01-01T00:00:00"
         ],
         "xaxis": "x3",
         "y": [
          0,
          0,
          0,
          0,
          0.016042780748663103,
          0.015772870662460567
         ],
         "yaxis": "y3"
        },
        {
         "customdata": [
          [
           "2012",
           "UG-E",
           "gambiae",
           112,
           "AGAP008218 (CYP6Z2) del"
          ],
          [
           "2016",
           "UG-E",
           "gambiae",
           20,
           "AGAP008218 (CYP6Z2) del"
          ],
          [
           "2017",
           "UG-E",
           "gambiae",
           329,
           "AGAP008218 (CYP6Z2) del"
          ],
          [
           "2018",
           "UG-E",
           "gambiae",
           223,
           "AGAP008218 (CYP6Z2) del"
          ],
          [
           "2019",
           "UG-E",
           "gambiae",
           272,
           "AGAP008218 (CYP6Z2) del"
          ]
         ],
         "error_y": {
          "array": [
           0.05839883515087225,
           0.1611251580528194,
           0.02380824862300378,
           0.030540847110703546,
           0.025222706967633447
          ],
          "arrayminus": [
           0.028790489555386628,
           0,
           0.012898286161440793,
           0.014517570031072648,
           0.011910775135665262
          ]
         },
         "hovertemplate": "<b>%{hovertext}</b><br><br>Area=%{customdata[1]}<br>Taxon=%{customdata[2]}<br>Frequency=%{y:.0%}<br>Period=%{customdata[0]}<br>Sample size=%{customdata[3]}<extra></extra>",
         "hovertext": [
          "AGAP008218 (CYP6Z2) del",
          "AGAP008218 (CYP6Z2) del",
          "AGAP008218 (CYP6Z2) del",
          "AGAP008218 (CYP6Z2) del",
          "AGAP008218 (CYP6Z2) del"
         ],
         "legendgroup": "AGAP008218 (CYP6Z2) del",
         "line": {
          "color": "#FF6692",
          "dash": "solid"
         },
         "marker": {
          "symbol": "circle"
         },
         "mode": "lines+markers",
         "name": "AGAP008218 (CYP6Z2) del",
         "orientation": "v",
         "showlegend": false,
         "type": "scatter",
         "x": [
          "2012-01-01T00:00:00",
          "2016-01-01T00:00:00",
          "2017-01-01T00:00:00",
          "2018-01-01T00:00:00",
          "2019-01-01T00:00:00"
         ],
         "xaxis": "x2",
         "y": [
          0.05357142857142857,
          0,
          0.02735562310030395,
          0.026905829596412557,
          0.022058823529411766
         ],
         "yaxis": "y2"
        },
        {
         "customdata": [
          [
           "2012",
           "UG-W",
           "gambiae",
           94,
           "AGAP008218 (CYP6Z2) del"
          ],
          [
           "2017",
           "UG-W",
           "gambiae",
           188,
           "AGAP008218 (CYP6Z2) del"
          ],
          [
           "2018",
           "UG-W",
           "gambiae",
           13,
           "AGAP008218 (CYP6Z2) del"
          ],
          [
           "2019",
           "UG-W",
           "gambiae",
           105,
           "AGAP008218 (CYP6Z2) del"
          ]
         ],
         "error_y": {
          "array": [
           0.04718461509044523,
           0.03214422075252581,
           0.25621643228791907,
           0.05578778316530819
          ],
          "arrayminus": [
           0.008757902124252486,
           0.012972178846108216,
           0.06321265568052034,
           0.023182778764130454
          ]
         },
         "hovertemplate": "<b>%{hovertext}</b><br><br>Area=%{customdata[1]}<br>Taxon=%{customdata[2]}<br>Frequency=%{y:.0%}<br>Period=%{customdata[0]}<br>Sample size=%{customdata[3]}<extra></extra>",
         "hovertext": [
          "AGAP008218 (CYP6Z2) del",
          "AGAP008218 (CYP6Z2) del",
          "AGAP008218 (CYP6Z2) del",
          "AGAP008218 (CYP6Z2) del"
         ],
         "legendgroup": "AGAP008218 (CYP6Z2) del",
         "line": {
          "color": "#FF6692",
          "dash": "solid"
         },
         "marker": {
          "symbol": "circle"
         },
         "mode": "lines+markers",
         "name": "AGAP008218 (CYP6Z2) del",
         "orientation": "v",
         "showlegend": false,
         "type": "scatter",
         "x": [
          "2012-01-01T00:00:00",
          "2017-01-01T00:00:00",
          "2018-01-01T00:00:00",
          "2019-01-01T00:00:00"
         ],
         "xaxis": "x",
         "y": [
          0.010638297872340425,
          0.02127659574468085,
          0.07692307692307693,
          0.0380952380952381
         ],
         "yaxis": "y"
        }
       ],
       "layout": {
        "annotations": [
         {
          "font": {},
          "showarrow": false,
          "text": "Taxon=gambiae",
          "x": 0.49,
          "xanchor": "center",
          "xref": "paper",
          "y": 0.9999999999999998,
          "yanchor": "bottom",
          "yref": "paper"
         },
         {
          "font": {},
          "showarrow": false,
          "text": "Area=UG-W",
          "textangle": 90,
          "x": 0.98,
          "xanchor": "left",
          "xref": "paper",
          "y": 0.15666666666666665,
          "yanchor": "middle",
          "yref": "paper"
         },
         {
          "font": {},
          "showarrow": false,
          "text": "Area=UG-E",
          "textangle": 90,
          "x": 0.98,
          "xanchor": "left",
          "xref": "paper",
          "y": 0.4999999999999999,
          "yanchor": "middle",
          "yref": "paper"
         },
         {
          "font": {},
          "showarrow": false,
          "text": "Area=UG-C",
          "textangle": 90,
          "x": 0.98,
          "xanchor": "left",
          "xref": "paper",
          "y": 0.8433333333333332,
          "yanchor": "middle",
          "yref": "paper"
         }
        ],
        "autosize": true,
        "legend": {
         "itemsizing": "constant",
         "title": {
          "text": "Variant"
         },
         "tracegroupgap": 0
        },
        "template": {
         "data": {
          "bar": [
           {
            "error_x": {
             "color": "#2a3f5f"
            },
            "error_y": {
             "color": "#2a3f5f"
            },
            "marker": {
             "line": {
              "color": "#E5ECF6",
              "width": 0.5
             },
             "pattern": {
              "fillmode": "overlay",
              "size": 10,
              "solidity": 0.2
             }
            },
            "type": "bar"
           }
          ],
          "barpolar": [
           {
            "marker": {
             "line": {
              "color": "#E5ECF6",
              "width": 0.5
             },
             "pattern": {
              "fillmode": "overlay",
              "size": 10,
              "solidity": 0.2
             }
            },
            "type": "barpolar"
           }
          ],
          "carpet": [
           {
            "aaxis": {
             "endlinecolor": "#2a3f5f",
             "gridcolor": "white",
             "linecolor": "white",
             "minorgridcolor": "white",
             "startlinecolor": "#2a3f5f"
            },
            "baxis": {
             "endlinecolor": "#2a3f5f",
             "gridcolor": "white",
             "linecolor": "white",
             "minorgridcolor": "white",
             "startlinecolor": "#2a3f5f"
            },
            "type": "carpet"
           }
          ],
          "choropleth": [
           {
            "colorbar": {
             "outlinewidth": 0,
             "ticks": ""
            },
            "type": "choropleth"
           }
          ],
          "contour": [
           {
            "colorbar": {
             "outlinewidth": 0,
             "ticks": ""
            },
            "colorscale": [
             [
              0,
              "#0d0887"
             ],
             [
              0.1111111111111111,
              "#46039f"
             ],
             [
              0.2222222222222222,
              "#7201a8"
             ],
             [
              0.3333333333333333,
              "#9c179e"
             ],
             [
              0.4444444444444444,
              "#bd3786"
             ],
             [
              0.5555555555555556,
              "#d8576b"
             ],
             [
              0.6666666666666666,
              "#ed7953"
             ],
             [
              0.7777777777777778,
              "#fb9f3a"
             ],
             [
              0.8888888888888888,
              "#fdca26"
             ],
             [
              1,
              "#f0f921"
             ]
            ],
            "type": "contour"
           }
          ],
          "contourcarpet": [
           {
            "colorbar": {
             "outlinewidth": 0,
             "ticks": ""
            },
            "type": "contourcarpet"
           }
          ],
          "heatmap": [
           {
            "colorbar": {
             "outlinewidth": 0,
             "ticks": ""
            },
            "colorscale": [
             [
              0,
              "#0d0887"
             ],
             [
              0.1111111111111111,
              "#46039f"
             ],
             [
              0.2222222222222222,
              "#7201a8"
             ],
             [
              0.3333333333333333,
              "#9c179e"
             ],
             [
              0.4444444444444444,
              "#bd3786"
             ],
             [
              0.5555555555555556,
              "#d8576b"
             ],
             [
              0.6666666666666666,
              "#ed7953"
             ],
             [
              0.7777777777777778,
              "#fb9f3a"
             ],
             [
              0.8888888888888888,
              "#fdca26"
             ],
             [
              1,
              "#f0f921"
             ]
            ],
            "type": "heatmap"
           }
          ],
          "heatmapgl": [
           {
            "colorbar": {
             "outlinewidth": 0,
             "ticks": ""
            },
            "colorscale": [
             [
              0,
              "#0d0887"
             ],
             [
              0.1111111111111111,
              "#46039f"
             ],
             [
              0.2222222222222222,
              "#7201a8"
             ],
             [
              0.3333333333333333,
              "#9c179e"
             ],
             [
              0.4444444444444444,
              "#bd3786"
             ],
             [
              0.5555555555555556,
              "#d8576b"
             ],
             [
              0.6666666666666666,
              "#ed7953"
             ],
             [
              0.7777777777777778,
              "#fb9f3a"
             ],
             [
              0.8888888888888888,
              "#fdca26"
             ],
             [
              1,
              "#f0f921"
             ]
            ],
            "type": "heatmapgl"
           }
          ],
          "histogram": [
           {
            "marker": {
             "pattern": {
              "fillmode": "overlay",
              "size": 10,
              "solidity": 0.2
             }
            },
            "type": "histogram"
           }
          ],
          "histogram2d": [
           {
            "colorbar": {
             "outlinewidth": 0,
             "ticks": ""
            },
            "colorscale": [
             [
              0,
              "#0d0887"
             ],
             [
              0.1111111111111111,
              "#46039f"
             ],
             [
              0.2222222222222222,
              "#7201a8"
             ],
             [
              0.3333333333333333,
              "#9c179e"
             ],
             [
              0.4444444444444444,
              "#bd3786"
             ],
             [
              0.5555555555555556,
              "#d8576b"
             ],
             [
              0.6666666666666666,
              "#ed7953"
             ],
             [
              0.7777777777777778,
              "#fb9f3a"
             ],
             [
              0.8888888888888888,
              "#fdca26"
             ],
             [
              1,
              "#f0f921"
             ]
            ],
            "type": "histogram2d"
           }
          ],
          "histogram2dcontour": [
           {
            "colorbar": {
             "outlinewidth": 0,
             "ticks": ""
            },
            "colorscale": [
             [
              0,
              "#0d0887"
             ],
             [
              0.1111111111111111,
              "#46039f"
             ],
             [
              0.2222222222222222,
              "#7201a8"
             ],
             [
              0.3333333333333333,
              "#9c179e"
             ],
             [
              0.4444444444444444,
              "#bd3786"
             ],
             [
              0.5555555555555556,
              "#d8576b"
             ],
             [
              0.6666666666666666,
              "#ed7953"
             ],
             [
              0.7777777777777778,
              "#fb9f3a"
             ],
             [
              0.8888888888888888,
              "#fdca26"
             ],
             [
              1,
              "#f0f921"
             ]
            ],
            "type": "histogram2dcontour"
           }
          ],
          "mesh3d": [
           {
            "colorbar": {
             "outlinewidth": 0,
             "ticks": ""
            },
            "type": "mesh3d"
           }
          ],
          "parcoords": [
           {
            "line": {
             "colorbar": {
              "outlinewidth": 0,
              "ticks": ""
             }
            },
            "type": "parcoords"
           }
          ],
          "pie": [
           {
            "automargin": true,
            "type": "pie"
           }
          ],
          "scatter": [
           {
            "fillpattern": {
             "fillmode": "overlay",
             "size": 10,
             "solidity": 0.2
            },
            "type": "scatter"
           }
          ],
          "scatter3d": [
           {
            "line": {
             "colorbar": {
              "outlinewidth": 0,
              "ticks": ""
             }
            },
            "marker": {
             "colorbar": {
              "outlinewidth": 0,
              "ticks": ""
             }
            },
            "type": "scatter3d"
           }
          ],
          "scattercarpet": [
           {
            "marker": {
             "colorbar": {
              "outlinewidth": 0,
              "ticks": ""
             }
            },
            "type": "scattercarpet"
           }
          ],
          "scattergeo": [
           {
            "marker": {
             "colorbar": {
              "outlinewidth": 0,
              "ticks": ""
             }
            },
            "type": "scattergeo"
           }
          ],
          "scattergl": [
           {
            "marker": {
             "colorbar": {
              "outlinewidth": 0,
              "ticks": ""
             }
            },
            "type": "scattergl"
           }
          ],
          "scattermapbox": [
           {
            "marker": {
             "colorbar": {
              "outlinewidth": 0,
              "ticks": ""
             }
            },
            "type": "scattermapbox"
           }
          ],
          "scatterpolar": [
           {
            "marker": {
             "colorbar": {
              "outlinewidth": 0,
              "ticks": ""
             }
            },
            "type": "scatterpolar"
           }
          ],
          "scatterpolargl": [
           {
            "marker": {
             "colorbar": {
              "outlinewidth": 0,
              "ticks": ""
             }
            },
            "type": "scatterpolargl"
           }
          ],
          "scatterternary": [
           {
            "marker": {
             "colorbar": {
              "outlinewidth": 0,
              "ticks": ""
             }
            },
            "type": "scatterternary"
           }
          ],
          "surface": [
           {
            "colorbar": {
             "outlinewidth": 0,
             "ticks": ""
            },
            "colorscale": [
             [
              0,
              "#0d0887"
             ],
             [
              0.1111111111111111,
              "#46039f"
             ],
             [
              0.2222222222222222,
              "#7201a8"
             ],
             [
              0.3333333333333333,
              "#9c179e"
             ],
             [
              0.4444444444444444,
              "#bd3786"
             ],
             [
              0.5555555555555556,
              "#d8576b"
             ],
             [
              0.6666666666666666,
              "#ed7953"
             ],
             [
              0.7777777777777778,
              "#fb9f3a"
             ],
             [
              0.8888888888888888,
              "#fdca26"
             ],
             [
              1,
              "#f0f921"
             ]
            ],
            "type": "surface"
           }
          ],
          "table": [
           {
            "cells": {
             "fill": {
              "color": "#EBF0F8"
             },
             "line": {
              "color": "white"
             }
            },
            "header": {
             "fill": {
              "color": "#C8D4E3"
             },
             "line": {
              "color": "white"
             }
            },
            "type": "table"
           }
          ]
         },
         "layout": {
          "annotationdefaults": {
           "arrowcolor": "#2a3f5f",
           "arrowhead": 0,
           "arrowwidth": 1
          },
          "autotypenumbers": "strict",
          "coloraxis": {
           "colorbar": {
            "outlinewidth": 0,
            "ticks": ""
           }
          },
          "colorscale": {
           "diverging": [
            [
             0,
             "#8e0152"
            ],
            [
             0.1,
             "#c51b7d"
            ],
            [
             0.2,
             "#de77ae"
            ],
            [
             0.3,
             "#f1b6da"
            ],
            [
             0.4,
             "#fde0ef"
            ],
            [
             0.5,
             "#f7f7f7"
            ],
            [
             0.6,
             "#e6f5d0"
            ],
            [
             0.7,
             "#b8e186"
            ],
            [
             0.8,
             "#7fbc41"
            ],
            [
             0.9,
             "#4d9221"
            ],
            [
             1,
             "#276419"
            ]
           ],
           "sequential": [
            [
             0,
             "#0d0887"
            ],
            [
             0.1111111111111111,
             "#46039f"
            ],
            [
             0.2222222222222222,
             "#7201a8"
            ],
            [
             0.3333333333333333,
             "#9c179e"
            ],
            [
             0.4444444444444444,
             "#bd3786"
            ],
            [
             0.5555555555555556,
             "#d8576b"
            ],
            [
             0.6666666666666666,
             "#ed7953"
            ],
            [
             0.7777777777777778,
             "#fb9f3a"
            ],
            [
             0.8888888888888888,
             "#fdca26"
            ],
            [
             1,
             "#f0f921"
            ]
           ],
           "sequentialminus": [
            [
             0,
             "#0d0887"
            ],
            [
             0.1111111111111111,
             "#46039f"
            ],
            [
             0.2222222222222222,
             "#7201a8"
            ],
            [
             0.3333333333333333,
             "#9c179e"
            ],
            [
             0.4444444444444444,
             "#bd3786"
            ],
            [
             0.5555555555555556,
             "#d8576b"
            ],
            [
             0.6666666666666666,
             "#ed7953"
            ],
            [
             0.7777777777777778,
             "#fb9f3a"
            ],
            [
             0.8888888888888888,
             "#fdca26"
            ],
            [
             1,
             "#f0f921"
            ]
           ]
          },
          "colorway": [
           "#636efa",
           "#EF553B",
           "#00cc96",
           "#ab63fa",
           "#FFA15A",
           "#19d3f3",
           "#FF6692",
           "#B6E880",
           "#FF97FF",
           "#FECB52"
          ],
          "font": {
           "color": "#2a3f5f"
          },
          "geo": {
           "bgcolor": "white",
           "lakecolor": "white",
           "landcolor": "#E5ECF6",
           "showlakes": true,
           "showland": true,
           "subunitcolor": "white"
          },
          "hoverlabel": {
           "align": "left"
          },
          "hovermode": "closest",
          "mapbox": {
           "style": "light"
          },
          "paper_bgcolor": "white",
          "plot_bgcolor": "#E5ECF6",
          "polar": {
           "angularaxis": {
            "gridcolor": "white",
            "linecolor": "white",
            "ticks": ""
           },
           "bgcolor": "#E5ECF6",
           "radialaxis": {
            "gridcolor": "white",
            "linecolor": "white",
            "ticks": ""
           }
          },
          "scene": {
           "xaxis": {
            "backgroundcolor": "#E5ECF6",
            "gridcolor": "white",
            "gridwidth": 2,
            "linecolor": "white",
            "showbackground": true,
            "ticks": "",
            "zerolinecolor": "white"
           },
           "yaxis": {
            "backgroundcolor": "#E5ECF6",
            "gridcolor": "white",
            "gridwidth": 2,
            "linecolor": "white",
            "showbackground": true,
            "ticks": "",
            "zerolinecolor": "white"
           },
           "zaxis": {
            "backgroundcolor": "#E5ECF6",
            "gridcolor": "white",
            "gridwidth": 2,
            "linecolor": "white",
            "showbackground": true,
            "ticks": "",
            "zerolinecolor": "white"
           }
          },
          "shapedefaults": {
           "line": {
            "color": "#2a3f5f"
           }
          },
          "ternary": {
           "aaxis": {
            "gridcolor": "white",
            "linecolor": "white",
            "ticks": ""
           },
           "baxis": {
            "gridcolor": "white",
            "linecolor": "white",
            "ticks": ""
           },
           "bgcolor": "#E5ECF6",
           "caxis": {
            "gridcolor": "white",
            "linecolor": "white",
            "ticks": ""
           }
          },
          "title": {
           "x": 0.05
          },
          "xaxis": {
           "automargin": true,
           "gridcolor": "white",
           "linecolor": "white",
           "ticks": "",
           "title": {
            "standoff": 15
           },
           "zerolinecolor": "white",
           "zerolinewidth": 2
          },
          "yaxis": {
           "automargin": true,
           "gridcolor": "white",
           "linecolor": "white",
           "ticks": "",
           "title": {
            "standoff": 15
           },
           "zerolinecolor": "white",
           "zerolinewidth": 2
          }
         }
        },
        "title": {
         "text": "Gene CNV frequencies (2R:28,480,576-28,482,637; 2R:28,483,301-28,484,921; 2R:28,491,415-28,493,141; X:15,240,572-15,242,864; 3R:6,928,858-6,930,547; 3R:6,973,779-6,975,563)"
        },
        "xaxis": {
         "anchor": "y",
         "autorange": true,
         "domain": [
          0,
          0.98
         ],
         "range": [
          "2011-07-23 21:45:15.738",
          "2019-06-11 02:14:44.262"
         ],
         "title": {
          "text": "Date"
         },
         "type": "date"
        },
        "xaxis2": {
         "anchor": "y2",
         "autorange": true,
         "domain": [
          0,
          0.98
         ],
         "matches": "x",
         "range": [
          "2011-07-23 21:45:15.738",
          "2019-06-11 02:14:44.262"
         ],
         "showticklabels": false,
         "type": "date"
        },
        "xaxis3": {
         "anchor": "y3",
         "autorange": true,
         "domain": [
          0,
          0.98
         ],
         "matches": "x",
         "range": [
          "2011-07-23 21:45:15.738",
          "2019-06-11 02:14:44.262"
         ],
         "showticklabels": false,
         "type": "date"
        },
        "yaxis": {
         "anchor": "x",
         "domain": [
          0,
          0.3133333333333333
         ],
         "range": [
          -0.05,
          1.05
         ],
         "title": {
          "text": "Frequency"
         },
         "type": "linear"
        },
        "yaxis2": {
         "anchor": "x2",
         "domain": [
          0.34333333333333327,
          0.6566666666666665
         ],
         "matches": "y",
         "title": {
          "text": "Frequency"
         },
         "type": "linear"
        },
        "yaxis3": {
         "anchor": "x3",
         "domain": [
          0.6866666666666665,
          0.9999999999999998
         ],
         "matches": "y",
         "title": {
          "text": "Frequency"
         },
         "type": "linear"
        }
       }
      },
      "image/png": "[encoded data removed]",
      "text/html": [
       "<div>                            <div id=\"09da2947-41aa-4cec-b3b6-03fbc8fed535\" class=\"plotly-graph-div\" style=\"height:900px; width:100%;\"></div>            <script type=\"text/javascript\">                require([\"plotly\"], function(Plotly) {                    window.PLOTLYENV=window.PLOTLYENV || {};                                    if (document.getElementById(\"09da2947-41aa-4cec-b3b6-03fbc8fed535\")) {                    Plotly.newPlot(                        \"09da2947-41aa-4cec-b3b6-03fbc8fed535\",                        [{\"customdata\":[[\"2013\",\"UG-C\",\"gambiae\",46,\"AGAP002862 (CYP6AA1) amp\"],[\"2014\",\"UG-C\",\"gambiae\",143,\"AGAP002862 (CYP6AA1) amp\"],[\"2015\",\"UG-C\",\"gambiae\",183,\"AGAP002862 (CYP6AA1) amp\"],[\"2016\",\"UG-C\",\"gambiae\",129,\"AGAP002862 (CYP6AA1) amp\"],[\"2017\",\"UG-C\",\"gambiae\",187,\"AGAP002862 (CYP6AA1) amp\"],[\"2018\",\"UG-C\",\"gambiae\",317,\"AGAP002862 (CYP6AA1) amp\"]],\"error_y\":{\"array\":[0.13006748247713174,0.07041994536765017,0.05674197943067294,0.05644762480287713,0.019184295626336834,0.00770064244598212],\"arrayminus\":[0.07645109076542363,0.08011582741926504,0.06719049974330482,0.0750535353177677,0.03780636545915317,0.019371557736803102]},\"hovertemplate\":\"\\u003cb\\u003e%{hovertext}\\u003c\\u002fb\\u003e\\u003cbr\\u003e\\u003cbr\\u003eArea=%{customdata[1]}\\u003cbr\\u003eTaxon=%{customdata[2]}\\u003cbr\\u003eFrequency=%{y:.0%}\\u003cbr\\u003ePeriod=%{customdata[0]}\\u003cbr\\u003eSample size=%{customdata[3]}\\u003cextra\\u003e\\u003c\\u002fextra\\u003e\",\"hovertext\":[\"AGAP002862 (CYP6AA1) amp\",\"AGAP002862 (CYP6AA1) amp\",\"AGAP002862 (CYP6AA1) amp\",\"AGAP002862 (CYP6AA1) amp\",\"AGAP002862 (CYP6AA1) amp\",\"AGAP002862 (CYP6AA1) amp\"],\"legendgroup\":\"AGAP002862 (CYP6AA1) amp\",\"line\":{\"color\":\"#636efa\",\"dash\":\"solid\"},\"marker\":{\"symbol\":\"circle\"},\"mode\":\"lines+markers\",\"name\":\"AGAP002862 (CYP6AA1) amp\",\"orientation\":\"v\",\"showlegend\":true,\"x\":[\"2013-01-01T00:00:00\",\"2014-01-01T00:00:00\",\"2015-01-01T00:00:00\",\"2016-01-01T00:00:00\",\"2017-01-01T00:00:00\",\"2018-01-01T00:00:00\"],\"xaxis\":\"x3\",\"y\":[0.15217391304347827,0.6853146853146853,0.7540983606557377,0.8217054263565892,0.9625668449197861,0.9873817034700315],\"yaxis\":\"y3\",\"type\":\"scatter\"},{\"customdata\":[[\"2012\",\"UG-E\",\"gambiae\",112,\"AGAP002862 (CYP6AA1) amp\"],[\"2016\",\"UG-E\",\"gambiae\",20,\"AGAP002862 (CYP6AA1) amp\"],[\"2017\",\"UG-E\",\"gambiae\",329,\"AGAP002862 (CYP6AA1) amp\"],[\"2018\",\"UG-E\",\"gambiae\",223,\"AGAP002862 (CYP6AA1) amp\"],[\"2019\",\"UG-E\",\"gambiae\",272,\"AGAP002862 (CYP6AA1) amp\"]],\"error_y\":{\"array\":[0.08264697066063287,0.04111855119920449,0.017038547137887106,0.010940231529905198,0.0072714604626888946],\"arrayminus\":[0.09212164125118816,0.18613119344674223,0.027597706947952938,0.02726726741673291,0.02089059072154864]},\"hovertemplate\":\"\\u003cb\\u003e%{hovertext}\\u003c\\u002fb\\u003e\\u003cbr\\u003e\\u003cbr\\u003eArea=%{customdata[1]}\\u003cbr\\u003eTaxon=%{customdata[2]}\\u003cbr\\u003eFrequency=%{y:.0%}\\u003cbr\\u003ePeriod=%{customdata[0]}\\u003cbr\\u003eSample size=%{customdata[3]}\\u003cextra\\u003e\\u003c\\u002fextra\\u003e\",\"hovertext\":[\"AGAP002862 (CYP6AA1) amp\",\"AGAP002862 (CYP6AA1) amp\",\"AGAP002862 (CYP6AA1) amp\",\"AGAP002862 (CYP6AA1) amp\",\"AGAP002862 (CYP6AA1) amp\"],\"legendgroup\":\"AGAP002862 (CYP6AA1) amp\",\"line\":{\"color\":\"#636efa\",\"dash\":\"solid\"},\"marker\":{\"symbol\":\"circle\"},\"mode\":\"lines+markers\",\"name\":\"AGAP002862 (CYP6AA1) amp\",\"orientation\":\"v\",\"showlegend\":false,\"x\":[\"2012-01-01T00:00:00\",\"2016-01-01T00:00:00\",\"2017-01-01T00:00:00\",\"2018-01-01T00:00:00\",\"2019-01-01T00:00:00\"],\"xaxis\":\"x2\",\"y\":[0.6428571428571429,0.95,0.9574468085106383,0.9820627802690582,0.9889705882352942],\"yaxis\":\"y2\",\"type\":\"scatter\"},{\"customdata\":[[\"2012\",\"UG-W\",\"gambiae\",94,\"AGAP002862 (CYP6AA1) amp\"],[\"2017\",\"UG-W\",\"gambiae\",188,\"AGAP002862 (CYP6AA1) amp\"],[\"2018\",\"UG-W\",\"gambiae\",13,\"AGAP002862 (CYP6AA1) amp\"],[\"2019\",\"UG-W\",\"gambiae\",105,\"AGAP002862 (CYP6AA1) amp\"]],\"error_y\":{\"array\":[0.09889980748418681,0.0,0.0,0.0],\"arrayminus\":[0.08302790430249848,0.020024132657813887,0.22809537235419852,0.03529407692910991]},\"hovertemplate\":\"\\u003cb\\u003e%{hovertext}\\u003c\\u002fb\\u003e\\u003cbr\\u003e\\u003cbr\\u003eArea=%{customdata[1]}\\u003cbr\\u003eTaxon=%{customdata[2]}\\u003cbr\\u003eFrequency=%{y:.0%}\\u003cbr\\u003ePeriod=%{customdata[0]}\\u003cbr\\u003eSample size=%{customdata[3]}\\u003cextra\\u003e\\u003c\\u002fextra\\u003e\",\"hovertext\":[\"AGAP002862 (CYP6AA1) amp\",\"AGAP002862 (CYP6AA1) amp\",\"AGAP002862 (CYP6AA1) amp\",\"AGAP002862 (CYP6AA1) amp\"],\"legendgroup\":\"AGAP002862 (CYP6AA1) amp\",\"line\":{\"color\":\"#636efa\",\"dash\":\"solid\"},\"marker\":{\"symbol\":\"circle\"},\"mode\":\"lines+markers\",\"name\":\"AGAP002862 (CYP6AA1) amp\",\"orientation\":\"v\",\"showlegend\":false,\"x\":[\"2012-01-01T00:00:00\",\"2017-01-01T00:00:00\",\"2018-01-01T00:00:00\",\"2019-01-01T00:00:00\"],\"xaxis\":\"x\",\"y\":[0.2978723404255319,1.0,1.0,1.0],\"yaxis\":\"y\",\"type\":\"scatter\"},{\"customdata\":[[\"2013\",\"UG-C\",\"gambiae\",46,\"AGAP013128 (CYP6AA2) amp\"],[\"2014\",\"UG-C\",\"gambiae\",143,\"AGAP013128 (CYP6AA2) amp\"],[\"2015\",\"UG-C\",\"gambiae\",183,\"AGAP013128 (CYP6AA2) amp\"],[\"2016\",\"UG-C\",\"gambiae\",129,\"AGAP013128 (CYP6AA2) amp\"],[\"2017\",\"UG-C\",\"gambiae\",187,\"AGAP013128 (CYP6AA2) amp\"],[\"2018\",\"UG-C\",\"gambiae\",317,\"AGAP013128 (CYP6AA2) amp\"]],\"error_y\":{\"array\":[0.07707356308558042,0.046553960320785105,0.036887205939552976,0.046008992808943966,0.03780636545915325,0.02376326859858074],\"arrayminus\":[0.0,0.022588666947925766,0.01767541052600396,0.01888471362458529,0.019184295626336802,0.012394512926939539]},\"hovertemplate\":\"\\u003cb\\u003e%{hovertext}\\u003c\\u002fb\\u003e\\u003cbr\\u003e\\u003cbr\\u003eArea=%{customdata[1]}\\u003cbr\\u003eTaxon=%{customdata[2]}\\u003cbr\\u003eFrequency=%{y:.0%}\\u003cbr\\u003ePeriod=%{customdata[0]}\\u003cbr\\u003eSample size=%{customdata[3]}\\u003cextra\\u003e\\u003c\\u002fextra\\u003e\",\"hovertext\":[\"AGAP013128 (CYP6AA2) amp\",\"AGAP013128 (CYP6AA2) amp\",\"AGAP013128 (CYP6AA2) amp\",\"AGAP013128 (CYP6AA2) amp\",\"AGAP013128 (CYP6AA2) amp\",\"AGAP013128 (CYP6AA2) amp\"],\"legendgroup\":\"AGAP013128 (CYP6AA2) amp\",\"line\":{\"color\":\"#EF553B\",\"dash\":\"solid\"},\"marker\":{\"symbol\":\"circle\"},\"mode\":\"lines+markers\",\"name\":\"AGAP013128 (CYP6AA2) amp\",\"orientation\":\"v\",\"showlegend\":true,\"x\":[\"2013-01-01T00:00:00\",\"2014-01-01T00:00:00\",\"2015-01-01T00:00:00\",\"2016-01-01T00:00:00\",\"2017-01-01T00:00:00\",\"2018-01-01T00:00:00\"],\"xaxis\":\"x3\",\"y\":[0.0,0.04195804195804196,0.03278688524590164,0.031007751937984496,0.0374331550802139,0.025236593059936908],\"yaxis\":\"y3\",\"type\":\"scatter\"},{\"customdata\":[[\"2012\",\"UG-E\",\"gambiae\",112,\"AGAP013128 (CYP6AA2) amp\"],[\"2016\",\"UG-E\",\"gambiae\",20,\"AGAP013128 (CYP6AA2) amp\"],[\"2017\",\"UG-E\",\"gambiae\",329,\"AGAP013128 (CYP6AA2) amp\"],[\"2018\",\"UG-E\",\"gambiae\",223,\"AGAP013128 (CYP6AA2) amp\"],[\"2019\",\"UG-E\",\"gambiae\",272,\"AGAP013128 (CYP6AA2) amp\"]],\"error_y\":{\"array\":[0.06321668130234706,0.2189728183535234,0.048659118810698954,0.036827458147845694,0.03599332885060465],\"arrayminus\":[0.03479266953068085,0.15452275513239577,0.04252007240949798,0.021563578086206778,0.02391019072620275]},\"hovertemplate\":\"\\u003cb\\u003e%{hovertext}\\u003c\\u002fb\\u003e\\u003cbr\\u003e\\u003cbr\\u003eArea=%{customdata[1]}\\u003cbr\\u003eTaxon=%{customdata[2]}\\u003cbr\\u003eFrequency=%{y:.0%}\\u003cbr\\u003ePeriod=%{customdata[0]}\\u003cbr\\u003eSample size=%{customdata[3]}\\u003cextra\\u003e\\u003c\\u002fextra\\u003e\",\"hovertext\":[\"AGAP013128 (CYP6AA2) amp\",\"AGAP013128 (CYP6AA2) amp\",\"AGAP013128 (CYP6AA2) amp\",\"AGAP013128 (CYP6AA2) amp\",\"AGAP013128 (CYP6AA2) amp\"],\"legendgroup\":\"AGAP013128 (CYP6AA2) amp\",\"line\":{\"color\":\"#EF553B\",\"dash\":\"solid\"},\"marker\":{\"symbol\":\"circle\"},\"mode\":\"lines+markers\",\"name\":\"AGAP013128 (CYP6AA2) amp\",\"orientation\":\"v\",\"showlegend\":false,\"x\":[\"2012-01-01T00:00:00\",\"2016-01-01T00:00:00\",\"2017-01-01T00:00:00\",\"2018-01-01T00:00:00\",\"2019-01-01T00:00:00\"],\"xaxis\":\"x2\",\"y\":[0.07142857142857142,0.3,0.23404255319148937,0.04932735426008968,0.0661764705882353],\"yaxis\":\"y2\",\"type\":\"scatter\"},{\"customdata\":[[\"2012\",\"UG-W\",\"gambiae\",94,\"AGAP013128 (CYP6AA2) amp\"],[\"2017\",\"UG-W\",\"gambiae\",188,\"AGAP013128 (CYP6AA2) amp\"],[\"2018\",\"UG-W\",\"gambiae\",13,\"AGAP013128 (CYP6AA2) amp\"],[\"2019\",\"UG-W\",\"gambiae\",105,\"AGAP013128 (CYP6AA2) amp\"]],\"error_y\":{\"array\":[0.07393006429617537,0.04865842050328624,0.25621643228791907,0.05578778316530819],\"arrayminus\":[0.041350894607446745,0.03204265085105763,0.06321265568052034,0.023182778764130454]},\"hovertemplate\":\"\\u003cb\\u003e%{hovertext}\\u003c\\u002fb\\u003e\\u003cbr\\u003e\\u003cbr\\u003eArea=%{customdata[1]}\\u003cbr\\u003eTaxon=%{customdata[2]}\\u003cbr\\u003eFrequency=%{y:.0%}\\u003cbr\\u003ePeriod=%{customdata[0]}\\u003cbr\\u003eSample size=%{customdata[3]}\\u003cextra\\u003e\\u003c\\u002fextra\\u003e\",\"hovertext\":[\"AGAP013128 (CYP6AA2) amp\",\"AGAP013128 (CYP6AA2) amp\",\"AGAP013128 (CYP6AA2) amp\",\"AGAP013128 (CYP6AA2) amp\"],\"legendgroup\":\"AGAP013128 (CYP6AA2) amp\",\"line\":{\"color\":\"#EF553B\",\"dash\":\"solid\"},\"marker\":{\"symbol\":\"circle\"},\"mode\":\"lines+markers\",\"name\":\"AGAP013128 (CYP6AA2) amp\",\"orientation\":\"v\",\"showlegend\":false,\"x\":[\"2012-01-01T00:00:00\",\"2017-01-01T00:00:00\",\"2018-01-01T00:00:00\",\"2019-01-01T00:00:00\"],\"xaxis\":\"x\",\"y\":[0.0851063829787234,0.0851063829787234,0.07692307692307693,0.0380952380952381],\"yaxis\":\"y\",\"type\":\"scatter\"},{\"customdata\":[[\"2013\",\"UG-C\",\"gambiae\",46,\"AGAP002865 (CYP6P3) amp\"],[\"2014\",\"UG-C\",\"gambiae\",143,\"AGAP002865 (CYP6P3) amp\"],[\"2015\",\"UG-C\",\"gambiae\",183,\"AGAP002865 (CYP6P3) amp\"],[\"2016\",\"UG-C\",\"gambiae\",129,\"AGAP002865 (CYP6P3) amp\"],[\"2017\",\"UG-C\",\"gambiae\",187,\"AGAP002865 (CYP6P3) amp\"],[\"2018\",\"UG-C\",\"gambiae\",317,\"AGAP002865 (CYP6P3) amp\"]],\"error_y\":{\"array\":[0.07707356308558042,0.026160587422281566,0.030688689403020723,0.04288829089839749,0.024316761564157796,0.014495032130069469],\"arrayminus\":[0.0,0.0,0.010802795904785781,0.015315676520908917,0.004402987465481252,0.0025974971248635685]},\"hovertemplate\":\"\\u003cb\\u003e%{hovertext}\\u003c\\u002fb\\u003e\\u003cbr\\u003e\\u003cbr\\u003eArea=%{customdata[1]}\\u003cbr\\u003eTaxon=%{customdata[2]}\\u003cbr\\u003eFrequency=%{y:.0%}\\u003cbr\\u003ePeriod=%{customdata[0]}\\u003cbr\\u003eSample size=%{customdata[3]}\\u003cextra\\u003e\\u003c\\u002fextra\\u003e\",\"hovertext\":[\"AGAP002865 (CYP6P3) amp\",\"AGAP002865 (CYP6P3) amp\",\"AGAP002865 (CYP6P3) amp\",\"AGAP002865 (CYP6P3) amp\",\"AGAP002865 (CYP6P3) amp\",\"AGAP002865 (CYP6P3) amp\"],\"legendgroup\":\"AGAP002865 (CYP6P3) amp\",\"line\":{\"color\":\"#00cc96\",\"dash\":\"solid\"},\"marker\":{\"symbol\":\"circle\"},\"mode\":\"lines+markers\",\"name\":\"AGAP002865 (CYP6P3) amp\",\"orientation\":\"v\",\"showlegend\":true,\"x\":[\"2013-01-01T00:00:00\",\"2014-01-01T00:00:00\",\"2015-01-01T00:00:00\",\"2016-01-01T00:00:00\",\"2017-01-01T00:00:00\",\"2018-01-01T00:00:00\"],\"xaxis\":\"x3\",\"y\":[0.0,0.0,0.01639344262295082,0.023255813953488372,0.0053475935828877,0.0031545741324921135],\"yaxis\":\"y3\",\"type\":\"scatter\"},{\"customdata\":[[\"2012\",\"UG-E\",\"gambiae\",112,\"AGAP002865 (CYP6P3) amp\"],[\"2016\",\"UG-E\",\"gambiae\",20,\"AGAP002865 (CYP6P3) amp\"],[\"2017\",\"UG-E\",\"gambiae\",329,\"AGAP002865 (CYP6P3) amp\"],[\"2018\",\"UG-E\",\"gambiae\",223,\"AGAP002865 (CYP6P3) amp\"],[\"2019\",\"UG-E\",\"gambiae\",272,\"AGAP002865 (CYP6P3) amp\"]],\"error_y\":{\"array\":[0.03991989688031347,0.21041886474075697,0.018680908875413085,0.016934553501221274,0.01392632868575133],\"arrayminus\":[0.007350716725279292,0.0976312541037834,0.007420143762352907,0.0,0.0]},\"hovertemplate\":\"\\u003cb\\u003e%{hovertext}\\u003c\\u002fb\\u003e\\u003cbr\\u003e\\u003cbr\\u003eArea=%{customdata[1]}\\u003cbr\\u003eTaxon=%{customdata[2]}\\u003cbr\\u003eFrequency=%{y:.0%}\\u003cbr\\u003ePeriod=%{customdata[0]}\\u003cbr\\u003eSample size=%{customdata[3]}\\u003cextra\\u003e\\u003c\\u002fextra\\u003e\",\"hovertext\":[\"AGAP002865 (CYP6P3) amp\",\"AGAP002865 (CYP6P3) amp\",\"AGAP002865 (CYP6P3) amp\",\"AGAP002865 (CYP6P3) amp\",\"AGAP002865 (CYP6P3) amp\"],\"legendgroup\":\"AGAP002865 (CYP6P3) amp\",\"line\":{\"color\":\"#00cc96\",\"dash\":\"solid\"},\"marker\":{\"symbol\":\"circle\"},\"mode\":\"lines+markers\",\"name\":\"AGAP002865 (CYP6P3) amp\",\"orientation\":\"v\",\"showlegend\":false,\"x\":[\"2012-01-01T00:00:00\",\"2016-01-01T00:00:00\",\"2017-01-01T00:00:00\",\"2018-01-01T00:00:00\",\"2019-01-01T00:00:00\"],\"xaxis\":\"x2\",\"y\":[0.008928571428571428,0.15,0.0121580547112462,0.0,0.0],\"yaxis\":\"y2\",\"type\":\"scatter\"},{\"customdata\":[[\"2012\",\"UG-W\",\"gambiae\",94,\"AGAP002865 (CYP6P3) amp\"],[\"2017\",\"UG-W\",\"gambiae\",188,\"AGAP002865 (CYP6P3) amp\"],[\"2018\",\"UG-W\",\"gambiae\",13,\"AGAP002865 (CYP6P3) amp\"],[\"2019\",\"UG-W\",\"gambiae\",105,\"AGAP002865 (CYP6P3) amp\"]],\"error_y\":{\"array\":[0.061803266329455674,0.020024132657813932,0.25621643228791907,0.035294076929109915],\"arrayminus\":[0.02588264333931898,0.0,0.06321265568052034,0.0]},\"hovertemplate\":\"\\u003cb\\u003e%{hovertext}\\u003c\\u002fb\\u003e\\u003cbr\\u003e\\u003cbr\\u003eArea=%{customdata[1]}\\u003cbr\\u003eTaxon=%{customdata[2]}\\u003cbr\\u003eFrequency=%{y:.0%}\\u003cbr\\u003ePeriod=%{customdata[0]}\\u003cbr\\u003eSample size=%{customdata[3]}\\u003cextra\\u003e\\u003c\\u002fextra\\u003e\",\"hovertext\":[\"AGAP002865 (CYP6P3) amp\",\"AGAP002865 (CYP6P3) amp\",\"AGAP002865 (CYP6P3) amp\",\"AGAP002865 (CYP6P3) amp\"],\"legendgroup\":\"AGAP002865 (CYP6P3) amp\",\"line\":{\"color\":\"#00cc96\",\"dash\":\"solid\"},\"marker\":{\"symbol\":\"circle\"},\"mode\":\"lines+markers\",\"name\":\"AGAP002865 (CYP6P3) amp\",\"orientation\":\"v\",\"showlegend\":false,\"x\":[\"2012-01-01T00:00:00\",\"2017-01-01T00:00:00\",\"2018-01-01T00:00:00\",\"2019-01-01T00:00:00\"],\"xaxis\":\"x\",\"y\":[0.0425531914893617,0.0,0.07692307692307693,0.0],\"yaxis\":\"y\",\"type\":\"scatter\"},{\"customdata\":[[\"2013\",\"UG-C\",\"gambiae\",46,\"AGAP000818 (CYP9K1) amp\"],[\"2014\",\"UG-C\",\"gambiae\",143,\"AGAP000818 (CYP9K1) amp\"],[\"2015\",\"UG-C\",\"gambiae\",183,\"AGAP000818 (CYP9K1) amp\"],[\"2016\",\"UG-C\",\"gambiae\",129,\"AGAP000818 (CYP9K1) amp\"],[\"2017\",\"UG-C\",\"gambiae\",187,\"AGAP000818 (CYP9K1) amp\"],[\"2018\",\"UG-C\",\"gambiae\",317,\"AGAP000818 (CYP9K1) amp\"]],\"error_y\":{\"array\":[0.14356154394066895,0.07989181021199587,0.060383508234924554,0.07180510915876492,0.06647449708829178,0.043703061130328735],\"arrayminus\":[0.13015744601274187,0.08153828074906255,0.06925913301662268,0.0836859917767071,0.07131838808526725,0.04993510327591266]},\"hovertemplate\":\"\\u003cb\\u003e%{hovertext}\\u003c\\u002fb\\u003e\\u003cbr\\u003e\\u003cbr\\u003eArea=%{customdata[1]}\\u003cbr\\u003eTaxon=%{customdata[2]}\\u003cbr\\u003eFrequency=%{y:.0%}\\u003cbr\\u003ePeriod=%{customdata[0]}\\u003cbr\\u003eSample size=%{customdata[3]}\\u003cextra\\u003e\\u003c\\u002fextra\\u003e\",\"hovertext\":[\"AGAP000818 (CYP9K1) amp\",\"AGAP000818 (CYP9K1) amp\",\"AGAP000818 (CYP9K1) amp\",\"AGAP000818 (CYP9K1) amp\",\"AGAP000818 (CYP9K1) amp\",\"AGAP000818 (CYP9K1) amp\"],\"legendgroup\":\"AGAP000818 (CYP9K1) amp\",\"line\":{\"color\":\"#ab63fa\",\"dash\":\"solid\"},\"marker\":{\"symbol\":\"circle\"},\"mode\":\"lines+markers\",\"name\":\"AGAP000818 (CYP9K1) amp\",\"orientation\":\"v\",\"showlegend\":true,\"x\":[\"2013-01-01T00:00:00\",\"2014-01-01T00:00:00\",\"2015-01-01T00:00:00\",\"2016-01-01T00:00:00\",\"2017-01-01T00:00:00\",\"2018-01-01T00:00:00\"],\"xaxis\":\"x3\",\"y\":[0.41304347826086957,0.5314685314685315,0.7158469945355191,0.7054263565891473,0.6203208556149733,0.7602523659305994],\"yaxis\":\"y3\",\"type\":\"scatter\"},{\"customdata\":[[\"2012\",\"UG-E\",\"gambiae\",112,\"AGAP000818 (CYP9K1) amp\"],[\"2016\",\"UG-E\",\"gambiae\",20,\"AGAP000818 (CYP9K1) amp\"],[\"2017\",\"UG-E\",\"gambiae\",329,\"AGAP000818 (CYP9K1) amp\"],[\"2018\",\"UG-E\",\"gambiae\",223,\"AGAP000818 (CYP9K1) amp\"],[\"2019\",\"UG-E\",\"gambiae\",272,\"AGAP000818 (CYP9K1) amp\"]],\"error_y\":{\"array\":[0.09212164125118827,0.21714572331476378,0.053902026735333286,0.06385199799097385,0.058896242201696536],\"arrayminus\":[0.08264697066063287,0.16880817589891794,0.0534459832883869,0.06559861113235527,0.059101041152957556]},\"hovertemplate\":\"\\u003cb\\u003e%{hovertext}\\u003c\\u002fb\\u003e\\u003cbr\\u003e\\u003cbr\\u003eArea=%{customdata[1]}\\u003cbr\\u003eTaxon=%{customdata[2]}\\u003cbr\\u003eFrequency=%{y:.0%}\\u003cbr\\u003ePeriod=%{customdata[0]}\\u003cbr\\u003eSample size=%{customdata[3]}\\u003cextra\\u003e\\u003c\\u002fextra\\u003e\",\"hovertext\":[\"AGAP000818 (CYP9K1) amp\",\"AGAP000818 (CYP9K1) amp\",\"AGAP000818 (CYP9K1) amp\",\"AGAP000818 (CYP9K1) amp\",\"AGAP000818 (CYP9K1) amp\"],\"legendgroup\":\"AGAP000818 (CYP9K1) amp\",\"line\":{\"color\":\"#ab63fa\",\"dash\":\"solid\"},\"marker\":{\"symbol\":\"circle\"},\"mode\":\"lines+markers\",\"name\":\"AGAP000818 (CYP9K1) amp\",\"orientation\":\"v\",\"showlegend\":false,\"x\":[\"2012-01-01T00:00:00\",\"2016-01-01T00:00:00\",\"2017-01-01T00:00:00\",\"2018-01-01T00:00:00\",\"2019-01-01T00:00:00\"],\"xaxis\":\"x2\",\"y\":[0.35714285714285715,0.35,0.48024316109422494,0.5515695067264574,0.5073529411764706],\"yaxis\":\"y2\",\"type\":\"scatter\"},{\"customdata\":[[\"2012\",\"UG-W\",\"gambiae\",94,\"AGAP000818 (CYP9K1) amp\"],[\"2017\",\"UG-W\",\"gambiae\",188,\"AGAP000818 (CYP9K1) amp\"],[\"2018\",\"UG-W\",\"gambiae\",13,\"AGAP000818 (CYP9K1) amp\"],[\"2019\",\"UG-W\",\"gambiae\",105,\"AGAP000818 (CYP9K1) amp\"]],\"error_y\":{\"array\":[0.06041833119905382,0.03320179680599811,0.0,0.0370798237597072],\"arrayminus\":[0.0871499576103183,0.049604543770377596,0.22809537235419852,0.06699575563295279]},\"hovertemplate\":\"\\u003cb\\u003e%{hovertext}\\u003c\\u002fb\\u003e\\u003cbr\\u003e\\u003cbr\\u003eArea=%{customdata[1]}\\u003cbr\\u003eTaxon=%{customdata[2]}\\u003cbr\\u003eFrequency=%{y:.0%}\\u003cbr\\u003ePeriod=%{customdata[0]}\\u003cbr\\u003eSample size=%{customdata[3]}\\u003cextra\\u003e\\u003c\\u002fextra\\u003e\",\"hovertext\":[\"AGAP000818 (CYP9K1) amp\",\"AGAP000818 (CYP9K1) amp\",\"AGAP000818 (CYP9K1) amp\",\"AGAP000818 (CYP9K1) amp\"],\"legendgroup\":\"AGAP000818 (CYP9K1) amp\",\"line\":{\"color\":\"#ab63fa\",\"dash\":\"solid\"},\"marker\":{\"symbol\":\"circle\"},\"mode\":\"lines+markers\",\"name\":\"AGAP000818 (CYP9K1) amp\",\"orientation\":\"v\",\"showlegend\":false,\"x\":[\"2012-01-01T00:00:00\",\"2017-01-01T00:00:00\",\"2018-01-01T00:00:00\",\"2019-01-01T00:00:00\"],\"xaxis\":\"x\",\"y\":[0.8404255319148937,0.9095744680851063,1.0,0.9238095238095239],\"yaxis\":\"y\",\"type\":\"scatter\"},{\"customdata\":[[\"2013\",\"UG-C\",\"gambiae\",46,\"AGAP008212 (CYP6M2) amp\"],[\"2014\",\"UG-C\",\"gambiae\",143,\"AGAP008212 (CYP6M2) amp\"],[\"2015\",\"UG-C\",\"gambiae\",183,\"AGAP008212 (CYP6M2) amp\"],[\"2016\",\"UG-C\",\"gambiae\",129,\"AGAP008212 (CYP6M2) amp\"],[\"2017\",\"UG-C\",\"gambiae\",187,\"AGAP008212 (CYP6M2) amp\"],[\"2018\",\"UG-C\",\"gambiae\",317,\"AGAP008212 (CYP6M2) amp\"]],\"error_y\":{\"array\":[0.07707356308558042,0.03155220618354436,0.02055999158292087,0.02891761995687827,0.02745575429983041,0.016399238793341476],\"arrayminus\":[0.0,0.005757501102833168,0.0,0.0,0.007757264245463887,0.0045772436929305315]},\"hovertemplate\":\"\\u003cb\\u003e%{hovertext}\\u003c\\u002fb\\u003e\\u003cbr\\u003e\\u003cbr\\u003eArea=%{customdata[1]}\\u003cbr\\u003eTaxon=%{customdata[2]}\\u003cbr\\u003eFrequency=%{y:.0%}\\u003cbr\\u003ePeriod=%{customdata[0]}\\u003cbr\\u003eSample size=%{customdata[3]}\\u003cextra\\u003e\\u003c\\u002fextra\\u003e\",\"hovertext\":[\"AGAP008212 (CYP6M2) amp\",\"AGAP008212 (CYP6M2) amp\",\"AGAP008212 (CYP6M2) amp\",\"AGAP008212 (CYP6M2) amp\",\"AGAP008212 (CYP6M2) amp\",\"AGAP008212 (CYP6M2) amp\"],\"legendgroup\":\"AGAP008212 (CYP6M2) amp\",\"line\":{\"color\":\"#FFA15A\",\"dash\":\"solid\"},\"marker\":{\"symbol\":\"circle\"},\"mode\":\"lines+markers\",\"name\":\"AGAP008212 (CYP6M2) amp\",\"orientation\":\"v\",\"showlegend\":true,\"x\":[\"2013-01-01T00:00:00\",\"2014-01-01T00:00:00\",\"2015-01-01T00:00:00\",\"2016-01-01T00:00:00\",\"2017-01-01T00:00:00\",\"2018-01-01T00:00:00\"],\"xaxis\":\"x3\",\"y\":[0.0,0.006993006993006993,0.0,0.0,0.0106951871657754,0.006309148264984227],\"yaxis\":\"y3\",\"type\":\"scatter\"},{\"customdata\":[[\"2012\",\"UG-E\",\"gambiae\",112,\"AGAP008212 (CYP6M2) amp\"],[\"2016\",\"UG-E\",\"gambiae\",20,\"AGAP008212 (CYP6M2) amp\"],[\"2017\",\"UG-E\",\"gambiae\",329,\"AGAP008212 (CYP6M2) amp\"],[\"2018\",\"UG-E\",\"gambiae\",223,\"AGAP008212 (CYP6M2) amp\"],[\"2019\",\"UG-E\",\"gambiae\",272,\"AGAP008212 (CYP6M2) amp\"]],\"error_y\":{\"array\":[0.03316134706694389,0.1611251580528194,0.017343588609720552,0.02534626730308139,0.019055707789347606],\"arrayminus\":[-3.469446951953614e-18,0.0,0.006012662966360934,0.008867352012655306,0.005334178054857324]},\"hovertemplate\":\"\\u003cb\\u003e%{hovertext}\\u003c\\u002fb\\u003e\\u003cbr\\u003e\\u003cbr\\u003eArea=%{customdata[1]}\\u003cbr\\u003eTaxon=%{customdata[2]}\\u003cbr\\u003eFrequency=%{y:.0%}\\u003cbr\\u003ePeriod=%{customdata[0]}\\u003cbr\\u003eSample size=%{customdata[3]}\\u003cextra\\u003e\\u003c\\u002fextra\\u003e\",\"hovertext\":[\"AGAP008212 (CYP6M2) amp\",\"AGAP008212 (CYP6M2) amp\",\"AGAP008212 (CYP6M2) amp\",\"AGAP008212 (CYP6M2) amp\",\"AGAP008212 (CYP6M2) amp\"],\"legendgroup\":\"AGAP008212 (CYP6M2) amp\",\"line\":{\"color\":\"#FFA15A\",\"dash\":\"solid\"},\"marker\":{\"symbol\":\"circle\"},\"mode\":\"lines+markers\",\"name\":\"AGAP008212 (CYP6M2) amp\",\"orientation\":\"v\",\"showlegend\":false,\"x\":[\"2012-01-01T00:00:00\",\"2016-01-01T00:00:00\",\"2017-01-01T00:00:00\",\"2018-01-01T00:00:00\",\"2019-01-01T00:00:00\"],\"xaxis\":\"x2\",\"y\":[0.0,0.0,0.00911854103343465,0.013452914798206279,0.007352941176470588],\"yaxis\":\"y2\",\"type\":\"scatter\"},{\"customdata\":[[\"2012\",\"UG-W\",\"gambiae\",94,\"AGAP008212 (CYP6M2) amp\"],[\"2017\",\"UG-W\",\"gambiae\",188,\"AGAP008212 (CYP6M2) amp\"],[\"2018\",\"UG-W\",\"gambiae\",13,\"AGAP008212 (CYP6M2) amp\"],[\"2019\",\"UG-W\",\"gambiae\",105,\"AGAP008212 (CYP6M2) amp\"]],\"error_y\":{\"array\":[0.039262076291544754,0.029900952987258107,0.22809537235419847,0.035294076929109915],\"arrayminus\":[0.0,0.010515888392991429,0.0,0.0]},\"hovertemplate\":\"\\u003cb\\u003e%{hovertext}\\u003c\\u002fb\\u003e\\u003cbr\\u003e\\u003cbr\\u003eArea=%{customdata[1]}\\u003cbr\\u003eTaxon=%{customdata[2]}\\u003cbr\\u003eFrequency=%{y:.0%}\\u003cbr\\u003ePeriod=%{customdata[0]}\\u003cbr\\u003eSample size=%{customdata[3]}\\u003cextra\\u003e\\u003c\\u002fextra\\u003e\",\"hovertext\":[\"AGAP008212 (CYP6M2) amp\",\"AGAP008212 (CYP6M2) amp\",\"AGAP008212 (CYP6M2) amp\",\"AGAP008212 (CYP6M2) amp\"],\"legendgroup\":\"AGAP008212 (CYP6M2) amp\",\"line\":{\"color\":\"#FFA15A\",\"dash\":\"solid\"},\"marker\":{\"symbol\":\"circle\"},\"mode\":\"lines+markers\",\"name\":\"AGAP008212 (CYP6M2) amp\",\"orientation\":\"v\",\"showlegend\":false,\"x\":[\"2012-01-01T00:00:00\",\"2017-01-01T00:00:00\",\"2018-01-01T00:00:00\",\"2019-01-01T00:00:00\"],\"xaxis\":\"x\",\"y\":[0.0,0.015957446808510637,0.0,0.0],\"yaxis\":\"y\",\"type\":\"scatter\"},{\"customdata\":[[\"2013\",\"UG-C\",\"gambiae\",46,\"AGAP008218 (CYP6Z2) amp\"],[\"2014\",\"UG-C\",\"gambiae\",143,\"AGAP008218 (CYP6Z2) amp\"],[\"2015\",\"UG-C\",\"gambiae\",183,\"AGAP008218 (CYP6Z2) amp\"],[\"2016\",\"UG-C\",\"gambiae\",129,\"AGAP008218 (CYP6Z2) amp\"],[\"2017\",\"UG-C\",\"gambiae\",187,\"AGAP008218 (CYP6Z2) amp\"],[\"2018\",\"UG-C\",\"gambiae\",317,\"AGAP008218 (CYP6Z2) amp\"]],\"error_y\":{\"array\":[0.14022095079361158,0.07196148531102525,0.046695219559695245,0.06254558670813765,0.030055250227776657,0.022789496277847446],\"arrayminus\":[0.10000865700983047,0.05567972111114372,0.029056319677080056,0.039007989068818145,0.01057204421772015,0.011345200701411286]},\"hovertemplate\":\"\\u003cb\\u003e%{hovertext}\\u003c\\u002fb\\u003e\\u003cbr\\u003e\\u003cbr\\u003eArea=%{customdata[1]}\\u003cbr\\u003eTaxon=%{customdata[2]}\\u003cbr\\u003eFrequency=%{y:.0%}\\u003cbr\\u003ePeriod=%{customdata[0]}\\u003cbr\\u003eSample size=%{customdata[3]}\\u003cextra\\u003e\\u003c\\u002fextra\\u003e\",\"hovertext\":[\"AGAP008218 (CYP6Z2) amp\",\"AGAP008218 (CYP6Z2) amp\",\"AGAP008218 (CYP6Z2) amp\",\"AGAP008218 (CYP6Z2) amp\",\"AGAP008218 (CYP6Z2) amp\",\"AGAP008218 (CYP6Z2) amp\"],\"legendgroup\":\"AGAP008218 (CYP6Z2) amp\",\"line\":{\"color\":\"#19d3f3\",\"dash\":\"solid\"},\"marker\":{\"symbol\":\"circle\"},\"mode\":\"lines+markers\",\"name\":\"AGAP008218 (CYP6Z2) amp\",\"orientation\":\"v\",\"showlegend\":true,\"x\":[\"2013-01-01T00:00:00\",\"2014-01-01T00:00:00\",\"2015-01-01T00:00:00\",\"2016-01-01T00:00:00\",\"2017-01-01T00:00:00\",\"2018-01-01T00:00:00\"],\"xaxis\":\"x3\",\"y\":[0.2391304347826087,0.1888111888111888,0.07103825136612021,0.09302325581395349,0.016042780748663103,0.022082018927444796],\"yaxis\":\"y3\",\"type\":\"scatter\"},{\"customdata\":[[\"2012\",\"UG-E\",\"gambiae\",112,\"AGAP008218 (CYP6Z2) amp\"],[\"2016\",\"UG-E\",\"gambiae\",20,\"AGAP008218 (CYP6Z2) amp\"],[\"2017\",\"UG-E\",\"gambiae\",329,\"AGAP008218 (CYP6Z2) amp\"],[\"2018\",\"UG-E\",\"gambiae\",223,\"AGAP008218 (CYP6Z2) amp\"],[\"2019\",\"UG-E\",\"gambiae\",272,\"AGAP008218 (CYP6Z2) amp\"]],\"error_y\":{\"array\":[0.05253235273891388,0.18613119344674212,0.024642681290030086,0.034550621298883304,0.031400672783190385],\"arrayminus\":[0.021739673319608827,0.0411185511992046,0.013802879358766545,0.018982982430047594,0.018703137805005342]},\"hovertemplate\":\"\\u003cb\\u003e%{hovertext}\\u003c\\u002fb\\u003e\\u003cbr\\u003e\\u003cbr\\u003eArea=%{customdata[1]}\\u003cbr\\u003eTaxon=%{customdata[2]}\\u003cbr\\u003eFrequency=%{y:.0%}\\u003cbr\\u003ePeriod=%{customdata[0]}\\u003cbr\\u003eSample size=%{customdata[3]}\\u003cextra\\u003e\\u003c\\u002fextra\\u003e\",\"hovertext\":[\"AGAP008218 (CYP6Z2) amp\",\"AGAP008218 (CYP6Z2) amp\",\"AGAP008218 (CYP6Z2) amp\",\"AGAP008218 (CYP6Z2) amp\",\"AGAP008218 (CYP6Z2) amp\"],\"legendgroup\":\"AGAP008218 (CYP6Z2) amp\",\"line\":{\"color\":\"#19d3f3\",\"dash\":\"solid\"},\"marker\":{\"symbol\":\"circle\"},\"mode\":\"lines+markers\",\"name\":\"AGAP008218 (CYP6Z2) amp\",\"orientation\":\"v\",\"showlegend\":false,\"x\":[\"2012-01-01T00:00:00\",\"2016-01-01T00:00:00\",\"2017-01-01T00:00:00\",\"2018-01-01T00:00:00\",\"2019-01-01T00:00:00\"],\"xaxis\":\"x2\",\"y\":[0.03571428571428571,0.05,0.030395136778115502,0.04035874439461883,0.04411764705882353],\"yaxis\":\"y2\",\"type\":\"scatter\"},{\"customdata\":[[\"2012\",\"UG-W\",\"gambiae\",94,\"AGAP008218 (CYP6Z2) amp\"],[\"2017\",\"UG-W\",\"gambiae\",188,\"AGAP008218 (CYP6Z2) amp\"],[\"2018\",\"UG-W\",\"gambiae\",13,\"AGAP008218 (CYP6Z2) amp\"],[\"2019\",\"UG-W\",\"gambiae\",105,\"AGAP008218 (CYP6Z2) amp\"]],\"error_y\":{\"array\":[0.06849994827590118,0.041939473785807334,0.22809537235419847,0.04775797764679994],\"arrayminus\":[0.034250051936468524,0.024045568006484233,0.0,0.013808436981656111]},\"hovertemplate\":\"\\u003cb\\u003e%{hovertext}\\u003c\\u002fb\\u003e\\u003cbr\\u003e\\u003cbr\\u003eArea=%{customdata[1]}\\u003cbr\\u003eTaxon=%{customdata[2]}\\u003cbr\\u003eFrequency=%{y:.0%}\\u003cbr\\u003ePeriod=%{customdata[0]}\\u003cbr\\u003eSample size=%{customdata[3]}\\u003cextra\\u003e\\u003c\\u002fextra\\u003e\",\"hovertext\":[\"AGAP008218 (CYP6Z2) amp\",\"AGAP008218 (CYP6Z2) amp\",\"AGAP008218 (CYP6Z2) amp\",\"AGAP008218 (CYP6Z2) amp\"],\"legendgroup\":\"AGAP008218 (CYP6Z2) amp\",\"line\":{\"color\":\"#19d3f3\",\"dash\":\"solid\"},\"marker\":{\"symbol\":\"circle\"},\"mode\":\"lines+markers\",\"name\":\"AGAP008218 (CYP6Z2) amp\",\"orientation\":\"v\",\"showlegend\":false,\"x\":[\"2012-01-01T00:00:00\",\"2017-01-01T00:00:00\",\"2018-01-01T00:00:00\",\"2019-01-01T00:00:00\"],\"xaxis\":\"x\",\"y\":[0.06382978723404255,0.05319148936170213,0.0,0.01904761904761905],\"yaxis\":\"y\",\"type\":\"scatter\"},{\"customdata\":[[\"2013\",\"UG-C\",\"gambiae\",46,\"AGAP008218 (CYP6Z2) del\"],[\"2014\",\"UG-C\",\"gambiae\",143,\"AGAP008218 (CYP6Z2) del\"],[\"2015\",\"UG-C\",\"gambiae\",183,\"AGAP008218 (CYP6Z2) del\"],[\"2016\",\"UG-C\",\"gambiae\",129,\"AGAP008218 (CYP6Z2) del\"],[\"2017\",\"UG-C\",\"gambiae\",187,\"AGAP008218 (CYP6Z2) del\"],[\"2018\",\"UG-C\",\"gambiae\",317,\"AGAP008218 (CYP6Z2) del\"]],\"error_y\":{\"array\":[0.07707356308558042,0.026160587422281566,0.02055999158292087,0.02891761995687827,0.030055250227776657,0.020612688256720295],\"arrayminus\":[0.0,0.0,0.0,0.0,0.01057204421772015,0.009017312870694225]},\"hovertemplate\":\"\\u003cb\\u003e%{hovertext}\\u003c\\u002fb\\u003e\\u003cbr\\u003e\\u003cbr\\u003eArea=%{customdata[1]}\\u003cbr\\u003eTaxon=%{customdata[2]}\\u003cbr\\u003eFrequency=%{y:.0%}\\u003cbr\\u003ePeriod=%{customdata[0]}\\u003cbr\\u003eSample size=%{customdata[3]}\\u003cextra\\u003e\\u003c\\u002fextra\\u003e\",\"hovertext\":[\"AGAP008218 (CYP6Z2) del\",\"AGAP008218 (CYP6Z2) del\",\"AGAP008218 (CYP6Z2) del\",\"AGAP008218 (CYP6Z2) del\",\"AGAP008218 (CYP6Z2) del\",\"AGAP008218 (CYP6Z2) del\"],\"legendgroup\":\"AGAP008218 (CYP6Z2) del\",\"line\":{\"color\":\"#FF6692\",\"dash\":\"solid\"},\"marker\":{\"symbol\":\"circle\"},\"mode\":\"lines+markers\",\"name\":\"AGAP008218 (CYP6Z2) del\",\"orientation\":\"v\",\"showlegend\":true,\"x\":[\"2013-01-01T00:00:00\",\"2014-01-01T00:00:00\",\"2015-01-01T00:00:00\",\"2016-01-01T00:00:00\",\"2017-01-01T00:00:00\",\"2018-01-01T00:00:00\"],\"xaxis\":\"x3\",\"y\":[0.0,0.0,0.0,0.0,0.016042780748663103,0.015772870662460567],\"yaxis\":\"y3\",\"type\":\"scatter\"},{\"customdata\":[[\"2012\",\"UG-E\",\"gambiae\",112,\"AGAP008218 (CYP6Z2) del\"],[\"2016\",\"UG-E\",\"gambiae\",20,\"AGAP008218 (CYP6Z2) del\"],[\"2017\",\"UG-E\",\"gambiae\",329,\"AGAP008218 (CYP6Z2) del\"],[\"2018\",\"UG-E\",\"gambiae\",223,\"AGAP008218 (CYP6Z2) del\"],[\"2019\",\"UG-E\",\"gambiae\",272,\"AGAP008218 (CYP6Z2) del\"]],\"error_y\":{\"array\":[0.05839883515087225,0.1611251580528194,0.02380824862300378,0.030540847110703546,0.025222706967633447],\"arrayminus\":[0.028790489555386628,0.0,0.012898286161440793,0.014517570031072648,0.011910775135665262]},\"hovertemplate\":\"\\u003cb\\u003e%{hovertext}\\u003c\\u002fb\\u003e\\u003cbr\\u003e\\u003cbr\\u003eArea=%{customdata[1]}\\u003cbr\\u003eTaxon=%{customdata[2]}\\u003cbr\\u003eFrequency=%{y:.0%}\\u003cbr\\u003ePeriod=%{customdata[0]}\\u003cbr\\u003eSample size=%{customdata[3]}\\u003cextra\\u003e\\u003c\\u002fextra\\u003e\",\"hovertext\":[\"AGAP008218 (CYP6Z2) del\",\"AGAP008218 (CYP6Z2) del\",\"AGAP008218 (CYP6Z2) del\",\"AGAP008218 (CYP6Z2) del\",\"AGAP008218 (CYP6Z2) del\"],\"legendgroup\":\"AGAP008218 (CYP6Z2) del\",\"line\":{\"color\":\"#FF6692\",\"dash\":\"solid\"},\"marker\":{\"symbol\":\"circle\"},\"mode\":\"lines+markers\",\"name\":\"AGAP008218 (CYP6Z2) del\",\"orientation\":\"v\",\"showlegend\":false,\"x\":[\"2012-01-01T00:00:00\",\"2016-01-01T00:00:00\",\"2017-01-01T00:00:00\",\"2018-01-01T00:00:00\",\"2019-01-01T00:00:00\"],\"xaxis\":\"x2\",\"y\":[0.05357142857142857,0.0,0.02735562310030395,0.026905829596412557,0.022058823529411766],\"yaxis\":\"y2\",\"type\":\"scatter\"},{\"customdata\":[[\"2012\",\"UG-W\",\"gambiae\",94,\"AGAP008218 (CYP6Z2) del\"],[\"2017\",\"UG-W\",\"gambiae\",188,\"AGAP008218 (CYP6Z2) del\"],[\"2018\",\"UG-W\",\"gambiae\",13,\"AGAP008218 (CYP6Z2) del\"],[\"2019\",\"UG-W\",\"gambiae\",105,\"AGAP008218 (CYP6Z2) del\"]],\"error_y\":{\"array\":[0.04718461509044523,0.03214422075252581,0.25621643228791907,0.05578778316530819],\"arrayminus\":[0.008757902124252486,0.012972178846108216,0.06321265568052034,0.023182778764130454]},\"hovertemplate\":\"\\u003cb\\u003e%{hovertext}\\u003c\\u002fb\\u003e\\u003cbr\\u003e\\u003cbr\\u003eArea=%{customdata[1]}\\u003cbr\\u003eTaxon=%{customdata[2]}\\u003cbr\\u003eFrequency=%{y:.0%}\\u003cbr\\u003ePeriod=%{customdata[0]}\\u003cbr\\u003eSample size=%{customdata[3]}\\u003cextra\\u003e\\u003c\\u002fextra\\u003e\",\"hovertext\":[\"AGAP008218 (CYP6Z2) del\",\"AGAP008218 (CYP6Z2) del\",\"AGAP008218 (CYP6Z2) del\",\"AGAP008218 (CYP6Z2) del\"],\"legendgroup\":\"AGAP008218 (CYP6Z2) del\",\"line\":{\"color\":\"#FF6692\",\"dash\":\"solid\"},\"marker\":{\"symbol\":\"circle\"},\"mode\":\"lines+markers\",\"name\":\"AGAP008218 (CYP6Z2) del\",\"orientation\":\"v\",\"showlegend\":false,\"x\":[\"2012-01-01T00:00:00\",\"2017-01-01T00:00:00\",\"2018-01-01T00:00:00\",\"2019-01-01T00:00:00\"],\"xaxis\":\"x\",\"y\":[0.010638297872340425,0.02127659574468085,0.07692307692307693,0.0380952380952381],\"yaxis\":\"y\",\"type\":\"scatter\"}],                        {\"template\":{\"data\":{\"histogram2dcontour\":[{\"type\":\"histogram2dcontour\",\"colorbar\":{\"outlinewidth\":0,\"ticks\":\"\"},\"colorscale\":[[0.0,\"#0d0887\"],[0.1111111111111111,\"#46039f\"],[0.2222222222222222,\"#7201a8\"],[0.3333333333333333,\"#9c179e\"],[0.4444444444444444,\"#bd3786\"],[0.5555555555555556,\"#d8576b\"],[0.6666666666666666,\"#ed7953\"],[0.7777777777777778,\"#fb9f3a\"],[0.8888888888888888,\"#fdca26\"],[1.0,\"#f0f921\"]]}],\"choropleth\":[{\"type\":\"choropleth\",\"colorbar\":{\"outlinewidth\":0,\"ticks\":\"\"}}],\"histogram2d\":[{\"type\":\"histogram2d\",\"colorbar\":{\"outlinewidth\":0,\"ticks\":\"\"},\"colorscale\":[[0.0,\"#0d0887\"],[0.1111111111111111,\"#46039f\"],[0.2222222222222222,\"#7201a8\"],[0.3333333333333333,\"#9c179e\"],[0.4444444444444444,\"#bd3786\"],[0.5555555555555556,\"#d8576b\"],[0.6666666666666666,\"#ed7953\"],[0.7777777777777778,\"#fb9f3a\"],[0.8888888888888888,\"#fdca26\"],[1.0,\"#f0f921\"]]}],\"heatmap\":[{\"type\":\"heatmap\",\"colorbar\":{\"outlinewidth\":0,\"ticks\":\"\"},\"colorscale\":[[0.0,\"#0d0887\"],[0.1111111111111111,\"#46039f\"],[0.2222222222222222,\"#7201a8\"],[0.3333333333333333,\"#9c179e\"],[0.4444444444444444,\"#bd3786\"],[0.5555555555555556,\"#d8576b\"],[0.6666666666666666,\"#ed7953\"],[0.7777777777777778,\"#fb9f3a\"],[0.8888888888888888,\"#fdca26\"],[1.0,\"#f0f921\"]]}],\"heatmapgl\":[{\"type\":\"heatmapgl\",\"colorbar\":{\"outlinewidth\":0,\"ticks\":\"\"},\"colorscale\":[[0.0,\"#0d0887\"],[0.1111111111111111,\"#46039f\"],[0.2222222222222222,\"#7201a8\"],[0.3333333333333333,\"#9c179e\"],[0.4444444444444444,\"#bd3786\"],[0.5555555555555556,\"#d8576b\"],[0.6666666666666666,\"#ed7953\"],[0.7777777777777778,\"#fb9f3a\"],[0.8888888888888888,\"#fdca26\"],[1.0,\"#f0f921\"]]}],\"contourcarpet\":[{\"type\":\"contourcarpet\",\"colorbar\":{\"outlinewidth\":0,\"ticks\":\"\"}}],\"contour\":[{\"type\":\"contour\",\"colorbar\":{\"outlinewidth\":0,\"ticks\":\"\"},\"colorscale\":[[0.0,\"#0d0887\"],[0.1111111111111111,\"#46039f\"],[0.2222222222222222,\"#7201a8\"],[0.3333333333333333,\"#9c179e\"],[0.4444444444444444,\"#bd3786\"],[0.5555555555555556,\"#d8576b\"],[0.6666666666666666,\"#ed7953\"],[0.7777777777777778,\"#fb9f3a\"],[0.8888888888888888,\"#fdca26\"],[1.0,\"#f0f921\"]]}],\"surface\":[{\"type\":\"surface\",\"colorbar\":{\"outlinewidth\":0,\"ticks\":\"\"},\"colorscale\":[[0.0,\"#0d0887\"],[0.1111111111111111,\"#46039f\"],[0.2222222222222222,\"#7201a8\"],[0.3333333333333333,\"#9c179e\"],[0.4444444444444444,\"#bd3786\"],[0.5555555555555556,\"#d8576b\"],[0.6666666666666666,\"#ed7953\"],[0.7777777777777778,\"#fb9f3a\"],[0.8888888888888888,\"#fdca26\"],[1.0,\"#f0f921\"]]}],\"mesh3d\":[{\"type\":\"mesh3d\",\"colorbar\":{\"outlinewidth\":0,\"ticks\":\"\"}}],\"scatter\":[{\"fillpattern\":{\"fillmode\":\"overlay\",\"size\":10,\"solidity\":0.2},\"type\":\"scatter\"}],\"parcoords\":[{\"type\":\"parcoords\",\"line\":{\"colorbar\":{\"outlinewidth\":0,\"ticks\":\"\"}}}],\"scatterpolargl\":[{\"type\":\"scatterpolargl\",\"marker\":{\"colorbar\":{\"outlinewidth\":0,\"ticks\":\"\"}}}],\"bar\":[{\"error_x\":{\"color\":\"#2a3f5f\"},\"error_y\":{\"color\":\"#2a3f5f\"},\"marker\":{\"line\":{\"color\":\"#E5ECF6\",\"width\":0.5},\"pattern\":{\"fillmode\":\"overlay\",\"size\":10,\"solidity\":0.2}},\"type\":\"bar\"}],\"scattergeo\":[{\"type\":\"scattergeo\",\"marker\":{\"colorbar\":{\"outlinewidth\":0,\"ticks\":\"\"}}}],\"scatterpolar\":[{\"type\":\"scatterpolar\",\"marker\":{\"colorbar\":{\"outlinewidth\":0,\"ticks\":\"\"}}}],\"histogram\":[{\"marker\":{\"pattern\":{\"fillmode\":\"overlay\",\"size\":10,\"solidity\":0.2}},\"type\":\"histogram\"}],\"scattergl\":[{\"type\":\"scattergl\",\"marker\":{\"colorbar\":{\"outlinewidth\":0,\"ticks\":\"\"}}}],\"scatter3d\":[{\"type\":\"scatter3d\",\"line\":{\"colorbar\":{\"outlinewidth\":0,\"ticks\":\"\"}},\"marker\":{\"colorbar\":{\"outlinewidth\":0,\"ticks\":\"\"}}}],\"scattermapbox\":[{\"type\":\"scattermapbox\",\"marker\":{\"colorbar\":{\"outlinewidth\":0,\"ticks\":\"\"}}}],\"scatterternary\":[{\"type\":\"scatterternary\",\"marker\":{\"colorbar\":{\"outlinewidth\":0,\"ticks\":\"\"}}}],\"scattercarpet\":[{\"type\":\"scattercarpet\",\"marker\":{\"colorbar\":{\"outlinewidth\":0,\"ticks\":\"\"}}}],\"carpet\":[{\"aaxis\":{\"endlinecolor\":\"#2a3f5f\",\"gridcolor\":\"white\",\"linecolor\":\"white\",\"minorgridcolor\":\"white\",\"startlinecolor\":\"#2a3f5f\"},\"baxis\":{\"endlinecolor\":\"#2a3f5f\",\"gridcolor\":\"white\",\"linecolor\":\"white\",\"minorgridcolor\":\"white\",\"startlinecolor\":\"#2a3f5f\"},\"type\":\"carpet\"}],\"table\":[{\"cells\":{\"fill\":{\"color\":\"#EBF0F8\"},\"line\":{\"color\":\"white\"}},\"header\":{\"fill\":{\"color\":\"#C8D4E3\"},\"line\":{\"color\":\"white\"}},\"type\":\"table\"}],\"barpolar\":[{\"marker\":{\"line\":{\"color\":\"#E5ECF6\",\"width\":0.5},\"pattern\":{\"fillmode\":\"overlay\",\"size\":10,\"solidity\":0.2}},\"type\":\"barpolar\"}],\"pie\":[{\"automargin\":true,\"type\":\"pie\"}]},\"layout\":{\"autotypenumbers\":\"strict\",\"colorway\":[\"#636efa\",\"#EF553B\",\"#00cc96\",\"#ab63fa\",\"#FFA15A\",\"#19d3f3\",\"#FF6692\",\"#B6E880\",\"#FF97FF\",\"#FECB52\"],\"font\":{\"color\":\"#2a3f5f\"},\"hovermode\":\"closest\",\"hoverlabel\":{\"align\":\"left\"},\"paper_bgcolor\":\"white\",\"plot_bgcolor\":\"#E5ECF6\",\"polar\":{\"bgcolor\":\"#E5ECF6\",\"angularaxis\":{\"gridcolor\":\"white\",\"linecolor\":\"white\",\"ticks\":\"\"},\"radialaxis\":{\"gridcolor\":\"white\",\"linecolor\":\"white\",\"ticks\":\"\"}},\"ternary\":{\"bgcolor\":\"#E5ECF6\",\"aaxis\":{\"gridcolor\":\"white\",\"linecolor\":\"white\",\"ticks\":\"\"},\"baxis\":{\"gridcolor\":\"white\",\"linecolor\":\"white\",\"ticks\":\"\"},\"caxis\":{\"gridcolor\":\"white\",\"linecolor\":\"white\",\"ticks\":\"\"}},\"coloraxis\":{\"colorbar\":{\"outlinewidth\":0,\"ticks\":\"\"}},\"colorscale\":{\"sequential\":[[0.0,\"#0d0887\"],[0.1111111111111111,\"#46039f\"],[0.2222222222222222,\"#7201a8\"],[0.3333333333333333,\"#9c179e\"],[0.4444444444444444,\"#bd3786\"],[0.5555555555555556,\"#d8576b\"],[0.6666666666666666,\"#ed7953\"],[0.7777777777777778,\"#fb9f3a\"],[0.8888888888888888,\"#fdca26\"],[1.0,\"#f0f921\"]],\"sequentialminus\":[[0.0,\"#0d0887\"],[0.1111111111111111,\"#46039f\"],[0.2222222222222222,\"#7201a8\"],[0.3333333333333333,\"#9c179e\"],[0.4444444444444444,\"#bd3786\"],[0.5555555555555556,\"#d8576b\"],[0.6666666666666666,\"#ed7953\"],[0.7777777777777778,\"#fb9f3a\"],[0.8888888888888888,\"#fdca26\"],[1.0,\"#f0f921\"]],\"diverging\":[[0,\"#8e0152\"],[0.1,\"#c51b7d\"],[0.2,\"#de77ae\"],[0.3,\"#f1b6da\"],[0.4,\"#fde0ef\"],[0.5,\"#f7f7f7\"],[0.6,\"#e6f5d0\"],[0.7,\"#b8e186\"],[0.8,\"#7fbc41\"],[0.9,\"#4d9221\"],[1,\"#276419\"]]},\"xaxis\":{\"gridcolor\":\"white\",\"linecolor\":\"white\",\"ticks\":\"\",\"title\":{\"standoff\":15},\"zerolinecolor\":\"white\",\"automargin\":true,\"zerolinewidth\":2},\"yaxis\":{\"gridcolor\":\"white\",\"linecolor\":\"white\",\"ticks\":\"\",\"title\":{\"standoff\":15},\"zerolinecolor\":\"white\",\"automargin\":true,\"zerolinewidth\":2},\"scene\":{\"xaxis\":{\"backgroundcolor\":\"#E5ECF6\",\"gridcolor\":\"white\",\"linecolor\":\"white\",\"showbackground\":true,\"ticks\":\"\",\"zerolinecolor\":\"white\",\"gridwidth\":2},\"yaxis\":{\"backgroundcolor\":\"#E5ECF6\",\"gridcolor\":\"white\",\"linecolor\":\"white\",\"showbackground\":true,\"ticks\":\"\",\"zerolinecolor\":\"white\",\"gridwidth\":2},\"zaxis\":{\"backgroundcolor\":\"#E5ECF6\",\"gridcolor\":\"white\",\"linecolor\":\"white\",\"showbackground\":true,\"ticks\":\"\",\"zerolinecolor\":\"white\",\"gridwidth\":2}},\"shapedefaults\":{\"line\":{\"color\":\"#2a3f5f\"}},\"annotationdefaults\":{\"arrowcolor\":\"#2a3f5f\",\"arrowhead\":0,\"arrowwidth\":1},\"geo\":{\"bgcolor\":\"white\",\"landcolor\":\"#E5ECF6\",\"subunitcolor\":\"white\",\"showland\":true,\"showlakes\":true,\"lakecolor\":\"white\"},\"title\":{\"x\":0.05},\"mapbox\":{\"style\":\"light\"}}},\"xaxis\":{\"anchor\":\"y\",\"domain\":[0.0,0.98],\"title\":{\"text\":\"Date\"}},\"yaxis\":{\"anchor\":\"x\",\"domain\":[0.0,0.3133333333333333],\"title\":{\"text\":\"Frequency\"},\"range\":[-0.05,1.05]},\"xaxis2\":{\"anchor\":\"y2\",\"domain\":[0.0,0.98],\"matches\":\"x\",\"showticklabels\":false},\"yaxis2\":{\"anchor\":\"x2\",\"domain\":[0.34333333333333327,0.6566666666666665],\"matches\":\"y\",\"title\":{\"text\":\"Frequency\"}},\"xaxis3\":{\"anchor\":\"y3\",\"domain\":[0.0,0.98],\"matches\":\"x\",\"showticklabels\":false},\"yaxis3\":{\"anchor\":\"x3\",\"domain\":[0.6866666666666665,0.9999999999999998],\"matches\":\"y\",\"title\":{\"text\":\"Frequency\"}},\"annotations\":[{\"font\":{},\"showarrow\":false,\"text\":\"Taxon=gambiae\",\"x\":0.49,\"xanchor\":\"center\",\"xref\":\"paper\",\"y\":0.9999999999999998,\"yanchor\":\"bottom\",\"yref\":\"paper\"},{\"font\":{},\"showarrow\":false,\"text\":\"Area=UG-W\",\"textangle\":90,\"x\":0.98,\"xanchor\":\"left\",\"xref\":\"paper\",\"y\":0.15666666666666665,\"yanchor\":\"middle\",\"yref\":\"paper\"},{\"font\":{},\"showarrow\":false,\"text\":\"Area=UG-E\",\"textangle\":90,\"x\":0.98,\"xanchor\":\"left\",\"xref\":\"paper\",\"y\":0.4999999999999999,\"yanchor\":\"middle\",\"yref\":\"paper\"},{\"font\":{},\"showarrow\":false,\"text\":\"Area=UG-C\",\"textangle\":90,\"x\":0.98,\"xanchor\":\"left\",\"xref\":\"paper\",\"y\":0.8433333333333332,\"yanchor\":\"middle\",\"yref\":\"paper\"}],\"legend\":{\"title\":{\"text\":\"Variant\"},\"tracegroupgap\":0,\"itemsizing\":\"constant\"},\"title\":{\"text\":\"Gene CNV frequencies (2R:28,480,576-28,482,637; 2R:28,483,301-28,484,921; 2R:28,491,415-28,493,141; X:15,240,572-15,242,864; 3R:6,928,858-6,930,547; 3R:6,973,779-6,975,563)\"},\"height\":900},                        {\"responsive\": true}                    ).then(function(){\n",
       "                            \n",
       "var gd = document.getElementById('09da2947-41aa-4cec-b3b6-03fbc8fed535');\n",
       "var x = new MutationObserver(function (mutations, observer) {{\n",
       "        var display = window.getComputedStyle(gd).display;\n",
       "        if (!display || display === 'none') {{\n",
       "            console.log([gd, 'removed!']);\n",
       "            Plotly.purge(gd);\n",
       "            observer.disconnect();\n",
       "        }}\n",
       "}});\n",
       "\n",
       "// Listen for the removal of the full notebook cells\n",
       "var notebookContainer = gd.closest('#notebook-container');\n",
       "if (notebookContainer) {{\n",
       "    x.observe(notebookContainer, {childList: true});\n",
       "}}\n",
       "\n",
       "// Listen for the clearing of the current output cell\n",
       "var outputEl = gd.closest('.output');\n",
       "if (outputEl) {{\n",
       "    x.observe(outputEl, {childList: true});\n",
       "}}\n",
       "\n",
       "                        })                };                });            </script>        </div>"
      ]
     },
     "metadata": {},
     "output_type": "display_data"
    }
   ],
   "source": [
    "# Plot frequency time series.\n",
    "ag3.plot_frequencies_time_series(\n",
    "    ds_cyp_cnv_frq,\n",
    "    height=900,  # need enough height for three sub-plots\n",
    ")"
   ]
  },
  {
   "cell_type": "markdown",
   "id": "aca71750-b921-429a-8336-d04d9df9e154",
   "metadata": {},
   "source": [
    "These time series give us some more information, e.g., they show that frequencies of *Cyp6aa1* and *Cyp9k1* have generally increased after 2012, although there are some geographical differences between the three regions of Uganda for which we have data."
   ]
  },
  {
   "cell_type": "markdown",
   "id": "58cfc08b-b9f1-42ed-ad6e-f2538134cd34",
   "metadata": {},
   "source": [
    "## Training data / examples\n",
    "\n",
    "What training data or existing examples exist that could be used to train an assistant?\n",
    "\n",
    "Probably the best source would be the learning materials for the [data analysis training course](https://anopheles-genomic-surveillance.github.io/) we've developed. These materials comprise a collection of Jupyter notebooks with code examples weaved in with explanatory text. \n",
    "\n",
    "We also create many Jupyter notebooks as part of previous and ongoing studies where we're collaborating with scientific colleagues to analyse real datasets. These tend not to have nearly as much explanatory text, rather they are focused on just analysing data to produce tables and figures for reports and papers. However, if we knew they were to be used to train an assistant, we could potentially go through and annotate some with more explanatory text.\n",
    "\n",
    "In general, I wonder what the best way of using Jupyter notebooks to train an assistant would be.\n",
    "\n",
    "For the API itself, there are docstrings and type annotations for all public methods. The docstrings generally don't include examples, but will have some brief text explaining what the methods are used for. These are also used to generate an [API documentation website](https://malariagen.github.io/malariagen-data-python/latest/). What would be the best way to make use of this?\n",
    "\n",
    "Finally, I wonder how an assistant could learn more about the content of the actual data. E.g., how to teach an assistant something about the samples that have been sequenced from different places, time points and mosquito species? This information is very useful when trying to craft parameter values for API calls. I guess this might be roughly analogous to problems where you want to train an assistant to help generate SQL queries for a specific database."
   ]
  },
  {
   "cell_type": "markdown",
   "id": "ddab961a-1f80-4803-8f58-b52014b04270",
   "metadata": {},
   "source": [
    "## Learning methods\n",
    "\n",
    "What would be the best way to train a generative model?\n",
    "\n",
    "If we have a library of Jupyter notebook with text and code examples, could this be used for some form of retrieval-augmented generation? I.e., the user's question is used to retrieve the most relevant snippets of notebooks, then these are included in the prompt?\n",
    "\n",
    "What about few-shot learning or fine-tuning? For one specific use case like the one described above, perhapse few-shot learning would be sufficient? But to cover a breadth of different use cases, perhaps fine-tuning is needed?\n"
   ]
  },
  {
   "attachments": {
    "8fe33000-a217-4989-b8b1-21f5374a1709.png": {
     "image/png": "[encoded data removed]"
    }
   },
   "cell_type": "markdown",
   "id": "7a1a4c17-37da-4567-b4e7-952ba092458c",
   "metadata": {},
   "source": [
    "## Integration with Google colab or Jupyter lab?\n",
    "\n",
    "Colab has code generation integrated within the notebook UI, which is exactly where you'd want this assistant to be:\n",
    "\n",
    "![image.png](attachment:8fe33000-a217-4989-b8b1-21f5374a1709.png)\n",
    "\n",
    "...is there a way to achieve this, ideally for colab but alternatively for any Jupyter lab interface?"
   ]
  },
  {
   "cell_type": "markdown",
   "id": "6c662204-548f-4247-a5ab-9fb344a54434",
   "metadata": {},
   "source": [
    "## Challenges and subtleties\n",
    "\n",
    "If it was possible to generate code examples like the ones above, then this would definitely be getting us towards the original question, but it's worth mentioning that there are a lot of variations and other analyses we might suggest, as well as some subtleties.\n",
    "\n",
    "E.g., if we wanted to analyse *Anopheles funestus* instead of *Anopheles gambiae*, we would need to provide a different set of gene identifiers for the interesting *Cyp* genes to include.\n",
    "\n",
    "Also, there are actually 107 cytochrome P450 (*Cyp*) genes in the *Anopheles gambiae* genome in total, and although only some of these have been associated with resistance previously, it's possible that prior knowledge is incomplete. Should we analyse all 107 genes, or just the smaller set of validated genes? Furthermore, some studies are also starting to find SNPs in *Cyp* genes are markers of resistance. Should we analyse SNPs as well as CNVs? These are tricky decisions, because we could come up some analysis code that is perfectly sensible from a biological point of view, but would overwhelm the user with data. E.g., there are often dozens of SNPs within each *Cyp* gene, even after filtering out low frequency variants, and 107 genes each with dozens of SNPs is hard to visualise.\n",
    "\n",
    "These are just a couple of potential challenges involved in considering what would be the most appropriate code examples to generate to address the original question, there are others."
   ]
  },
  {
   "cell_type": "markdown",
   "id": "c64b5c9e-4b47-4f09-a24a-3f75be06e5d4",
   "metadata": {},
   "source": [
    "## Last word\n",
    "\n",
    "Hopefully this is a useful use case to start thinking about what sort of assistant would be useful and if/how it could be implemented. Suggestions and thoughts very welcome."
   ]
  },
  {
   "cell_type": "raw",
   "id": "01b21a27-2c63-4594-b1d0-249e61729069",
   "metadata": {},
   "source": [
    "{% endraw %}"
   ]
  }
 ],
 "metadata": {
  "environment": {
   "kernel": "python3",
   "name": "workbench-notebooks.m125",
   "type": "gcloud",
   "uri": "us-docker.pkg.dev/deeplearning-platform-release/gcr.io/workbench-notebooks:m125"
  },
  "kernelspec": {
   "display_name": "Python 3 (ipykernel)",
   "language": "python",
   "name": "python3"
  },
  "language_info": {
   "codemirror_mode": {
    "name": "ipython",
    "version": 3
   },
   "file_extension": ".py",
   "mimetype": "text/x-python",
   "name": "python",
   "nbconvert_exporter": "python",
   "pygments_lexer": "ipython3",
   "version": "3.12.7"
  },
  "widgets": {
   "application/vnd.jupyter.widget-state+json": {
    "state": {},
    "version_major": 2,
    "version_minor": 0
   }
  }
 },
 "nbformat": 4,
 "nbformat_minor": 5
}
