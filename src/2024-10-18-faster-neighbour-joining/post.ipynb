{
 "cells": [
  {
   "cell_type": "raw",
   "id": "69a55cf0-fe97-4b2b-8cf9-66133beb4ddc",
   "metadata": {
    "editable": true,
    "raw_mimetype": "",
    "slideshow": {
     "slide_type": ""
    },
    "tags": []
   },
   "source": [
    "---\n",
    "layout: post\n",
    "title: Faster neighbour-joining\n",
    "description: A new Python package called anjl provides fast implementations of the neighbour-joining algorithm and interactive plotting of unrooted trees.\n",
    "image: /src/2024-10-18-faster-neighbour-joining/image.png\n",
    "---\n",
    "{% raw %}"
   ]
  },
  {
   "cell_type": "markdown",
   "id": "137f6945-06bc-4949-9a06-efabe93773c4",
   "metadata": {},
   "source": [
    "*A new Python package called [anjl](https://alimanfoo.github.io/anjl/) provides fast implementations of the neighbour-joining algorithm and interactive plotting of unrooted trees.*\n",
    "\n",
    "---"
   ]
  },
  {
   "cell_type": "code",
   "execution_count": 1,
   "id": "1adc29e6-cf79-4729-a0b8-dc9c2a7bd14c",
   "metadata": {
    "editable": true,
    "slideshow": {
     "slide_type": ""
    },
    "tags": [
     "remove_input"
    ]
   },
   "outputs": [
    {
     "data": {
      "text/html": [
       "<script>\n",
       "MathJax = {\n",
       "  tex: {\n",
       "    inlineMath: [['$', '$']]\n",
       "  },\n",
       "  svg: {\n",
       "    fontCache: 'global'\n",
       "  }\n",
       "};\n",
       "</script>\n",
       "<script type=\"text/javascript\" id=\"MathJax-script\" async\n",
       "  src=\"https://cdn.jsdelivr.net/npm/mathjax@3/es5/tex-svg.js\">\n",
       "</script>\n",
       "<script\n",
       "src=\"https://cdnjs.cloudflare.com/ajax/libs/require.js/2.3.7/require.min.js\"\n",
       "integrity=\"sha512-J5ha2LF4Le+PBQnI5+xAVJDR+sZG9uSgroy4n/A6TLjNkvYQbqZA8WHZdaOvJ0HiKkBC9Frmvs10rFDSHKmveQ==\"\n",
       "crossorigin=\"anonymous\"\n",
       "referrerpolicy=\"no-referrer\"></script>\n"
      ],
      "text/plain": [
       "<IPython.core.display.HTML object>"
      ]
     },
     "metadata": {},
     "output_type": "display_data"
    }
   ],
   "source": [
    "%%html\n",
    "<script>\n",
    "MathJax = {\n",
    "  tex: {\n",
    "    inlineMath: [['$', '$']]\n",
    "  },\n",
    "  svg: {\n",
    "    fontCache: 'global'\n",
    "  }\n",
    "};\n",
    "</script>\n",
    "<script type=\"text/javascript\" id=\"MathJax-script\" async\n",
    "  src=\"https://cdn.jsdelivr.net/npm/mathjax@3/es5/tex-svg.js\">\n",
    "</script>\n",
    "<script\n",
    "src=\"https://cdnjs.cloudflare.com/ajax/libs/require.js/2.3.7/require.min.js\"\n",
    "integrity=\"sha512-J5ha2LF4Le+PBQnI5+xAVJDR+sZG9uSgroy4n/A6TLjNkvYQbqZA8WHZdaOvJ0HiKkBC9Frmvs10rFDSHKmveQ==\"\n",
    "crossorigin=\"anonymous\"\n",
    "referrerpolicy=\"no-referrer\"></script>"
   ]
  },
  {
   "cell_type": "code",
   "execution_count": 2,
   "id": "fc56d6c8-f3d3-41fb-b757-92b5d1826d6a",
   "metadata": {
    "editable": true,
    "slideshow": {
     "slide_type": ""
    },
    "tags": [
     "remove_input"
    ]
   },
   "outputs": [],
   "source": [
    "import plotly.io as pio\n",
    "pio.renderers.default = \"notebook_connected+plotly_mimetype\""
   ]
  },
  {
   "cell_type": "markdown",
   "id": "e32c400a-699f-4137-872a-b0f7b426d183",
   "metadata": {
    "editable": true,
    "slideshow": {
     "slide_type": ""
    },
    "tags": []
   },
   "source": [
    "Neighbour-joining trees (NJT) are a useful tool for exploratory analysis of genetic population structure. Previously I've used a Python package called [biotite](https://www.biotite-python.org/latest/index.html) to compute NJT, but recently I was trying to build some bigger trees and things started to take a long time to run. I decided to see if I could create a faster implementation, and so [anjl](https://alimanfoo.github.io/anjl/) was born..."
   ]
  },
  {
   "cell_type": "code",
   "execution_count": 3,
   "id": "c73c4b6b-2dd2-42c7-b7a7-f32dc42e9b1e",
   "metadata": {
    "editable": true,
    "slideshow": {
     "slide_type": ""
    },
    "tags": [
     "remove_input"
    ]
   },
   "outputs": [
    {
     "data": {
      "text/html": [
       "        <script type=\"text/javascript\">\n",
       "        window.PlotlyConfig = {MathJaxConfig: 'local'};\n",
       "        if (window.MathJax && window.MathJax.Hub && window.MathJax.Hub.Config) {window.MathJax.Hub.Config({SVG: {font: \"STIX-Web\"}});}\n",
       "        if (typeof require !== 'undefined') {\n",
       "        require.undef(\"plotly\");\n",
       "        requirejs.config({\n",
       "            paths: {\n",
       "                'plotly': ['https://cdn.plot.ly/plotly-2.35.2.min']\n",
       "            }\n",
       "        });\n",
       "        require(['plotly'], function(Plotly) {\n",
       "            window._Plotly = Plotly;\n",
       "        });\n",
       "        }\n",
       "        </script>\n",
       "        "
      ]
     },
     "metadata": {},
     "output_type": "display_data"
    },
    {
     "data": {
      "application/vnd.plotly.v1+json": {
       "config": {
        "plotlyServerURL": "https://plot.ly"
       },
       "data": [
        {
         "error_y": {
          "array": [
           0.002342360755579216,
           0.004094966246043558,
           0.007317703159682696,
           0.021737440608292743,
           0.05007481977108241,
           0.19919396367885536,
           0.06559544085434436
          ]
         },
         "hovertemplate": "implementation=BioPython 1.84<br>size=%{x}<br>time_mean=%{y}<extra></extra>",
         "legendgroup": "BioPython 1.84",
         "line": {
          "color": "#636efa",
          "dash": "solid"
         },
         "marker": {
          "symbol": "circle"
         },
         "mode": "lines",
         "name": "BioPython 1.84",
         "orientation": "v",
         "showlegend": true,
         "type": "scatter",
         "x": [
          50,
          100,
          150,
          200,
          300,
          400,
          500
         ],
         "xaxis": "x",
         "y": [
          0.05434020360310867,
          0.39799340565999347,
          1.3029429912567139,
          3.0449384848276773,
          10.634544531504313,
          26.016510486602783,
          51.703094800313316
         ],
         "yaxis": "y"
        },
        {
         "error_y": {
          "array": [
           0.009484834021774418,
           0.0009208502420614609,
           0.004008261338004145,
           0.001666786764695313,
           0.0027786588026646243,
           0.01896213130493105,
           0.015614726046027688,
           0.01859890021909487,
           0.2517867138868221,
           0.07638553508036386,
           0.12207832954039298,
           0.1978799689791505,
           0.17268478261980072
          ]
         },
         "hovertemplate": "implementation=scikit-bio 0.6.2<br>size=%{x}<br>time_mean=%{y}<extra></extra>",
         "legendgroup": "scikit-bio 0.6.2",
         "line": {
          "color": "#EF553B",
          "dash": "solid"
         },
         "marker": {
          "symbol": "circle"
         },
         "mode": "lines",
         "name": "scikit-bio 0.6.2",
         "orientation": "v",
         "showlegend": true,
         "type": "scatter",
         "x": [
          50,
          100,
          150,
          200,
          400,
          600,
          800,
          1000,
          1200,
          1400,
          1600,
          1800,
          2000
         ],
         "xaxis": "x",
         "y": [
          0.018701632817586234,
          0.030483722686767533,
          0.05869301160176593,
          0.09025247891743975,
          0.39748581250508624,
          1.3443105220794678,
          3.23288631439209,
          6.5108083089192705,
          11.383477846781412,
          17.658929427464802,
          26.145233869552612,
          37.55680012702942,
          50.84925858179728
         ],
         "yaxis": "y"
        },
        {
         "error_y": {
          "array": [
           6.331573355143634e-05,
           8.630928192317777e-05,
           0.0006129122793954885,
           0.001164676694891146,
           0.004184325299866742,
           0.009430689629377709,
           0.003699173607082226,
           0.033088012847257514,
           0.010345397352981445,
           0.024090503851819628,
           0.039793344756336994,
           0.08083623777508729,
           0.07866789929888901,
           0.5757776881089315,
           0.1329192626603742,
           0.25944318683102924,
           0.2515305212423704,
           0.7676209659583108
          ]
         },
         "hovertemplate": "implementation=biotite 1.0.1<br>size=%{x}<br>time_mean=%{y}<extra></extra>",
         "legendgroup": "biotite 1.0.1",
         "line": {
          "color": "#00cc96",
          "dash": "solid"
         },
         "marker": {
          "symbol": "circle"
         },
         "mode": "lines",
         "name": "biotite 1.0.1",
         "orientation": "v",
         "showlegend": true,
         "type": "scatter",
         "x": [
          50,
          100,
          150,
          200,
          400,
          600,
          800,
          1000,
          1200,
          1400,
          1600,
          1800,
          2000,
          2200,
          2400,
          2600,
          2800,
          3000
         ],
         "xaxis": "x",
         "y": [
          0.000615119934082,
          0.0019875367482503,
          0.005505164464314733,
          0.013001044591267835,
          0.096105416615804,
          0.35144416491190594,
          0.8578227361043295,
          1.6981786092122395,
          3.008248964945475,
          4.784360647201538,
          7.236859639485677,
          10.461934169133505,
          14.64695151646932,
          19.735188166300457,
          25.92556405067444,
          33.73522194226583,
          43.50308918952942,
          55.60290916760763
         ],
         "yaxis": "y"
        },
        {
         "error_y": {
          "array": [
           7.213610117529041e-05,
           5.730301808561115e-05,
           0.000236530016401682,
           0.0009351184058146012,
           0.001434995240448811,
           0.0028340768561327004,
           0.002679913495730547,
           0.0008000647372352946,
           0.00525035823386542,
           0.009554776874469624,
           0.001868449978580677,
           0.0067886898492995,
           0.028567340519170117,
           0.004061586842513687,
           0.013103478722551147,
           0.005486426504578365,
           0.04865932677697306,
           0.05282696370517451,
           0.021142388936852274,
           0.0025439956893000826,
           0.12080228520784897,
           0.2053234999390794,
           0.12666651893510555,
           0.43644317500092095
          ]
         },
         "hovertemplate": "implementation=anjl 1.2.0 canonical_nj<br>size=%{x}<br>time_mean=%{y}<extra></extra>",
         "legendgroup": "anjl 1.2.0 canonical_nj",
         "line": {
          "color": "#ab63fa",
          "dash": "solid"
         },
         "marker": {
          "symbol": "circle"
         },
         "mode": "lines",
         "name": "anjl 1.2.0 canonical_nj",
         "orientation": "v",
         "showlegend": true,
         "type": "scatter",
         "x": [
          50,
          100,
          150,
          200,
          400,
          600,
          800,
          1000,
          1200,
          1400,
          1600,
          1800,
          2000,
          2200,
          2400,
          2600,
          2800,
          3000,
          3500,
          4000,
          4500,
          5000,
          5500,
          6000
         ],
         "xaxis": "x",
         "y": [
          0.00021433830261226666,
          0.0006085236867268334,
          0.0014001528422037332,
          0.0032959779103596664,
          0.017638206481933566,
          0.0517358779907226,
          0.11650331815083814,
          0.21420137087504068,
          0.3616315523783366,
          0.5836683114369711,
          0.8678733507792155,
          1.2520829041798909,
          1.7798815568288167,
          2.396043618520101,
          3.1393121083577475,
          4.028732538223267,
          5.034712711970012,
          6.295928955078125,
          10.05098827679952,
          15.057702461878458,
          21.550005356470745,
          30.047444264094036,
          40.31053948402405,
          52.87410672505697
         ],
         "yaxis": "y"
        },
        {
         "error_y": {
          "array": [
           0.00018066817092833145,
           0.0001471454752234391,
           0.000620315126660056,
           0.0009749122086706554,
           0.0027491330153808806,
           0.0019213630530941085,
           0.02830556882085009,
           0.018578369897488626,
           0.02725514764568791,
           0.03658046834308405,
           0.049424695671610355,
           0.13471922627822025,
           0.15430637139491096,
           0.29464871745062554,
           0.3975575724098299,
           0.42986367332837194,
           0.2967474607776603,
           0.3737231993093046,
           0.6466272838746634,
           0.9713028484188663,
           0.9966036477435515,
           0.7586647176668511,
           1.725984895817545,
           1.1088803493231778,
           1.168109146435546,
           0.4265474046686677,
           2.472921794451563,
           2.513554707397876,
           2.1911436169847316
          ]
         },
         "hovertemplate": "implementation=anjl 1.2.0 rapid_nj<br>size=%{x}<br>time_mean=%{y}<extra></extra>",
         "legendgroup": "anjl 1.2.0 rapid_nj",
         "line": {
          "color": "#FFA15A",
          "dash": "solid"
         },
         "marker": {
          "symbol": "circle"
         },
         "mode": "lines",
         "name": "anjl 1.2.0 rapid_nj",
         "orientation": "v",
         "showlegend": true,
         "type": "scatter",
         "x": [
          50,
          100,
          150,
          200,
          400,
          600,
          800,
          1000,
          1200,
          1400,
          1600,
          1800,
          2000,
          2200,
          2400,
          2600,
          2800,
          3000,
          3500,
          4000,
          4500,
          5000,
          5500,
          6000,
          6500,
          7000,
          7500,
          8000,
          8500
         ],
         "xaxis": "x",
         "y": [
          0.0006210009256997999,
          0.0017303625742594003,
          0.003927628199259367,
          0.007836739222208601,
          0.0297201474507649,
          0.07627248764038085,
          0.15017398198445636,
          0.21784583727518714,
          0.34718815485636395,
          0.5215802987416586,
          0.7287370363871256,
          1.038917859395345,
          1.3643399874369304,
          1.8080992698669434,
          2.2730111281077066,
          2.810876210530599,
          3.2742976347605386,
          4.03440276781718,
          5.675964991251628,
          8.069965680440268,
          10.91530179977417,
          13.810466527938843,
          18.780888080596924,
          23.152160962422688,
          28.345025777816772,
          32.615314404169716,
          39.42925047874451,
          44.25848984718323,
          51.730111598968506
         ],
         "yaxis": "y"
        },
        {
         "error_y": {
          "array": [
           0.00012472376007375524,
           7.521681085899218e-05,
           0.00023272222203849088,
           8.409396530931649e-05,
           0.0013577030007505726,
           0.0007511664931038374,
           0.0011052446577295722,
           0.0035849235978939807,
           0.0015291804368917745,
           0.0027269672872948718,
           0.0048161540064594905,
           0.0023100907145127657,
           0.007088782932061628,
           0.00783416916193165,
           0.0032434026321357503,
           0.010763895882958207,
           0.004161926843014442,
           0.0034521515934218764,
           0.015905639079914626,
           0.013381951025192226,
           0.0013284807599415267,
           0.016055311971617366,
           0.014413676987185601,
           0.030108265422492047,
           0.02485576600178861,
           0.06248258181706345,
           0.03898460692341244,
           0.05498062206405759,
           0.09374625950786011
          ]
         },
         "hovertemplate": "implementation=anjl 1.2.0 dynamic_nj<br>size=%{x}<br>time_mean=%{y}<extra></extra>",
         "legendgroup": "anjl 1.2.0 dynamic_nj",
         "line": {
          "color": "#19d3f3",
          "dash": "solid"
         },
         "marker": {
          "symbol": "circle"
         },
         "mode": "lines",
         "name": "anjl 1.2.0 dynamic_nj",
         "orientation": "v",
         "showlegend": true,
         "type": "scatter",
         "x": [
          50,
          100,
          150,
          200,
          400,
          600,
          800,
          1000,
          1200,
          1400,
          1600,
          1800,
          2000,
          2200,
          2400,
          2600,
          2800,
          3000,
          3500,
          4000,
          4500,
          5000,
          5500,
          6000,
          6500,
          7000,
          7500,
          8000,
          8500
         ],
         "xaxis": "x",
         "y": [
          0.00044361750284826665,
          0.0007393360137939333,
          0.0013633569081624,
          0.0020279089609781336,
          0.0071663856506347,
          0.012814442316691035,
          0.020803213119506767,
          0.034245173136393164,
          0.04744418462117506,
          0.06841397285461423,
          0.09292634328206373,
          0.12728500366210935,
          0.16390132904052732,
          0.20280845959981278,
          0.2538611888885498,
          0.31214531262715656,
          0.36504046122233075,
          0.43682368596394855,
          0.6555666128794352,
          0.9107345740000407,
          1.209396521250407,
          1.5435009002685547,
          1.933720668156942,
          2.393799146016439,
          2.8759194215138755,
          3.4880826473236084,
          4.0216318766276045,
          4.714610894521077,
          5.390875895818074
         ],
         "yaxis": "y"
        }
       ],
       "layout": {
        "height": 500,
        "legend": {
         "title": {
          "text": "implementation"
         },
         "tracegroupgap": 0
        },
        "margin": {
         "t": 60
        },
        "template": {
         "data": {
          "bar": [
           {
            "error_x": {
             "color": "#2a3f5f"
            },
            "error_y": {
             "color": "#2a3f5f"
            },
            "marker": {
             "line": {
              "color": "#E5ECF6",
              "width": 0.5
             },
             "pattern": {
              "fillmode": "overlay",
              "size": 10,
              "solidity": 0.2
             }
            },
            "type": "bar"
           }
          ],
          "barpolar": [
           {
            "marker": {
             "line": {
              "color": "#E5ECF6",
              "width": 0.5
             },
             "pattern": {
              "fillmode": "overlay",
              "size": 10,
              "solidity": 0.2
             }
            },
            "type": "barpolar"
           }
          ],
          "carpet": [
           {
            "aaxis": {
             "endlinecolor": "#2a3f5f",
             "gridcolor": "white",
             "linecolor": "white",
             "minorgridcolor": "white",
             "startlinecolor": "#2a3f5f"
            },
            "baxis": {
             "endlinecolor": "#2a3f5f",
             "gridcolor": "white",
             "linecolor": "white",
             "minorgridcolor": "white",
             "startlinecolor": "#2a3f5f"
            },
            "type": "carpet"
           }
          ],
          "choropleth": [
           {
            "colorbar": {
             "outlinewidth": 0,
             "ticks": ""
            },
            "type": "choropleth"
           }
          ],
          "contour": [
           {
            "colorbar": {
             "outlinewidth": 0,
             "ticks": ""
            },
            "colorscale": [
             [
              0,
              "#0d0887"
             ],
             [
              0.1111111111111111,
              "#46039f"
             ],
             [
              0.2222222222222222,
              "#7201a8"
             ],
             [
              0.3333333333333333,
              "#9c179e"
             ],
             [
              0.4444444444444444,
              "#bd3786"
             ],
             [
              0.5555555555555556,
              "#d8576b"
             ],
             [
              0.6666666666666666,
              "#ed7953"
             ],
             [
              0.7777777777777778,
              "#fb9f3a"
             ],
             [
              0.8888888888888888,
              "#fdca26"
             ],
             [
              1,
              "#f0f921"
             ]
            ],
            "type": "contour"
           }
          ],
          "contourcarpet": [
           {
            "colorbar": {
             "outlinewidth": 0,
             "ticks": ""
            },
            "type": "contourcarpet"
           }
          ],
          "heatmap": [
           {
            "colorbar": {
             "outlinewidth": 0,
             "ticks": ""
            },
            "colorscale": [
             [
              0,
              "#0d0887"
             ],
             [
              0.1111111111111111,
              "#46039f"
             ],
             [
              0.2222222222222222,
              "#7201a8"
             ],
             [
              0.3333333333333333,
              "#9c179e"
             ],
             [
              0.4444444444444444,
              "#bd3786"
             ],
             [
              0.5555555555555556,
              "#d8576b"
             ],
             [
              0.6666666666666666,
              "#ed7953"
             ],
             [
              0.7777777777777778,
              "#fb9f3a"
             ],
             [
              0.8888888888888888,
              "#fdca26"
             ],
             [
              1,
              "#f0f921"
             ]
            ],
            "type": "heatmap"
           }
          ],
          "heatmapgl": [
           {
            "colorbar": {
             "outlinewidth": 0,
             "ticks": ""
            },
            "colorscale": [
             [
              0,
              "#0d0887"
             ],
             [
              0.1111111111111111,
              "#46039f"
             ],
             [
              0.2222222222222222,
              "#7201a8"
             ],
             [
              0.3333333333333333,
              "#9c179e"
             ],
             [
              0.4444444444444444,
              "#bd3786"
             ],
             [
              0.5555555555555556,
              "#d8576b"
             ],
             [
              0.6666666666666666,
              "#ed7953"
             ],
             [
              0.7777777777777778,
              "#fb9f3a"
             ],
             [
              0.8888888888888888,
              "#fdca26"
             ],
             [
              1,
              "#f0f921"
             ]
            ],
            "type": "heatmapgl"
           }
          ],
          "histogram": [
           {
            "marker": {
             "pattern": {
              "fillmode": "overlay",
              "size": 10,
              "solidity": 0.2
             }
            },
            "type": "histogram"
           }
          ],
          "histogram2d": [
           {
            "colorbar": {
             "outlinewidth": 0,
             "ticks": ""
            },
            "colorscale": [
             [
              0,
              "#0d0887"
             ],
             [
              0.1111111111111111,
              "#46039f"
             ],
             [
              0.2222222222222222,
              "#7201a8"
             ],
             [
              0.3333333333333333,
              "#9c179e"
             ],
             [
              0.4444444444444444,
              "#bd3786"
             ],
             [
              0.5555555555555556,
              "#d8576b"
             ],
             [
              0.6666666666666666,
              "#ed7953"
             ],
             [
              0.7777777777777778,
              "#fb9f3a"
             ],
             [
              0.8888888888888888,
              "#fdca26"
             ],
             [
              1,
              "#f0f921"
             ]
            ],
            "type": "histogram2d"
           }
          ],
          "histogram2dcontour": [
           {
            "colorbar": {
             "outlinewidth": 0,
             "ticks": ""
            },
            "colorscale": [
             [
              0,
              "#0d0887"
             ],
             [
              0.1111111111111111,
              "#46039f"
             ],
             [
              0.2222222222222222,
              "#7201a8"
             ],
             [
              0.3333333333333333,
              "#9c179e"
             ],
             [
              0.4444444444444444,
              "#bd3786"
             ],
             [
              0.5555555555555556,
              "#d8576b"
             ],
             [
              0.6666666666666666,
              "#ed7953"
             ],
             [
              0.7777777777777778,
              "#fb9f3a"
             ],
             [
              0.8888888888888888,
              "#fdca26"
             ],
             [
              1,
              "#f0f921"
             ]
            ],
            "type": "histogram2dcontour"
           }
          ],
          "mesh3d": [
           {
            "colorbar": {
             "outlinewidth": 0,
             "ticks": ""
            },
            "type": "mesh3d"
           }
          ],
          "parcoords": [
           {
            "line": {
             "colorbar": {
              "outlinewidth": 0,
              "ticks": ""
             }
            },
            "type": "parcoords"
           }
          ],
          "pie": [
           {
            "automargin": true,
            "type": "pie"
           }
          ],
          "scatter": [
           {
            "fillpattern": {
             "fillmode": "overlay",
             "size": 10,
             "solidity": 0.2
            },
            "type": "scatter"
           }
          ],
          "scatter3d": [
           {
            "line": {
             "colorbar": {
              "outlinewidth": 0,
              "ticks": ""
             }
            },
            "marker": {
             "colorbar": {
              "outlinewidth": 0,
              "ticks": ""
             }
            },
            "type": "scatter3d"
           }
          ],
          "scattercarpet": [
           {
            "marker": {
             "colorbar": {
              "outlinewidth": 0,
              "ticks": ""
             }
            },
            "type": "scattercarpet"
           }
          ],
          "scattergeo": [
           {
            "marker": {
             "colorbar": {
              "outlinewidth": 0,
              "ticks": ""
             }
            },
            "type": "scattergeo"
           }
          ],
          "scattergl": [
           {
            "marker": {
             "colorbar": {
              "outlinewidth": 0,
              "ticks": ""
             }
            },
            "type": "scattergl"
           }
          ],
          "scattermapbox": [
           {
            "marker": {
             "colorbar": {
              "outlinewidth": 0,
              "ticks": ""
             }
            },
            "type": "scattermapbox"
           }
          ],
          "scatterpolar": [
           {
            "marker": {
             "colorbar": {
              "outlinewidth": 0,
              "ticks": ""
             }
            },
            "type": "scatterpolar"
           }
          ],
          "scatterpolargl": [
           {
            "marker": {
             "colorbar": {
              "outlinewidth": 0,
              "ticks": ""
             }
            },
            "type": "scatterpolargl"
           }
          ],
          "scatterternary": [
           {
            "marker": {
             "colorbar": {
              "outlinewidth": 0,
              "ticks": ""
             }
            },
            "type": "scatterternary"
           }
          ],
          "surface": [
           {
            "colorbar": {
             "outlinewidth": 0,
             "ticks": ""
            },
            "colorscale": [
             [
              0,
              "#0d0887"
             ],
             [
              0.1111111111111111,
              "#46039f"
             ],
             [
              0.2222222222222222,
              "#7201a8"
             ],
             [
              0.3333333333333333,
              "#9c179e"
             ],
             [
              0.4444444444444444,
              "#bd3786"
             ],
             [
              0.5555555555555556,
              "#d8576b"
             ],
             [
              0.6666666666666666,
              "#ed7953"
             ],
             [
              0.7777777777777778,
              "#fb9f3a"
             ],
             [
              0.8888888888888888,
              "#fdca26"
             ],
             [
              1,
              "#f0f921"
             ]
            ],
            "type": "surface"
           }
          ],
          "table": [
           {
            "cells": {
             "fill": {
              "color": "#EBF0F8"
             },
             "line": {
              "color": "white"
             }
            },
            "header": {
             "fill": {
              "color": "#C8D4E3"
             },
             "line": {
              "color": "white"
             }
            },
            "type": "table"
           }
          ]
         },
         "layout": {
          "annotationdefaults": {
           "arrowcolor": "#2a3f5f",
           "arrowhead": 0,
           "arrowwidth": 1
          },
          "autotypenumbers": "strict",
          "coloraxis": {
           "colorbar": {
            "outlinewidth": 0,
            "ticks": ""
           }
          },
          "colorscale": {
           "diverging": [
            [
             0,
             "#8e0152"
            ],
            [
             0.1,
             "#c51b7d"
            ],
            [
             0.2,
             "#de77ae"
            ],
            [
             0.3,
             "#f1b6da"
            ],
            [
             0.4,
             "#fde0ef"
            ],
            [
             0.5,
             "#f7f7f7"
            ],
            [
             0.6,
             "#e6f5d0"
            ],
            [
             0.7,
             "#b8e186"
            ],
            [
             0.8,
             "#7fbc41"
            ],
            [
             0.9,
             "#4d9221"
            ],
            [
             1,
             "#276419"
            ]
           ],
           "sequential": [
            [
             0,
             "#0d0887"
            ],
            [
             0.1111111111111111,
             "#46039f"
            ],
            [
             0.2222222222222222,
             "#7201a8"
            ],
            [
             0.3333333333333333,
             "#9c179e"
            ],
            [
             0.4444444444444444,
             "#bd3786"
            ],
            [
             0.5555555555555556,
             "#d8576b"
            ],
            [
             0.6666666666666666,
             "#ed7953"
            ],
            [
             0.7777777777777778,
             "#fb9f3a"
            ],
            [
             0.8888888888888888,
             "#fdca26"
            ],
            [
             1,
             "#f0f921"
            ]
           ],
           "sequentialminus": [
            [
             0,
             "#0d0887"
            ],
            [
             0.1111111111111111,
             "#46039f"
            ],
            [
             0.2222222222222222,
             "#7201a8"
            ],
            [
             0.3333333333333333,
             "#9c179e"
            ],
            [
             0.4444444444444444,
             "#bd3786"
            ],
            [
             0.5555555555555556,
             "#d8576b"
            ],
            [
             0.6666666666666666,
             "#ed7953"
            ],
            [
             0.7777777777777778,
             "#fb9f3a"
            ],
            [
             0.8888888888888888,
             "#fdca26"
            ],
            [
             1,
             "#f0f921"
            ]
           ]
          },
          "colorway": [
           "#636efa",
           "#EF553B",
           "#00cc96",
           "#ab63fa",
           "#FFA15A",
           "#19d3f3",
           "#FF6692",
           "#B6E880",
           "#FF97FF",
           "#FECB52"
          ],
          "font": {
           "color": "#2a3f5f"
          },
          "geo": {
           "bgcolor": "white",
           "lakecolor": "white",
           "landcolor": "#E5ECF6",
           "showlakes": true,
           "showland": true,
           "subunitcolor": "white"
          },
          "hoverlabel": {
           "align": "left"
          },
          "hovermode": "closest",
          "mapbox": {
           "style": "light"
          },
          "paper_bgcolor": "white",
          "plot_bgcolor": "#E5ECF6",
          "polar": {
           "angularaxis": {
            "gridcolor": "white",
            "linecolor": "white",
            "ticks": ""
           },
           "bgcolor": "#E5ECF6",
           "radialaxis": {
            "gridcolor": "white",
            "linecolor": "white",
            "ticks": ""
           }
          },
          "scene": {
           "xaxis": {
            "backgroundcolor": "#E5ECF6",
            "gridcolor": "white",
            "gridwidth": 2,
            "linecolor": "white",
            "showbackground": true,
            "ticks": "",
            "zerolinecolor": "white"
           },
           "yaxis": {
            "backgroundcolor": "#E5ECF6",
            "gridcolor": "white",
            "gridwidth": 2,
            "linecolor": "white",
            "showbackground": true,
            "ticks": "",
            "zerolinecolor": "white"
           },
           "zaxis": {
            "backgroundcolor": "#E5ECF6",
            "gridcolor": "white",
            "gridwidth": 2,
            "linecolor": "white",
            "showbackground": true,
            "ticks": "",
            "zerolinecolor": "white"
           }
          },
          "shapedefaults": {
           "line": {
            "color": "#2a3f5f"
           }
          },
          "ternary": {
           "aaxis": {
            "gridcolor": "white",
            "linecolor": "white",
            "ticks": ""
           },
           "baxis": {
            "gridcolor": "white",
            "linecolor": "white",
            "ticks": ""
           },
           "bgcolor": "#E5ECF6",
           "caxis": {
            "gridcolor": "white",
            "linecolor": "white",
            "ticks": ""
           }
          },
          "title": {
           "x": 0.05
          },
          "xaxis": {
           "automargin": true,
           "gridcolor": "white",
           "linecolor": "white",
           "ticks": "",
           "title": {
            "standoff": 15
           },
           "zerolinecolor": "white",
           "zerolinewidth": 2
          },
          "yaxis": {
           "automargin": true,
           "gridcolor": "white",
           "linecolor": "white",
           "ticks": "",
           "title": {
            "standoff": 15
           },
           "zerolinecolor": "white",
           "zerolinewidth": 2
          }
         }
        },
        "title": {
         "text": "Neighbour-joining performance"
        },
        "width": 800,
        "xaxis": {
         "anchor": "y",
         "autorange": true,
         "domain": [
          0,
          1
         ],
         "range": [
          -419.44444444444446,
          8969.444444444445
         ],
         "title": {
          "text": "No. observations (distance matrix size)"
         },
         "type": "linear"
        },
        "yaxis": {
         "anchor": "x",
         "autorange": true,
         "domain": [
          0,
          1
         ],
         "range": [
          -3.131546016207702,
          59.502218351975074
         ],
         "title": {
          "text": "Time (s)"
         },
         "type": "linear"
        }
       }
      },
      "image/png": "[encoded data removed]",
      "text/html": [
       "<div>                            <div id=\"4e31557c-c3f8-4acd-9865-bf172f87d377\" class=\"plotly-graph-div\" style=\"height:500px; width:800px;\"></div>            <script type=\"text/javascript\">                require([\"plotly\"], function(Plotly) {                    window.PLOTLYENV=window.PLOTLYENV || {};                                    if (document.getElementById(\"4e31557c-c3f8-4acd-9865-bf172f87d377\")) {                    Plotly.newPlot(                        \"4e31557c-c3f8-4acd-9865-bf172f87d377\",                        [{\"error_y\":{\"array\":[0.002342360755579216,0.004094966246043558,0.007317703159682696,0.021737440608292743,0.05007481977108241,0.19919396367885536,0.06559544085434436]},\"hovertemplate\":\"implementation=BioPython 1.84\\u003cbr\\u003esize=%{x}\\u003cbr\\u003etime_mean=%{y}\\u003cextra\\u003e\\u003c\\u002fextra\\u003e\",\"legendgroup\":\"BioPython 1.84\",\"line\":{\"color\":\"#636efa\",\"dash\":\"solid\"},\"marker\":{\"symbol\":\"circle\"},\"mode\":\"lines\",\"name\":\"BioPython 1.84\",\"orientation\":\"v\",\"showlegend\":true,\"x\":[50,100,150,200,300,400,500],\"xaxis\":\"x\",\"y\":[0.05434020360310867,0.39799340565999347,1.3029429912567139,3.0449384848276773,10.634544531504313,26.016510486602783,51.703094800313316],\"yaxis\":\"y\",\"type\":\"scatter\"},{\"error_y\":{\"array\":[0.009484834021774418,0.0009208502420614609,0.004008261338004145,0.001666786764695313,0.0027786588026646243,0.01896213130493105,0.015614726046027688,0.01859890021909487,0.2517867138868221,0.07638553508036386,0.12207832954039298,0.1978799689791505,0.17268478261980072]},\"hovertemplate\":\"implementation=scikit-bio 0.6.2\\u003cbr\\u003esize=%{x}\\u003cbr\\u003etime_mean=%{y}\\u003cextra\\u003e\\u003c\\u002fextra\\u003e\",\"legendgroup\":\"scikit-bio 0.6.2\",\"line\":{\"color\":\"#EF553B\",\"dash\":\"solid\"},\"marker\":{\"symbol\":\"circle\"},\"mode\":\"lines\",\"name\":\"scikit-bio 0.6.2\",\"orientation\":\"v\",\"showlegend\":true,\"x\":[50,100,150,200,400,600,800,1000,1200,1400,1600,1800,2000],\"xaxis\":\"x\",\"y\":[0.018701632817586234,0.030483722686767533,0.05869301160176593,0.09025247891743975,0.39748581250508624,1.3443105220794678,3.23288631439209,6.5108083089192705,11.383477846781412,17.658929427464802,26.145233869552612,37.55680012702942,50.84925858179728],\"yaxis\":\"y\",\"type\":\"scatter\"},{\"error_y\":{\"array\":[6.331573355143634e-05,8.630928192317777e-05,0.0006129122793954885,0.001164676694891146,0.004184325299866742,0.009430689629377709,0.003699173607082226,0.033088012847257514,0.010345397352981445,0.024090503851819628,0.039793344756336994,0.08083623777508729,0.07866789929888901,0.5757776881089315,0.1329192626603742,0.25944318683102924,0.2515305212423704,0.7676209659583108]},\"hovertemplate\":\"implementation=biotite 1.0.1\\u003cbr\\u003esize=%{x}\\u003cbr\\u003etime_mean=%{y}\\u003cextra\\u003e\\u003c\\u002fextra\\u003e\",\"legendgroup\":\"biotite 1.0.1\",\"line\":{\"color\":\"#00cc96\",\"dash\":\"solid\"},\"marker\":{\"symbol\":\"circle\"},\"mode\":\"lines\",\"name\":\"biotite 1.0.1\",\"orientation\":\"v\",\"showlegend\":true,\"x\":[50,100,150,200,400,600,800,1000,1200,1400,1600,1800,2000,2200,2400,2600,2800,3000],\"xaxis\":\"x\",\"y\":[0.000615119934082,0.0019875367482503,0.005505164464314733,0.013001044591267835,0.096105416615804,0.35144416491190594,0.8578227361043295,1.6981786092122395,3.008248964945475,4.784360647201538,7.236859639485677,10.461934169133505,14.64695151646932,19.735188166300457,25.92556405067444,33.73522194226583,43.50308918952942,55.60290916760763],\"yaxis\":\"y\",\"type\":\"scatter\"},{\"error_y\":{\"array\":[7.213610117529041e-05,5.730301808561115e-05,0.000236530016401682,0.0009351184058146012,0.001434995240448811,0.0028340768561327004,0.002679913495730547,0.0008000647372352946,0.00525035823386542,0.009554776874469624,0.001868449978580677,0.0067886898492995,0.028567340519170117,0.004061586842513687,0.013103478722551147,0.005486426504578365,0.04865932677697306,0.05282696370517451,0.021142388936852274,0.0025439956893000826,0.12080228520784897,0.2053234999390794,0.12666651893510555,0.43644317500092095]},\"hovertemplate\":\"implementation=anjl 1.2.0 canonical_nj\\u003cbr\\u003esize=%{x}\\u003cbr\\u003etime_mean=%{y}\\u003cextra\\u003e\\u003c\\u002fextra\\u003e\",\"legendgroup\":\"anjl 1.2.0 canonical_nj\",\"line\":{\"color\":\"#ab63fa\",\"dash\":\"solid\"},\"marker\":{\"symbol\":\"circle\"},\"mode\":\"lines\",\"name\":\"anjl 1.2.0 canonical_nj\",\"orientation\":\"v\",\"showlegend\":true,\"x\":[50,100,150,200,400,600,800,1000,1200,1400,1600,1800,2000,2200,2400,2600,2800,3000,3500,4000,4500,5000,5500,6000],\"xaxis\":\"x\",\"y\":[0.00021433830261226666,0.0006085236867268334,0.0014001528422037332,0.0032959779103596664,0.017638206481933566,0.0517358779907226,0.11650331815083814,0.21420137087504068,0.3616315523783366,0.5836683114369711,0.8678733507792155,1.2520829041798909,1.7798815568288167,2.396043618520101,3.1393121083577475,4.028732538223267,5.034712711970012,6.295928955078125,10.05098827679952,15.057702461878458,21.550005356470745,30.047444264094036,40.31053948402405,52.87410672505697],\"yaxis\":\"y\",\"type\":\"scatter\"},{\"error_y\":{\"array\":[0.00018066817092833145,0.0001471454752234391,0.000620315126660056,0.0009749122086706554,0.0027491330153808806,0.0019213630530941085,0.02830556882085009,0.018578369897488626,0.02725514764568791,0.03658046834308405,0.049424695671610355,0.13471922627822025,0.15430637139491096,0.29464871745062554,0.3975575724098299,0.42986367332837194,0.2967474607776603,0.3737231993093046,0.6466272838746634,0.9713028484188663,0.9966036477435515,0.7586647176668511,1.725984895817545,1.1088803493231778,1.168109146435546,0.4265474046686677,2.472921794451563,2.513554707397876,2.1911436169847316]},\"hovertemplate\":\"implementation=anjl 1.2.0 rapid_nj\\u003cbr\\u003esize=%{x}\\u003cbr\\u003etime_mean=%{y}\\u003cextra\\u003e\\u003c\\u002fextra\\u003e\",\"legendgroup\":\"anjl 1.2.0 rapid_nj\",\"line\":{\"color\":\"#FFA15A\",\"dash\":\"solid\"},\"marker\":{\"symbol\":\"circle\"},\"mode\":\"lines\",\"name\":\"anjl 1.2.0 rapid_nj\",\"orientation\":\"v\",\"showlegend\":true,\"x\":[50,100,150,200,400,600,800,1000,1200,1400,1600,1800,2000,2200,2400,2600,2800,3000,3500,4000,4500,5000,5500,6000,6500,7000,7500,8000,8500],\"xaxis\":\"x\",\"y\":[0.0006210009256997999,0.0017303625742594003,0.003927628199259367,0.007836739222208601,0.0297201474507649,0.07627248764038085,0.15017398198445636,0.21784583727518714,0.34718815485636395,0.5215802987416586,0.7287370363871256,1.038917859395345,1.3643399874369304,1.8080992698669434,2.2730111281077066,2.810876210530599,3.2742976347605386,4.03440276781718,5.675964991251628,8.069965680440268,10.91530179977417,13.810466527938843,18.780888080596924,23.152160962422688,28.345025777816772,32.615314404169716,39.42925047874451,44.25848984718323,51.730111598968506],\"yaxis\":\"y\",\"type\":\"scatter\"},{\"error_y\":{\"array\":[0.00012472376007375524,7.521681085899218e-05,0.00023272222203849088,8.409396530931649e-05,0.0013577030007505726,0.0007511664931038374,0.0011052446577295722,0.0035849235978939807,0.0015291804368917745,0.0027269672872948718,0.0048161540064594905,0.0023100907145127657,0.007088782932061628,0.00783416916193165,0.0032434026321357503,0.010763895882958207,0.004161926843014442,0.0034521515934218764,0.015905639079914626,0.013381951025192226,0.0013284807599415267,0.016055311971617366,0.014413676987185601,0.030108265422492047,0.02485576600178861,0.06248258181706345,0.03898460692341244,0.05498062206405759,0.09374625950786011]},\"hovertemplate\":\"implementation=anjl 1.2.0 dynamic_nj\\u003cbr\\u003esize=%{x}\\u003cbr\\u003etime_mean=%{y}\\u003cextra\\u003e\\u003c\\u002fextra\\u003e\",\"legendgroup\":\"anjl 1.2.0 dynamic_nj\",\"line\":{\"color\":\"#19d3f3\",\"dash\":\"solid\"},\"marker\":{\"symbol\":\"circle\"},\"mode\":\"lines\",\"name\":\"anjl 1.2.0 dynamic_nj\",\"orientation\":\"v\",\"showlegend\":true,\"x\":[50,100,150,200,400,600,800,1000,1200,1400,1600,1800,2000,2200,2400,2600,2800,3000,3500,4000,4500,5000,5500,6000,6500,7000,7500,8000,8500],\"xaxis\":\"x\",\"y\":[0.00044361750284826665,0.0007393360137939333,0.0013633569081624,0.0020279089609781336,0.0071663856506347,0.012814442316691035,0.020803213119506767,0.034245173136393164,0.04744418462117506,0.06841397285461423,0.09292634328206373,0.12728500366210935,0.16390132904052732,0.20280845959981278,0.2538611888885498,0.31214531262715656,0.36504046122233075,0.43682368596394855,0.6555666128794352,0.9107345740000407,1.209396521250407,1.5435009002685547,1.933720668156942,2.393799146016439,2.8759194215138755,3.4880826473236084,4.0216318766276045,4.714610894521077,5.390875895818074],\"yaxis\":\"y\",\"type\":\"scatter\"}],                        {\"template\":{\"data\":{\"histogram2dcontour\":[{\"type\":\"histogram2dcontour\",\"colorbar\":{\"outlinewidth\":0,\"ticks\":\"\"},\"colorscale\":[[0.0,\"#0d0887\"],[0.1111111111111111,\"#46039f\"],[0.2222222222222222,\"#7201a8\"],[0.3333333333333333,\"#9c179e\"],[0.4444444444444444,\"#bd3786\"],[0.5555555555555556,\"#d8576b\"],[0.6666666666666666,\"#ed7953\"],[0.7777777777777778,\"#fb9f3a\"],[0.8888888888888888,\"#fdca26\"],[1.0,\"#f0f921\"]]}],\"choropleth\":[{\"type\":\"choropleth\",\"colorbar\":{\"outlinewidth\":0,\"ticks\":\"\"}}],\"histogram2d\":[{\"type\":\"histogram2d\",\"colorbar\":{\"outlinewidth\":0,\"ticks\":\"\"},\"colorscale\":[[0.0,\"#0d0887\"],[0.1111111111111111,\"#46039f\"],[0.2222222222222222,\"#7201a8\"],[0.3333333333333333,\"#9c179e\"],[0.4444444444444444,\"#bd3786\"],[0.5555555555555556,\"#d8576b\"],[0.6666666666666666,\"#ed7953\"],[0.7777777777777778,\"#fb9f3a\"],[0.8888888888888888,\"#fdca26\"],[1.0,\"#f0f921\"]]}],\"heatmap\":[{\"type\":\"heatmap\",\"colorbar\":{\"outlinewidth\":0,\"ticks\":\"\"},\"colorscale\":[[0.0,\"#0d0887\"],[0.1111111111111111,\"#46039f\"],[0.2222222222222222,\"#7201a8\"],[0.3333333333333333,\"#9c179e\"],[0.4444444444444444,\"#bd3786\"],[0.5555555555555556,\"#d8576b\"],[0.6666666666666666,\"#ed7953\"],[0.7777777777777778,\"#fb9f3a\"],[0.8888888888888888,\"#fdca26\"],[1.0,\"#f0f921\"]]}],\"heatmapgl\":[{\"type\":\"heatmapgl\",\"colorbar\":{\"outlinewidth\":0,\"ticks\":\"\"},\"colorscale\":[[0.0,\"#0d0887\"],[0.1111111111111111,\"#46039f\"],[0.2222222222222222,\"#7201a8\"],[0.3333333333333333,\"#9c179e\"],[0.4444444444444444,\"#bd3786\"],[0.5555555555555556,\"#d8576b\"],[0.6666666666666666,\"#ed7953\"],[0.7777777777777778,\"#fb9f3a\"],[0.8888888888888888,\"#fdca26\"],[1.0,\"#f0f921\"]]}],\"contourcarpet\":[{\"type\":\"contourcarpet\",\"colorbar\":{\"outlinewidth\":0,\"ticks\":\"\"}}],\"contour\":[{\"type\":\"contour\",\"colorbar\":{\"outlinewidth\":0,\"ticks\":\"\"},\"colorscale\":[[0.0,\"#0d0887\"],[0.1111111111111111,\"#46039f\"],[0.2222222222222222,\"#7201a8\"],[0.3333333333333333,\"#9c179e\"],[0.4444444444444444,\"#bd3786\"],[0.5555555555555556,\"#d8576b\"],[0.6666666666666666,\"#ed7953\"],[0.7777777777777778,\"#fb9f3a\"],[0.8888888888888888,\"#fdca26\"],[1.0,\"#f0f921\"]]}],\"surface\":[{\"type\":\"surface\",\"colorbar\":{\"outlinewidth\":0,\"ticks\":\"\"},\"colorscale\":[[0.0,\"#0d0887\"],[0.1111111111111111,\"#46039f\"],[0.2222222222222222,\"#7201a8\"],[0.3333333333333333,\"#9c179e\"],[0.4444444444444444,\"#bd3786\"],[0.5555555555555556,\"#d8576b\"],[0.6666666666666666,\"#ed7953\"],[0.7777777777777778,\"#fb9f3a\"],[0.8888888888888888,\"#fdca26\"],[1.0,\"#f0f921\"]]}],\"mesh3d\":[{\"type\":\"mesh3d\",\"colorbar\":{\"outlinewidth\":0,\"ticks\":\"\"}}],\"scatter\":[{\"fillpattern\":{\"fillmode\":\"overlay\",\"size\":10,\"solidity\":0.2},\"type\":\"scatter\"}],\"parcoords\":[{\"type\":\"parcoords\",\"line\":{\"colorbar\":{\"outlinewidth\":0,\"ticks\":\"\"}}}],\"scatterpolargl\":[{\"type\":\"scatterpolargl\",\"marker\":{\"colorbar\":{\"outlinewidth\":0,\"ticks\":\"\"}}}],\"bar\":[{\"error_x\":{\"color\":\"#2a3f5f\"},\"error_y\":{\"color\":\"#2a3f5f\"},\"marker\":{\"line\":{\"color\":\"#E5ECF6\",\"width\":0.5},\"pattern\":{\"fillmode\":\"overlay\",\"size\":10,\"solidity\":0.2}},\"type\":\"bar\"}],\"scattergeo\":[{\"type\":\"scattergeo\",\"marker\":{\"colorbar\":{\"outlinewidth\":0,\"ticks\":\"\"}}}],\"scatterpolar\":[{\"type\":\"scatterpolar\",\"marker\":{\"colorbar\":{\"outlinewidth\":0,\"ticks\":\"\"}}}],\"histogram\":[{\"marker\":{\"pattern\":{\"fillmode\":\"overlay\",\"size\":10,\"solidity\":0.2}},\"type\":\"histogram\"}],\"scattergl\":[{\"type\":\"scattergl\",\"marker\":{\"colorbar\":{\"outlinewidth\":0,\"ticks\":\"\"}}}],\"scatter3d\":[{\"type\":\"scatter3d\",\"line\":{\"colorbar\":{\"outlinewidth\":0,\"ticks\":\"\"}},\"marker\":{\"colorbar\":{\"outlinewidth\":0,\"ticks\":\"\"}}}],\"scattermapbox\":[{\"type\":\"scattermapbox\",\"marker\":{\"colorbar\":{\"outlinewidth\":0,\"ticks\":\"\"}}}],\"scatterternary\":[{\"type\":\"scatterternary\",\"marker\":{\"colorbar\":{\"outlinewidth\":0,\"ticks\":\"\"}}}],\"scattercarpet\":[{\"type\":\"scattercarpet\",\"marker\":{\"colorbar\":{\"outlinewidth\":0,\"ticks\":\"\"}}}],\"carpet\":[{\"aaxis\":{\"endlinecolor\":\"#2a3f5f\",\"gridcolor\":\"white\",\"linecolor\":\"white\",\"minorgridcolor\":\"white\",\"startlinecolor\":\"#2a3f5f\"},\"baxis\":{\"endlinecolor\":\"#2a3f5f\",\"gridcolor\":\"white\",\"linecolor\":\"white\",\"minorgridcolor\":\"white\",\"startlinecolor\":\"#2a3f5f\"},\"type\":\"carpet\"}],\"table\":[{\"cells\":{\"fill\":{\"color\":\"#EBF0F8\"},\"line\":{\"color\":\"white\"}},\"header\":{\"fill\":{\"color\":\"#C8D4E3\"},\"line\":{\"color\":\"white\"}},\"type\":\"table\"}],\"barpolar\":[{\"marker\":{\"line\":{\"color\":\"#E5ECF6\",\"width\":0.5},\"pattern\":{\"fillmode\":\"overlay\",\"size\":10,\"solidity\":0.2}},\"type\":\"barpolar\"}],\"pie\":[{\"automargin\":true,\"type\":\"pie\"}]},\"layout\":{\"autotypenumbers\":\"strict\",\"colorway\":[\"#636efa\",\"#EF553B\",\"#00cc96\",\"#ab63fa\",\"#FFA15A\",\"#19d3f3\",\"#FF6692\",\"#B6E880\",\"#FF97FF\",\"#FECB52\"],\"font\":{\"color\":\"#2a3f5f\"},\"hovermode\":\"closest\",\"hoverlabel\":{\"align\":\"left\"},\"paper_bgcolor\":\"white\",\"plot_bgcolor\":\"#E5ECF6\",\"polar\":{\"bgcolor\":\"#E5ECF6\",\"angularaxis\":{\"gridcolor\":\"white\",\"linecolor\":\"white\",\"ticks\":\"\"},\"radialaxis\":{\"gridcolor\":\"white\",\"linecolor\":\"white\",\"ticks\":\"\"}},\"ternary\":{\"bgcolor\":\"#E5ECF6\",\"aaxis\":{\"gridcolor\":\"white\",\"linecolor\":\"white\",\"ticks\":\"\"},\"baxis\":{\"gridcolor\":\"white\",\"linecolor\":\"white\",\"ticks\":\"\"},\"caxis\":{\"gridcolor\":\"white\",\"linecolor\":\"white\",\"ticks\":\"\"}},\"coloraxis\":{\"colorbar\":{\"outlinewidth\":0,\"ticks\":\"\"}},\"colorscale\":{\"sequential\":[[0.0,\"#0d0887\"],[0.1111111111111111,\"#46039f\"],[0.2222222222222222,\"#7201a8\"],[0.3333333333333333,\"#9c179e\"],[0.4444444444444444,\"#bd3786\"],[0.5555555555555556,\"#d8576b\"],[0.6666666666666666,\"#ed7953\"],[0.7777777777777778,\"#fb9f3a\"],[0.8888888888888888,\"#fdca26\"],[1.0,\"#f0f921\"]],\"sequentialminus\":[[0.0,\"#0d0887\"],[0.1111111111111111,\"#46039f\"],[0.2222222222222222,\"#7201a8\"],[0.3333333333333333,\"#9c179e\"],[0.4444444444444444,\"#bd3786\"],[0.5555555555555556,\"#d8576b\"],[0.6666666666666666,\"#ed7953\"],[0.7777777777777778,\"#fb9f3a\"],[0.8888888888888888,\"#fdca26\"],[1.0,\"#f0f921\"]],\"diverging\":[[0,\"#8e0152\"],[0.1,\"#c51b7d\"],[0.2,\"#de77ae\"],[0.3,\"#f1b6da\"],[0.4,\"#fde0ef\"],[0.5,\"#f7f7f7\"],[0.6,\"#e6f5d0\"],[0.7,\"#b8e186\"],[0.8,\"#7fbc41\"],[0.9,\"#4d9221\"],[1,\"#276419\"]]},\"xaxis\":{\"gridcolor\":\"white\",\"linecolor\":\"white\",\"ticks\":\"\",\"title\":{\"standoff\":15},\"zerolinecolor\":\"white\",\"automargin\":true,\"zerolinewidth\":2},\"yaxis\":{\"gridcolor\":\"white\",\"linecolor\":\"white\",\"ticks\":\"\",\"title\":{\"standoff\":15},\"zerolinecolor\":\"white\",\"automargin\":true,\"zerolinewidth\":2},\"scene\":{\"xaxis\":{\"backgroundcolor\":\"#E5ECF6\",\"gridcolor\":\"white\",\"linecolor\":\"white\",\"showbackground\":true,\"ticks\":\"\",\"zerolinecolor\":\"white\",\"gridwidth\":2},\"yaxis\":{\"backgroundcolor\":\"#E5ECF6\",\"gridcolor\":\"white\",\"linecolor\":\"white\",\"showbackground\":true,\"ticks\":\"\",\"zerolinecolor\":\"white\",\"gridwidth\":2},\"zaxis\":{\"backgroundcolor\":\"#E5ECF6\",\"gridcolor\":\"white\",\"linecolor\":\"white\",\"showbackground\":true,\"ticks\":\"\",\"zerolinecolor\":\"white\",\"gridwidth\":2}},\"shapedefaults\":{\"line\":{\"color\":\"#2a3f5f\"}},\"annotationdefaults\":{\"arrowcolor\":\"#2a3f5f\",\"arrowhead\":0,\"arrowwidth\":1},\"geo\":{\"bgcolor\":\"white\",\"landcolor\":\"#E5ECF6\",\"subunitcolor\":\"white\",\"showland\":true,\"showlakes\":true,\"lakecolor\":\"white\"},\"title\":{\"x\":0.05},\"mapbox\":{\"style\":\"light\"}}},\"xaxis\":{\"anchor\":\"y\",\"domain\":[0.0,1.0],\"title\":{\"text\":\"No. observations (distance matrix size)\"}},\"yaxis\":{\"anchor\":\"x\",\"domain\":[0.0,1.0],\"title\":{\"text\":\"Time (s)\"}},\"legend\":{\"title\":{\"text\":\"implementation\"},\"tracegroupgap\":0},\"margin\":{\"t\":60},\"height\":500,\"width\":800,\"title\":{\"text\":\"Neighbour-joining performance\"}},                        {\"responsive\": true}                    ).then(function(){\n",
       "                            \n",
       "var gd = document.getElementById('4e31557c-c3f8-4acd-9865-bf172f87d377');\n",
       "var x = new MutationObserver(function (mutations, observer) {{\n",
       "        var display = window.getComputedStyle(gd).display;\n",
       "        if (!display || display === 'none') {{\n",
       "            console.log([gd, 'removed!']);\n",
       "            Plotly.purge(gd);\n",
       "            observer.disconnect();\n",
       "        }}\n",
       "}});\n",
       "\n",
       "// Listen for the removal of the full notebook cells\n",
       "var notebookContainer = gd.closest('#notebook-container');\n",
       "if (notebookContainer) {{\n",
       "    x.observe(notebookContainer, {childList: true});\n",
       "}}\n",
       "\n",
       "// Listen for the clearing of the current output cell\n",
       "var outputEl = gd.closest('.output');\n",
       "if (outputEl) {{\n",
       "    x.observe(outputEl, {childList: true});\n",
       "}}\n",
       "\n",
       "                        })                };                });            </script>        </div>"
      ]
     },
     "metadata": {},
     "output_type": "display_data"
    }
   ],
   "source": [
    "import pandas as pd\n",
    "import plotly.express as px\n",
    "\n",
    "df_results = pd.read_csv(\"results.csv\")\n",
    "\n",
    "df_plot = (\n",
    "    df_results\n",
    "    .groupby([\"implementation\", \"size\"])\n",
    "    .agg(\n",
    "        time_mean=(\"time\", \"mean\"),\n",
    "        time_std=(\"time\", \"std\"),\n",
    "    )\n",
    "    .reset_index()\n",
    ")\n",
    "\n",
    "fig = px.line(\n",
    "    df_plot,\n",
    "    x=\"size\",\n",
    "    y=\"time_mean\",\n",
    "    error_y=\"time_std\",\n",
    "    width=800,\n",
    "    height=500,\n",
    "    color=\"implementation\",\n",
    "    category_orders=dict(\n",
    "        implementation=[\n",
    "            \"BioPython 1.84\",\n",
    "            \"scikit-bio 0.6.2\",\n",
    "            \"biotite 1.0.1\",\n",
    "            \"anjl 1.2.0 canonical_nj\",\n",
    "            \"anjl 1.2.0 rapid_nj\",\n",
    "            \"anjl 1.2.0 dynamic_nj\",\n",
    "        ]\n",
    "    ),\n",
    ")\n",
    "fig.update_layout(\n",
    "    title=\"Neighbour-joining performance\",\n",
    "    xaxis=dict(\n",
    "        title=\"No. observations (distance matrix size)\",\n",
    "    ),\n",
    "    yaxis=dict(\n",
    "        title=\"Time (s)\",\n",
    "    ),\n",
    ")\n",
    "fig"
   ]
  },
  {
   "cell_type": "markdown",
   "id": "2fd73899-2603-4a37-b4b5-e870ca5ccd54",
   "metadata": {
    "editable": true,
    "slideshow": {
     "slide_type": ""
    },
    "tags": []
   },
   "source": [
    "## The canonical algorithm\n",
    "\n",
    "Neighbour-joining is an iterative algorithm where each iteration involves searching a distance matrix for the pair of nearest neighbours which minimise a value $Q$, which are then joined to create a new internal node in the tree. The canonical algorithm performs a full search of the distance matrix in each iteration, and so expected performance is $O(n^3)$, meaning that speed of computation scales with the number of samples cubed. Thus even a very efficient implementation of the canonical algorithm will hit scalability limitations pretty quickly. Nevertheless, I thought I'd start with the canonical algorithm to have a reference implementation to compare to. After a bit of prototyping and tuning I had an implementation using [numba](https://numba.pydata.org/) that was around 10x faster than biotite. I decided this was worth packaging and so created a [new Python packaged called `anjl`](https://alimanfoo.github.io/anjl/) which stands for \"A neighbour-joining library\". "
   ]
  },
  {
   "attachments": {},
   "cell_type": "markdown",
   "id": "67b35402-30b0-47b3-8894-eaadbba2abac",
   "metadata": {
    "editable": true,
    "slideshow": {
     "slide_type": ""
    },
    "tags": []
   },
   "source": [
    "## The rapid algorithm\n",
    "\n",
    "I also found a [paper by Martin Simonsen et al. from 2008](https://pure.au.dk/ws/files/19821675/rapidNJ.pdf) describing a \"rapid\" neighbour-joining algorithm. This algorithm maintains a copy of the distance matrix where each row is sorted, and uses this to avoid doing a full search of the distance matrix in each iteration. I added a numba implementation of neighbour-joining based on Simonsen's algorithm to `anjl`. Benchmarking with some mosquito genomic data showed performance was more than 2x better the canonical algorithm for larger distance matrices. I was pretty happy with this, until..."
   ]
  },
  {
   "cell_type": "markdown",
   "id": "0e604cfe-86f9-45f3-aece-e6a8944e6d82",
   "metadata": {},
   "source": [
    "## The dynamic algorithm\n",
    "\n",
    "I probably should've searched harder before I started implementing the rapid algorithm, because I then found a [more recent paper by Philip Clausen](https://doi.org/10.1093/bioinformatics/btac774) describing a dynamic algorithm with some impressive benchmark results. The paper is pretty terse and it took a while to wrap my head around it, but a bit like staring at a magic eye picture, eventually it started to make sense. The basic insight is that the neighbour-joining criterion $Q$ is weakened at each iteration. This means that, if you start by finding the minimum value of $Q$ within each row of the distance matrix, then in the next iteration all values of $Q$ within the same row will be greater. In other words, the minimum value of $Q$ within each row provides a lower bound for all values of $Q$ in the next (and subsequent) iterations. You can use this information to skip over searching a lot of rows of the distance matrix at each iteration. The only exceptions to this rule are new nodes created during the neighbour-joining process, so you have to check if they create a better join. It's an amazing insight which is also beautifully simple to implement (when you get it!). And it's ridiculously fast, around 10x better than the rapid algorithm on the data I was using to benchmark with. "
   ]
  },
  {
   "cell_type": "markdown",
   "id": "02c44b79-283e-431d-9822-163f6adf5be6",
   "metadata": {},
   "source": [
    "## Interactive plotting\n",
    "\n",
    "I also decided to include in `anjl` a function to visualise a NJT as an unrooted tree using [plotly](https://plotly.com/python/). Here plotly is useful because you can interact with the plot, hovering over leaf nodes to get more information, zooming and panning, and showing or hiding data via the legend. Here's a simple example. "
   ]
  },
  {
   "cell_type": "code",
   "execution_count": 4,
   "id": "fa62b0d7-f9f1-4c32-85d9-a13584b29e1f",
   "metadata": {},
   "outputs": [
    {
     "data": {
      "application/vnd.plotly.v1+json": {
       "config": {
        "plotlyServerURL": "https://plot.ly"
       },
       "data": [
        {
         "hovertemplate": "taxon=gambiae<br>x=%{x}<br>y=%{y}<extra></extra>",
         "legendgroup": "gambiae",
         "line": {
          "color": "#636EFA",
          "dash": "solid",
          "width": 1
         },
         "marker": {
          "symbol": "circle"
         },
         "mode": "lines",
         "name": "gambiae",
         "showlegend": false,
         "type": "scattergl",
         "x": [
          -1.7674918174743652,
          -4.096965312957764,
          null,
          -4.096965312957764,
          -1.8293449878692627,
          null,
          -4.096965312957764,
          -4.584135055541992,
          null,
          -4.584135055541992,
          -4.584135055541992,
          null,
          -4.584135055541992,
          -5.109038352966309,
          null,
          -5.109038352966309,
          -5.309384346008301,
          null,
          -5.109038352966309,
          -5.5022196769714355,
          null,
          -5.5022196769714355,
          -6.314000129699707,
          null,
          -5.5022196769714355,
          -5.850122928619385,
          null,
          -5.850122928619385,
          -6.710696220397949,
          null,
          -5.850122928619385,
          -6.154082298278809,
          null,
          -6.154082298278809,
          -6.977514743804932,
          null,
          -6.154082298278809,
          -6.54952335357666,
          null,
          -6.54952335357666,
          -11.96562385559082,
          null,
          -6.54952335357666,
          -6.68654727935791,
          null,
          -6.68654727935791,
          -20.476806640625,
          null,
          -6.68654727935791,
          -6.811825275421143,
          null,
          -6.811825275421143,
          -7.3694963455200195,
          null,
          -6.811825275421143,
          -6.940894603729248,
          null,
          -6.940894603729248,
          -7.640647888183594,
          null,
          -6.940894603729248,
          -7.053009510040283,
          null,
          -7.053009510040283,
          -7.5760817527771,
          null,
          -7.053009510040283,
          -7.348594665527344,
          null,
          -7.348594665527344,
          -8.656715393066406,
          null,
          -7.348594665527344,
          -7.791623115539551,
          null,
          -7.791623115539551,
          -12.558266639709473,
          null,
          -7.791623115539551,
          -8.024820327758789,
          null,
          -8.024820327758789,
          -10.632906913757324,
          null,
          -8.024820327758789,
          -8.075879096984863,
          null,
          -8.075879096984863,
          -9.674642562866211,
          null,
          -8.075879096984863,
          -8.129834175109863,
          null,
          -8.129834175109863,
          -9.21485424041748,
          null,
          -8.129834175109863,
          -8.427543640136719,
          null,
          -8.656715393066406,
          -17.21472930908203,
          null,
          -8.656715393066406,
          -13.542926788330078,
          null,
          -7.5760817527771,
          -9.044353485107422,
          null,
          -7.5760817527771,
          -8.174884796142578,
          null,
          -8.174884796142578,
          -17.287322998046875,
          null,
          -8.174884796142578,
          -14.781517028808594,
          null,
          -9.044353485107422,
          -16.386098861694336,
          null,
          -9.044353485107422,
          -17.918962478637695,
          null,
          -7.640647888183594,
          -9.5004243850708,
          null,
          -7.640647888183594,
          -9.064244270324707,
          null,
          -9.064244270324707,
          -18.5048770904541,
          null,
          -9.064244270324707,
          -18.604766845703125,
          null,
          -9.5004243850708,
          -22.228839874267578,
          null,
          -9.5004243850708,
          -21.06871795654297,
          null,
          -7.3694963455200195,
          -8.353827476501465,
          null,
          -7.3694963455200195,
          -7.8514275550842285,
          null,
          -7.8514275550842285,
          -16.500497817993164,
          null,
          -7.8514275550842285,
          -8.989686965942383,
          null,
          -8.989686965942383,
          -27.230392456054688,
          null,
          -8.989686965942383,
          -9.479266166687012,
          null,
          -9.479266166687012,
          -28.577255249023438,
          null,
          -9.479266166687012,
          -10.896430015563965,
          null,
          -10.896430015563965,
          -24.901626586914062,
          null,
          -10.896430015563965,
          -14.305047988891602,
          null,
          -14.305047988891602,
          -26.302165985107422,
          null,
          -14.305047988891602,
          -21.40986442565918,
          null,
          -16.500497817993164,
          -30.00320816040039,
          null,
          -16.500497817993164,
          -17.151500701904297,
          null,
          -17.151500701904297,
          -31.05303955078125,
          null,
          -17.151500701904297,
          -17.320951461791992,
          null,
          -17.320951461791992,
          -28.117206573486328,
          null,
          -17.320951461791992,
          -31.099971771240234,
          null,
          -8.353827476501465,
          -30.955020904541016,
          null,
          -8.353827476501465,
          -9.751594543457031,
          null,
          -9.751594543457031,
          -32.54563903808594,
          null,
          -9.751594543457031,
          -13.831817626953125,
          null,
          -13.831817626953125,
          -32.78825378417969,
          null,
          -13.831817626953125,
          -33.00502014160156,
          null,
          -20.476806640625,
          -34.74577331542969,
          null,
          -20.476806640625,
          -33.25910949707031,
          null,
          -11.96562385559082,
          -39.56322479248047,
          null,
          -11.96562385559082,
          -18.530969619750977,
          null,
          -18.530969619750977,
          -30.988689422607422,
          null,
          -18.530969619750977,
          -37.68748092651367,
          null,
          -6.977514743804932,
          -8.3739013671875,
          null,
          -6.977514743804932,
          -7.339452266693115,
          null,
          -7.339452266693115,
          -7.57900333404541,
          null,
          -7.339452266693115,
          -8.761042594909668,
          null,
          -8.761042594909668,
          -11.708181381225586,
          null,
          -8.761042594909668,
          -10.447565078735352,
          null,
          -10.447565078735352,
          -10.655912399291992,
          null,
          -10.447565078735352,
          -12.782087326049805,
          null,
          -12.782087326049805,
          -15.973264694213867,
          null,
          -12.782087326049805,
          -18.297744750976562,
          null,
          -18.297744750976562,
          -40.125083923339844,
          null,
          -18.297744750976562,
          -24.641109466552734,
          null,
          -24.641109466552734,
          -43.6355094909668,
          null,
          -24.641109466552734,
          -39.880821228027344,
          null,
          -15.973264694213867,
          -41.24176025390625,
          null,
          -15.973264694213867,
          -49.169395446777344,
          null,
          -10.655912399291992,
          -29.654296875,
          null,
          -10.655912399291992,
          -12.35549545288086,
          null,
          -12.35549545288086,
          -39.32202911376953,
          null,
          -12.35549545288086,
          -35.20086669921875,
          null,
          -11.708181381225586,
          -32.864986419677734,
          null,
          -11.708181381225586,
          -24.430877685546875,
          null,
          -24.430877685546875,
          -38.967247009277344,
          null,
          -24.430877685546875,
          -33.748512268066406,
          null,
          -7.57900333404541,
          -12.580221176147461,
          null,
          -7.57900333404541,
          -8.973341941833496,
          null,
          -8.973341941833496,
          -9.946935653686523,
          null,
          -8.973341941833496,
          -10.988372802734375,
          null,
          -10.988372802734375,
          -13.143821716308594,
          null,
          -10.988372802734375,
          -11.82890796661377,
          null,
          -11.82890796661377,
          -46.2458381652832,
          null,
          -11.82890796661377,
          -40.4009895324707,
          null,
          -13.143821716308594,
          -41.2000732421875,
          null,
          -13.143821716308594,
          -40.975555419921875,
          null,
          -9.946935653686523,
          -34.549217224121094,
          null,
          -9.946935653686523,
          -15.879728317260742,
          null,
          -15.879728317260742,
          -43.46187210083008,
          null,
          -15.879728317260742,
          -42.82228088378906,
          null,
          -12.580221176147461,
          -38.185447692871094,
          null,
          -12.580221176147461,
          -22.60614776611328,
          null,
          -22.60614776611328,
          -44.836788177490234,
          null,
          -22.60614776611328,
          -45.112098693847656,
          null,
          -8.3739013671875,
          -38.38439178466797,
          null,
          -8.3739013671875,
          -10.248300552368164,
          null,
          -10.248300552368164,
          -31.80904197692871,
          null,
          -10.248300552368164,
          -11.355091094970703,
          null,
          -11.355091094970703,
          -36.770713806152344,
          null,
          -11.355091094970703,
          -14.260458946228027,
          null,
          -14.260458946228027,
          -37.95668029785156,
          null,
          -14.260458946228027,
          -16.500118255615234,
          null,
          -16.500118255615234,
          -39.79637908935547,
          null,
          -16.500118255615234,
          -37.515159606933594,
          null,
          -6.710696220397949,
          -6.800835609436035,
          null,
          -6.710696220397949,
          -7.178531646728516,
          null,
          -7.178531646728516,
          -16.825891494750977,
          null,
          -7.178531646728516,
          -7.815121173858643,
          null,
          -7.815121173858643,
          -8.830377578735352,
          null,
          -7.815121173858643,
          -8.683364868164062,
          null,
          -8.683364868164062,
          -11.304489135742188,
          null,
          -8.683364868164062,
          -11.068551063537598,
          null,
          -11.068551063537598,
          -16.37359619140625,
          null,
          -11.068551063537598,
          -12.61638069152832,
          null,
          -12.61638069152832,
          -40.33772277832031,
          null,
          -12.61638069152832,
          -17.26275634765625,
          null,
          -17.26275634765625,
          -34.94805908203125,
          null,
          -17.26275634765625,
          -33.72449493408203,
          null,
          -16.37359619140625,
          -28.679664611816406,
          null,
          -16.37359619140625,
          -35.975608825683594,
          null,
          -11.304489135742188,
          -27.240766525268555,
          null,
          -11.304489135742188,
          -29.970224380493164,
          null,
          -8.830377578735352,
          -12.700554847717285,
          null,
          -8.830377578735352,
          -9.892720222473145,
          null,
          -9.892720222473145,
          -11.466168403625488,
          null,
          -9.892720222473145,
          -10.921878814697266,
          null,
          -10.921878814697266,
          -24.741853713989258,
          null,
          -10.921878814697266,
          -12.507981300354004,
          null,
          -12.507981300354004,
          -30.543907165527344,
          null,
          -12.507981300354004,
          -36.08802032470703,
          null,
          -11.466168403625488,
          -29.206802368164062,
          null,
          -11.466168403625488,
          -28.132705688476562,
          null,
          -12.700554847717285,
          -23.263395309448242,
          null,
          -12.700554847717285,
          -25.580612182617188,
          null,
          -16.825891494750977,
          -24.566211700439453,
          null,
          -16.825891494750977,
          -28.131908416748047,
          null,
          -6.800835609436035,
          -14.607796669006348,
          null,
          -6.800835609436035,
          -7.912724018096924,
          null,
          -7.912724018096924,
          -18.768526077270508,
          null,
          -7.912724018096924,
          -8.893057823181152,
          null,
          -8.893057823181152,
          -21.08299446105957,
          null,
          -8.893057823181152,
          -23.86264419555664,
          null,
          -6.314000129699707,
          -13.033145904541016,
          null,
          -6.314000129699707,
          -7.120784282684326,
          null,
          -7.120784282684326,
          -18.078752517700195,
          null,
          -7.120784282684326,
          -14.38379192352295,
          null,
          -5.309384346008301,
          -6.032522201538086,
          null,
          -5.309384346008301,
          -5.938741683959961,
          null,
          -5.938741683959961,
          -11.031343460083008,
          null,
          -5.938741683959961,
          -6.276930809020996,
          null,
          -6.276930809020996,
          -12.94417953491211,
          null,
          -6.276930809020996,
          -12.955533981323242,
          null,
          -6.032522201538086,
          -7.707807540893555,
          null,
          -6.032522201538086,
          -7.347607135772705,
          null,
          -7.347607135772705,
          -9.409834861755371,
          null,
          -7.347607135772705,
          -10.276612281799316,
          null,
          -4.584135055541992,
          -3.6504111289978027,
          null,
          -4.584135055541992,
          -4.6205267906188965,
          null,
          -4.6205267906188965,
          -4.6205267906188965,
          null,
          -4.6205267906188965,
          -5.681751728057861,
          null,
          2.0433106422424316,
          14.971874237060547,
          null,
          14.971874237060547,
          25.793916702270508,
          null,
          14.971874237060547,
          30.28275489807129,
          null,
          2.7073655128479004,
          14.858068466186523,
          null,
          0.8081265687942505,
          1.8919352293014526,
          null,
          1.8919352293014526,
          6.551183700561523,
          null,
          1.8919352293014526,
          8.115009307861328,
          null,
          0.5392787456512451,
          2.1038360595703125,
          null
         ],
         "xaxis": "x",
         "y": [
          -0.7216601371765137,
          -0.8228045105934143,
          null,
          -0.8228045105934143,
          -33.432029724121094,
          null,
          -0.8228045105934143,
          -0.8354910016059875,
          null,
          -0.8354910016059875,
          -2.68829345703125,
          null,
          -0.8354910016059875,
          -0.8218218684196472,
          null,
          -0.8218218684196472,
          -2.0939011573791504,
          null,
          -0.8218218684196472,
          -0.7703478336334229,
          null,
          -0.7703478336334229,
          -3.2835848331451416,
          null,
          -0.7703478336334229,
          -0.7062320709228516,
          null,
          -0.7062320709228516,
          -1.7041491270065308,
          null,
          -0.7062320709228516,
          -0.5283883810043335,
          null,
          -0.5283883810043335,
          -0.5641413331031799,
          null,
          -0.5283883810043335,
          0.08480072021484375,
          null,
          0.08480072021484375,
          2.8860151767730713,
          null,
          0.08480072021484375,
          0.3237265944480896,
          null,
          0.3237265944480896,
          9.048454284667969,
          null,
          0.3237265944480896,
          0.5608830451965332,
          null,
          0.5608830451965332,
          1.1639056205749512,
          null,
          0.5608830451965332,
          1.0453789234161377,
          null,
          1.0453789234161377,
          2.489262580871582,
          null,
          1.0453789234161377,
          1.6254452466964722,
          null,
          1.6254452466964722,
          3.2448551654815674,
          null,
          1.6254452466964722,
          4.046300411224365,
          null,
          4.046300411224365,
          10.235729217529297,
          null,
          4.046300411224365,
          9.138410568237305,
          null,
          9.138410568237305,
          39.403785705566406,
          null,
          9.138410568237305,
          12.491874694824219,
          null,
          12.491874694824219,
          33.85221862792969,
          null,
          12.491874694824219,
          13.471565246582031,
          null,
          13.471565246582031,
          31.847553253173828,
          null,
          13.471565246582031,
          15.025221824645996,
          null,
          15.025221824645996,
          35.8438606262207,
          null,
          15.025221824645996,
          32.175743103027344,
          null,
          10.235729217529297,
          47.5177116394043,
          null,
          10.235729217529297,
          35.51624298095703,
          null,
          3.2448551654815674,
          7.3032331466674805,
          null,
          3.2448551654815674,
          5.34535551071167,
          null,
          5.34535551071167,
          35.32649230957031,
          null,
          5.34535551071167,
          30.145071029663086,
          null,
          7.3032331466674805,
          26.545509338378906,
          null,
          7.3032331466674805,
          33.2311897277832,
          null,
          2.489262580871582,
          6.009891510009766,
          null,
          2.489262580871582,
          5.706731796264648,
          null,
          5.706731796264648,
          26.080318450927734,
          null,
          5.706731796264648,
          28.322114944458008,
          null,
          6.009891510009766,
          29.124767303466797,
          null,
          6.009891510009766,
          28.860824584960938,
          null,
          1.1639056205749512,
          1.9409291744232178,
          null,
          1.1639056205749512,
          1.7636384963989258,
          null,
          1.7636384963989258,
          10.796395301818848,
          null,
          1.7636384963989258,
          3.400975465774536,
          null,
          3.400975465774536,
          26.100385665893555,
          null,
          3.400975465774536,
          4.131964206695557,
          null,
          4.131964206695557,
          29.664875030517578,
          null,
          4.131964206695557,
          6.3294830322265625,
          null,
          6.3294830322265625,
          26.475345611572266,
          null,
          6.3294830322265625,
          11.822052001953125,
          null,
          11.822052001953125,
          30.425323486328125,
          null,
          11.822052001953125,
          23.72691535949707,
          null,
          10.796395301818848,
          23.50277328491211,
          null,
          10.796395301818848,
          11.50033950805664,
          null,
          11.50033950805664,
          25.52305030822754,
          null,
          11.50033950805664,
          11.690073013305664,
          null,
          11.690073013305664,
          23.36431312561035,
          null,
          11.690073013305664,
          27.668167114257812,
          null,
          1.9409291744232178,
          17.945756912231445,
          null,
          1.9409291744232178,
          3.0842459201812744,
          null,
          3.0842459201812744,
          20.444137573242188,
          null,
          3.0842459201812744,
          6.541618824005127,
          null,
          6.541618824005127,
          22.047208786010742,
          null,
          6.541618824005127,
          23.368335723876953,
          null,
          9.048454284667969,
          17.732980728149414,
          null,
          9.048454284667969,
          17.449623107910156,
          null,
          2.8860151767730713,
          15.966193199157715,
          null,
          2.8860151767730713,
          6.427379608154297,
          null,
          6.427379608154297,
          12.870529174804688,
          null,
          6.427379608154297,
          17.19379234313965,
          null,
          -0.5641413331031799,
          -1.1675487756729126,
          null,
          -0.5641413331031799,
          -0.5421268939971924,
          null,
          -0.5421268939971924,
          -0.573488175868988,
          null,
          -0.5421268939971924,
          -0.20278984308242798,
          null,
          -0.20278984308242798,
          0.07940998673439026,
          null,
          -0.20278984308242798,
          0.293863445520401,
          null,
          0.293863445520401,
          0.33601173758506775,
          null,
          0.293863445520401,
          1.1156244277954102,
          null,
          1.1156244277954102,
          2.0553741455078125,
          null,
          1.1156244277954102,
          3.2751011848449707,
          null,
          3.2751011848449707,
          10.958410263061523,
          null,
          3.2751011848449707,
          5.886499404907227,
          null,
          5.886499404907227,
          13.323141098022461,
          null,
          5.886499404907227,
          12.471893310546875,
          null,
          2.0553741455078125,
          9.022293090820312,
          null,
          2.0553741455078125,
          12.460519790649414,
          null,
          0.33601173758506775,
          3.4973626136779785,
          null,
          0.33601173758506775,
          0.7106516361236572,
          null,
          0.7106516361236572,
          6.165920257568359,
          null,
          0.7106516361236572,
          6.163896560668945,
          null,
          0.07940998673439026,
          1.3662487268447876,
          null,
          0.07940998673439026,
          1.520900845527649,
          null,
          1.520900845527649,
          2.912813663482666,
          null,
          1.520900845527649,
          2.7407360076904297,
          null,
          -0.573488175868988,
          -1.8594334125518799,
          null,
          -0.573488175868988,
          -0.6826162338256836,
          null,
          -0.6826162338256836,
          -0.8273050785064697,
          null,
          -0.6826162338256836,
          -0.7350900173187256,
          null,
          -0.7350900173187256,
          -0.8661928176879883,
          null,
          -0.7350900173187256,
          -0.7277953028678894,
          null,
          -0.7277953028678894,
          -1.0264878273010254,
          null,
          -0.7277953028678894,
          0.016255497932434082,
          null,
          -0.8661928176879883,
          -3.0620181560516357,
          null,
          -0.8661928176879883,
          -2.0746302604675293,
          null,
          -0.8273050785064697,
          -5.3613080978393555,
          null,
          -0.8273050785064697,
          -1.6040074825286865,
          null,
          -1.6040074825286865,
          -5.70307731628418,
          null,
          -1.6040074825286865,
          -4.656619071960449,
          null,
          -1.8594334125518799,
          -9.399754524230957,
          null,
          -1.8594334125518799,
          -4.252646446228027,
          null,
          -4.252646446228027,
          -9.968730926513672,
          null,
          -4.252646446228027,
          -9.213643074035645,
          null,
          -1.1675487756729126,
          -17.35528564453125,
          null,
          -1.1675487756729126,
          -1.939190149307251,
          null,
          -1.939190149307251,
          -12.62027645111084,
          null,
          -1.939190149307251,
          -2.3725180625915527,
          null,
          -2.3725180625915527,
          -13.882650375366211,
          null,
          -2.3725180625915527,
          -3.452249526977539,
          null,
          -3.452249526977539,
          -13.207367897033691,
          null,
          -3.452249526977539,
          -4.240617752075195,
          null,
          -4.240617752075195,
          -12.898283004760742,
          null,
          -4.240617752075195,
          -11.230489730834961,
          null,
          -1.7041491270065308,
          -1.898676872253418,
          null,
          -1.7041491270065308,
          -2.1760623455047607,
          null,
          -2.1760623455047607,
          -18.341222763061523,
          null,
          -2.1760623455047607,
          -2.775108814239502,
          null,
          -2.775108814239502,
          -3.994565963745117,
          null,
          -2.775108814239502,
          -3.412858247756958,
          null,
          -3.412858247756958,
          -5.713199615478516,
          null,
          -3.412858247756958,
          -5.040494918823242,
          null,
          -5.040494918823242,
          -9.080804824829102,
          null,
          -5.040494918823242,
          -6.019765377044678,
          null,
          -6.019765377044678,
          -24.9366397857666,
          null,
          -6.019765377044678,
          -8.84769058227539,
          null,
          -8.84769058227539,
          -20.03670883178711,
          null,
          -8.84769058227539,
          -18.479297637939453,
          null,
          -9.080804824829102,
          -18.795120239257812,
          null,
          -9.080804824829102,
          -23.479040145874023,
          null,
          -5.713199615478516,
          -20.196409225463867,
          null,
          -5.713199615478516,
          -21.529592514038086,
          null,
          -3.994565963745117,
          -9.561647415161133,
          null,
          -3.994565963745117,
          -5.184070110321045,
          null,
          -5.184070110321045,
          -7.142127513885498,
          null,
          -5.184070110321045,
          -6.258883476257324,
          null,
          -6.258883476257324,
          -21.73309326171875,
          null,
          -6.258883476257324,
          -7.858810901641846,
          null,
          -7.858810901641846,
          -26.694839477539062,
          null,
          -7.858810901641846,
          -30.83279037475586,
          null,
          -7.142127513885498,
          -30.021411895751953,
          null,
          -7.142127513885498,
          -27.160839080810547,
          null,
          -9.561647415161133,
          -25.332992553710938,
          null,
          -9.561647415161133,
          -27.4195613861084,
          null,
          -18.341222763061523,
          -31.83786392211914,
          null,
          -18.341222763061523,
          -36.559486389160156,
          null,
          -1.898676872253418,
          -21.340225219726562,
          null,
          -1.898676872253418,
          -4.192966461181641,
          null,
          -4.192966461181641,
          -28.728151321411133,
          null,
          -4.192966461181641,
          -6.129427433013916,
          null,
          -6.129427433013916,
          -31.28235626220703,
          null,
          -6.129427433013916,
          -34.46744155883789,
          null,
          -3.2835848331451416,
          -26.853214263916016,
          null,
          -3.2835848331451416,
          -5.6406755447387695,
          null,
          -5.6406755447387695,
          -39.56607437133789,
          null,
          -5.6406755447387695,
          -25.71600341796875,
          null,
          -2.0939011573791504,
          -9.012601852416992,
          null,
          -2.0939011573791504,
          -5.071732521057129,
          null,
          -5.071732521057129,
          -34.117061614990234,
          null,
          -5.071732521057129,
          -6.545013427734375,
          null,
          -6.545013427734375,
          -38.091400146484375,
          null,
          -6.545013427734375,
          -33.48631286621094,
          null,
          -9.012601852416992,
          -33.10382843017578,
          null,
          -9.012601852416992,
          -19.783206939697266,
          null,
          -19.783206939697266,
          -39.5137939453125,
          null,
          -19.783206939697266,
          -40.741458892822266,
          null,
          -2.68829345703125,
          -29.575313568115234,
          null,
          -2.68829345703125,
          -4.7847490310668945,
          null,
          -4.7847490310668945,
          -31.20785140991211,
          null,
          -4.7847490310668945,
          -35.343223571777344,
          null,
          -2.6254055500030518,
          -14.791496276855469,
          null,
          -14.791496276855469,
          -24.626785278320312,
          null,
          -14.791496276855469,
          -29.70885467529297,
          null,
          4.536259651184082,
          26.602001190185547,
          null,
          3.512397527694702,
          7.884452819824219,
          null,
          7.884452819824219,
          28.181922912597656,
          null,
          7.884452819824219,
          31.244380950927734,
          null,
          10.953964233398438,
          40.97365188598633,
          null
         ],
         "yaxis": "y"
        },
        {
         "hovertemplate": "taxon=coluzzii<br>x=%{x}<br>y=%{y}<extra></extra>",
         "legendgroup": "coluzzii",
         "line": {
          "color": "#EF553B",
          "dash": "solid",
          "width": 1
         },
         "marker": {
          "symbol": "circle"
         },
         "mode": "lines",
         "name": "coluzzii",
         "showlegend": false,
         "type": "scattergl",
         "x": [
          -0.1521422266960144,
          0.22664892673492432,
          null,
          -0.6295660734176636,
          -0.5267950892448425,
          null,
          -1.7674918174743652,
          -1.4046825170516968,
          null,
          -1.4046825170516968,
          1.5968478918075562,
          null,
          -1.4046825170516968,
          -1.0871617794036865,
          null,
          -1.0871617794036865,
          3.4156181812286377,
          null,
          -1.0871617794036865,
          0.8326030969619751,
          null,
          -0.5267950892448425,
          0.2720721364021301,
          null,
          -0.5267950892448425,
          -0.2407909333705902,
          null,
          -0.2407909333705902,
          0.4315026104450226,
          null,
          -0.2407909333705902,
          0.10183176398277283,
          null,
          0.10183176398277283,
          5.4555134773254395,
          null,
          0.10183176398277283,
          1.3260771036148071,
          null,
          1.3260771036148071,
          7.328857421875,
          null,
          1.3260771036148071,
          5.679205417633057,
          null,
          0.4315026104450226,
          10.362287521362305,
          null,
          0.4315026104450226,
          8.671857833862305,
          null,
          0.2720721364021301,
          1.4222066402435303,
          null,
          0.2720721364021301,
          0.8246309757232666,
          null,
          0.8246309757232666,
          12.892926216125488,
          null,
          0.8246309757232666,
          3.672867774963379,
          null,
          3.672867774963379,
          12.576837539672852,
          null,
          3.672867774963379,
          14.477275848388672,
          null,
          1.4222066402435303,
          14.804372787475586,
          null,
          1.4222066402435303,
          12.212255477905273,
          null,
          0.22763296961784363,
          0.5259829759597778,
          null,
          0.5259829759597778,
          3.1727023124694824,
          null,
          0.5259829759597778,
          0.755240261554718,
          null,
          0.755240261554718,
          3.036770820617676,
          null,
          0.755240261554718,
          1.671630620956421,
          null,
          1.671630620956421,
          16.377058029174805,
          null,
          1.671630620956421,
          17.265901565551758,
          null,
          3.036770820617676,
          19.57416534423828,
          null,
          3.036770820617676,
          18.25313377380371,
          null,
          3.1727023124694824,
          21.651508331298828,
          null,
          3.1727023124694824,
          6.621621608734131,
          null,
          6.621621608734131,
          25.43511390686035,
          null,
          6.621621608734131,
          25.66061019897461,
          null,
          1.501145839691162,
          6.886688709259033,
          null,
          1.5433942079544067,
          3.1937406063079834,
          null,
          2.0433106422424316,
          18.253582000732422,
          null,
          3.1937406063079834,
          19.744565963745117,
          null,
          3.1937406063079834,
          23.18085289001465,
          null,
          6.886688709259033,
          29.68761444091797,
          null,
          6.886688709259033,
          27.55246925354004,
          null,
          0.22664892673492432,
          1.644632339477539,
          null,
          0.22664892673492432,
          0.792576253414154,
          null,
          0.792576253414154,
          1.9505174160003662,
          null,
          0.792576253414154,
          2.0853915214538574,
          null,
          2.0853915214538574,
          9.094764709472656,
          null,
          2.0853915214538574,
          4.1661787033081055,
          null,
          4.1661787033081055,
          27.300540924072266,
          null,
          4.1661787033081055,
          6.940502166748047,
          null,
          6.940502166748047,
          27.0418758392334,
          null,
          6.940502166748047,
          27.794105529785156,
          null,
          9.094764709472656,
          27.33823585510254,
          null,
          9.094764709472656,
          26.64954376220703,
          null,
          1.9505174160003662,
          25.578744888305664,
          null,
          1.9505174160003662,
          7.267322540283203,
          null,
          7.267322540283203,
          33.47718048095703,
          null,
          7.267322540283203,
          11.679267883300781,
          null,
          11.679267883300781,
          30.968294143676758,
          null,
          11.679267883300781,
          36.68057632446289,
          null,
          1.644632339477539,
          6.098126411437988,
          null,
          1.644632339477539,
          2.430992364883423,
          null,
          2.430992364883423,
          6.662393569946289,
          null,
          2.430992364883423,
          3.659547805786133,
          null,
          3.659547805786133,
          24.035417556762695,
          null,
          3.659547805786133,
          7.972530364990234,
          null,
          7.972530364990234,
          24.585323333740234,
          null,
          7.972530364990234,
          27.608583450317383,
          null,
          6.662393569946289,
          32.03968048095703,
          null,
          6.662393569946289,
          31.05146026611328,
          null,
          6.098126411437988,
          29.677330017089844,
          null,
          6.098126411437988,
          28.496929168701172,
          null,
          -0.01100437343120575,
          0.19168657064437866,
          null,
          0.19168657064437866,
          0.4689026474952698,
          null,
          0.19168657064437866,
          0.3440401256084442,
          null,
          0.3440401256084442,
          2.176025629043579,
          null,
          0.3440401256084442,
          0.5833210945129395,
          null,
          0.5833210945129395,
          2.0863752365112305,
          null,
          0.5833210945129395,
          1.1069341897964478,
          null,
          1.1069341897964478,
          2.3530571460723877,
          null,
          1.1069341897964478,
          2.252537488937378,
          null,
          2.252537488937378,
          4.784609794616699,
          null,
          2.252537488937378,
          4.189077377319336,
          null,
          4.189077377319336,
          26.180055618286133,
          null,
          4.189077377319336,
          5.096657752990723,
          null,
          5.096657752990723,
          31.91271209716797,
          null,
          5.096657752990723,
          30.22252655029297,
          null,
          4.784609794616699,
          28.702709197998047,
          null,
          4.784609794616699,
          29.328201293945312,
          null,
          2.3530571460723877,
          5.39778995513916,
          null,
          2.3530571460723877,
          4.624518394470215,
          null,
          4.624518394470215,
          30.865962982177734,
          null,
          4.624518394470215,
          26.208599090576172,
          null,
          5.39778995513916,
          23.870315551757812,
          null,
          5.39778995513916,
          23.3685302734375,
          null,
          2.0863752365112305,
          5.330896377563477,
          null,
          2.0863752365112305,
          2.4971885681152344,
          null,
          2.4971885681152344,
          25.317981719970703,
          null,
          2.4971885681152344,
          25.600154876708984,
          null,
          5.330896377563477,
          25.09680938720703,
          null,
          5.330896377563477,
          21.05223846435547,
          null,
          2.176025629043579,
          5.956157684326172,
          null,
          2.176025629043579,
          2.9811785221099854,
          null,
          2.9811785221099854,
          26.638322830200195,
          null,
          2.9811785221099854,
          8.53095531463623,
          null,
          8.53095531463623,
          35.136077880859375,
          null,
          8.53095531463623,
          29.387439727783203,
          null,
          5.956157684326172,
          27.254697799682617,
          null,
          5.956157684326172,
          25.930208206176758,
          null,
          0.4689026474952698,
          2.8161776065826416,
          null,
          0.4689026474952698,
          1.88493013381958,
          null,
          1.88493013381958,
          3.5647668838500977,
          null,
          1.88493013381958,
          2.457974433898926,
          null,
          2.457974433898926,
          23.061111450195312,
          null,
          2.457974433898926,
          21.059825897216797,
          null,
          3.5647668838500977,
          17.849403381347656,
          null,
          3.5647668838500977,
          25.650665283203125,
          null,
          2.8161776065826416,
          20.172103881835938,
          null,
          2.8161776065826416,
          22.837072372436523,
          null,
          0.39131760597229004,
          1.1197291612625122,
          null,
          1.1197291612625122,
          2.730252981185913,
          null,
          1.1197291612625122,
          1.4992175102233887,
          null,
          1.4992175102233887,
          19.011402130126953,
          null,
          1.4992175102233887,
          4.546359062194824,
          null,
          4.546359062194824,
          19.252090454101562,
          null,
          4.546359062194824,
          22.520919799804688,
          null,
          2.730252981185913,
          17.05628204345703,
          null,
          2.730252981185913,
          15.040671348571777,
          null,
          1.136962652206421,
          10.251903533935547,
          null,
          2.014895439147949,
          13.129607200622559,
          null,
          2.7073655128479004,
          11.322040557861328,
          null,
          0.28721749782562256,
          0.5763630270957947,
          null,
          0.5763630270957947,
          1.0175888538360596,
          null,
          0.5763630270957947,
          1.1593537330627441,
          null,
          1.1593537330627441,
          12.366174697875977,
          null,
          1.1593537330627441,
          8.762985229492188,
          null,
          1.0175888538360596,
          7.808112144470215,
          null,
          1.0175888538360596,
          7.704501152038574,
          null,
          0.6801176071166992,
          3.7804362773895264,
          null,
          0.8081265687942505,
          4.887299060821533,
          null,
          0.2691153883934021,
          0.44748103618621826,
          null,
          0.44748103618621826,
          2.7823486328125,
          null,
          0.44748103618621826,
          3.0001754760742188,
          null,
          0.5392787456512451,
          0.9547737836837769,
          null
         ],
         "xaxis": "x",
         "y": [
          -0.421813428401947,
          -0.5262520909309387,
          null,
          -0.6126993894577026,
          -0.8820559978485107,
          null,
          -0.7216601371765137,
          -3.3177120685577393,
          null,
          -3.3177120685577393,
          -20.436750411987305,
          null,
          -3.3177120685577393,
          -5.918220520019531,
          null,
          -5.918220520019531,
          -38.137489318847656,
          null,
          -5.918220520019531,
          -24.28577995300293,
          null,
          -0.8820559978485107,
          -2.5304527282714844,
          null,
          -0.8820559978485107,
          -1.885310411453247,
          null,
          -1.885310411453247,
          -3.849475383758545,
          null,
          -1.885310411453247,
          -3.2674410343170166,
          null,
          -3.2674410343170166,
          -22.047252655029297,
          null,
          -3.2674410343170166,
          -8.600722312927246,
          null,
          -8.600722312927246,
          -32.81577682495117,
          null,
          -8.600722312927246,
          -29.19774627685547,
          null,
          -3.849475383758545,
          -31.298677444458008,
          null,
          -3.849475383758545,
          -29.361265182495117,
          null,
          -2.5304527282714844,
          -4.61910343170166,
          null,
          -2.5304527282714844,
          -3.779290199279785,
          null,
          -3.779290199279785,
          -28.681224822998047,
          null,
          -3.779290199279785,
          -10.530908584594727,
          null,
          -10.530908584594727,
          -30.654760360717773,
          null,
          -10.530908584594727,
          -37.43695068359375,
          null,
          -4.61910343170166,
          -27.953323364257812,
          null,
          -4.61910343170166,
          -25.045085906982422,
          null,
          -1.1299705505371094,
          -1.514738917350769,
          null,
          -1.514738917350769,
          -4.478267192840576,
          null,
          -1.514738917350769,
          -1.8445155620574951,
          null,
          -1.8445155620574951,
          -4.8947906494140625,
          null,
          -1.8445155620574951,
          -3.2655115127563477,
          null,
          -3.2655115127563477,
          -25.22214126586914,
          null,
          -3.2655115127563477,
          -28.393768310546875,
          null,
          -4.8947906494140625,
          -26.22231674194336,
          null,
          -4.8947906494140625,
          -25.991939544677734,
          null,
          -4.478267192840576,
          -23.77682113647461,
          null,
          -4.478267192840576,
          -8.477619171142578,
          null,
          -8.477619171142578,
          -29.543062210083008,
          null,
          -8.477619171142578,
          -31.345956802368164,
          null,
          -2.1352720260620117,
          -5.674920082092285,
          null,
          -2.1710712909698486,
          -3.427971363067627,
          null,
          -2.6254055500030518,
          -16.361164093017578,
          null,
          -3.427971363067627,
          -15.585023880004883,
          null,
          -3.427971363067627,
          -19.205644607543945,
          null,
          -5.674920082092285,
          -20.10045623779297,
          null,
          -5.674920082092285,
          -19.777124404907227,
          null,
          -0.5262520909309387,
          -0.6869106292724609,
          null,
          -0.5262520909309387,
          -0.7592296600341797,
          null,
          -0.7592296600341797,
          -1.1221799850463867,
          null,
          -0.7592296600341797,
          -1.3996840715408325,
          null,
          -1.3996840715408325,
          -4.4285783767700195,
          null,
          -1.3996840715408325,
          -2.522066116333008,
          null,
          -2.522066116333008,
          -13.982715606689453,
          null,
          -2.522066116333008,
          -4.081301689147949,
          null,
          -4.081301689147949,
          -14.924036026000977,
          null,
          -4.081301689147949,
          -16.282543182373047,
          null,
          -4.4285783767700195,
          -11.93894100189209,
          null,
          -4.4285783767700195,
          -12.3787202835083,
          null,
          -1.1221799850463867,
          -7.1976213455200195,
          null,
          -1.1221799850463867,
          -2.890617847442627,
          null,
          -2.890617847442627,
          -10.608992576599121,
          null,
          -2.890617847442627,
          -4.443639755249023,
          null,
          -4.443639755249023,
          -10.859418869018555,
          null,
          -4.443639755249023,
          -13.734956741333008,
          null,
          -0.6869106292724609,
          -0.8028848767280579,
          null,
          -0.6869106292724609,
          -0.8037741184234619,
          null,
          -0.8037741184234619,
          -1.208946943283081,
          null,
          -0.8037741184234619,
          -1.0301870107650757,
          null,
          -1.0301870107650757,
          -4.058309555053711,
          null,
          -1.0301870107650757,
          -1.902693748474121,
          null,
          -1.902693748474121,
          -4.964298248291016,
          null,
          -1.902693748474121,
          -6.231077194213867,
          null,
          -1.208946943283081,
          -3.195103168487549,
          null,
          -1.208946943283081,
          -3.9722464084625244,
          null,
          -0.8028848767280579,
          -1.0075205564498901,
          null,
          -0.8028848767280579,
          -1.7754278182983398,
          null,
          -0.30091169476509094,
          -0.2091177999973297,
          null,
          -0.2091177999973297,
          0.04282176494598389,
          null,
          -0.2091177999973297,
          -0.15844304859638214,
          null,
          -0.15844304859638214,
          0.9565591216087341,
          null,
          -0.15844304859638214,
          -0.1013261005282402,
          null,
          -0.1013261005282402,
          0.5174421668052673,
          null,
          -0.1013261005282402,
          -0.014196336269378662,
          null,
          -0.014196336269378662,
          0.3062147796154022,
          null,
          -0.014196336269378662,
          0.09549955278635025,
          null,
          0.09549955278635025,
          0.471798837184906,
          null,
          0.09549955278635025,
          0.21328741312026978,
          null,
          0.21328741312026978,
          2.319007396697998,
          null,
          0.21328741312026978,
          0.2526940107345581,
          null,
          0.2526940107345581,
          1.8837502002716064,
          null,
          0.2526940107345581,
          0.9070013761520386,
          null,
          0.471798837184906,
          4.4517951011657715,
          null,
          0.471798837184906,
          3.6849677562713623,
          null,
          0.3062147796154022,
          1.2028387784957886,
          null,
          0.3062147796154022,
          0.8069138526916504,
          null,
          0.8069138526916504,
          7.070809364318848,
          null,
          0.8069138526916504,
          5.1733245849609375,
          null,
          1.2028387784957886,
          6.992951393127441,
          null,
          1.2028387784957886,
          6.157653331756592,
          null,
          0.5174421668052673,
          1.9868085384368896,
          null,
          0.5174421668052673,
          0.6701140403747559,
          null,
          0.6701140403747559,
          9.604854583740234,
          null,
          0.6701140403747559,
          8.802446365356445,
          null,
          1.9868085384368896,
          11.35507583618164,
          null,
          1.9868085384368896,
          8.78032398223877,
          null,
          0.9565591216087341,
          3.5360982418060303,
          null,
          0.9565591216087341,
          1.409074068069458,
          null,
          1.409074068069458,
          15.807531356811523,
          null,
          1.409074068069458,
          4.4026384353637695,
          null,
          4.4026384353637695,
          19.3553466796875,
          null,
          4.4026384353637695,
          15.189640045166016,
          null,
          3.5360982418060303,
          18.61846351623535,
          null,
          3.5360982418060303,
          16.664043426513672,
          null,
          0.04282176494598389,
          2.49422550201416,
          null,
          0.04282176494598389,
          1.242691159248352,
          null,
          1.242691159248352,
          2.7693605422973633,
          null,
          1.242691159248352,
          1.6950478553771973,
          null,
          1.6950478553771973,
          18.547574996948242,
          null,
          1.6950478553771973,
          15.862174987792969,
          null,
          2.7693605422973633,
          16.211551666259766,
          null,
          2.7693605422973633,
          22.152305603027344,
          null,
          2.49422550201416,
          21.26158905029297,
          null,
          2.49422550201416,
          22.68962860107422,
          null,
          0.3229469358921051,
          1.2967913150787354,
          null,
          1.2967913150787354,
          3.7014596462249756,
          null,
          1.2967913150787354,
          1.769040584564209,
          null,
          1.769040584564209,
          25.18182373046875,
          null,
          1.769040584564209,
          5.429059982299805,
          null,
          5.429059982299805,
          23.729415893554688,
          null,
          5.429059982299805,
          26.27228355407715,
          null,
          3.7014596462249756,
          25.916046142578125,
          null,
          3.7014596462249756,
          21.40945816040039,
          null,
          1.7344820499420166,
          21.405200958251953,
          null,
          3.328813076019287,
          25.28378677368164,
          null,
          4.536259651184082,
          18.97104835510254,
          null,
          1.0957170724868774,
          1.8949302434921265,
          null,
          1.8949302434921265,
          3.260946750640869,
          null,
          1.8949302434921265,
          3.346742630004883,
          null,
          3.346742630004883,
          32.719146728515625,
          null,
          3.346742630004883,
          21.370811462402344,
          null,
          3.260946750640869,
          25.602670669555664,
          null,
          3.260946750640869,
          22.797351837158203,
          null,
          2.9547414779663086,
          22.639934539794922,
          null,
          3.512397527694702,
          24.617414474487305,
          null,
          3.174482583999634,
          4.881015777587891,
          null,
          4.881015777587891,
          31.71769142150879,
          null,
          4.881015777587891,
          25.787696838378906,
          null,
          10.953964233398438,
          34.889930725097656,
          null
         ],
         "yaxis": "y"
        },
        {
         "hovertemplate": "taxon=<br>x=%{x}<br>y=%{y}<extra></extra>",
         "legendgroup": "",
         "line": {
          "color": "gray",
          "dash": "solid",
          "width": 1
         },
         "marker": {
          "symbol": "circle"
         },
         "mode": "lines",
         "name": "",
         "showlegend": false,
         "type": "scattergl",
         "x": [
          0,
          0.07208095490932465,
          null,
          0,
          -0.07208095490932465,
          null,
          -0.07208095490932465,
          -0.01100437343120575,
          null,
          -0.07208095490932465,
          -0.1521422266960144,
          null,
          -0.1521422266960144,
          -0.3590967357158661,
          null,
          -0.3590967357158661,
          0.22763296961784363,
          null,
          -0.3590967357158661,
          -0.6295660734176636,
          null,
          -0.6295660734176636,
          -1.7674918174743652,
          null,
          0.22763296961784363,
          1.501145839691162,
          null,
          1.501145839691162,
          1.5433942079544067,
          null,
          1.5433942079544067,
          2.0433106422424316,
          null,
          -0.01100437343120575,
          0.39131760597229004,
          null,
          0.39131760597229004,
          1.136962652206421,
          null,
          1.136962652206421,
          2.014895439147949,
          null,
          2.014895439147949,
          2.7073655128479004,
          null,
          0.07208095490932465,
          0.2691153883934021,
          null,
          0.07208095490932465,
          0.28721749782562256,
          null,
          0.28721749782562256,
          0.6801176071166992,
          null,
          0.6801176071166992,
          0.8081265687942505,
          null,
          0.2691153883934021,
          0.5392787456512451,
          null
         ],
         "xaxis": "x",
         "y": [
          0,
          0.3410542905330658,
          null,
          0,
          -0.3410542905330658,
          null,
          -0.3410542905330658,
          -0.30091169476509094,
          null,
          -0.3410542905330658,
          -0.421813428401947,
          null,
          -0.421813428401947,
          -0.5381267666816711,
          null,
          -0.5381267666816711,
          -1.1299705505371094,
          null,
          -0.5381267666816711,
          -0.6126993894577026,
          null,
          -0.6126993894577026,
          -0.7216601371765137,
          null,
          -1.1299705505371094,
          -2.1352720260620117,
          null,
          -2.1352720260620117,
          -2.1710712909698486,
          null,
          -2.1710712909698486,
          -2.6254055500030518,
          null,
          -0.30091169476509094,
          0.3229469358921051,
          null,
          0.3229469358921051,
          1.7344820499420166,
          null,
          1.7344820499420166,
          3.328813076019287,
          null,
          3.328813076019287,
          4.536259651184082,
          null,
          0.3410542905330658,
          3.174482583999634,
          null,
          0.3410542905330658,
          1.0957170724868774,
          null,
          1.0957170724868774,
          2.9547414779663086,
          null,
          2.9547414779663086,
          3.512397527694702,
          null,
          3.174482583999634,
          10.953964233398438,
          null
         ],
         "yaxis": "y"
        },
        {
         "hovertemplate": "<b>%{hovertext}</b><br><br>taxon=gambiae<br>x=%{x}<br>y=%{y}<extra></extra>",
         "hovertext": [
          "AB0160-Cx",
          "AB0096-C",
          "AB0117-C",
          "AB0241-C",
          "AB0130-Cx",
          "AB0217-C",
          "AB0127-C",
          "AB0253-C",
          "AB0198-C",
          "AB0277-C",
          "AB0145-C",
          "AB0271-Cx",
          "AB0146-Cx",
          "AB0264-C",
          "AB0136-Cx",
          "AB0239-C",
          "AB0134-C",
          "AB0176-Cx",
          "AB0280-Cx",
          "AB0159-C",
          "AB0148-Cx",
          "AB0129-C",
          "AB0278-C",
          "AB0144-C",
          "AB0273-Cx",
          "AB0143-Cx",
          "AB0128-C",
          "AB0261-Cx",
          "AB0161-C",
          "AB0131-Cx",
          "AB0225-C",
          "AB0118-C",
          "AB0235-C",
          "AB0201-Cx",
          "AB0174-C",
          "AB0256-C",
          "AB0252-C",
          "AB0231-C",
          "AB0275-C",
          "AB0202-Cx",
          "AB0265-C",
          "AB0255-C",
          "AB0167-C",
          "AB0162-C",
          "AB0244-C",
          "AB0208-C",
          "AB0165-C",
          "AB0133-C",
          "AB0179-Cx",
          "AB0147-C",
          "AB0205-C",
          "AB0180-Cx",
          "AB0126-Cx",
          "AB0238-C",
          "AB0172-Cx",
          "AB0085-Cx",
          "AB0170-C",
          "AB0119-C",
          "AB0135-C",
          "AB0086-Cx",
          "AB0232-Cx",
          "AB0197-C",
          "AB0153-C",
          "AB0268-C",
          "AB0206-C",
          "AB0274-C",
          "AB0233-C",
          "AB0164-C",
          "AB0151-Cx",
          "AB0272-Cx",
          "AB0269-Cx",
          "AB0178-C",
          "AB0203-C",
          "AB0177-C",
          "AB0207-C",
          "AB0158-Cx",
          "AB0236-Cx",
          "AB0211-C",
          "AB0218-C",
          "AB0173-C",
          "AB0166-C",
          "AB0104-Cx",
          "AB0200-C",
          "AB0283-C",
          "AB0150-Cx",
          "AB0169-C",
          "AB0171-Cx",
          "AB0103-C",
          "AB0199-C",
          "AB0260-C",
          "AB0228-C",
          "AB0284-C",
          "AB0155-Cx",
          "AB0270-C",
          "AB0116-C",
          "AB0175-Cx",
          "AB0251-C",
          "AB0157-Cx",
          "AB0281-Cx"
         ],
         "legendgroup": "gambiae",
         "marker": {
          "color": "#636EFA",
          "size": 5,
          "symbol": "circle"
         },
         "mode": "markers",
         "name": "gambiae",
         "orientation": "v",
         "showlegend": true,
         "type": "scatter",
         "x": [
          -8.427543640136719,
          -9.21485424041748,
          -9.674642562866211,
          -10.632906913757324,
          -12.558266639709473,
          -13.542926788330078,
          -17.21472930908203,
          -14.781517028808594,
          -17.287322998046875,
          -17.918962478637695,
          -16.386098861694336,
          -18.604766845703125,
          -18.5048770904541,
          -21.06871795654297,
          -22.228839874267578,
          -21.40986442565918,
          -26.302165985107422,
          -24.901626586914062,
          -28.577255249023438,
          -27.230392456054688,
          -31.099971771240234,
          -28.117206573486328,
          -31.05303955078125,
          -30.00320816040039,
          -33.00502014160156,
          -32.78825378417969,
          -32.54563903808594,
          -30.955020904541016,
          -33.25910949707031,
          -34.74577331542969,
          -37.68748092651367,
          -30.988689422607422,
          -39.56322479248047,
          -39.880821228027344,
          -43.6355094909668,
          -40.125083923339844,
          -49.169395446777344,
          -41.24176025390625,
          -35.20086669921875,
          -39.32202911376953,
          -29.654296875,
          -33.748512268066406,
          -38.967247009277344,
          -32.864986419677734,
          -40.4009895324707,
          -46.2458381652832,
          -40.975555419921875,
          -41.2000732421875,
          -42.82228088378906,
          -43.46187210083008,
          -34.549217224121094,
          -45.112098693847656,
          -44.836788177490234,
          -38.185447692871094,
          -37.515159606933594,
          -39.79637908935547,
          -37.95668029785156,
          -36.770713806152344,
          -31.80904197692871,
          -38.38439178466797,
          -33.72449493408203,
          -34.94805908203125,
          -40.33772277832031,
          -35.975608825683594,
          -28.679664611816406,
          -29.970224380493164,
          -27.240766525268555,
          -36.08802032470703,
          -30.543907165527344,
          -24.741853713989258,
          -28.132705688476562,
          -29.206802368164062,
          -25.580612182617188,
          -23.263395309448242,
          -28.131908416748047,
          -24.566211700439453,
          -23.86264419555664,
          -21.08299446105957,
          -18.768526077270508,
          -14.607796669006348,
          -14.38379192352295,
          -18.078752517700195,
          -13.033145904541016,
          -12.955533981323242,
          -12.94417953491211,
          -11.031343460083008,
          -10.276612281799316,
          -9.409834861755371,
          -7.707807540893555,
          -5.681751728057861,
          -4.6205267906188965,
          -3.6504111289978027,
          -1.8293449878692627,
          30.28275489807129,
          25.793916702270508,
          14.858068466186523,
          8.115009307861328,
          6.551183700561523,
          2.1038360595703125
         ],
         "xaxis": "x",
         "y": [
          32.175743103027344,
          35.8438606262207,
          31.847553253173828,
          33.85221862792969,
          39.403785705566406,
          35.51624298095703,
          47.5177116394043,
          30.145071029663086,
          35.32649230957031,
          33.2311897277832,
          26.545509338378906,
          28.322114944458008,
          26.080318450927734,
          28.860824584960938,
          29.124767303466797,
          23.72691535949707,
          30.425323486328125,
          26.475345611572266,
          29.664875030517578,
          26.100385665893555,
          27.668167114257812,
          23.36431312561035,
          25.52305030822754,
          23.50277328491211,
          23.368335723876953,
          22.047208786010742,
          20.444137573242188,
          17.945756912231445,
          17.449623107910156,
          17.732980728149414,
          17.19379234313965,
          12.870529174804688,
          15.966193199157715,
          12.471893310546875,
          13.323141098022461,
          10.958410263061523,
          12.460519790649414,
          9.022293090820312,
          6.163896560668945,
          6.165920257568359,
          3.4973626136779785,
          2.7407360076904297,
          2.912813663482666,
          1.3662487268447876,
          0.016255497932434082,
          -1.0264878273010254,
          -2.0746302604675293,
          -3.0620181560516357,
          -4.656619071960449,
          -5.70307731628418,
          -5.3613080978393555,
          -9.213643074035645,
          -9.968730926513672,
          -9.399754524230957,
          -11.230489730834961,
          -12.898283004760742,
          -13.207367897033691,
          -13.882650375366211,
          -12.62027645111084,
          -17.35528564453125,
          -18.479297637939453,
          -20.03670883178711,
          -24.9366397857666,
          -23.479040145874023,
          -18.795120239257812,
          -21.529592514038086,
          -20.196409225463867,
          -30.83279037475586,
          -26.694839477539062,
          -21.73309326171875,
          -27.160839080810547,
          -30.021411895751953,
          -27.4195613861084,
          -25.332992553710938,
          -36.559486389160156,
          -31.83786392211914,
          -34.46744155883789,
          -31.28235626220703,
          -28.728151321411133,
          -21.340225219726562,
          -25.71600341796875,
          -39.56607437133789,
          -26.853214263916016,
          -33.48631286621094,
          -38.091400146484375,
          -34.117061614990234,
          -40.741458892822266,
          -39.5137939453125,
          -33.10382843017578,
          -35.343223571777344,
          -31.20785140991211,
          -29.575313568115234,
          -33.432029724121094,
          -29.70885467529297,
          -24.626785278320312,
          26.602001190185547,
          31.244380950927734,
          28.181922912597656,
          40.97365188598633
         ],
         "yaxis": "y"
        },
        {
         "hovertemplate": "<b>%{hovertext}</b><br><br>taxon=coluzzii<br>x=%{x}<br>y=%{y}<extra></extra>",
         "hovertext": [
          "AB0229-C",
          "AB0094-Cx",
          "AB0226-C",
          "AB0222-C",
          "AB0188-C",
          "AB0182-C",
          "AB0210-C",
          "AB0110-C",
          "AB0212-C",
          "AB0109-C",
          "AB0266-Cx",
          "AB0282-Cx",
          "AB0214-C",
          "AB0276-C",
          "AB0191-Cx",
          "AB0227-Cx",
          "AB0187-C",
          "AB0247-C",
          "AB0230-Cx",
          "AB0095-Cx",
          "AB0132-C",
          "AB0123-C",
          "AB0114-C",
          "AB0249-Cx",
          "AB0196-C",
          "AB0091-C",
          "AB0088-C",
          "AB0216-C",
          "AB0250-Cx",
          "AB0089-Cx",
          "AB0112-C",
          "AB0111-C",
          "AB0267-C",
          "AB0234-C",
          "AB0263-C",
          "AB0183-C",
          "AB0193-C",
          "AB0138-Cx",
          "AB0124-C",
          "AB0186-C",
          "AB0092-C",
          "AB0240-C",
          "AB0213-C",
          "AB0262-Cx",
          "AB0248-C",
          "AB0137-Cx",
          "AB0243-C",
          "AB0185-Cx",
          "AB0113-C",
          "AB0099-Cx",
          "AB0192-C",
          "AB0090-C",
          "AB0242-C",
          "AB0101-C",
          "AB0237-C",
          "AB0115-C",
          "AB0142-C",
          "AB0122-C",
          "AB0098-Cx",
          "AB0259-Cx",
          "AB0189-C",
          "AB0190-C",
          "AB0100-C",
          "AB0246-C",
          "AB0215-C",
          "AB0181-C",
          "AB0087-C",
          "AB0221-C",
          "AB0258-Cx",
          "AB0184-C",
          "AB0223-C",
          "AB0209-C",
          "AB0224-C",
          "AB0194-C",
          "AB0121-C",
          "AB0219-Cx",
          "AB0097-Cx",
          "AB0257-C",
          "AB0139-C",
          "AB0204-C",
          "AB0140-C",
          "AB0279-C"
         ],
         "legendgroup": "coluzzii",
         "marker": {
          "color": "#EF553B",
          "size": 5,
          "symbol": "circle"
         },
         "mode": "markers",
         "name": "coluzzii",
         "orientation": "v",
         "showlegend": true,
         "type": "scatter",
         "x": [
          0.8326030969619751,
          3.4156181812286377,
          1.5968478918075562,
          5.679205417633057,
          7.328857421875,
          5.4555134773254395,
          8.671857833862305,
          10.362287521362305,
          14.477275848388672,
          12.576837539672852,
          12.892926216125488,
          12.212255477905273,
          14.804372787475586,
          17.265901565551758,
          16.377058029174805,
          18.25313377380371,
          19.57416534423828,
          25.66061019897461,
          25.43511390686035,
          21.651508331298828,
          18.253582000732422,
          23.18085289001465,
          19.744565963745117,
          27.55246925354004,
          29.68761444091797,
          27.794105529785156,
          27.0418758392334,
          27.300540924072266,
          26.64954376220703,
          27.33823585510254,
          36.68057632446289,
          30.968294143676758,
          33.47718048095703,
          25.578744888305664,
          27.608583450317383,
          24.585323333740234,
          24.035417556762695,
          31.05146026611328,
          32.03968048095703,
          28.496929168701172,
          29.677330017089844,
          30.22252655029297,
          31.91271209716797,
          26.180055618286133,
          29.328201293945312,
          28.702709197998047,
          26.208599090576172,
          30.865962982177734,
          23.3685302734375,
          23.870315551757812,
          25.600154876708984,
          25.317981719970703,
          21.05223846435547,
          25.09680938720703,
          29.387439727783203,
          35.136077880859375,
          26.638322830200195,
          25.930208206176758,
          27.254697799682617,
          21.059825897216797,
          23.061111450195312,
          25.650665283203125,
          17.849403381347656,
          22.837072372436523,
          20.172103881835938,
          22.520919799804688,
          19.252090454101562,
          19.011402130126953,
          15.040671348571777,
          17.05628204345703,
          11.322040557861328,
          13.129607200622559,
          10.251903533935547,
          8.762985229492188,
          12.366174697875977,
          7.704501152038574,
          7.808112144470215,
          4.887299060821533,
          3.7804362773895264,
          3.0001754760742188,
          2.7823486328125,
          0.9547737836837769
         ],
         "xaxis": "x",
         "y": [
          -24.28577995300293,
          -38.137489318847656,
          -20.436750411987305,
          -29.19774627685547,
          -32.81577682495117,
          -22.047252655029297,
          -29.361265182495117,
          -31.298677444458008,
          -37.43695068359375,
          -30.654760360717773,
          -28.681224822998047,
          -25.045085906982422,
          -27.953323364257812,
          -28.393768310546875,
          -25.22214126586914,
          -25.991939544677734,
          -26.22231674194336,
          -31.345956802368164,
          -29.543062210083008,
          -23.77682113647461,
          -16.361164093017578,
          -19.205644607543945,
          -15.585023880004883,
          -19.777124404907227,
          -20.10045623779297,
          -16.282543182373047,
          -14.924036026000977,
          -13.982715606689453,
          -12.3787202835083,
          -11.93894100189209,
          -13.734956741333008,
          -10.859418869018555,
          -10.608992576599121,
          -7.1976213455200195,
          -6.231077194213867,
          -4.964298248291016,
          -4.058309555053711,
          -3.9722464084625244,
          -3.195103168487549,
          -1.7754278182983398,
          -1.0075205564498901,
          0.9070013761520386,
          1.8837502002716064,
          2.319007396697998,
          3.6849677562713623,
          4.4517951011657715,
          5.1733245849609375,
          7.070809364318848,
          6.157653331756592,
          6.992951393127441,
          8.802446365356445,
          9.604854583740234,
          8.78032398223877,
          11.35507583618164,
          15.189640045166016,
          19.3553466796875,
          15.807531356811523,
          16.664043426513672,
          18.61846351623535,
          15.862174987792969,
          18.547574996948242,
          22.152305603027344,
          16.211551666259766,
          22.68962860107422,
          21.26158905029297,
          26.27228355407715,
          23.729415893554688,
          25.18182373046875,
          21.40945816040039,
          25.916046142578125,
          18.97104835510254,
          25.28378677368164,
          21.405200958251953,
          21.370811462402344,
          32.719146728515625,
          22.797351837158203,
          25.602670669555664,
          24.617414474487305,
          22.639934539794922,
          25.787696838378906,
          31.71769142150879,
          34.889930725097656
         ],
         "yaxis": "y"
        }
       ],
       "layout": {
        "height": 600,
        "legend": {
         "itemsizing": "constant",
         "tracegroupgap": 0
        },
        "template": {
         "data": {
          "bar": [
           {
            "error_x": {
             "color": "rgb(36,36,36)"
            },
            "error_y": {
             "color": "rgb(36,36,36)"
            },
            "marker": {
             "line": {
              "color": "white",
              "width": 0.5
             },
             "pattern": {
              "fillmode": "overlay",
              "size": 10,
              "solidity": 0.2
             }
            },
            "type": "bar"
           }
          ],
          "barpolar": [
           {
            "marker": {
             "line": {
              "color": "white",
              "width": 0.5
             },
             "pattern": {
              "fillmode": "overlay",
              "size": 10,
              "solidity": 0.2
             }
            },
            "type": "barpolar"
           }
          ],
          "carpet": [
           {
            "aaxis": {
             "endlinecolor": "rgb(36,36,36)",
             "gridcolor": "white",
             "linecolor": "white",
             "minorgridcolor": "white",
             "startlinecolor": "rgb(36,36,36)"
            },
            "baxis": {
             "endlinecolor": "rgb(36,36,36)",
             "gridcolor": "white",
             "linecolor": "white",
             "minorgridcolor": "white",
             "startlinecolor": "rgb(36,36,36)"
            },
            "type": "carpet"
           }
          ],
          "choropleth": [
           {
            "colorbar": {
             "outlinewidth": 1,
             "tickcolor": "rgb(36,36,36)",
             "ticks": "outside"
            },
            "type": "choropleth"
           }
          ],
          "contour": [
           {
            "colorbar": {
             "outlinewidth": 1,
             "tickcolor": "rgb(36,36,36)",
             "ticks": "outside"
            },
            "colorscale": [
             [
              0,
              "#440154"
             ],
             [
              0.1111111111111111,
              "#482878"
             ],
             [
              0.2222222222222222,
              "#3e4989"
             ],
             [
              0.3333333333333333,
              "#31688e"
             ],
             [
              0.4444444444444444,
              "#26828e"
             ],
             [
              0.5555555555555556,
              "#1f9e89"
             ],
             [
              0.6666666666666666,
              "#35b779"
             ],
             [
              0.7777777777777778,
              "#6ece58"
             ],
             [
              0.8888888888888888,
              "#b5de2b"
             ],
             [
              1,
              "#fde725"
             ]
            ],
            "type": "contour"
           }
          ],
          "contourcarpet": [
           {
            "colorbar": {
             "outlinewidth": 1,
             "tickcolor": "rgb(36,36,36)",
             "ticks": "outside"
            },
            "type": "contourcarpet"
           }
          ],
          "heatmap": [
           {
            "colorbar": {
             "outlinewidth": 1,
             "tickcolor": "rgb(36,36,36)",
             "ticks": "outside"
            },
            "colorscale": [
             [
              0,
              "#440154"
             ],
             [
              0.1111111111111111,
              "#482878"
             ],
             [
              0.2222222222222222,
              "#3e4989"
             ],
             [
              0.3333333333333333,
              "#31688e"
             ],
             [
              0.4444444444444444,
              "#26828e"
             ],
             [
              0.5555555555555556,
              "#1f9e89"
             ],
             [
              0.6666666666666666,
              "#35b779"
             ],
             [
              0.7777777777777778,
              "#6ece58"
             ],
             [
              0.8888888888888888,
              "#b5de2b"
             ],
             [
              1,
              "#fde725"
             ]
            ],
            "type": "heatmap"
           }
          ],
          "heatmapgl": [
           {
            "colorbar": {
             "outlinewidth": 1,
             "tickcolor": "rgb(36,36,36)",
             "ticks": "outside"
            },
            "colorscale": [
             [
              0,
              "#440154"
             ],
             [
              0.1111111111111111,
              "#482878"
             ],
             [
              0.2222222222222222,
              "#3e4989"
             ],
             [
              0.3333333333333333,
              "#31688e"
             ],
             [
              0.4444444444444444,
              "#26828e"
             ],
             [
              0.5555555555555556,
              "#1f9e89"
             ],
             [
              0.6666666666666666,
              "#35b779"
             ],
             [
              0.7777777777777778,
              "#6ece58"
             ],
             [
              0.8888888888888888,
              "#b5de2b"
             ],
             [
              1,
              "#fde725"
             ]
            ],
            "type": "heatmapgl"
           }
          ],
          "histogram": [
           {
            "marker": {
             "line": {
              "color": "white",
              "width": 0.6
             }
            },
            "type": "histogram"
           }
          ],
          "histogram2d": [
           {
            "colorbar": {
             "outlinewidth": 1,
             "tickcolor": "rgb(36,36,36)",
             "ticks": "outside"
            },
            "colorscale": [
             [
              0,
              "#440154"
             ],
             [
              0.1111111111111111,
              "#482878"
             ],
             [
              0.2222222222222222,
              "#3e4989"
             ],
             [
              0.3333333333333333,
              "#31688e"
             ],
             [
              0.4444444444444444,
              "#26828e"
             ],
             [
              0.5555555555555556,
              "#1f9e89"
             ],
             [
              0.6666666666666666,
              "#35b779"
             ],
             [
              0.7777777777777778,
              "#6ece58"
             ],
             [
              0.8888888888888888,
              "#b5de2b"
             ],
             [
              1,
              "#fde725"
             ]
            ],
            "type": "histogram2d"
           }
          ],
          "histogram2dcontour": [
           {
            "colorbar": {
             "outlinewidth": 1,
             "tickcolor": "rgb(36,36,36)",
             "ticks": "outside"
            },
            "colorscale": [
             [
              0,
              "#440154"
             ],
             [
              0.1111111111111111,
              "#482878"
             ],
             [
              0.2222222222222222,
              "#3e4989"
             ],
             [
              0.3333333333333333,
              "#31688e"
             ],
             [
              0.4444444444444444,
              "#26828e"
             ],
             [
              0.5555555555555556,
              "#1f9e89"
             ],
             [
              0.6666666666666666,
              "#35b779"
             ],
             [
              0.7777777777777778,
              "#6ece58"
             ],
             [
              0.8888888888888888,
              "#b5de2b"
             ],
             [
              1,
              "#fde725"
             ]
            ],
            "type": "histogram2dcontour"
           }
          ],
          "mesh3d": [
           {
            "colorbar": {
             "outlinewidth": 1,
             "tickcolor": "rgb(36,36,36)",
             "ticks": "outside"
            },
            "type": "mesh3d"
           }
          ],
          "parcoords": [
           {
            "line": {
             "colorbar": {
              "outlinewidth": 1,
              "tickcolor": "rgb(36,36,36)",
              "ticks": "outside"
             }
            },
            "type": "parcoords"
           }
          ],
          "pie": [
           {
            "automargin": true,
            "type": "pie"
           }
          ],
          "scatter": [
           {
            "fillpattern": {
             "fillmode": "overlay",
             "size": 10,
             "solidity": 0.2
            },
            "type": "scatter"
           }
          ],
          "scatter3d": [
           {
            "line": {
             "colorbar": {
              "outlinewidth": 1,
              "tickcolor": "rgb(36,36,36)",
              "ticks": "outside"
             }
            },
            "marker": {
             "colorbar": {
              "outlinewidth": 1,
              "tickcolor": "rgb(36,36,36)",
              "ticks": "outside"
             }
            },
            "type": "scatter3d"
           }
          ],
          "scattercarpet": [
           {
            "marker": {
             "colorbar": {
              "outlinewidth": 1,
              "tickcolor": "rgb(36,36,36)",
              "ticks": "outside"
             }
            },
            "type": "scattercarpet"
           }
          ],
          "scattergeo": [
           {
            "marker": {
             "colorbar": {
              "outlinewidth": 1,
              "tickcolor": "rgb(36,36,36)",
              "ticks": "outside"
             }
            },
            "type": "scattergeo"
           }
          ],
          "scattergl": [
           {
            "marker": {
             "colorbar": {
              "outlinewidth": 1,
              "tickcolor": "rgb(36,36,36)",
              "ticks": "outside"
             }
            },
            "type": "scattergl"
           }
          ],
          "scattermapbox": [
           {
            "marker": {
             "colorbar": {
              "outlinewidth": 1,
              "tickcolor": "rgb(36,36,36)",
              "ticks": "outside"
             }
            },
            "type": "scattermapbox"
           }
          ],
          "scatterpolar": [
           {
            "marker": {
             "colorbar": {
              "outlinewidth": 1,
              "tickcolor": "rgb(36,36,36)",
              "ticks": "outside"
             }
            },
            "type": "scatterpolar"
           }
          ],
          "scatterpolargl": [
           {
            "marker": {
             "colorbar": {
              "outlinewidth": 1,
              "tickcolor": "rgb(36,36,36)",
              "ticks": "outside"
             }
            },
            "type": "scatterpolargl"
           }
          ],
          "scatterternary": [
           {
            "marker": {
             "colorbar": {
              "outlinewidth": 1,
              "tickcolor": "rgb(36,36,36)",
              "ticks": "outside"
             }
            },
            "type": "scatterternary"
           }
          ],
          "surface": [
           {
            "colorbar": {
             "outlinewidth": 1,
             "tickcolor": "rgb(36,36,36)",
             "ticks": "outside"
            },
            "colorscale": [
             [
              0,
              "#440154"
             ],
             [
              0.1111111111111111,
              "#482878"
             ],
             [
              0.2222222222222222,
              "#3e4989"
             ],
             [
              0.3333333333333333,
              "#31688e"
             ],
             [
              0.4444444444444444,
              "#26828e"
             ],
             [
              0.5555555555555556,
              "#1f9e89"
             ],
             [
              0.6666666666666666,
              "#35b779"
             ],
             [
              0.7777777777777778,
              "#6ece58"
             ],
             [
              0.8888888888888888,
              "#b5de2b"
             ],
             [
              1,
              "#fde725"
             ]
            ],
            "type": "surface"
           }
          ],
          "table": [
           {
            "cells": {
             "fill": {
              "color": "rgb(237,237,237)"
             },
             "line": {
              "color": "white"
             }
            },
            "header": {
             "fill": {
              "color": "rgb(217,217,217)"
             },
             "line": {
              "color": "white"
             }
            },
            "type": "table"
           }
          ]
         },
         "layout": {
          "annotationdefaults": {
           "arrowhead": 0,
           "arrowwidth": 1
          },
          "autotypenumbers": "strict",
          "coloraxis": {
           "colorbar": {
            "outlinewidth": 1,
            "tickcolor": "rgb(36,36,36)",
            "ticks": "outside"
           }
          },
          "colorscale": {
           "diverging": [
            [
             0,
             "rgb(103,0,31)"
            ],
            [
             0.1,
             "rgb(178,24,43)"
            ],
            [
             0.2,
             "rgb(214,96,77)"
            ],
            [
             0.3,
             "rgb(244,165,130)"
            ],
            [
             0.4,
             "rgb(253,219,199)"
            ],
            [
             0.5,
             "rgb(247,247,247)"
            ],
            [
             0.6,
             "rgb(209,229,240)"
            ],
            [
             0.7,
             "rgb(146,197,222)"
            ],
            [
             0.8,
             "rgb(67,147,195)"
            ],
            [
             0.9,
             "rgb(33,102,172)"
            ],
            [
             1,
             "rgb(5,48,97)"
            ]
           ],
           "sequential": [
            [
             0,
             "#440154"
            ],
            [
             0.1111111111111111,
             "#482878"
            ],
            [
             0.2222222222222222,
             "#3e4989"
            ],
            [
             0.3333333333333333,
             "#31688e"
            ],
            [
             0.4444444444444444,
             "#26828e"
            ],
            [
             0.5555555555555556,
             "#1f9e89"
            ],
            [
             0.6666666666666666,
             "#35b779"
            ],
            [
             0.7777777777777778,
             "#6ece58"
            ],
            [
             0.8888888888888888,
             "#b5de2b"
            ],
            [
             1,
             "#fde725"
            ]
           ],
           "sequentialminus": [
            [
             0,
             "#440154"
            ],
            [
             0.1111111111111111,
             "#482878"
            ],
            [
             0.2222222222222222,
             "#3e4989"
            ],
            [
             0.3333333333333333,
             "#31688e"
            ],
            [
             0.4444444444444444,
             "#26828e"
            ],
            [
             0.5555555555555556,
             "#1f9e89"
            ],
            [
             0.6666666666666666,
             "#35b779"
            ],
            [
             0.7777777777777778,
             "#6ece58"
            ],
            [
             0.8888888888888888,
             "#b5de2b"
            ],
            [
             1,
             "#fde725"
            ]
           ]
          },
          "colorway": [
           "#1F77B4",
           "#FF7F0E",
           "#2CA02C",
           "#D62728",
           "#9467BD",
           "#8C564B",
           "#E377C2",
           "#7F7F7F",
           "#BCBD22",
           "#17BECF"
          ],
          "font": {
           "color": "rgb(36,36,36)"
          },
          "geo": {
           "bgcolor": "white",
           "lakecolor": "white",
           "landcolor": "white",
           "showlakes": true,
           "showland": true,
           "subunitcolor": "white"
          },
          "hoverlabel": {
           "align": "left"
          },
          "hovermode": "closest",
          "mapbox": {
           "style": "light"
          },
          "paper_bgcolor": "white",
          "plot_bgcolor": "white",
          "polar": {
           "angularaxis": {
            "gridcolor": "rgb(232,232,232)",
            "linecolor": "rgb(36,36,36)",
            "showgrid": false,
            "showline": true,
            "ticks": "outside"
           },
           "bgcolor": "white",
           "radialaxis": {
            "gridcolor": "rgb(232,232,232)",
            "linecolor": "rgb(36,36,36)",
            "showgrid": false,
            "showline": true,
            "ticks": "outside"
           }
          },
          "scene": {
           "xaxis": {
            "backgroundcolor": "white",
            "gridcolor": "rgb(232,232,232)",
            "gridwidth": 2,
            "linecolor": "rgb(36,36,36)",
            "showbackground": true,
            "showgrid": false,
            "showline": true,
            "ticks": "outside",
            "zeroline": false,
            "zerolinecolor": "rgb(36,36,36)"
           },
           "yaxis": {
            "backgroundcolor": "white",
            "gridcolor": "rgb(232,232,232)",
            "gridwidth": 2,
            "linecolor": "rgb(36,36,36)",
            "showbackground": true,
            "showgrid": false,
            "showline": true,
            "ticks": "outside",
            "zeroline": false,
            "zerolinecolor": "rgb(36,36,36)"
           },
           "zaxis": {
            "backgroundcolor": "white",
            "gridcolor": "rgb(232,232,232)",
            "gridwidth": 2,
            "linecolor": "rgb(36,36,36)",
            "showbackground": true,
            "showgrid": false,
            "showline": true,
            "ticks": "outside",
            "zeroline": false,
            "zerolinecolor": "rgb(36,36,36)"
           }
          },
          "shapedefaults": {
           "fillcolor": "black",
           "line": {
            "width": 0
           },
           "opacity": 0.3
          },
          "ternary": {
           "aaxis": {
            "gridcolor": "rgb(232,232,232)",
            "linecolor": "rgb(36,36,36)",
            "showgrid": false,
            "showline": true,
            "ticks": "outside"
           },
           "baxis": {
            "gridcolor": "rgb(232,232,232)",
            "linecolor": "rgb(36,36,36)",
            "showgrid": false,
            "showline": true,
            "ticks": "outside"
           },
           "bgcolor": "white",
           "caxis": {
            "gridcolor": "rgb(232,232,232)",
            "linecolor": "rgb(36,36,36)",
            "showgrid": false,
            "showline": true,
            "ticks": "outside"
           }
          },
          "title": {
           "x": 0.05
          },
          "xaxis": {
           "automargin": true,
           "gridcolor": "rgb(232,232,232)",
           "linecolor": "rgb(36,36,36)",
           "showgrid": false,
           "showline": true,
           "ticks": "outside",
           "title": {
            "standoff": 15
           },
           "zeroline": false,
           "zerolinecolor": "rgb(36,36,36)"
          },
          "yaxis": {
           "automargin": true,
           "gridcolor": "rgb(232,232,232)",
           "linecolor": "rgb(36,36,36)",
           "showgrid": false,
           "showline": true,
           "ticks": "outside",
           "title": {
            "standoff": 15
           },
           "zeroline": false,
           "zerolinecolor": "rgb(36,36,36)"
          }
         }
        },
        "width": 700,
        "xaxis": {
         "autorange": true,
         "domain": [
          0,
          1
         ],
         "mirror": false,
         "range": [
          -66.31050275457571,
          53.821683632261255
         ],
         "showgrid": false,
         "showline": false,
         "showticklabels": false,
         "ticks": "",
         "title": {},
         "type": "linear"
        },
        "yaxis": {
         "autorange": true,
         "domain": [
          0,
          1
         ],
         "mirror": false,
         "range": [
          -46.469105131127485,
          53.245357877709516
         ],
         "scaleanchor": "x",
         "scaleratio": 1,
         "showgrid": false,
         "showline": false,
         "showticklabels": false,
         "ticks": "",
         "title": {},
         "type": "linear"
        }
       }
      },
      "image/png": "[encoded data removed]",
      "text/html": [
       "<div>                            <div id=\"3938c377-0378-4b89-9f86-797421939498\" class=\"plotly-graph-div\" style=\"height:600px; width:700px;\"></div>            <script type=\"text/javascript\">                require([\"plotly\"], function(Plotly) {                    window.PLOTLYENV=window.PLOTLYENV || {};                                    if (document.getElementById(\"3938c377-0378-4b89-9f86-797421939498\")) {                    Plotly.newPlot(                        \"3938c377-0378-4b89-9f86-797421939498\",                        [{\"hovertemplate\":\"taxon=gambiae\\u003cbr\\u003ex=%{x}\\u003cbr\\u003ey=%{y}\\u003cextra\\u003e\\u003c\\u002fextra\\u003e\",\"legendgroup\":\"gambiae\",\"line\":{\"color\":\"#636EFA\",\"dash\":\"solid\",\"width\":1},\"marker\":{\"symbol\":\"circle\"},\"mode\":\"lines\",\"name\":\"gambiae\",\"showlegend\":false,\"x\":[-1.7674918174743652,-4.096965312957764,null,-4.096965312957764,-1.8293449878692627,null,-4.096965312957764,-4.584135055541992,null,-4.584135055541992,-4.584135055541992,null,-4.584135055541992,-5.109038352966309,null,-5.109038352966309,-5.309384346008301,null,-5.109038352966309,-5.5022196769714355,null,-5.5022196769714355,-6.314000129699707,null,-5.5022196769714355,-5.850122928619385,null,-5.850122928619385,-6.710696220397949,null,-5.850122928619385,-6.154082298278809,null,-6.154082298278809,-6.977514743804932,null,-6.154082298278809,-6.54952335357666,null,-6.54952335357666,-11.96562385559082,null,-6.54952335357666,-6.68654727935791,null,-6.68654727935791,-20.476806640625,null,-6.68654727935791,-6.811825275421143,null,-6.811825275421143,-7.3694963455200195,null,-6.811825275421143,-6.940894603729248,null,-6.940894603729248,-7.640647888183594,null,-6.940894603729248,-7.053009510040283,null,-7.053009510040283,-7.5760817527771,null,-7.053009510040283,-7.348594665527344,null,-7.348594665527344,-8.656715393066406,null,-7.348594665527344,-7.791623115539551,null,-7.791623115539551,-12.558266639709473,null,-7.791623115539551,-8.024820327758789,null,-8.024820327758789,-10.632906913757324,null,-8.024820327758789,-8.075879096984863,null,-8.075879096984863,-9.674642562866211,null,-8.075879096984863,-8.129834175109863,null,-8.129834175109863,-9.21485424041748,null,-8.129834175109863,-8.427543640136719,null,-8.656715393066406,-17.21472930908203,null,-8.656715393066406,-13.542926788330078,null,-7.5760817527771,-9.044353485107422,null,-7.5760817527771,-8.174884796142578,null,-8.174884796142578,-17.287322998046875,null,-8.174884796142578,-14.781517028808594,null,-9.044353485107422,-16.386098861694336,null,-9.044353485107422,-17.918962478637695,null,-7.640647888183594,-9.5004243850708,null,-7.640647888183594,-9.064244270324707,null,-9.064244270324707,-18.5048770904541,null,-9.064244270324707,-18.604766845703125,null,-9.5004243850708,-22.228839874267578,null,-9.5004243850708,-21.06871795654297,null,-7.3694963455200195,-8.353827476501465,null,-7.3694963455200195,-7.8514275550842285,null,-7.8514275550842285,-16.500497817993164,null,-7.8514275550842285,-8.989686965942383,null,-8.989686965942383,-27.230392456054688,null,-8.989686965942383,-9.479266166687012,null,-9.479266166687012,-28.577255249023438,null,-9.479266166687012,-10.896430015563965,null,-10.896430015563965,-24.901626586914062,null,-10.896430015563965,-14.305047988891602,null,-14.305047988891602,-26.302165985107422,null,-14.305047988891602,-21.40986442565918,null,-16.500497817993164,-30.00320816040039,null,-16.500497817993164,-17.151500701904297,null,-17.151500701904297,-31.05303955078125,null,-17.151500701904297,-17.320951461791992,null,-17.320951461791992,-28.117206573486328,null,-17.320951461791992,-31.099971771240234,null,-8.353827476501465,-30.955020904541016,null,-8.353827476501465,-9.751594543457031,null,-9.751594543457031,-32.54563903808594,null,-9.751594543457031,-13.831817626953125,null,-13.831817626953125,-32.78825378417969,null,-13.831817626953125,-33.00502014160156,null,-20.476806640625,-34.74577331542969,null,-20.476806640625,-33.25910949707031,null,-11.96562385559082,-39.56322479248047,null,-11.96562385559082,-18.530969619750977,null,-18.530969619750977,-30.988689422607422,null,-18.530969619750977,-37.68748092651367,null,-6.977514743804932,-8.3739013671875,null,-6.977514743804932,-7.339452266693115,null,-7.339452266693115,-7.57900333404541,null,-7.339452266693115,-8.761042594909668,null,-8.761042594909668,-11.708181381225586,null,-8.761042594909668,-10.447565078735352,null,-10.447565078735352,-10.655912399291992,null,-10.447565078735352,-12.782087326049805,null,-12.782087326049805,-15.973264694213867,null,-12.782087326049805,-18.297744750976562,null,-18.297744750976562,-40.125083923339844,null,-18.297744750976562,-24.641109466552734,null,-24.641109466552734,-43.6355094909668,null,-24.641109466552734,-39.880821228027344,null,-15.973264694213867,-41.24176025390625,null,-15.973264694213867,-49.169395446777344,null,-10.655912399291992,-29.654296875,null,-10.655912399291992,-12.35549545288086,null,-12.35549545288086,-39.32202911376953,null,-12.35549545288086,-35.20086669921875,null,-11.708181381225586,-32.864986419677734,null,-11.708181381225586,-24.430877685546875,null,-24.430877685546875,-38.967247009277344,null,-24.430877685546875,-33.748512268066406,null,-7.57900333404541,-12.580221176147461,null,-7.57900333404541,-8.973341941833496,null,-8.973341941833496,-9.946935653686523,null,-8.973341941833496,-10.988372802734375,null,-10.988372802734375,-13.143821716308594,null,-10.988372802734375,-11.82890796661377,null,-11.82890796661377,-46.2458381652832,null,-11.82890796661377,-40.4009895324707,null,-13.143821716308594,-41.2000732421875,null,-13.143821716308594,-40.975555419921875,null,-9.946935653686523,-34.549217224121094,null,-9.946935653686523,-15.879728317260742,null,-15.879728317260742,-43.46187210083008,null,-15.879728317260742,-42.82228088378906,null,-12.580221176147461,-38.185447692871094,null,-12.580221176147461,-22.60614776611328,null,-22.60614776611328,-44.836788177490234,null,-22.60614776611328,-45.112098693847656,null,-8.3739013671875,-38.38439178466797,null,-8.3739013671875,-10.248300552368164,null,-10.248300552368164,-31.80904197692871,null,-10.248300552368164,-11.355091094970703,null,-11.355091094970703,-36.770713806152344,null,-11.355091094970703,-14.260458946228027,null,-14.260458946228027,-37.95668029785156,null,-14.260458946228027,-16.500118255615234,null,-16.500118255615234,-39.79637908935547,null,-16.500118255615234,-37.515159606933594,null,-6.710696220397949,-6.800835609436035,null,-6.710696220397949,-7.178531646728516,null,-7.178531646728516,-16.825891494750977,null,-7.178531646728516,-7.815121173858643,null,-7.815121173858643,-8.830377578735352,null,-7.815121173858643,-8.683364868164062,null,-8.683364868164062,-11.304489135742188,null,-8.683364868164062,-11.068551063537598,null,-11.068551063537598,-16.37359619140625,null,-11.068551063537598,-12.61638069152832,null,-12.61638069152832,-40.33772277832031,null,-12.61638069152832,-17.26275634765625,null,-17.26275634765625,-34.94805908203125,null,-17.26275634765625,-33.72449493408203,null,-16.37359619140625,-28.679664611816406,null,-16.37359619140625,-35.975608825683594,null,-11.304489135742188,-27.240766525268555,null,-11.304489135742188,-29.970224380493164,null,-8.830377578735352,-12.700554847717285,null,-8.830377578735352,-9.892720222473145,null,-9.892720222473145,-11.466168403625488,null,-9.892720222473145,-10.921878814697266,null,-10.921878814697266,-24.741853713989258,null,-10.921878814697266,-12.507981300354004,null,-12.507981300354004,-30.543907165527344,null,-12.507981300354004,-36.08802032470703,null,-11.466168403625488,-29.206802368164062,null,-11.466168403625488,-28.132705688476562,null,-12.700554847717285,-23.263395309448242,null,-12.700554847717285,-25.580612182617188,null,-16.825891494750977,-24.566211700439453,null,-16.825891494750977,-28.131908416748047,null,-6.800835609436035,-14.607796669006348,null,-6.800835609436035,-7.912724018096924,null,-7.912724018096924,-18.768526077270508,null,-7.912724018096924,-8.893057823181152,null,-8.893057823181152,-21.08299446105957,null,-8.893057823181152,-23.86264419555664,null,-6.314000129699707,-13.033145904541016,null,-6.314000129699707,-7.120784282684326,null,-7.120784282684326,-18.078752517700195,null,-7.120784282684326,-14.38379192352295,null,-5.309384346008301,-6.032522201538086,null,-5.309384346008301,-5.938741683959961,null,-5.938741683959961,-11.031343460083008,null,-5.938741683959961,-6.276930809020996,null,-6.276930809020996,-12.94417953491211,null,-6.276930809020996,-12.955533981323242,null,-6.032522201538086,-7.707807540893555,null,-6.032522201538086,-7.347607135772705,null,-7.347607135772705,-9.409834861755371,null,-7.347607135772705,-10.276612281799316,null,-4.584135055541992,-3.6504111289978027,null,-4.584135055541992,-4.6205267906188965,null,-4.6205267906188965,-4.6205267906188965,null,-4.6205267906188965,-5.681751728057861,null,2.0433106422424316,14.971874237060547,null,14.971874237060547,25.793916702270508,null,14.971874237060547,30.28275489807129,null,2.7073655128479004,14.858068466186523,null,0.8081265687942505,1.8919352293014526,null,1.8919352293014526,6.551183700561523,null,1.8919352293014526,8.115009307861328,null,0.5392787456512451,2.1038360595703125,null],\"xaxis\":\"x\",\"y\":[-0.7216601371765137,-0.8228045105934143,null,-0.8228045105934143,-33.432029724121094,null,-0.8228045105934143,-0.8354910016059875,null,-0.8354910016059875,-2.68829345703125,null,-0.8354910016059875,-0.8218218684196472,null,-0.8218218684196472,-2.0939011573791504,null,-0.8218218684196472,-0.7703478336334229,null,-0.7703478336334229,-3.2835848331451416,null,-0.7703478336334229,-0.7062320709228516,null,-0.7062320709228516,-1.7041491270065308,null,-0.7062320709228516,-0.5283883810043335,null,-0.5283883810043335,-0.5641413331031799,null,-0.5283883810043335,0.08480072021484375,null,0.08480072021484375,2.8860151767730713,null,0.08480072021484375,0.3237265944480896,null,0.3237265944480896,9.048454284667969,null,0.3237265944480896,0.5608830451965332,null,0.5608830451965332,1.1639056205749512,null,0.5608830451965332,1.0453789234161377,null,1.0453789234161377,2.489262580871582,null,1.0453789234161377,1.6254452466964722,null,1.6254452466964722,3.2448551654815674,null,1.6254452466964722,4.046300411224365,null,4.046300411224365,10.235729217529297,null,4.046300411224365,9.138410568237305,null,9.138410568237305,39.403785705566406,null,9.138410568237305,12.491874694824219,null,12.491874694824219,33.85221862792969,null,12.491874694824219,13.471565246582031,null,13.471565246582031,31.847553253173828,null,13.471565246582031,15.025221824645996,null,15.025221824645996,35.8438606262207,null,15.025221824645996,32.175743103027344,null,10.235729217529297,47.5177116394043,null,10.235729217529297,35.51624298095703,null,3.2448551654815674,7.3032331466674805,null,3.2448551654815674,5.34535551071167,null,5.34535551071167,35.32649230957031,null,5.34535551071167,30.145071029663086,null,7.3032331466674805,26.545509338378906,null,7.3032331466674805,33.2311897277832,null,2.489262580871582,6.009891510009766,null,2.489262580871582,5.706731796264648,null,5.706731796264648,26.080318450927734,null,5.706731796264648,28.322114944458008,null,6.009891510009766,29.124767303466797,null,6.009891510009766,28.860824584960938,null,1.1639056205749512,1.9409291744232178,null,1.1639056205749512,1.7636384963989258,null,1.7636384963989258,10.796395301818848,null,1.7636384963989258,3.400975465774536,null,3.400975465774536,26.100385665893555,null,3.400975465774536,4.131964206695557,null,4.131964206695557,29.664875030517578,null,4.131964206695557,6.3294830322265625,null,6.3294830322265625,26.475345611572266,null,6.3294830322265625,11.822052001953125,null,11.822052001953125,30.425323486328125,null,11.822052001953125,23.72691535949707,null,10.796395301818848,23.50277328491211,null,10.796395301818848,11.50033950805664,null,11.50033950805664,25.52305030822754,null,11.50033950805664,11.690073013305664,null,11.690073013305664,23.36431312561035,null,11.690073013305664,27.668167114257812,null,1.9409291744232178,17.945756912231445,null,1.9409291744232178,3.0842459201812744,null,3.0842459201812744,20.444137573242188,null,3.0842459201812744,6.541618824005127,null,6.541618824005127,22.047208786010742,null,6.541618824005127,23.368335723876953,null,9.048454284667969,17.732980728149414,null,9.048454284667969,17.449623107910156,null,2.8860151767730713,15.966193199157715,null,2.8860151767730713,6.427379608154297,null,6.427379608154297,12.870529174804688,null,6.427379608154297,17.19379234313965,null,-0.5641413331031799,-1.1675487756729126,null,-0.5641413331031799,-0.5421268939971924,null,-0.5421268939971924,-0.573488175868988,null,-0.5421268939971924,-0.20278984308242798,null,-0.20278984308242798,0.07940998673439026,null,-0.20278984308242798,0.293863445520401,null,0.293863445520401,0.33601173758506775,null,0.293863445520401,1.1156244277954102,null,1.1156244277954102,2.0553741455078125,null,1.1156244277954102,3.2751011848449707,null,3.2751011848449707,10.958410263061523,null,3.2751011848449707,5.886499404907227,null,5.886499404907227,13.323141098022461,null,5.886499404907227,12.471893310546875,null,2.0553741455078125,9.022293090820312,null,2.0553741455078125,12.460519790649414,null,0.33601173758506775,3.4973626136779785,null,0.33601173758506775,0.7106516361236572,null,0.7106516361236572,6.165920257568359,null,0.7106516361236572,6.163896560668945,null,0.07940998673439026,1.3662487268447876,null,0.07940998673439026,1.520900845527649,null,1.520900845527649,2.912813663482666,null,1.520900845527649,2.7407360076904297,null,-0.573488175868988,-1.8594334125518799,null,-0.573488175868988,-0.6826162338256836,null,-0.6826162338256836,-0.8273050785064697,null,-0.6826162338256836,-0.7350900173187256,null,-0.7350900173187256,-0.8661928176879883,null,-0.7350900173187256,-0.7277953028678894,null,-0.7277953028678894,-1.0264878273010254,null,-0.7277953028678894,0.016255497932434082,null,-0.8661928176879883,-3.0620181560516357,null,-0.8661928176879883,-2.0746302604675293,null,-0.8273050785064697,-5.3613080978393555,null,-0.8273050785064697,-1.6040074825286865,null,-1.6040074825286865,-5.70307731628418,null,-1.6040074825286865,-4.656619071960449,null,-1.8594334125518799,-9.399754524230957,null,-1.8594334125518799,-4.252646446228027,null,-4.252646446228027,-9.968730926513672,null,-4.252646446228027,-9.213643074035645,null,-1.1675487756729126,-17.35528564453125,null,-1.1675487756729126,-1.939190149307251,null,-1.939190149307251,-12.62027645111084,null,-1.939190149307251,-2.3725180625915527,null,-2.3725180625915527,-13.882650375366211,null,-2.3725180625915527,-3.452249526977539,null,-3.452249526977539,-13.207367897033691,null,-3.452249526977539,-4.240617752075195,null,-4.240617752075195,-12.898283004760742,null,-4.240617752075195,-11.230489730834961,null,-1.7041491270065308,-1.898676872253418,null,-1.7041491270065308,-2.1760623455047607,null,-2.1760623455047607,-18.341222763061523,null,-2.1760623455047607,-2.775108814239502,null,-2.775108814239502,-3.994565963745117,null,-2.775108814239502,-3.412858247756958,null,-3.412858247756958,-5.713199615478516,null,-3.412858247756958,-5.040494918823242,null,-5.040494918823242,-9.080804824829102,null,-5.040494918823242,-6.019765377044678,null,-6.019765377044678,-24.9366397857666,null,-6.019765377044678,-8.84769058227539,null,-8.84769058227539,-20.03670883178711,null,-8.84769058227539,-18.479297637939453,null,-9.080804824829102,-18.795120239257812,null,-9.080804824829102,-23.479040145874023,null,-5.713199615478516,-20.196409225463867,null,-5.713199615478516,-21.529592514038086,null,-3.994565963745117,-9.561647415161133,null,-3.994565963745117,-5.184070110321045,null,-5.184070110321045,-7.142127513885498,null,-5.184070110321045,-6.258883476257324,null,-6.258883476257324,-21.73309326171875,null,-6.258883476257324,-7.858810901641846,null,-7.858810901641846,-26.694839477539062,null,-7.858810901641846,-30.83279037475586,null,-7.142127513885498,-30.021411895751953,null,-7.142127513885498,-27.160839080810547,null,-9.561647415161133,-25.332992553710938,null,-9.561647415161133,-27.4195613861084,null,-18.341222763061523,-31.83786392211914,null,-18.341222763061523,-36.559486389160156,null,-1.898676872253418,-21.340225219726562,null,-1.898676872253418,-4.192966461181641,null,-4.192966461181641,-28.728151321411133,null,-4.192966461181641,-6.129427433013916,null,-6.129427433013916,-31.28235626220703,null,-6.129427433013916,-34.46744155883789,null,-3.2835848331451416,-26.853214263916016,null,-3.2835848331451416,-5.6406755447387695,null,-5.6406755447387695,-39.56607437133789,null,-5.6406755447387695,-25.71600341796875,null,-2.0939011573791504,-9.012601852416992,null,-2.0939011573791504,-5.071732521057129,null,-5.071732521057129,-34.117061614990234,null,-5.071732521057129,-6.545013427734375,null,-6.545013427734375,-38.091400146484375,null,-6.545013427734375,-33.48631286621094,null,-9.012601852416992,-33.10382843017578,null,-9.012601852416992,-19.783206939697266,null,-19.783206939697266,-39.5137939453125,null,-19.783206939697266,-40.741458892822266,null,-2.68829345703125,-29.575313568115234,null,-2.68829345703125,-4.7847490310668945,null,-4.7847490310668945,-31.20785140991211,null,-4.7847490310668945,-35.343223571777344,null,-2.6254055500030518,-14.791496276855469,null,-14.791496276855469,-24.626785278320312,null,-14.791496276855469,-29.70885467529297,null,4.536259651184082,26.602001190185547,null,3.512397527694702,7.884452819824219,null,7.884452819824219,28.181922912597656,null,7.884452819824219,31.244380950927734,null,10.953964233398438,40.97365188598633,null],\"yaxis\":\"y\",\"type\":\"scattergl\"},{\"hovertemplate\":\"taxon=coluzzii\\u003cbr\\u003ex=%{x}\\u003cbr\\u003ey=%{y}\\u003cextra\\u003e\\u003c\\u002fextra\\u003e\",\"legendgroup\":\"coluzzii\",\"line\":{\"color\":\"#EF553B\",\"dash\":\"solid\",\"width\":1},\"marker\":{\"symbol\":\"circle\"},\"mode\":\"lines\",\"name\":\"coluzzii\",\"showlegend\":false,\"x\":[-0.1521422266960144,0.22664892673492432,null,-0.6295660734176636,-0.5267950892448425,null,-1.7674918174743652,-1.4046825170516968,null,-1.4046825170516968,1.5968478918075562,null,-1.4046825170516968,-1.0871617794036865,null,-1.0871617794036865,3.4156181812286377,null,-1.0871617794036865,0.8326030969619751,null,-0.5267950892448425,0.2720721364021301,null,-0.5267950892448425,-0.2407909333705902,null,-0.2407909333705902,0.4315026104450226,null,-0.2407909333705902,0.10183176398277283,null,0.10183176398277283,5.4555134773254395,null,0.10183176398277283,1.3260771036148071,null,1.3260771036148071,7.328857421875,null,1.3260771036148071,5.679205417633057,null,0.4315026104450226,10.362287521362305,null,0.4315026104450226,8.671857833862305,null,0.2720721364021301,1.4222066402435303,null,0.2720721364021301,0.8246309757232666,null,0.8246309757232666,12.892926216125488,null,0.8246309757232666,3.672867774963379,null,3.672867774963379,12.576837539672852,null,3.672867774963379,14.477275848388672,null,1.4222066402435303,14.804372787475586,null,1.4222066402435303,12.212255477905273,null,0.22763296961784363,0.5259829759597778,null,0.5259829759597778,3.1727023124694824,null,0.5259829759597778,0.755240261554718,null,0.755240261554718,3.036770820617676,null,0.755240261554718,1.671630620956421,null,1.671630620956421,16.377058029174805,null,1.671630620956421,17.265901565551758,null,3.036770820617676,19.57416534423828,null,3.036770820617676,18.25313377380371,null,3.1727023124694824,21.651508331298828,null,3.1727023124694824,6.621621608734131,null,6.621621608734131,25.43511390686035,null,6.621621608734131,25.66061019897461,null,1.501145839691162,6.886688709259033,null,1.5433942079544067,3.1937406063079834,null,2.0433106422424316,18.253582000732422,null,3.1937406063079834,19.744565963745117,null,3.1937406063079834,23.18085289001465,null,6.886688709259033,29.68761444091797,null,6.886688709259033,27.55246925354004,null,0.22664892673492432,1.644632339477539,null,0.22664892673492432,0.792576253414154,null,0.792576253414154,1.9505174160003662,null,0.792576253414154,2.0853915214538574,null,2.0853915214538574,9.094764709472656,null,2.0853915214538574,4.1661787033081055,null,4.1661787033081055,27.300540924072266,null,4.1661787033081055,6.940502166748047,null,6.940502166748047,27.0418758392334,null,6.940502166748047,27.794105529785156,null,9.094764709472656,27.33823585510254,null,9.094764709472656,26.64954376220703,null,1.9505174160003662,25.578744888305664,null,1.9505174160003662,7.267322540283203,null,7.267322540283203,33.47718048095703,null,7.267322540283203,11.679267883300781,null,11.679267883300781,30.968294143676758,null,11.679267883300781,36.68057632446289,null,1.644632339477539,6.098126411437988,null,1.644632339477539,2.430992364883423,null,2.430992364883423,6.662393569946289,null,2.430992364883423,3.659547805786133,null,3.659547805786133,24.035417556762695,null,3.659547805786133,7.972530364990234,null,7.972530364990234,24.585323333740234,null,7.972530364990234,27.608583450317383,null,6.662393569946289,32.03968048095703,null,6.662393569946289,31.05146026611328,null,6.098126411437988,29.677330017089844,null,6.098126411437988,28.496929168701172,null,-0.01100437343120575,0.19168657064437866,null,0.19168657064437866,0.4689026474952698,null,0.19168657064437866,0.3440401256084442,null,0.3440401256084442,2.176025629043579,null,0.3440401256084442,0.5833210945129395,null,0.5833210945129395,2.0863752365112305,null,0.5833210945129395,1.1069341897964478,null,1.1069341897964478,2.3530571460723877,null,1.1069341897964478,2.252537488937378,null,2.252537488937378,4.784609794616699,null,2.252537488937378,4.189077377319336,null,4.189077377319336,26.180055618286133,null,4.189077377319336,5.096657752990723,null,5.096657752990723,31.91271209716797,null,5.096657752990723,30.22252655029297,null,4.784609794616699,28.702709197998047,null,4.784609794616699,29.328201293945312,null,2.3530571460723877,5.39778995513916,null,2.3530571460723877,4.624518394470215,null,4.624518394470215,30.865962982177734,null,4.624518394470215,26.208599090576172,null,5.39778995513916,23.870315551757812,null,5.39778995513916,23.3685302734375,null,2.0863752365112305,5.330896377563477,null,2.0863752365112305,2.4971885681152344,null,2.4971885681152344,25.317981719970703,null,2.4971885681152344,25.600154876708984,null,5.330896377563477,25.09680938720703,null,5.330896377563477,21.05223846435547,null,2.176025629043579,5.956157684326172,null,2.176025629043579,2.9811785221099854,null,2.9811785221099854,26.638322830200195,null,2.9811785221099854,8.53095531463623,null,8.53095531463623,35.136077880859375,null,8.53095531463623,29.387439727783203,null,5.956157684326172,27.254697799682617,null,5.956157684326172,25.930208206176758,null,0.4689026474952698,2.8161776065826416,null,0.4689026474952698,1.88493013381958,null,1.88493013381958,3.5647668838500977,null,1.88493013381958,2.457974433898926,null,2.457974433898926,23.061111450195312,null,2.457974433898926,21.059825897216797,null,3.5647668838500977,17.849403381347656,null,3.5647668838500977,25.650665283203125,null,2.8161776065826416,20.172103881835938,null,2.8161776065826416,22.837072372436523,null,0.39131760597229004,1.1197291612625122,null,1.1197291612625122,2.730252981185913,null,1.1197291612625122,1.4992175102233887,null,1.4992175102233887,19.011402130126953,null,1.4992175102233887,4.546359062194824,null,4.546359062194824,19.252090454101562,null,4.546359062194824,22.520919799804688,null,2.730252981185913,17.05628204345703,null,2.730252981185913,15.040671348571777,null,1.136962652206421,10.251903533935547,null,2.014895439147949,13.129607200622559,null,2.7073655128479004,11.322040557861328,null,0.28721749782562256,0.5763630270957947,null,0.5763630270957947,1.0175888538360596,null,0.5763630270957947,1.1593537330627441,null,1.1593537330627441,12.366174697875977,null,1.1593537330627441,8.762985229492188,null,1.0175888538360596,7.808112144470215,null,1.0175888538360596,7.704501152038574,null,0.6801176071166992,3.7804362773895264,null,0.8081265687942505,4.887299060821533,null,0.2691153883934021,0.44748103618621826,null,0.44748103618621826,2.7823486328125,null,0.44748103618621826,3.0001754760742188,null,0.5392787456512451,0.9547737836837769,null],\"xaxis\":\"x\",\"y\":[-0.421813428401947,-0.5262520909309387,null,-0.6126993894577026,-0.8820559978485107,null,-0.7216601371765137,-3.3177120685577393,null,-3.3177120685577393,-20.436750411987305,null,-3.3177120685577393,-5.918220520019531,null,-5.918220520019531,-38.137489318847656,null,-5.918220520019531,-24.28577995300293,null,-0.8820559978485107,-2.5304527282714844,null,-0.8820559978485107,-1.885310411453247,null,-1.885310411453247,-3.849475383758545,null,-1.885310411453247,-3.2674410343170166,null,-3.2674410343170166,-22.047252655029297,null,-3.2674410343170166,-8.600722312927246,null,-8.600722312927246,-32.81577682495117,null,-8.600722312927246,-29.19774627685547,null,-3.849475383758545,-31.298677444458008,null,-3.849475383758545,-29.361265182495117,null,-2.5304527282714844,-4.61910343170166,null,-2.5304527282714844,-3.779290199279785,null,-3.779290199279785,-28.681224822998047,null,-3.779290199279785,-10.530908584594727,null,-10.530908584594727,-30.654760360717773,null,-10.530908584594727,-37.43695068359375,null,-4.61910343170166,-27.953323364257812,null,-4.61910343170166,-25.045085906982422,null,-1.1299705505371094,-1.514738917350769,null,-1.514738917350769,-4.478267192840576,null,-1.514738917350769,-1.8445155620574951,null,-1.8445155620574951,-4.8947906494140625,null,-1.8445155620574951,-3.2655115127563477,null,-3.2655115127563477,-25.22214126586914,null,-3.2655115127563477,-28.393768310546875,null,-4.8947906494140625,-26.22231674194336,null,-4.8947906494140625,-25.991939544677734,null,-4.478267192840576,-23.77682113647461,null,-4.478267192840576,-8.477619171142578,null,-8.477619171142578,-29.543062210083008,null,-8.477619171142578,-31.345956802368164,null,-2.1352720260620117,-5.674920082092285,null,-2.1710712909698486,-3.427971363067627,null,-2.6254055500030518,-16.361164093017578,null,-3.427971363067627,-15.585023880004883,null,-3.427971363067627,-19.205644607543945,null,-5.674920082092285,-20.10045623779297,null,-5.674920082092285,-19.777124404907227,null,-0.5262520909309387,-0.6869106292724609,null,-0.5262520909309387,-0.7592296600341797,null,-0.7592296600341797,-1.1221799850463867,null,-0.7592296600341797,-1.3996840715408325,null,-1.3996840715408325,-4.4285783767700195,null,-1.3996840715408325,-2.522066116333008,null,-2.522066116333008,-13.982715606689453,null,-2.522066116333008,-4.081301689147949,null,-4.081301689147949,-14.924036026000977,null,-4.081301689147949,-16.282543182373047,null,-4.4285783767700195,-11.93894100189209,null,-4.4285783767700195,-12.3787202835083,null,-1.1221799850463867,-7.1976213455200195,null,-1.1221799850463867,-2.890617847442627,null,-2.890617847442627,-10.608992576599121,null,-2.890617847442627,-4.443639755249023,null,-4.443639755249023,-10.859418869018555,null,-4.443639755249023,-13.734956741333008,null,-0.6869106292724609,-0.8028848767280579,null,-0.6869106292724609,-0.8037741184234619,null,-0.8037741184234619,-1.208946943283081,null,-0.8037741184234619,-1.0301870107650757,null,-1.0301870107650757,-4.058309555053711,null,-1.0301870107650757,-1.902693748474121,null,-1.902693748474121,-4.964298248291016,null,-1.902693748474121,-6.231077194213867,null,-1.208946943283081,-3.195103168487549,null,-1.208946943283081,-3.9722464084625244,null,-0.8028848767280579,-1.0075205564498901,null,-0.8028848767280579,-1.7754278182983398,null,-0.30091169476509094,-0.2091177999973297,null,-0.2091177999973297,0.04282176494598389,null,-0.2091177999973297,-0.15844304859638214,null,-0.15844304859638214,0.9565591216087341,null,-0.15844304859638214,-0.1013261005282402,null,-0.1013261005282402,0.5174421668052673,null,-0.1013261005282402,-0.014196336269378662,null,-0.014196336269378662,0.3062147796154022,null,-0.014196336269378662,0.09549955278635025,null,0.09549955278635025,0.471798837184906,null,0.09549955278635025,0.21328741312026978,null,0.21328741312026978,2.319007396697998,null,0.21328741312026978,0.2526940107345581,null,0.2526940107345581,1.8837502002716064,null,0.2526940107345581,0.9070013761520386,null,0.471798837184906,4.4517951011657715,null,0.471798837184906,3.6849677562713623,null,0.3062147796154022,1.2028387784957886,null,0.3062147796154022,0.8069138526916504,null,0.8069138526916504,7.070809364318848,null,0.8069138526916504,5.1733245849609375,null,1.2028387784957886,6.992951393127441,null,1.2028387784957886,6.157653331756592,null,0.5174421668052673,1.9868085384368896,null,0.5174421668052673,0.6701140403747559,null,0.6701140403747559,9.604854583740234,null,0.6701140403747559,8.802446365356445,null,1.9868085384368896,11.35507583618164,null,1.9868085384368896,8.78032398223877,null,0.9565591216087341,3.5360982418060303,null,0.9565591216087341,1.409074068069458,null,1.409074068069458,15.807531356811523,null,1.409074068069458,4.4026384353637695,null,4.4026384353637695,19.3553466796875,null,4.4026384353637695,15.189640045166016,null,3.5360982418060303,18.61846351623535,null,3.5360982418060303,16.664043426513672,null,0.04282176494598389,2.49422550201416,null,0.04282176494598389,1.242691159248352,null,1.242691159248352,2.7693605422973633,null,1.242691159248352,1.6950478553771973,null,1.6950478553771973,18.547574996948242,null,1.6950478553771973,15.862174987792969,null,2.7693605422973633,16.211551666259766,null,2.7693605422973633,22.152305603027344,null,2.49422550201416,21.26158905029297,null,2.49422550201416,22.68962860107422,null,0.3229469358921051,1.2967913150787354,null,1.2967913150787354,3.7014596462249756,null,1.2967913150787354,1.769040584564209,null,1.769040584564209,25.18182373046875,null,1.769040584564209,5.429059982299805,null,5.429059982299805,23.729415893554688,null,5.429059982299805,26.27228355407715,null,3.7014596462249756,25.916046142578125,null,3.7014596462249756,21.40945816040039,null,1.7344820499420166,21.405200958251953,null,3.328813076019287,25.28378677368164,null,4.536259651184082,18.97104835510254,null,1.0957170724868774,1.8949302434921265,null,1.8949302434921265,3.260946750640869,null,1.8949302434921265,3.346742630004883,null,3.346742630004883,32.719146728515625,null,3.346742630004883,21.370811462402344,null,3.260946750640869,25.602670669555664,null,3.260946750640869,22.797351837158203,null,2.9547414779663086,22.639934539794922,null,3.512397527694702,24.617414474487305,null,3.174482583999634,4.881015777587891,null,4.881015777587891,31.71769142150879,null,4.881015777587891,25.787696838378906,null,10.953964233398438,34.889930725097656,null],\"yaxis\":\"y\",\"type\":\"scattergl\"},{\"hovertemplate\":\"taxon=\\u003cbr\\u003ex=%{x}\\u003cbr\\u003ey=%{y}\\u003cextra\\u003e\\u003c\\u002fextra\\u003e\",\"legendgroup\":\"\",\"line\":{\"color\":\"gray\",\"dash\":\"solid\",\"width\":1},\"marker\":{\"symbol\":\"circle\"},\"mode\":\"lines\",\"name\":\"\",\"showlegend\":false,\"x\":[0.0,0.07208095490932465,null,0.0,-0.07208095490932465,null,-0.07208095490932465,-0.01100437343120575,null,-0.07208095490932465,-0.1521422266960144,null,-0.1521422266960144,-0.3590967357158661,null,-0.3590967357158661,0.22763296961784363,null,-0.3590967357158661,-0.6295660734176636,null,-0.6295660734176636,-1.7674918174743652,null,0.22763296961784363,1.501145839691162,null,1.501145839691162,1.5433942079544067,null,1.5433942079544067,2.0433106422424316,null,-0.01100437343120575,0.39131760597229004,null,0.39131760597229004,1.136962652206421,null,1.136962652206421,2.014895439147949,null,2.014895439147949,2.7073655128479004,null,0.07208095490932465,0.2691153883934021,null,0.07208095490932465,0.28721749782562256,null,0.28721749782562256,0.6801176071166992,null,0.6801176071166992,0.8081265687942505,null,0.2691153883934021,0.5392787456512451,null],\"xaxis\":\"x\",\"y\":[0.0,0.3410542905330658,null,0.0,-0.3410542905330658,null,-0.3410542905330658,-0.30091169476509094,null,-0.3410542905330658,-0.421813428401947,null,-0.421813428401947,-0.5381267666816711,null,-0.5381267666816711,-1.1299705505371094,null,-0.5381267666816711,-0.6126993894577026,null,-0.6126993894577026,-0.7216601371765137,null,-1.1299705505371094,-2.1352720260620117,null,-2.1352720260620117,-2.1710712909698486,null,-2.1710712909698486,-2.6254055500030518,null,-0.30091169476509094,0.3229469358921051,null,0.3229469358921051,1.7344820499420166,null,1.7344820499420166,3.328813076019287,null,3.328813076019287,4.536259651184082,null,0.3410542905330658,3.174482583999634,null,0.3410542905330658,1.0957170724868774,null,1.0957170724868774,2.9547414779663086,null,2.9547414779663086,3.512397527694702,null,3.174482583999634,10.953964233398438,null],\"yaxis\":\"y\",\"type\":\"scattergl\"},{\"hovertemplate\":\"\\u003cb\\u003e%{hovertext}\\u003c\\u002fb\\u003e\\u003cbr\\u003e\\u003cbr\\u003etaxon=gambiae\\u003cbr\\u003ex=%{x}\\u003cbr\\u003ey=%{y}\\u003cextra\\u003e\\u003c\\u002fextra\\u003e\",\"hovertext\":[\"AB0160-Cx\",\"AB0096-C\",\"AB0117-C\",\"AB0241-C\",\"AB0130-Cx\",\"AB0217-C\",\"AB0127-C\",\"AB0253-C\",\"AB0198-C\",\"AB0277-C\",\"AB0145-C\",\"AB0271-Cx\",\"AB0146-Cx\",\"AB0264-C\",\"AB0136-Cx\",\"AB0239-C\",\"AB0134-C\",\"AB0176-Cx\",\"AB0280-Cx\",\"AB0159-C\",\"AB0148-Cx\",\"AB0129-C\",\"AB0278-C\",\"AB0144-C\",\"AB0273-Cx\",\"AB0143-Cx\",\"AB0128-C\",\"AB0261-Cx\",\"AB0161-C\",\"AB0131-Cx\",\"AB0225-C\",\"AB0118-C\",\"AB0235-C\",\"AB0201-Cx\",\"AB0174-C\",\"AB0256-C\",\"AB0252-C\",\"AB0231-C\",\"AB0275-C\",\"AB0202-Cx\",\"AB0265-C\",\"AB0255-C\",\"AB0167-C\",\"AB0162-C\",\"AB0244-C\",\"AB0208-C\",\"AB0165-C\",\"AB0133-C\",\"AB0179-Cx\",\"AB0147-C\",\"AB0205-C\",\"AB0180-Cx\",\"AB0126-Cx\",\"AB0238-C\",\"AB0172-Cx\",\"AB0085-Cx\",\"AB0170-C\",\"AB0119-C\",\"AB0135-C\",\"AB0086-Cx\",\"AB0232-Cx\",\"AB0197-C\",\"AB0153-C\",\"AB0268-C\",\"AB0206-C\",\"AB0274-C\",\"AB0233-C\",\"AB0164-C\",\"AB0151-Cx\",\"AB0272-Cx\",\"AB0269-Cx\",\"AB0178-C\",\"AB0203-C\",\"AB0177-C\",\"AB0207-C\",\"AB0158-Cx\",\"AB0236-Cx\",\"AB0211-C\",\"AB0218-C\",\"AB0173-C\",\"AB0166-C\",\"AB0104-Cx\",\"AB0200-C\",\"AB0283-C\",\"AB0150-Cx\",\"AB0169-C\",\"AB0171-Cx\",\"AB0103-C\",\"AB0199-C\",\"AB0260-C\",\"AB0228-C\",\"AB0284-C\",\"AB0155-Cx\",\"AB0270-C\",\"AB0116-C\",\"AB0175-Cx\",\"AB0251-C\",\"AB0157-Cx\",\"AB0281-Cx\"],\"legendgroup\":\"gambiae\",\"marker\":{\"color\":\"#636EFA\",\"size\":5,\"symbol\":\"circle\"},\"mode\":\"markers\",\"name\":\"gambiae\",\"orientation\":\"v\",\"showlegend\":true,\"x\":[-8.427543640136719,-9.21485424041748,-9.674642562866211,-10.632906913757324,-12.558266639709473,-13.542926788330078,-17.21472930908203,-14.781517028808594,-17.287322998046875,-17.918962478637695,-16.386098861694336,-18.604766845703125,-18.5048770904541,-21.06871795654297,-22.228839874267578,-21.40986442565918,-26.302165985107422,-24.901626586914062,-28.577255249023438,-27.230392456054688,-31.099971771240234,-28.117206573486328,-31.05303955078125,-30.00320816040039,-33.00502014160156,-32.78825378417969,-32.54563903808594,-30.955020904541016,-33.25910949707031,-34.74577331542969,-37.68748092651367,-30.988689422607422,-39.56322479248047,-39.880821228027344,-43.6355094909668,-40.125083923339844,-49.169395446777344,-41.24176025390625,-35.20086669921875,-39.32202911376953,-29.654296875,-33.748512268066406,-38.967247009277344,-32.864986419677734,-40.4009895324707,-46.2458381652832,-40.975555419921875,-41.2000732421875,-42.82228088378906,-43.46187210083008,-34.549217224121094,-45.112098693847656,-44.836788177490234,-38.185447692871094,-37.515159606933594,-39.79637908935547,-37.95668029785156,-36.770713806152344,-31.80904197692871,-38.38439178466797,-33.72449493408203,-34.94805908203125,-40.33772277832031,-35.975608825683594,-28.679664611816406,-29.970224380493164,-27.240766525268555,-36.08802032470703,-30.543907165527344,-24.741853713989258,-28.132705688476562,-29.206802368164062,-25.580612182617188,-23.263395309448242,-28.131908416748047,-24.566211700439453,-23.86264419555664,-21.08299446105957,-18.768526077270508,-14.607796669006348,-14.38379192352295,-18.078752517700195,-13.033145904541016,-12.955533981323242,-12.94417953491211,-11.031343460083008,-10.276612281799316,-9.409834861755371,-7.707807540893555,-5.681751728057861,-4.6205267906188965,-3.6504111289978027,-1.8293449878692627,30.28275489807129,25.793916702270508,14.858068466186523,8.115009307861328,6.551183700561523,2.1038360595703125],\"xaxis\":\"x\",\"y\":[32.175743103027344,35.8438606262207,31.847553253173828,33.85221862792969,39.403785705566406,35.51624298095703,47.5177116394043,30.145071029663086,35.32649230957031,33.2311897277832,26.545509338378906,28.322114944458008,26.080318450927734,28.860824584960938,29.124767303466797,23.72691535949707,30.425323486328125,26.475345611572266,29.664875030517578,26.100385665893555,27.668167114257812,23.36431312561035,25.52305030822754,23.50277328491211,23.368335723876953,22.047208786010742,20.444137573242188,17.945756912231445,17.449623107910156,17.732980728149414,17.19379234313965,12.870529174804688,15.966193199157715,12.471893310546875,13.323141098022461,10.958410263061523,12.460519790649414,9.022293090820312,6.163896560668945,6.165920257568359,3.4973626136779785,2.7407360076904297,2.912813663482666,1.3662487268447876,0.016255497932434082,-1.0264878273010254,-2.0746302604675293,-3.0620181560516357,-4.656619071960449,-5.70307731628418,-5.3613080978393555,-9.213643074035645,-9.968730926513672,-9.399754524230957,-11.230489730834961,-12.898283004760742,-13.207367897033691,-13.882650375366211,-12.62027645111084,-17.35528564453125,-18.479297637939453,-20.03670883178711,-24.9366397857666,-23.479040145874023,-18.795120239257812,-21.529592514038086,-20.196409225463867,-30.83279037475586,-26.694839477539062,-21.73309326171875,-27.160839080810547,-30.021411895751953,-27.4195613861084,-25.332992553710938,-36.559486389160156,-31.83786392211914,-34.46744155883789,-31.28235626220703,-28.728151321411133,-21.340225219726562,-25.71600341796875,-39.56607437133789,-26.853214263916016,-33.48631286621094,-38.091400146484375,-34.117061614990234,-40.741458892822266,-39.5137939453125,-33.10382843017578,-35.343223571777344,-31.20785140991211,-29.575313568115234,-33.432029724121094,-29.70885467529297,-24.626785278320312,26.602001190185547,31.244380950927734,28.181922912597656,40.97365188598633],\"yaxis\":\"y\",\"type\":\"scatter\"},{\"hovertemplate\":\"\\u003cb\\u003e%{hovertext}\\u003c\\u002fb\\u003e\\u003cbr\\u003e\\u003cbr\\u003etaxon=coluzzii\\u003cbr\\u003ex=%{x}\\u003cbr\\u003ey=%{y}\\u003cextra\\u003e\\u003c\\u002fextra\\u003e\",\"hovertext\":[\"AB0229-C\",\"AB0094-Cx\",\"AB0226-C\",\"AB0222-C\",\"AB0188-C\",\"AB0182-C\",\"AB0210-C\",\"AB0110-C\",\"AB0212-C\",\"AB0109-C\",\"AB0266-Cx\",\"AB0282-Cx\",\"AB0214-C\",\"AB0276-C\",\"AB0191-Cx\",\"AB0227-Cx\",\"AB0187-C\",\"AB0247-C\",\"AB0230-Cx\",\"AB0095-Cx\",\"AB0132-C\",\"AB0123-C\",\"AB0114-C\",\"AB0249-Cx\",\"AB0196-C\",\"AB0091-C\",\"AB0088-C\",\"AB0216-C\",\"AB0250-Cx\",\"AB0089-Cx\",\"AB0112-C\",\"AB0111-C\",\"AB0267-C\",\"AB0234-C\",\"AB0263-C\",\"AB0183-C\",\"AB0193-C\",\"AB0138-Cx\",\"AB0124-C\",\"AB0186-C\",\"AB0092-C\",\"AB0240-C\",\"AB0213-C\",\"AB0262-Cx\",\"AB0248-C\",\"AB0137-Cx\",\"AB0243-C\",\"AB0185-Cx\",\"AB0113-C\",\"AB0099-Cx\",\"AB0192-C\",\"AB0090-C\",\"AB0242-C\",\"AB0101-C\",\"AB0237-C\",\"AB0115-C\",\"AB0142-C\",\"AB0122-C\",\"AB0098-Cx\",\"AB0259-Cx\",\"AB0189-C\",\"AB0190-C\",\"AB0100-C\",\"AB0246-C\",\"AB0215-C\",\"AB0181-C\",\"AB0087-C\",\"AB0221-C\",\"AB0258-Cx\",\"AB0184-C\",\"AB0223-C\",\"AB0209-C\",\"AB0224-C\",\"AB0194-C\",\"AB0121-C\",\"AB0219-Cx\",\"AB0097-Cx\",\"AB0257-C\",\"AB0139-C\",\"AB0204-C\",\"AB0140-C\",\"AB0279-C\"],\"legendgroup\":\"coluzzii\",\"marker\":{\"color\":\"#EF553B\",\"size\":5,\"symbol\":\"circle\"},\"mode\":\"markers\",\"name\":\"coluzzii\",\"orientation\":\"v\",\"showlegend\":true,\"x\":[0.8326030969619751,3.4156181812286377,1.5968478918075562,5.679205417633057,7.328857421875,5.4555134773254395,8.671857833862305,10.362287521362305,14.477275848388672,12.576837539672852,12.892926216125488,12.212255477905273,14.804372787475586,17.265901565551758,16.377058029174805,18.25313377380371,19.57416534423828,25.66061019897461,25.43511390686035,21.651508331298828,18.253582000732422,23.18085289001465,19.744565963745117,27.55246925354004,29.68761444091797,27.794105529785156,27.0418758392334,27.300540924072266,26.64954376220703,27.33823585510254,36.68057632446289,30.968294143676758,33.47718048095703,25.578744888305664,27.608583450317383,24.585323333740234,24.035417556762695,31.05146026611328,32.03968048095703,28.496929168701172,29.677330017089844,30.22252655029297,31.91271209716797,26.180055618286133,29.328201293945312,28.702709197998047,26.208599090576172,30.865962982177734,23.3685302734375,23.870315551757812,25.600154876708984,25.317981719970703,21.05223846435547,25.09680938720703,29.387439727783203,35.136077880859375,26.638322830200195,25.930208206176758,27.254697799682617,21.059825897216797,23.061111450195312,25.650665283203125,17.849403381347656,22.837072372436523,20.172103881835938,22.520919799804688,19.252090454101562,19.011402130126953,15.040671348571777,17.05628204345703,11.322040557861328,13.129607200622559,10.251903533935547,8.762985229492188,12.366174697875977,7.704501152038574,7.808112144470215,4.887299060821533,3.7804362773895264,3.0001754760742188,2.7823486328125,0.9547737836837769],\"xaxis\":\"x\",\"y\":[-24.28577995300293,-38.137489318847656,-20.436750411987305,-29.19774627685547,-32.81577682495117,-22.047252655029297,-29.361265182495117,-31.298677444458008,-37.43695068359375,-30.654760360717773,-28.681224822998047,-25.045085906982422,-27.953323364257812,-28.393768310546875,-25.22214126586914,-25.991939544677734,-26.22231674194336,-31.345956802368164,-29.543062210083008,-23.77682113647461,-16.361164093017578,-19.205644607543945,-15.585023880004883,-19.777124404907227,-20.10045623779297,-16.282543182373047,-14.924036026000977,-13.982715606689453,-12.3787202835083,-11.93894100189209,-13.734956741333008,-10.859418869018555,-10.608992576599121,-7.1976213455200195,-6.231077194213867,-4.964298248291016,-4.058309555053711,-3.9722464084625244,-3.195103168487549,-1.7754278182983398,-1.0075205564498901,0.9070013761520386,1.8837502002716064,2.319007396697998,3.6849677562713623,4.4517951011657715,5.1733245849609375,7.070809364318848,6.157653331756592,6.992951393127441,8.802446365356445,9.604854583740234,8.78032398223877,11.35507583618164,15.189640045166016,19.3553466796875,15.807531356811523,16.664043426513672,18.61846351623535,15.862174987792969,18.547574996948242,22.152305603027344,16.211551666259766,22.68962860107422,21.26158905029297,26.27228355407715,23.729415893554688,25.18182373046875,21.40945816040039,25.916046142578125,18.97104835510254,25.28378677368164,21.405200958251953,21.370811462402344,32.719146728515625,22.797351837158203,25.602670669555664,24.617414474487305,22.639934539794922,25.787696838378906,31.71769142150879,34.889930725097656],\"yaxis\":\"y\",\"type\":\"scatter\"}],                        {\"template\":{\"data\":{\"barpolar\":[{\"marker\":{\"line\":{\"color\":\"white\",\"width\":0.5},\"pattern\":{\"fillmode\":\"overlay\",\"size\":10,\"solidity\":0.2}},\"type\":\"barpolar\"}],\"bar\":[{\"error_x\":{\"color\":\"rgb(36,36,36)\"},\"error_y\":{\"color\":\"rgb(36,36,36)\"},\"marker\":{\"line\":{\"color\":\"white\",\"width\":0.5},\"pattern\":{\"fillmode\":\"overlay\",\"size\":10,\"solidity\":0.2}},\"type\":\"bar\"}],\"carpet\":[{\"aaxis\":{\"endlinecolor\":\"rgb(36,36,36)\",\"gridcolor\":\"white\",\"linecolor\":\"white\",\"minorgridcolor\":\"white\",\"startlinecolor\":\"rgb(36,36,36)\"},\"baxis\":{\"endlinecolor\":\"rgb(36,36,36)\",\"gridcolor\":\"white\",\"linecolor\":\"white\",\"minorgridcolor\":\"white\",\"startlinecolor\":\"rgb(36,36,36)\"},\"type\":\"carpet\"}],\"choropleth\":[{\"colorbar\":{\"outlinewidth\":1,\"tickcolor\":\"rgb(36,36,36)\",\"ticks\":\"outside\"},\"type\":\"choropleth\"}],\"contourcarpet\":[{\"colorbar\":{\"outlinewidth\":1,\"tickcolor\":\"rgb(36,36,36)\",\"ticks\":\"outside\"},\"type\":\"contourcarpet\"}],\"contour\":[{\"colorbar\":{\"outlinewidth\":1,\"tickcolor\":\"rgb(36,36,36)\",\"ticks\":\"outside\"},\"colorscale\":[[0.0,\"#440154\"],[0.1111111111111111,\"#482878\"],[0.2222222222222222,\"#3e4989\"],[0.3333333333333333,\"#31688e\"],[0.4444444444444444,\"#26828e\"],[0.5555555555555556,\"#1f9e89\"],[0.6666666666666666,\"#35b779\"],[0.7777777777777778,\"#6ece58\"],[0.8888888888888888,\"#b5de2b\"],[1.0,\"#fde725\"]],\"type\":\"contour\"}],\"heatmapgl\":[{\"colorbar\":{\"outlinewidth\":1,\"tickcolor\":\"rgb(36,36,36)\",\"ticks\":\"outside\"},\"colorscale\":[[0.0,\"#440154\"],[0.1111111111111111,\"#482878\"],[0.2222222222222222,\"#3e4989\"],[0.3333333333333333,\"#31688e\"],[0.4444444444444444,\"#26828e\"],[0.5555555555555556,\"#1f9e89\"],[0.6666666666666666,\"#35b779\"],[0.7777777777777778,\"#6ece58\"],[0.8888888888888888,\"#b5de2b\"],[1.0,\"#fde725\"]],\"type\":\"heatmapgl\"}],\"heatmap\":[{\"colorbar\":{\"outlinewidth\":1,\"tickcolor\":\"rgb(36,36,36)\",\"ticks\":\"outside\"},\"colorscale\":[[0.0,\"#440154\"],[0.1111111111111111,\"#482878\"],[0.2222222222222222,\"#3e4989\"],[0.3333333333333333,\"#31688e\"],[0.4444444444444444,\"#26828e\"],[0.5555555555555556,\"#1f9e89\"],[0.6666666666666666,\"#35b779\"],[0.7777777777777778,\"#6ece58\"],[0.8888888888888888,\"#b5de2b\"],[1.0,\"#fde725\"]],\"type\":\"heatmap\"}],\"histogram2dcontour\":[{\"colorbar\":{\"outlinewidth\":1,\"tickcolor\":\"rgb(36,36,36)\",\"ticks\":\"outside\"},\"colorscale\":[[0.0,\"#440154\"],[0.1111111111111111,\"#482878\"],[0.2222222222222222,\"#3e4989\"],[0.3333333333333333,\"#31688e\"],[0.4444444444444444,\"#26828e\"],[0.5555555555555556,\"#1f9e89\"],[0.6666666666666666,\"#35b779\"],[0.7777777777777778,\"#6ece58\"],[0.8888888888888888,\"#b5de2b\"],[1.0,\"#fde725\"]],\"type\":\"histogram2dcontour\"}],\"histogram2d\":[{\"colorbar\":{\"outlinewidth\":1,\"tickcolor\":\"rgb(36,36,36)\",\"ticks\":\"outside\"},\"colorscale\":[[0.0,\"#440154\"],[0.1111111111111111,\"#482878\"],[0.2222222222222222,\"#3e4989\"],[0.3333333333333333,\"#31688e\"],[0.4444444444444444,\"#26828e\"],[0.5555555555555556,\"#1f9e89\"],[0.6666666666666666,\"#35b779\"],[0.7777777777777778,\"#6ece58\"],[0.8888888888888888,\"#b5de2b\"],[1.0,\"#fde725\"]],\"type\":\"histogram2d\"}],\"histogram\":[{\"marker\":{\"line\":{\"color\":\"white\",\"width\":0.6}},\"type\":\"histogram\"}],\"mesh3d\":[{\"colorbar\":{\"outlinewidth\":1,\"tickcolor\":\"rgb(36,36,36)\",\"ticks\":\"outside\"},\"type\":\"mesh3d\"}],\"parcoords\":[{\"line\":{\"colorbar\":{\"outlinewidth\":1,\"tickcolor\":\"rgb(36,36,36)\",\"ticks\":\"outside\"}},\"type\":\"parcoords\"}],\"pie\":[{\"automargin\":true,\"type\":\"pie\"}],\"scatter3d\":[{\"line\":{\"colorbar\":{\"outlinewidth\":1,\"tickcolor\":\"rgb(36,36,36)\",\"ticks\":\"outside\"}},\"marker\":{\"colorbar\":{\"outlinewidth\":1,\"tickcolor\":\"rgb(36,36,36)\",\"ticks\":\"outside\"}},\"type\":\"scatter3d\"}],\"scattercarpet\":[{\"marker\":{\"colorbar\":{\"outlinewidth\":1,\"tickcolor\":\"rgb(36,36,36)\",\"ticks\":\"outside\"}},\"type\":\"scattercarpet\"}],\"scattergeo\":[{\"marker\":{\"colorbar\":{\"outlinewidth\":1,\"tickcolor\":\"rgb(36,36,36)\",\"ticks\":\"outside\"}},\"type\":\"scattergeo\"}],\"scattergl\":[{\"marker\":{\"colorbar\":{\"outlinewidth\":1,\"tickcolor\":\"rgb(36,36,36)\",\"ticks\":\"outside\"}},\"type\":\"scattergl\"}],\"scattermapbox\":[{\"marker\":{\"colorbar\":{\"outlinewidth\":1,\"tickcolor\":\"rgb(36,36,36)\",\"ticks\":\"outside\"}},\"type\":\"scattermapbox\"}],\"scatterpolargl\":[{\"marker\":{\"colorbar\":{\"outlinewidth\":1,\"tickcolor\":\"rgb(36,36,36)\",\"ticks\":\"outside\"}},\"type\":\"scatterpolargl\"}],\"scatterpolar\":[{\"marker\":{\"colorbar\":{\"outlinewidth\":1,\"tickcolor\":\"rgb(36,36,36)\",\"ticks\":\"outside\"}},\"type\":\"scatterpolar\"}],\"scatter\":[{\"fillpattern\":{\"fillmode\":\"overlay\",\"size\":10,\"solidity\":0.2},\"type\":\"scatter\"}],\"scatterternary\":[{\"marker\":{\"colorbar\":{\"outlinewidth\":1,\"tickcolor\":\"rgb(36,36,36)\",\"ticks\":\"outside\"}},\"type\":\"scatterternary\"}],\"surface\":[{\"colorbar\":{\"outlinewidth\":1,\"tickcolor\":\"rgb(36,36,36)\",\"ticks\":\"outside\"},\"colorscale\":[[0.0,\"#440154\"],[0.1111111111111111,\"#482878\"],[0.2222222222222222,\"#3e4989\"],[0.3333333333333333,\"#31688e\"],[0.4444444444444444,\"#26828e\"],[0.5555555555555556,\"#1f9e89\"],[0.6666666666666666,\"#35b779\"],[0.7777777777777778,\"#6ece58\"],[0.8888888888888888,\"#b5de2b\"],[1.0,\"#fde725\"]],\"type\":\"surface\"}],\"table\":[{\"cells\":{\"fill\":{\"color\":\"rgb(237,237,237)\"},\"line\":{\"color\":\"white\"}},\"header\":{\"fill\":{\"color\":\"rgb(217,217,217)\"},\"line\":{\"color\":\"white\"}},\"type\":\"table\"}]},\"layout\":{\"annotationdefaults\":{\"arrowhead\":0,\"arrowwidth\":1},\"autotypenumbers\":\"strict\",\"coloraxis\":{\"colorbar\":{\"outlinewidth\":1,\"tickcolor\":\"rgb(36,36,36)\",\"ticks\":\"outside\"}},\"colorscale\":{\"diverging\":[[0.0,\"rgb(103,0,31)\"],[0.1,\"rgb(178,24,43)\"],[0.2,\"rgb(214,96,77)\"],[0.3,\"rgb(244,165,130)\"],[0.4,\"rgb(253,219,199)\"],[0.5,\"rgb(247,247,247)\"],[0.6,\"rgb(209,229,240)\"],[0.7,\"rgb(146,197,222)\"],[0.8,\"rgb(67,147,195)\"],[0.9,\"rgb(33,102,172)\"],[1.0,\"rgb(5,48,97)\"]],\"sequential\":[[0.0,\"#440154\"],[0.1111111111111111,\"#482878\"],[0.2222222222222222,\"#3e4989\"],[0.3333333333333333,\"#31688e\"],[0.4444444444444444,\"#26828e\"],[0.5555555555555556,\"#1f9e89\"],[0.6666666666666666,\"#35b779\"],[0.7777777777777778,\"#6ece58\"],[0.8888888888888888,\"#b5de2b\"],[1.0,\"#fde725\"]],\"sequentialminus\":[[0.0,\"#440154\"],[0.1111111111111111,\"#482878\"],[0.2222222222222222,\"#3e4989\"],[0.3333333333333333,\"#31688e\"],[0.4444444444444444,\"#26828e\"],[0.5555555555555556,\"#1f9e89\"],[0.6666666666666666,\"#35b779\"],[0.7777777777777778,\"#6ece58\"],[0.8888888888888888,\"#b5de2b\"],[1.0,\"#fde725\"]]},\"colorway\":[\"#1F77B4\",\"#FF7F0E\",\"#2CA02C\",\"#D62728\",\"#9467BD\",\"#8C564B\",\"#E377C2\",\"#7F7F7F\",\"#BCBD22\",\"#17BECF\"],\"font\":{\"color\":\"rgb(36,36,36)\"},\"geo\":{\"bgcolor\":\"white\",\"lakecolor\":\"white\",\"landcolor\":\"white\",\"showlakes\":true,\"showland\":true,\"subunitcolor\":\"white\"},\"hoverlabel\":{\"align\":\"left\"},\"hovermode\":\"closest\",\"mapbox\":{\"style\":\"light\"},\"paper_bgcolor\":\"white\",\"plot_bgcolor\":\"white\",\"polar\":{\"angularaxis\":{\"gridcolor\":\"rgb(232,232,232)\",\"linecolor\":\"rgb(36,36,36)\",\"showgrid\":false,\"showline\":true,\"ticks\":\"outside\"},\"bgcolor\":\"white\",\"radialaxis\":{\"gridcolor\":\"rgb(232,232,232)\",\"linecolor\":\"rgb(36,36,36)\",\"showgrid\":false,\"showline\":true,\"ticks\":\"outside\"}},\"scene\":{\"xaxis\":{\"backgroundcolor\":\"white\",\"gridcolor\":\"rgb(232,232,232)\",\"gridwidth\":2,\"linecolor\":\"rgb(36,36,36)\",\"showbackground\":true,\"showgrid\":false,\"showline\":true,\"ticks\":\"outside\",\"zeroline\":false,\"zerolinecolor\":\"rgb(36,36,36)\"},\"yaxis\":{\"backgroundcolor\":\"white\",\"gridcolor\":\"rgb(232,232,232)\",\"gridwidth\":2,\"linecolor\":\"rgb(36,36,36)\",\"showbackground\":true,\"showgrid\":false,\"showline\":true,\"ticks\":\"outside\",\"zeroline\":false,\"zerolinecolor\":\"rgb(36,36,36)\"},\"zaxis\":{\"backgroundcolor\":\"white\",\"gridcolor\":\"rgb(232,232,232)\",\"gridwidth\":2,\"linecolor\":\"rgb(36,36,36)\",\"showbackground\":true,\"showgrid\":false,\"showline\":true,\"ticks\":\"outside\",\"zeroline\":false,\"zerolinecolor\":\"rgb(36,36,36)\"}},\"shapedefaults\":{\"fillcolor\":\"black\",\"line\":{\"width\":0},\"opacity\":0.3},\"ternary\":{\"aaxis\":{\"gridcolor\":\"rgb(232,232,232)\",\"linecolor\":\"rgb(36,36,36)\",\"showgrid\":false,\"showline\":true,\"ticks\":\"outside\"},\"baxis\":{\"gridcolor\":\"rgb(232,232,232)\",\"linecolor\":\"rgb(36,36,36)\",\"showgrid\":false,\"showline\":true,\"ticks\":\"outside\"},\"bgcolor\":\"white\",\"caxis\":{\"gridcolor\":\"rgb(232,232,232)\",\"linecolor\":\"rgb(36,36,36)\",\"showgrid\":false,\"showline\":true,\"ticks\":\"outside\"}},\"title\":{\"x\":0.05},\"xaxis\":{\"automargin\":true,\"gridcolor\":\"rgb(232,232,232)\",\"linecolor\":\"rgb(36,36,36)\",\"showgrid\":false,\"showline\":true,\"ticks\":\"outside\",\"title\":{\"standoff\":15},\"zeroline\":false,\"zerolinecolor\":\"rgb(36,36,36)\"},\"yaxis\":{\"automargin\":true,\"gridcolor\":\"rgb(232,232,232)\",\"linecolor\":\"rgb(36,36,36)\",\"showgrid\":false,\"showline\":true,\"ticks\":\"outside\",\"title\":{\"standoff\":15},\"zeroline\":false,\"zerolinecolor\":\"rgb(36,36,36)\"}}},\"legend\":{\"itemsizing\":\"constant\",\"tracegroupgap\":0},\"width\":700,\"height\":600,\"xaxis\":{\"title\":{},\"mirror\":false,\"showgrid\":false,\"showline\":false,\"showticklabels\":false,\"ticks\":\"\"},\"yaxis\":{\"title\":{},\"mirror\":false,\"showgrid\":false,\"showline\":false,\"showticklabels\":false,\"ticks\":\"\",\"scaleanchor\":\"x\",\"scaleratio\":1}},                        {\"responsive\": true}                    ).then(function(){\n",
       "                            \n",
       "var gd = document.getElementById('3938c377-0378-4b89-9f86-797421939498');\n",
       "var x = new MutationObserver(function (mutations, observer) {{\n",
       "        var display = window.getComputedStyle(gd).display;\n",
       "        if (!display || display === 'none') {{\n",
       "            console.log([gd, 'removed!']);\n",
       "            Plotly.purge(gd);\n",
       "            observer.disconnect();\n",
       "        }}\n",
       "}});\n",
       "\n",
       "// Listen for the removal of the full notebook cells\n",
       "var notebookContainer = gd.closest('#notebook-container');\n",
       "if (notebookContainer) {{\n",
       "    x.observe(notebookContainer, {childList: true});\n",
       "}}\n",
       "\n",
       "// Listen for the clearing of the current output cell\n",
       "var outputEl = gd.closest('.output');\n",
       "if (outputEl) {{\n",
       "    x.observe(outputEl, {childList: true});\n",
       "}}\n",
       "\n",
       "                        })                };                });            </script>        </div>"
      ]
     },
     "metadata": {},
     "output_type": "display_data"
    }
   ],
   "source": [
    "import anjl\n",
    "D, leaf_data = anjl.data.mosquitoes()\n",
    "Z = anjl.dynamic_nj(D)\n",
    "anjl.plot(\n",
    "    Z, \n",
    "    leaf_data=leaf_data, \n",
    "    color=\"taxon\",\n",
    "    hover_name=\"sample_id\",\n",
    ")"
   ]
  },
  {
   "cell_type": "markdown",
   "id": "e8600a4e-8a23-4fcb-a2f0-a093d8eac6b2",
   "metadata": {},
   "source": [
    "## Some lessons"
   ]
  },
  {
   "cell_type": "markdown",
   "id": "416218c4-6aa2-484d-b7bd-fa46baebf661",
   "metadata": {},
   "source": [
    "I've used numba before but learned a couple of new things from working on this project.\n",
    "\n",
    "### Boundscheck\n",
    "\n",
    "By default, numba does **not** perform any checks to see if you are trying to index an array with a value that is too large (out of bounds). This is for performance reasons, otherwise the bounds checks would take some time. While I was working on the rapid algorithm I inadvertantly introduced an out of bounds indexing bug. I would expect this to cause program crashes, but actually the bug only caused a very occasional crash. It also didn't actually affect the correctness of the output. Long story short, it took me a while to figure out something was wrong. Eventually I realised I might have an indexing bug, and I set the `boundscheck` parameter to `True` in the number `njit()` decorator. Immediately this revealed that, yes, I had an index out of bounds error. \n",
    "\n",
    "The moral of the story is, it's probably a good idea to turn `boundscheck` on during development and when running tests. I ended up putting a conditional block in my code like this...\n",
    "\n",
    "```python\n",
    "# Detect whether we are running via pytest, if so run with boundscheck enabled to catch\n",
    "# any out of bounds errors.\n",
    "# https://docs.pytest.org/en/stable/example/simple.html#detect-if-running-from-within-a-pytest-run\n",
    "if os.environ.get(\"PYTEST_VERSION\") is not None:\n",
    "    BOUNDSCHECK = True\n",
    "else:\n",
    "    BOUNDSCHECK = False\n",
    "```\n",
    "\n",
    "I then used this in all `njit` decorators, e.g.:\n",
    "\n",
    "```python\n",
    "@njit(\n",
    "    boundscheck=BOUNDSCHECK,\n",
    ")\n",
    "def dynamic_search(...):\n",
    "    ...\n",
    "```\n",
    "\n",
    "### Wraparound\n",
    "\n",
    "When you are indexing an array, numba also checks to see if you are indexing with a negative value, in case it needs to handle wraparound logic (e.g., where a value like `-1` means the last value in the array). But this wraparound logic also takes some time, and if you're doing a lot of array access, this can affect performance. You can circumvent this by using unsigned integer data types for variables that you are using to index arrays. However, if you are using for loops in numba, the induction variable is a signed integer by default (although this is different for [parallel for loops](https://numba.readthedocs.io/en/stable/user/parallel.html)). You can get around this by casting the induction variable to an unsigned integer data type like `np.uintp`. E.g., all my for loops ended up looking like this...\n",
    "\n",
    "```python\n",
    "for _i in range(n):\n",
    "    i = np.uintp(_i)\n",
    "    # Use i for indexing arrays...\n",
    "```\n",
    "\n",
    "### Profiling \n",
    "\n",
    "What do you do if you think you've done everything you can to tune a numba function, but it's still running slower than you think it should? Ideally you'd do some profiling to find which section of code the program is spending most time in. While there are great tools for profiling normal Python code, there isn't yet a good tool for profiling code within a numba function. The only option I could find is a tool called [profila](https://github.com/pythonspeed/profila) which I did get to work some of the time, but which also [crashed a lot](https://github.com/pythonspeed/profila/issues/9). \n",
    "\n",
    "### Algorithm is everything\n",
    "\n",
    "Of course the ultimately lesson here is that finding the right algorithm is potentially much more important than tuning tricks! The dynamic algorithm makes a massive difference which is entirely thanks to an insight into the structure of the problem. "
   ]
  },
  {
   "cell_type": "raw",
   "id": "3038f1a8-771f-4c32-ad39-032f1ea5a7f2",
   "metadata": {
    "editable": true,
    "raw_mimetype": "",
    "slideshow": {
     "slide_type": ""
    },
    "tags": []
   },
   "source": [
    "{% endraw %}"
   ]
  }
 ],
 "metadata": {
  "kernelspec": {
   "display_name": "Python 3 (ipykernel)",
   "language": "python",
   "name": "python3"
  },
  "language_info": {
   "codemirror_mode": {
    "name": "ipython",
    "version": 3
   },
   "file_extension": ".py",
   "mimetype": "text/x-python",
   "name": "python",
   "nbconvert_exporter": "python",
   "pygments_lexer": "ipython3",
   "version": "3.12.7"
  }
 },
 "nbformat": 4,
 "nbformat_minor": 5
}
