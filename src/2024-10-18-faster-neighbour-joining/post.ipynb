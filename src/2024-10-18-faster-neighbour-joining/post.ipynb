{
 "cells": [
  {
   "cell_type": "raw",
   "id": "69a55cf0-fe97-4b2b-8cf9-66133beb4ddc",
   "metadata": {
    "editable": true,
    "raw_mimetype": "",
    "slideshow": {
     "slide_type": ""
    },
    "tags": []
   },
   "source": [
    "---\n",
    "layout: post\n",
    "title: Faster neighbour-joining with numba\n",
    "---\n",
    "{% raw %}"
   ]
  },
  {
   "cell_type": "markdown",
   "id": "137f6945-06bc-4949-9a06-efabe93773c4",
   "metadata": {},
   "source": [
    "@@TODO image and description"
   ]
  },
  {
   "cell_type": "code",
   "execution_count": 1,
   "id": "1adc29e6-cf79-4729-a0b8-dc9c2a7bd14c",
   "metadata": {
    "editable": true,
    "slideshow": {
     "slide_type": ""
    },
    "tags": [
     "remove_input"
    ]
   },
   "outputs": [
    {
     "data": {
      "text/html": [
       "<script>\n",
       "MathJax = {\n",
       "  tex: {\n",
       "    inlineMath: [['$', '$']]\n",
       "  },\n",
       "  svg: {\n",
       "    fontCache: 'global'\n",
       "  }\n",
       "};\n",
       "</script>\n",
       "<script type=\"text/javascript\" id=\"MathJax-script\" async\n",
       "  src=\"https://cdn.jsdelivr.net/npm/mathjax@3/es5/tex-svg.js\">\n",
       "</script>\n",
       "<script\n",
       "src=\"https://cdnjs.cloudflare.com/ajax/libs/require.js/2.3.7/require.min.js\"\n",
       "integrity=\"sha512-J5ha2LF4Le+PBQnI5+xAVJDR+sZG9uSgroy4n/A6TLjNkvYQbqZA8WHZdaOvJ0HiKkBC9Frmvs10rFDSHKmveQ==\"\n",
       "crossorigin=\"anonymous\"\n",
       "referrerpolicy=\"no-referrer\"></script>\n"
      ],
      "text/plain": [
       "<IPython.core.display.HTML object>"
      ]
     },
     "metadata": {},
     "output_type": "display_data"
    }
   ],
   "source": [
    "%%html\n",
    "<script>\n",
    "MathJax = {\n",
    "  tex: {\n",
    "    inlineMath: [['$', '$']]\n",
    "  },\n",
    "  svg: {\n",
    "    fontCache: 'global'\n",
    "  }\n",
    "};\n",
    "</script>\n",
    "<script type=\"text/javascript\" id=\"MathJax-script\" async\n",
    "  src=\"https://cdn.jsdelivr.net/npm/mathjax@3/es5/tex-svg.js\">\n",
    "</script>\n",
    "<script\n",
    "src=\"https://cdnjs.cloudflare.com/ajax/libs/require.js/2.3.7/require.min.js\"\n",
    "integrity=\"sha512-J5ha2LF4Le+PBQnI5+xAVJDR+sZG9uSgroy4n/A6TLjNkvYQbqZA8WHZdaOvJ0HiKkBC9Frmvs10rFDSHKmveQ==\"\n",
    "crossorigin=\"anonymous\"\n",
    "referrerpolicy=\"no-referrer\"></script>"
   ]
  },
  {
   "cell_type": "code",
   "execution_count": 2,
   "id": "fc56d6c8-f3d3-41fb-b757-92b5d1826d6a",
   "metadata": {
    "editable": true,
    "slideshow": {
     "slide_type": ""
    },
    "tags": [
     "remove_input"
    ]
   },
   "outputs": [],
   "source": [
    "import plotly.io as pio\n",
    "pio.renderers.default = \"notebook_connected+plotly_mimetype\""
   ]
  },
  {
   "cell_type": "markdown",
   "id": "10708ccd-7b66-42ac-82ca-cb021b828dae",
   "metadata": {
    "editable": true,
    "slideshow": {
     "slide_type": ""
    },
    "tags": []
   },
   "source": [
    "Neighbour-joining trees (NJT) are a useful tool for exploratory analysis of genetic population structure. Previously I've used a Python package called [biotite](https://www.biotite-python.org/latest/index.html) to [compute NJT for hundreds of individuals](https://alimanfoo.github.io/2024/09/05/kenya-coluzzii-njt.html), but recently I was trying to build some bigger trees and things started to take a long time to run. I then uttered those fateful words to myself, \"how hard can it be,\" and so began a small coding adventure.\n",
    "\n",
    "## Implementing the canonical algorithm\n",
    "\n",
    "Neighbour-joining is an iterative algorithm where each iteration involves searching a distance matrix for the pair of nearest neighbours. The canonical algorithm performs a full search of the distance matrix in each iteration. \n",
    "\n",
    "I spent some time looking at the biotite source code and saw a few opportunities to make the implementation more efficient, so thought I'd see if I could do any better.\n",
    "\n",
    "\n",
    "I then learned of course that the canonical neighbour-joining algorithm is $O(n^3)$ meaning that speed of computation scales with the number of samples cubed. This happens because  \n",
    "\n",
    "## Canonical algorithm\n",
    "\n",
    " After a bit of prototyping I was fairly confident I could do an implementation using [numba](https://numba.pydata.org/) that was pretty fast. After a bit more tuning I managed to get around a 10x speedup over biotite. I decided this was worth packaging and so created a [new Python packaged called \"anjl\"](https://alimanfoo.github.io/anjl/) which stands for \"A neighbour-joining library\". "
   ]
  },
  {
   "cell_type": "markdown",
   "id": "b578915f-fe38-4cf7-814e-f69ce39b2077",
   "metadata": {
    "editable": true,
    "slideshow": {
     "slide_type": ""
    },
    "tags": []
   },
   "source": [
    "## Rapid algorithm"
   ]
  },
  {
   "cell_type": "markdown",
   "id": "97089ca6-e994-4952-ae39-6e941212ed58",
   "metadata": {
    "editable": true,
    "slideshow": {
     "slide_type": ""
    },
    "tags": []
   },
   "source": [
    "I also read around a little and found a [paper by Martin Simonsen et al. from 2008](https://pure.au.dk/ws/files/19821675/rapidNJ.pdf) describing a rapid neighbour-joining algorithm which uses some heuristics to avoid doing a full search of the distance matrix in each iteration. While the worst case performance is still $O(n^3)$, in practice scaling is usually better. There is a [C++ implementation of the rapid algorithm](https://github.com/somme89/rapidNJ) but I'd really like something that I can call directly from Python. I added a numba implementation of neighbour-joining based on Simonsen's algorithm to `anjl`. I benchmarked with some mosquito genomic data and performance was substantially improved over the canonical algorithm, and the performance ratio increases with larger sample sizes, showing that scaling is better."
   ]
  },
  {
   "cell_type": "code",
   "execution_count": 3,
   "id": "c73c4b6b-2dd2-42c7-b7a7-f32dc42e9b1e",
   "metadata": {
    "editable": true,
    "slideshow": {
     "slide_type": ""
    },
    "tags": [
     "remove_input"
    ]
   },
   "outputs": [
    {
     "data": {
      "text/html": [
       "        <script type=\"text/javascript\">\n",
       "        window.PlotlyConfig = {MathJaxConfig: 'local'};\n",
       "        if (window.MathJax && window.MathJax.Hub && window.MathJax.Hub.Config) {window.MathJax.Hub.Config({SVG: {font: \"STIX-Web\"}});}\n",
       "        if (typeof require !== 'undefined') {\n",
       "        require.undef(\"plotly\");\n",
       "        requirejs.config({\n",
       "            paths: {\n",
       "                'plotly': ['https://cdn.plot.ly/plotly-2.35.2.min']\n",
       "            }\n",
       "        });\n",
       "        require(['plotly'], function(Plotly) {\n",
       "            window._Plotly = Plotly;\n",
       "        });\n",
       "        }\n",
       "        </script>\n",
       "        "
      ]
     },
     "metadata": {},
     "output_type": "display_data"
    },
    {
     "data": {
      "application/vnd.plotly.v1+json": {
       "config": {
        "plotlyServerURL": "https://plot.ly"
       },
       "data": [
        {
         "error_y": {
          "array": [
           0.002342360755579216,
           0.004094966246043558,
           0.007317703159682696,
           0.021737440608292743,
           0.05007481977108241,
           0.19919396367885536,
           0.06559544085434436
          ]
         },
         "hovertemplate": "implementation=BioPython 1.84<br>size=%{x}<br>time_mean=%{y}<extra></extra>",
         "legendgroup": "BioPython 1.84",
         "line": {
          "color": "#636efa",
          "dash": "solid"
         },
         "marker": {
          "symbol": "circle"
         },
         "mode": "lines",
         "name": "BioPython 1.84",
         "orientation": "v",
         "showlegend": true,
         "type": "scatter",
         "x": [
          50,
          100,
          150,
          200,
          300,
          400,
          500
         ],
         "xaxis": "x",
         "y": [
          0.05434020360310867,
          0.39799340565999347,
          1.3029429912567139,
          3.0449384848276773,
          10.634544531504313,
          26.016510486602783,
          51.703094800313316
         ],
         "yaxis": "y"
        },
        {
         "error_y": {
          "array": [
           2.0928389573206634e-05,
           0.00016774098362880294,
           0.00047578313683074364,
           0.00015240045549085986,
           0.00017266877490484128,
           0.0030086202792576474,
           0.0007296859072007639,
           0.0011547652204980218,
           0.021450206910149698,
           0.0032822668098026666,
           0.0035801654146054894,
           0.004911832892626976,
           0.01148409035024942,
           0.010661875230265898,
           0.011886911873803153,
           0.017052186610701795,
           0.04908030893404001,
           0.005012377189427582,
           0.024591037693756673,
           0.060782467357704636,
           0.09975787595044568,
           0.08596850989029094,
           0.04841841071085851,
           0.15402773172507842
          ]
         },
         "hovertemplate": "implementation=anjl 1.1.1 canonical_nj<br>size=%{x}<br>time_mean=%{y}<extra></extra>",
         "legendgroup": "anjl 1.1.1 canonical_nj",
         "line": {
          "color": "#EF553B",
          "dash": "solid"
         },
         "marker": {
          "symbol": "circle"
         },
         "mode": "lines",
         "name": "anjl 1.1.1 canonical_nj",
         "orientation": "v",
         "showlegend": true,
         "type": "scatter",
         "x": [
          50,
          100,
          150,
          200,
          400,
          600,
          800,
          1000,
          1200,
          1400,
          1600,
          1800,
          2000,
          2200,
          2400,
          2600,
          2800,
          3000,
          3500,
          4000,
          4500,
          5000,
          5500,
          6000
         ],
         "xaxis": "x",
         "y": [
          0.00015060106913246667,
          0.0005741119384765,
          0.0017955303192138331,
          0.0027867952982584335,
          0.016208092371622698,
          0.0511066913604736,
          0.11096008618672683,
          0.21142172813415525,
          0.3756210009256999,
          0.5742394129435221,
          0.8600374857584635,
          1.2530624071757,
          1.7477156321207683,
          2.331657568613688,
          3.0657331943511963,
          3.933810551961263,
          4.9490281740824384,
          6.1656215985616045,
          9.826472759246826,
          14.821157773335775,
          21.208821376164753,
          29.271029472351074,
          39.61203114191691,
          52.14657759666443
         ],
         "yaxis": "y"
        },
        {
         "error_y": {
          "array": [
           0.00013820074377750933,
           8.087990844644414e-05,
           0.00015761331552896805,
           0.0010485153701901902,
           0.0028084955133834445,
           0.0035416262691155154,
           0.009489255648330629,
           0.012434211095355717,
           0.01486352356223185,
           0.028558921158422967,
           0.04090331622460738,
           0.12834637857831352,
           0.15163850490191758,
           0.2715944173569219,
           0.35025234801212674,
           0.42846808506414275,
           0.30504849987004407,
           0.4164851460062872,
           0.5724248894140013,
           0.911575160846661,
           0.8897625019874146,
           0.7126212049459061,
           1.6547902143826854,
           1.034944894799633,
           1.078087756202275,
           0.4154859595800382,
           2.9547620654413302,
           3.602148587311273,
           1.7101972662299565
          ]
         },
         "hovertemplate": "implementation=anjl 1.1.1 rapid_nj<br>size=%{x}<br>time_mean=%{y}<extra></extra>",
         "legendgroup": "anjl 1.1.1 rapid_nj",
         "line": {
          "color": "#00cc96",
          "dash": "solid"
         },
         "marker": {
          "symbol": "circle"
         },
         "mode": "lines",
         "name": "anjl 1.1.1 rapid_nj",
         "orientation": "v",
         "showlegend": true,
         "type": "scatter",
         "x": [
          50,
          100,
          150,
          200,
          400,
          600,
          800,
          1000,
          1200,
          1400,
          1600,
          1800,
          2000,
          2200,
          2400,
          2600,
          2800,
          3000,
          3500,
          4000,
          4500,
          5000,
          5500,
          6000,
          6500,
          7000,
          7500,
          8000,
          8500
         ],
         "xaxis": "x",
         "y": [
          0.0005791187286376333,
          0.0015420118967691668,
          0.0031257470448811,
          0.006105502446492433,
          0.0278391043345133,
          0.0701634089152018,
          0.1288930575052897,
          0.2100884119669596,
          0.3285892804463704,
          0.5045483907063802,
          0.6713635921478271,
          0.9494288762410482,
          1.282903512318929,
          1.7428254286448162,
          2.1675972938537598,
          2.69894806543986,
          3.1329843203226724,
          3.8015451431274414,
          5.395657300949097,
          7.640426238377889,
          10.311384280522665,
          13.157200813293457,
          17.703910986582436,
          21.87873895963033,
          26.524407466252644,
          30.871484359105427,
          36.82432492574056,
          42.622381846110024,
          48.74124598503113
         ],
         "yaxis": "y"
        },
        {
         "error_y": {
          "array": [
           6.331573355143634e-05,
           8.630928192317777e-05,
           0.0006129122793954885,
           0.001164676694891146,
           0.004184325299866742,
           0.009430689629377709,
           0.003699173607082226,
           0.033088012847257514,
           0.010345397352981445,
           0.024090503851819628,
           0.039793344756336994,
           0.08083623777508729,
           0.07866789929888901,
           0.5757776881089315,
           0.1329192626603742,
           0.25944318683102924,
           0.2515305212423704,
           0.7676209659583108
          ]
         },
         "hovertemplate": "implementation=biotite 1.0.1<br>size=%{x}<br>time_mean=%{y}<extra></extra>",
         "legendgroup": "biotite 1.0.1",
         "line": {
          "color": "#ab63fa",
          "dash": "solid"
         },
         "marker": {
          "symbol": "circle"
         },
         "mode": "lines",
         "name": "biotite 1.0.1",
         "orientation": "v",
         "showlegend": true,
         "type": "scatter",
         "x": [
          50,
          100,
          150,
          200,
          400,
          600,
          800,
          1000,
          1200,
          1400,
          1600,
          1800,
          2000,
          2200,
          2400,
          2600,
          2800,
          3000
         ],
         "xaxis": "x",
         "y": [
          0.000615119934082,
          0.0019875367482503,
          0.005505164464314733,
          0.013001044591267835,
          0.096105416615804,
          0.35144416491190594,
          0.8578227361043295,
          1.6981786092122395,
          3.008248964945475,
          4.784360647201538,
          7.236859639485677,
          10.461934169133505,
          14.64695151646932,
          19.735188166300457,
          25.92556405067444,
          33.73522194226583,
          43.50308918952942,
          55.60290916760763
         ],
         "yaxis": "y"
        },
        {
         "error_y": {
          "array": [
           0.009484834021774418,
           0.0009208502420614609,
           0.004008261338004145,
           0.001666786764695313,
           0.0027786588026646243,
           0.01896213130493105,
           0.015614726046027688,
           0.01859890021909487,
           0.2517867138868221,
           0.07638553508036386,
           0.12207832954039298,
           0.1978799689791505,
           0.17268478261980072
          ]
         },
         "hovertemplate": "implementation=scikit-bio 0.6.2<br>size=%{x}<br>time_mean=%{y}<extra></extra>",
         "legendgroup": "scikit-bio 0.6.2",
         "line": {
          "color": "#FFA15A",
          "dash": "solid"
         },
         "marker": {
          "symbol": "circle"
         },
         "mode": "lines",
         "name": "scikit-bio 0.6.2",
         "orientation": "v",
         "showlegend": true,
         "type": "scatter",
         "x": [
          50,
          100,
          150,
          200,
          400,
          600,
          800,
          1000,
          1200,
          1400,
          1600,
          1800,
          2000
         ],
         "xaxis": "x",
         "y": [
          0.018701632817586234,
          0.030483722686767533,
          0.05869301160176593,
          0.09025247891743975,
          0.39748581250508624,
          1.3443105220794678,
          3.23288631439209,
          6.5108083089192705,
          11.383477846781412,
          17.658929427464802,
          26.145233869552612,
          37.55680012702942,
          50.84925858179728
         ],
         "yaxis": "y"
        }
       ],
       "layout": {
        "height": 500,
        "legend": {
         "title": {
          "text": "implementation"
         },
         "tracegroupgap": 0
        },
        "margin": {
         "t": 60
        },
        "template": {
         "data": {
          "bar": [
           {
            "error_x": {
             "color": "#2a3f5f"
            },
            "error_y": {
             "color": "#2a3f5f"
            },
            "marker": {
             "line": {
              "color": "#E5ECF6",
              "width": 0.5
             },
             "pattern": {
              "fillmode": "overlay",
              "size": 10,
              "solidity": 0.2
             }
            },
            "type": "bar"
           }
          ],
          "barpolar": [
           {
            "marker": {
             "line": {
              "color": "#E5ECF6",
              "width": 0.5
             },
             "pattern": {
              "fillmode": "overlay",
              "size": 10,
              "solidity": 0.2
             }
            },
            "type": "barpolar"
           }
          ],
          "carpet": [
           {
            "aaxis": {
             "endlinecolor": "#2a3f5f",
             "gridcolor": "white",
             "linecolor": "white",
             "minorgridcolor": "white",
             "startlinecolor": "#2a3f5f"
            },
            "baxis": {
             "endlinecolor": "#2a3f5f",
             "gridcolor": "white",
             "linecolor": "white",
             "minorgridcolor": "white",
             "startlinecolor": "#2a3f5f"
            },
            "type": "carpet"
           }
          ],
          "choropleth": [
           {
            "colorbar": {
             "outlinewidth": 0,
             "ticks": ""
            },
            "type": "choropleth"
           }
          ],
          "contour": [
           {
            "colorbar": {
             "outlinewidth": 0,
             "ticks": ""
            },
            "colorscale": [
             [
              0,
              "#0d0887"
             ],
             [
              0.1111111111111111,
              "#46039f"
             ],
             [
              0.2222222222222222,
              "#7201a8"
             ],
             [
              0.3333333333333333,
              "#9c179e"
             ],
             [
              0.4444444444444444,
              "#bd3786"
             ],
             [
              0.5555555555555556,
              "#d8576b"
             ],
             [
              0.6666666666666666,
              "#ed7953"
             ],
             [
              0.7777777777777778,
              "#fb9f3a"
             ],
             [
              0.8888888888888888,
              "#fdca26"
             ],
             [
              1,
              "#f0f921"
             ]
            ],
            "type": "contour"
           }
          ],
          "contourcarpet": [
           {
            "colorbar": {
             "outlinewidth": 0,
             "ticks": ""
            },
            "type": "contourcarpet"
           }
          ],
          "heatmap": [
           {
            "colorbar": {
             "outlinewidth": 0,
             "ticks": ""
            },
            "colorscale": [
             [
              0,
              "#0d0887"
             ],
             [
              0.1111111111111111,
              "#46039f"
             ],
             [
              0.2222222222222222,
              "#7201a8"
             ],
             [
              0.3333333333333333,
              "#9c179e"
             ],
             [
              0.4444444444444444,
              "#bd3786"
             ],
             [
              0.5555555555555556,
              "#d8576b"
             ],
             [
              0.6666666666666666,
              "#ed7953"
             ],
             [
              0.7777777777777778,
              "#fb9f3a"
             ],
             [
              0.8888888888888888,
              "#fdca26"
             ],
             [
              1,
              "#f0f921"
             ]
            ],
            "type": "heatmap"
           }
          ],
          "heatmapgl": [
           {
            "colorbar": {
             "outlinewidth": 0,
             "ticks": ""
            },
            "colorscale": [
             [
              0,
              "#0d0887"
             ],
             [
              0.1111111111111111,
              "#46039f"
             ],
             [
              0.2222222222222222,
              "#7201a8"
             ],
             [
              0.3333333333333333,
              "#9c179e"
             ],
             [
              0.4444444444444444,
              "#bd3786"
             ],
             [
              0.5555555555555556,
              "#d8576b"
             ],
             [
              0.6666666666666666,
              "#ed7953"
             ],
             [
              0.7777777777777778,
              "#fb9f3a"
             ],
             [
              0.8888888888888888,
              "#fdca26"
             ],
             [
              1,
              "#f0f921"
             ]
            ],
            "type": "heatmapgl"
           }
          ],
          "histogram": [
           {
            "marker": {
             "pattern": {
              "fillmode": "overlay",
              "size": 10,
              "solidity": 0.2
             }
            },
            "type": "histogram"
           }
          ],
          "histogram2d": [
           {
            "colorbar": {
             "outlinewidth": 0,
             "ticks": ""
            },
            "colorscale": [
             [
              0,
              "#0d0887"
             ],
             [
              0.1111111111111111,
              "#46039f"
             ],
             [
              0.2222222222222222,
              "#7201a8"
             ],
             [
              0.3333333333333333,
              "#9c179e"
             ],
             [
              0.4444444444444444,
              "#bd3786"
             ],
             [
              0.5555555555555556,
              "#d8576b"
             ],
             [
              0.6666666666666666,
              "#ed7953"
             ],
             [
              0.7777777777777778,
              "#fb9f3a"
             ],
             [
              0.8888888888888888,
              "#fdca26"
             ],
             [
              1,
              "#f0f921"
             ]
            ],
            "type": "histogram2d"
           }
          ],
          "histogram2dcontour": [
           {
            "colorbar": {
             "outlinewidth": 0,
             "ticks": ""
            },
            "colorscale": [
             [
              0,
              "#0d0887"
             ],
             [
              0.1111111111111111,
              "#46039f"
             ],
             [
              0.2222222222222222,
              "#7201a8"
             ],
             [
              0.3333333333333333,
              "#9c179e"
             ],
             [
              0.4444444444444444,
              "#bd3786"
             ],
             [
              0.5555555555555556,
              "#d8576b"
             ],
             [
              0.6666666666666666,
              "#ed7953"
             ],
             [
              0.7777777777777778,
              "#fb9f3a"
             ],
             [
              0.8888888888888888,
              "#fdca26"
             ],
             [
              1,
              "#f0f921"
             ]
            ],
            "type": "histogram2dcontour"
           }
          ],
          "mesh3d": [
           {
            "colorbar": {
             "outlinewidth": 0,
             "ticks": ""
            },
            "type": "mesh3d"
           }
          ],
          "parcoords": [
           {
            "line": {
             "colorbar": {
              "outlinewidth": 0,
              "ticks": ""
             }
            },
            "type": "parcoords"
           }
          ],
          "pie": [
           {
            "automargin": true,
            "type": "pie"
           }
          ],
          "scatter": [
           {
            "fillpattern": {
             "fillmode": "overlay",
             "size": 10,
             "solidity": 0.2
            },
            "type": "scatter"
           }
          ],
          "scatter3d": [
           {
            "line": {
             "colorbar": {
              "outlinewidth": 0,
              "ticks": ""
             }
            },
            "marker": {
             "colorbar": {
              "outlinewidth": 0,
              "ticks": ""
             }
            },
            "type": "scatter3d"
           }
          ],
          "scattercarpet": [
           {
            "marker": {
             "colorbar": {
              "outlinewidth": 0,
              "ticks": ""
             }
            },
            "type": "scattercarpet"
           }
          ],
          "scattergeo": [
           {
            "marker": {
             "colorbar": {
              "outlinewidth": 0,
              "ticks": ""
             }
            },
            "type": "scattergeo"
           }
          ],
          "scattergl": [
           {
            "marker": {
             "colorbar": {
              "outlinewidth": 0,
              "ticks": ""
             }
            },
            "type": "scattergl"
           }
          ],
          "scattermapbox": [
           {
            "marker": {
             "colorbar": {
              "outlinewidth": 0,
              "ticks": ""
             }
            },
            "type": "scattermapbox"
           }
          ],
          "scatterpolar": [
           {
            "marker": {
             "colorbar": {
              "outlinewidth": 0,
              "ticks": ""
             }
            },
            "type": "scatterpolar"
           }
          ],
          "scatterpolargl": [
           {
            "marker": {
             "colorbar": {
              "outlinewidth": 0,
              "ticks": ""
             }
            },
            "type": "scatterpolargl"
           }
          ],
          "scatterternary": [
           {
            "marker": {
             "colorbar": {
              "outlinewidth": 0,
              "ticks": ""
             }
            },
            "type": "scatterternary"
           }
          ],
          "surface": [
           {
            "colorbar": {
             "outlinewidth": 0,
             "ticks": ""
            },
            "colorscale": [
             [
              0,
              "#0d0887"
             ],
             [
              0.1111111111111111,
              "#46039f"
             ],
             [
              0.2222222222222222,
              "#7201a8"
             ],
             [
              0.3333333333333333,
              "#9c179e"
             ],
             [
              0.4444444444444444,
              "#bd3786"
             ],
             [
              0.5555555555555556,
              "#d8576b"
             ],
             [
              0.6666666666666666,
              "#ed7953"
             ],
             [
              0.7777777777777778,
              "#fb9f3a"
             ],
             [
              0.8888888888888888,
              "#fdca26"
             ],
             [
              1,
              "#f0f921"
             ]
            ],
            "type": "surface"
           }
          ],
          "table": [
           {
            "cells": {
             "fill": {
              "color": "#EBF0F8"
             },
             "line": {
              "color": "white"
             }
            },
            "header": {
             "fill": {
              "color": "#C8D4E3"
             },
             "line": {
              "color": "white"
             }
            },
            "type": "table"
           }
          ]
         },
         "layout": {
          "annotationdefaults": {
           "arrowcolor": "#2a3f5f",
           "arrowhead": 0,
           "arrowwidth": 1
          },
          "autotypenumbers": "strict",
          "coloraxis": {
           "colorbar": {
            "outlinewidth": 0,
            "ticks": ""
           }
          },
          "colorscale": {
           "diverging": [
            [
             0,
             "#8e0152"
            ],
            [
             0.1,
             "#c51b7d"
            ],
            [
             0.2,
             "#de77ae"
            ],
            [
             0.3,
             "#f1b6da"
            ],
            [
             0.4,
             "#fde0ef"
            ],
            [
             0.5,
             "#f7f7f7"
            ],
            [
             0.6,
             "#e6f5d0"
            ],
            [
             0.7,
             "#b8e186"
            ],
            [
             0.8,
             "#7fbc41"
            ],
            [
             0.9,
             "#4d9221"
            ],
            [
             1,
             "#276419"
            ]
           ],
           "sequential": [
            [
             0,
             "#0d0887"
            ],
            [
             0.1111111111111111,
             "#46039f"
            ],
            [
             0.2222222222222222,
             "#7201a8"
            ],
            [
             0.3333333333333333,
             "#9c179e"
            ],
            [
             0.4444444444444444,
             "#bd3786"
            ],
            [
             0.5555555555555556,
             "#d8576b"
            ],
            [
             0.6666666666666666,
             "#ed7953"
            ],
            [
             0.7777777777777778,
             "#fb9f3a"
            ],
            [
             0.8888888888888888,
             "#fdca26"
            ],
            [
             1,
             "#f0f921"
            ]
           ],
           "sequentialminus": [
            [
             0,
             "#0d0887"
            ],
            [
             0.1111111111111111,
             "#46039f"
            ],
            [
             0.2222222222222222,
             "#7201a8"
            ],
            [
             0.3333333333333333,
             "#9c179e"
            ],
            [
             0.4444444444444444,
             "#bd3786"
            ],
            [
             0.5555555555555556,
             "#d8576b"
            ],
            [
             0.6666666666666666,
             "#ed7953"
            ],
            [
             0.7777777777777778,
             "#fb9f3a"
            ],
            [
             0.8888888888888888,
             "#fdca26"
            ],
            [
             1,
             "#f0f921"
            ]
           ]
          },
          "colorway": [
           "#636efa",
           "#EF553B",
           "#00cc96",
           "#ab63fa",
           "#FFA15A",
           "#19d3f3",
           "#FF6692",
           "#B6E880",
           "#FF97FF",
           "#FECB52"
          ],
          "font": {
           "color": "#2a3f5f"
          },
          "geo": {
           "bgcolor": "white",
           "lakecolor": "white",
           "landcolor": "#E5ECF6",
           "showlakes": true,
           "showland": true,
           "subunitcolor": "white"
          },
          "hoverlabel": {
           "align": "left"
          },
          "hovermode": "closest",
          "mapbox": {
           "style": "light"
          },
          "paper_bgcolor": "white",
          "plot_bgcolor": "#E5ECF6",
          "polar": {
           "angularaxis": {
            "gridcolor": "white",
            "linecolor": "white",
            "ticks": ""
           },
           "bgcolor": "#E5ECF6",
           "radialaxis": {
            "gridcolor": "white",
            "linecolor": "white",
            "ticks": ""
           }
          },
          "scene": {
           "xaxis": {
            "backgroundcolor": "#E5ECF6",
            "gridcolor": "white",
            "gridwidth": 2,
            "linecolor": "white",
            "showbackground": true,
            "ticks": "",
            "zerolinecolor": "white"
           },
           "yaxis": {
            "backgroundcolor": "#E5ECF6",
            "gridcolor": "white",
            "gridwidth": 2,
            "linecolor": "white",
            "showbackground": true,
            "ticks": "",
            "zerolinecolor": "white"
           },
           "zaxis": {
            "backgroundcolor": "#E5ECF6",
            "gridcolor": "white",
            "gridwidth": 2,
            "linecolor": "white",
            "showbackground": true,
            "ticks": "",
            "zerolinecolor": "white"
           }
          },
          "shapedefaults": {
           "line": {
            "color": "#2a3f5f"
           }
          },
          "ternary": {
           "aaxis": {
            "gridcolor": "white",
            "linecolor": "white",
            "ticks": ""
           },
           "baxis": {
            "gridcolor": "white",
            "linecolor": "white",
            "ticks": ""
           },
           "bgcolor": "#E5ECF6",
           "caxis": {
            "gridcolor": "white",
            "linecolor": "white",
            "ticks": ""
           }
          },
          "title": {
           "x": 0.05
          },
          "xaxis": {
           "automargin": true,
           "gridcolor": "white",
           "linecolor": "white",
           "ticks": "",
           "title": {
            "standoff": 15
           },
           "zerolinecolor": "white",
           "zerolinewidth": 2
          },
          "yaxis": {
           "automargin": true,
           "gridcolor": "white",
           "linecolor": "white",
           "ticks": "",
           "title": {
            "standoff": 15
           },
           "zerolinecolor": "white",
           "zerolinewidth": 2
          }
         }
        },
        "title": {
         "text": "Neighbour-joining performance"
        },
        "width": 800,
        "xaxis": {
         "anchor": "y",
         "autorange": true,
         "domain": [
          0,
          1
         ],
         "range": [
          -419.44444444444446,
          8969.444444444445
         ],
         "title": {
          "text": "No. observations (distance matrix size)"
         },
         "type": "linear"
        },
        "yaxis": {
         "anchor": "x",
         "autorange": true,
         "domain": [
          0,
          1
         ],
         "range": [
          -3.1315592418141285,
          59.50221904805962
         ],
         "title": {
          "text": "Time (s)"
         },
         "type": "linear"
        }
       }
      },
      "image/png": "[encoded data removed]",
      "text/html": [
       "<div>                            <div id=\"b95a2067-aebc-4001-8f30-e41dda929087\" class=\"plotly-graph-div\" style=\"height:500px; width:800px;\"></div>            <script type=\"text/javascript\">                require([\"plotly\"], function(Plotly) {                    window.PLOTLYENV=window.PLOTLYENV || {};                                    if (document.getElementById(\"b95a2067-aebc-4001-8f30-e41dda929087\")) {                    Plotly.newPlot(                        \"b95a2067-aebc-4001-8f30-e41dda929087\",                        [{\"error_y\":{\"array\":[0.002342360755579216,0.004094966246043558,0.007317703159682696,0.021737440608292743,0.05007481977108241,0.19919396367885536,0.06559544085434436]},\"hovertemplate\":\"implementation=BioPython 1.84\\u003cbr\\u003esize=%{x}\\u003cbr\\u003etime_mean=%{y}\\u003cextra\\u003e\\u003c\\u002fextra\\u003e\",\"legendgroup\":\"BioPython 1.84\",\"line\":{\"color\":\"#636efa\",\"dash\":\"solid\"},\"marker\":{\"symbol\":\"circle\"},\"mode\":\"lines\",\"name\":\"BioPython 1.84\",\"orientation\":\"v\",\"showlegend\":true,\"x\":[50,100,150,200,300,400,500],\"xaxis\":\"x\",\"y\":[0.05434020360310867,0.39799340565999347,1.3029429912567139,3.0449384848276773,10.634544531504313,26.016510486602783,51.703094800313316],\"yaxis\":\"y\",\"type\":\"scatter\"},{\"error_y\":{\"array\":[2.0928389573206634e-05,0.00016774098362880294,0.00047578313683074364,0.00015240045549085986,0.00017266877490484128,0.0030086202792576474,0.0007296859072007639,0.0011547652204980218,0.021450206910149698,0.0032822668098026666,0.0035801654146054894,0.004911832892626976,0.01148409035024942,0.010661875230265898,0.011886911873803153,0.017052186610701795,0.04908030893404001,0.005012377189427582,0.024591037693756673,0.060782467357704636,0.09975787595044568,0.08596850989029094,0.04841841071085851,0.15402773172507842]},\"hovertemplate\":\"implementation=anjl 1.1.1 canonical_nj\\u003cbr\\u003esize=%{x}\\u003cbr\\u003etime_mean=%{y}\\u003cextra\\u003e\\u003c\\u002fextra\\u003e\",\"legendgroup\":\"anjl 1.1.1 canonical_nj\",\"line\":{\"color\":\"#EF553B\",\"dash\":\"solid\"},\"marker\":{\"symbol\":\"circle\"},\"mode\":\"lines\",\"name\":\"anjl 1.1.1 canonical_nj\",\"orientation\":\"v\",\"showlegend\":true,\"x\":[50,100,150,200,400,600,800,1000,1200,1400,1600,1800,2000,2200,2400,2600,2800,3000,3500,4000,4500,5000,5500,6000],\"xaxis\":\"x\",\"y\":[0.00015060106913246667,0.0005741119384765,0.0017955303192138331,0.0027867952982584335,0.016208092371622698,0.0511066913604736,0.11096008618672683,0.21142172813415525,0.3756210009256999,0.5742394129435221,0.8600374857584635,1.2530624071757,1.7477156321207683,2.331657568613688,3.0657331943511963,3.933810551961263,4.9490281740824384,6.1656215985616045,9.826472759246826,14.821157773335775,21.208821376164753,29.271029472351074,39.61203114191691,52.14657759666443],\"yaxis\":\"y\",\"type\":\"scatter\"},{\"error_y\":{\"array\":[0.00013820074377750933,8.087990844644414e-05,0.00015761331552896805,0.0010485153701901902,0.0028084955133834445,0.0035416262691155154,0.009489255648330629,0.012434211095355717,0.01486352356223185,0.028558921158422967,0.04090331622460738,0.12834637857831352,0.15163850490191758,0.2715944173569219,0.35025234801212674,0.42846808506414275,0.30504849987004407,0.4164851460062872,0.5724248894140013,0.911575160846661,0.8897625019874146,0.7126212049459061,1.6547902143826854,1.034944894799633,1.078087756202275,0.4154859595800382,2.9547620654413302,3.602148587311273,1.7101972662299565]},\"hovertemplate\":\"implementation=anjl 1.1.1 rapid_nj\\u003cbr\\u003esize=%{x}\\u003cbr\\u003etime_mean=%{y}\\u003cextra\\u003e\\u003c\\u002fextra\\u003e\",\"legendgroup\":\"anjl 1.1.1 rapid_nj\",\"line\":{\"color\":\"#00cc96\",\"dash\":\"solid\"},\"marker\":{\"symbol\":\"circle\"},\"mode\":\"lines\",\"name\":\"anjl 1.1.1 rapid_nj\",\"orientation\":\"v\",\"showlegend\":true,\"x\":[50,100,150,200,400,600,800,1000,1200,1400,1600,1800,2000,2200,2400,2600,2800,3000,3500,4000,4500,5000,5500,6000,6500,7000,7500,8000,8500],\"xaxis\":\"x\",\"y\":[0.0005791187286376333,0.0015420118967691668,0.0031257470448811,0.006105502446492433,0.0278391043345133,0.0701634089152018,0.1288930575052897,0.2100884119669596,0.3285892804463704,0.5045483907063802,0.6713635921478271,0.9494288762410482,1.282903512318929,1.7428254286448162,2.1675972938537598,2.69894806543986,3.1329843203226724,3.8015451431274414,5.395657300949097,7.640426238377889,10.311384280522665,13.157200813293457,17.703910986582436,21.87873895963033,26.524407466252644,30.871484359105427,36.82432492574056,42.622381846110024,48.74124598503113],\"yaxis\":\"y\",\"type\":\"scatter\"},{\"error_y\":{\"array\":[6.331573355143634e-05,8.630928192317777e-05,0.0006129122793954885,0.001164676694891146,0.004184325299866742,0.009430689629377709,0.003699173607082226,0.033088012847257514,0.010345397352981445,0.024090503851819628,0.039793344756336994,0.08083623777508729,0.07866789929888901,0.5757776881089315,0.1329192626603742,0.25944318683102924,0.2515305212423704,0.7676209659583108]},\"hovertemplate\":\"implementation=biotite 1.0.1\\u003cbr\\u003esize=%{x}\\u003cbr\\u003etime_mean=%{y}\\u003cextra\\u003e\\u003c\\u002fextra\\u003e\",\"legendgroup\":\"biotite 1.0.1\",\"line\":{\"color\":\"#ab63fa\",\"dash\":\"solid\"},\"marker\":{\"symbol\":\"circle\"},\"mode\":\"lines\",\"name\":\"biotite 1.0.1\",\"orientation\":\"v\",\"showlegend\":true,\"x\":[50,100,150,200,400,600,800,1000,1200,1400,1600,1800,2000,2200,2400,2600,2800,3000],\"xaxis\":\"x\",\"y\":[0.000615119934082,0.0019875367482503,0.005505164464314733,0.013001044591267835,0.096105416615804,0.35144416491190594,0.8578227361043295,1.6981786092122395,3.008248964945475,4.784360647201538,7.236859639485677,10.461934169133505,14.64695151646932,19.735188166300457,25.92556405067444,33.73522194226583,43.50308918952942,55.60290916760763],\"yaxis\":\"y\",\"type\":\"scatter\"},{\"error_y\":{\"array\":[0.009484834021774418,0.0009208502420614609,0.004008261338004145,0.001666786764695313,0.0027786588026646243,0.01896213130493105,0.015614726046027688,0.01859890021909487,0.2517867138868221,0.07638553508036386,0.12207832954039298,0.1978799689791505,0.17268478261980072]},\"hovertemplate\":\"implementation=scikit-bio 0.6.2\\u003cbr\\u003esize=%{x}\\u003cbr\\u003etime_mean=%{y}\\u003cextra\\u003e\\u003c\\u002fextra\\u003e\",\"legendgroup\":\"scikit-bio 0.6.2\",\"line\":{\"color\":\"#FFA15A\",\"dash\":\"solid\"},\"marker\":{\"symbol\":\"circle\"},\"mode\":\"lines\",\"name\":\"scikit-bio 0.6.2\",\"orientation\":\"v\",\"showlegend\":true,\"x\":[50,100,150,200,400,600,800,1000,1200,1400,1600,1800,2000],\"xaxis\":\"x\",\"y\":[0.018701632817586234,0.030483722686767533,0.05869301160176593,0.09025247891743975,0.39748581250508624,1.3443105220794678,3.23288631439209,6.5108083089192705,11.383477846781412,17.658929427464802,26.145233869552612,37.55680012702942,50.84925858179728],\"yaxis\":\"y\",\"type\":\"scatter\"}],                        {\"template\":{\"data\":{\"histogram2dcontour\":[{\"type\":\"histogram2dcontour\",\"colorbar\":{\"outlinewidth\":0,\"ticks\":\"\"},\"colorscale\":[[0.0,\"#0d0887\"],[0.1111111111111111,\"#46039f\"],[0.2222222222222222,\"#7201a8\"],[0.3333333333333333,\"#9c179e\"],[0.4444444444444444,\"#bd3786\"],[0.5555555555555556,\"#d8576b\"],[0.6666666666666666,\"#ed7953\"],[0.7777777777777778,\"#fb9f3a\"],[0.8888888888888888,\"#fdca26\"],[1.0,\"#f0f921\"]]}],\"choropleth\":[{\"type\":\"choropleth\",\"colorbar\":{\"outlinewidth\":0,\"ticks\":\"\"}}],\"histogram2d\":[{\"type\":\"histogram2d\",\"colorbar\":{\"outlinewidth\":0,\"ticks\":\"\"},\"colorscale\":[[0.0,\"#0d0887\"],[0.1111111111111111,\"#46039f\"],[0.2222222222222222,\"#7201a8\"],[0.3333333333333333,\"#9c179e\"],[0.4444444444444444,\"#bd3786\"],[0.5555555555555556,\"#d8576b\"],[0.6666666666666666,\"#ed7953\"],[0.7777777777777778,\"#fb9f3a\"],[0.8888888888888888,\"#fdca26\"],[1.0,\"#f0f921\"]]}],\"heatmap\":[{\"type\":\"heatmap\",\"colorbar\":{\"outlinewidth\":0,\"ticks\":\"\"},\"colorscale\":[[0.0,\"#0d0887\"],[0.1111111111111111,\"#46039f\"],[0.2222222222222222,\"#7201a8\"],[0.3333333333333333,\"#9c179e\"],[0.4444444444444444,\"#bd3786\"],[0.5555555555555556,\"#d8576b\"],[0.6666666666666666,\"#ed7953\"],[0.7777777777777778,\"#fb9f3a\"],[0.8888888888888888,\"#fdca26\"],[1.0,\"#f0f921\"]]}],\"heatmapgl\":[{\"type\":\"heatmapgl\",\"colorbar\":{\"outlinewidth\":0,\"ticks\":\"\"},\"colorscale\":[[0.0,\"#0d0887\"],[0.1111111111111111,\"#46039f\"],[0.2222222222222222,\"#7201a8\"],[0.3333333333333333,\"#9c179e\"],[0.4444444444444444,\"#bd3786\"],[0.5555555555555556,\"#d8576b\"],[0.6666666666666666,\"#ed7953\"],[0.7777777777777778,\"#fb9f3a\"],[0.8888888888888888,\"#fdca26\"],[1.0,\"#f0f921\"]]}],\"contourcarpet\":[{\"type\":\"contourcarpet\",\"colorbar\":{\"outlinewidth\":0,\"ticks\":\"\"}}],\"contour\":[{\"type\":\"contour\",\"colorbar\":{\"outlinewidth\":0,\"ticks\":\"\"},\"colorscale\":[[0.0,\"#0d0887\"],[0.1111111111111111,\"#46039f\"],[0.2222222222222222,\"#7201a8\"],[0.3333333333333333,\"#9c179e\"],[0.4444444444444444,\"#bd3786\"],[0.5555555555555556,\"#d8576b\"],[0.6666666666666666,\"#ed7953\"],[0.7777777777777778,\"#fb9f3a\"],[0.8888888888888888,\"#fdca26\"],[1.0,\"#f0f921\"]]}],\"surface\":[{\"type\":\"surface\",\"colorbar\":{\"outlinewidth\":0,\"ticks\":\"\"},\"colorscale\":[[0.0,\"#0d0887\"],[0.1111111111111111,\"#46039f\"],[0.2222222222222222,\"#7201a8\"],[0.3333333333333333,\"#9c179e\"],[0.4444444444444444,\"#bd3786\"],[0.5555555555555556,\"#d8576b\"],[0.6666666666666666,\"#ed7953\"],[0.7777777777777778,\"#fb9f3a\"],[0.8888888888888888,\"#fdca26\"],[1.0,\"#f0f921\"]]}],\"mesh3d\":[{\"type\":\"mesh3d\",\"colorbar\":{\"outlinewidth\":0,\"ticks\":\"\"}}],\"scatter\":[{\"fillpattern\":{\"fillmode\":\"overlay\",\"size\":10,\"solidity\":0.2},\"type\":\"scatter\"}],\"parcoords\":[{\"type\":\"parcoords\",\"line\":{\"colorbar\":{\"outlinewidth\":0,\"ticks\":\"\"}}}],\"scatterpolargl\":[{\"type\":\"scatterpolargl\",\"marker\":{\"colorbar\":{\"outlinewidth\":0,\"ticks\":\"\"}}}],\"bar\":[{\"error_x\":{\"color\":\"#2a3f5f\"},\"error_y\":{\"color\":\"#2a3f5f\"},\"marker\":{\"line\":{\"color\":\"#E5ECF6\",\"width\":0.5},\"pattern\":{\"fillmode\":\"overlay\",\"size\":10,\"solidity\":0.2}},\"type\":\"bar\"}],\"scattergeo\":[{\"type\":\"scattergeo\",\"marker\":{\"colorbar\":{\"outlinewidth\":0,\"ticks\":\"\"}}}],\"scatterpolar\":[{\"type\":\"scatterpolar\",\"marker\":{\"colorbar\":{\"outlinewidth\":0,\"ticks\":\"\"}}}],\"histogram\":[{\"marker\":{\"pattern\":{\"fillmode\":\"overlay\",\"size\":10,\"solidity\":0.2}},\"type\":\"histogram\"}],\"scattergl\":[{\"type\":\"scattergl\",\"marker\":{\"colorbar\":{\"outlinewidth\":0,\"ticks\":\"\"}}}],\"scatter3d\":[{\"type\":\"scatter3d\",\"line\":{\"colorbar\":{\"outlinewidth\":0,\"ticks\":\"\"}},\"marker\":{\"colorbar\":{\"outlinewidth\":0,\"ticks\":\"\"}}}],\"scattermapbox\":[{\"type\":\"scattermapbox\",\"marker\":{\"colorbar\":{\"outlinewidth\":0,\"ticks\":\"\"}}}],\"scatterternary\":[{\"type\":\"scatterternary\",\"marker\":{\"colorbar\":{\"outlinewidth\":0,\"ticks\":\"\"}}}],\"scattercarpet\":[{\"type\":\"scattercarpet\",\"marker\":{\"colorbar\":{\"outlinewidth\":0,\"ticks\":\"\"}}}],\"carpet\":[{\"aaxis\":{\"endlinecolor\":\"#2a3f5f\",\"gridcolor\":\"white\",\"linecolor\":\"white\",\"minorgridcolor\":\"white\",\"startlinecolor\":\"#2a3f5f\"},\"baxis\":{\"endlinecolor\":\"#2a3f5f\",\"gridcolor\":\"white\",\"linecolor\":\"white\",\"minorgridcolor\":\"white\",\"startlinecolor\":\"#2a3f5f\"},\"type\":\"carpet\"}],\"table\":[{\"cells\":{\"fill\":{\"color\":\"#EBF0F8\"},\"line\":{\"color\":\"white\"}},\"header\":{\"fill\":{\"color\":\"#C8D4E3\"},\"line\":{\"color\":\"white\"}},\"type\":\"table\"}],\"barpolar\":[{\"marker\":{\"line\":{\"color\":\"#E5ECF6\",\"width\":0.5},\"pattern\":{\"fillmode\":\"overlay\",\"size\":10,\"solidity\":0.2}},\"type\":\"barpolar\"}],\"pie\":[{\"automargin\":true,\"type\":\"pie\"}]},\"layout\":{\"autotypenumbers\":\"strict\",\"colorway\":[\"#636efa\",\"#EF553B\",\"#00cc96\",\"#ab63fa\",\"#FFA15A\",\"#19d3f3\",\"#FF6692\",\"#B6E880\",\"#FF97FF\",\"#FECB52\"],\"font\":{\"color\":\"#2a3f5f\"},\"hovermode\":\"closest\",\"hoverlabel\":{\"align\":\"left\"},\"paper_bgcolor\":\"white\",\"plot_bgcolor\":\"#E5ECF6\",\"polar\":{\"bgcolor\":\"#E5ECF6\",\"angularaxis\":{\"gridcolor\":\"white\",\"linecolor\":\"white\",\"ticks\":\"\"},\"radialaxis\":{\"gridcolor\":\"white\",\"linecolor\":\"white\",\"ticks\":\"\"}},\"ternary\":{\"bgcolor\":\"#E5ECF6\",\"aaxis\":{\"gridcolor\":\"white\",\"linecolor\":\"white\",\"ticks\":\"\"},\"baxis\":{\"gridcolor\":\"white\",\"linecolor\":\"white\",\"ticks\":\"\"},\"caxis\":{\"gridcolor\":\"white\",\"linecolor\":\"white\",\"ticks\":\"\"}},\"coloraxis\":{\"colorbar\":{\"outlinewidth\":0,\"ticks\":\"\"}},\"colorscale\":{\"sequential\":[[0.0,\"#0d0887\"],[0.1111111111111111,\"#46039f\"],[0.2222222222222222,\"#7201a8\"],[0.3333333333333333,\"#9c179e\"],[0.4444444444444444,\"#bd3786\"],[0.5555555555555556,\"#d8576b\"],[0.6666666666666666,\"#ed7953\"],[0.7777777777777778,\"#fb9f3a\"],[0.8888888888888888,\"#fdca26\"],[1.0,\"#f0f921\"]],\"sequentialminus\":[[0.0,\"#0d0887\"],[0.1111111111111111,\"#46039f\"],[0.2222222222222222,\"#7201a8\"],[0.3333333333333333,\"#9c179e\"],[0.4444444444444444,\"#bd3786\"],[0.5555555555555556,\"#d8576b\"],[0.6666666666666666,\"#ed7953\"],[0.7777777777777778,\"#fb9f3a\"],[0.8888888888888888,\"#fdca26\"],[1.0,\"#f0f921\"]],\"diverging\":[[0,\"#8e0152\"],[0.1,\"#c51b7d\"],[0.2,\"#de77ae\"],[0.3,\"#f1b6da\"],[0.4,\"#fde0ef\"],[0.5,\"#f7f7f7\"],[0.6,\"#e6f5d0\"],[0.7,\"#b8e186\"],[0.8,\"#7fbc41\"],[0.9,\"#4d9221\"],[1,\"#276419\"]]},\"xaxis\":{\"gridcolor\":\"white\",\"linecolor\":\"white\",\"ticks\":\"\",\"title\":{\"standoff\":15},\"zerolinecolor\":\"white\",\"automargin\":true,\"zerolinewidth\":2},\"yaxis\":{\"gridcolor\":\"white\",\"linecolor\":\"white\",\"ticks\":\"\",\"title\":{\"standoff\":15},\"zerolinecolor\":\"white\",\"automargin\":true,\"zerolinewidth\":2},\"scene\":{\"xaxis\":{\"backgroundcolor\":\"#E5ECF6\",\"gridcolor\":\"white\",\"linecolor\":\"white\",\"showbackground\":true,\"ticks\":\"\",\"zerolinecolor\":\"white\",\"gridwidth\":2},\"yaxis\":{\"backgroundcolor\":\"#E5ECF6\",\"gridcolor\":\"white\",\"linecolor\":\"white\",\"showbackground\":true,\"ticks\":\"\",\"zerolinecolor\":\"white\",\"gridwidth\":2},\"zaxis\":{\"backgroundcolor\":\"#E5ECF6\",\"gridcolor\":\"white\",\"linecolor\":\"white\",\"showbackground\":true,\"ticks\":\"\",\"zerolinecolor\":\"white\",\"gridwidth\":2}},\"shapedefaults\":{\"line\":{\"color\":\"#2a3f5f\"}},\"annotationdefaults\":{\"arrowcolor\":\"#2a3f5f\",\"arrowhead\":0,\"arrowwidth\":1},\"geo\":{\"bgcolor\":\"white\",\"landcolor\":\"#E5ECF6\",\"subunitcolor\":\"white\",\"showland\":true,\"showlakes\":true,\"lakecolor\":\"white\"},\"title\":{\"x\":0.05},\"mapbox\":{\"style\":\"light\"}}},\"xaxis\":{\"anchor\":\"y\",\"domain\":[0.0,1.0],\"title\":{\"text\":\"No. observations (distance matrix size)\"}},\"yaxis\":{\"anchor\":\"x\",\"domain\":[0.0,1.0],\"title\":{\"text\":\"Time (s)\"}},\"legend\":{\"title\":{\"text\":\"implementation\"},\"tracegroupgap\":0},\"margin\":{\"t\":60},\"height\":500,\"width\":800,\"title\":{\"text\":\"Neighbour-joining performance\"}},                        {\"responsive\": true}                    ).then(function(){\n",
       "                            \n",
       "var gd = document.getElementById('b95a2067-aebc-4001-8f30-e41dda929087');\n",
       "var x = new MutationObserver(function (mutations, observer) {{\n",
       "        var display = window.getComputedStyle(gd).display;\n",
       "        if (!display || display === 'none') {{\n",
       "            console.log([gd, 'removed!']);\n",
       "            Plotly.purge(gd);\n",
       "            observer.disconnect();\n",
       "        }}\n",
       "}});\n",
       "\n",
       "// Listen for the removal of the full notebook cells\n",
       "var notebookContainer = gd.closest('#notebook-container');\n",
       "if (notebookContainer) {{\n",
       "    x.observe(notebookContainer, {childList: true});\n",
       "}}\n",
       "\n",
       "// Listen for the clearing of the current output cell\n",
       "var outputEl = gd.closest('.output');\n",
       "if (outputEl) {{\n",
       "    x.observe(outputEl, {childList: true});\n",
       "}}\n",
       "\n",
       "                        })                };                });            </script>        </div>"
      ]
     },
     "metadata": {},
     "output_type": "display_data"
    }
   ],
   "source": [
    "import pandas as pd\n",
    "import plotly.express as px\n",
    "\n",
    "df_results = pd.read_csv(\"results.csv\")\n",
    "\n",
    "df_plot = (\n",
    "    df_results\n",
    "    .groupby([\"implementation\", \"size\"])\n",
    "    .agg(\n",
    "        time_mean=(\"time\", \"mean\"),\n",
    "        time_std=(\"time\", \"std\"),\n",
    "    )\n",
    "    .reset_index()\n",
    ")\n",
    "\n",
    "fig = px.line(\n",
    "    df_plot,\n",
    "    x=\"size\",\n",
    "    y=\"time_mean\",\n",
    "    error_y=\"time_std\",\n",
    "    width=800,\n",
    "    height=500,\n",
    "    color=\"implementation\",\n",
    ")\n",
    "fig.update_layout(\n",
    "    title=\"Neighbour-joining performance\",\n",
    "    xaxis=dict(\n",
    "        title=\"No. observations (distance matrix size)\",\n",
    "    ),\n",
    "    yaxis=dict(\n",
    "        title=\"Time (s)\",\n",
    "    ),\n",
    ")\n",
    "fig"
   ]
  },
  {
   "cell_type": "markdown",
   "id": "02c44b79-283e-431d-9822-163f6adf5be6",
   "metadata": {},
   "source": [
    "## Plotting\n",
    "\n",
    "I also decided to include in `anjl` a function to visualise a NJT using plotly. Here plotly is useful particularly because you can interact with the plot, hovering over leaf nodes to get more information, zooming and panning, and showing or hiding data via the legend. Here's a simple example. "
   ]
  },
  {
   "cell_type": "code",
   "execution_count": 4,
   "id": "fa62b0d7-f9f1-4c32-85d9-a13584b29e1f",
   "metadata": {},
   "outputs": [
    {
     "data": {
      "application/vnd.plotly.v1+json": {
       "config": {
        "plotlyServerURL": "https://plot.ly"
       },
       "data": [
        {
         "hovertemplate": "taxon=gambiae<br>x=%{x}<br>y=%{y}<extra></extra>",
         "legendgroup": "gambiae",
         "line": {
          "color": "#636EFA",
          "dash": "solid",
          "width": 1
         },
         "marker": {
          "symbol": "circle"
         },
         "mode": "lines",
         "name": "gambiae",
         "showlegend": false,
         "type": "scattergl",
         "x": [
          -1.7674919366836548,
          -4.096965312957764,
          null,
          -4.096965312957764,
          -1.8293452262878418,
          null,
          -4.096965312957764,
          -4.584137439727783,
          null,
          -4.584137439727783,
          -4.584137439727783,
          null,
          -4.584137439727783,
          -5.109034061431885,
          null,
          -5.109034061431885,
          -5.309381008148193,
          null,
          -5.109034061431885,
          -5.502209186553955,
          null,
          -5.502209186553955,
          -6.313991546630859,
          null,
          -5.502209186553955,
          -5.8501057624816895,
          null,
          -5.8501057624816895,
          -6.710674285888672,
          null,
          -5.8501057624816895,
          -6.154071807861328,
          null,
          -6.154071807861328,
          -6.977504253387451,
          null,
          -6.154071807861328,
          -6.54951286315918,
          null,
          -6.54951286315918,
          -11.96561336517334,
          null,
          -6.54951286315918,
          -6.68653678894043,
          null,
          -6.68653678894043,
          -20.476795196533203,
          null,
          -6.68653678894043,
          -6.811814785003662,
          null,
          -6.811814785003662,
          -7.369485855102539,
          null,
          -6.811814785003662,
          -6.940884113311768,
          null,
          -6.940884113311768,
          -7.640637397766113,
          null,
          -6.940884113311768,
          -7.052999019622803,
          null,
          -7.052999019622803,
          -7.576071262359619,
          null,
          -7.052999019622803,
          -7.348584175109863,
          null,
          -7.348584175109863,
          -8.65670394897461,
          null,
          -7.348584175109863,
          -7.79161262512207,
          null,
          -7.79161262512207,
          -12.558256149291992,
          null,
          -7.79161262512207,
          -8.024809837341309,
          null,
          -8.024809837341309,
          -10.632896423339844,
          null,
          -8.024809837341309,
          -8.075868606567383,
          null,
          -8.075868606567383,
          -9.67463207244873,
          null,
          -8.075868606567383,
          -8.129823684692383,
          null,
          -8.129823684692383,
          -9.21484375,
          null,
          -8.129823684692383,
          -8.427533149719238,
          null,
          -8.65670394897461,
          -17.214717864990234,
          null,
          -8.65670394897461,
          -13.542915344238281,
          null,
          -7.576071262359619,
          -9.044342994689941,
          null,
          -7.576071262359619,
          -8.174874305725098,
          null,
          -8.174874305725098,
          -17.28731346130371,
          null,
          -8.174874305725098,
          -14.781506538391113,
          null,
          -9.044342994689941,
          -16.386089324951172,
          null,
          -9.044342994689941,
          -17.91895294189453,
          null,
          -7.640637397766113,
          -9.50041389465332,
          null,
          -7.640637397766113,
          -9.064233779907227,
          null,
          -9.064233779907227,
          -18.504867553710938,
          null,
          -9.064233779907227,
          -18.604755401611328,
          null,
          -9.50041389465332,
          -22.228830337524414,
          null,
          -9.50041389465332,
          -21.068706512451172,
          null,
          -7.369485855102539,
          -8.353816986083984,
          null,
          -7.369485855102539,
          -7.851417064666748,
          null,
          -7.851417064666748,
          -16.500486373901367,
          null,
          -7.851417064666748,
          -8.989676475524902,
          null,
          -8.989676475524902,
          -27.23038101196289,
          null,
          -8.989676475524902,
          -9.479255676269531,
          null,
          -9.479255676269531,
          -28.57724380493164,
          null,
          -9.479255676269531,
          -10.896419525146484,
          null,
          -10.896419525146484,
          -24.901615142822266,
          null,
          -10.896419525146484,
          -14.305036544799805,
          null,
          -14.305036544799805,
          -26.302154541015625,
          null,
          -14.305036544799805,
          -21.409852981567383,
          null,
          -16.500486373901367,
          -30.003196716308594,
          null,
          -16.500486373901367,
          -17.1514892578125,
          null,
          -17.1514892578125,
          -31.053028106689453,
          null,
          -17.1514892578125,
          -17.320940017700195,
          null,
          -17.320940017700195,
          -28.11719512939453,
          null,
          -17.320940017700195,
          -31.099960327148438,
          null,
          -8.353816986083984,
          -30.95501136779785,
          null,
          -8.353816986083984,
          -9.75158405303955,
          null,
          -9.75158405303955,
          -32.54562759399414,
          null,
          -9.75158405303955,
          -13.831807136535645,
          null,
          -13.831807136535645,
          -32.78824234008789,
          null,
          -13.831807136535645,
          -33.005008697509766,
          null,
          -20.476795196533203,
          -34.74576187133789,
          null,
          -20.476795196533203,
          -33.259098052978516,
          null,
          -11.96561336517334,
          -39.56321334838867,
          null,
          -11.96561336517334,
          -18.53095817565918,
          null,
          -18.53095817565918,
          -30.988677978515625,
          null,
          -18.53095817565918,
          -37.687469482421875,
          null,
          -6.977504253387451,
          -8.37389087677002,
          null,
          -6.977504253387451,
          -7.339441776275635,
          null,
          -7.339441776275635,
          -7.57899284362793,
          null,
          -7.339441776275635,
          -8.761032104492188,
          null,
          -8.761032104492188,
          -11.708171844482422,
          null,
          -8.761032104492188,
          -10.447554588317871,
          null,
          -10.447554588317871,
          -10.655901908874512,
          null,
          -10.447554588317871,
          -12.782076835632324,
          null,
          -12.782076835632324,
          -15.973254203796387,
          null,
          -12.782076835632324,
          -18.2977352142334,
          null,
          -18.2977352142334,
          -40.12507629394531,
          null,
          -18.2977352142334,
          -24.64109992980957,
          null,
          -24.64109992980957,
          -43.635498046875,
          null,
          -24.64109992980957,
          -39.88081359863281,
          null,
          -15.973254203796387,
          -41.24174880981445,
          null,
          -15.973254203796387,
          -49.16938781738281,
          null,
          -10.655901908874512,
          -29.654285430908203,
          null,
          -10.655901908874512,
          -12.355484962463379,
          null,
          -12.355484962463379,
          -39.322017669677734,
          null,
          -12.355484962463379,
          -35.20085525512695,
          null,
          -11.708171844482422,
          -32.86497497558594,
          null,
          -11.708171844482422,
          -24.430866241455078,
          null,
          -24.430866241455078,
          -38.96723556518555,
          null,
          -24.430866241455078,
          -33.74850082397461,
          null,
          -7.57899284362793,
          -12.580211639404297,
          null,
          -7.57899284362793,
          -8.973331451416016,
          null,
          -8.973331451416016,
          -9.946925163269043,
          null,
          -8.973331451416016,
          -10.988362312316895,
          null,
          -10.988362312316895,
          -13.14381217956543,
          null,
          -10.988362312316895,
          -11.828897476196289,
          null,
          -11.828897476196289,
          -46.245826721191406,
          null,
          -11.828897476196289,
          -40.400978088378906,
          null,
          -13.14381217956543,
          -41.2000617980957,
          null,
          -13.14381217956543,
          -40.97554397583008,
          null,
          -9.946925163269043,
          -34.5492057800293,
          null,
          -9.946925163269043,
          -15.879717826843262,
          null,
          -15.879717826843262,
          -43.46186065673828,
          null,
          -15.879717826843262,
          -42.822269439697266,
          null,
          -12.580211639404297,
          -38.18544006347656,
          null,
          -12.580211639404297,
          -22.606138229370117,
          null,
          -22.606138229370117,
          -44.83677673339844,
          null,
          -22.606138229370117,
          -45.112091064453125,
          null,
          -8.37389087677002,
          -38.38438034057617,
          null,
          -8.37389087677002,
          -10.248290061950684,
          null,
          -10.248290061950684,
          -31.809032440185547,
          null,
          -10.248290061950684,
          -11.355080604553223,
          null,
          -11.355080604553223,
          -36.77070617675781,
          null,
          -11.355080604553223,
          -14.260448455810547,
          null,
          -14.260448455810547,
          -37.95667266845703,
          null,
          -14.260448455810547,
          -16.500106811523438,
          null,
          -16.500106811523438,
          -39.79636764526367,
          null,
          -16.500106811523438,
          -37.51514434814453,
          null,
          -6.710674285888672,
          -6.800813674926758,
          null,
          -6.710674285888672,
          -7.178509712219238,
          null,
          -7.178509712219238,
          -16.825870513916016,
          null,
          -7.178509712219238,
          -7.815099239349365,
          null,
          -7.815099239349365,
          -8.830355644226074,
          null,
          -7.815099239349365,
          -8.683341979980469,
          null,
          -8.683341979980469,
          -11.304466247558594,
          null,
          -8.683341979980469,
          -11.068528175354004,
          null,
          -11.068528175354004,
          -16.373573303222656,
          null,
          -11.068528175354004,
          -12.616357803344727,
          null,
          -12.616357803344727,
          -40.33769989013672,
          null,
          -12.616357803344727,
          -17.262733459472656,
          null,
          -17.262733459472656,
          -34.948036193847656,
          null,
          -17.262733459472656,
          -33.72447204589844,
          null,
          -16.373573303222656,
          -28.679641723632812,
          null,
          -16.373573303222656,
          -35.9755859375,
          null,
          -11.304466247558594,
          -27.24074363708496,
          null,
          -11.304466247558594,
          -29.97020149230957,
          null,
          -8.830355644226074,
          -12.700532913208008,
          null,
          -8.830355644226074,
          -9.892698287963867,
          null,
          -9.892698287963867,
          -11.466146469116211,
          null,
          -9.892698287963867,
          -10.921855926513672,
          null,
          -10.921855926513672,
          -24.741830825805664,
          null,
          -10.921855926513672,
          -12.50795841217041,
          null,
          -12.50795841217041,
          -30.54388427734375,
          null,
          -12.50795841217041,
          -36.08799743652344,
          null,
          -11.466146469116211,
          -29.20677947998047,
          null,
          -11.466146469116211,
          -28.1326847076416,
          null,
          -12.700532913208008,
          -23.26337432861328,
          null,
          -12.700532913208008,
          -25.580589294433594,
          null,
          -16.825870513916016,
          -24.56618881225586,
          null,
          -16.825870513916016,
          -28.13188934326172,
          null,
          -6.800813674926758,
          -14.60777473449707,
          null,
          -6.800813674926758,
          -7.9127020835876465,
          null,
          -7.9127020835876465,
          -18.768505096435547,
          null,
          -7.9127020835876465,
          -8.893035888671875,
          null,
          -8.893035888671875,
          -21.08297348022461,
          null,
          -8.893035888671875,
          -23.86262321472168,
          null,
          -6.313991546630859,
          -13.033137321472168,
          null,
          -6.313991546630859,
          -7.1207756996154785,
          null,
          -7.1207756996154785,
          -18.07874298095703,
          null,
          -7.1207756996154785,
          -14.383783340454102,
          null,
          -5.309381008148193,
          -6.0325188636779785,
          null,
          -5.309381008148193,
          -5.9387383460998535,
          null,
          -5.9387383460998535,
          -11.031340599060059,
          null,
          -5.9387383460998535,
          -6.276927471160889,
          null,
          -6.276927471160889,
          -12.944175720214844,
          null,
          -6.276927471160889,
          -12.955530166625977,
          null,
          -6.0325188636779785,
          -7.707804203033447,
          null,
          -6.0325188636779785,
          -7.347603797912598,
          null,
          -7.347603797912598,
          -9.409832000732422,
          null,
          -7.347603797912598,
          -10.276609420776367,
          null,
          -4.584137439727783,
          -3.6504135131835938,
          null,
          -4.584137439727783,
          -4.6205291748046875,
          null,
          -4.6205291748046875,
          -4.6205291748046875,
          null,
          -4.6205291748046875,
          -5.681754112243652,
          null,
          2.0433104038238525,
          14.97187328338623,
          null,
          14.97187328338623,
          25.793914794921875,
          null,
          14.97187328338623,
          30.282752990722656,
          null,
          2.7073655128479004,
          14.858068466186523,
          null,
          0.8081265687942505,
          1.8919352293014526,
          null,
          1.8919352293014526,
          6.551183700561523,
          null,
          1.8919352293014526,
          8.115009307861328,
          null,
          0.5392787456512451,
          2.1038360595703125,
          null
         ],
         "xaxis": "x",
         "y": [
          -0.7216601967811584,
          -0.8228045701980591,
          null,
          -0.8228045701980591,
          -33.43202590942383,
          null,
          -0.8228045701980591,
          -0.8354911208152771,
          null,
          -0.8354911208152771,
          -2.688300371170044,
          null,
          -0.8354911208152771,
          -0.8218221664428711,
          null,
          -0.8218221664428711,
          -2.093907356262207,
          null,
          -0.8218221664428711,
          -0.7703489065170288,
          null,
          -0.7703489065170288,
          -3.2835922241210938,
          null,
          -0.7703489065170288,
          -0.706234335899353,
          null,
          -0.706234335899353,
          -1.7041456699371338,
          null,
          -0.706234335899353,
          -0.5283868908882141,
          null,
          -0.5283868908882141,
          -0.5641398429870605,
          null,
          -0.5283868908882141,
          0.08480221033096313,
          null,
          0.08480221033096313,
          2.886016607284546,
          null,
          0.08480221033096313,
          0.323728084564209,
          null,
          0.323728084564209,
          9.048456192016602,
          null,
          0.323728084564209,
          0.5608844757080078,
          null,
          0.5608844757080078,
          1.1639070510864258,
          null,
          0.5608844757080078,
          1.0453803539276123,
          null,
          1.0453803539276123,
          2.4892640113830566,
          null,
          1.0453803539276123,
          1.6254466772079468,
          null,
          1.6254466772079468,
          3.244856595993042,
          null,
          1.6254466772079468,
          4.04630184173584,
          null,
          4.04630184173584,
          10.23573112487793,
          null,
          4.04630184173584,
          9.138412475585938,
          null,
          9.138412475585938,
          39.403785705566406,
          null,
          9.138412475585938,
          12.491876602172852,
          null,
          12.491876602172852,
          33.85222244262695,
          null,
          12.491876602172852,
          13.471567153930664,
          null,
          13.471567153930664,
          31.84755516052246,
          null,
          13.471567153930664,
          15.025223731994629,
          null,
          15.025223731994629,
          35.8438606262207,
          null,
          15.025223731994629,
          32.17574691772461,
          null,
          10.23573112487793,
          47.51771545410156,
          null,
          10.23573112487793,
          35.51624298095703,
          null,
          3.244856595993042,
          7.303235054016113,
          null,
          3.244856595993042,
          5.3453569412231445,
          null,
          5.3453569412231445,
          35.32649230957031,
          null,
          5.3453569412231445,
          30.14507293701172,
          null,
          7.303235054016113,
          26.545509338378906,
          null,
          7.303235054016113,
          33.2311897277832,
          null,
          2.4892640113830566,
          6.00989294052124,
          null,
          2.4892640113830566,
          5.706732749938965,
          null,
          5.706732749938965,
          26.080318450927734,
          null,
          5.706732749938965,
          28.32211685180664,
          null,
          6.00989294052124,
          29.12476921081543,
          null,
          6.00989294052124,
          28.86082649230957,
          null,
          1.1639070510864258,
          1.9409306049346924,
          null,
          1.1639070510864258,
          1.7636399269104004,
          null,
          1.7636399269104004,
          10.796396255493164,
          null,
          1.7636399269104004,
          3.4009768962860107,
          null,
          3.4009768962860107,
          26.100385665893555,
          null,
          3.4009768962860107,
          4.131965637207031,
          null,
          4.131965637207031,
          29.66487693786621,
          null,
          4.131965637207031,
          6.329484462738037,
          null,
          6.329484462738037,
          26.4753475189209,
          null,
          6.329484462738037,
          11.822053909301758,
          null,
          11.822053909301758,
          30.425325393676758,
          null,
          11.822053909301758,
          23.726917266845703,
          null,
          10.796396255493164,
          23.50277328491211,
          null,
          10.796396255493164,
          11.500340461730957,
          null,
          11.500340461730957,
          25.523052215576172,
          null,
          11.500340461730957,
          11.69007396697998,
          null,
          11.69007396697998,
          23.364315032958984,
          null,
          11.69007396697998,
          27.668167114257812,
          null,
          1.9409306049346924,
          17.945758819580078,
          null,
          1.9409306049346924,
          3.084247350692749,
          null,
          3.084247350692749,
          20.44413948059082,
          null,
          3.084247350692749,
          6.541620254516602,
          null,
          6.541620254516602,
          22.047210693359375,
          null,
          6.541620254516602,
          23.368337631225586,
          null,
          9.048456192016602,
          17.732982635498047,
          null,
          9.048456192016602,
          17.44962501525879,
          null,
          2.886016607284546,
          15.966195106506348,
          null,
          2.886016607284546,
          6.42738151550293,
          null,
          6.42738151550293,
          12.87053108215332,
          null,
          6.42738151550293,
          17.19379425048828,
          null,
          -0.5641398429870605,
          -1.1675472259521484,
          null,
          -0.5641398429870605,
          -0.542125403881073,
          null,
          -0.542125403881073,
          -0.5734866857528687,
          null,
          -0.542125403881073,
          -0.2027883529663086,
          null,
          -0.2027883529663086,
          0.07941147685050964,
          null,
          -0.2027883529663086,
          0.2938649356365204,
          null,
          0.2938649356365204,
          0.33601322770118713,
          null,
          0.2938649356365204,
          1.1156258583068848,
          null,
          1.1156258583068848,
          2.055375576019287,
          null,
          1.1156258583068848,
          3.2751026153564453,
          null,
          3.2751026153564453,
          10.95841121673584,
          null,
          3.2751026153564453,
          5.886501312255859,
          null,
          5.886501312255859,
          13.323143005371094,
          null,
          5.886501312255859,
          12.471895217895508,
          null,
          2.055375576019287,
          9.022294998168945,
          null,
          2.055375576019287,
          12.460521697998047,
          null,
          0.33601322770118713,
          3.4973642826080322,
          null,
          0.33601322770118713,
          0.7106530666351318,
          null,
          0.7106530666351318,
          6.165922164916992,
          null,
          0.7106530666351318,
          6.163897514343262,
          null,
          0.07941147685050964,
          1.3662502765655518,
          null,
          0.07941147685050964,
          1.520902395248413,
          null,
          1.520902395248413,
          2.9128150939941406,
          null,
          1.520902395248413,
          2.7407374382019043,
          null,
          -0.5734866857528687,
          -1.8594319820404053,
          null,
          -0.5734866857528687,
          -0.6826147437095642,
          null,
          -0.6826147437095642,
          -0.8273035883903503,
          null,
          -0.6826147437095642,
          -0.7350885272026062,
          null,
          -0.7350885272026062,
          -0.8661913275718689,
          null,
          -0.7350885272026062,
          -0.72779381275177,
          null,
          -0.72779381275177,
          -1.0264863967895508,
          null,
          -0.72779381275177,
          0.016256988048553467,
          null,
          -0.8661913275718689,
          -3.062016725540161,
          null,
          -0.8661913275718689,
          -2.0746288299560547,
          null,
          -0.8273035883903503,
          -5.361306190490723,
          null,
          -0.8273035883903503,
          -1.604006052017212,
          null,
          -1.604006052017212,
          -5.703075408935547,
          null,
          -1.604006052017212,
          -4.656617164611816,
          null,
          -1.8594319820404053,
          -9.399752616882324,
          null,
          -1.8594319820404053,
          -4.2526445388793945,
          null,
          -4.2526445388793945,
          -9.968729019165039,
          null,
          -4.2526445388793945,
          -9.213641166687012,
          null,
          -1.1675472259521484,
          -17.355283737182617,
          null,
          -1.1675472259521484,
          -1.9391887187957764,
          null,
          -1.9391887187957764,
          -12.620275497436523,
          null,
          -1.9391887187957764,
          -2.372516632080078,
          null,
          -2.372516632080078,
          -13.882648468017578,
          null,
          -2.372516632080078,
          -3.4522480964660645,
          null,
          -3.4522480964660645,
          -13.207366943359375,
          null,
          -3.4522480964660645,
          -4.240616798400879,
          null,
          -4.240616798400879,
          -12.898282051086426,
          null,
          -4.240616798400879,
          -11.230489730834961,
          null,
          -1.7041456699371338,
          -1.898673415184021,
          null,
          -1.7041456699371338,
          -2.1760590076446533,
          null,
          -2.1760590076446533,
          -18.34122085571289,
          null,
          -2.1760590076446533,
          -2.7751054763793945,
          null,
          -2.7751054763793945,
          -3.9945626258850098,
          null,
          -2.7751054763793945,
          -3.4128549098968506,
          null,
          -3.4128549098968506,
          -5.713196277618408,
          null,
          -3.4128549098968506,
          -5.040491580963135,
          null,
          -5.040491580963135,
          -9.080801010131836,
          null,
          -5.040491580963135,
          -6.01976203918457,
          null,
          -6.01976203918457,
          -24.936635971069336,
          null,
          -6.01976203918457,
          -8.847687721252441,
          null,
          -8.847687721252441,
          -20.036705017089844,
          null,
          -8.847687721252441,
          -18.479293823242188,
          null,
          -9.080801010131836,
          -18.795116424560547,
          null,
          -9.080801010131836,
          -23.479036331176758,
          null,
          -5.713196277618408,
          -20.1964054107666,
          null,
          -5.713196277618408,
          -21.52958869934082,
          null,
          -3.9945626258850098,
          -9.561643600463867,
          null,
          -3.9945626258850098,
          -5.1840667724609375,
          null,
          -5.1840667724609375,
          -7.142124176025391,
          null,
          -5.1840667724609375,
          -6.258880138397217,
          null,
          -6.258880138397217,
          -21.733089447021484,
          null,
          -6.258880138397217,
          -7.858807563781738,
          null,
          -7.858807563781738,
          -26.694835662841797,
          null,
          -7.858807563781738,
          -30.832786560058594,
          null,
          -7.142124176025391,
          -30.021408081054688,
          null,
          -7.142124176025391,
          -27.16083526611328,
          null,
          -9.561643600463867,
          -25.332988739013672,
          null,
          -9.561643600463867,
          -27.419557571411133,
          null,
          -18.34122085571289,
          -31.83786392211914,
          null,
          -18.34122085571289,
          -36.55948257446289,
          null,
          -1.898673415184021,
          -21.34022331237793,
          null,
          -1.898673415184021,
          -4.192963123321533,
          null,
          -4.192963123321533,
          -28.728147506713867,
          null,
          -4.192963123321533,
          -6.129424095153809,
          null,
          -6.129424095153809,
          -31.282352447509766,
          null,
          -6.129424095153809,
          -34.467437744140625,
          null,
          -3.2835922241210938,
          -26.853221893310547,
          null,
          -3.2835922241210938,
          -5.640683174133301,
          null,
          -5.640683174133301,
          -39.56608200073242,
          null,
          -5.640683174133301,
          -25.71601104736328,
          null,
          -2.093907356262207,
          -9.01260757446289,
          null,
          -2.093907356262207,
          -5.071739196777344,
          null,
          -5.071739196777344,
          -34.117069244384766,
          null,
          -5.071739196777344,
          -6.54502010345459,
          null,
          -6.54502010345459,
          -38.091407775878906,
          null,
          -6.54502010345459,
          -33.48632049560547,
          null,
          -9.01260757446289,
          -33.10383605957031,
          null,
          -9.01260757446289,
          -19.78321075439453,
          null,
          -19.78321075439453,
          -39.51380157470703,
          null,
          -19.78321075439453,
          -40.74146270751953,
          null,
          -2.688300371170044,
          -29.575321197509766,
          null,
          -2.688300371170044,
          -4.784756183624268,
          null,
          -4.784756183624268,
          -31.20785903930664,
          null,
          -4.784756183624268,
          -35.343231201171875,
          null,
          -2.6254055500030518,
          -14.791496276855469,
          null,
          -14.791496276855469,
          -24.626785278320312,
          null,
          -14.791496276855469,
          -29.70885467529297,
          null,
          4.536259651184082,
          26.602001190185547,
          null,
          3.512397527694702,
          7.884452819824219,
          null,
          7.884452819824219,
          28.181922912597656,
          null,
          7.884452819824219,
          31.244380950927734,
          null,
          10.953964233398438,
          40.97365188598633,
          null
         ],
         "yaxis": "y"
        },
        {
         "hovertemplate": "taxon=coluzzii<br>x=%{x}<br>y=%{y}<extra></extra>",
         "legendgroup": "coluzzii",
         "line": {
          "color": "#EF553B",
          "dash": "solid",
          "width": 1
         },
         "marker": {
          "symbol": "circle"
         },
         "mode": "lines",
         "name": "coluzzii",
         "showlegend": false,
         "type": "scattergl",
         "x": [
          -0.1521422266960144,
          0.22664877772331238,
          null,
          -0.6295661926269531,
          -0.5267952084541321,
          null,
          -1.7674919366836548,
          -1.4046826362609863,
          null,
          -1.4046826362609863,
          1.5968477725982666,
          null,
          -1.4046826362609863,
          -1.0871620178222656,
          null,
          -1.0871620178222656,
          3.4156179428100586,
          null,
          -1.0871620178222656,
          0.832602858543396,
          null,
          -0.5267952084541321,
          0.2720714211463928,
          null,
          -0.5267952084541321,
          -0.24079063534736633,
          null,
          -0.24079063534736633,
          0.43150290846824646,
          null,
          -0.24079063534736633,
          0.1018320620059967,
          null,
          0.1018320620059967,
          5.4555134773254395,
          null,
          0.1018320620059967,
          1.3260773420333862,
          null,
          1.3260773420333862,
          7.328857898712158,
          null,
          1.3260773420333862,
          5.679205894470215,
          null,
          0.43150290846824646,
          10.362288475036621,
          null,
          0.43150290846824646,
          8.671858787536621,
          null,
          0.2720714211463928,
          1.422205924987793,
          null,
          0.2720714211463928,
          0.8246302604675293,
          null,
          0.8246302604675293,
          12.892925262451172,
          null,
          0.8246302604675293,
          3.6728670597076416,
          null,
          3.6728670597076416,
          12.576836585998535,
          null,
          3.6728670597076416,
          14.477274894714355,
          null,
          1.422205924987793,
          14.80437183380127,
          null,
          1.422205924987793,
          12.212254524230957,
          null,
          0.2276328206062317,
          0.5259827971458435,
          null,
          0.5259827971458435,
          3.1727020740509033,
          null,
          0.5259827971458435,
          0.7552400827407837,
          null,
          0.7552400827407837,
          3.036770820617676,
          null,
          0.7552400827407837,
          1.6716303825378418,
          null,
          1.6716303825378418,
          16.377058029174805,
          null,
          1.6716303825378418,
          17.265901565551758,
          null,
          3.036770820617676,
          19.57416534423828,
          null,
          3.036770820617676,
          18.25313377380371,
          null,
          3.1727020740509033,
          21.651508331298828,
          null,
          3.1727020740509033,
          6.621621131896973,
          null,
          6.621621131896973,
          25.43511199951172,
          null,
          6.621621131896973,
          25.66061019897461,
          null,
          1.501145601272583,
          6.886688232421875,
          null,
          1.5433939695358276,
          3.1937403678894043,
          null,
          2.0433104038238525,
          18.253582000732422,
          null,
          3.1937403678894043,
          19.744565963745117,
          null,
          3.1937403678894043,
          23.18085289001465,
          null,
          6.886688232421875,
          29.68761444091797,
          null,
          6.886688232421875,
          27.55246925354004,
          null,
          0.22664877772331238,
          1.6446322202682495,
          null,
          0.22664877772331238,
          0.7925760746002197,
          null,
          0.7925760746002197,
          1.950517177581787,
          null,
          0.7925760746002197,
          2.0853915214538574,
          null,
          2.0853915214538574,
          9.094764709472656,
          null,
          2.0853915214538574,
          4.1661787033081055,
          null,
          4.1661787033081055,
          27.300540924072266,
          null,
          4.1661787033081055,
          6.940502166748047,
          null,
          6.940502166748047,
          27.0418758392334,
          null,
          6.940502166748047,
          27.794105529785156,
          null,
          9.094764709472656,
          27.33823585510254,
          null,
          9.094764709472656,
          26.64954376220703,
          null,
          1.950517177581787,
          25.578744888305664,
          null,
          1.950517177581787,
          7.267322540283203,
          null,
          7.267322540283203,
          33.47718048095703,
          null,
          7.267322540283203,
          11.679267883300781,
          null,
          11.679267883300781,
          30.968294143676758,
          null,
          11.679267883300781,
          36.68057632446289,
          null,
          1.6446322202682495,
          6.098126411437988,
          null,
          1.6446322202682495,
          2.430992364883423,
          null,
          2.430992364883423,
          6.662393569946289,
          null,
          2.430992364883423,
          3.659547805786133,
          null,
          3.659547805786133,
          24.035417556762695,
          null,
          3.659547805786133,
          7.972530364990234,
          null,
          7.972530364990234,
          24.585323333740234,
          null,
          7.972530364990234,
          27.608583450317383,
          null,
          6.662393569946289,
          32.03968048095703,
          null,
          6.662393569946289,
          31.05146026611328,
          null,
          6.098126411437988,
          29.677330017089844,
          null,
          6.098126411437988,
          28.496929168701172,
          null,
          -0.01100437343120575,
          0.19168657064437866,
          null,
          0.19168657064437866,
          0.4689026474952698,
          null,
          0.19168657064437866,
          0.3440401256084442,
          null,
          0.3440401256084442,
          2.176025629043579,
          null,
          0.3440401256084442,
          0.5833210945129395,
          null,
          0.5833210945129395,
          2.0863752365112305,
          null,
          0.5833210945129395,
          1.1069341897964478,
          null,
          1.1069341897964478,
          2.3530571460723877,
          null,
          1.1069341897964478,
          2.252537488937378,
          null,
          2.252537488937378,
          4.784609794616699,
          null,
          2.252537488937378,
          4.189077377319336,
          null,
          4.189077377319336,
          26.180057525634766,
          null,
          4.189077377319336,
          5.096655368804932,
          null,
          5.096655368804932,
          31.912710189819336,
          null,
          5.096655368804932,
          30.222524642944336,
          null,
          4.784609794616699,
          28.702709197998047,
          null,
          4.784609794616699,
          29.328201293945312,
          null,
          2.3530571460723877,
          5.39778995513916,
          null,
          2.3530571460723877,
          4.624518394470215,
          null,
          4.624518394470215,
          30.865962982177734,
          null,
          4.624518394470215,
          26.208599090576172,
          null,
          5.39778995513916,
          23.870315551757812,
          null,
          5.39778995513916,
          23.3685302734375,
          null,
          2.0863752365112305,
          5.330896377563477,
          null,
          2.0863752365112305,
          2.4971885681152344,
          null,
          2.4971885681152344,
          25.317981719970703,
          null,
          2.4971885681152344,
          25.600154876708984,
          null,
          5.330896377563477,
          25.09680938720703,
          null,
          5.330896377563477,
          21.05223846435547,
          null,
          2.176025629043579,
          5.956157684326172,
          null,
          2.176025629043579,
          2.9811785221099854,
          null,
          2.9811785221099854,
          26.638322830200195,
          null,
          2.9811785221099854,
          8.53095531463623,
          null,
          8.53095531463623,
          35.136077880859375,
          null,
          8.53095531463623,
          29.387439727783203,
          null,
          5.956157684326172,
          27.254697799682617,
          null,
          5.956157684326172,
          25.930208206176758,
          null,
          0.4689026474952698,
          2.8161776065826416,
          null,
          0.4689026474952698,
          1.88493013381958,
          null,
          1.88493013381958,
          3.5647668838500977,
          null,
          1.88493013381958,
          2.457974433898926,
          null,
          2.457974433898926,
          23.061111450195312,
          null,
          2.457974433898926,
          21.059825897216797,
          null,
          3.5647668838500977,
          17.849403381347656,
          null,
          3.5647668838500977,
          25.650665283203125,
          null,
          2.8161776065826416,
          20.172103881835938,
          null,
          2.8161776065826416,
          22.837072372436523,
          null,
          0.39131760597229004,
          1.1197291612625122,
          null,
          1.1197291612625122,
          2.730252981185913,
          null,
          1.1197291612625122,
          1.4992175102233887,
          null,
          1.4992175102233887,
          19.011402130126953,
          null,
          1.4992175102233887,
          4.546359062194824,
          null,
          4.546359062194824,
          19.252090454101562,
          null,
          4.546359062194824,
          22.520919799804688,
          null,
          2.730252981185913,
          17.05628204345703,
          null,
          2.730252981185913,
          15.040671348571777,
          null,
          1.136962652206421,
          10.251903533935547,
          null,
          2.014895439147949,
          13.129607200622559,
          null,
          2.7073655128479004,
          11.322040557861328,
          null,
          0.28721749782562256,
          0.5763630270957947,
          null,
          0.5763630270957947,
          1.0175888538360596,
          null,
          0.5763630270957947,
          1.1593537330627441,
          null,
          1.1593537330627441,
          12.366174697875977,
          null,
          1.1593537330627441,
          8.762985229492188,
          null,
          1.0175888538360596,
          7.808112144470215,
          null,
          1.0175888538360596,
          7.704501152038574,
          null,
          0.6801176071166992,
          3.7804362773895264,
          null,
          0.8081265687942505,
          4.887299060821533,
          null,
          0.2691153883934021,
          0.44748103618621826,
          null,
          0.44748103618621826,
          2.7823486328125,
          null,
          0.44748103618621826,
          3.0001754760742188,
          null,
          0.5392787456512451,
          0.9547737836837769,
          null
         ],
         "xaxis": "x",
         "y": [
          -0.421813428401947,
          -0.526252031326294,
          null,
          -0.6126994490623474,
          -0.8820561170578003,
          null,
          -0.7216601967811584,
          -3.3177120685577393,
          null,
          -3.3177120685577393,
          -20.436750411987305,
          null,
          -3.3177120685577393,
          -5.918220520019531,
          null,
          -5.918220520019531,
          -38.137489318847656,
          null,
          -5.918220520019531,
          -24.28577995300293,
          null,
          -0.8820561170578003,
          -2.530451536178589,
          null,
          -0.8820561170578003,
          -1.8853119611740112,
          null,
          -1.8853119611740112,
          -3.8494768142700195,
          null,
          -1.8853119611740112,
          -3.2674427032470703,
          null,
          -3.2674427032470703,
          -22.04725456237793,
          null,
          -3.2674427032470703,
          -8.600724220275879,
          null,
          -8.600724220275879,
          -32.81577682495117,
          null,
          -8.600724220275879,
          -29.19774627685547,
          null,
          -3.8494768142700195,
          -31.29867935180664,
          null,
          -3.8494768142700195,
          -29.36126708984375,
          null,
          -2.530451536178589,
          -4.6191020011901855,
          null,
          -2.530451536178589,
          -3.7792892456054688,
          null,
          -3.7792892456054688,
          -28.681222915649414,
          null,
          -3.7792892456054688,
          -10.53090763092041,
          null,
          -10.53090763092041,
          -30.65475845336914,
          null,
          -10.53090763092041,
          -37.43695068359375,
          null,
          -4.6191020011901855,
          -27.95332145690918,
          null,
          -4.6191020011901855,
          -25.045085906982422,
          null,
          -1.129970669746399,
          -1.5147390365600586,
          null,
          -1.5147390365600586,
          -4.478267192840576,
          null,
          -1.5147390365600586,
          -1.8445155620574951,
          null,
          -1.8445155620574951,
          -4.8947906494140625,
          null,
          -1.8445155620574951,
          -3.2655115127563477,
          null,
          -3.2655115127563477,
          -25.22214126586914,
          null,
          -3.2655115127563477,
          -28.393768310546875,
          null,
          -4.8947906494140625,
          -26.22231674194336,
          null,
          -4.8947906494140625,
          -25.991939544677734,
          null,
          -4.478267192840576,
          -23.77682113647461,
          null,
          -4.478267192840576,
          -8.477619171142578,
          null,
          -8.477619171142578,
          -29.543062210083008,
          null,
          -8.477619171142578,
          -31.345956802368164,
          null,
          -2.1352720260620117,
          -5.674920082092285,
          null,
          -2.1710712909698486,
          -3.427971363067627,
          null,
          -2.6254055500030518,
          -16.361164093017578,
          null,
          -3.427971363067627,
          -15.585023880004883,
          null,
          -3.427971363067627,
          -19.205644607543945,
          null,
          -5.674920082092285,
          -20.10045623779297,
          null,
          -5.674920082092285,
          -19.777124404907227,
          null,
          -0.526252031326294,
          -0.6869106292724609,
          null,
          -0.526252031326294,
          -0.7592296004295349,
          null,
          -0.7592296004295349,
          -1.1221799850463867,
          null,
          -0.7592296004295349,
          -1.399683952331543,
          null,
          -1.399683952331543,
          -4.4285783767700195,
          null,
          -1.399683952331543,
          -2.522066116333008,
          null,
          -2.522066116333008,
          -13.982715606689453,
          null,
          -2.522066116333008,
          -4.081301689147949,
          null,
          -4.081301689147949,
          -14.924036026000977,
          null,
          -4.081301689147949,
          -16.282543182373047,
          null,
          -4.4285783767700195,
          -11.93894100189209,
          null,
          -4.4285783767700195,
          -12.3787202835083,
          null,
          -1.1221799850463867,
          -7.1976213455200195,
          null,
          -1.1221799850463867,
          -2.890617847442627,
          null,
          -2.890617847442627,
          -10.608992576599121,
          null,
          -2.890617847442627,
          -4.443639755249023,
          null,
          -4.443639755249023,
          -10.859418869018555,
          null,
          -4.443639755249023,
          -13.734956741333008,
          null,
          -0.6869106292724609,
          -0.8028848767280579,
          null,
          -0.6869106292724609,
          -0.8037741184234619,
          null,
          -0.8037741184234619,
          -1.208946943283081,
          null,
          -0.8037741184234619,
          -1.0301870107650757,
          null,
          -1.0301870107650757,
          -4.058309555053711,
          null,
          -1.0301870107650757,
          -1.902693748474121,
          null,
          -1.902693748474121,
          -4.964298248291016,
          null,
          -1.902693748474121,
          -6.231077194213867,
          null,
          -1.208946943283081,
          -3.195103168487549,
          null,
          -1.208946943283081,
          -3.9722464084625244,
          null,
          -0.8028848767280579,
          -1.0075205564498901,
          null,
          -0.8028848767280579,
          -1.7754278182983398,
          null,
          -0.30091169476509094,
          -0.2091177999973297,
          null,
          -0.2091177999973297,
          0.04282176494598389,
          null,
          -0.2091177999973297,
          -0.15844304859638214,
          null,
          -0.15844304859638214,
          0.9565591216087341,
          null,
          -0.15844304859638214,
          -0.1013261005282402,
          null,
          -0.1013261005282402,
          0.5174421668052673,
          null,
          -0.1013261005282402,
          -0.014196336269378662,
          null,
          -0.014196336269378662,
          0.3062147796154022,
          null,
          -0.014196336269378662,
          0.09549955278635025,
          null,
          0.09549955278635025,
          0.471798837184906,
          null,
          0.09549955278635025,
          0.21328741312026978,
          null,
          0.21328741312026978,
          2.319007635116577,
          null,
          0.21328741312026978,
          0.25269392132759094,
          null,
          0.25269392132759094,
          1.883750081062317,
          null,
          0.25269392132759094,
          0.907001256942749,
          null,
          0.471798837184906,
          4.4517951011657715,
          null,
          0.471798837184906,
          3.6849677562713623,
          null,
          0.3062147796154022,
          1.2028387784957886,
          null,
          0.3062147796154022,
          0.8069138526916504,
          null,
          0.8069138526916504,
          7.070809364318848,
          null,
          0.8069138526916504,
          5.1733245849609375,
          null,
          1.2028387784957886,
          6.992951393127441,
          null,
          1.2028387784957886,
          6.157653331756592,
          null,
          0.5174421668052673,
          1.9868085384368896,
          null,
          0.5174421668052673,
          0.6701140403747559,
          null,
          0.6701140403747559,
          9.604854583740234,
          null,
          0.6701140403747559,
          8.802446365356445,
          null,
          1.9868085384368896,
          11.35507583618164,
          null,
          1.9868085384368896,
          8.78032398223877,
          null,
          0.9565591216087341,
          3.5360982418060303,
          null,
          0.9565591216087341,
          1.409074068069458,
          null,
          1.409074068069458,
          15.807531356811523,
          null,
          1.409074068069458,
          4.4026384353637695,
          null,
          4.4026384353637695,
          19.3553466796875,
          null,
          4.4026384353637695,
          15.189640045166016,
          null,
          3.5360982418060303,
          18.61846351623535,
          null,
          3.5360982418060303,
          16.664043426513672,
          null,
          0.04282176494598389,
          2.49422550201416,
          null,
          0.04282176494598389,
          1.242691159248352,
          null,
          1.242691159248352,
          2.7693605422973633,
          null,
          1.242691159248352,
          1.6950478553771973,
          null,
          1.6950478553771973,
          18.547574996948242,
          null,
          1.6950478553771973,
          15.862174987792969,
          null,
          2.7693605422973633,
          16.211551666259766,
          null,
          2.7693605422973633,
          22.152305603027344,
          null,
          2.49422550201416,
          21.26158905029297,
          null,
          2.49422550201416,
          22.68962860107422,
          null,
          0.3229469358921051,
          1.2967913150787354,
          null,
          1.2967913150787354,
          3.7014596462249756,
          null,
          1.2967913150787354,
          1.769040584564209,
          null,
          1.769040584564209,
          25.18182373046875,
          null,
          1.769040584564209,
          5.429059982299805,
          null,
          5.429059982299805,
          23.729415893554688,
          null,
          5.429059982299805,
          26.27228355407715,
          null,
          3.7014596462249756,
          25.916046142578125,
          null,
          3.7014596462249756,
          21.40945816040039,
          null,
          1.7344820499420166,
          21.405200958251953,
          null,
          3.328813076019287,
          25.28378677368164,
          null,
          4.536259651184082,
          18.97104835510254,
          null,
          1.0957170724868774,
          1.8949302434921265,
          null,
          1.8949302434921265,
          3.260946750640869,
          null,
          1.8949302434921265,
          3.346742630004883,
          null,
          3.346742630004883,
          32.719146728515625,
          null,
          3.346742630004883,
          21.370811462402344,
          null,
          3.260946750640869,
          25.602670669555664,
          null,
          3.260946750640869,
          22.797351837158203,
          null,
          2.9547414779663086,
          22.639934539794922,
          null,
          3.512397527694702,
          24.617414474487305,
          null,
          3.174482583999634,
          4.881015777587891,
          null,
          4.881015777587891,
          31.71769142150879,
          null,
          4.881015777587891,
          25.787696838378906,
          null,
          10.953964233398438,
          34.889930725097656,
          null
         ],
         "yaxis": "y"
        },
        {
         "hovertemplate": "taxon=<br>x=%{x}<br>y=%{y}<extra></extra>",
         "legendgroup": "",
         "line": {
          "color": "gray",
          "dash": "solid",
          "width": 1
         },
         "marker": {
          "symbol": "circle"
         },
         "mode": "lines",
         "name": "",
         "showlegend": false,
         "type": "scattergl",
         "x": [
          0,
          0.07208095490932465,
          null,
          0,
          -0.07208095490932465,
          null,
          -0.07208095490932465,
          -0.01100437343120575,
          null,
          -0.07208095490932465,
          -0.1521422266960144,
          null,
          -0.1521422266960144,
          -0.359096884727478,
          null,
          -0.359096884727478,
          0.2276328206062317,
          null,
          -0.359096884727478,
          -0.6295661926269531,
          null,
          -0.6295661926269531,
          -1.7674919366836548,
          null,
          0.2276328206062317,
          1.501145601272583,
          null,
          1.501145601272583,
          1.5433939695358276,
          null,
          1.5433939695358276,
          2.0433104038238525,
          null,
          -0.01100437343120575,
          0.39131760597229004,
          null,
          0.39131760597229004,
          1.136962652206421,
          null,
          1.136962652206421,
          2.014895439147949,
          null,
          2.014895439147949,
          2.7073655128479004,
          null,
          0.07208095490932465,
          0.2691153883934021,
          null,
          0.07208095490932465,
          0.28721749782562256,
          null,
          0.28721749782562256,
          0.6801176071166992,
          null,
          0.6801176071166992,
          0.8081265687942505,
          null,
          0.2691153883934021,
          0.5392787456512451,
          null
         ],
         "xaxis": "x",
         "y": [
          0,
          0.3410542905330658,
          null,
          0,
          -0.3410542905330658,
          null,
          -0.3410542905330658,
          -0.30091169476509094,
          null,
          -0.3410542905330658,
          -0.421813428401947,
          null,
          -0.421813428401947,
          -0.5381268262863159,
          null,
          -0.5381268262863159,
          -1.129970669746399,
          null,
          -0.5381268262863159,
          -0.6126994490623474,
          null,
          -0.6126994490623474,
          -0.7216601967811584,
          null,
          -1.129970669746399,
          -2.1352720260620117,
          null,
          -2.1352720260620117,
          -2.1710712909698486,
          null,
          -2.1710712909698486,
          -2.6254055500030518,
          null,
          -0.30091169476509094,
          0.3229469358921051,
          null,
          0.3229469358921051,
          1.7344820499420166,
          null,
          1.7344820499420166,
          3.328813076019287,
          null,
          3.328813076019287,
          4.536259651184082,
          null,
          0.3410542905330658,
          3.174482583999634,
          null,
          0.3410542905330658,
          1.0957170724868774,
          null,
          1.0957170724868774,
          2.9547414779663086,
          null,
          2.9547414779663086,
          3.512397527694702,
          null,
          3.174482583999634,
          10.953964233398438,
          null
         ],
         "yaxis": "y"
        },
        {
         "hovertemplate": "<b>%{hovertext}</b><br><br>taxon=gambiae<br>x=%{x}<br>y=%{y}<extra></extra>",
         "hovertext": [
          62,
          10,
          26,
          139,
          37,
          116,
          34,
          150,
          97,
          173,
          51,
          167,
          52,
          160,
          43,
          137,
          41,
          76,
          176,
          61,
          54,
          36,
          174,
          50,
          169,
          49,
          35,
          157,
          63,
          38,
          123,
          27,
          133,
          100,
          74,
          152,
          149,
          129,
          171,
          101,
          161,
          151,
          68,
          64,
          142,
          107,
          66,
          40,
          79,
          53,
          104,
          80,
          33,
          136,
          72,
          0,
          70,
          28,
          42,
          1,
          130,
          96,
          57,
          164,
          105,
          170,
          131,
          65,
          56,
          168,
          165,
          78,
          102,
          77,
          106,
          60,
          134,
          110,
          117,
          73,
          67,
          17,
          99,
          179,
          55,
          69,
          71,
          16,
          98,
          156,
          126,
          180,
          58,
          166,
          25,
          75,
          148,
          59,
          177
         ],
         "legendgroup": "gambiae",
         "marker": {
          "color": "#636EFA",
          "size": 5,
          "symbol": "circle"
         },
         "mode": "markers",
         "name": "gambiae",
         "orientation": "v",
         "showlegend": true,
         "type": "scatter",
         "x": [
          -8.427533149719238,
          -9.21484375,
          -9.67463207244873,
          -10.632896423339844,
          -12.558256149291992,
          -13.542915344238281,
          -17.214717864990234,
          -14.781506538391113,
          -17.28731346130371,
          -17.91895294189453,
          -16.386089324951172,
          -18.604755401611328,
          -18.504867553710938,
          -21.068706512451172,
          -22.228830337524414,
          -21.409852981567383,
          -26.302154541015625,
          -24.901615142822266,
          -28.57724380493164,
          -27.23038101196289,
          -31.099960327148438,
          -28.11719512939453,
          -31.053028106689453,
          -30.003196716308594,
          -33.005008697509766,
          -32.78824234008789,
          -32.54562759399414,
          -30.95501136779785,
          -33.259098052978516,
          -34.74576187133789,
          -37.687469482421875,
          -30.988677978515625,
          -39.56321334838867,
          -39.88081359863281,
          -43.635498046875,
          -40.12507629394531,
          -49.16938781738281,
          -41.24174880981445,
          -35.20085525512695,
          -39.322017669677734,
          -29.654285430908203,
          -33.74850082397461,
          -38.96723556518555,
          -32.86497497558594,
          -40.400978088378906,
          -46.245826721191406,
          -40.97554397583008,
          -41.2000617980957,
          -42.822269439697266,
          -43.46186065673828,
          -34.5492057800293,
          -45.112091064453125,
          -44.83677673339844,
          -38.18544006347656,
          -37.51514434814453,
          -39.79636764526367,
          -37.95667266845703,
          -36.77070617675781,
          -31.809032440185547,
          -38.38438034057617,
          -33.72447204589844,
          -34.948036193847656,
          -40.33769989013672,
          -35.9755859375,
          -28.679641723632812,
          -29.97020149230957,
          -27.24074363708496,
          -36.08799743652344,
          -30.54388427734375,
          -24.741830825805664,
          -28.1326847076416,
          -29.20677947998047,
          -25.580589294433594,
          -23.26337432861328,
          -28.13188934326172,
          -24.56618881225586,
          -23.86262321472168,
          -21.08297348022461,
          -18.768505096435547,
          -14.60777473449707,
          -14.383783340454102,
          -18.07874298095703,
          -13.033137321472168,
          -12.955530166625977,
          -12.944175720214844,
          -11.031340599060059,
          -10.276609420776367,
          -9.409832000732422,
          -7.707804203033447,
          -5.681754112243652,
          -4.6205291748046875,
          -3.6504135131835938,
          -1.8293452262878418,
          30.282752990722656,
          25.793914794921875,
          14.858068466186523,
          8.115009307861328,
          6.551183700561523,
          2.1038360595703125
         ],
         "xaxis": "x",
         "y": [
          32.17574691772461,
          35.8438606262207,
          31.84755516052246,
          33.85222244262695,
          39.403785705566406,
          35.51624298095703,
          47.51771545410156,
          30.14507293701172,
          35.32649230957031,
          33.2311897277832,
          26.545509338378906,
          28.32211685180664,
          26.080318450927734,
          28.86082649230957,
          29.12476921081543,
          23.726917266845703,
          30.425325393676758,
          26.4753475189209,
          29.66487693786621,
          26.100385665893555,
          27.668167114257812,
          23.364315032958984,
          25.523052215576172,
          23.50277328491211,
          23.368337631225586,
          22.047210693359375,
          20.44413948059082,
          17.945758819580078,
          17.44962501525879,
          17.732982635498047,
          17.19379425048828,
          12.87053108215332,
          15.966195106506348,
          12.471895217895508,
          13.323143005371094,
          10.95841121673584,
          12.460521697998047,
          9.022294998168945,
          6.163897514343262,
          6.165922164916992,
          3.4973642826080322,
          2.7407374382019043,
          2.9128150939941406,
          1.3662502765655518,
          0.016256988048553467,
          -1.0264863967895508,
          -2.0746288299560547,
          -3.062016725540161,
          -4.656617164611816,
          -5.703075408935547,
          -5.361306190490723,
          -9.213641166687012,
          -9.968729019165039,
          -9.399752616882324,
          -11.230489730834961,
          -12.898282051086426,
          -13.207366943359375,
          -13.882648468017578,
          -12.620275497436523,
          -17.355283737182617,
          -18.479293823242188,
          -20.036705017089844,
          -24.936635971069336,
          -23.479036331176758,
          -18.795116424560547,
          -21.52958869934082,
          -20.1964054107666,
          -30.832786560058594,
          -26.694835662841797,
          -21.733089447021484,
          -27.16083526611328,
          -30.021408081054688,
          -27.419557571411133,
          -25.332988739013672,
          -36.55948257446289,
          -31.83786392211914,
          -34.467437744140625,
          -31.282352447509766,
          -28.728147506713867,
          -21.34022331237793,
          -25.71601104736328,
          -39.56608200073242,
          -26.853221893310547,
          -33.48632049560547,
          -38.091407775878906,
          -34.117069244384766,
          -40.74146270751953,
          -39.51380157470703,
          -33.10383605957031,
          -35.343231201171875,
          -31.20785903930664,
          -29.575321197509766,
          -33.43202590942383,
          -29.70885467529297,
          -24.626785278320312,
          26.602001190185547,
          31.244380950927734,
          28.181922912597656,
          40.97365188598633
         ],
         "yaxis": "y"
        },
        {
         "hovertemplate": "<b>%{hovertext}</b><br><br>taxon=coluzzii<br>x=%{x}<br>y=%{y}<extra></extra>",
         "hovertext": [
          127,
          8,
          124,
          120,
          88,
          82,
          109,
          19,
          111,
          18,
          162,
          178,
          113,
          172,
          91,
          125,
          87,
          144,
          128,
          9,
          39,
          31,
          23,
          146,
          95,
          6,
          3,
          115,
          147,
          4,
          21,
          20,
          163,
          132,
          159,
          83,
          93,
          45,
          32,
          86,
          7,
          138,
          112,
          158,
          145,
          44,
          141,
          85,
          22,
          13,
          92,
          5,
          140,
          15,
          135,
          24,
          48,
          30,
          12,
          155,
          89,
          90,
          14,
          143,
          114,
          81,
          2,
          119,
          154,
          84,
          121,
          108,
          122,
          94,
          29,
          118,
          11,
          153,
          46,
          103,
          47,
          175
         ],
         "legendgroup": "coluzzii",
         "marker": {
          "color": "#EF553B",
          "size": 5,
          "symbol": "circle"
         },
         "mode": "markers",
         "name": "coluzzii",
         "orientation": "v",
         "showlegend": true,
         "type": "scatter",
         "x": [
          0.832602858543396,
          3.4156179428100586,
          1.5968477725982666,
          5.679205894470215,
          7.328857898712158,
          5.4555134773254395,
          8.671858787536621,
          10.362288475036621,
          14.477274894714355,
          12.576836585998535,
          12.892925262451172,
          12.212254524230957,
          14.80437183380127,
          17.265901565551758,
          16.377058029174805,
          18.25313377380371,
          19.57416534423828,
          25.66061019897461,
          25.43511199951172,
          21.651508331298828,
          18.253582000732422,
          23.18085289001465,
          19.744565963745117,
          27.55246925354004,
          29.68761444091797,
          27.794105529785156,
          27.0418758392334,
          27.300540924072266,
          26.64954376220703,
          27.33823585510254,
          36.68057632446289,
          30.968294143676758,
          33.47718048095703,
          25.578744888305664,
          27.608583450317383,
          24.585323333740234,
          24.035417556762695,
          31.05146026611328,
          32.03968048095703,
          28.496929168701172,
          29.677330017089844,
          30.222524642944336,
          31.912710189819336,
          26.180057525634766,
          29.328201293945312,
          28.702709197998047,
          26.208599090576172,
          30.865962982177734,
          23.3685302734375,
          23.870315551757812,
          25.600154876708984,
          25.317981719970703,
          21.05223846435547,
          25.09680938720703,
          29.387439727783203,
          35.136077880859375,
          26.638322830200195,
          25.930208206176758,
          27.254697799682617,
          21.059825897216797,
          23.061111450195312,
          25.650665283203125,
          17.849403381347656,
          22.837072372436523,
          20.172103881835938,
          22.520919799804688,
          19.252090454101562,
          19.011402130126953,
          15.040671348571777,
          17.05628204345703,
          11.322040557861328,
          13.129607200622559,
          10.251903533935547,
          8.762985229492188,
          12.366174697875977,
          7.704501152038574,
          7.808112144470215,
          4.887299060821533,
          3.7804362773895264,
          3.0001754760742188,
          2.7823486328125,
          0.9547737836837769
         ],
         "xaxis": "x",
         "y": [
          -24.28577995300293,
          -38.137489318847656,
          -20.436750411987305,
          -29.19774627685547,
          -32.81577682495117,
          -22.04725456237793,
          -29.36126708984375,
          -31.29867935180664,
          -37.43695068359375,
          -30.65475845336914,
          -28.681222915649414,
          -25.045085906982422,
          -27.95332145690918,
          -28.393768310546875,
          -25.22214126586914,
          -25.991939544677734,
          -26.22231674194336,
          -31.345956802368164,
          -29.543062210083008,
          -23.77682113647461,
          -16.361164093017578,
          -19.205644607543945,
          -15.585023880004883,
          -19.777124404907227,
          -20.10045623779297,
          -16.282543182373047,
          -14.924036026000977,
          -13.982715606689453,
          -12.3787202835083,
          -11.93894100189209,
          -13.734956741333008,
          -10.859418869018555,
          -10.608992576599121,
          -7.1976213455200195,
          -6.231077194213867,
          -4.964298248291016,
          -4.058309555053711,
          -3.9722464084625244,
          -3.195103168487549,
          -1.7754278182983398,
          -1.0075205564498901,
          0.907001256942749,
          1.883750081062317,
          2.319007635116577,
          3.6849677562713623,
          4.4517951011657715,
          5.1733245849609375,
          7.070809364318848,
          6.157653331756592,
          6.992951393127441,
          8.802446365356445,
          9.604854583740234,
          8.78032398223877,
          11.35507583618164,
          15.189640045166016,
          19.3553466796875,
          15.807531356811523,
          16.664043426513672,
          18.61846351623535,
          15.862174987792969,
          18.547574996948242,
          22.152305603027344,
          16.211551666259766,
          22.68962860107422,
          21.26158905029297,
          26.27228355407715,
          23.729415893554688,
          25.18182373046875,
          21.40945816040039,
          25.916046142578125,
          18.97104835510254,
          25.28378677368164,
          21.405200958251953,
          21.370811462402344,
          32.719146728515625,
          22.797351837158203,
          25.602670669555664,
          24.617414474487305,
          22.639934539794922,
          25.787696838378906,
          31.71769142150879,
          34.889930725097656
         ],
         "yaxis": "y"
        }
       ],
       "layout": {
        "height": 600,
        "legend": {
         "itemsizing": "constant",
         "tracegroupgap": 0
        },
        "template": {
         "data": {
          "bar": [
           {
            "error_x": {
             "color": "rgb(36,36,36)"
            },
            "error_y": {
             "color": "rgb(36,36,36)"
            },
            "marker": {
             "line": {
              "color": "white",
              "width": 0.5
             },
             "pattern": {
              "fillmode": "overlay",
              "size": 10,
              "solidity": 0.2
             }
            },
            "type": "bar"
           }
          ],
          "barpolar": [
           {
            "marker": {
             "line": {
              "color": "white",
              "width": 0.5
             },
             "pattern": {
              "fillmode": "overlay",
              "size": 10,
              "solidity": 0.2
             }
            },
            "type": "barpolar"
           }
          ],
          "carpet": [
           {
            "aaxis": {
             "endlinecolor": "rgb(36,36,36)",
             "gridcolor": "white",
             "linecolor": "white",
             "minorgridcolor": "white",
             "startlinecolor": "rgb(36,36,36)"
            },
            "baxis": {
             "endlinecolor": "rgb(36,36,36)",
             "gridcolor": "white",
             "linecolor": "white",
             "minorgridcolor": "white",
             "startlinecolor": "rgb(36,36,36)"
            },
            "type": "carpet"
           }
          ],
          "choropleth": [
           {
            "colorbar": {
             "outlinewidth": 1,
             "tickcolor": "rgb(36,36,36)",
             "ticks": "outside"
            },
            "type": "choropleth"
           }
          ],
          "contour": [
           {
            "colorbar": {
             "outlinewidth": 1,
             "tickcolor": "rgb(36,36,36)",
             "ticks": "outside"
            },
            "colorscale": [
             [
              0,
              "#440154"
             ],
             [
              0.1111111111111111,
              "#482878"
             ],
             [
              0.2222222222222222,
              "#3e4989"
             ],
             [
              0.3333333333333333,
              "#31688e"
             ],
             [
              0.4444444444444444,
              "#26828e"
             ],
             [
              0.5555555555555556,
              "#1f9e89"
             ],
             [
              0.6666666666666666,
              "#35b779"
             ],
             [
              0.7777777777777778,
              "#6ece58"
             ],
             [
              0.8888888888888888,
              "#b5de2b"
             ],
             [
              1,
              "#fde725"
             ]
            ],
            "type": "contour"
           }
          ],
          "contourcarpet": [
           {
            "colorbar": {
             "outlinewidth": 1,
             "tickcolor": "rgb(36,36,36)",
             "ticks": "outside"
            },
            "type": "contourcarpet"
           }
          ],
          "heatmap": [
           {
            "colorbar": {
             "outlinewidth": 1,
             "tickcolor": "rgb(36,36,36)",
             "ticks": "outside"
            },
            "colorscale": [
             [
              0,
              "#440154"
             ],
             [
              0.1111111111111111,
              "#482878"
             ],
             [
              0.2222222222222222,
              "#3e4989"
             ],
             [
              0.3333333333333333,
              "#31688e"
             ],
             [
              0.4444444444444444,
              "#26828e"
             ],
             [
              0.5555555555555556,
              "#1f9e89"
             ],
             [
              0.6666666666666666,
              "#35b779"
             ],
             [
              0.7777777777777778,
              "#6ece58"
             ],
             [
              0.8888888888888888,
              "#b5de2b"
             ],
             [
              1,
              "#fde725"
             ]
            ],
            "type": "heatmap"
           }
          ],
          "heatmapgl": [
           {
            "colorbar": {
             "outlinewidth": 1,
             "tickcolor": "rgb(36,36,36)",
             "ticks": "outside"
            },
            "colorscale": [
             [
              0,
              "#440154"
             ],
             [
              0.1111111111111111,
              "#482878"
             ],
             [
              0.2222222222222222,
              "#3e4989"
             ],
             [
              0.3333333333333333,
              "#31688e"
             ],
             [
              0.4444444444444444,
              "#26828e"
             ],
             [
              0.5555555555555556,
              "#1f9e89"
             ],
             [
              0.6666666666666666,
              "#35b779"
             ],
             [
              0.7777777777777778,
              "#6ece58"
             ],
             [
              0.8888888888888888,
              "#b5de2b"
             ],
             [
              1,
              "#fde725"
             ]
            ],
            "type": "heatmapgl"
           }
          ],
          "histogram": [
           {
            "marker": {
             "line": {
              "color": "white",
              "width": 0.6
             }
            },
            "type": "histogram"
           }
          ],
          "histogram2d": [
           {
            "colorbar": {
             "outlinewidth": 1,
             "tickcolor": "rgb(36,36,36)",
             "ticks": "outside"
            },
            "colorscale": [
             [
              0,
              "#440154"
             ],
             [
              0.1111111111111111,
              "#482878"
             ],
             [
              0.2222222222222222,
              "#3e4989"
             ],
             [
              0.3333333333333333,
              "#31688e"
             ],
             [
              0.4444444444444444,
              "#26828e"
             ],
             [
              0.5555555555555556,
              "#1f9e89"
             ],
             [
              0.6666666666666666,
              "#35b779"
             ],
             [
              0.7777777777777778,
              "#6ece58"
             ],
             [
              0.8888888888888888,
              "#b5de2b"
             ],
             [
              1,
              "#fde725"
             ]
            ],
            "type": "histogram2d"
           }
          ],
          "histogram2dcontour": [
           {
            "colorbar": {
             "outlinewidth": 1,
             "tickcolor": "rgb(36,36,36)",
             "ticks": "outside"
            },
            "colorscale": [
             [
              0,
              "#440154"
             ],
             [
              0.1111111111111111,
              "#482878"
             ],
             [
              0.2222222222222222,
              "#3e4989"
             ],
             [
              0.3333333333333333,
              "#31688e"
             ],
             [
              0.4444444444444444,
              "#26828e"
             ],
             [
              0.5555555555555556,
              "#1f9e89"
             ],
             [
              0.6666666666666666,
              "#35b779"
             ],
             [
              0.7777777777777778,
              "#6ece58"
             ],
             [
              0.8888888888888888,
              "#b5de2b"
             ],
             [
              1,
              "#fde725"
             ]
            ],
            "type": "histogram2dcontour"
           }
          ],
          "mesh3d": [
           {
            "colorbar": {
             "outlinewidth": 1,
             "tickcolor": "rgb(36,36,36)",
             "ticks": "outside"
            },
            "type": "mesh3d"
           }
          ],
          "parcoords": [
           {
            "line": {
             "colorbar": {
              "outlinewidth": 1,
              "tickcolor": "rgb(36,36,36)",
              "ticks": "outside"
             }
            },
            "type": "parcoords"
           }
          ],
          "pie": [
           {
            "automargin": true,
            "type": "pie"
           }
          ],
          "scatter": [
           {
            "fillpattern": {
             "fillmode": "overlay",
             "size": 10,
             "solidity": 0.2
            },
            "type": "scatter"
           }
          ],
          "scatter3d": [
           {
            "line": {
             "colorbar": {
              "outlinewidth": 1,
              "tickcolor": "rgb(36,36,36)",
              "ticks": "outside"
             }
            },
            "marker": {
             "colorbar": {
              "outlinewidth": 1,
              "tickcolor": "rgb(36,36,36)",
              "ticks": "outside"
             }
            },
            "type": "scatter3d"
           }
          ],
          "scattercarpet": [
           {
            "marker": {
             "colorbar": {
              "outlinewidth": 1,
              "tickcolor": "rgb(36,36,36)",
              "ticks": "outside"
             }
            },
            "type": "scattercarpet"
           }
          ],
          "scattergeo": [
           {
            "marker": {
             "colorbar": {
              "outlinewidth": 1,
              "tickcolor": "rgb(36,36,36)",
              "ticks": "outside"
             }
            },
            "type": "scattergeo"
           }
          ],
          "scattergl": [
           {
            "marker": {
             "colorbar": {
              "outlinewidth": 1,
              "tickcolor": "rgb(36,36,36)",
              "ticks": "outside"
             }
            },
            "type": "scattergl"
           }
          ],
          "scattermapbox": [
           {
            "marker": {
             "colorbar": {
              "outlinewidth": 1,
              "tickcolor": "rgb(36,36,36)",
              "ticks": "outside"
             }
            },
            "type": "scattermapbox"
           }
          ],
          "scatterpolar": [
           {
            "marker": {
             "colorbar": {
              "outlinewidth": 1,
              "tickcolor": "rgb(36,36,36)",
              "ticks": "outside"
             }
            },
            "type": "scatterpolar"
           }
          ],
          "scatterpolargl": [
           {
            "marker": {
             "colorbar": {
              "outlinewidth": 1,
              "tickcolor": "rgb(36,36,36)",
              "ticks": "outside"
             }
            },
            "type": "scatterpolargl"
           }
          ],
          "scatterternary": [
           {
            "marker": {
             "colorbar": {
              "outlinewidth": 1,
              "tickcolor": "rgb(36,36,36)",
              "ticks": "outside"
             }
            },
            "type": "scatterternary"
           }
          ],
          "surface": [
           {
            "colorbar": {
             "outlinewidth": 1,
             "tickcolor": "rgb(36,36,36)",
             "ticks": "outside"
            },
            "colorscale": [
             [
              0,
              "#440154"
             ],
             [
              0.1111111111111111,
              "#482878"
             ],
             [
              0.2222222222222222,
              "#3e4989"
             ],
             [
              0.3333333333333333,
              "#31688e"
             ],
             [
              0.4444444444444444,
              "#26828e"
             ],
             [
              0.5555555555555556,
              "#1f9e89"
             ],
             [
              0.6666666666666666,
              "#35b779"
             ],
             [
              0.7777777777777778,
              "#6ece58"
             ],
             [
              0.8888888888888888,
              "#b5de2b"
             ],
             [
              1,
              "#fde725"
             ]
            ],
            "type": "surface"
           }
          ],
          "table": [
           {
            "cells": {
             "fill": {
              "color": "rgb(237,237,237)"
             },
             "line": {
              "color": "white"
             }
            },
            "header": {
             "fill": {
              "color": "rgb(217,217,217)"
             },
             "line": {
              "color": "white"
             }
            },
            "type": "table"
           }
          ]
         },
         "layout": {
          "annotationdefaults": {
           "arrowhead": 0,
           "arrowwidth": 1
          },
          "autotypenumbers": "strict",
          "coloraxis": {
           "colorbar": {
            "outlinewidth": 1,
            "tickcolor": "rgb(36,36,36)",
            "ticks": "outside"
           }
          },
          "colorscale": {
           "diverging": [
            [
             0,
             "rgb(103,0,31)"
            ],
            [
             0.1,
             "rgb(178,24,43)"
            ],
            [
             0.2,
             "rgb(214,96,77)"
            ],
            [
             0.3,
             "rgb(244,165,130)"
            ],
            [
             0.4,
             "rgb(253,219,199)"
            ],
            [
             0.5,
             "rgb(247,247,247)"
            ],
            [
             0.6,
             "rgb(209,229,240)"
            ],
            [
             0.7,
             "rgb(146,197,222)"
            ],
            [
             0.8,
             "rgb(67,147,195)"
            ],
            [
             0.9,
             "rgb(33,102,172)"
            ],
            [
             1,
             "rgb(5,48,97)"
            ]
           ],
           "sequential": [
            [
             0,
             "#440154"
            ],
            [
             0.1111111111111111,
             "#482878"
            ],
            [
             0.2222222222222222,
             "#3e4989"
            ],
            [
             0.3333333333333333,
             "#31688e"
            ],
            [
             0.4444444444444444,
             "#26828e"
            ],
            [
             0.5555555555555556,
             "#1f9e89"
            ],
            [
             0.6666666666666666,
             "#35b779"
            ],
            [
             0.7777777777777778,
             "#6ece58"
            ],
            [
             0.8888888888888888,
             "#b5de2b"
            ],
            [
             1,
             "#fde725"
            ]
           ],
           "sequentialminus": [
            [
             0,
             "#440154"
            ],
            [
             0.1111111111111111,
             "#482878"
            ],
            [
             0.2222222222222222,
             "#3e4989"
            ],
            [
             0.3333333333333333,
             "#31688e"
            ],
            [
             0.4444444444444444,
             "#26828e"
            ],
            [
             0.5555555555555556,
             "#1f9e89"
            ],
            [
             0.6666666666666666,
             "#35b779"
            ],
            [
             0.7777777777777778,
             "#6ece58"
            ],
            [
             0.8888888888888888,
             "#b5de2b"
            ],
            [
             1,
             "#fde725"
            ]
           ]
          },
          "colorway": [
           "#1F77B4",
           "#FF7F0E",
           "#2CA02C",
           "#D62728",
           "#9467BD",
           "#8C564B",
           "#E377C2",
           "#7F7F7F",
           "#BCBD22",
           "#17BECF"
          ],
          "font": {
           "color": "rgb(36,36,36)"
          },
          "geo": {
           "bgcolor": "white",
           "lakecolor": "white",
           "landcolor": "white",
           "showlakes": true,
           "showland": true,
           "subunitcolor": "white"
          },
          "hoverlabel": {
           "align": "left"
          },
          "hovermode": "closest",
          "mapbox": {
           "style": "light"
          },
          "paper_bgcolor": "white",
          "plot_bgcolor": "white",
          "polar": {
           "angularaxis": {
            "gridcolor": "rgb(232,232,232)",
            "linecolor": "rgb(36,36,36)",
            "showgrid": false,
            "showline": true,
            "ticks": "outside"
           },
           "bgcolor": "white",
           "radialaxis": {
            "gridcolor": "rgb(232,232,232)",
            "linecolor": "rgb(36,36,36)",
            "showgrid": false,
            "showline": true,
            "ticks": "outside"
           }
          },
          "scene": {
           "xaxis": {
            "backgroundcolor": "white",
            "gridcolor": "rgb(232,232,232)",
            "gridwidth": 2,
            "linecolor": "rgb(36,36,36)",
            "showbackground": true,
            "showgrid": false,
            "showline": true,
            "ticks": "outside",
            "zeroline": false,
            "zerolinecolor": "rgb(36,36,36)"
           },
           "yaxis": {
            "backgroundcolor": "white",
            "gridcolor": "rgb(232,232,232)",
            "gridwidth": 2,
            "linecolor": "rgb(36,36,36)",
            "showbackground": true,
            "showgrid": false,
            "showline": true,
            "ticks": "outside",
            "zeroline": false,
            "zerolinecolor": "rgb(36,36,36)"
           },
           "zaxis": {
            "backgroundcolor": "white",
            "gridcolor": "rgb(232,232,232)",
            "gridwidth": 2,
            "linecolor": "rgb(36,36,36)",
            "showbackground": true,
            "showgrid": false,
            "showline": true,
            "ticks": "outside",
            "zeroline": false,
            "zerolinecolor": "rgb(36,36,36)"
           }
          },
          "shapedefaults": {
           "fillcolor": "black",
           "line": {
            "width": 0
           },
           "opacity": 0.3
          },
          "ternary": {
           "aaxis": {
            "gridcolor": "rgb(232,232,232)",
            "linecolor": "rgb(36,36,36)",
            "showgrid": false,
            "showline": true,
            "ticks": "outside"
           },
           "baxis": {
            "gridcolor": "rgb(232,232,232)",
            "linecolor": "rgb(36,36,36)",
            "showgrid": false,
            "showline": true,
            "ticks": "outside"
           },
           "bgcolor": "white",
           "caxis": {
            "gridcolor": "rgb(232,232,232)",
            "linecolor": "rgb(36,36,36)",
            "showgrid": false,
            "showline": true,
            "ticks": "outside"
           }
          },
          "title": {
           "x": 0.05
          },
          "xaxis": {
           "automargin": true,
           "gridcolor": "rgb(232,232,232)",
           "linecolor": "rgb(36,36,36)",
           "showgrid": false,
           "showline": true,
           "ticks": "outside",
           "title": {
            "standoff": 15
           },
           "zeroline": false,
           "zerolinecolor": "rgb(36,36,36)"
          },
          "yaxis": {
           "automargin": true,
           "gridcolor": "rgb(232,232,232)",
           "linecolor": "rgb(36,36,36)",
           "showgrid": false,
           "showline": true,
           "ticks": "outside",
           "title": {
            "standoff": 15
           },
           "zeroline": false,
           "zerolinecolor": "rgb(36,36,36)"
          }
         }
        },
        "width": 700,
        "xaxis": {
         "autorange": true,
         "domain": [
          0,
          1
         ],
         "mirror": false,
         "range": [
          -66.31050413217653,
          53.82169263925661
         ],
         "showgrid": false,
         "showline": false,
         "showticklabels": false,
         "ticks": "",
         "title": {},
         "type": "linear"
        },
        "yaxis": {
         "autorange": true,
         "domain": [
          0,
          1
         ],
         "mirror": false,
         "range": [
          -46.46910944094013,
          53.24536218752216
         ],
         "scaleanchor": "x",
         "scaleratio": 1,
         "showgrid": false,
         "showline": false,
         "showticklabels": false,
         "ticks": "",
         "title": {},
         "type": "linear"
        }
       }
      },
      "image/png": "[encoded data removed]",
      "text/html": [
       "<div>                            <div id=\"755156e4-d226-4fdc-b8ac-b43e30b953da\" class=\"plotly-graph-div\" style=\"height:600px; width:700px;\"></div>            <script type=\"text/javascript\">                require([\"plotly\"], function(Plotly) {                    window.PLOTLYENV=window.PLOTLYENV || {};                                    if (document.getElementById(\"755156e4-d226-4fdc-b8ac-b43e30b953da\")) {                    Plotly.newPlot(                        \"755156e4-d226-4fdc-b8ac-b43e30b953da\",                        [{\"hovertemplate\":\"taxon=gambiae\\u003cbr\\u003ex=%{x}\\u003cbr\\u003ey=%{y}\\u003cextra\\u003e\\u003c\\u002fextra\\u003e\",\"legendgroup\":\"gambiae\",\"line\":{\"color\":\"#636EFA\",\"dash\":\"solid\",\"width\":1},\"marker\":{\"symbol\":\"circle\"},\"mode\":\"lines\",\"name\":\"gambiae\",\"showlegend\":false,\"x\":[-1.7674919366836548,-4.096965312957764,null,-4.096965312957764,-1.8293452262878418,null,-4.096965312957764,-4.584137439727783,null,-4.584137439727783,-4.584137439727783,null,-4.584137439727783,-5.109034061431885,null,-5.109034061431885,-5.309381008148193,null,-5.109034061431885,-5.502209186553955,null,-5.502209186553955,-6.313991546630859,null,-5.502209186553955,-5.8501057624816895,null,-5.8501057624816895,-6.710674285888672,null,-5.8501057624816895,-6.154071807861328,null,-6.154071807861328,-6.977504253387451,null,-6.154071807861328,-6.54951286315918,null,-6.54951286315918,-11.96561336517334,null,-6.54951286315918,-6.68653678894043,null,-6.68653678894043,-20.476795196533203,null,-6.68653678894043,-6.811814785003662,null,-6.811814785003662,-7.369485855102539,null,-6.811814785003662,-6.940884113311768,null,-6.940884113311768,-7.640637397766113,null,-6.940884113311768,-7.052999019622803,null,-7.052999019622803,-7.576071262359619,null,-7.052999019622803,-7.348584175109863,null,-7.348584175109863,-8.65670394897461,null,-7.348584175109863,-7.79161262512207,null,-7.79161262512207,-12.558256149291992,null,-7.79161262512207,-8.024809837341309,null,-8.024809837341309,-10.632896423339844,null,-8.024809837341309,-8.075868606567383,null,-8.075868606567383,-9.67463207244873,null,-8.075868606567383,-8.129823684692383,null,-8.129823684692383,-9.21484375,null,-8.129823684692383,-8.427533149719238,null,-8.65670394897461,-17.214717864990234,null,-8.65670394897461,-13.542915344238281,null,-7.576071262359619,-9.044342994689941,null,-7.576071262359619,-8.174874305725098,null,-8.174874305725098,-17.28731346130371,null,-8.174874305725098,-14.781506538391113,null,-9.044342994689941,-16.386089324951172,null,-9.044342994689941,-17.91895294189453,null,-7.640637397766113,-9.50041389465332,null,-7.640637397766113,-9.064233779907227,null,-9.064233779907227,-18.504867553710938,null,-9.064233779907227,-18.604755401611328,null,-9.50041389465332,-22.228830337524414,null,-9.50041389465332,-21.068706512451172,null,-7.369485855102539,-8.353816986083984,null,-7.369485855102539,-7.851417064666748,null,-7.851417064666748,-16.500486373901367,null,-7.851417064666748,-8.989676475524902,null,-8.989676475524902,-27.23038101196289,null,-8.989676475524902,-9.479255676269531,null,-9.479255676269531,-28.57724380493164,null,-9.479255676269531,-10.896419525146484,null,-10.896419525146484,-24.901615142822266,null,-10.896419525146484,-14.305036544799805,null,-14.305036544799805,-26.302154541015625,null,-14.305036544799805,-21.409852981567383,null,-16.500486373901367,-30.003196716308594,null,-16.500486373901367,-17.1514892578125,null,-17.1514892578125,-31.053028106689453,null,-17.1514892578125,-17.320940017700195,null,-17.320940017700195,-28.11719512939453,null,-17.320940017700195,-31.099960327148438,null,-8.353816986083984,-30.95501136779785,null,-8.353816986083984,-9.75158405303955,null,-9.75158405303955,-32.54562759399414,null,-9.75158405303955,-13.831807136535645,null,-13.831807136535645,-32.78824234008789,null,-13.831807136535645,-33.005008697509766,null,-20.476795196533203,-34.74576187133789,null,-20.476795196533203,-33.259098052978516,null,-11.96561336517334,-39.56321334838867,null,-11.96561336517334,-18.53095817565918,null,-18.53095817565918,-30.988677978515625,null,-18.53095817565918,-37.687469482421875,null,-6.977504253387451,-8.37389087677002,null,-6.977504253387451,-7.339441776275635,null,-7.339441776275635,-7.57899284362793,null,-7.339441776275635,-8.761032104492188,null,-8.761032104492188,-11.708171844482422,null,-8.761032104492188,-10.447554588317871,null,-10.447554588317871,-10.655901908874512,null,-10.447554588317871,-12.782076835632324,null,-12.782076835632324,-15.973254203796387,null,-12.782076835632324,-18.2977352142334,null,-18.2977352142334,-40.12507629394531,null,-18.2977352142334,-24.64109992980957,null,-24.64109992980957,-43.635498046875,null,-24.64109992980957,-39.88081359863281,null,-15.973254203796387,-41.24174880981445,null,-15.973254203796387,-49.16938781738281,null,-10.655901908874512,-29.654285430908203,null,-10.655901908874512,-12.355484962463379,null,-12.355484962463379,-39.322017669677734,null,-12.355484962463379,-35.20085525512695,null,-11.708171844482422,-32.86497497558594,null,-11.708171844482422,-24.430866241455078,null,-24.430866241455078,-38.96723556518555,null,-24.430866241455078,-33.74850082397461,null,-7.57899284362793,-12.580211639404297,null,-7.57899284362793,-8.973331451416016,null,-8.973331451416016,-9.946925163269043,null,-8.973331451416016,-10.988362312316895,null,-10.988362312316895,-13.14381217956543,null,-10.988362312316895,-11.828897476196289,null,-11.828897476196289,-46.245826721191406,null,-11.828897476196289,-40.400978088378906,null,-13.14381217956543,-41.2000617980957,null,-13.14381217956543,-40.97554397583008,null,-9.946925163269043,-34.5492057800293,null,-9.946925163269043,-15.879717826843262,null,-15.879717826843262,-43.46186065673828,null,-15.879717826843262,-42.822269439697266,null,-12.580211639404297,-38.18544006347656,null,-12.580211639404297,-22.606138229370117,null,-22.606138229370117,-44.83677673339844,null,-22.606138229370117,-45.112091064453125,null,-8.37389087677002,-38.38438034057617,null,-8.37389087677002,-10.248290061950684,null,-10.248290061950684,-31.809032440185547,null,-10.248290061950684,-11.355080604553223,null,-11.355080604553223,-36.77070617675781,null,-11.355080604553223,-14.260448455810547,null,-14.260448455810547,-37.95667266845703,null,-14.260448455810547,-16.500106811523438,null,-16.500106811523438,-39.79636764526367,null,-16.500106811523438,-37.51514434814453,null,-6.710674285888672,-6.800813674926758,null,-6.710674285888672,-7.178509712219238,null,-7.178509712219238,-16.825870513916016,null,-7.178509712219238,-7.815099239349365,null,-7.815099239349365,-8.830355644226074,null,-7.815099239349365,-8.683341979980469,null,-8.683341979980469,-11.304466247558594,null,-8.683341979980469,-11.068528175354004,null,-11.068528175354004,-16.373573303222656,null,-11.068528175354004,-12.616357803344727,null,-12.616357803344727,-40.33769989013672,null,-12.616357803344727,-17.262733459472656,null,-17.262733459472656,-34.948036193847656,null,-17.262733459472656,-33.72447204589844,null,-16.373573303222656,-28.679641723632812,null,-16.373573303222656,-35.9755859375,null,-11.304466247558594,-27.24074363708496,null,-11.304466247558594,-29.97020149230957,null,-8.830355644226074,-12.700532913208008,null,-8.830355644226074,-9.892698287963867,null,-9.892698287963867,-11.466146469116211,null,-9.892698287963867,-10.921855926513672,null,-10.921855926513672,-24.741830825805664,null,-10.921855926513672,-12.50795841217041,null,-12.50795841217041,-30.54388427734375,null,-12.50795841217041,-36.08799743652344,null,-11.466146469116211,-29.20677947998047,null,-11.466146469116211,-28.1326847076416,null,-12.700532913208008,-23.26337432861328,null,-12.700532913208008,-25.580589294433594,null,-16.825870513916016,-24.56618881225586,null,-16.825870513916016,-28.13188934326172,null,-6.800813674926758,-14.60777473449707,null,-6.800813674926758,-7.9127020835876465,null,-7.9127020835876465,-18.768505096435547,null,-7.9127020835876465,-8.893035888671875,null,-8.893035888671875,-21.08297348022461,null,-8.893035888671875,-23.86262321472168,null,-6.313991546630859,-13.033137321472168,null,-6.313991546630859,-7.1207756996154785,null,-7.1207756996154785,-18.07874298095703,null,-7.1207756996154785,-14.383783340454102,null,-5.309381008148193,-6.0325188636779785,null,-5.309381008148193,-5.9387383460998535,null,-5.9387383460998535,-11.031340599060059,null,-5.9387383460998535,-6.276927471160889,null,-6.276927471160889,-12.944175720214844,null,-6.276927471160889,-12.955530166625977,null,-6.0325188636779785,-7.707804203033447,null,-6.0325188636779785,-7.347603797912598,null,-7.347603797912598,-9.409832000732422,null,-7.347603797912598,-10.276609420776367,null,-4.584137439727783,-3.6504135131835938,null,-4.584137439727783,-4.6205291748046875,null,-4.6205291748046875,-4.6205291748046875,null,-4.6205291748046875,-5.681754112243652,null,2.0433104038238525,14.97187328338623,null,14.97187328338623,25.793914794921875,null,14.97187328338623,30.282752990722656,null,2.7073655128479004,14.858068466186523,null,0.8081265687942505,1.8919352293014526,null,1.8919352293014526,6.551183700561523,null,1.8919352293014526,8.115009307861328,null,0.5392787456512451,2.1038360595703125,null],\"xaxis\":\"x\",\"y\":[-0.7216601967811584,-0.8228045701980591,null,-0.8228045701980591,-33.43202590942383,null,-0.8228045701980591,-0.8354911208152771,null,-0.8354911208152771,-2.688300371170044,null,-0.8354911208152771,-0.8218221664428711,null,-0.8218221664428711,-2.093907356262207,null,-0.8218221664428711,-0.7703489065170288,null,-0.7703489065170288,-3.2835922241210938,null,-0.7703489065170288,-0.706234335899353,null,-0.706234335899353,-1.7041456699371338,null,-0.706234335899353,-0.5283868908882141,null,-0.5283868908882141,-0.5641398429870605,null,-0.5283868908882141,0.08480221033096313,null,0.08480221033096313,2.886016607284546,null,0.08480221033096313,0.323728084564209,null,0.323728084564209,9.048456192016602,null,0.323728084564209,0.5608844757080078,null,0.5608844757080078,1.1639070510864258,null,0.5608844757080078,1.0453803539276123,null,1.0453803539276123,2.4892640113830566,null,1.0453803539276123,1.6254466772079468,null,1.6254466772079468,3.244856595993042,null,1.6254466772079468,4.04630184173584,null,4.04630184173584,10.23573112487793,null,4.04630184173584,9.138412475585938,null,9.138412475585938,39.403785705566406,null,9.138412475585938,12.491876602172852,null,12.491876602172852,33.85222244262695,null,12.491876602172852,13.471567153930664,null,13.471567153930664,31.84755516052246,null,13.471567153930664,15.025223731994629,null,15.025223731994629,35.8438606262207,null,15.025223731994629,32.17574691772461,null,10.23573112487793,47.51771545410156,null,10.23573112487793,35.51624298095703,null,3.244856595993042,7.303235054016113,null,3.244856595993042,5.3453569412231445,null,5.3453569412231445,35.32649230957031,null,5.3453569412231445,30.14507293701172,null,7.303235054016113,26.545509338378906,null,7.303235054016113,33.2311897277832,null,2.4892640113830566,6.00989294052124,null,2.4892640113830566,5.706732749938965,null,5.706732749938965,26.080318450927734,null,5.706732749938965,28.32211685180664,null,6.00989294052124,29.12476921081543,null,6.00989294052124,28.86082649230957,null,1.1639070510864258,1.9409306049346924,null,1.1639070510864258,1.7636399269104004,null,1.7636399269104004,10.796396255493164,null,1.7636399269104004,3.4009768962860107,null,3.4009768962860107,26.100385665893555,null,3.4009768962860107,4.131965637207031,null,4.131965637207031,29.66487693786621,null,4.131965637207031,6.329484462738037,null,6.329484462738037,26.4753475189209,null,6.329484462738037,11.822053909301758,null,11.822053909301758,30.425325393676758,null,11.822053909301758,23.726917266845703,null,10.796396255493164,23.50277328491211,null,10.796396255493164,11.500340461730957,null,11.500340461730957,25.523052215576172,null,11.500340461730957,11.69007396697998,null,11.69007396697998,23.364315032958984,null,11.69007396697998,27.668167114257812,null,1.9409306049346924,17.945758819580078,null,1.9409306049346924,3.084247350692749,null,3.084247350692749,20.44413948059082,null,3.084247350692749,6.541620254516602,null,6.541620254516602,22.047210693359375,null,6.541620254516602,23.368337631225586,null,9.048456192016602,17.732982635498047,null,9.048456192016602,17.44962501525879,null,2.886016607284546,15.966195106506348,null,2.886016607284546,6.42738151550293,null,6.42738151550293,12.87053108215332,null,6.42738151550293,17.19379425048828,null,-0.5641398429870605,-1.1675472259521484,null,-0.5641398429870605,-0.542125403881073,null,-0.542125403881073,-0.5734866857528687,null,-0.542125403881073,-0.2027883529663086,null,-0.2027883529663086,0.07941147685050964,null,-0.2027883529663086,0.2938649356365204,null,0.2938649356365204,0.33601322770118713,null,0.2938649356365204,1.1156258583068848,null,1.1156258583068848,2.055375576019287,null,1.1156258583068848,3.2751026153564453,null,3.2751026153564453,10.95841121673584,null,3.2751026153564453,5.886501312255859,null,5.886501312255859,13.323143005371094,null,5.886501312255859,12.471895217895508,null,2.055375576019287,9.022294998168945,null,2.055375576019287,12.460521697998047,null,0.33601322770118713,3.4973642826080322,null,0.33601322770118713,0.7106530666351318,null,0.7106530666351318,6.165922164916992,null,0.7106530666351318,6.163897514343262,null,0.07941147685050964,1.3662502765655518,null,0.07941147685050964,1.520902395248413,null,1.520902395248413,2.9128150939941406,null,1.520902395248413,2.7407374382019043,null,-0.5734866857528687,-1.8594319820404053,null,-0.5734866857528687,-0.6826147437095642,null,-0.6826147437095642,-0.8273035883903503,null,-0.6826147437095642,-0.7350885272026062,null,-0.7350885272026062,-0.8661913275718689,null,-0.7350885272026062,-0.72779381275177,null,-0.72779381275177,-1.0264863967895508,null,-0.72779381275177,0.016256988048553467,null,-0.8661913275718689,-3.062016725540161,null,-0.8661913275718689,-2.0746288299560547,null,-0.8273035883903503,-5.361306190490723,null,-0.8273035883903503,-1.604006052017212,null,-1.604006052017212,-5.703075408935547,null,-1.604006052017212,-4.656617164611816,null,-1.8594319820404053,-9.399752616882324,null,-1.8594319820404053,-4.2526445388793945,null,-4.2526445388793945,-9.968729019165039,null,-4.2526445388793945,-9.213641166687012,null,-1.1675472259521484,-17.355283737182617,null,-1.1675472259521484,-1.9391887187957764,null,-1.9391887187957764,-12.620275497436523,null,-1.9391887187957764,-2.372516632080078,null,-2.372516632080078,-13.882648468017578,null,-2.372516632080078,-3.4522480964660645,null,-3.4522480964660645,-13.207366943359375,null,-3.4522480964660645,-4.240616798400879,null,-4.240616798400879,-12.898282051086426,null,-4.240616798400879,-11.230489730834961,null,-1.7041456699371338,-1.898673415184021,null,-1.7041456699371338,-2.1760590076446533,null,-2.1760590076446533,-18.34122085571289,null,-2.1760590076446533,-2.7751054763793945,null,-2.7751054763793945,-3.9945626258850098,null,-2.7751054763793945,-3.4128549098968506,null,-3.4128549098968506,-5.713196277618408,null,-3.4128549098968506,-5.040491580963135,null,-5.040491580963135,-9.080801010131836,null,-5.040491580963135,-6.01976203918457,null,-6.01976203918457,-24.936635971069336,null,-6.01976203918457,-8.847687721252441,null,-8.847687721252441,-20.036705017089844,null,-8.847687721252441,-18.479293823242188,null,-9.080801010131836,-18.795116424560547,null,-9.080801010131836,-23.479036331176758,null,-5.713196277618408,-20.1964054107666,null,-5.713196277618408,-21.52958869934082,null,-3.9945626258850098,-9.561643600463867,null,-3.9945626258850098,-5.1840667724609375,null,-5.1840667724609375,-7.142124176025391,null,-5.1840667724609375,-6.258880138397217,null,-6.258880138397217,-21.733089447021484,null,-6.258880138397217,-7.858807563781738,null,-7.858807563781738,-26.694835662841797,null,-7.858807563781738,-30.832786560058594,null,-7.142124176025391,-30.021408081054688,null,-7.142124176025391,-27.16083526611328,null,-9.561643600463867,-25.332988739013672,null,-9.561643600463867,-27.419557571411133,null,-18.34122085571289,-31.83786392211914,null,-18.34122085571289,-36.55948257446289,null,-1.898673415184021,-21.34022331237793,null,-1.898673415184021,-4.192963123321533,null,-4.192963123321533,-28.728147506713867,null,-4.192963123321533,-6.129424095153809,null,-6.129424095153809,-31.282352447509766,null,-6.129424095153809,-34.467437744140625,null,-3.2835922241210938,-26.853221893310547,null,-3.2835922241210938,-5.640683174133301,null,-5.640683174133301,-39.56608200073242,null,-5.640683174133301,-25.71601104736328,null,-2.093907356262207,-9.01260757446289,null,-2.093907356262207,-5.071739196777344,null,-5.071739196777344,-34.117069244384766,null,-5.071739196777344,-6.54502010345459,null,-6.54502010345459,-38.091407775878906,null,-6.54502010345459,-33.48632049560547,null,-9.01260757446289,-33.10383605957031,null,-9.01260757446289,-19.78321075439453,null,-19.78321075439453,-39.51380157470703,null,-19.78321075439453,-40.74146270751953,null,-2.688300371170044,-29.575321197509766,null,-2.688300371170044,-4.784756183624268,null,-4.784756183624268,-31.20785903930664,null,-4.784756183624268,-35.343231201171875,null,-2.6254055500030518,-14.791496276855469,null,-14.791496276855469,-24.626785278320312,null,-14.791496276855469,-29.70885467529297,null,4.536259651184082,26.602001190185547,null,3.512397527694702,7.884452819824219,null,7.884452819824219,28.181922912597656,null,7.884452819824219,31.244380950927734,null,10.953964233398438,40.97365188598633,null],\"yaxis\":\"y\",\"type\":\"scattergl\"},{\"hovertemplate\":\"taxon=coluzzii\\u003cbr\\u003ex=%{x}\\u003cbr\\u003ey=%{y}\\u003cextra\\u003e\\u003c\\u002fextra\\u003e\",\"legendgroup\":\"coluzzii\",\"line\":{\"color\":\"#EF553B\",\"dash\":\"solid\",\"width\":1},\"marker\":{\"symbol\":\"circle\"},\"mode\":\"lines\",\"name\":\"coluzzii\",\"showlegend\":false,\"x\":[-0.1521422266960144,0.22664877772331238,null,-0.6295661926269531,-0.5267952084541321,null,-1.7674919366836548,-1.4046826362609863,null,-1.4046826362609863,1.5968477725982666,null,-1.4046826362609863,-1.0871620178222656,null,-1.0871620178222656,3.4156179428100586,null,-1.0871620178222656,0.832602858543396,null,-0.5267952084541321,0.2720714211463928,null,-0.5267952084541321,-0.24079063534736633,null,-0.24079063534736633,0.43150290846824646,null,-0.24079063534736633,0.1018320620059967,null,0.1018320620059967,5.4555134773254395,null,0.1018320620059967,1.3260773420333862,null,1.3260773420333862,7.328857898712158,null,1.3260773420333862,5.679205894470215,null,0.43150290846824646,10.362288475036621,null,0.43150290846824646,8.671858787536621,null,0.2720714211463928,1.422205924987793,null,0.2720714211463928,0.8246302604675293,null,0.8246302604675293,12.892925262451172,null,0.8246302604675293,3.6728670597076416,null,3.6728670597076416,12.576836585998535,null,3.6728670597076416,14.477274894714355,null,1.422205924987793,14.80437183380127,null,1.422205924987793,12.212254524230957,null,0.2276328206062317,0.5259827971458435,null,0.5259827971458435,3.1727020740509033,null,0.5259827971458435,0.7552400827407837,null,0.7552400827407837,3.036770820617676,null,0.7552400827407837,1.6716303825378418,null,1.6716303825378418,16.377058029174805,null,1.6716303825378418,17.265901565551758,null,3.036770820617676,19.57416534423828,null,3.036770820617676,18.25313377380371,null,3.1727020740509033,21.651508331298828,null,3.1727020740509033,6.621621131896973,null,6.621621131896973,25.43511199951172,null,6.621621131896973,25.66061019897461,null,1.501145601272583,6.886688232421875,null,1.5433939695358276,3.1937403678894043,null,2.0433104038238525,18.253582000732422,null,3.1937403678894043,19.744565963745117,null,3.1937403678894043,23.18085289001465,null,6.886688232421875,29.68761444091797,null,6.886688232421875,27.55246925354004,null,0.22664877772331238,1.6446322202682495,null,0.22664877772331238,0.7925760746002197,null,0.7925760746002197,1.950517177581787,null,0.7925760746002197,2.0853915214538574,null,2.0853915214538574,9.094764709472656,null,2.0853915214538574,4.1661787033081055,null,4.1661787033081055,27.300540924072266,null,4.1661787033081055,6.940502166748047,null,6.940502166748047,27.0418758392334,null,6.940502166748047,27.794105529785156,null,9.094764709472656,27.33823585510254,null,9.094764709472656,26.64954376220703,null,1.950517177581787,25.578744888305664,null,1.950517177581787,7.267322540283203,null,7.267322540283203,33.47718048095703,null,7.267322540283203,11.679267883300781,null,11.679267883300781,30.968294143676758,null,11.679267883300781,36.68057632446289,null,1.6446322202682495,6.098126411437988,null,1.6446322202682495,2.430992364883423,null,2.430992364883423,6.662393569946289,null,2.430992364883423,3.659547805786133,null,3.659547805786133,24.035417556762695,null,3.659547805786133,7.972530364990234,null,7.972530364990234,24.585323333740234,null,7.972530364990234,27.608583450317383,null,6.662393569946289,32.03968048095703,null,6.662393569946289,31.05146026611328,null,6.098126411437988,29.677330017089844,null,6.098126411437988,28.496929168701172,null,-0.01100437343120575,0.19168657064437866,null,0.19168657064437866,0.4689026474952698,null,0.19168657064437866,0.3440401256084442,null,0.3440401256084442,2.176025629043579,null,0.3440401256084442,0.5833210945129395,null,0.5833210945129395,2.0863752365112305,null,0.5833210945129395,1.1069341897964478,null,1.1069341897964478,2.3530571460723877,null,1.1069341897964478,2.252537488937378,null,2.252537488937378,4.784609794616699,null,2.252537488937378,4.189077377319336,null,4.189077377319336,26.180057525634766,null,4.189077377319336,5.096655368804932,null,5.096655368804932,31.912710189819336,null,5.096655368804932,30.222524642944336,null,4.784609794616699,28.702709197998047,null,4.784609794616699,29.328201293945312,null,2.3530571460723877,5.39778995513916,null,2.3530571460723877,4.624518394470215,null,4.624518394470215,30.865962982177734,null,4.624518394470215,26.208599090576172,null,5.39778995513916,23.870315551757812,null,5.39778995513916,23.3685302734375,null,2.0863752365112305,5.330896377563477,null,2.0863752365112305,2.4971885681152344,null,2.4971885681152344,25.317981719970703,null,2.4971885681152344,25.600154876708984,null,5.330896377563477,25.09680938720703,null,5.330896377563477,21.05223846435547,null,2.176025629043579,5.956157684326172,null,2.176025629043579,2.9811785221099854,null,2.9811785221099854,26.638322830200195,null,2.9811785221099854,8.53095531463623,null,8.53095531463623,35.136077880859375,null,8.53095531463623,29.387439727783203,null,5.956157684326172,27.254697799682617,null,5.956157684326172,25.930208206176758,null,0.4689026474952698,2.8161776065826416,null,0.4689026474952698,1.88493013381958,null,1.88493013381958,3.5647668838500977,null,1.88493013381958,2.457974433898926,null,2.457974433898926,23.061111450195312,null,2.457974433898926,21.059825897216797,null,3.5647668838500977,17.849403381347656,null,3.5647668838500977,25.650665283203125,null,2.8161776065826416,20.172103881835938,null,2.8161776065826416,22.837072372436523,null,0.39131760597229004,1.1197291612625122,null,1.1197291612625122,2.730252981185913,null,1.1197291612625122,1.4992175102233887,null,1.4992175102233887,19.011402130126953,null,1.4992175102233887,4.546359062194824,null,4.546359062194824,19.252090454101562,null,4.546359062194824,22.520919799804688,null,2.730252981185913,17.05628204345703,null,2.730252981185913,15.040671348571777,null,1.136962652206421,10.251903533935547,null,2.014895439147949,13.129607200622559,null,2.7073655128479004,11.322040557861328,null,0.28721749782562256,0.5763630270957947,null,0.5763630270957947,1.0175888538360596,null,0.5763630270957947,1.1593537330627441,null,1.1593537330627441,12.366174697875977,null,1.1593537330627441,8.762985229492188,null,1.0175888538360596,7.808112144470215,null,1.0175888538360596,7.704501152038574,null,0.6801176071166992,3.7804362773895264,null,0.8081265687942505,4.887299060821533,null,0.2691153883934021,0.44748103618621826,null,0.44748103618621826,2.7823486328125,null,0.44748103618621826,3.0001754760742188,null,0.5392787456512451,0.9547737836837769,null],\"xaxis\":\"x\",\"y\":[-0.421813428401947,-0.526252031326294,null,-0.6126994490623474,-0.8820561170578003,null,-0.7216601967811584,-3.3177120685577393,null,-3.3177120685577393,-20.436750411987305,null,-3.3177120685577393,-5.918220520019531,null,-5.918220520019531,-38.137489318847656,null,-5.918220520019531,-24.28577995300293,null,-0.8820561170578003,-2.530451536178589,null,-0.8820561170578003,-1.8853119611740112,null,-1.8853119611740112,-3.8494768142700195,null,-1.8853119611740112,-3.2674427032470703,null,-3.2674427032470703,-22.04725456237793,null,-3.2674427032470703,-8.600724220275879,null,-8.600724220275879,-32.81577682495117,null,-8.600724220275879,-29.19774627685547,null,-3.8494768142700195,-31.29867935180664,null,-3.8494768142700195,-29.36126708984375,null,-2.530451536178589,-4.6191020011901855,null,-2.530451536178589,-3.7792892456054688,null,-3.7792892456054688,-28.681222915649414,null,-3.7792892456054688,-10.53090763092041,null,-10.53090763092041,-30.65475845336914,null,-10.53090763092041,-37.43695068359375,null,-4.6191020011901855,-27.95332145690918,null,-4.6191020011901855,-25.045085906982422,null,-1.129970669746399,-1.5147390365600586,null,-1.5147390365600586,-4.478267192840576,null,-1.5147390365600586,-1.8445155620574951,null,-1.8445155620574951,-4.8947906494140625,null,-1.8445155620574951,-3.2655115127563477,null,-3.2655115127563477,-25.22214126586914,null,-3.2655115127563477,-28.393768310546875,null,-4.8947906494140625,-26.22231674194336,null,-4.8947906494140625,-25.991939544677734,null,-4.478267192840576,-23.77682113647461,null,-4.478267192840576,-8.477619171142578,null,-8.477619171142578,-29.543062210083008,null,-8.477619171142578,-31.345956802368164,null,-2.1352720260620117,-5.674920082092285,null,-2.1710712909698486,-3.427971363067627,null,-2.6254055500030518,-16.361164093017578,null,-3.427971363067627,-15.585023880004883,null,-3.427971363067627,-19.205644607543945,null,-5.674920082092285,-20.10045623779297,null,-5.674920082092285,-19.777124404907227,null,-0.526252031326294,-0.6869106292724609,null,-0.526252031326294,-0.7592296004295349,null,-0.7592296004295349,-1.1221799850463867,null,-0.7592296004295349,-1.399683952331543,null,-1.399683952331543,-4.4285783767700195,null,-1.399683952331543,-2.522066116333008,null,-2.522066116333008,-13.982715606689453,null,-2.522066116333008,-4.081301689147949,null,-4.081301689147949,-14.924036026000977,null,-4.081301689147949,-16.282543182373047,null,-4.4285783767700195,-11.93894100189209,null,-4.4285783767700195,-12.3787202835083,null,-1.1221799850463867,-7.1976213455200195,null,-1.1221799850463867,-2.890617847442627,null,-2.890617847442627,-10.608992576599121,null,-2.890617847442627,-4.443639755249023,null,-4.443639755249023,-10.859418869018555,null,-4.443639755249023,-13.734956741333008,null,-0.6869106292724609,-0.8028848767280579,null,-0.6869106292724609,-0.8037741184234619,null,-0.8037741184234619,-1.208946943283081,null,-0.8037741184234619,-1.0301870107650757,null,-1.0301870107650757,-4.058309555053711,null,-1.0301870107650757,-1.902693748474121,null,-1.902693748474121,-4.964298248291016,null,-1.902693748474121,-6.231077194213867,null,-1.208946943283081,-3.195103168487549,null,-1.208946943283081,-3.9722464084625244,null,-0.8028848767280579,-1.0075205564498901,null,-0.8028848767280579,-1.7754278182983398,null,-0.30091169476509094,-0.2091177999973297,null,-0.2091177999973297,0.04282176494598389,null,-0.2091177999973297,-0.15844304859638214,null,-0.15844304859638214,0.9565591216087341,null,-0.15844304859638214,-0.1013261005282402,null,-0.1013261005282402,0.5174421668052673,null,-0.1013261005282402,-0.014196336269378662,null,-0.014196336269378662,0.3062147796154022,null,-0.014196336269378662,0.09549955278635025,null,0.09549955278635025,0.471798837184906,null,0.09549955278635025,0.21328741312026978,null,0.21328741312026978,2.319007635116577,null,0.21328741312026978,0.25269392132759094,null,0.25269392132759094,1.883750081062317,null,0.25269392132759094,0.907001256942749,null,0.471798837184906,4.4517951011657715,null,0.471798837184906,3.6849677562713623,null,0.3062147796154022,1.2028387784957886,null,0.3062147796154022,0.8069138526916504,null,0.8069138526916504,7.070809364318848,null,0.8069138526916504,5.1733245849609375,null,1.2028387784957886,6.992951393127441,null,1.2028387784957886,6.157653331756592,null,0.5174421668052673,1.9868085384368896,null,0.5174421668052673,0.6701140403747559,null,0.6701140403747559,9.604854583740234,null,0.6701140403747559,8.802446365356445,null,1.9868085384368896,11.35507583618164,null,1.9868085384368896,8.78032398223877,null,0.9565591216087341,3.5360982418060303,null,0.9565591216087341,1.409074068069458,null,1.409074068069458,15.807531356811523,null,1.409074068069458,4.4026384353637695,null,4.4026384353637695,19.3553466796875,null,4.4026384353637695,15.189640045166016,null,3.5360982418060303,18.61846351623535,null,3.5360982418060303,16.664043426513672,null,0.04282176494598389,2.49422550201416,null,0.04282176494598389,1.242691159248352,null,1.242691159248352,2.7693605422973633,null,1.242691159248352,1.6950478553771973,null,1.6950478553771973,18.547574996948242,null,1.6950478553771973,15.862174987792969,null,2.7693605422973633,16.211551666259766,null,2.7693605422973633,22.152305603027344,null,2.49422550201416,21.26158905029297,null,2.49422550201416,22.68962860107422,null,0.3229469358921051,1.2967913150787354,null,1.2967913150787354,3.7014596462249756,null,1.2967913150787354,1.769040584564209,null,1.769040584564209,25.18182373046875,null,1.769040584564209,5.429059982299805,null,5.429059982299805,23.729415893554688,null,5.429059982299805,26.27228355407715,null,3.7014596462249756,25.916046142578125,null,3.7014596462249756,21.40945816040039,null,1.7344820499420166,21.405200958251953,null,3.328813076019287,25.28378677368164,null,4.536259651184082,18.97104835510254,null,1.0957170724868774,1.8949302434921265,null,1.8949302434921265,3.260946750640869,null,1.8949302434921265,3.346742630004883,null,3.346742630004883,32.719146728515625,null,3.346742630004883,21.370811462402344,null,3.260946750640869,25.602670669555664,null,3.260946750640869,22.797351837158203,null,2.9547414779663086,22.639934539794922,null,3.512397527694702,24.617414474487305,null,3.174482583999634,4.881015777587891,null,4.881015777587891,31.71769142150879,null,4.881015777587891,25.787696838378906,null,10.953964233398438,34.889930725097656,null],\"yaxis\":\"y\",\"type\":\"scattergl\"},{\"hovertemplate\":\"taxon=\\u003cbr\\u003ex=%{x}\\u003cbr\\u003ey=%{y}\\u003cextra\\u003e\\u003c\\u002fextra\\u003e\",\"legendgroup\":\"\",\"line\":{\"color\":\"gray\",\"dash\":\"solid\",\"width\":1},\"marker\":{\"symbol\":\"circle\"},\"mode\":\"lines\",\"name\":\"\",\"showlegend\":false,\"x\":[0.0,0.07208095490932465,null,0.0,-0.07208095490932465,null,-0.07208095490932465,-0.01100437343120575,null,-0.07208095490932465,-0.1521422266960144,null,-0.1521422266960144,-0.359096884727478,null,-0.359096884727478,0.2276328206062317,null,-0.359096884727478,-0.6295661926269531,null,-0.6295661926269531,-1.7674919366836548,null,0.2276328206062317,1.501145601272583,null,1.501145601272583,1.5433939695358276,null,1.5433939695358276,2.0433104038238525,null,-0.01100437343120575,0.39131760597229004,null,0.39131760597229004,1.136962652206421,null,1.136962652206421,2.014895439147949,null,2.014895439147949,2.7073655128479004,null,0.07208095490932465,0.2691153883934021,null,0.07208095490932465,0.28721749782562256,null,0.28721749782562256,0.6801176071166992,null,0.6801176071166992,0.8081265687942505,null,0.2691153883934021,0.5392787456512451,null],\"xaxis\":\"x\",\"y\":[0.0,0.3410542905330658,null,0.0,-0.3410542905330658,null,-0.3410542905330658,-0.30091169476509094,null,-0.3410542905330658,-0.421813428401947,null,-0.421813428401947,-0.5381268262863159,null,-0.5381268262863159,-1.129970669746399,null,-0.5381268262863159,-0.6126994490623474,null,-0.6126994490623474,-0.7216601967811584,null,-1.129970669746399,-2.1352720260620117,null,-2.1352720260620117,-2.1710712909698486,null,-2.1710712909698486,-2.6254055500030518,null,-0.30091169476509094,0.3229469358921051,null,0.3229469358921051,1.7344820499420166,null,1.7344820499420166,3.328813076019287,null,3.328813076019287,4.536259651184082,null,0.3410542905330658,3.174482583999634,null,0.3410542905330658,1.0957170724868774,null,1.0957170724868774,2.9547414779663086,null,2.9547414779663086,3.512397527694702,null,3.174482583999634,10.953964233398438,null],\"yaxis\":\"y\",\"type\":\"scattergl\"},{\"hovertemplate\":\"\\u003cb\\u003e%{hovertext}\\u003c\\u002fb\\u003e\\u003cbr\\u003e\\u003cbr\\u003etaxon=gambiae\\u003cbr\\u003ex=%{x}\\u003cbr\\u003ey=%{y}\\u003cextra\\u003e\\u003c\\u002fextra\\u003e\",\"hovertext\":[62.0,10.0,26.0,139.0,37.0,116.0,34.0,150.0,97.0,173.0,51.0,167.0,52.0,160.0,43.0,137.0,41.0,76.0,176.0,61.0,54.0,36.0,174.0,50.0,169.0,49.0,35.0,157.0,63.0,38.0,123.0,27.0,133.0,100.0,74.0,152.0,149.0,129.0,171.0,101.0,161.0,151.0,68.0,64.0,142.0,107.0,66.0,40.0,79.0,53.0,104.0,80.0,33.0,136.0,72.0,0.0,70.0,28.0,42.0,1.0,130.0,96.0,57.0,164.0,105.0,170.0,131.0,65.0,56.0,168.0,165.0,78.0,102.0,77.0,106.0,60.0,134.0,110.0,117.0,73.0,67.0,17.0,99.0,179.0,55.0,69.0,71.0,16.0,98.0,156.0,126.0,180.0,58.0,166.0,25.0,75.0,148.0,59.0,177.0],\"legendgroup\":\"gambiae\",\"marker\":{\"color\":\"#636EFA\",\"size\":5,\"symbol\":\"circle\"},\"mode\":\"markers\",\"name\":\"gambiae\",\"orientation\":\"v\",\"showlegend\":true,\"x\":[-8.427533149719238,-9.21484375,-9.67463207244873,-10.632896423339844,-12.558256149291992,-13.542915344238281,-17.214717864990234,-14.781506538391113,-17.28731346130371,-17.91895294189453,-16.386089324951172,-18.604755401611328,-18.504867553710938,-21.068706512451172,-22.228830337524414,-21.409852981567383,-26.302154541015625,-24.901615142822266,-28.57724380493164,-27.23038101196289,-31.099960327148438,-28.11719512939453,-31.053028106689453,-30.003196716308594,-33.005008697509766,-32.78824234008789,-32.54562759399414,-30.95501136779785,-33.259098052978516,-34.74576187133789,-37.687469482421875,-30.988677978515625,-39.56321334838867,-39.88081359863281,-43.635498046875,-40.12507629394531,-49.16938781738281,-41.24174880981445,-35.20085525512695,-39.322017669677734,-29.654285430908203,-33.74850082397461,-38.96723556518555,-32.86497497558594,-40.400978088378906,-46.245826721191406,-40.97554397583008,-41.2000617980957,-42.822269439697266,-43.46186065673828,-34.5492057800293,-45.112091064453125,-44.83677673339844,-38.18544006347656,-37.51514434814453,-39.79636764526367,-37.95667266845703,-36.77070617675781,-31.809032440185547,-38.38438034057617,-33.72447204589844,-34.948036193847656,-40.33769989013672,-35.9755859375,-28.679641723632812,-29.97020149230957,-27.24074363708496,-36.08799743652344,-30.54388427734375,-24.741830825805664,-28.1326847076416,-29.20677947998047,-25.580589294433594,-23.26337432861328,-28.13188934326172,-24.56618881225586,-23.86262321472168,-21.08297348022461,-18.768505096435547,-14.60777473449707,-14.383783340454102,-18.07874298095703,-13.033137321472168,-12.955530166625977,-12.944175720214844,-11.031340599060059,-10.276609420776367,-9.409832000732422,-7.707804203033447,-5.681754112243652,-4.6205291748046875,-3.6504135131835938,-1.8293452262878418,30.282752990722656,25.793914794921875,14.858068466186523,8.115009307861328,6.551183700561523,2.1038360595703125],\"xaxis\":\"x\",\"y\":[32.17574691772461,35.8438606262207,31.84755516052246,33.85222244262695,39.403785705566406,35.51624298095703,47.51771545410156,30.14507293701172,35.32649230957031,33.2311897277832,26.545509338378906,28.32211685180664,26.080318450927734,28.86082649230957,29.12476921081543,23.726917266845703,30.425325393676758,26.4753475189209,29.66487693786621,26.100385665893555,27.668167114257812,23.364315032958984,25.523052215576172,23.50277328491211,23.368337631225586,22.047210693359375,20.44413948059082,17.945758819580078,17.44962501525879,17.732982635498047,17.19379425048828,12.87053108215332,15.966195106506348,12.471895217895508,13.323143005371094,10.95841121673584,12.460521697998047,9.022294998168945,6.163897514343262,6.165922164916992,3.4973642826080322,2.7407374382019043,2.9128150939941406,1.3662502765655518,0.016256988048553467,-1.0264863967895508,-2.0746288299560547,-3.062016725540161,-4.656617164611816,-5.703075408935547,-5.361306190490723,-9.213641166687012,-9.968729019165039,-9.399752616882324,-11.230489730834961,-12.898282051086426,-13.207366943359375,-13.882648468017578,-12.620275497436523,-17.355283737182617,-18.479293823242188,-20.036705017089844,-24.936635971069336,-23.479036331176758,-18.795116424560547,-21.52958869934082,-20.1964054107666,-30.832786560058594,-26.694835662841797,-21.733089447021484,-27.16083526611328,-30.021408081054688,-27.419557571411133,-25.332988739013672,-36.55948257446289,-31.83786392211914,-34.467437744140625,-31.282352447509766,-28.728147506713867,-21.34022331237793,-25.71601104736328,-39.56608200073242,-26.853221893310547,-33.48632049560547,-38.091407775878906,-34.117069244384766,-40.74146270751953,-39.51380157470703,-33.10383605957031,-35.343231201171875,-31.20785903930664,-29.575321197509766,-33.43202590942383,-29.70885467529297,-24.626785278320312,26.602001190185547,31.244380950927734,28.181922912597656,40.97365188598633],\"yaxis\":\"y\",\"type\":\"scatter\"},{\"hovertemplate\":\"\\u003cb\\u003e%{hovertext}\\u003c\\u002fb\\u003e\\u003cbr\\u003e\\u003cbr\\u003etaxon=coluzzii\\u003cbr\\u003ex=%{x}\\u003cbr\\u003ey=%{y}\\u003cextra\\u003e\\u003c\\u002fextra\\u003e\",\"hovertext\":[127.0,8.0,124.0,120.0,88.0,82.0,109.0,19.0,111.0,18.0,162.0,178.0,113.0,172.0,91.0,125.0,87.0,144.0,128.0,9.0,39.0,31.0,23.0,146.0,95.0,6.0,3.0,115.0,147.0,4.0,21.0,20.0,163.0,132.0,159.0,83.0,93.0,45.0,32.0,86.0,7.0,138.0,112.0,158.0,145.0,44.0,141.0,85.0,22.0,13.0,92.0,5.0,140.0,15.0,135.0,24.0,48.0,30.0,12.0,155.0,89.0,90.0,14.0,143.0,114.0,81.0,2.0,119.0,154.0,84.0,121.0,108.0,122.0,94.0,29.0,118.0,11.0,153.0,46.0,103.0,47.0,175.0],\"legendgroup\":\"coluzzii\",\"marker\":{\"color\":\"#EF553B\",\"size\":5,\"symbol\":\"circle\"},\"mode\":\"markers\",\"name\":\"coluzzii\",\"orientation\":\"v\",\"showlegend\":true,\"x\":[0.832602858543396,3.4156179428100586,1.5968477725982666,5.679205894470215,7.328857898712158,5.4555134773254395,8.671858787536621,10.362288475036621,14.477274894714355,12.576836585998535,12.892925262451172,12.212254524230957,14.80437183380127,17.265901565551758,16.377058029174805,18.25313377380371,19.57416534423828,25.66061019897461,25.43511199951172,21.651508331298828,18.253582000732422,23.18085289001465,19.744565963745117,27.55246925354004,29.68761444091797,27.794105529785156,27.0418758392334,27.300540924072266,26.64954376220703,27.33823585510254,36.68057632446289,30.968294143676758,33.47718048095703,25.578744888305664,27.608583450317383,24.585323333740234,24.035417556762695,31.05146026611328,32.03968048095703,28.496929168701172,29.677330017089844,30.222524642944336,31.912710189819336,26.180057525634766,29.328201293945312,28.702709197998047,26.208599090576172,30.865962982177734,23.3685302734375,23.870315551757812,25.600154876708984,25.317981719970703,21.05223846435547,25.09680938720703,29.387439727783203,35.136077880859375,26.638322830200195,25.930208206176758,27.254697799682617,21.059825897216797,23.061111450195312,25.650665283203125,17.849403381347656,22.837072372436523,20.172103881835938,22.520919799804688,19.252090454101562,19.011402130126953,15.040671348571777,17.05628204345703,11.322040557861328,13.129607200622559,10.251903533935547,8.762985229492188,12.366174697875977,7.704501152038574,7.808112144470215,4.887299060821533,3.7804362773895264,3.0001754760742188,2.7823486328125,0.9547737836837769],\"xaxis\":\"x\",\"y\":[-24.28577995300293,-38.137489318847656,-20.436750411987305,-29.19774627685547,-32.81577682495117,-22.04725456237793,-29.36126708984375,-31.29867935180664,-37.43695068359375,-30.65475845336914,-28.681222915649414,-25.045085906982422,-27.95332145690918,-28.393768310546875,-25.22214126586914,-25.991939544677734,-26.22231674194336,-31.345956802368164,-29.543062210083008,-23.77682113647461,-16.361164093017578,-19.205644607543945,-15.585023880004883,-19.777124404907227,-20.10045623779297,-16.282543182373047,-14.924036026000977,-13.982715606689453,-12.3787202835083,-11.93894100189209,-13.734956741333008,-10.859418869018555,-10.608992576599121,-7.1976213455200195,-6.231077194213867,-4.964298248291016,-4.058309555053711,-3.9722464084625244,-3.195103168487549,-1.7754278182983398,-1.0075205564498901,0.907001256942749,1.883750081062317,2.319007635116577,3.6849677562713623,4.4517951011657715,5.1733245849609375,7.070809364318848,6.157653331756592,6.992951393127441,8.802446365356445,9.604854583740234,8.78032398223877,11.35507583618164,15.189640045166016,19.3553466796875,15.807531356811523,16.664043426513672,18.61846351623535,15.862174987792969,18.547574996948242,22.152305603027344,16.211551666259766,22.68962860107422,21.26158905029297,26.27228355407715,23.729415893554688,25.18182373046875,21.40945816040039,25.916046142578125,18.97104835510254,25.28378677368164,21.405200958251953,21.370811462402344,32.719146728515625,22.797351837158203,25.602670669555664,24.617414474487305,22.639934539794922,25.787696838378906,31.71769142150879,34.889930725097656],\"yaxis\":\"y\",\"type\":\"scatter\"}],                        {\"template\":{\"data\":{\"barpolar\":[{\"marker\":{\"line\":{\"color\":\"white\",\"width\":0.5},\"pattern\":{\"fillmode\":\"overlay\",\"size\":10,\"solidity\":0.2}},\"type\":\"barpolar\"}],\"bar\":[{\"error_x\":{\"color\":\"rgb(36,36,36)\"},\"error_y\":{\"color\":\"rgb(36,36,36)\"},\"marker\":{\"line\":{\"color\":\"white\",\"width\":0.5},\"pattern\":{\"fillmode\":\"overlay\",\"size\":10,\"solidity\":0.2}},\"type\":\"bar\"}],\"carpet\":[{\"aaxis\":{\"endlinecolor\":\"rgb(36,36,36)\",\"gridcolor\":\"white\",\"linecolor\":\"white\",\"minorgridcolor\":\"white\",\"startlinecolor\":\"rgb(36,36,36)\"},\"baxis\":{\"endlinecolor\":\"rgb(36,36,36)\",\"gridcolor\":\"white\",\"linecolor\":\"white\",\"minorgridcolor\":\"white\",\"startlinecolor\":\"rgb(36,36,36)\"},\"type\":\"carpet\"}],\"choropleth\":[{\"colorbar\":{\"outlinewidth\":1,\"tickcolor\":\"rgb(36,36,36)\",\"ticks\":\"outside\"},\"type\":\"choropleth\"}],\"contourcarpet\":[{\"colorbar\":{\"outlinewidth\":1,\"tickcolor\":\"rgb(36,36,36)\",\"ticks\":\"outside\"},\"type\":\"contourcarpet\"}],\"contour\":[{\"colorbar\":{\"outlinewidth\":1,\"tickcolor\":\"rgb(36,36,36)\",\"ticks\":\"outside\"},\"colorscale\":[[0.0,\"#440154\"],[0.1111111111111111,\"#482878\"],[0.2222222222222222,\"#3e4989\"],[0.3333333333333333,\"#31688e\"],[0.4444444444444444,\"#26828e\"],[0.5555555555555556,\"#1f9e89\"],[0.6666666666666666,\"#35b779\"],[0.7777777777777778,\"#6ece58\"],[0.8888888888888888,\"#b5de2b\"],[1.0,\"#fde725\"]],\"type\":\"contour\"}],\"heatmapgl\":[{\"colorbar\":{\"outlinewidth\":1,\"tickcolor\":\"rgb(36,36,36)\",\"ticks\":\"outside\"},\"colorscale\":[[0.0,\"#440154\"],[0.1111111111111111,\"#482878\"],[0.2222222222222222,\"#3e4989\"],[0.3333333333333333,\"#31688e\"],[0.4444444444444444,\"#26828e\"],[0.5555555555555556,\"#1f9e89\"],[0.6666666666666666,\"#35b779\"],[0.7777777777777778,\"#6ece58\"],[0.8888888888888888,\"#b5de2b\"],[1.0,\"#fde725\"]],\"type\":\"heatmapgl\"}],\"heatmap\":[{\"colorbar\":{\"outlinewidth\":1,\"tickcolor\":\"rgb(36,36,36)\",\"ticks\":\"outside\"},\"colorscale\":[[0.0,\"#440154\"],[0.1111111111111111,\"#482878\"],[0.2222222222222222,\"#3e4989\"],[0.3333333333333333,\"#31688e\"],[0.4444444444444444,\"#26828e\"],[0.5555555555555556,\"#1f9e89\"],[0.6666666666666666,\"#35b779\"],[0.7777777777777778,\"#6ece58\"],[0.8888888888888888,\"#b5de2b\"],[1.0,\"#fde725\"]],\"type\":\"heatmap\"}],\"histogram2dcontour\":[{\"colorbar\":{\"outlinewidth\":1,\"tickcolor\":\"rgb(36,36,36)\",\"ticks\":\"outside\"},\"colorscale\":[[0.0,\"#440154\"],[0.1111111111111111,\"#482878\"],[0.2222222222222222,\"#3e4989\"],[0.3333333333333333,\"#31688e\"],[0.4444444444444444,\"#26828e\"],[0.5555555555555556,\"#1f9e89\"],[0.6666666666666666,\"#35b779\"],[0.7777777777777778,\"#6ece58\"],[0.8888888888888888,\"#b5de2b\"],[1.0,\"#fde725\"]],\"type\":\"histogram2dcontour\"}],\"histogram2d\":[{\"colorbar\":{\"outlinewidth\":1,\"tickcolor\":\"rgb(36,36,36)\",\"ticks\":\"outside\"},\"colorscale\":[[0.0,\"#440154\"],[0.1111111111111111,\"#482878\"],[0.2222222222222222,\"#3e4989\"],[0.3333333333333333,\"#31688e\"],[0.4444444444444444,\"#26828e\"],[0.5555555555555556,\"#1f9e89\"],[0.6666666666666666,\"#35b779\"],[0.7777777777777778,\"#6ece58\"],[0.8888888888888888,\"#b5de2b\"],[1.0,\"#fde725\"]],\"type\":\"histogram2d\"}],\"histogram\":[{\"marker\":{\"line\":{\"color\":\"white\",\"width\":0.6}},\"type\":\"histogram\"}],\"mesh3d\":[{\"colorbar\":{\"outlinewidth\":1,\"tickcolor\":\"rgb(36,36,36)\",\"ticks\":\"outside\"},\"type\":\"mesh3d\"}],\"parcoords\":[{\"line\":{\"colorbar\":{\"outlinewidth\":1,\"tickcolor\":\"rgb(36,36,36)\",\"ticks\":\"outside\"}},\"type\":\"parcoords\"}],\"pie\":[{\"automargin\":true,\"type\":\"pie\"}],\"scatter3d\":[{\"line\":{\"colorbar\":{\"outlinewidth\":1,\"tickcolor\":\"rgb(36,36,36)\",\"ticks\":\"outside\"}},\"marker\":{\"colorbar\":{\"outlinewidth\":1,\"tickcolor\":\"rgb(36,36,36)\",\"ticks\":\"outside\"}},\"type\":\"scatter3d\"}],\"scattercarpet\":[{\"marker\":{\"colorbar\":{\"outlinewidth\":1,\"tickcolor\":\"rgb(36,36,36)\",\"ticks\":\"outside\"}},\"type\":\"scattercarpet\"}],\"scattergeo\":[{\"marker\":{\"colorbar\":{\"outlinewidth\":1,\"tickcolor\":\"rgb(36,36,36)\",\"ticks\":\"outside\"}},\"type\":\"scattergeo\"}],\"scattergl\":[{\"marker\":{\"colorbar\":{\"outlinewidth\":1,\"tickcolor\":\"rgb(36,36,36)\",\"ticks\":\"outside\"}},\"type\":\"scattergl\"}],\"scattermapbox\":[{\"marker\":{\"colorbar\":{\"outlinewidth\":1,\"tickcolor\":\"rgb(36,36,36)\",\"ticks\":\"outside\"}},\"type\":\"scattermapbox\"}],\"scatterpolargl\":[{\"marker\":{\"colorbar\":{\"outlinewidth\":1,\"tickcolor\":\"rgb(36,36,36)\",\"ticks\":\"outside\"}},\"type\":\"scatterpolargl\"}],\"scatterpolar\":[{\"marker\":{\"colorbar\":{\"outlinewidth\":1,\"tickcolor\":\"rgb(36,36,36)\",\"ticks\":\"outside\"}},\"type\":\"scatterpolar\"}],\"scatter\":[{\"fillpattern\":{\"fillmode\":\"overlay\",\"size\":10,\"solidity\":0.2},\"type\":\"scatter\"}],\"scatterternary\":[{\"marker\":{\"colorbar\":{\"outlinewidth\":1,\"tickcolor\":\"rgb(36,36,36)\",\"ticks\":\"outside\"}},\"type\":\"scatterternary\"}],\"surface\":[{\"colorbar\":{\"outlinewidth\":1,\"tickcolor\":\"rgb(36,36,36)\",\"ticks\":\"outside\"},\"colorscale\":[[0.0,\"#440154\"],[0.1111111111111111,\"#482878\"],[0.2222222222222222,\"#3e4989\"],[0.3333333333333333,\"#31688e\"],[0.4444444444444444,\"#26828e\"],[0.5555555555555556,\"#1f9e89\"],[0.6666666666666666,\"#35b779\"],[0.7777777777777778,\"#6ece58\"],[0.8888888888888888,\"#b5de2b\"],[1.0,\"#fde725\"]],\"type\":\"surface\"}],\"table\":[{\"cells\":{\"fill\":{\"color\":\"rgb(237,237,237)\"},\"line\":{\"color\":\"white\"}},\"header\":{\"fill\":{\"color\":\"rgb(217,217,217)\"},\"line\":{\"color\":\"white\"}},\"type\":\"table\"}]},\"layout\":{\"annotationdefaults\":{\"arrowhead\":0,\"arrowwidth\":1},\"autotypenumbers\":\"strict\",\"coloraxis\":{\"colorbar\":{\"outlinewidth\":1,\"tickcolor\":\"rgb(36,36,36)\",\"ticks\":\"outside\"}},\"colorscale\":{\"diverging\":[[0.0,\"rgb(103,0,31)\"],[0.1,\"rgb(178,24,43)\"],[0.2,\"rgb(214,96,77)\"],[0.3,\"rgb(244,165,130)\"],[0.4,\"rgb(253,219,199)\"],[0.5,\"rgb(247,247,247)\"],[0.6,\"rgb(209,229,240)\"],[0.7,\"rgb(146,197,222)\"],[0.8,\"rgb(67,147,195)\"],[0.9,\"rgb(33,102,172)\"],[1.0,\"rgb(5,48,97)\"]],\"sequential\":[[0.0,\"#440154\"],[0.1111111111111111,\"#482878\"],[0.2222222222222222,\"#3e4989\"],[0.3333333333333333,\"#31688e\"],[0.4444444444444444,\"#26828e\"],[0.5555555555555556,\"#1f9e89\"],[0.6666666666666666,\"#35b779\"],[0.7777777777777778,\"#6ece58\"],[0.8888888888888888,\"#b5de2b\"],[1.0,\"#fde725\"]],\"sequentialminus\":[[0.0,\"#440154\"],[0.1111111111111111,\"#482878\"],[0.2222222222222222,\"#3e4989\"],[0.3333333333333333,\"#31688e\"],[0.4444444444444444,\"#26828e\"],[0.5555555555555556,\"#1f9e89\"],[0.6666666666666666,\"#35b779\"],[0.7777777777777778,\"#6ece58\"],[0.8888888888888888,\"#b5de2b\"],[1.0,\"#fde725\"]]},\"colorway\":[\"#1F77B4\",\"#FF7F0E\",\"#2CA02C\",\"#D62728\",\"#9467BD\",\"#8C564B\",\"#E377C2\",\"#7F7F7F\",\"#BCBD22\",\"#17BECF\"],\"font\":{\"color\":\"rgb(36,36,36)\"},\"geo\":{\"bgcolor\":\"white\",\"lakecolor\":\"white\",\"landcolor\":\"white\",\"showlakes\":true,\"showland\":true,\"subunitcolor\":\"white\"},\"hoverlabel\":{\"align\":\"left\"},\"hovermode\":\"closest\",\"mapbox\":{\"style\":\"light\"},\"paper_bgcolor\":\"white\",\"plot_bgcolor\":\"white\",\"polar\":{\"angularaxis\":{\"gridcolor\":\"rgb(232,232,232)\",\"linecolor\":\"rgb(36,36,36)\",\"showgrid\":false,\"showline\":true,\"ticks\":\"outside\"},\"bgcolor\":\"white\",\"radialaxis\":{\"gridcolor\":\"rgb(232,232,232)\",\"linecolor\":\"rgb(36,36,36)\",\"showgrid\":false,\"showline\":true,\"ticks\":\"outside\"}},\"scene\":{\"xaxis\":{\"backgroundcolor\":\"white\",\"gridcolor\":\"rgb(232,232,232)\",\"gridwidth\":2,\"linecolor\":\"rgb(36,36,36)\",\"showbackground\":true,\"showgrid\":false,\"showline\":true,\"ticks\":\"outside\",\"zeroline\":false,\"zerolinecolor\":\"rgb(36,36,36)\"},\"yaxis\":{\"backgroundcolor\":\"white\",\"gridcolor\":\"rgb(232,232,232)\",\"gridwidth\":2,\"linecolor\":\"rgb(36,36,36)\",\"showbackground\":true,\"showgrid\":false,\"showline\":true,\"ticks\":\"outside\",\"zeroline\":false,\"zerolinecolor\":\"rgb(36,36,36)\"},\"zaxis\":{\"backgroundcolor\":\"white\",\"gridcolor\":\"rgb(232,232,232)\",\"gridwidth\":2,\"linecolor\":\"rgb(36,36,36)\",\"showbackground\":true,\"showgrid\":false,\"showline\":true,\"ticks\":\"outside\",\"zeroline\":false,\"zerolinecolor\":\"rgb(36,36,36)\"}},\"shapedefaults\":{\"fillcolor\":\"black\",\"line\":{\"width\":0},\"opacity\":0.3},\"ternary\":{\"aaxis\":{\"gridcolor\":\"rgb(232,232,232)\",\"linecolor\":\"rgb(36,36,36)\",\"showgrid\":false,\"showline\":true,\"ticks\":\"outside\"},\"baxis\":{\"gridcolor\":\"rgb(232,232,232)\",\"linecolor\":\"rgb(36,36,36)\",\"showgrid\":false,\"showline\":true,\"ticks\":\"outside\"},\"bgcolor\":\"white\",\"caxis\":{\"gridcolor\":\"rgb(232,232,232)\",\"linecolor\":\"rgb(36,36,36)\",\"showgrid\":false,\"showline\":true,\"ticks\":\"outside\"}},\"title\":{\"x\":0.05},\"xaxis\":{\"automargin\":true,\"gridcolor\":\"rgb(232,232,232)\",\"linecolor\":\"rgb(36,36,36)\",\"showgrid\":false,\"showline\":true,\"ticks\":\"outside\",\"title\":{\"standoff\":15},\"zeroline\":false,\"zerolinecolor\":\"rgb(36,36,36)\"},\"yaxis\":{\"automargin\":true,\"gridcolor\":\"rgb(232,232,232)\",\"linecolor\":\"rgb(36,36,36)\",\"showgrid\":false,\"showline\":true,\"ticks\":\"outside\",\"title\":{\"standoff\":15},\"zeroline\":false,\"zerolinecolor\":\"rgb(36,36,36)\"}}},\"legend\":{\"itemsizing\":\"constant\",\"tracegroupgap\":0},\"width\":700,\"height\":600,\"xaxis\":{\"title\":{},\"mirror\":false,\"showgrid\":false,\"showline\":false,\"showticklabels\":false,\"ticks\":\"\"},\"yaxis\":{\"title\":{},\"mirror\":false,\"showgrid\":false,\"showline\":false,\"showticklabels\":false,\"ticks\":\"\",\"scaleanchor\":\"x\",\"scaleratio\":1}},                        {\"responsive\": true}                    ).then(function(){\n",
       "                            \n",
       "var gd = document.getElementById('755156e4-d226-4fdc-b8ac-b43e30b953da');\n",
       "var x = new MutationObserver(function (mutations, observer) {{\n",
       "        var display = window.getComputedStyle(gd).display;\n",
       "        if (!display || display === 'none') {{\n",
       "            console.log([gd, 'removed!']);\n",
       "            Plotly.purge(gd);\n",
       "            observer.disconnect();\n",
       "        }}\n",
       "}});\n",
       "\n",
       "// Listen for the removal of the full notebook cells\n",
       "var notebookContainer = gd.closest('#notebook-container');\n",
       "if (notebookContainer) {{\n",
       "    x.observe(notebookContainer, {childList: true});\n",
       "}}\n",
       "\n",
       "// Listen for the clearing of the current output cell\n",
       "var outputEl = gd.closest('.output');\n",
       "if (outputEl) {{\n",
       "    x.observe(outputEl, {childList: true});\n",
       "}}\n",
       "\n",
       "                        })                };                });            </script>        </div>"
      ]
     },
     "metadata": {},
     "output_type": "display_data"
    }
   ],
   "source": [
    "import anjl\n",
    "D, leaf_data = anjl.data.mosquitoes()\n",
    "Z = anjl.rapid_nj(D)\n",
    "anjl.plot(\n",
    "    Z, \n",
    "    leaf_data=leaf_data, \n",
    "    color=\"taxon\",\n",
    "    hover_name=\"sample_id\",\n",
    ")"
   ]
  },
  {
   "cell_type": "markdown",
   "id": "e8600a4e-8a23-4fcb-a2f0-a093d8eac6b2",
   "metadata": {},
   "source": [
    "## Numba lessons"
   ]
  },
  {
   "cell_type": "markdown",
   "id": "416218c4-6aa2-484d-b7bd-fa46baebf661",
   "metadata": {},
   "source": [
    "I've used numba before but learned a few new things from this project.\n",
    "\n",
    "### Boundscheck\n",
    "\n",
    "@@TODO\n",
    "\n",
    "### Wraparound\n",
    "\n",
    "@@TODO\n",
    "\n",
    "### Profiling \n",
    "\n",
    "@@TODO"
   ]
  },
  {
   "cell_type": "markdown",
   "id": "3c57d7af-dfe2-4d9d-8d5c-488997688b34",
   "metadata": {},
   "source": [
    "## Mysteries / curiosities\n",
    "\n",
    "There's a couple of curiosities that I didn't have time to bottom out.\n",
    "\n",
    "1. Why is inner loop of canonical algorithm so much faster?\n",
    "\n",
    "@@TODO\n",
    "\n",
    "2. Why don't strategies for improving search suggested by Simonsen seem to matter?\n",
    "\n",
    "@@TODO"
   ]
  },
  {
   "cell_type": "raw",
   "id": "3038f1a8-771f-4c32-ad39-032f1ea5a7f2",
   "metadata": {
    "editable": true,
    "raw_mimetype": "",
    "slideshow": {
     "slide_type": ""
    },
    "tags": []
   },
   "source": [
    "{% endraw %}"
   ]
  }
 ],
 "metadata": {
  "kernelspec": {
   "display_name": "Python 3 (ipykernel)",
   "language": "python",
   "name": "python3"
  },
  "language_info": {
   "codemirror_mode": {
    "name": "ipython",
    "version": 3
   },
   "file_extension": ".py",
   "mimetype": "text/x-python",
   "name": "python",
   "nbconvert_exporter": "python",
   "pygments_lexer": "ipython3",
   "version": "3.12.7"
  }
 },
 "nbformat": 4,
 "nbformat_minor": 5
}
