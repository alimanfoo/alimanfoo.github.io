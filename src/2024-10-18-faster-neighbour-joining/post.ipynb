{
 "cells": [
  {
   "cell_type": "raw",
   "id": "69a55cf0-fe97-4b2b-8cf9-66133beb4ddc",
   "metadata": {},
   "source": [
    "---\n",
    "layout: post\n",
    "title: Faster neighbour-joining\n",
    "---\n",
    "{% raw %}"
   ]
  },
  {
   "cell_type": "code",
   "execution_count": 9,
   "id": "1adc29e6-cf79-4729-a0b8-dc9c2a7bd14c",
   "metadata": {
    "editable": true,
    "slideshow": {
     "slide_type": ""
    },
    "tags": [
     "remove_input"
    ]
   },
   "outputs": [
    {
     "data": {
      "text/html": [
       "<script>\n",
       "MathJax = {\n",
       "  tex: {\n",
       "    inlineMath: [['$', '$']]\n",
       "  },\n",
       "  svg: {\n",
       "    fontCache: 'global'\n",
       "  }\n",
       "};\n",
       "</script>\n",
       "<script type=\"text/javascript\" id=\"MathJax-script\" async\n",
       "  src=\"https://cdn.jsdelivr.net/npm/mathjax@3/es5/tex-svg.js\">\n",
       "</script>\n"
      ],
      "text/plain": [
       "<IPython.core.display.HTML object>"
      ]
     },
     "metadata": {},
     "output_type": "display_data"
    }
   ],
   "source": [
    "%%html\n",
    "<script>\n",
    "MathJax = {\n",
    "  tex: {\n",
    "    inlineMath: [['$', '$']]\n",
    "  },\n",
    "  svg: {\n",
    "    fontCache: 'global'\n",
    "  }\n",
    "};\n",
    "</script>\n",
    "<script type=\"text/javascript\" id=\"MathJax-script\" async\n",
    "  src=\"https://cdn.jsdelivr.net/npm/mathjax@3/es5/tex-svg.js\">\n",
    "</script>"
   ]
  },
  {
   "cell_type": "markdown",
   "id": "10708ccd-7b66-42ac-82ca-cb021b828dae",
   "metadata": {
    "editable": true,
    "slideshow": {
     "slide_type": ""
    },
    "tags": []
   },
   "source": [
    "Neighbour-joining trees (NJT) are a useful tool for exploratory analysis of genetic population structure, which I've [written about recently](https://alimanfoo.github.io/2024/09/05/kenya-coluzzii-njt.html). Previously I've used [biotite](https://www.biotite-python.org/latest/index.html) to compute NJT for hundreds of individuals, but recently I was trying to build some bigger trees with thousands of individuals and things started to take a long time to run. I then learned of course that the canonical neighbour-joining algorithm is $O(n^3)$ meaning that speed of computation scales with the number of samples cubed. This happens because neighbour-joining is an interative algorithm, where each iteration involves searching a distance matrix for the pair of nearest neighbours.\n",
    "\n",
    "I spent some time looking at the biotite implementation which uses the canonical algorithm that fully searches the distance matrix at each iteration and is written in Cython. I saw a few opportunities to make the implementation more efficient by avoiding some unnecessary work. I also read around a little and found a [paper by Martin Simonsen et al. from 2008](https://pure.au.dk/ws/files/19821675/rapidNJ.pdf) describing a rapid neighbour-joining algorithm which uses some heuristics to avoid doing a full search of the distance matrix in each iteration. There is a [C++ implementation of the rapid algorithm](https://github.com/somme89/rapidNJ) but I'd really like something efficient that I can call directly from Python.\n",
    "\n",
    "After a bit of prototyping I was fairly confident I could at least do an implementation of the canonical neighbour-joining algorithm using [numba](https://numba.pydata.org/) that was pretty fast. After a bit more tuning I managed to get around a 10x speedup over biotite. E.g., for a dataset of 3000 individuals, biotite took ~55s and my implementation took ~6s. I decided this was worth packaging and so created a [new Python packaged called \"anjl\"](https://alimanfoo.github.io/anjl/) which stands for \"A neighbour-joining library\". "
   ]
  },
  {
   "cell_type": "raw",
   "id": "3038f1a8-771f-4c32-ad39-032f1ea5a7f2",
   "metadata": {},
   "source": [
    "{% endraw %}"
   ]
  }
 ],
 "metadata": {
  "kernelspec": {
   "display_name": "Python 3 (ipykernel)",
   "language": "python",
   "name": "python3"
  },
  "language_info": {
   "codemirror_mode": {
    "name": "ipython",
    "version": 3
   },
   "file_extension": ".py",
   "mimetype": "text/x-python",
   "name": "python",
   "nbconvert_exporter": "python",
   "pygments_lexer": "ipython3",
   "version": "3.12.7"
  }
 },
 "nbformat": 4,
 "nbformat_minor": 5
}
