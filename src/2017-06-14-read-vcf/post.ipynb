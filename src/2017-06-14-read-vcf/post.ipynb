{
 "cells": [
  {
   "cell_type": "markdown",
   "metadata": {},
   "source": [
    "*This post gives an introduction to functions for extracting data from [Variant Call Format (VCF)](https://samtools.github.io/hts-specs/VCFv4.3.pdf) files and loading into [NumPy](http://www.numpy.org/) arrays, [pandas](http://pandas.pydata.org/) data frames, [HDF5](https://support.hdfgroup.org/HDF5/) files or [Zarr](http://zarr.readthedocs.io) arrays for ease of analysis. These functions are available in [scikit-allel](http://scikit-allel.readthedocs.io/en/latest/) version 1.1 or later. Any feedback or bug reports welcome.*\n",
    "\n",
    "*Update 2018-10-12: This post has been updated to use scikit-allel 1.1.10 and zarr 2.2, and adds examples of how to store data grouped by chromosome.*"
   ]
  },
  {
   "cell_type": "markdown",
   "metadata": {},
   "source": [
    "## Introduction"
   ]
  },
  {
   "cell_type": "markdown",
   "metadata": {},
   "source": [
    "### Variant Call Format (VCF)\n",
    "\n",
    "VCF is a widely-used file format for genetic variation data. Here is an example of a small VCF file, based on the example given in the [VCF specification](https://samtools.github.io/hts-specs/VCFv4.3.pdf):"
   ]
  },
  {
   "cell_type": "code",
   "execution_count": 1,
   "metadata": {},
   "outputs": [
    {
     "name": "stdout",
     "output_type": "stream",
     "text": [
      "##fileformat=VCFv4.3\n",
      "##reference=file:///seq/references/1000GenomesPilot-NCBI36.fasta\n",
      "##contig=<ID=20,length=62435964,assembly=B36,md5=f126cdf8a6e0c7f379d618ff66beb2da,species=\"Homo sapiens\",taxonomy=x>\n",
      "##INFO=<ID=DP,Number=1,Type=Integer,Description=\"Total Depth\">\n",
      "##INFO=<ID=AF,Number=A,Type=Float,Description=\"Allele Frequency\">\n",
      "##INFO=<ID=DB,Number=0,Type=Flag,Description=\"dbSNP membership, build 129\">\n",
      "##FILTER=<ID=q10,Description=\"Quality below 10\">\n",
      "##FILTER=<ID=s50,Description=\"Less than 50% of samples have data\">\n",
      "##FORMAT=<ID=GT,Number=1,Type=String,Description=\"Genotype\">\n",
      "##FORMAT=<ID=DP,Number=1,Type=Integer,Description=\"Read Depth\">\n",
      "#CHROM\tPOS\tID\tREF\tALT\tQUAL\tFILTER\tINFO\tFORMAT\tNA00001\tNA00002\tNA00003\n",
      "20\t14370\trs6054257\tG\tA\t29\tPASS\tDP=14;AF=0.5;DB\tGT:DP\t0/0:1\t0/1:8\t1/1:5\n",
      "20\t17330\t.\tT\tA\t3\tq10\tDP=11;AF=0.017\tGT:DP\t0/0:3\t0/1:5\t0/0:41\n",
      "20\t1110696\trs6040355\tA\tG,T\t67\tPASS\tDP=10;AF=0.333,0.667;DB\tGT:DP\t0/2:6\t1/2:0\t2/2:4\n",
      "20\t1230237\t.\tT\t.\t47\tPASS\tDP=13\tGT:DP\t0/0:7\t0/0:4\t./.:.\n",
      "20\t1234567\tmicrosat1\tGTC\tG,GTCT\t50\tPASS\tDP=9\tGT:DP\t0/1:4\t0/2:2\t1/1:3\n"
     ]
    }
   ],
   "source": [
    "with open('example.vcf', mode='r') as vcf:\n",
    "    print(vcf.read())"
   ]
  },
  {
   "cell_type": "markdown",
   "metadata": {},
   "source": [
    "A VCF file begins with a number of meta-information lines, which start with two hash ('##') characters. Then there is a single header line beginning with a single hash ('#') character. After the header line there are data lines, with each data line describing a genetic variant at a particular position relative to the reference genome of whichever species you are studying. Each data line is divided into fields separated by tab characters. There are 9 fixed fields, labelled \"CHROM\", \"POS\", \"ID\", \"REF\", \"ALT\", \"QUAL\", \"FILTER\", \"INFO\" and \"FORMAT\". Following these are fields containing data about samples, which usually contain a genotype call for each sample plus some associated data. \n",
    "\n",
    "For example, the first data line in the file above describes a variant on chromosome 20 at position 14370 relative to the B36 assembly of the human genome. The reference allele is 'G' and the alternate allele is 'A', so this is a single nucleotide polymorphism (SNP). In this file there are three fields with data about samples labelled 'NA00001', 'NA00002' and 'NA00003'. The genotype call in the first sample is '0/0', meaning that individual 'NA0001' is homozygous for the reference allele at this position. The genotype call for the second sample is '0/1' (you may need to scroll across to see this), which means that individual 'NA00002' is heterozygous for the reference and alternate alleles at this position."
   ]
  },
  {
   "cell_type": "markdown",
   "metadata": {},
   "source": [
    "### NumPy, pandas, HDF5, Zarr, ...\n",
    "\n",
    "There are a number of software tools that can read VCF files and perform various analyses. However, if your dataset is large and/or you need to do some bespoke analysis, then it can be faster and more convenient to first extract the necessary data from the VCF file and load into a more efficient storage container.\n",
    "\n",
    "For analysis and plotting of numerical data in Python, it is very convenient to load data into [NumPy arrays](https://docs.scipy.org/doc/numpy-dev/user/quickstart.html). A NumPy array is an in-memory data structure that provides support for fast arithmetic and data manipulation. For analysing tables of data, [pandas DataFrames](https://pandas.pydata.org/pandas-docs/stable/dsintro.html) provide useful features such as querying, aggregation and joins. When data are too large to fit into main memory, [HDF5 files](http://docs.h5py.org/en/latest/quick.html) and [Zarr arrays](http://zarr.readthedocs.io/en/latest/tutorial.html) can provide fast on-disk storage and retrieval of numerical arrays. \n",
    "\n",
    "[scikit-allel](http://scikit-allel.readthedocs.io/en/latest/) is a Python package intended to enable exploratory analysis of large-scale genetic variation data. Version 1.1.0 of scikit-allel adds some new functions for extracting data from VCF files and loading the data into NumPy arrays, pandas DataFrames or HDF5 files. Once you have extracted these data, there are many analyses that can be run interactively on a commodity laptop or desktop computer, even with large-scale datasets from population resequencing studies. To give a flavour of what analyses can be done, there are a few previous articles on my blog, touching on topics including [variant and sample QC](http://alimanfoo.github.io/2016/06/10/scikit-allel-tour.html), [allele frequency differentiation](http://alimanfoo.github.io/2015/09/21/estimating-fst.html), [population structure](http://alimanfoo.github.io/2015/09/28/fast-pca.html), and [genetic crosses](http://alimanfoo.github.io/2017/02/14/mendelian-transmission.html).\n",
    "\n",
    "Until now, getting data out of VCF files and into NumPy etc. has been a bit of a pain point. Hopefully the new scikit-allel functions will make this a bit less of a hurdle. Let's take a look at the new functions..."
   ]
  },
  {
   "cell_type": "markdown",
   "metadata": {},
   "source": [
    "## [`read_vcf()`](http://scikit-allel.readthedocs.io/en/latest/io.html#allel.read_vcf)\n",
    "\n",
    "Let's start with the scikit-allel function [`read_vcf()`](http://scikit-allel.readthedocs.io/en/latest/io.html#allel.read_vcf). First, some imports:"
   ]
  },
  {
   "cell_type": "code",
   "execution_count": 2,
   "metadata": {},
   "outputs": [
    {
     "name": "stdout",
     "output_type": "stream",
     "text": [
      "1.1.10\n"
     ]
    }
   ],
   "source": [
    "# import scikit-allel\n",
    "import allel\n",
    "# check which version is installed\n",
    "print(allel.__version__)"
   ]
  },
  {
   "cell_type": "markdown",
   "metadata": {},
   "source": [
    "Read the example VCF file shown above, using default parameters:"
   ]
  },
  {
   "cell_type": "code",
   "execution_count": 3,
   "metadata": {},
   "outputs": [],
   "source": [
    "callset = allel.read_vcf('example.vcf')"
   ]
  },
  {
   "cell_type": "markdown",
   "metadata": {},
   "source": [
    "The `callset` object returned by `read_vcf()` is a Python dictionary (`dict`). It contains several NumPy arrays, each of which can be accessed via a key. Here are the available keys: "
   ]
  },
  {
   "cell_type": "code",
   "execution_count": 4,
   "metadata": {},
   "outputs": [
    {
     "data": {
      "text/plain": [
       "['calldata/GT',\n",
       " 'samples',\n",
       " 'variants/ALT',\n",
       " 'variants/CHROM',\n",
       " 'variants/FILTER_PASS',\n",
       " 'variants/ID',\n",
       " 'variants/POS',\n",
       " 'variants/QUAL',\n",
       " 'variants/REF']"
      ]
     },
     "execution_count": 4,
     "metadata": {},
     "output_type": "execute_result"
    }
   ],
   "source": [
    "sorted(callset.keys())"
   ]
  },
  {
   "cell_type": "markdown",
   "metadata": {},
   "source": [
    "The 'samples' array contains sample identifiers extracted from the header line in the VCF file."
   ]
  },
  {
   "cell_type": "code",
   "execution_count": 5,
   "metadata": {},
   "outputs": [
    {
     "data": {
      "text/plain": [
       "array(['NA00001', 'NA00002', 'NA00003'], dtype=object)"
      ]
     },
     "execution_count": 5,
     "metadata": {},
     "output_type": "execute_result"
    }
   ],
   "source": [
    "callset['samples']"
   ]
  },
  {
   "cell_type": "markdown",
   "metadata": {},
   "source": [
    "All arrays with keys beginning 'variants/' come from the fixed fields in the VCF file. For example, here is the data from the 'CHROM' field:"
   ]
  },
  {
   "cell_type": "code",
   "execution_count": 6,
   "metadata": {},
   "outputs": [
    {
     "data": {
      "text/plain": [
       "array(['20', '20', '20', '20', '20'], dtype=object)"
      ]
     },
     "execution_count": 6,
     "metadata": {},
     "output_type": "execute_result"
    }
   ],
   "source": [
    "callset['variants/CHROM']"
   ]
  },
  {
   "cell_type": "markdown",
   "metadata": {},
   "source": [
    "Here is the data from the 'POS' field:"
   ]
  },
  {
   "cell_type": "code",
   "execution_count": 7,
   "metadata": {},
   "outputs": [
    {
     "data": {
      "text/plain": [
       "array([  14370,   17330, 1110696, 1230237, 1234567], dtype=int32)"
      ]
     },
     "execution_count": 7,
     "metadata": {},
     "output_type": "execute_result"
    }
   ],
   "source": [
    "callset['variants/POS']"
   ]
  },
  {
   "cell_type": "markdown",
   "metadata": {},
   "source": [
    "Here is the data from the 'QUAL' field:"
   ]
  },
  {
   "cell_type": "code",
   "execution_count": 8,
   "metadata": {},
   "outputs": [
    {
     "data": {
      "text/plain": [
       "array([ 29.,   3.,  67.,  47.,  50.], dtype=float32)"
      ]
     },
     "execution_count": 8,
     "metadata": {},
     "output_type": "execute_result"
    }
   ],
   "source": [
    "callset['variants/QUAL']"
   ]
  },
  {
   "cell_type": "markdown",
   "metadata": {},
   "source": [
    "All arrays with keys beginning 'calldata/' come from the sample fields in the VCF file. For example, here are the actual genotype calls from the 'GT' field:"
   ]
  },
  {
   "cell_type": "code",
   "execution_count": 9,
   "metadata": {},
   "outputs": [
    {
     "data": {
      "text/plain": [
       "array([[[ 0,  0],\n",
       "        [ 0,  1],\n",
       "        [ 1,  1]],\n",
       "\n",
       "       [[ 0,  0],\n",
       "        [ 0,  1],\n",
       "        [ 0,  0]],\n",
       "\n",
       "       [[ 0,  2],\n",
       "        [ 1,  2],\n",
       "        [ 2,  2]],\n",
       "\n",
       "       [[ 0,  0],\n",
       "        [ 0,  0],\n",
       "        [-1, -1]],\n",
       "\n",
       "       [[ 0,  1],\n",
       "        [ 0,  2],\n",
       "        [ 1,  1]]], dtype=int8)"
      ]
     },
     "execution_count": 9,
     "metadata": {},
     "output_type": "execute_result"
    }
   ],
   "source": [
    "callset['calldata/GT']"
   ]
  },
  {
   "cell_type": "markdown",
   "metadata": {},
   "source": [
    "Note the -1 values for one of the genotype calls. By default scikit-allel uses -1 to indicate a missing value for any array with a signed integer data type (although you can change this if you want).\n",
    "\n",
    "### Aside: genotype arrays\n",
    "\n",
    "Because working with genotype calls is a very common task, scikit-allel has a [`GenotypeArray`](http://scikit-allel.readthedocs.io/en/latest/model/ndarray.html#allel.model.ndarray.GenotypeArray) class which adds some convenient functionality to an array of genotype calls. To use this class, pass the raw NumPy array into the `GenotypeArray` class constructor, e.g.:"
   ]
  },
  {
   "cell_type": "code",
   "execution_count": 10,
   "metadata": {},
   "outputs": [
    {
     "data": {
      "text/html": [
       "<div class=\"allel allel-DisplayAs2D\"><span>&lt;GenotypeArray shape=(5, 3, 2) dtype=int8&gt;</span><table><thead><tr><th></th><th style=\"text-align: center\">0</th><th style=\"text-align: center\">1</th><th style=\"text-align: center\">2</th></tr></thead><tbody><tr><th style=\"text-align: center; background-color: white; border-right: 1px solid black; \">0</th><td style=\"text-align: center\">0/0</td><td style=\"text-align: center\">0/1</td><td style=\"text-align: center\">1/1</td></tr><tr><th style=\"text-align: center; background-color: white; border-right: 1px solid black; \">1</th><td style=\"text-align: center\">0/0</td><td style=\"text-align: center\">0/1</td><td style=\"text-align: center\">0/0</td></tr><tr><th style=\"text-align: center; background-color: white; border-right: 1px solid black; \">2</th><td style=\"text-align: center\">0/2</td><td style=\"text-align: center\">1/2</td><td style=\"text-align: center\">2/2</td></tr><tr><th style=\"text-align: center; background-color: white; border-right: 1px solid black; \">3</th><td style=\"text-align: center\">0/0</td><td style=\"text-align: center\">0/0</td><td style=\"text-align: center\">./.</td></tr><tr><th style=\"text-align: center; background-color: white; border-right: 1px solid black; \">4</th><td style=\"text-align: center\">0/1</td><td style=\"text-align: center\">0/2</td><td style=\"text-align: center\">1/1</td></tr></tbody></table></div>"
      ],
      "text/plain": [
       "<GenotypeArray shape=(5, 3, 2) dtype=int8>\n",
       "0/0 0/1 1/1\n",
       "0/0 0/1 0/0\n",
       "0/2 1/2 2/2\n",
       "0/0 0/0 ./.\n",
       "0/1 0/2 1/1"
      ]
     },
     "execution_count": 10,
     "metadata": {},
     "output_type": "execute_result"
    }
   ],
   "source": [
    "gt = allel.GenotypeArray(callset['calldata/GT'])\n",
    "gt"
   ]
  },
  {
   "cell_type": "markdown",
   "metadata": {},
   "source": [
    "One of the things that the `GenotypeArray` class does is provide a slightly more visually-appealing representation when used in a Jupyter notebook, as can be seen above. There are also methods for making various computations over the genotype calls. For example, the `is_het()` method locates all heterozygous genotype calls:"
   ]
  },
  {
   "cell_type": "code",
   "execution_count": 11,
   "metadata": {},
   "outputs": [
    {
     "data": {
      "text/plain": [
       "array([[False,  True, False],\n",
       "       [False,  True, False],\n",
       "       [ True,  True, False],\n",
       "       [False, False, False],\n",
       "       [ True,  True, False]], dtype=bool)"
      ]
     },
     "execution_count": 11,
     "metadata": {},
     "output_type": "execute_result"
    }
   ],
   "source": [
    "gt.is_het()"
   ]
  },
  {
   "cell_type": "markdown",
   "metadata": {},
   "source": [
    "To give another example, the `count_het()` method will count heterozygous calls, summing over variants (axis=0) or samples (axis=1) if requested. E.g., to count the number of het calls per variant:"
   ]
  },
  {
   "cell_type": "code",
   "execution_count": 12,
   "metadata": {},
   "outputs": [
    {
     "data": {
      "text/plain": [
       "array([1, 1, 2, 0, 2])"
      ]
     },
     "execution_count": 12,
     "metadata": {},
     "output_type": "execute_result"
    }
   ],
   "source": [
    "gt.count_het(axis=1)"
   ]
  },
  {
   "cell_type": "markdown",
   "metadata": {},
   "source": [
    "One more example, here is how to perform an allele count, i.e., count the number times each allele (0=reference, 1=first alternate, 2=second alternate, etc.) is observed for each variant:"
   ]
  },
  {
   "cell_type": "code",
   "execution_count": 13,
   "metadata": {},
   "outputs": [
    {
     "data": {
      "text/html": [
       "<div class=\"allel allel-DisplayAs2D\"><span>&lt;AlleleCountsArray shape=(5, 3) dtype=int32&gt;</span><table><thead><tr><th></th><th style=\"text-align: center\">0</th><th style=\"text-align: center\">1</th><th style=\"text-align: center\">2</th></tr></thead><tbody><tr><th style=\"text-align: center; background-color: white; border-right: 1px solid black; \">0</th><td style=\"text-align: center\">3</td><td style=\"text-align: center\">3</td><td style=\"text-align: center\">0</td></tr><tr><th style=\"text-align: center; background-color: white; border-right: 1px solid black; \">1</th><td style=\"text-align: center\">5</td><td style=\"text-align: center\">1</td><td style=\"text-align: center\">0</td></tr><tr><th style=\"text-align: center; background-color: white; border-right: 1px solid black; \">2</th><td style=\"text-align: center\">1</td><td style=\"text-align: center\">1</td><td style=\"text-align: center\">4</td></tr><tr><th style=\"text-align: center; background-color: white; border-right: 1px solid black; \">3</th><td style=\"text-align: center\">4</td><td style=\"text-align: center\">0</td><td style=\"text-align: center\">0</td></tr><tr><th style=\"text-align: center; background-color: white; border-right: 1px solid black; \">4</th><td style=\"text-align: center\">2</td><td style=\"text-align: center\">3</td><td style=\"text-align: center\">1</td></tr></tbody></table></div>"
      ],
      "text/plain": [
       "<AlleleCountsArray shape=(5, 3) dtype=int32>\n",
       "3 3 0\n",
       "5 1 0\n",
       "1 1 4\n",
       "4 0 0\n",
       "2 3 1"
      ]
     },
     "execution_count": 13,
     "metadata": {},
     "output_type": "execute_result"
    }
   ],
   "source": [
    "ac = gt.count_alleles()\n",
    "ac"
   ]
  },
  {
   "cell_type": "markdown",
   "metadata": {},
   "source": [
    "### Fields\n",
    "\n",
    "VCF files can often contain many fields of data, and you may only need to extract some of them to perform a particular analysis. You can select which fields to extract by passing a list of strings as the **fields** parameter. For example, let's extract the 'DP' field from within the 'INFO' field, and let's also extract the 'DP' field from the genotype call data:"
   ]
  },
  {
   "cell_type": "code",
   "execution_count": 14,
   "metadata": {},
   "outputs": [
    {
     "data": {
      "text/plain": [
       "['calldata/DP', 'variants/DP']"
      ]
     },
     "execution_count": 14,
     "metadata": {},
     "output_type": "execute_result"
    }
   ],
   "source": [
    "callset = allel.read_vcf('example.vcf', fields=['variants/DP', 'calldata/DP'])\n",
    "sorted(callset.keys())"
   ]
  },
  {
   "cell_type": "markdown",
   "metadata": {},
   "source": [
    "Here is the data that we just extracted:"
   ]
  },
  {
   "cell_type": "code",
   "execution_count": 15,
   "metadata": {},
   "outputs": [
    {
     "data": {
      "text/plain": [
       "array([14, 11, 10, 13,  9], dtype=int32)"
      ]
     },
     "execution_count": 15,
     "metadata": {},
     "output_type": "execute_result"
    }
   ],
   "source": [
    "callset['variants/DP']"
   ]
  },
  {
   "cell_type": "code",
   "execution_count": 16,
   "metadata": {},
   "outputs": [
    {
     "data": {
      "text/plain": [
       "array([[ 1,  8,  5],\n",
       "       [ 3,  5, 41],\n",
       "       [ 6,  0,  4],\n",
       "       [ 7,  4, -1],\n",
       "       [ 4,  2,  3]], dtype=int16)"
      ]
     },
     "execution_count": 16,
     "metadata": {},
     "output_type": "execute_result"
    }
   ],
   "source": [
    "callset['calldata/DP']"
   ]
  },
  {
   "cell_type": "markdown",
   "metadata": {},
   "source": [
    "I chose these two fields to illustrate the point that sometimes the same field name (e.g., 'DP') can be used both within the INFO field of a VCF and also within the genotype call data. When selecting fields, to make sure there is no ambiguity, you can include a prefix which is either 'variants/' or 'calldata/'. For example, if you provide 'variants/DP', then the `read_vcf()` function will look for an INFO field named 'DP'. If you provide 'calldata/DP' then `read_vcf()` will look for a FORMAT field named 'DP' within the call data. \n",
    "\n",
    "If you are feeling lazy, you can drop the 'variants/' and 'calldata/' prefixes, in which case `read_vcf()` will assume you mean 'variants/' if there is any ambiguity. E.g.:"
   ]
  },
  {
   "cell_type": "code",
   "execution_count": 17,
   "metadata": {},
   "outputs": [
    {
     "data": {
      "text/plain": [
       "['calldata/GT', 'variants/DP']"
      ]
     },
     "execution_count": 17,
     "metadata": {},
     "output_type": "execute_result"
    }
   ],
   "source": [
    "callset = allel.read_vcf('example.vcf', fields=['DP', 'GT'])\n",
    "sorted(callset.keys())"
   ]
  },
  {
   "cell_type": "markdown",
   "metadata": {},
   "source": [
    "If you want to extract absolutely everything from a VCF file, then you can provide a special value ``'*'`` as the **fields** parameter: "
   ]
  },
  {
   "cell_type": "code",
   "execution_count": 18,
   "metadata": {},
   "outputs": [
    {
     "data": {
      "text/plain": [
       "['calldata/DP',\n",
       " 'calldata/GT',\n",
       " 'samples',\n",
       " 'variants/AF',\n",
       " 'variants/ALT',\n",
       " 'variants/CHROM',\n",
       " 'variants/DB',\n",
       " 'variants/DP',\n",
       " 'variants/FILTER_PASS',\n",
       " 'variants/FILTER_q10',\n",
       " 'variants/FILTER_s50',\n",
       " 'variants/ID',\n",
       " 'variants/POS',\n",
       " 'variants/QUAL',\n",
       " 'variants/REF',\n",
       " 'variants/is_snp',\n",
       " 'variants/numalt',\n",
       " 'variants/svlen']"
      ]
     },
     "execution_count": 18,
     "metadata": {},
     "output_type": "execute_result"
    }
   ],
   "source": [
    "callset = allel.read_vcf('example.vcf', fields='*')\n",
    "sorted(callset.keys())"
   ]
  },
  {
   "cell_type": "markdown",
   "metadata": {},
   "source": [
    "You can also provide the special value ``'variants/*'`` to request all variants fields (including all INFO), and the special value ``'calldata/*'`` to request all call data fields. \n",
    "\n",
    "If you don't specify the **fields** parameter, scikit-allel will default to extracting data from the fixed variants fields (but no INFO) and the GT genotype field if present (but no other call data)."
   ]
  },
  {
   "cell_type": "markdown",
   "metadata": {},
   "source": [
    "### Types\n",
    "\n",
    "NumPy arrays can have various [data types](https://docs.scipy.org/doc/numpy-1.12.0/user/basics.types.html), including signed integers ('int8', 'int16', 'int32', 'int64'), unsigned integers ('uint8', 'uint16', 'uint32', 'uint64'), floating point numbers ('float32', 'float64'), variable length strings ('object') and fixed length strings (e.g., 'S4' for a 4-character ASCII string). scikit-allel will try to choose a sensible default data type for the fields you want to extract, based on the meta-information in the VCF file, but you can override these via the **types** parameter. \n",
    "\n",
    "For example, by default the 'DP' INFO field is loaded into a 32-bit integer array:"
   ]
  },
  {
   "cell_type": "code",
   "execution_count": 19,
   "metadata": {},
   "outputs": [
    {
     "data": {
      "text/plain": [
       "array([14, 11, 10, 13,  9], dtype=int32)"
      ]
     },
     "execution_count": 19,
     "metadata": {},
     "output_type": "execute_result"
    }
   ],
   "source": [
    "callset = allel.read_vcf('example.vcf', fields=['DP'])\n",
    "callset['variants/DP']"
   ]
  },
  {
   "cell_type": "markdown",
   "metadata": {},
   "source": [
    "If you know the maximum value this field is going to contain, to save some memory you could choose a 16-bit integer array instead:"
   ]
  },
  {
   "cell_type": "code",
   "execution_count": 20,
   "metadata": {},
   "outputs": [
    {
     "data": {
      "text/plain": [
       "array([14, 11, 10, 13,  9], dtype=int16)"
      ]
     },
     "execution_count": 20,
     "metadata": {},
     "output_type": "execute_result"
    }
   ],
   "source": [
    "callset = allel.read_vcf('example.vcf', fields=['DP'], types={'DP': 'int16'})\n",
    "callset['variants/DP']"
   ]
  },
  {
   "cell_type": "markdown",
   "metadata": {},
   "source": [
    "You can also choose a floating-point data type, even for fields that are declared as type 'Integer' in the VCF meta-information, and vice versa. E.g.:"
   ]
  },
  {
   "cell_type": "code",
   "execution_count": 21,
   "metadata": {},
   "outputs": [
    {
     "data": {
      "text/plain": [
       "array([ 14.,  11.,  10.,  13.,   9.], dtype=float32)"
      ]
     },
     "execution_count": 21,
     "metadata": {},
     "output_type": "execute_result"
    }
   ],
   "source": [
    "callset = allel.read_vcf('example.vcf', fields=['DP'], types={'DP': 'float32'})\n",
    "callset['variants/DP']"
   ]
  },
  {
   "cell_type": "markdown",
   "metadata": {},
   "source": [
    "For fields containing textual data, there are two choices for data type. By default, scikit-allel will use an 'object' data type, which means that values are stored as an array of Python strings. E.g.:"
   ]
  },
  {
   "cell_type": "code",
   "execution_count": 22,
   "metadata": {},
   "outputs": [
    {
     "data": {
      "text/plain": [
       "array(['G', 'T', 'A', 'T', 'GTC'], dtype=object)"
      ]
     },
     "execution_count": 22,
     "metadata": {},
     "output_type": "execute_result"
    }
   ],
   "source": [
    "callset = allel.read_vcf('example.vcf')\n",
    "callset['variants/REF']"
   ]
  },
  {
   "cell_type": "markdown",
   "metadata": {},
   "source": [
    "The advantage of using 'object' dtype is that strings can be of any length. Alternatively, you can use a fixed-length string dtype, e.g.:"
   ]
  },
  {
   "cell_type": "code",
   "execution_count": 23,
   "metadata": {},
   "outputs": [
    {
     "data": {
      "text/plain": [
       "array([b'G', b'T', b'A', b'T', b'GTC'],\n",
       "      dtype='|S3')"
      ]
     },
     "execution_count": 23,
     "metadata": {},
     "output_type": "execute_result"
    }
   ],
   "source": [
    "callset = allel.read_vcf('example.vcf', types={'REF': 'S3'})\n",
    "callset['variants/REF']"
   ]
  },
  {
   "cell_type": "markdown",
   "metadata": {},
   "source": [
    "Note that fixed-length string dtypes will cause any string values longer than the requested number of characters to be truncated. I.e., there can be some data loss. E.g., if using a single-character string for the 'REF' field, the correct value of 'GTC' for the final variant will get truncated to 'G':"
   ]
  },
  {
   "cell_type": "code",
   "execution_count": 24,
   "metadata": {},
   "outputs": [
    {
     "data": {
      "text/plain": [
       "array([b'G', b'T', b'A', b'T', b'G'],\n",
       "      dtype='|S1')"
      ]
     },
     "execution_count": 24,
     "metadata": {},
     "output_type": "execute_result"
    }
   ],
   "source": [
    "callset = allel.read_vcf('example.vcf', types={'REF': 'S1'})\n",
    "callset['variants/REF']"
   ]
  },
  {
   "cell_type": "markdown",
   "metadata": {},
   "source": [
    "### Numbers\n",
    "\n",
    "Some fields like 'ALT', 'AC' and 'AF' can have a variable number of values. I.e., each variant may have a different number of data values for these fields. One trade-off you have to make when loading data into NumPy arrays is that you cannot have arrays with a variable number of items per row. Rather, you have to fix the maximum number of possible items. While you lose some flexibility, you gain speed of access.\n",
    "\n",
    "For fields like 'ALT', scikit-allel will choose a default number of expected values, which is set at 3. E.g., here is what you get by default:"
   ]
  },
  {
   "cell_type": "code",
   "execution_count": 25,
   "metadata": {},
   "outputs": [
    {
     "data": {
      "text/plain": [
       "array([['A', '', ''],\n",
       "       ['A', '', ''],\n",
       "       ['G', 'T', ''],\n",
       "       ['', '', ''],\n",
       "       ['G', 'GTCT', '']], dtype=object)"
      ]
     },
     "execution_count": 25,
     "metadata": {},
     "output_type": "execute_result"
    }
   ],
   "source": [
    "callset = allel.read_vcf('example.vcf')\n",
    "callset['variants/ALT']"
   ]
  },
  {
   "cell_type": "markdown",
   "metadata": {},
   "source": [
    "In this case, 3 is more that we need, because no variant has more than 2 ALT values. However, some VCF files (especially those including INDELs) may have more than 3 ALT values. \n",
    "\n",
    "If you need to increase or decrease the expected number of values for any field, you can do this via the **numbers** parameter. E.g., increase the number of ALT values to 5:"
   ]
  },
  {
   "cell_type": "code",
   "execution_count": 26,
   "metadata": {},
   "outputs": [
    {
     "data": {
      "text/plain": [
       "array([['A', '', '', '', ''],\n",
       "       ['A', '', '', '', ''],\n",
       "       ['G', 'T', '', '', ''],\n",
       "       ['', '', '', '', ''],\n",
       "       ['G', 'GTCT', '', '', '']], dtype=object)"
      ]
     },
     "execution_count": 26,
     "metadata": {},
     "output_type": "execute_result"
    }
   ],
   "source": [
    "callset = allel.read_vcf('example.vcf', numbers={'ALT': 5})\n",
    "callset['variants/ALT']"
   ]
  },
  {
   "cell_type": "markdown",
   "metadata": {},
   "source": [
    "Some care is needed here, because if you choose a value that is lower than the maximum number of values in the VCF file, then any extra values will not get extracted. E.g., the following would be fine if all variants were biallelic, but would lose information for any multi-allelic variants:"
   ]
  },
  {
   "cell_type": "code",
   "execution_count": 27,
   "metadata": {},
   "outputs": [
    {
     "data": {
      "text/plain": [
       "array(['A', 'A', 'G', '', 'G'], dtype=object)"
      ]
     },
     "execution_count": 27,
     "metadata": {},
     "output_type": "execute_result"
    }
   ],
   "source": [
    "callset = allel.read_vcf('example.vcf', numbers={'ALT': 1})\n",
    "callset['variants/ALT']"
   ]
  },
  {
   "cell_type": "markdown",
   "metadata": {},
   "source": [
    "#### Number of alternate alleles\n",
    "\n",
    "Often there will be several fields within a VCF that all have a number of values that depends on the number of alternate alleles (declared with number 'A' or 'R' in the VCF meta-information). You can set the expected number of values simultaneously for all such fields via the **alt_number** parameter:"
   ]
  },
  {
   "cell_type": "code",
   "execution_count": 28,
   "metadata": {},
   "outputs": [],
   "source": [
    "callset = allel.read_vcf('example.vcf', fields=['ALT', 'AF'], alt_number=2)"
   ]
  },
  {
   "cell_type": "code",
   "execution_count": 29,
   "metadata": {},
   "outputs": [
    {
     "data": {
      "text/plain": [
       "array([['A', ''],\n",
       "       ['A', ''],\n",
       "       ['G', 'T'],\n",
       "       ['', ''],\n",
       "       ['G', 'GTCT']], dtype=object)"
      ]
     },
     "execution_count": 29,
     "metadata": {},
     "output_type": "execute_result"
    }
   ],
   "source": [
    "callset['variants/ALT']"
   ]
  },
  {
   "cell_type": "code",
   "execution_count": 30,
   "metadata": {},
   "outputs": [
    {
     "data": {
      "text/plain": [
       "array([[ 0.5  ,    nan],\n",
       "       [ 0.017,    nan],\n",
       "       [ 0.333,  0.667],\n",
       "       [   nan,    nan],\n",
       "       [   nan,    nan]], dtype=float32)"
      ]
     },
     "execution_count": 30,
     "metadata": {},
     "output_type": "execute_result"
    }
   ],
   "source": [
    "callset['variants/AF']"
   ]
  },
  {
   "cell_type": "markdown",
   "metadata": {},
   "source": [
    "#### Genotype ploidy\n",
    "\n",
    "By default, scikit-allel assumes you are working with a diploid organism, and so expects to parse out 2 alleles for each genotype call. If you are working with an organism with some other ploidy, you can change the expected number of alleles via the **numbers** parameter.\n",
    "\n",
    "For example, here is an example VCF with tetraploid genotype calls:"
   ]
  },
  {
   "cell_type": "code",
   "execution_count": 31,
   "metadata": {},
   "outputs": [
    {
     "name": "stdout",
     "output_type": "stream",
     "text": [
      "##fileformat=VCFv4.3\n",
      "##FORMAT=<ID=GT,Number=1,Type=String,Description=\"Genotype\">\n",
      "#CHROM\tPOS\tID\tREF\tALT\tQUAL\tFILTER\tINFO\tFORMAT\tsample1\tsample2\tsample3\n",
      "20\t14370\t.\tG\tA\t.\t.\t.\tGT\t0/0/0/0\t0/0/0/1\t0/0/1/1\n",
      "20\t17330\t.\tT\tA,C,G\t.\t.\t.\tGT\t1/1/2/2\t0/1/2/3\t3/3/3/3\n",
      "\n"
     ]
    }
   ],
   "source": [
    "with open('example_polyploid.vcf', mode='r') as f:\n",
    "    print(f.read())"
   ]
  },
  {
   "cell_type": "markdown",
   "metadata": {},
   "source": [
    "Here is how to indicate the ploidy:"
   ]
  },
  {
   "cell_type": "code",
   "execution_count": 32,
   "metadata": {},
   "outputs": [
    {
     "data": {
      "text/plain": [
       "array([[[0, 0, 0, 0],\n",
       "        [0, 0, 0, 1],\n",
       "        [0, 0, 1, 1]],\n",
       "\n",
       "       [[1, 1, 2, 2],\n",
       "        [0, 1, 2, 3],\n",
       "        [3, 3, 3, 3]]], dtype=int8)"
      ]
     },
     "execution_count": 32,
     "metadata": {},
     "output_type": "execute_result"
    }
   ],
   "source": [
    "callset = allel.read_vcf('example_polyploid.vcf', numbers={'GT': 4})\n",
    "callset['calldata/GT']"
   ]
  },
  {
   "cell_type": "markdown",
   "metadata": {},
   "source": [
    "As shown earlier for diploid calls, the `GenotypeArray` class can provide some extra functionality over a plain NumPy array, e.g.:"
   ]
  },
  {
   "cell_type": "code",
   "execution_count": 33,
   "metadata": {},
   "outputs": [
    {
     "data": {
      "text/html": [
       "<div class=\"allel allel-DisplayAs2D\"><span>&lt;GenotypeArray shape=(2, 3, 4) dtype=int8&gt;</span><table><thead><tr><th></th><th style=\"text-align: center\">0</th><th style=\"text-align: center\">1</th><th style=\"text-align: center\">2</th></tr></thead><tbody><tr><th style=\"text-align: center; background-color: white; border-right: 1px solid black; \">0</th><td style=\"text-align: center\">0/0/0/0</td><td style=\"text-align: center\">0/0/0/1</td><td style=\"text-align: center\">0/0/1/1</td></tr><tr><th style=\"text-align: center; background-color: white; border-right: 1px solid black; \">1</th><td style=\"text-align: center\">1/1/2/2</td><td style=\"text-align: center\">0/1/2/3</td><td style=\"text-align: center\">3/3/3/3</td></tr></tbody></table></div>"
      ],
      "text/plain": [
       "<GenotypeArray shape=(2, 3, 4) dtype=int8>\n",
       "0/0/0/0 0/0/0/1 0/0/1/1\n",
       "1/1/2/2 0/1/2/3 3/3/3/3"
      ]
     },
     "execution_count": 33,
     "metadata": {},
     "output_type": "execute_result"
    }
   ],
   "source": [
    "gt = allel.GenotypeArray(callset['calldata/GT'])\n",
    "gt"
   ]
  },
  {
   "cell_type": "code",
   "execution_count": 34,
   "metadata": {},
   "outputs": [
    {
     "data": {
      "text/plain": [
       "array([[False,  True,  True],\n",
       "       [ True,  True, False]], dtype=bool)"
      ]
     },
     "execution_count": 34,
     "metadata": {},
     "output_type": "execute_result"
    }
   ],
   "source": [
    "gt.is_het()"
   ]
  },
  {
   "cell_type": "code",
   "execution_count": 35,
   "metadata": {},
   "outputs": [
    {
     "data": {
      "text/html": [
       "<div class=\"allel allel-DisplayAs2D\"><span>&lt;AlleleCountsArray shape=(2, 4) dtype=int32&gt;</span><table><thead><tr><th></th><th style=\"text-align: center\">0</th><th style=\"text-align: center\">1</th><th style=\"text-align: center\">2</th><th style=\"text-align: center\">3</th></tr></thead><tbody><tr><th style=\"text-align: center; background-color: white; border-right: 1px solid black; \">0</th><td style=\"text-align: center\">9</td><td style=\"text-align: center\">3</td><td style=\"text-align: center\">0</td><td style=\"text-align: center\">0</td></tr><tr><th style=\"text-align: center; background-color: white; border-right: 1px solid black; \">1</th><td style=\"text-align: center\">1</td><td style=\"text-align: center\">3</td><td style=\"text-align: center\">3</td><td style=\"text-align: center\">5</td></tr></tbody></table></div>"
      ],
      "text/plain": [
       "<AlleleCountsArray shape=(2, 4) dtype=int32>\n",
       "9 3 0 0\n",
       "1 3 3 5"
      ]
     },
     "execution_count": 35,
     "metadata": {},
     "output_type": "execute_result"
    }
   ],
   "source": [
    "ac = gt.count_alleles()\n",
    "ac"
   ]
  },
  {
   "cell_type": "markdown",
   "metadata": {},
   "source": [
    "### Region\n",
    "\n",
    "You can extract data for only a specific chromosome or genome region via the **region** parameter. The value of the parameter should be a region string of the format '{chromosome}:{begin}-{end}', just like you would give to tabix or samtools. E.g.:"
   ]
  },
  {
   "cell_type": "code",
   "execution_count": 36,
   "metadata": {},
   "outputs": [
    {
     "data": {
      "text/plain": [
       "array([1110696, 1230237], dtype=int32)"
      ]
     },
     "execution_count": 36,
     "metadata": {},
     "output_type": "execute_result"
    }
   ],
   "source": [
    "callset = allel.read_vcf('example.vcf', region='20:1000000-1231000')\n",
    "callset['variants/POS']"
   ]
  },
  {
   "cell_type": "markdown",
   "metadata": {},
   "source": [
    "By default, scikit-allel will try to use tabix to extract the data from the requested region. If tabix is not available on your system or the VCF file has not been tabix indexed, scikit-allel will fall back to scanning through the VCF file from the beginning, which may be slow. If you have tabix installed but it is in a non-standard location, you can specify the path to the tabix executable via the **tabix** parameter.\n",
    "\n",
    "Note that if you are using tabix, then tabix needs to be at least version 0.2.5. Some older versions of tabix do not support the \"-h\" option to output the headers from the VCF, which scikit-allel needs to get the meta-information for parsing. If you get an error message like \"RuntimeError: VCF file is missing mandatory header line (\"#CHROM...\")\" then check your tabix version and upgrade if necessary. If you have conda installed, a recent version tabix can be installed via the following command: ``conda install -c bioconda htslib``."
   ]
  },
  {
   "cell_type": "markdown",
   "metadata": {},
   "source": [
    "### Samples\n",
    "\n",
    "You can extract data for only specific samples via the **samples** parameter. E.g., extract data for samples 'NA00001' and 'NA00003':"
   ]
  },
  {
   "cell_type": "code",
   "execution_count": 37,
   "metadata": {},
   "outputs": [
    {
     "data": {
      "text/plain": [
       "array(['NA00001', 'NA00003'], dtype=object)"
      ]
     },
     "execution_count": 37,
     "metadata": {},
     "output_type": "execute_result"
    }
   ],
   "source": [
    "callset = allel.read_vcf('example.vcf', samples=['NA00001', 'NA00003'])\n",
    "callset['samples']"
   ]
  },
  {
   "cell_type": "code",
   "execution_count": 38,
   "metadata": {},
   "outputs": [
    {
     "data": {
      "text/html": [
       "<div class=\"allel allel-DisplayAs2D\"><span>&lt;GenotypeArray shape=(5, 2, 2) dtype=int8&gt;</span><table><thead><tr><th></th><th style=\"text-align: center\">0</th><th style=\"text-align: center\">1</th></tr></thead><tbody><tr><th style=\"text-align: center; background-color: white; border-right: 1px solid black; \">0</th><td style=\"text-align: center\">0/0</td><td style=\"text-align: center\">1/1</td></tr><tr><th style=\"text-align: center; background-color: white; border-right: 1px solid black; \">1</th><td style=\"text-align: center\">0/0</td><td style=\"text-align: center\">0/0</td></tr><tr><th style=\"text-align: center; background-color: white; border-right: 1px solid black; \">2</th><td style=\"text-align: center\">0/2</td><td style=\"text-align: center\">2/2</td></tr><tr><th style=\"text-align: center; background-color: white; border-right: 1px solid black; \">3</th><td style=\"text-align: center\">0/0</td><td style=\"text-align: center\">./.</td></tr><tr><th style=\"text-align: center; background-color: white; border-right: 1px solid black; \">4</th><td style=\"text-align: center\">0/1</td><td style=\"text-align: center\">1/1</td></tr></tbody></table></div>"
      ],
      "text/plain": [
       "<GenotypeArray shape=(5, 2, 2) dtype=int8>\n",
       "0/0 1/1\n",
       "0/0 0/0\n",
       "0/2 2/2\n",
       "0/0 ./.\n",
       "0/1 1/1"
      ]
     },
     "execution_count": 38,
     "metadata": {},
     "output_type": "execute_result"
    }
   ],
   "source": [
    "allel.GenotypeArray(callset['calldata/GT'])"
   ]
  },
  {
   "cell_type": "markdown",
   "metadata": {},
   "source": [
    "Note that the genotype array now only has two columns, corresponding to the two samples requested."
   ]
  },
  {
   "cell_type": "markdown",
   "metadata": {},
   "source": [
    "## [`vcf_to_npz()`](http://scikit-allel.readthedocs.io/en/latest/io.html#allel.vcf_to_npz)\n",
    "\n",
    "NumPy arrays are stored in main memory (a.k.a., RAM), which means that as soon as you end your Python session or restart your Jupyter notebook kernel, any data stored in a NumPy array will be lost. \n",
    "\n",
    "If your VCF file is not too big, you can extract data from the file into NumPy arrays then save those arrays to disk via the [`vcf_to_npz()`](http://scikit-allel.readthedocs.io/en/latest/io.html#allel.vcf_to_npz) function. This function has most of the same parameters as the `read_vcf()` function, except that you also specify an output path, which is the name of the file you want to save the extracted data to. For example:"
   ]
  },
  {
   "cell_type": "code",
   "execution_count": 39,
   "metadata": {},
   "outputs": [],
   "source": [
    "allel.vcf_to_npz('example.vcf', 'example.npz', fields='*', overwrite=True)"
   ]
  },
  {
   "cell_type": "markdown",
   "metadata": {},
   "source": [
    "This extraction only needs to be done once, then you can load the data any time directly into NumPy arrays via the NumPy [`load()`](https://docs.scipy.org/doc/numpy/reference/generated/numpy.load.html) function, e.g.:"
   ]
  },
  {
   "cell_type": "code",
   "execution_count": 40,
   "metadata": {},
   "outputs": [
    {
     "data": {
      "text/plain": [
       "<numpy.lib.npyio.NpzFile at 0x7f829b07d6d8>"
      ]
     },
     "execution_count": 40,
     "metadata": {},
     "output_type": "execute_result"
    }
   ],
   "source": [
    "import numpy as np\n",
    "callset = np.load('example.npz')\n",
    "callset"
   ]
  },
  {
   "cell_type": "code",
   "execution_count": 41,
   "metadata": {},
   "outputs": [
    {
     "data": {
      "text/plain": [
       "['calldata/DP',\n",
       " 'calldata/GT',\n",
       " 'samples',\n",
       " 'variants/AF',\n",
       " 'variants/ALT',\n",
       " 'variants/CHROM',\n",
       " 'variants/DB',\n",
       " 'variants/DP',\n",
       " 'variants/FILTER_PASS',\n",
       " 'variants/FILTER_q10',\n",
       " 'variants/FILTER_s50',\n",
       " 'variants/ID',\n",
       " 'variants/POS',\n",
       " 'variants/QUAL',\n",
       " 'variants/REF',\n",
       " 'variants/is_snp',\n",
       " 'variants/numalt',\n",
       " 'variants/svlen']"
      ]
     },
     "execution_count": 41,
     "metadata": {},
     "output_type": "execute_result"
    }
   ],
   "source": [
    "sorted(callset.keys())"
   ]
  },
  {
   "cell_type": "code",
   "execution_count": 42,
   "metadata": {},
   "outputs": [
    {
     "data": {
      "text/plain": [
       "array([  14370,   17330, 1110696, 1230237, 1234567], dtype=int32)"
      ]
     },
     "execution_count": 42,
     "metadata": {},
     "output_type": "execute_result"
    }
   ],
   "source": [
    "callset['variants/POS']"
   ]
  },
  {
   "cell_type": "code",
   "execution_count": 43,
   "metadata": {},
   "outputs": [
    {
     "data": {
      "text/plain": [
       "array([[[ 0,  0],\n",
       "        [ 0,  1],\n",
       "        [ 1,  1]],\n",
       "\n",
       "       [[ 0,  0],\n",
       "        [ 0,  1],\n",
       "        [ 0,  0]],\n",
       "\n",
       "       [[ 0,  2],\n",
       "        [ 1,  2],\n",
       "        [ 2,  2]],\n",
       "\n",
       "       [[ 0,  0],\n",
       "        [ 0,  0],\n",
       "        [-1, -1]],\n",
       "\n",
       "       [[ 0,  1],\n",
       "        [ 0,  2],\n",
       "        [ 1,  1]]], dtype=int8)"
      ]
     },
     "execution_count": 43,
     "metadata": {},
     "output_type": "execute_result"
    }
   ],
   "source": [
    "callset['calldata/GT']"
   ]
  },
  {
   "cell_type": "markdown",
   "metadata": {},
   "source": [
    "Note that although the data have been saved to disk, all of the data must be loaded into main memory first during the extraction process, so this function is not suitable if you have a dataset that is too large to fit into main memory."
   ]
  },
  {
   "cell_type": "markdown",
   "metadata": {},
   "source": [
    "## [`vcf_to_hdf5()`](http://scikit-allel.readthedocs.io/en/latest/io.html#allel.vcf_to_hdf5)\n",
    "\n",
    "For large datasets, the [`vcf_to_hdf5()`](http://scikit-allel.readthedocs.io/en/latest/io.html#allel.vcf_to_hdf5) function is available. This function again takes similar parameters to `read_vcf()`, but will store extracted data into an HDF5 file stored on disk. The extraction process works through the VCF file in chunks, and so the entire dataset is never loaded entirely into main memory. A bit further below I give worked examples with a large dataset, but for now here is a simple example:"
   ]
  },
  {
   "cell_type": "code",
   "execution_count": 44,
   "metadata": {},
   "outputs": [],
   "source": [
    "allel.vcf_to_hdf5('example.vcf', 'example.h5', fields='*', overwrite=True)"
   ]
  },
  {
   "cell_type": "markdown",
   "metadata": {},
   "source": [
    "The saved data can be accessed via the [`h5py`](http://www.h5py.org/) library, e.g.:"
   ]
  },
  {
   "cell_type": "code",
   "execution_count": 45,
   "metadata": {},
   "outputs": [
    {
     "data": {
      "text/plain": [
       "<HDF5 file \"example.h5\" (mode r)>"
      ]
     },
     "execution_count": 45,
     "metadata": {},
     "output_type": "execute_result"
    }
   ],
   "source": [
    "import h5py\n",
    "callset = h5py.File('example.h5', mode='r')\n",
    "callset"
   ]
  },
  {
   "cell_type": "markdown",
   "metadata": {},
   "source": [
    "The one difference to be aware of here is that accessing data via a key like 'variants/POS' does not return a NumPy array, instead you get an HDF5 dataset object. "
   ]
  },
  {
   "cell_type": "code",
   "execution_count": 46,
   "metadata": {},
   "outputs": [
    {
     "data": {
      "text/plain": [
       "<HDF5 dataset \"CHROM\": shape (5,), type \"|O\">"
      ]
     },
     "execution_count": 46,
     "metadata": {},
     "output_type": "execute_result"
    }
   ],
   "source": [
    "chrom = callset['variants/CHROM']\n",
    "chrom"
   ]
  },
  {
   "cell_type": "code",
   "execution_count": 47,
   "metadata": {},
   "outputs": [
    {
     "data": {
      "text/plain": [
       "<HDF5 dataset \"POS\": shape (5,), type \"<i4\">"
      ]
     },
     "execution_count": 47,
     "metadata": {},
     "output_type": "execute_result"
    }
   ],
   "source": [
    "pos = callset['variants/POS']\n",
    "pos"
   ]
  },
  {
   "cell_type": "code",
   "execution_count": 48,
   "metadata": {},
   "outputs": [
    {
     "data": {
      "text/plain": [
       "<HDF5 dataset \"GT\": shape (5, 3, 2), type \"|i1\">"
      ]
     },
     "execution_count": 48,
     "metadata": {},
     "output_type": "execute_result"
    }
   ],
   "source": [
    "gt = callset['calldata/GT']\n",
    "gt"
   ]
  },
  {
   "cell_type": "markdown",
   "metadata": {},
   "source": [
    "This dataset object is useful because you can then load all or only part of the underlying data into main memory via slicing. E.g.:"
   ]
  },
  {
   "cell_type": "code",
   "execution_count": 49,
   "metadata": {},
   "outputs": [
    {
     "data": {
      "text/plain": [
       "array(['20', '20'], dtype=object)"
      ]
     },
     "execution_count": 49,
     "metadata": {},
     "output_type": "execute_result"
    }
   ],
   "source": [
    "# load second to fourth items into NumPy array\n",
    "chrom[1:3]"
   ]
  },
  {
   "cell_type": "code",
   "execution_count": 50,
   "metadata": {},
   "outputs": [
    {
     "data": {
      "text/plain": [
       "array([  17330, 1110696], dtype=int32)"
      ]
     },
     "execution_count": 50,
     "metadata": {},
     "output_type": "execute_result"
    }
   ],
   "source": [
    "# load second to fourth items into NumPy array\n",
    "pos[1:3]"
   ]
  },
  {
   "cell_type": "code",
   "execution_count": 51,
   "metadata": {},
   "outputs": [
    {
     "data": {
      "text/plain": [
       "array(['20', '20', '20', '20', '20'], dtype=object)"
      ]
     },
     "execution_count": 51,
     "metadata": {},
     "output_type": "execute_result"
    }
   ],
   "source": [
    "# load all items into NumPy array\n",
    "chrom[:]"
   ]
  },
  {
   "cell_type": "code",
   "execution_count": 52,
   "metadata": {},
   "outputs": [
    {
     "data": {
      "text/plain": [
       "array([  14370,   17330, 1110696, 1230237, 1234567], dtype=int32)"
      ]
     },
     "execution_count": 52,
     "metadata": {},
     "output_type": "execute_result"
    }
   ],
   "source": [
    "# load all items into NumPy array\n",
    "pos[:]"
   ]
  },
  {
   "cell_type": "markdown",
   "metadata": {},
   "source": [
    "This is particularly useful for the large data coming from the sample fields, e.g., the genotype calls. With these data you can use slicing to pull out particular rows or columns without having to load all data into memory. E.g.:"
   ]
  },
  {
   "cell_type": "code",
   "execution_count": 53,
   "metadata": {},
   "outputs": [
    {
     "data": {
      "text/html": [
       "<div class=\"allel allel-DisplayAs2D\"><span>&lt;GenotypeArray shape=(2, 3, 2) dtype=int8&gt;</span><table><thead><tr><th></th><th style=\"text-align: center\">0</th><th style=\"text-align: center\">1</th><th style=\"text-align: center\">2</th></tr></thead><tbody><tr><th style=\"text-align: center; background-color: white; border-right: 1px solid black; \">0</th><td style=\"text-align: center\">0/0</td><td style=\"text-align: center\">0/1</td><td style=\"text-align: center\">0/0</td></tr><tr><th style=\"text-align: center; background-color: white; border-right: 1px solid black; \">1</th><td style=\"text-align: center\">0/2</td><td style=\"text-align: center\">1/2</td><td style=\"text-align: center\">2/2</td></tr></tbody></table></div>"
      ],
      "text/plain": [
       "<GenotypeArray shape=(2, 3, 2) dtype=int8>\n",
       "0/0 0/1 0/0\n",
       "0/2 1/2 2/2"
      ]
     },
     "execution_count": 53,
     "metadata": {},
     "output_type": "execute_result"
    }
   ],
   "source": [
    "# load genotype calls into memory for second to fourth variants, all samples\n",
    "allel.GenotypeArray(gt[1:3, :])"
   ]
  },
  {
   "cell_type": "code",
   "execution_count": 54,
   "metadata": {},
   "outputs": [
    {
     "data": {
      "text/html": [
       "<div class=\"allel allel-DisplayAs2D\"><span>&lt;GenotypeArray shape=(5, 2, 2) dtype=int8&gt;</span><table><thead><tr><th></th><th style=\"text-align: center\">0</th><th style=\"text-align: center\">1</th></tr></thead><tbody><tr><th style=\"text-align: center; background-color: white; border-right: 1px solid black; \">0</th><td style=\"text-align: center\">0/0</td><td style=\"text-align: center\">0/1</td></tr><tr><th style=\"text-align: center; background-color: white; border-right: 1px solid black; \">1</th><td style=\"text-align: center\">0/0</td><td style=\"text-align: center\">0/1</td></tr><tr><th style=\"text-align: center; background-color: white; border-right: 1px solid black; \">2</th><td style=\"text-align: center\">0/2</td><td style=\"text-align: center\">1/2</td></tr><tr><th style=\"text-align: center; background-color: white; border-right: 1px solid black; \">3</th><td style=\"text-align: center\">0/0</td><td style=\"text-align: center\">0/0</td></tr><tr><th style=\"text-align: center; background-color: white; border-right: 1px solid black; \">4</th><td style=\"text-align: center\">0/1</td><td style=\"text-align: center\">0/2</td></tr></tbody></table></div>"
      ],
      "text/plain": [
       "<GenotypeArray shape=(5, 2, 2) dtype=int8>\n",
       "0/0 0/1\n",
       "0/0 0/1\n",
       "0/2 1/2\n",
       "0/0 0/0\n",
       "0/1 0/2"
      ]
     },
     "execution_count": 54,
     "metadata": {},
     "output_type": "execute_result"
    }
   ],
   "source": [
    "# load genotype calls into memory for all variants, first and second samples\n",
    "allel.GenotypeArray(gt[:, 0:2])"
   ]
  },
  {
   "cell_type": "code",
   "execution_count": 55,
   "metadata": {},
   "outputs": [
    {
     "data": {
      "text/html": [
       "<div class=\"allel allel-DisplayAs2D\"><span>&lt;GenotypeArray shape=(5, 3, 2) dtype=int8&gt;</span><table><thead><tr><th></th><th style=\"text-align: center\">0</th><th style=\"text-align: center\">1</th><th style=\"text-align: center\">2</th></tr></thead><tbody><tr><th style=\"text-align: center; background-color: white; border-right: 1px solid black; \">0</th><td style=\"text-align: center\">0/0</td><td style=\"text-align: center\">0/1</td><td style=\"text-align: center\">1/1</td></tr><tr><th style=\"text-align: center; background-color: white; border-right: 1px solid black; \">1</th><td style=\"text-align: center\">0/0</td><td style=\"text-align: center\">0/1</td><td style=\"text-align: center\">0/0</td></tr><tr><th style=\"text-align: center; background-color: white; border-right: 1px solid black; \">2</th><td style=\"text-align: center\">0/2</td><td style=\"text-align: center\">1/2</td><td style=\"text-align: center\">2/2</td></tr><tr><th style=\"text-align: center; background-color: white; border-right: 1px solid black; \">3</th><td style=\"text-align: center\">0/0</td><td style=\"text-align: center\">0/0</td><td style=\"text-align: center\">./.</td></tr><tr><th style=\"text-align: center; background-color: white; border-right: 1px solid black; \">4</th><td style=\"text-align: center\">0/1</td><td style=\"text-align: center\">0/2</td><td style=\"text-align: center\">1/1</td></tr></tbody></table></div>"
      ],
      "text/plain": [
       "<GenotypeArray shape=(5, 3, 2) dtype=int8>\n",
       "0/0 0/1 1/1\n",
       "0/0 0/1 0/0\n",
       "0/2 1/2 2/2\n",
       "0/0 0/0 ./.\n",
       "0/1 0/2 1/1"
      ]
     },
     "execution_count": 55,
     "metadata": {},
     "output_type": "execute_result"
    }
   ],
   "source": [
    "# load all genotype calls into memory\n",
    "allel.GenotypeArray(gt[:, :])"
   ]
  },
  {
   "cell_type": "markdown",
   "metadata": {},
   "source": [
    "### Storing strings\n",
    "\n",
    "By default, scikit-allel will store data from string fields like CHROM, ID, REF and ALT in the HDF5 file as variable length strings. Unfortunately HDF5 uses a lot of space to store variable length strings, and so for larger datasets this can lead to very large HDF5 file sizes. You can disable this option by setting the **vlen** parameter to ``False``, which will force all data from string fields to be stored as fixed length strings. For example:"
   ]
  },
  {
   "cell_type": "code",
   "execution_count": 56,
   "metadata": {},
   "outputs": [],
   "source": [
    "allel.vcf_to_hdf5('example.vcf', 'example_novlen.h5', fields='*', overwrite=True, vlen=False)"
   ]
  },
  {
   "cell_type": "code",
   "execution_count": 57,
   "metadata": {},
   "outputs": [],
   "source": [
    "callset = h5py.File('example_novlen.h5', mode='r')"
   ]
  },
  {
   "cell_type": "code",
   "execution_count": 58,
   "metadata": {},
   "outputs": [
    {
     "data": {
      "text/plain": [
       "<HDF5 dataset \"ID\": shape (5,), type \"|S9\">"
      ]
     },
     "execution_count": 58,
     "metadata": {},
     "output_type": "execute_result"
    }
   ],
   "source": [
    "callset['variants/ID']"
   ]
  },
  {
   "cell_type": "code",
   "execution_count": 59,
   "metadata": {},
   "outputs": [
    {
     "data": {
      "text/plain": [
       "array([b'rs6054257', b'.', b'rs6040355', b'.', b'microsat1'],\n",
       "      dtype='|S9')"
      ]
     },
     "execution_count": 59,
     "metadata": {},
     "output_type": "execute_result"
    }
   ],
   "source": [
    "callset['variants/ID'][:]"
   ]
  },
  {
   "cell_type": "markdown",
   "metadata": {},
   "source": [
    "Note that an appropriate length to use for the fixed length string data type for each string field will be guessed from the longest string found for each field in the first chunk of the VCF. In some cases there may be longer strings found later in a VCF, in which case string values may get truncated. If you already know something about the longest value in a given field, you can specify **types** manually to avoid truncation, e.g.:"
   ]
  },
  {
   "cell_type": "code",
   "execution_count": 60,
   "metadata": {},
   "outputs": [],
   "source": [
    "allel.vcf_to_hdf5('example.vcf', 'example_novlen_types.h5', \n",
    "                  fields=['CHROM', 'ID'],\n",
    "                  types={'CHROM': 'S2', 'ID': 'S10'},\n",
    "                  overwrite=True, vlen=False)"
   ]
  },
  {
   "cell_type": "code",
   "execution_count": 61,
   "metadata": {},
   "outputs": [],
   "source": [
    "callset = h5py.File('example_novlen_types.h5', mode='r')"
   ]
  },
  {
   "cell_type": "code",
   "execution_count": 62,
   "metadata": {},
   "outputs": [
    {
     "data": {
      "text/plain": [
       "<HDF5 dataset \"ID\": shape (5,), type \"|S10\">"
      ]
     },
     "execution_count": 62,
     "metadata": {},
     "output_type": "execute_result"
    }
   ],
   "source": [
    "callset['variants/ID']"
   ]
  },
  {
   "cell_type": "markdown",
   "metadata": {},
   "source": [
    "## [`vcf_to_zarr()`](http://scikit-allel.readthedocs.io/en/latest/io.html#allel.vcf_to_zarr)\n",
    "\n",
    "An alternative to HDF5 is a newer storage library called [Zarr](http://zarr.readthedocs.io/en/latest/). Currently there is only a Python implementation of Zarr, whereas you can access HDF5 files using a variety of different programming languages, so if you need portability then HDF5 is a better option. However, if you know you're only going to be using Python, then Zarr is a good option. In general it is a bit faster than HDF5, provides more storage and compression options, and also plays better with parellel computing libraries like [Dask](http://dask.pydata.org/en/latest/). \n",
    "\n",
    "To install Zarr, from the command line, run: `conda install -c conda-forge zarr`\n",
    "\n",
    "To extract data to Zarr, for example:"
   ]
  },
  {
   "cell_type": "code",
   "execution_count": 63,
   "metadata": {},
   "outputs": [],
   "source": [
    "allel.vcf_to_zarr('example.vcf', 'example.zarr', fields='*', overwrite=True)"
   ]
  },
  {
   "cell_type": "markdown",
   "metadata": {},
   "source": [
    "Then, to access saved data:"
   ]
  },
  {
   "cell_type": "code",
   "execution_count": 64,
   "metadata": {},
   "outputs": [
    {
     "name": "stdout",
     "output_type": "stream",
     "text": [
      "zarr 2.2.0 numcodecs 0.5.5\n"
     ]
    }
   ],
   "source": [
    "import zarr\n",
    "import numcodecs\n",
    "print('zarr', zarr.__version__, 'numcodecs', numcodecs.__version__)"
   ]
  },
  {
   "cell_type": "code",
   "execution_count": 65,
   "metadata": {},
   "outputs": [
    {
     "data": {
      "text/plain": [
       "<zarr.hierarchy.Group '/' read-only>"
      ]
     },
     "execution_count": 65,
     "metadata": {},
     "output_type": "execute_result"
    }
   ],
   "source": [
    "callset = zarr.open_group('example.zarr', mode='r')\n",
    "callset"
   ]
  },
  {
   "cell_type": "markdown",
   "metadata": {},
   "source": [
    "Zarr group objects provide a `tree()` method which can be useful for exploring the hierarchy of groups and arrays, e.g.:"
   ]
  },
  {
   "cell_type": "code",
   "execution_count": 66,
   "metadata": {},
   "outputs": [
    {
     "data": {
      "text/html": [
       "<link rel=\"stylesheet\" href=\"//cdnjs.cloudflare.com/ajax/libs/jstree/3.3.3/themes/default/style.min.css\"/><div id=\"af2fed46-a4fc-43fa-bbcf-0bc02ebd5d5b\" class=\"zarr-tree\"><ul><li data-jstree='{\"type\": \"Group\"}' class='jstree-open'><span>/</span><ul><li data-jstree='{\"type\": \"Group\"}' class='jstree-open'><span>calldata</span><ul><li data-jstree='{\"type\": \"Array\"}' class='jstree-open'><span>DP (5, 3) int16</span></li><li data-jstree='{\"type\": \"Array\"}' class='jstree-open'><span>GT (5, 3, 2) int8</span></li></ul></li><li data-jstree='{\"type\": \"Array\"}' class='jstree-open'><span>samples (3,) object</span></li><li data-jstree='{\"type\": \"Group\"}' class='jstree-open'><span>variants</span><ul><li data-jstree='{\"type\": \"Array\"}' class='jstree-open'><span>AF (5, 3) float32</span></li><li data-jstree='{\"type\": \"Array\"}' class='jstree-open'><span>ALT (5, 3) object</span></li><li data-jstree='{\"type\": \"Array\"}' class='jstree-open'><span>CHROM (5,) object</span></li><li data-jstree='{\"type\": \"Array\"}' class='jstree-open'><span>DB (5,) bool</span></li><li data-jstree='{\"type\": \"Array\"}' class='jstree-open'><span>DP (5,) int32</span></li><li data-jstree='{\"type\": \"Array\"}' class='jstree-open'><span>FILTER_PASS (5,) bool</span></li><li data-jstree='{\"type\": \"Array\"}' class='jstree-open'><span>FILTER_q10 (5,) bool</span></li><li data-jstree='{\"type\": \"Array\"}' class='jstree-open'><span>FILTER_s50 (5,) bool</span></li><li data-jstree='{\"type\": \"Array\"}' class='jstree-open'><span>ID (5,) object</span></li><li data-jstree='{\"type\": \"Array\"}' class='jstree-open'><span>POS (5,) int32</span></li><li data-jstree='{\"type\": \"Array\"}' class='jstree-open'><span>QUAL (5,) float32</span></li><li data-jstree='{\"type\": \"Array\"}' class='jstree-open'><span>REF (5,) object</span></li><li data-jstree='{\"type\": \"Array\"}' class='jstree-open'><span>is_snp (5,) bool</span></li><li data-jstree='{\"type\": \"Array\"}' class='jstree-open'><span>numalt (5,) int32</span></li><li data-jstree='{\"type\": \"Array\"}' class='jstree-open'><span>svlen (5, 3) int32</span></li></ul></li></ul></li></ul></div>\n",
       "<script>\n",
       "    if (!require.defined('jquery')) {\n",
       "        require.config({\n",
       "            paths: {\n",
       "                jquery: '//cdnjs.cloudflare.com/ajax/libs/jquery/1.12.1/jquery.min'\n",
       "            },\n",
       "        });\n",
       "    }\n",
       "    if (!require.defined('jstree')) {\n",
       "        require.config({\n",
       "            paths: {\n",
       "                jstree: '//cdnjs.cloudflare.com/ajax/libs/jstree/3.3.3/jstree.min'\n",
       "            },\n",
       "        });\n",
       "    }\n",
       "    require(['jstree'], function() {\n",
       "        $('#af2fed46-a4fc-43fa-bbcf-0bc02ebd5d5b').jstree({\n",
       "            types: {\n",
       "                Group: {\n",
       "                    icon: \"fa fa-folder\"\n",
       "                },\n",
       "                Array: {\n",
       "                    icon: \"fa fa-table\"\n",
       "                }\n",
       "            },\n",
       "            plugins: [\"types\"]\n",
       "        });\n",
       "    });\n",
       "</script>\n"
      ],
      "text/plain": [
       "/\n",
       " ├── calldata\n",
       " │   ├── DP (5, 3) int16\n",
       " │   └── GT (5, 3, 2) int8\n",
       " ├── samples (3,) object\n",
       " └── variants\n",
       "     ├── AF (5, 3) float32\n",
       "     ├── ALT (5, 3) object\n",
       "     ├── CHROM (5,) object\n",
       "     ├── DB (5,) bool\n",
       "     ├── DP (5,) int32\n",
       "     ├── FILTER_PASS (5,) bool\n",
       "     ├── FILTER_q10 (5,) bool\n",
       "     ├── FILTER_s50 (5,) bool\n",
       "     ├── ID (5,) object\n",
       "     ├── POS (5,) int32\n",
       "     ├── QUAL (5,) float32\n",
       "     ├── REF (5,) object\n",
       "     ├── is_snp (5,) bool\n",
       "     ├── numalt (5,) int32\n",
       "     └── svlen (5, 3) int32"
      ]
     },
     "execution_count": 66,
     "metadata": {},
     "output_type": "execute_result"
    }
   ],
   "source": [
    "callset.tree(expand=True)"
   ]
  },
  {
   "cell_type": "markdown",
   "metadata": {},
   "source": [
    "As with h5py, arrays can be accessed via a path-like notation, e.g.:"
   ]
  },
  {
   "cell_type": "code",
   "execution_count": 67,
   "metadata": {},
   "outputs": [
    {
     "data": {
      "text/plain": [
       "<zarr.core.Array '/variants/CHROM' (5,) object read-only>"
      ]
     },
     "execution_count": 67,
     "metadata": {},
     "output_type": "execute_result"
    }
   ],
   "source": [
    "chrom = callset['variants/CHROM']\n",
    "chrom"
   ]
  },
  {
   "cell_type": "code",
   "execution_count": 68,
   "metadata": {},
   "outputs": [
    {
     "data": {
      "text/plain": [
       "<zarr.core.Array '/variants/POS' (5,) int32 read-only>"
      ]
     },
     "execution_count": 68,
     "metadata": {},
     "output_type": "execute_result"
    }
   ],
   "source": [
    "pos = callset['variants/POS']\n",
    "pos"
   ]
  },
  {
   "cell_type": "code",
   "execution_count": 69,
   "metadata": {},
   "outputs": [
    {
     "data": {
      "text/plain": [
       "<zarr.core.Array '/calldata/GT' (5, 3, 2) int8 read-only>"
      ]
     },
     "execution_count": 69,
     "metadata": {},
     "output_type": "execute_result"
    }
   ],
   "source": [
    "gt = callset['calldata/GT']\n",
    "gt"
   ]
  },
  {
   "cell_type": "markdown",
   "metadata": {},
   "source": [
    "Again as with h5py, data can be loaded into memory as numpy arrays via slice notation:"
   ]
  },
  {
   "cell_type": "code",
   "execution_count": 70,
   "metadata": {},
   "outputs": [
    {
     "data": {
      "text/plain": [
       "array(['20', '20'], dtype=object)"
      ]
     },
     "execution_count": 70,
     "metadata": {},
     "output_type": "execute_result"
    }
   ],
   "source": [
    "chrom[1:3]"
   ]
  },
  {
   "cell_type": "code",
   "execution_count": 71,
   "metadata": {},
   "outputs": [
    {
     "data": {
      "text/plain": [
       "array([  17330, 1110696], dtype=int32)"
      ]
     },
     "execution_count": 71,
     "metadata": {},
     "output_type": "execute_result"
    }
   ],
   "source": [
    "pos[1:3]"
   ]
  },
  {
   "cell_type": "code",
   "execution_count": 72,
   "metadata": {},
   "outputs": [
    {
     "data": {
      "text/plain": [
       "array(['20', '20', '20', '20', '20'], dtype=object)"
      ]
     },
     "execution_count": 72,
     "metadata": {},
     "output_type": "execute_result"
    }
   ],
   "source": [
    "chrom[:]"
   ]
  },
  {
   "cell_type": "code",
   "execution_count": 73,
   "metadata": {},
   "outputs": [
    {
     "data": {
      "text/plain": [
       "array([  14370,   17330, 1110696, 1230237, 1234567], dtype=int32)"
      ]
     },
     "execution_count": 73,
     "metadata": {},
     "output_type": "execute_result"
    }
   ],
   "source": [
    "pos[:]"
   ]
  },
  {
   "cell_type": "code",
   "execution_count": 74,
   "metadata": {},
   "outputs": [
    {
     "data": {
      "text/html": [
       "<div class=\"allel allel-DisplayAs2D\"><span>&lt;GenotypeArray shape=(2, 3, 2) dtype=int8&gt;</span><table><thead><tr><th></th><th style=\"text-align: center\">0</th><th style=\"text-align: center\">1</th><th style=\"text-align: center\">2</th></tr></thead><tbody><tr><th style=\"text-align: center; background-color: white; border-right: 1px solid black; \">0</th><td style=\"text-align: center\">0/0</td><td style=\"text-align: center\">0/1</td><td style=\"text-align: center\">0/0</td></tr><tr><th style=\"text-align: center; background-color: white; border-right: 1px solid black; \">1</th><td style=\"text-align: center\">0/2</td><td style=\"text-align: center\">1/2</td><td style=\"text-align: center\">2/2</td></tr></tbody></table></div>"
      ],
      "text/plain": [
       "<GenotypeArray shape=(2, 3, 2) dtype=int8>\n",
       "0/0 0/1 0/0\n",
       "0/2 1/2 2/2"
      ]
     },
     "execution_count": 74,
     "metadata": {},
     "output_type": "execute_result"
    }
   ],
   "source": [
    "allel.GenotypeArray(gt[1:3, :])"
   ]
  },
  {
   "cell_type": "code",
   "execution_count": 75,
   "metadata": {},
   "outputs": [
    {
     "data": {
      "text/html": [
       "<div class=\"allel allel-DisplayAs2D\"><span>&lt;GenotypeArray shape=(5, 2, 2) dtype=int8&gt;</span><table><thead><tr><th></th><th style=\"text-align: center\">0</th><th style=\"text-align: center\">1</th></tr></thead><tbody><tr><th style=\"text-align: center; background-color: white; border-right: 1px solid black; \">0</th><td style=\"text-align: center\">0/0</td><td style=\"text-align: center\">0/1</td></tr><tr><th style=\"text-align: center; background-color: white; border-right: 1px solid black; \">1</th><td style=\"text-align: center\">0/0</td><td style=\"text-align: center\">0/1</td></tr><tr><th style=\"text-align: center; background-color: white; border-right: 1px solid black; \">2</th><td style=\"text-align: center\">0/2</td><td style=\"text-align: center\">1/2</td></tr><tr><th style=\"text-align: center; background-color: white; border-right: 1px solid black; \">3</th><td style=\"text-align: center\">0/0</td><td style=\"text-align: center\">0/0</td></tr><tr><th style=\"text-align: center; background-color: white; border-right: 1px solid black; \">4</th><td style=\"text-align: center\">0/1</td><td style=\"text-align: center\">0/2</td></tr></tbody></table></div>"
      ],
      "text/plain": [
       "<GenotypeArray shape=(5, 2, 2) dtype=int8>\n",
       "0/0 0/1\n",
       "0/0 0/1\n",
       "0/2 1/2\n",
       "0/0 0/0\n",
       "0/1 0/2"
      ]
     },
     "execution_count": 75,
     "metadata": {},
     "output_type": "execute_result"
    }
   ],
   "source": [
    "allel.GenotypeArray(gt[:, 0:2])"
   ]
  },
  {
   "cell_type": "code",
   "execution_count": 76,
   "metadata": {},
   "outputs": [
    {
     "data": {
      "text/html": [
       "<div class=\"allel allel-DisplayAs2D\"><span>&lt;GenotypeArray shape=(5, 3, 2) dtype=int8&gt;</span><table><thead><tr><th></th><th style=\"text-align: center\">0</th><th style=\"text-align: center\">1</th><th style=\"text-align: center\">2</th></tr></thead><tbody><tr><th style=\"text-align: center; background-color: white; border-right: 1px solid black; \">0</th><td style=\"text-align: center\">0/0</td><td style=\"text-align: center\">0/1</td><td style=\"text-align: center\">1/1</td></tr><tr><th style=\"text-align: center; background-color: white; border-right: 1px solid black; \">1</th><td style=\"text-align: center\">0/0</td><td style=\"text-align: center\">0/1</td><td style=\"text-align: center\">0/0</td></tr><tr><th style=\"text-align: center; background-color: white; border-right: 1px solid black; \">2</th><td style=\"text-align: center\">0/2</td><td style=\"text-align: center\">1/2</td><td style=\"text-align: center\">2/2</td></tr><tr><th style=\"text-align: center; background-color: white; border-right: 1px solid black; \">3</th><td style=\"text-align: center\">0/0</td><td style=\"text-align: center\">0/0</td><td style=\"text-align: center\">./.</td></tr><tr><th style=\"text-align: center; background-color: white; border-right: 1px solid black; \">4</th><td style=\"text-align: center\">0/1</td><td style=\"text-align: center\">0/2</td><td style=\"text-align: center\">1/1</td></tr></tbody></table></div>"
      ],
      "text/plain": [
       "<GenotypeArray shape=(5, 3, 2) dtype=int8>\n",
       "0/0 0/1 1/1\n",
       "0/0 0/1 0/0\n",
       "0/2 1/2 2/2\n",
       "0/0 0/0 ./.\n",
       "0/1 0/2 1/1"
      ]
     },
     "execution_count": 76,
     "metadata": {},
     "output_type": "execute_result"
    }
   ],
   "source": [
    "allel.GenotypeArray(gt[:])"
   ]
  },
  {
   "cell_type": "markdown",
   "metadata": {},
   "source": [
    "## [`vcf_to_dataframe()`](http://scikit-allel.readthedocs.io/en/latest/io.html#allel.vcf_to_dataframe)\n",
    "\n",
    "For some analyses it can be useful to think of the data in a VCF file as a table or data frame, especially if you are only analysing data from the fixed fields and don't need the genotype calls or any other call data. The [`vcf_to_dataframe()`](http://scikit-allel.readthedocs.io/en/latest/io.html#allel.vcf_to_dataframe) function extracts data from a VCF and loads into a [pandas DataFrame](https://pandas.pydata.org/pandas-docs/stable/generated/pandas.DataFrame.html). E.g.:"
   ]
  },
  {
   "cell_type": "code",
   "execution_count": 77,
   "metadata": {},
   "outputs": [
    {
     "data": {
      "text/html": [
       "<div>\n",
       "<style scoped>\n",
       "    .dataframe tbody tr th:only-of-type {\n",
       "        vertical-align: middle;\n",
       "    }\n",
       "\n",
       "    .dataframe tbody tr th {\n",
       "        vertical-align: top;\n",
       "    }\n",
       "\n",
       "    .dataframe thead th {\n",
       "        text-align: right;\n",
       "    }\n",
       "</style>\n",
       "<table border=\"1\" class=\"dataframe\">\n",
       "  <thead>\n",
       "    <tr style=\"text-align: right;\">\n",
       "      <th></th>\n",
       "      <th>CHROM</th>\n",
       "      <th>POS</th>\n",
       "      <th>ID</th>\n",
       "      <th>REF</th>\n",
       "      <th>ALT_1</th>\n",
       "      <th>ALT_2</th>\n",
       "      <th>ALT_3</th>\n",
       "      <th>QUAL</th>\n",
       "      <th>FILTER_PASS</th>\n",
       "    </tr>\n",
       "  </thead>\n",
       "  <tbody>\n",
       "    <tr>\n",
       "      <th>0</th>\n",
       "      <td>20</td>\n",
       "      <td>14370</td>\n",
       "      <td>rs6054257</td>\n",
       "      <td>G</td>\n",
       "      <td>A</td>\n",
       "      <td></td>\n",
       "      <td></td>\n",
       "      <td>29.0</td>\n",
       "      <td>True</td>\n",
       "    </tr>\n",
       "    <tr>\n",
       "      <th>1</th>\n",
       "      <td>20</td>\n",
       "      <td>17330</td>\n",
       "      <td>.</td>\n",
       "      <td>T</td>\n",
       "      <td>A</td>\n",
       "      <td></td>\n",
       "      <td></td>\n",
       "      <td>3.0</td>\n",
       "      <td>False</td>\n",
       "    </tr>\n",
       "    <tr>\n",
       "      <th>2</th>\n",
       "      <td>20</td>\n",
       "      <td>1110696</td>\n",
       "      <td>rs6040355</td>\n",
       "      <td>A</td>\n",
       "      <td>G</td>\n",
       "      <td>T</td>\n",
       "      <td></td>\n",
       "      <td>67.0</td>\n",
       "      <td>True</td>\n",
       "    </tr>\n",
       "    <tr>\n",
       "      <th>3</th>\n",
       "      <td>20</td>\n",
       "      <td>1230237</td>\n",
       "      <td>.</td>\n",
       "      <td>T</td>\n",
       "      <td></td>\n",
       "      <td></td>\n",
       "      <td></td>\n",
       "      <td>47.0</td>\n",
       "      <td>True</td>\n",
       "    </tr>\n",
       "    <tr>\n",
       "      <th>4</th>\n",
       "      <td>20</td>\n",
       "      <td>1234567</td>\n",
       "      <td>microsat1</td>\n",
       "      <td>GTC</td>\n",
       "      <td>G</td>\n",
       "      <td>GTCT</td>\n",
       "      <td></td>\n",
       "      <td>50.0</td>\n",
       "      <td>True</td>\n",
       "    </tr>\n",
       "  </tbody>\n",
       "</table>\n",
       "</div>"
      ],
      "text/plain": [
       "  CHROM      POS         ID  REF ALT_1 ALT_2 ALT_3  QUAL  FILTER_PASS\n",
       "0    20    14370  rs6054257    G     A              29.0         True\n",
       "1    20    17330          .    T     A               3.0        False\n",
       "2    20  1110696  rs6040355    A     G     T        67.0         True\n",
       "3    20  1230237          .    T                    47.0         True\n",
       "4    20  1234567  microsat1  GTC     G  GTCT        50.0         True"
      ]
     },
     "execution_count": 77,
     "metadata": {},
     "output_type": "execute_result"
    }
   ],
   "source": [
    "df = allel.vcf_to_dataframe('example.vcf')\n",
    "df"
   ]
  },
  {
   "cell_type": "markdown",
   "metadata": {
    "collapsed": true
   },
   "source": [
    "Note that the 'ALT' field has been broken into three separate columns, labelled 'ALT_1', 'ALT_2' and 'ALT_3'. When loading data into a data frame, any field with multiple values will be broken into multiple columns in this way.\n",
    "\n",
    "Let's extract all fields, and also reduce number of values per field given that we know there are at most 2 alternate alleles in our example VCF file:"
   ]
  },
  {
   "cell_type": "code",
   "execution_count": 78,
   "metadata": {},
   "outputs": [
    {
     "data": {
      "text/html": [
       "<div>\n",
       "<style scoped>\n",
       "    .dataframe tbody tr th:only-of-type {\n",
       "        vertical-align: middle;\n",
       "    }\n",
       "\n",
       "    .dataframe tbody tr th {\n",
       "        vertical-align: top;\n",
       "    }\n",
       "\n",
       "    .dataframe thead th {\n",
       "        text-align: right;\n",
       "    }\n",
       "</style>\n",
       "<table border=\"1\" class=\"dataframe\">\n",
       "  <thead>\n",
       "    <tr style=\"text-align: right;\">\n",
       "      <th></th>\n",
       "      <th>CHROM</th>\n",
       "      <th>POS</th>\n",
       "      <th>ID</th>\n",
       "      <th>REF</th>\n",
       "      <th>ALT_1</th>\n",
       "      <th>ALT_2</th>\n",
       "      <th>QUAL</th>\n",
       "      <th>DP</th>\n",
       "      <th>AF_1</th>\n",
       "      <th>AF_2</th>\n",
       "      <th>DB</th>\n",
       "      <th>FILTER_PASS</th>\n",
       "      <th>FILTER_q10</th>\n",
       "      <th>FILTER_s50</th>\n",
       "      <th>numalt</th>\n",
       "      <th>svlen_1</th>\n",
       "      <th>svlen_2</th>\n",
       "      <th>is_snp</th>\n",
       "    </tr>\n",
       "  </thead>\n",
       "  <tbody>\n",
       "    <tr>\n",
       "      <th>0</th>\n",
       "      <td>20</td>\n",
       "      <td>14370</td>\n",
       "      <td>rs6054257</td>\n",
       "      <td>G</td>\n",
       "      <td>A</td>\n",
       "      <td></td>\n",
       "      <td>29.0</td>\n",
       "      <td>14</td>\n",
       "      <td>0.500</td>\n",
       "      <td>NaN</td>\n",
       "      <td>True</td>\n",
       "      <td>True</td>\n",
       "      <td>False</td>\n",
       "      <td>False</td>\n",
       "      <td>1</td>\n",
       "      <td>0</td>\n",
       "      <td>0</td>\n",
       "      <td>True</td>\n",
       "    </tr>\n",
       "    <tr>\n",
       "      <th>1</th>\n",
       "      <td>20</td>\n",
       "      <td>17330</td>\n",
       "      <td>.</td>\n",
       "      <td>T</td>\n",
       "      <td>A</td>\n",
       "      <td></td>\n",
       "      <td>3.0</td>\n",
       "      <td>11</td>\n",
       "      <td>0.017</td>\n",
       "      <td>NaN</td>\n",
       "      <td>False</td>\n",
       "      <td>False</td>\n",
       "      <td>True</td>\n",
       "      <td>False</td>\n",
       "      <td>1</td>\n",
       "      <td>0</td>\n",
       "      <td>0</td>\n",
       "      <td>True</td>\n",
       "    </tr>\n",
       "    <tr>\n",
       "      <th>2</th>\n",
       "      <td>20</td>\n",
       "      <td>1110696</td>\n",
       "      <td>rs6040355</td>\n",
       "      <td>A</td>\n",
       "      <td>G</td>\n",
       "      <td>T</td>\n",
       "      <td>67.0</td>\n",
       "      <td>10</td>\n",
       "      <td>0.333</td>\n",
       "      <td>0.667</td>\n",
       "      <td>True</td>\n",
       "      <td>True</td>\n",
       "      <td>False</td>\n",
       "      <td>False</td>\n",
       "      <td>2</td>\n",
       "      <td>0</td>\n",
       "      <td>0</td>\n",
       "      <td>True</td>\n",
       "    </tr>\n",
       "    <tr>\n",
       "      <th>3</th>\n",
       "      <td>20</td>\n",
       "      <td>1230237</td>\n",
       "      <td>.</td>\n",
       "      <td>T</td>\n",
       "      <td></td>\n",
       "      <td></td>\n",
       "      <td>47.0</td>\n",
       "      <td>13</td>\n",
       "      <td>NaN</td>\n",
       "      <td>NaN</td>\n",
       "      <td>False</td>\n",
       "      <td>True</td>\n",
       "      <td>False</td>\n",
       "      <td>False</td>\n",
       "      <td>0</td>\n",
       "      <td>0</td>\n",
       "      <td>0</td>\n",
       "      <td>False</td>\n",
       "    </tr>\n",
       "    <tr>\n",
       "      <th>4</th>\n",
       "      <td>20</td>\n",
       "      <td>1234567</td>\n",
       "      <td>microsat1</td>\n",
       "      <td>GTC</td>\n",
       "      <td>G</td>\n",
       "      <td>GTCT</td>\n",
       "      <td>50.0</td>\n",
       "      <td>9</td>\n",
       "      <td>NaN</td>\n",
       "      <td>NaN</td>\n",
       "      <td>False</td>\n",
       "      <td>True</td>\n",
       "      <td>False</td>\n",
       "      <td>False</td>\n",
       "      <td>2</td>\n",
       "      <td>-2</td>\n",
       "      <td>1</td>\n",
       "      <td>False</td>\n",
       "    </tr>\n",
       "  </tbody>\n",
       "</table>\n",
       "</div>"
      ],
      "text/plain": [
       "  CHROM      POS         ID  REF ALT_1 ALT_2  QUAL  DP   AF_1   AF_2     DB  \\\n",
       "0    20    14370  rs6054257    G     A        29.0  14  0.500    NaN   True   \n",
       "1    20    17330          .    T     A         3.0  11  0.017    NaN  False   \n",
       "2    20  1110696  rs6040355    A     G     T  67.0  10  0.333  0.667   True   \n",
       "3    20  1230237          .    T              47.0  13    NaN    NaN  False   \n",
       "4    20  1234567  microsat1  GTC     G  GTCT  50.0   9    NaN    NaN  False   \n",
       "\n",
       "   FILTER_PASS  FILTER_q10  FILTER_s50  numalt  svlen_1  svlen_2  is_snp  \n",
       "0         True       False       False       1        0        0    True  \n",
       "1        False        True       False       1        0        0    True  \n",
       "2         True       False       False       2        0        0    True  \n",
       "3         True       False       False       0        0        0   False  \n",
       "4         True       False       False       2       -2        1   False  "
      ]
     },
     "execution_count": 78,
     "metadata": {},
     "output_type": "execute_result"
    }
   ],
   "source": [
    "df = allel.vcf_to_dataframe('example.vcf', fields='*', alt_number=2)\n",
    "df"
   ]
  },
  {
   "cell_type": "markdown",
   "metadata": {},
   "source": [
    "In case you were wondering, the 'numalt', 'svlen' and 'is_snp' fields are computed by scikit-allel, they are not present in the original VCF.\n",
    "\n",
    "Pandas DataFrames have many useful features. For example, you can query:"
   ]
  },
  {
   "cell_type": "code",
   "execution_count": 79,
   "metadata": {},
   "outputs": [
    {
     "data": {
      "text/html": [
       "<div>\n",
       "<style scoped>\n",
       "    .dataframe tbody tr th:only-of-type {\n",
       "        vertical-align: middle;\n",
       "    }\n",
       "\n",
       "    .dataframe tbody tr th {\n",
       "        vertical-align: top;\n",
       "    }\n",
       "\n",
       "    .dataframe thead th {\n",
       "        text-align: right;\n",
       "    }\n",
       "</style>\n",
       "<table border=\"1\" class=\"dataframe\">\n",
       "  <thead>\n",
       "    <tr style=\"text-align: right;\">\n",
       "      <th></th>\n",
       "      <th>CHROM</th>\n",
       "      <th>POS</th>\n",
       "      <th>ID</th>\n",
       "      <th>REF</th>\n",
       "      <th>ALT_1</th>\n",
       "      <th>ALT_2</th>\n",
       "      <th>QUAL</th>\n",
       "      <th>DP</th>\n",
       "      <th>AF_1</th>\n",
       "      <th>AF_2</th>\n",
       "      <th>DB</th>\n",
       "      <th>FILTER_PASS</th>\n",
       "      <th>FILTER_q10</th>\n",
       "      <th>FILTER_s50</th>\n",
       "      <th>numalt</th>\n",
       "      <th>svlen_1</th>\n",
       "      <th>svlen_2</th>\n",
       "      <th>is_snp</th>\n",
       "    </tr>\n",
       "  </thead>\n",
       "  <tbody>\n",
       "    <tr>\n",
       "      <th>0</th>\n",
       "      <td>20</td>\n",
       "      <td>14370</td>\n",
       "      <td>rs6054257</td>\n",
       "      <td>G</td>\n",
       "      <td>A</td>\n",
       "      <td></td>\n",
       "      <td>29.0</td>\n",
       "      <td>14</td>\n",
       "      <td>0.5</td>\n",
       "      <td>NaN</td>\n",
       "      <td>True</td>\n",
       "      <td>True</td>\n",
       "      <td>False</td>\n",
       "      <td>False</td>\n",
       "      <td>1</td>\n",
       "      <td>0</td>\n",
       "      <td>0</td>\n",
       "      <td>True</td>\n",
       "    </tr>\n",
       "    <tr>\n",
       "      <th>3</th>\n",
       "      <td>20</td>\n",
       "      <td>1230237</td>\n",
       "      <td>.</td>\n",
       "      <td>T</td>\n",
       "      <td></td>\n",
       "      <td></td>\n",
       "      <td>47.0</td>\n",
       "      <td>13</td>\n",
       "      <td>NaN</td>\n",
       "      <td>NaN</td>\n",
       "      <td>False</td>\n",
       "      <td>True</td>\n",
       "      <td>False</td>\n",
       "      <td>False</td>\n",
       "      <td>0</td>\n",
       "      <td>0</td>\n",
       "      <td>0</td>\n",
       "      <td>False</td>\n",
       "    </tr>\n",
       "  </tbody>\n",
       "</table>\n",
       "</div>"
      ],
      "text/plain": [
       "  CHROM      POS         ID REF ALT_1 ALT_2  QUAL  DP  AF_1  AF_2     DB  \\\n",
       "0    20    14370  rs6054257   G     A        29.0  14   0.5   NaN   True   \n",
       "3    20  1230237          .   T              47.0  13   NaN   NaN  False   \n",
       "\n",
       "   FILTER_PASS  FILTER_q10  FILTER_s50  numalt  svlen_1  svlen_2  is_snp  \n",
       "0         True       False       False       1        0        0    True  \n",
       "3         True       False       False       0        0        0   False  "
      ]
     },
     "execution_count": 79,
     "metadata": {},
     "output_type": "execute_result"
    }
   ],
   "source": [
    "df.query('DP > 10 and QUAL > 20')"
   ]
  },
  {
   "cell_type": "markdown",
   "metadata": {},
   "source": [
    "## [`vcf_to_recarray()`](http://scikit-allel.readthedocs.io/en/latest/io.html#allel.vcf_to_recarray)\n",
    "\n",
    "If you prefer to work with NumPy structured arrays rather than pandas DataFrames, try the [`vcf_to_recarray()`](http://scikit-allel.readthedocs.io/en/latest/io.html#allel.vcf_to_recarray) function, e.g.: "
   ]
  },
  {
   "cell_type": "code",
   "execution_count": 80,
   "metadata": {},
   "outputs": [
    {
     "data": {
      "text/plain": [
       "array([('20',   14370, 'rs6054257', 'G', 'A', '', '',  29.,  True),\n",
       "       ('20',   17330, '.', 'T', 'A', '', '',   3., False),\n",
       "       ('20', 1110696, 'rs6040355', 'A', 'G', 'T', '',  67.,  True),\n",
       "       ('20', 1230237, '.', 'T', '', '', '',  47.,  True),\n",
       "       ('20', 1234567, 'microsat1', 'GTC', 'G', 'GTCT', '',  50.,  True)],\n",
       "      dtype=(numpy.record, [('CHROM', 'O'), ('POS', '<i4'), ('ID', 'O'), ('REF', 'O'), ('ALT_1', 'O'), ('ALT_2', 'O'), ('ALT_3', 'O'), ('QUAL', '<f4'), ('FILTER_PASS', '?')]))"
      ]
     },
     "execution_count": 80,
     "metadata": {},
     "output_type": "execute_result"
    }
   ],
   "source": [
    "ra = allel.vcf_to_recarray('example.vcf')\n",
    "ra"
   ]
  },
  {
   "cell_type": "markdown",
   "metadata": {},
   "source": [
    "## [`vcf_to_csv()`](http://scikit-allel.readthedocs.io/en/latest/io.html#allel.vcf_to_csv)\n",
    "\n",
    "Finally, the [`vcf_to_csv()`](http://scikit-allel.readthedocs.io/en/latest/io.html#allel.vcf_to_csv) function is available if you need to dump data from a VCF file out to a generic CSV file (e.g., to load into a database). E.g.:"
   ]
  },
  {
   "cell_type": "code",
   "execution_count": 81,
   "metadata": {},
   "outputs": [],
   "source": [
    "allel.vcf_to_csv('example.vcf', 'example.csv', fields=['CHROM', 'POS', 'DP'])"
   ]
  },
  {
   "cell_type": "code",
   "execution_count": 82,
   "metadata": {},
   "outputs": [
    {
     "name": "stdout",
     "output_type": "stream",
     "text": [
      "CHROM,POS,DP\n",
      "20,14370,14\n",
      "20,17330,11\n",
      "20,1110696,10\n",
      "20,1230237,13\n",
      "20,1234567,9\n",
      "\n"
     ]
    }
   ],
   "source": [
    "with open('example.csv', mode='r') as f:\n",
    "    print(f.read())"
   ]
  },
  {
   "cell_type": "markdown",
   "metadata": {
    "collapsed": true
   },
   "source": [
    "This function uses the pandas [`to_csv()`](https://pandas.pydata.org/pandas-docs/stable/generated/pandas.DataFrame.to_csv.html) function under the hood to write the CSV, so you can control various output parameters (e.g., field separator) by passing through keyword arguments."
   ]
  },
  {
   "cell_type": "markdown",
   "metadata": {},
   "source": [
    "## Worked example: human 1000 genomes phase 3\n",
    "\n",
    "I've downloaded a [VCF file](ftp://ftp.1000genomes.ebi.ac.uk/vol1/ftp/release/20130502/ALL.chr22.phase3_shapeit2_mvncall_integrated_v5a.20130502.genotypes.vcf.gz) with genotype data for Chromosome 22 from the 1000 genomes project phase 3 [FTP site](ftp://ftp.1000genomes.ebi.ac.uk/vol1/ftp/release/20130502/). "
   ]
  },
  {
   "cell_type": "code",
   "execution_count": 83,
   "metadata": {},
   "outputs": [],
   "source": [
    "vcf_path = 'data/ALL.chr22.phase3_shapeit2_mvncall_integrated_v5a.20130502.genotypes.vcf.gz'"
   ]
  },
  {
   "cell_type": "markdown",
   "metadata": {},
   "source": [
    "Before we start processing, let's see how big the file is (the '!' is special Jupyter notebook syntax for running a command via the operating system shell):"
   ]
  },
  {
   "cell_type": "code",
   "execution_count": 84,
   "metadata": {},
   "outputs": [
    {
     "name": "stdout",
     "output_type": "stream",
     "text": [
      "-rw-r--r-- 1 aliman aliman 205M Jun 20  2017 data/ALL.chr22.phase3_shapeit2_mvncall_integrated_v5a.20130502.genotypes.vcf.gz\r\n"
     ]
    }
   ],
   "source": [
    "!ls -lh {vcf_path}"
   ]
  },
  {
   "cell_type": "markdown",
   "metadata": {},
   "source": [
    "...and how many lines: "
   ]
  },
  {
   "cell_type": "code",
   "execution_count": 85,
   "metadata": {},
   "outputs": [
    {
     "name": "stdout",
     "output_type": "stream",
     "text": [
      "1103800\r\n"
     ]
    }
   ],
   "source": [
    "!zcat {vcf_path} | wc -l"
   ]
  },
  {
   "cell_type": "markdown",
   "metadata": {},
   "source": [
    "So there are more than a million variants.\n",
    "\n",
    "### Preparation\n",
    "\n",
    "When processing larger VCF files it's useful to get some feedback on how fast things are going. Let's import the `sys` module so we can log to standard output:"
   ]
  },
  {
   "cell_type": "code",
   "execution_count": 86,
   "metadata": {},
   "outputs": [],
   "source": [
    "import sys"
   ]
  },
  {
   "cell_type": "markdown",
   "metadata": {},
   "source": [
    "Ultimately I am going to extract all the data from this VCF file into a Zarr store. However, before I do that, I'm going to check how many alternate alleles I should expect. I'm going to do that by extracting just the 'numalt' field, which scikit-allel will compute from the number of values in the 'ALT' field:"
   ]
  },
  {
   "cell_type": "code",
   "execution_count": 87,
   "metadata": {},
   "outputs": [
    {
     "name": "stdout",
     "output_type": "stream",
     "text": [
      "[read_vcf] 65536 rows in 8.19s; chunk in 8.19s (8001 rows/s); 22\u0000:18539397\n",
      "[read_vcf] 131072 rows in 16.05s; chunk in 7.86s (8341 rows/s); 22\u0000:21016127\n",
      "[read_vcf] 196608 rows in 22.73s; chunk in 6.69s (9800 rows/s); 22\u0000:23236362\n",
      "[read_vcf] 262144 rows in 27.52s; chunk in 4.78s (13696 rows/s); 22\u0000:25227844\n",
      "[read_vcf] 327680 rows in 32.98s; chunk in 5.46s (12001 rows/s); 22\u0000:27285434\n",
      "[read_vcf] 393216 rows in 38.07s; chunk in 5.09s (12879 rows/s); 22\u0000:29572822\n",
      "[read_vcf] 458752 rows in 43.13s; chunk in 5.06s (12940 rows/s); 22\u0000:31900536\n",
      "[read_vcf] 524288 rows in 47.94s; chunk in 4.80s (13640 rows/s); 22\u0000:34069864\n",
      "[read_vcf] 589824 rows in 53.03s; chunk in 5.09s (12869 rows/s); 22\u0000:36053392\n",
      "[read_vcf] 655360 rows in 59.10s; chunk in 6.07s (10804 rows/s); 22\u0000:38088395\n",
      "[read_vcf] 720896 rows in 66.34s; chunk in 7.25s (9044 rows/s); 22\u0000:40216200\n",
      "[read_vcf] 786432 rows in 72.77s; chunk in 6.43s (10192 rows/s); 22\u0000:42597446\n",
      "[read_vcf] 851968 rows in 78.85s; chunk in 6.08s (10775 rows/s); 22\u0000:44564263\n",
      "[read_vcf] 917504 rows in 84.40s; chunk in 5.54s (11823 rows/s); 22\u0000:46390672\n",
      "[read_vcf] 983040 rows in 89.51s; chunk in 5.12s (12807 rows/s); 22\u0000:48116697\n",
      "[read_vcf] 1048576 rows in 95.96s; chunk in 6.45s (10162 rows/s); 22\u0000:49713436\n",
      "[read_vcf] 1103547 rows in 102.48s; chunk in 6.52s (8436 rows/s)\n",
      "[read_vcf] all done (10768 rows/s)\n"
     ]
    }
   ],
   "source": [
    "callset = allel.read_vcf(vcf_path, fields=['numalt'], log=sys.stdout)"
   ]
  },
  {
   "cell_type": "markdown",
   "metadata": {},
   "source": [
    "Let's see what the largest number of alternate alleles is:"
   ]
  },
  {
   "cell_type": "code",
   "execution_count": 88,
   "metadata": {},
   "outputs": [
    {
     "data": {
      "text/plain": [
       "8"
      ]
     },
     "execution_count": 88,
     "metadata": {},
     "output_type": "execute_result"
    }
   ],
   "source": [
    "numalt = callset['variants/numalt']\n",
    "np.max(numalt)"
   ]
  },
  {
   "cell_type": "markdown",
   "metadata": {},
   "source": [
    "Out of interest, how many variants are multi-allelic?"
   ]
  },
  {
   "cell_type": "code",
   "execution_count": 89,
   "metadata": {},
   "outputs": [
    {
     "data": {
      "text/plain": [
       "array([      0, 1097199,    6073,     224,      38,       9,       3,\n",
       "             0,       1])"
      ]
     },
     "execution_count": 89,
     "metadata": {},
     "output_type": "execute_result"
    }
   ],
   "source": [
    "count_numalt = np.bincount(numalt)\n",
    "count_numalt"
   ]
  },
  {
   "cell_type": "code",
   "execution_count": 90,
   "metadata": {},
   "outputs": [
    {
     "data": {
      "text/plain": [
       "6348"
      ]
     },
     "execution_count": 90,
     "metadata": {},
     "output_type": "execute_result"
    }
   ],
   "source": [
    "n_multiallelic = np.sum(count_numalt[2:])\n",
    "n_multiallelic"
   ]
  },
  {
   "cell_type": "markdown",
   "metadata": {},
   "source": [
    "So there are only a very small number of multi-allelic variants (6,348), the vast majority (1,097,199) have just one alternate allele.\n",
    "\n",
    "### Extract to Zarr\n",
    "\n",
    "Now we know how many alternate alleles to expect, let's go ahead and extract everything out into a Zarr on-disk store. Time for a cup of tea:"
   ]
  },
  {
   "cell_type": "code",
   "execution_count": 91,
   "metadata": {},
   "outputs": [],
   "source": [
    "zarr_path = 'data/ALL.phase3_shapeit2_mvncall_integrated_v5a.20130502.genotypes.zarr'"
   ]
  },
  {
   "cell_type": "code",
   "execution_count": 92,
   "metadata": {},
   "outputs": [
    {
     "name": "stdout",
     "output_type": "stream",
     "text": [
      "[vcf_to_zarr] 65536 rows in 15.14s; chunk in 15.14s (4328 rows/s); 22\u0000:18539397\n",
      "[vcf_to_zarr] 131072 rows in 30.19s; chunk in 15.05s (4354 rows/s); 22\u0000:21016127\n",
      "[vcf_to_zarr] 196608 rows in 42.07s; chunk in 11.88s (5515 rows/s); 22\u0000:23236362\n",
      "[vcf_to_zarr] 262144 rows in 53.31s; chunk in 11.23s (5833 rows/s); 22\u0000:25227844\n",
      "[vcf_to_zarr] 327680 rows in 64.61s; chunk in 11.30s (5800 rows/s); 22\u0000:27285434\n",
      "[vcf_to_zarr] 393216 rows in 78.52s; chunk in 13.91s (4709 rows/s); 22\u0000:29572822\n",
      "[vcf_to_zarr] 458752 rows in 92.61s; chunk in 14.09s (4650 rows/s); 22\u0000:31900536\n",
      "[vcf_to_zarr] 524288 rows in 104.47s; chunk in 11.86s (5526 rows/s); 22\u0000:34069864\n",
      "[vcf_to_zarr] 589824 rows in 117.29s; chunk in 12.82s (5111 rows/s); 22\u0000:36053392\n",
      "[vcf_to_zarr] 655360 rows in 128.32s; chunk in 11.03s (5942 rows/s); 22\u0000:38088395\n",
      "[vcf_to_zarr] 720896 rows in 139.75s; chunk in 11.43s (5735 rows/s); 22\u0000:40216200\n",
      "[vcf_to_zarr] 786432 rows in 153.38s; chunk in 13.63s (4808 rows/s); 22\u0000:42597446\n",
      "[vcf_to_zarr] 851968 rows in 165.66s; chunk in 12.28s (5336 rows/s); 22\u0000:44564263\n",
      "[vcf_to_zarr] 917504 rows in 178.74s; chunk in 13.08s (5008 rows/s); 22\u0000:46390672\n",
      "[vcf_to_zarr] 983040 rows in 190.38s; chunk in 11.64s (5630 rows/s); 22\u0000:48116697\n",
      "[vcf_to_zarr] 1048576 rows in 201.35s; chunk in 10.96s (5977 rows/s); 22\u0000:49713436\n",
      "[vcf_to_zarr] 1103547 rows in 211.84s; chunk in 10.49s (5238 rows/s)\n",
      "[vcf_to_zarr] all done (5202 rows/s)\n"
     ]
    }
   ],
   "source": [
    "allel.vcf_to_zarr(vcf_path, zarr_path, group='22',\n",
    "                  fields='*', alt_number=8, log=sys.stdout,\n",
    "                  compressor=numcodecs.Blosc(cname='zstd', clevel=1, shuffle=False))"
   ]
  },
  {
   "cell_type": "markdown",
   "metadata": {},
   "source": [
    "By default Zarr compresses data using LZ4 via the Blosc compression library, but here I've decided to use Blosc with Zstandard instead of LZ4. LZ4 is faster but has slightly lower compression ratio, so is a good option if disk space is not a major issue and you are working from a storage device with high bandwidth (e.g., an SSD). Zstd is slightly slower but compresses a bit better.\n",
    "\n",
    "Zarr stores the data in multiple files within a directory hierarchy. How much storage is required in total?"
   ]
  },
  {
   "cell_type": "code",
   "execution_count": 93,
   "metadata": {},
   "outputs": [
    {
     "name": "stdout",
     "output_type": "stream",
     "text": [
      "140M\tdata/ALL.phase3_shapeit2_mvncall_integrated_v5a.20130502.genotypes.zarr\r\n"
     ]
    }
   ],
   "source": [
    "!du -hs {zarr_path}"
   ]
  },
  {
   "cell_type": "markdown",
   "metadata": {},
   "source": [
    "To check things have worked as expected, let's run a few quick diagnostics:"
   ]
  },
  {
   "cell_type": "code",
   "execution_count": 94,
   "metadata": {},
   "outputs": [
    {
     "data": {
      "text/plain": [
       "<zarr.hierarchy.Group '/' read-only>"
      ]
     },
     "execution_count": 94,
     "metadata": {},
     "output_type": "execute_result"
    }
   ],
   "source": [
    "callset_h1k = zarr.open_group(zarr_path, mode='r')\n",
    "callset_h1k"
   ]
  },
  {
   "cell_type": "code",
   "execution_count": 95,
   "metadata": {},
   "outputs": [
    {
     "data": {
      "text/html": [
       "<link rel=\"stylesheet\" href=\"//cdnjs.cloudflare.com/ajax/libs/jstree/3.3.3/themes/default/style.min.css\"/><div id=\"8a8162d9-3aa5-4110-acf7-80fb2ac0355f\" class=\"zarr-tree\"><ul><li data-jstree='{\"type\": \"Group\"}' class='jstree-open'><span>/</span><ul><li data-jstree='{\"type\": \"Group\"}' class='jstree-open'><span>22</span><ul><li data-jstree='{\"type\": \"Group\"}' class='jstree-open'><span>calldata</span><ul><li data-jstree='{\"type\": \"Array\"}' class='jstree-open'><span>GT (1103547, 2504, 2) int8</span></li></ul></li><li data-jstree='{\"type\": \"Array\"}' class='jstree-open'><span>samples (2504,) object</span></li><li data-jstree='{\"type\": \"Group\"}' class='jstree-open'><span>variants</span><ul><li data-jstree='{\"type\": \"Array\"}' class='jstree-open'><span>AA (1103547,) object</span></li><li data-jstree='{\"type\": \"Array\"}' class='jstree-open'><span>AC (1103547, 8) int32</span></li><li data-jstree='{\"type\": \"Array\"}' class='jstree-open'><span>AF (1103547, 8) float32</span></li><li data-jstree='{\"type\": \"Array\"}' class='jstree-open'><span>AFR_AF (1103547, 8) float32</span></li><li data-jstree='{\"type\": \"Array\"}' class='jstree-open'><span>ALT (1103547, 8) object</span></li><li data-jstree='{\"type\": \"Array\"}' class='jstree-open'><span>AMR_AF (1103547, 8) float32</span></li><li data-jstree='{\"type\": \"Array\"}' class='jstree-open'><span>AN (1103547,) int32</span></li><li data-jstree='{\"type\": \"Array\"}' class='jstree-open'><span>CHROM (1103547,) object</span></li><li data-jstree='{\"type\": \"Array\"}' class='jstree-open'><span>CIEND (1103547, 2) int32</span></li><li data-jstree='{\"type\": \"Array\"}' class='jstree-open'><span>CIPOS (1103547, 2) int32</span></li><li data-jstree='{\"type\": \"Array\"}' class='jstree-open'><span>CS (1103547,) object</span></li><li data-jstree='{\"type\": \"Array\"}' class='jstree-open'><span>DP (1103547,) int32</span></li><li data-jstree='{\"type\": \"Array\"}' class='jstree-open'><span>EAS_AF (1103547, 8) float32</span></li><li data-jstree='{\"type\": \"Array\"}' class='jstree-open'><span>END (1103547,) int32</span></li><li data-jstree='{\"type\": \"Array\"}' class='jstree-open'><span>EUR_AF (1103547, 8) float32</span></li><li data-jstree='{\"type\": \"Array\"}' class='jstree-open'><span>EX_TARGET (1103547,) bool</span></li><li data-jstree='{\"type\": \"Array\"}' class='jstree-open'><span>FILTER_PASS (1103547,) bool</span></li><li data-jstree='{\"type\": \"Array\"}' class='jstree-open'><span>ID (1103547,) object</span></li><li data-jstree='{\"type\": \"Array\"}' class='jstree-open'><span>IMPRECISE (1103547,) bool</span></li><li data-jstree='{\"type\": \"Array\"}' class='jstree-open'><span>MC (1103547,) object</span></li><li data-jstree='{\"type\": \"Array\"}' class='jstree-open'><span>MEINFO (1103547, 4) object</span></li><li data-jstree='{\"type\": \"Array\"}' class='jstree-open'><span>MEND (1103547,) int32</span></li><li data-jstree='{\"type\": \"Array\"}' class='jstree-open'><span>MLEN (1103547,) int32</span></li><li data-jstree='{\"type\": \"Array\"}' class='jstree-open'><span>MSTART (1103547,) int32</span></li><li data-jstree='{\"type\": \"Array\"}' class='jstree-open'><span>MULTI_ALLELIC (1103547,) bool</span></li><li data-jstree='{\"type\": \"Array\"}' class='jstree-open'><span>NS (1103547,) int32</span></li><li data-jstree='{\"type\": \"Array\"}' class='jstree-open'><span>POS (1103547,) int32</span></li><li data-jstree='{\"type\": \"Array\"}' class='jstree-open'><span>QUAL (1103547,) float32</span></li><li data-jstree='{\"type\": \"Array\"}' class='jstree-open'><span>REF (1103547,) object</span></li><li data-jstree='{\"type\": \"Array\"}' class='jstree-open'><span>SAS_AF (1103547, 8) float32</span></li><li data-jstree='{\"type\": \"Array\"}' class='jstree-open'><span>SVLEN (1103547,) int32</span></li><li data-jstree='{\"type\": \"Array\"}' class='jstree-open'><span>SVTYPE (1103547,) object</span></li><li data-jstree='{\"type\": \"Array\"}' class='jstree-open'><span>TSD (1103547,) object</span></li><li data-jstree='{\"type\": \"Array\"}' class='jstree-open'><span>VT (1103547,) object</span></li><li data-jstree='{\"type\": \"Array\"}' class='jstree-open'><span>is_snp (1103547,) bool</span></li><li data-jstree='{\"type\": \"Array\"}' class='jstree-open'><span>numalt (1103547,) int32</span></li><li data-jstree='{\"type\": \"Array\"}' class='jstree-open'><span>svlen (1103547, 8) int32</span></li></ul></li></ul></li></ul></li></ul></div>\n",
       "<script>\n",
       "    if (!require.defined('jquery')) {\n",
       "        require.config({\n",
       "            paths: {\n",
       "                jquery: '//cdnjs.cloudflare.com/ajax/libs/jquery/1.12.1/jquery.min'\n",
       "            },\n",
       "        });\n",
       "    }\n",
       "    if (!require.defined('jstree')) {\n",
       "        require.config({\n",
       "            paths: {\n",
       "                jstree: '//cdnjs.cloudflare.com/ajax/libs/jstree/3.3.3/jstree.min'\n",
       "            },\n",
       "        });\n",
       "    }\n",
       "    require(['jstree'], function() {\n",
       "        $('#8a8162d9-3aa5-4110-acf7-80fb2ac0355f').jstree({\n",
       "            types: {\n",
       "                Group: {\n",
       "                    icon: \"fa fa-folder\"\n",
       "                },\n",
       "                Array: {\n",
       "                    icon: \"fa fa-table\"\n",
       "                }\n",
       "            },\n",
       "            plugins: [\"types\"]\n",
       "        });\n",
       "    });\n",
       "</script>\n"
      ],
      "text/plain": [
       "/\n",
       " └── 22\n",
       "     ├── calldata\n",
       "     │   └── GT (1103547, 2504, 2) int8\n",
       "     ├── samples (2504,) object\n",
       "     └── variants\n",
       "         ├── AA (1103547,) object\n",
       "         ├── AC (1103547, 8) int32\n",
       "         ├── AF (1103547, 8) float32\n",
       "         ├── AFR_AF (1103547, 8) float32\n",
       "         ├── ALT (1103547, 8) object\n",
       "         ├── AMR_AF (1103547, 8) float32\n",
       "         ├── AN (1103547,) int32\n",
       "         ├── CHROM (1103547,) object\n",
       "         ├── CIEND (1103547, 2) int32\n",
       "         ├── CIPOS (1103547, 2) int32\n",
       "         ├── CS (1103547,) object\n",
       "         ├── DP (1103547,) int32\n",
       "         ├── EAS_AF (1103547, 8) float32\n",
       "         ├── END (1103547,) int32\n",
       "         ├── EUR_AF (1103547, 8) float32\n",
       "         ├── EX_TARGET (1103547,) bool\n",
       "         ├── FILTER_PASS (1103547,) bool\n",
       "         ├── ID (1103547,) object\n",
       "         ├── IMPRECISE (1103547,) bool\n",
       "         ├── MC (1103547,) object\n",
       "         ├── MEINFO (1103547, 4) object\n",
       "         ├── MEND (1103547,) int32\n",
       "         ├── MLEN (1103547,) int32\n",
       "         ├── MSTART (1103547,) int32\n",
       "         ├── MULTI_ALLELIC (1103547,) bool\n",
       "         ├── NS (1103547,) int32\n",
       "         ├── POS (1103547,) int32\n",
       "         ├── QUAL (1103547,) float32\n",
       "         ├── REF (1103547,) object\n",
       "         ├── SAS_AF (1103547, 8) float32\n",
       "         ├── SVLEN (1103547,) int32\n",
       "         ├── SVTYPE (1103547,) object\n",
       "         ├── TSD (1103547,) object\n",
       "         ├── VT (1103547,) object\n",
       "         ├── is_snp (1103547,) bool\n",
       "         ├── numalt (1103547,) int32\n",
       "         └── svlen (1103547, 8) int32"
      ]
     },
     "execution_count": 95,
     "metadata": {},
     "output_type": "execute_result"
    }
   ],
   "source": [
    "callset_h1k.tree(expand=True)"
   ]
  },
  {
   "cell_type": "markdown",
   "metadata": {},
   "source": [
    "Note here that I have loaded the data into a group named '22', i.e., the data are grouped by chromosome. This is typically how we organise data in HDF5 or Zarr files in our own work with mosquitoes."
   ]
  },
  {
   "cell_type": "code",
   "execution_count": 96,
   "metadata": {},
   "outputs": [],
   "source": [
    "import matplotlib.pyplot as plt\n",
    "%matplotlib inline\n",
    "import seaborn as sns"
   ]
  },
  {
   "cell_type": "code",
   "execution_count": 97,
   "metadata": {},
   "outputs": [
    {
     "data": {
      "text/html": [
       "<div class=\"allel allel-DisplayAs1D\"><span>&lt;SortedIndex shape=(1103547,) dtype=int32&gt;</span><table><thead><tr><th style=\"text-align: center\">0</th><th style=\"text-align: center\">1</th><th style=\"text-align: center\">2</th><th style=\"text-align: center\">3</th><th style=\"text-align: center\">4</th><th style=\"text-align: center\">...</th><th style=\"text-align: center\">1103542</th><th style=\"text-align: center\">1103543</th><th style=\"text-align: center\">1103544</th><th style=\"text-align: center\">1103545</th><th style=\"text-align: center\">1103546</th></tr></thead><tbody><tr><td style=\"text-align: center\">16050075</td><td style=\"text-align: center\">16050115</td><td style=\"text-align: center\">16050213</td><td style=\"text-align: center\">16050319</td><td style=\"text-align: center\">16050527</td><td style=\"text-align: center\">...</td><td style=\"text-align: center\">51241342</td><td style=\"text-align: center\">51241386</td><td style=\"text-align: center\">51244163</td><td style=\"text-align: center\">51244205</td><td style=\"text-align: center\">51244237</td></tr></tbody></table></div>"
      ],
      "text/plain": [
       "<SortedIndex shape=(1103547,) dtype=int32>\n",
       "[16050075, 16050115, 16050213, 16050319, 16050527, ..., 51241342, 51241386, 51244163, 51244205, 51244237]"
      ]
     },
     "execution_count": 97,
     "metadata": {},
     "output_type": "execute_result"
    }
   ],
   "source": [
    "pos = allel.SortedIndex(callset_h1k['22/variants/POS'])\n",
    "pos"
   ]
  },
  {
   "cell_type": "code",
   "execution_count": 98,
   "metadata": {},
   "outputs": [],
   "source": [
    "def plot_windowed_variant_density(pos, window_size, title=None):\n",
    "    \n",
    "    # setup windows \n",
    "    bins = np.arange(0, pos.max(), window_size)\n",
    "    \n",
    "    # use window midpoints as x coordinate\n",
    "    x = (bins[1:] + bins[:-1])/2\n",
    "    \n",
    "    # compute variant density in each window\n",
    "    h, _ = np.histogram(pos, bins=bins)\n",
    "    y = h / window_size\n",
    "    \n",
    "    # plot\n",
    "    fig, ax = plt.subplots(figsize=(12, 3))\n",
    "    sns.despine(ax=ax, offset=10)\n",
    "    ax.plot(x, y)\n",
    "    ax.set_xlabel('Chromosome position (bp)')\n",
    "    ax.set_ylabel('Variant density (bp$^{-1}$)')\n",
    "    if title:\n",
    "        ax.set_title(title)"
   ]
  },
  {
   "cell_type": "code",
   "execution_count": 99,
   "metadata": {},
   "outputs": [
    {
     "data": {
      "image/png": "[encoded data removed]",
      "text/plain": [
       "<Figure size 864x216 with 1 Axes>"
      ]
     },
     "metadata": {},
     "output_type": "display_data"
    }
   ],
   "source": [
    "plot_windowed_variant_density(pos, window_size=100000, title='Variant density')"
   ]
  },
  {
   "cell_type": "markdown",
   "metadata": {},
   "source": [
    "When working with large genotype arrays, scikit-allel has a [`GenotypeDaskArray`](@@TODO) class that is like the [`GenotypeArray`](@@TODO) class we met earlier but can handle data stored on-disk in HDF5 or Zarr files and compute over them without loading all data into memory.   "
   ]
  },
  {
   "cell_type": "code",
   "execution_count": 100,
   "metadata": {},
   "outputs": [
    {
     "data": {
      "text/html": [
       "<div class=\"allel allel-DisplayAs2D\"><span>&lt;GenotypeDaskArray shape=(1103547, 2504, 2) dtype=int8&gt;</span><table><thead><tr><th></th><th style=\"text-align: center\">0</th><th style=\"text-align: center\">1</th><th style=\"text-align: center\">2</th><th style=\"text-align: center\">3</th><th style=\"text-align: center\">4</th><th style=\"text-align: center\">...</th><th style=\"text-align: center\">2499</th><th style=\"text-align: center\">2500</th><th style=\"text-align: center\">2501</th><th style=\"text-align: center\">2502</th><th style=\"text-align: center\">2503</th></tr></thead><tbody><tr><th style=\"text-align: center; background-color: white; border-right: 1px solid black; \">0</th><td style=\"text-align: center\">0/0</td><td style=\"text-align: center\">0/0</td><td style=\"text-align: center\">0/0</td><td style=\"text-align: center\">0/0</td><td style=\"text-align: center\">0/0</td><td style=\"text-align: center\">...</td><td style=\"text-align: center\">0/0</td><td style=\"text-align: center\">0/0</td><td style=\"text-align: center\">0/0</td><td style=\"text-align: center\">0/0</td><td style=\"text-align: center\">0/0</td></tr><tr><th style=\"text-align: center; background-color: white; border-right: 1px solid black; \">1</th><td style=\"text-align: center\">0/0</td><td style=\"text-align: center\">0/0</td><td style=\"text-align: center\">0/0</td><td style=\"text-align: center\">0/0</td><td style=\"text-align: center\">0/0</td><td style=\"text-align: center\">...</td><td style=\"text-align: center\">0/0</td><td style=\"text-align: center\">0/0</td><td style=\"text-align: center\">0/0</td><td style=\"text-align: center\">0/0</td><td style=\"text-align: center\">0/0</td></tr><tr><th style=\"text-align: center; background-color: white; border-right: 1px solid black; \">2</th><td style=\"text-align: center\">0/0</td><td style=\"text-align: center\">0/0</td><td style=\"text-align: center\">0/0</td><td style=\"text-align: center\">0/0</td><td style=\"text-align: center\">0/0</td><td style=\"text-align: center\">...</td><td style=\"text-align: center\">0/0</td><td style=\"text-align: center\">0/0</td><td style=\"text-align: center\">0/0</td><td style=\"text-align: center\">0/0</td><td style=\"text-align: center\">0/0</td></tr><tr><th style=\"text-align: center; background-color: white; border-right: 1px solid black; \">...</th><td style=\"text-align: center\" colspan=\"12\">...</td></tr><tr><th style=\"text-align: center; background-color: white; border-right: 1px solid black; \">1103544</th><td style=\"text-align: center\">0/0</td><td style=\"text-align: center\">0/0</td><td style=\"text-align: center\">0/0</td><td style=\"text-align: center\">0/0</td><td style=\"text-align: center\">0/0</td><td style=\"text-align: center\">...</td><td style=\"text-align: center\">0/0</td><td style=\"text-align: center\">0/0</td><td style=\"text-align: center\">0/0</td><td style=\"text-align: center\">0/0</td><td style=\"text-align: center\">0/0</td></tr><tr><th style=\"text-align: center; background-color: white; border-right: 1px solid black; \">1103545</th><td style=\"text-align: center\">0/0</td><td style=\"text-align: center\">0/0</td><td style=\"text-align: center\">0/0</td><td style=\"text-align: center\">0/0</td><td style=\"text-align: center\">0/0</td><td style=\"text-align: center\">...</td><td style=\"text-align: center\">0/0</td><td style=\"text-align: center\">0/0</td><td style=\"text-align: center\">0/0</td><td style=\"text-align: center\">0/0</td><td style=\"text-align: center\">0/0</td></tr><tr><th style=\"text-align: center; background-color: white; border-right: 1px solid black; \">1103546</th><td style=\"text-align: center\">0/0</td><td style=\"text-align: center\">0/0</td><td style=\"text-align: center\">0/0</td><td style=\"text-align: center\">0/0</td><td style=\"text-align: center\">0/0</td><td style=\"text-align: center\">...</td><td style=\"text-align: center\">0/0</td><td style=\"text-align: center\">0/0</td><td style=\"text-align: center\">0/0</td><td style=\"text-align: center\">0/0</td><td style=\"text-align: center\">0/0</td></tr></tbody></table></div>"
      ],
      "text/plain": [
       "<GenotypeDaskArray shape=(1103547, 2504, 2) dtype=int8>"
      ]
     },
     "execution_count": 100,
     "metadata": {},
     "output_type": "execute_result"
    }
   ],
   "source": [
    "gt = allel.GenotypeDaskArray(callset_h1k['22/calldata/GT'])\n",
    "gt"
   ]
  },
  {
   "cell_type": "markdown",
   "metadata": {},
   "source": [
    "The main difference with the Dask-backed arrays is that you need to explicitly call `compute()` to run a computation, e.g.:"
   ]
  },
  {
   "cell_type": "code",
   "execution_count": 101,
   "metadata": {},
   "outputs": [
    {
     "name": "stdout",
     "output_type": "stream",
     "text": [
      "CPU times: user 28 s, sys: 651 ms, total: 28.7 s\n",
      "Wall time: 4.23 s\n"
     ]
    }
   ],
   "source": [
    "%%time\n",
    "ac = gt.count_alleles(max_allele=8).compute()"
   ]
  },
  {
   "cell_type": "code",
   "execution_count": 102,
   "metadata": {},
   "outputs": [
    {
     "data": {
      "text/html": [
       "<div class=\"allel allel-DisplayAs2D\"><span>&lt;AlleleCountsArray shape=(1103547, 9) dtype=int64&gt;</span><table><thead><tr><th></th><th style=\"text-align: center\">0</th><th style=\"text-align: center\">1</th><th style=\"text-align: center\">2</th><th style=\"text-align: center\">3</th><th style=\"text-align: center\">4</th><th style=\"text-align: center\">5</th><th style=\"text-align: center\">6</th><th style=\"text-align: center\">7</th><th style=\"text-align: center\">8</th></tr></thead><tbody><tr><th style=\"text-align: center; background-color: white; border-right: 1px solid black; \">0</th><td style=\"text-align: center\">5007</td><td style=\"text-align: center\">   1</td><td style=\"text-align: center\">   0</td><td style=\"text-align: center\">   0</td><td style=\"text-align: center\">   0</td><td style=\"text-align: center\">   0</td><td style=\"text-align: center\">   0</td><td style=\"text-align: center\">   0</td><td style=\"text-align: center\">   0</td></tr><tr><th style=\"text-align: center; background-color: white; border-right: 1px solid black; \">1</th><td style=\"text-align: center\">4976</td><td style=\"text-align: center\">  32</td><td style=\"text-align: center\">   0</td><td style=\"text-align: center\">   0</td><td style=\"text-align: center\">   0</td><td style=\"text-align: center\">   0</td><td style=\"text-align: center\">   0</td><td style=\"text-align: center\">   0</td><td style=\"text-align: center\">   0</td></tr><tr><th style=\"text-align: center; background-color: white; border-right: 1px solid black; \">2</th><td style=\"text-align: center\">4970</td><td style=\"text-align: center\">  38</td><td style=\"text-align: center\">   0</td><td style=\"text-align: center\">   0</td><td style=\"text-align: center\">   0</td><td style=\"text-align: center\">   0</td><td style=\"text-align: center\">   0</td><td style=\"text-align: center\">   0</td><td style=\"text-align: center\">   0</td></tr><tr><th style=\"text-align: center; background-color: white; border-right: 1px solid black; \">...</th><td style=\"text-align: center\" colspan=\"10\">...</td></tr><tr><th style=\"text-align: center; background-color: white; border-right: 1px solid black; \">1103544</th><td style=\"text-align: center\">4969</td><td style=\"text-align: center\">  39</td><td style=\"text-align: center\">   0</td><td style=\"text-align: center\">   0</td><td style=\"text-align: center\">   0</td><td style=\"text-align: center\">   0</td><td style=\"text-align: center\">   0</td><td style=\"text-align: center\">   0</td><td style=\"text-align: center\">   0</td></tr><tr><th style=\"text-align: center; background-color: white; border-right: 1px solid black; \">1103545</th><td style=\"text-align: center\">5007</td><td style=\"text-align: center\">   1</td><td style=\"text-align: center\">   0</td><td style=\"text-align: center\">   0</td><td style=\"text-align: center\">   0</td><td style=\"text-align: center\">   0</td><td style=\"text-align: center\">   0</td><td style=\"text-align: center\">   0</td><td style=\"text-align: center\">   0</td></tr><tr><th style=\"text-align: center; background-color: white; border-right: 1px solid black; \">1103546</th><td style=\"text-align: center\">4989</td><td style=\"text-align: center\">  19</td><td style=\"text-align: center\">   0</td><td style=\"text-align: center\">   0</td><td style=\"text-align: center\">   0</td><td style=\"text-align: center\">   0</td><td style=\"text-align: center\">   0</td><td style=\"text-align: center\">   0</td><td style=\"text-align: center\">   0</td></tr></tbody></table></div>"
      ],
      "text/plain": [
       "<AlleleCountsArray shape=(1103547, 9) dtype=int64>\n",
       "5007    1    0    0    0    0    0    0    0\n",
       "4976   32    0    0    0    0    0    0    0\n",
       "4970   38    0    0    0    0    0    0    0\n",
       "...\n",
       "4969   39    0    0    0    0    0    0    0\n",
       "5007    1    0    0    0    0    0    0    0\n",
       "4989   19    0    0    0    0    0    0    0"
      ]
     },
     "execution_count": 102,
     "metadata": {},
     "output_type": "execute_result"
    }
   ],
   "source": [
    "ac"
   ]
  },
  {
   "cell_type": "markdown",
   "metadata": {},
   "source": [
    "## Further reading\n",
    "\n",
    "If you have any questions, please send an email to the [scikit-allel mailing list](https://groups.google.com/forum/#!forum/scikit-allel). If you're wondering where to go next, some of these articles may be of interest:\n",
    "\n",
    "* [Installing Python for data analysis](http://alimanfoo.github.io/2017/05/18/installing-python.html)\n",
    "* [A tour of scikit-allel](http://alimanfoo.github.io/2016/06/10/scikit-allel-tour.html)\n",
    "* [Fast PCA](http://alimanfoo.github.io/2015/09/28/fast-pca.html)\n",
    "* [Estimating F<sub>ST</sub>](http://alimanfoo.github.io/2015/09/21/estimating-fst.html)\n",
    "* [Mendelian transmission](http://alimanfoo.github.io/2017/02/14/mendelian-transmission.html)\n",
    "\n",
    "Further documentation about scikit-allel is available from the [scikit-allel API docs](http://scikit-allel.readthedocs.io/en/latest/)."
   ]
  },
  {
   "cell_type": "markdown",
   "metadata": {},
   "source": [
    "## Post-script: grouping by chromosome\n",
    "\n",
    "In the worked example above, I had a VCF file with data from a single chromosome, and I used the \"group\" argument to extract the data into the Zarr store under a group named after the chromosome (\"22\"). This wasn't strictly necessary for the worked example, but if I then wanted to extract data for other chromosomes, grouping the data by chromosome provides a convenient way to keep the data organised.\n",
    "\n",
    "For example, if I also wanted to extract data for Chromosome 21, I would do the following:"
   ]
  },
  {
   "cell_type": "code",
   "execution_count": 103,
   "metadata": {},
   "outputs": [
    {
     "name": "stdout",
     "output_type": "stream",
     "text": [
      "[vcf_to_zarr] 65536 rows in 12.83s; chunk in 12.83s (5109 rows/s); 21\u0000:15597733\n",
      "[vcf_to_zarr] 131072 rows in 23.83s; chunk in 11.01s (5953 rows/s); 21\u0000:17688253\n",
      "[vcf_to_zarr] 196608 rows in 34.98s; chunk in 11.15s (5877 rows/s); 21\u0000:19697865\n",
      "[vcf_to_zarr] 262144 rows in 46.24s; chunk in 11.26s (5821 rows/s); 21\u0000:21745371\n",
      "[vcf_to_zarr] 327680 rows in 57.22s; chunk in 10.98s (5969 rows/s); 21\u0000:23694335\n",
      "[vcf_to_zarr] 393216 rows in 68.53s; chunk in 11.31s (5795 rows/s); 21\u0000:25609367\n",
      "[vcf_to_zarr] 458752 rows in 81.13s; chunk in 12.60s (5200 rows/s); 21\u0000:27761870\n",
      "[vcf_to_zarr] 524288 rows in 93.15s; chunk in 12.02s (5450 rows/s); 21\u0000:29885097\n",
      "[vcf_to_zarr] 589824 rows in 104.42s; chunk in 11.27s (5816 rows/s); 21\u0000:32050808\n",
      "[vcf_to_zarr] 655360 rows in 115.55s; chunk in 11.13s (5888 rows/s); 21\u0000:34251524\n",
      "[vcf_to_zarr] 720896 rows in 127.02s; chunk in 11.47s (5714 rows/s); 21\u0000:36455104\n",
      "[vcf_to_zarr] 786432 rows in 142.15s; chunk in 15.13s (4330 rows/s); 21\u0000:38563725\n",
      "[vcf_to_zarr] 851968 rows in 153.81s; chunk in 11.65s (5623 rows/s); 21\u0000:40757642\n",
      "[vcf_to_zarr] 917504 rows in 165.23s; chunk in 11.42s (5737 rows/s); 21\u0000:42768192\n",
      "[vcf_to_zarr] 983040 rows in 179.12s; chunk in 13.89s (4717 rows/s); 21\u0000:44738104\n",
      "[vcf_to_zarr] 1048576 rows in 191.46s; chunk in 12.34s (5309 rows/s); 21\u0000:46520145\n",
      "[vcf_to_zarr] 1105538 rows in 201.12s; chunk in 9.66s (5898 rows/s)\n",
      "[vcf_to_zarr] all done (5488 rows/s)\n"
     ]
    }
   ],
   "source": [
    "vcf_path = 'data/ALL.chr21.phase3_shapeit2_mvncall_integrated_v5a.20130502.genotypes.vcf.gz'\n",
    "\n",
    "allel.vcf_to_zarr(vcf_path, zarr_path, group='21',\n",
    "                  fields='*', alt_number=8, log=sys.stdout,\n",
    "                  compressor=numcodecs.Blosc(cname='zstd', clevel=1, shuffle=False))"
   ]
  },
  {
   "cell_type": "markdown",
   "metadata": {},
   "source": [
    "Note that the `vcf_path` has changed because I'm extracting from a different VCF file, but I'm using the same `zarr_path` as before because the data will be grouped by chromosome within the Zarr store.\n",
    "\n",
    "Here's the new data hierarchy after extracting data for Chromosome 21:"
   ]
  },
  {
   "cell_type": "code",
   "execution_count": 114,
   "metadata": {},
   "outputs": [
    {
     "data": {
      "text/html": [
       "<link rel=\"stylesheet\" href=\"//cdnjs.cloudflare.com/ajax/libs/jstree/3.3.3/themes/default/style.min.css\"/><div id=\"3f621278-8095-4c16-95d8-344b69f1a19e\" class=\"zarr-tree\"><ul><li data-jstree='{\"type\": \"Group\"}' class='jstree-open'><span>/</span><ul><li data-jstree='{\"type\": \"Group\"}' class='jstree-open'><span>21</span><ul><li data-jstree='{\"type\": \"Group\"}' class='jstree-open'><span>calldata</span><ul><li data-jstree='{\"type\": \"Array\"}' class='jstree-open'><span>GT (1105538, 2504, 2) int8</span></li></ul></li><li data-jstree='{\"type\": \"Array\"}' class='jstree-open'><span>samples (2504,) object</span></li><li data-jstree='{\"type\": \"Group\"}' class='jstree-open'><span>variants</span><ul><li data-jstree='{\"type\": \"Array\"}' class='jstree-open'><span>AA (1105538,) object</span></li><li data-jstree='{\"type\": \"Array\"}' class='jstree-open'><span>AC (1105538, 8) int32</span></li><li data-jstree='{\"type\": \"Array\"}' class='jstree-open'><span>AF (1105538, 8) float32</span></li><li data-jstree='{\"type\": \"Array\"}' class='jstree-open'><span>AFR_AF (1105538, 8) float32</span></li><li data-jstree='{\"type\": \"Array\"}' class='jstree-open'><span>ALT (1105538, 8) object</span></li><li data-jstree='{\"type\": \"Array\"}' class='jstree-open'><span>AMR_AF (1105538, 8) float32</span></li><li data-jstree='{\"type\": \"Array\"}' class='jstree-open'><span>AN (1105538,) int32</span></li><li data-jstree='{\"type\": \"Array\"}' class='jstree-open'><span>CHROM (1105538,) object</span></li><li data-jstree='{\"type\": \"Array\"}' class='jstree-open'><span>CIEND (1105538, 2) int32</span></li><li data-jstree='{\"type\": \"Array\"}' class='jstree-open'><span>CIPOS (1105538, 2) int32</span></li><li data-jstree='{\"type\": \"Array\"}' class='jstree-open'><span>CS (1105538,) object</span></li><li data-jstree='{\"type\": \"Array\"}' class='jstree-open'><span>DP (1105538,) int32</span></li><li data-jstree='{\"type\": \"Array\"}' class='jstree-open'><span>EAS_AF (1105538, 8) float32</span></li><li data-jstree='{\"type\": \"Array\"}' class='jstree-open'><span>END (1105538,) int32</span></li><li data-jstree='{\"type\": \"Array\"}' class='jstree-open'><span>EUR_AF (1105538, 8) float32</span></li><li data-jstree='{\"type\": \"Array\"}' class='jstree-open'><span>EX_TARGET (1105538,) bool</span></li><li data-jstree='{\"type\": \"Array\"}' class='jstree-open'><span>FILTER_PASS (1105538,) bool</span></li><li data-jstree='{\"type\": \"Array\"}' class='jstree-open'><span>ID (1105538,) object</span></li><li data-jstree='{\"type\": \"Array\"}' class='jstree-open'><span>IMPRECISE (1105538,) bool</span></li><li data-jstree='{\"type\": \"Array\"}' class='jstree-open'><span>MC (1105538,) object</span></li><li data-jstree='{\"type\": \"Array\"}' class='jstree-open'><span>MEINFO (1105538, 4) object</span></li><li data-jstree='{\"type\": \"Array\"}' class='jstree-open'><span>MEND (1105538,) int32</span></li><li data-jstree='{\"type\": \"Array\"}' class='jstree-open'><span>MLEN (1105538,) int32</span></li><li data-jstree='{\"type\": \"Array\"}' class='jstree-open'><span>MSTART (1105538,) int32</span></li><li data-jstree='{\"type\": \"Array\"}' class='jstree-open'><span>MULTI_ALLELIC (1105538,) bool</span></li><li data-jstree='{\"type\": \"Array\"}' class='jstree-open'><span>NS (1105538,) int32</span></li><li data-jstree='{\"type\": \"Array\"}' class='jstree-open'><span>POS (1105538,) int32</span></li><li data-jstree='{\"type\": \"Array\"}' class='jstree-open'><span>QUAL (1105538,) float32</span></li><li data-jstree='{\"type\": \"Array\"}' class='jstree-open'><span>REF (1105538,) object</span></li><li data-jstree='{\"type\": \"Array\"}' class='jstree-open'><span>SAS_AF (1105538, 8) float32</span></li><li data-jstree='{\"type\": \"Array\"}' class='jstree-open'><span>SVLEN (1105538,) int32</span></li><li data-jstree='{\"type\": \"Array\"}' class='jstree-open'><span>SVTYPE (1105538,) object</span></li><li data-jstree='{\"type\": \"Array\"}' class='jstree-open'><span>TSD (1105538,) object</span></li><li data-jstree='{\"type\": \"Array\"}' class='jstree-open'><span>VT (1105538,) object</span></li><li data-jstree='{\"type\": \"Array\"}' class='jstree-open'><span>is_snp (1105538,) bool</span></li><li data-jstree='{\"type\": \"Array\"}' class='jstree-open'><span>numalt (1105538,) int32</span></li><li data-jstree='{\"type\": \"Array\"}' class='jstree-open'><span>svlen (1105538, 8) int32</span></li></ul></li></ul></li><li data-jstree='{\"type\": \"Group\"}' class='jstree-open'><span>22</span><ul><li data-jstree='{\"type\": \"Group\"}' class='jstree-open'><span>calldata</span><ul><li data-jstree='{\"type\": \"Array\"}' class='jstree-open'><span>GT (1103547, 2504, 2) int8</span></li></ul></li><li data-jstree='{\"type\": \"Array\"}' class='jstree-open'><span>samples (2504,) object</span></li><li data-jstree='{\"type\": \"Group\"}' class='jstree-open'><span>variants</span><ul><li data-jstree='{\"type\": \"Array\"}' class='jstree-open'><span>AA (1103547,) object</span></li><li data-jstree='{\"type\": \"Array\"}' class='jstree-open'><span>AC (1103547, 8) int32</span></li><li data-jstree='{\"type\": \"Array\"}' class='jstree-open'><span>AF (1103547, 8) float32</span></li><li data-jstree='{\"type\": \"Array\"}' class='jstree-open'><span>AFR_AF (1103547, 8) float32</span></li><li data-jstree='{\"type\": \"Array\"}' class='jstree-open'><span>ALT (1103547, 8) object</span></li><li data-jstree='{\"type\": \"Array\"}' class='jstree-open'><span>AMR_AF (1103547, 8) float32</span></li><li data-jstree='{\"type\": \"Array\"}' class='jstree-open'><span>AN (1103547,) int32</span></li><li data-jstree='{\"type\": \"Array\"}' class='jstree-open'><span>CHROM (1103547,) object</span></li><li data-jstree='{\"type\": \"Array\"}' class='jstree-open'><span>CIEND (1103547, 2) int32</span></li><li data-jstree='{\"type\": \"Array\"}' class='jstree-open'><span>CIPOS (1103547, 2) int32</span></li><li data-jstree='{\"type\": \"Array\"}' class='jstree-open'><span>CS (1103547,) object</span></li><li data-jstree='{\"type\": \"Array\"}' class='jstree-open'><span>DP (1103547,) int32</span></li><li data-jstree='{\"type\": \"Array\"}' class='jstree-open'><span>EAS_AF (1103547, 8) float32</span></li><li data-jstree='{\"type\": \"Array\"}' class='jstree-open'><span>END (1103547,) int32</span></li><li data-jstree='{\"type\": \"Array\"}' class='jstree-open'><span>EUR_AF (1103547, 8) float32</span></li><li data-jstree='{\"type\": \"Array\"}' class='jstree-open'><span>EX_TARGET (1103547,) bool</span></li><li data-jstree='{\"type\": \"Array\"}' class='jstree-open'><span>FILTER_PASS (1103547,) bool</span></li><li data-jstree='{\"type\": \"Array\"}' class='jstree-open'><span>ID (1103547,) object</span></li><li data-jstree='{\"type\": \"Array\"}' class='jstree-open'><span>IMPRECISE (1103547,) bool</span></li><li data-jstree='{\"type\": \"Array\"}' class='jstree-open'><span>MC (1103547,) object</span></li><li data-jstree='{\"type\": \"Array\"}' class='jstree-open'><span>MEINFO (1103547, 4) object</span></li><li data-jstree='{\"type\": \"Array\"}' class='jstree-open'><span>MEND (1103547,) int32</span></li><li data-jstree='{\"type\": \"Array\"}' class='jstree-open'><span>MLEN (1103547,) int32</span></li><li data-jstree='{\"type\": \"Array\"}' class='jstree-open'><span>MSTART (1103547,) int32</span></li><li data-jstree='{\"type\": \"Array\"}' class='jstree-open'><span>MULTI_ALLELIC (1103547,) bool</span></li><li data-jstree='{\"type\": \"Array\"}' class='jstree-open'><span>NS (1103547,) int32</span></li><li data-jstree='{\"type\": \"Array\"}' class='jstree-open'><span>POS (1103547,) int32</span></li><li data-jstree='{\"type\": \"Array\"}' class='jstree-open'><span>QUAL (1103547,) float32</span></li><li data-jstree='{\"type\": \"Array\"}' class='jstree-open'><span>REF (1103547,) object</span></li><li data-jstree='{\"type\": \"Array\"}' class='jstree-open'><span>SAS_AF (1103547, 8) float32</span></li><li data-jstree='{\"type\": \"Array\"}' class='jstree-open'><span>SVLEN (1103547,) int32</span></li><li data-jstree='{\"type\": \"Array\"}' class='jstree-open'><span>SVTYPE (1103547,) object</span></li><li data-jstree='{\"type\": \"Array\"}' class='jstree-open'><span>TSD (1103547,) object</span></li><li data-jstree='{\"type\": \"Array\"}' class='jstree-open'><span>VT (1103547,) object</span></li><li data-jstree='{\"type\": \"Array\"}' class='jstree-open'><span>is_snp (1103547,) bool</span></li><li data-jstree='{\"type\": \"Array\"}' class='jstree-open'><span>numalt (1103547,) int32</span></li><li data-jstree='{\"type\": \"Array\"}' class='jstree-open'><span>svlen (1103547, 8) int32</span></li></ul></li></ul></li></ul></li></ul></div>\n",
       "<script>\n",
       "    if (!require.defined('jquery')) {\n",
       "        require.config({\n",
       "            paths: {\n",
       "                jquery: '//cdnjs.cloudflare.com/ajax/libs/jquery/1.12.1/jquery.min'\n",
       "            },\n",
       "        });\n",
       "    }\n",
       "    if (!require.defined('jstree')) {\n",
       "        require.config({\n",
       "            paths: {\n",
       "                jstree: '//cdnjs.cloudflare.com/ajax/libs/jstree/3.3.3/jstree.min'\n",
       "            },\n",
       "        });\n",
       "    }\n",
       "    require(['jstree'], function() {\n",
       "        $('#3f621278-8095-4c16-95d8-344b69f1a19e').jstree({\n",
       "            types: {\n",
       "                Group: {\n",
       "                    icon: \"fa fa-folder\"\n",
       "                },\n",
       "                Array: {\n",
       "                    icon: \"fa fa-table\"\n",
       "                }\n",
       "            },\n",
       "            plugins: [\"types\"]\n",
       "        });\n",
       "    });\n",
       "</script>\n"
      ],
      "text/plain": [
       "/\n",
       " ├── 21\n",
       " │   ├── calldata\n",
       " │   │   └── GT (1105538, 2504, 2) int8\n",
       " │   ├── samples (2504,) object\n",
       " │   └── variants\n",
       " │       ├── AA (1105538,) object\n",
       " │       ├── AC (1105538, 8) int32\n",
       " │       ├── AF (1105538, 8) float32\n",
       " │       ├── AFR_AF (1105538, 8) float32\n",
       " │       ├── ALT (1105538, 8) object\n",
       " │       ├── AMR_AF (1105538, 8) float32\n",
       " │       ├── AN (1105538,) int32\n",
       " │       ├── CHROM (1105538,) object\n",
       " │       ├── CIEND (1105538, 2) int32\n",
       " │       ├── CIPOS (1105538, 2) int32\n",
       " │       ├── CS (1105538,) object\n",
       " │       ├── DP (1105538,) int32\n",
       " │       ├── EAS_AF (1105538, 8) float32\n",
       " │       ├── END (1105538,) int32\n",
       " │       ├── EUR_AF (1105538, 8) float32\n",
       " │       ├── EX_TARGET (1105538,) bool\n",
       " │       ├── FILTER_PASS (1105538,) bool\n",
       " │       ├── ID (1105538,) object\n",
       " │       ├── IMPRECISE (1105538,) bool\n",
       " │       ├── MC (1105538,) object\n",
       " │       ├── MEINFO (1105538, 4) object\n",
       " │       ├── MEND (1105538,) int32\n",
       " │       ├── MLEN (1105538,) int32\n",
       " │       ├── MSTART (1105538,) int32\n",
       " │       ├── MULTI_ALLELIC (1105538,) bool\n",
       " │       ├── NS (1105538,) int32\n",
       " │       ├── POS (1105538,) int32\n",
       " │       ├── QUAL (1105538,) float32\n",
       " │       ├── REF (1105538,) object\n",
       " │       ├── SAS_AF (1105538, 8) float32\n",
       " │       ├── SVLEN (1105538,) int32\n",
       " │       ├── SVTYPE (1105538,) object\n",
       " │       ├── TSD (1105538,) object\n",
       " │       ├── VT (1105538,) object\n",
       " │       ├── is_snp (1105538,) bool\n",
       " │       ├── numalt (1105538,) int32\n",
       " │       └── svlen (1105538, 8) int32\n",
       " └── 22\n",
       "     ├── calldata\n",
       "     │   └── GT (1103547, 2504, 2) int8\n",
       "     ├── samples (2504,) object\n",
       "     └── variants\n",
       "         ├── AA (1103547,) object\n",
       "         ├── AC (1103547, 8) int32\n",
       "         ├── AF (1103547, 8) float32\n",
       "         ├── AFR_AF (1103547, 8) float32\n",
       "         ├── ALT (1103547, 8) object\n",
       "         ├── AMR_AF (1103547, 8) float32\n",
       "         ├── AN (1103547,) int32\n",
       "         ├── CHROM (1103547,) object\n",
       "         ├── CIEND (1103547, 2) int32\n",
       "         ├── CIPOS (1103547, 2) int32\n",
       "         ├── CS (1103547,) object\n",
       "         ├── DP (1103547,) int32\n",
       "         ├── EAS_AF (1103547, 8) float32\n",
       "         ├── END (1103547,) int32\n",
       "         ├── EUR_AF (1103547, 8) float32\n",
       "         ├── EX_TARGET (1103547,) bool\n",
       "         ├── FILTER_PASS (1103547,) bool\n",
       "         ├── ID (1103547,) object\n",
       "         ├── IMPRECISE (1103547,) bool\n",
       "         ├── MC (1103547,) object\n",
       "         ├── MEINFO (1103547, 4) object\n",
       "         ├── MEND (1103547,) int32\n",
       "         ├── MLEN (1103547,) int32\n",
       "         ├── MSTART (1103547,) int32\n",
       "         ├── MULTI_ALLELIC (1103547,) bool\n",
       "         ├── NS (1103547,) int32\n",
       "         ├── POS (1103547,) int32\n",
       "         ├── QUAL (1103547,) float32\n",
       "         ├── REF (1103547,) object\n",
       "         ├── SAS_AF (1103547, 8) float32\n",
       "         ├── SVLEN (1103547,) int32\n",
       "         ├── SVTYPE (1103547,) object\n",
       "         ├── TSD (1103547,) object\n",
       "         ├── VT (1103547,) object\n",
       "         ├── is_snp (1103547,) bool\n",
       "         ├── numalt (1103547,) int32\n",
       "         └── svlen (1103547, 8) int32"
      ]
     },
     "execution_count": 114,
     "metadata": {},
     "output_type": "execute_result"
    }
   ],
   "source": [
    "callset_h1k.tree(expand=True)"
   ]
  },
  {
   "cell_type": "markdown",
   "metadata": {},
   "source": [
    "If you want to save time, you could run the extraction for each chromosome in parallel, it is fine to write to a Zarr store from multiple processes.\n",
    "\n",
    "The 1000 genomes project has built a separate VCF file for each chromosome, but you may have a single VCF file with data for multiple chromosomes. In this case you can still group the data by chromosome in the Zarr output, but you need to use the `region` argument when doing the extraction, and the VCF file needs to be tabix indexed. E.g.:"
   ]
  },
  {
   "cell_type": "code",
   "execution_count": null,
   "metadata": {},
   "outputs": [],
   "source": [
    "vcf_path = '/path/to/input.vcf.gz'  # tabix-indexed VCF with data for multiple chromosomes\n",
    "zarr_path = '/path/to/output.zarr'\n",
    "chromosomes = [str(i) for i in range(1, 23)]\n",
    "for chrom in chromosomes:\n",
    "    allel.vcf_to_zarr(vcf_path, zarr_path, group=chrom, region=chrom, ...)    "
   ]
  },
  {
   "cell_type": "markdown",
   "metadata": {},
   "source": [
    "## Post-script: SNPEFF annotations\n",
    "\n",
    "If you have a VCF with annotations from SNPEFF, you can post-process these to extract out data from within the ANN annotations. For example, here's an example VCF with SNPEFF annotations:"
   ]
  },
  {
   "cell_type": "code",
   "execution_count": 115,
   "metadata": {},
   "outputs": [
    {
     "name": "stdout",
     "output_type": "stream",
     "text": [
      "##fileformat=VCFv4.1\n",
      "##INFO=<ID=AC,Number=A,Type=Integer,Description=\"Allele count in genotypes, for each ALT allele, in the same order as listed\">\n",
      "##FORMAT=<ID=GT,Number=1,Type=String,Description=\"Genotype\">\n",
      "##SnpEffVersion=\"4.1b (build 2015-02-13), by Pablo Cingolani\"\n",
      "##SnpEffCmd=\"SnpEff  agam4.2 -noStats -lof - \"\n",
      "##INFO=<ID=ANN,Number=.,Type=String,Description=\"Functional annotations: 'Allele | Annotation | Annotation_Impact | Gene_Name | Gene_ID | Feature_Type | Feature_ID | Transcript_BioType | Rank | HGVS.c | HGVS.p | cDNA.pos / cDNA.length | CDS.pos / CDS.length | AA.pos / AA.length | Distance | ERRORS / WARNINGS / INFO' \">\n",
      "#CHROM\tPOS\tID\tREF\tALT\tQUAL\tFILTER\tINFO\n",
      "2L\t103\t.\tC\tT\t53.36\t.\tAC=4;ANN=T|intergenic_region|MODIFIER|AGAP004677|AGAP004677|intergenic_region|AGAP004677||||||||3000|\n",
      "2L\t192\t.\tG\tA\t181.16\t.\tAC=8;\n",
      "2L\t13513722\t.\tA\tT,G\t284.06\tPASS\tAC=1;ANN=T|missense_variant|MODERATE|AGAP005273|AGAP005273|transcript|AGAP005273-RA|VectorBase|1/4|n.17A>T|p.Asp6Val|17/4788|17/4788|6/1596||,G|synonymous_variant|LOW|AGAP005273|AGAP005273|transcript|AGAP005273-RA|VectorBase|1/4|n.17A>G|p.Asp6Asp|12/4768|12/4768|4/1592||\n",
      "\n"
     ]
    }
   ],
   "source": [
    "with open('example_snpeff.vcf', mode='r') as f:\n",
    "    print(f.read())"
   ]
  },
  {
   "cell_type": "markdown",
   "metadata": {},
   "source": [
    "The main thing to note is that the values of the ANN field contain multiple sub-fields. E.g., in the first variant, the ANN value is \"``T|intergenic_region|MODIFIER|AGAP004677|AGAP004677|intergenic_region|AGAP004677||||||||3000|``\". The sub-fields are delimited by the pipe character (\"``|``\"). The first sub-field gives the allele to which the effect annotation applies (\"T\"); the second sub-field gives the effect annotation (\"intergenic_region\"); etc.\n",
    "\n",
    "By default, scikit-allel parses the ANN field like any other string field, e.g.:"
   ]
  },
  {
   "cell_type": "code",
   "execution_count": 116,
   "metadata": {},
   "outputs": [
    {
     "data": {
      "text/plain": [
       "array([ 'T|intergenic_region|MODIFIER|AGAP004677|AGAP004677|intergenic_region|AGAP004677||||||||3000|',\n",
       "       '',\n",
       "       'T|missense_variant|MODERATE|AGAP005273|AGAP005273|transcript|AGAP005273-RA|VectorBase|1/4|n.17A>T|p.Asp6Val|17/4788|17/4788|6/1596||'], dtype=object)"
      ]
     },
     "execution_count": 116,
     "metadata": {},
     "output_type": "execute_result"
    }
   ],
   "source": [
    "callset = allel.read_vcf('example_snpeff.vcf', fields='ANN')\n",
    "ann = callset['variants/ANN']\n",
    "ann"
   ]
  },
  {
   "cell_type": "markdown",
   "metadata": {},
   "source": [
    "However, like this the data aren't much use. If you want to access the sub-fields, scikit-allel provides a **transformers** parameter, which can be used like this:"
   ]
  },
  {
   "cell_type": "code",
   "execution_count": 117,
   "metadata": {},
   "outputs": [
    {
     "data": {
      "text/plain": [
       "['variants/ANN_AA_length',\n",
       " 'variants/ANN_AA_pos',\n",
       " 'variants/ANN_Allele',\n",
       " 'variants/ANN_Annotation',\n",
       " 'variants/ANN_Annotation_Impact',\n",
       " 'variants/ANN_CDS_length',\n",
       " 'variants/ANN_CDS_pos',\n",
       " 'variants/ANN_Distance',\n",
       " 'variants/ANN_Feature_ID',\n",
       " 'variants/ANN_Feature_Type',\n",
       " 'variants/ANN_Gene_ID',\n",
       " 'variants/ANN_Gene_Name',\n",
       " 'variants/ANN_HGVS_c',\n",
       " 'variants/ANN_HGVS_p',\n",
       " 'variants/ANN_Rank',\n",
       " 'variants/ANN_Transcript_BioType',\n",
       " 'variants/ANN_cDNA_length',\n",
       " 'variants/ANN_cDNA_pos']"
      ]
     },
     "execution_count": 117,
     "metadata": {},
     "output_type": "execute_result"
    }
   ],
   "source": [
    "callset = allel.read_vcf('example_snpeff.vcf', fields='ANN', transformers=allel.ANNTransformer())\n",
    "list(callset)"
   ]
  },
  {
   "cell_type": "markdown",
   "metadata": {},
   "source": [
    "Note that even though I only requested the \"ANN\" field, the resulting callset has a number of fields, each of which represents a sub-field from the ANN annotation. E.g.:"
   ]
  },
  {
   "cell_type": "code",
   "execution_count": 118,
   "metadata": {},
   "outputs": [
    {
     "data": {
      "text/plain": [
       "array(['T', '', 'T'], dtype=object)"
      ]
     },
     "execution_count": 118,
     "metadata": {},
     "output_type": "execute_result"
    }
   ],
   "source": [
    "callset['variants/ANN_Allele']"
   ]
  },
  {
   "cell_type": "code",
   "execution_count": 119,
   "metadata": {},
   "outputs": [
    {
     "data": {
      "text/plain": [
       "array(['intergenic_region', '', 'missense_variant'], dtype=object)"
      ]
     },
     "execution_count": 119,
     "metadata": {},
     "output_type": "execute_result"
    }
   ],
   "source": [
    "callset['variants/ANN_Annotation']"
   ]
  },
  {
   "cell_type": "markdown",
   "metadata": {},
   "source": [
    "You can also use the **transformers** parameter with other functions, e.g.:"
   ]
  },
  {
   "cell_type": "code",
   "execution_count": 120,
   "metadata": {},
   "outputs": [
    {
     "data": {
      "text/html": [
       "<div>\n",
       "<style scoped>\n",
       "    .dataframe tbody tr th:only-of-type {\n",
       "        vertical-align: middle;\n",
       "    }\n",
       "\n",
       "    .dataframe tbody tr th {\n",
       "        vertical-align: top;\n",
       "    }\n",
       "\n",
       "    .dataframe thead th {\n",
       "        text-align: right;\n",
       "    }\n",
       "</style>\n",
       "<table border=\"1\" class=\"dataframe\">\n",
       "  <thead>\n",
       "    <tr style=\"text-align: right;\">\n",
       "      <th></th>\n",
       "      <th>ANN_Allele</th>\n",
       "      <th>ANN_Annotation</th>\n",
       "      <th>ANN_Annotation_Impact</th>\n",
       "      <th>ANN_Gene_Name</th>\n",
       "      <th>ANN_Gene_ID</th>\n",
       "      <th>ANN_Feature_Type</th>\n",
       "      <th>ANN_Feature_ID</th>\n",
       "      <th>ANN_Transcript_BioType</th>\n",
       "      <th>ANN_Rank</th>\n",
       "      <th>ANN_HGVS_c</th>\n",
       "      <th>ANN_HGVS_p</th>\n",
       "      <th>ANN_cDNA_pos</th>\n",
       "      <th>ANN_cDNA_length</th>\n",
       "      <th>ANN_CDS_pos</th>\n",
       "      <th>ANN_CDS_length</th>\n",
       "      <th>ANN_AA_pos</th>\n",
       "      <th>ANN_AA_length</th>\n",
       "      <th>ANN_Distance</th>\n",
       "    </tr>\n",
       "  </thead>\n",
       "  <tbody>\n",
       "    <tr>\n",
       "      <th>0</th>\n",
       "      <td>T</td>\n",
       "      <td>intergenic_region</td>\n",
       "      <td>MODIFIER</td>\n",
       "      <td>AGAP004677</td>\n",
       "      <td>AGAP004677</td>\n",
       "      <td>intergenic_region</td>\n",
       "      <td>AGAP004677</td>\n",
       "      <td></td>\n",
       "      <td>-1</td>\n",
       "      <td></td>\n",
       "      <td></td>\n",
       "      <td>-1</td>\n",
       "      <td>-1</td>\n",
       "      <td>-1</td>\n",
       "      <td>-1</td>\n",
       "      <td>-1</td>\n",
       "      <td>-1</td>\n",
       "      <td>3000</td>\n",
       "    </tr>\n",
       "    <tr>\n",
       "      <th>1</th>\n",
       "      <td></td>\n",
       "      <td></td>\n",
       "      <td></td>\n",
       "      <td></td>\n",
       "      <td></td>\n",
       "      <td></td>\n",
       "      <td></td>\n",
       "      <td></td>\n",
       "      <td>-1</td>\n",
       "      <td></td>\n",
       "      <td></td>\n",
       "      <td>-1</td>\n",
       "      <td>-1</td>\n",
       "      <td>-1</td>\n",
       "      <td>-1</td>\n",
       "      <td>-1</td>\n",
       "      <td>-1</td>\n",
       "      <td>-1</td>\n",
       "    </tr>\n",
       "    <tr>\n",
       "      <th>2</th>\n",
       "      <td>T</td>\n",
       "      <td>missense_variant</td>\n",
       "      <td>MODERATE</td>\n",
       "      <td>AGAP005273</td>\n",
       "      <td>AGAP005273</td>\n",
       "      <td>transcript</td>\n",
       "      <td>AGAP005273-RA</td>\n",
       "      <td>VectorBase</td>\n",
       "      <td>1</td>\n",
       "      <td>17A&gt;T</td>\n",
       "      <td>Asp6Val</td>\n",
       "      <td>17</td>\n",
       "      <td>4788</td>\n",
       "      <td>17</td>\n",
       "      <td>4788</td>\n",
       "      <td>6</td>\n",
       "      <td>1596</td>\n",
       "      <td>-1</td>\n",
       "    </tr>\n",
       "  </tbody>\n",
       "</table>\n",
       "</div>"
      ],
      "text/plain": [
       "  ANN_Allele     ANN_Annotation ANN_Annotation_Impact ANN_Gene_Name  \\\n",
       "0          T  intergenic_region              MODIFIER    AGAP004677   \n",
       "1                                                                     \n",
       "2          T   missense_variant              MODERATE    AGAP005273   \n",
       "\n",
       "  ANN_Gene_ID   ANN_Feature_Type ANN_Feature_ID ANN_Transcript_BioType  \\\n",
       "0  AGAP004677  intergenic_region     AGAP004677                          \n",
       "1                                                                        \n",
       "2  AGAP005273         transcript  AGAP005273-RA             VectorBase   \n",
       "\n",
       "   ANN_Rank ANN_HGVS_c ANN_HGVS_p  ANN_cDNA_pos  ANN_cDNA_length  ANN_CDS_pos  \\\n",
       "0        -1                                  -1               -1           -1   \n",
       "1        -1                                  -1               -1           -1   \n",
       "2         1      17A>T    Asp6Val            17             4788           17   \n",
       "\n",
       "   ANN_CDS_length  ANN_AA_pos  ANN_AA_length  ANN_Distance  \n",
       "0              -1          -1             -1          3000  \n",
       "1              -1          -1             -1            -1  \n",
       "2            4788           6           1596            -1  "
      ]
     },
     "execution_count": 120,
     "metadata": {},
     "output_type": "execute_result"
    }
   ],
   "source": [
    "df = allel.vcf_to_dataframe('example_snpeff.vcf', fields='ANN', transformers=allel.ANNTransformer())\n",
    "df"
   ]
  },
  {
   "cell_type": "markdown",
   "metadata": {},
   "source": [
    "One thing to watch out for, some variants can have multiple SNPEFF annotations, i.e., there can be multiple values for the ANN annotation. This can happen if a variant has multiple alleles, or if a variant is within a gene that has multiple transcripts, or if a variant is within two overlapping genes (e.g., on opposite strands, or one gene within an intron of another), or if genes are closely spaced and so you get an upstream or downstream annotation for one gene and another annotation for the gene the variant is in, or some combination of any or all of these.\n",
    "\n",
    "E.g., in the example above, the third variant has two alternate alleles, and therefore has two ANN values, and by default only the first value has been parsed. You can increase the number of values via the **numbers** parameter as usual, e.g.:"
   ]
  },
  {
   "cell_type": "code",
   "execution_count": 121,
   "metadata": {},
   "outputs": [],
   "source": [
    "callset = allel.read_vcf('example_snpeff.vcf', fields='ANN', numbers={'ANN': 2},\n",
    "                         transformers=allel.ANNTransformer())"
   ]
  },
  {
   "cell_type": "code",
   "execution_count": 122,
   "metadata": {},
   "outputs": [
    {
     "data": {
      "text/plain": [
       "array([['T', ''],\n",
       "       ['', ''],\n",
       "       ['T', 'G']], dtype=object)"
      ]
     },
     "execution_count": 122,
     "metadata": {},
     "output_type": "execute_result"
    }
   ],
   "source": [
    "callset['variants/ANN_Allele']"
   ]
  },
  {
   "cell_type": "code",
   "execution_count": 123,
   "metadata": {},
   "outputs": [
    {
     "data": {
      "text/plain": [
       "array([['intergenic_region', ''],\n",
       "       ['', ''],\n",
       "       ['missense_variant', 'synonymous_variant']], dtype=object)"
      ]
     },
     "execution_count": 123,
     "metadata": {},
     "output_type": "execute_result"
    }
   ],
   "source": [
    "callset['variants/ANN_Annotation']"
   ]
  },
  {
   "cell_type": "markdown",
   "metadata": {},
   "source": [
    "Dealing with multiple SNPEFF annotations can be tricky. FWIW my suggestion is, when generating the SNPEFF annotations, use the option to only call annotations against the canonical (longest) transcript for each gene, and disable upstream and downstream annotations. This will at least reduce some of the complexity, although you'll still need to handle multiallelic variants and the odd case of overlapping genes."
   ]
  },
  {
   "cell_type": "markdown",
   "metadata": {},
   "source": [
    "## Post-script: changes from `vcfnp`\n",
    "\n",
    "The new functions available in `scikit-allel` supercede a package I previously wrote for extracting data from VCF files called [`vcfnp`](@@TODO). I rewrote this functionality from the ground up and ported the functionality to `scikit-allel` for two main reasons. Firstly, `vcfnp` was slow and so you needed a cluster to parse big VCF files, which is obviously a pain. The new functions in `scikit-allel` should be up to ~40 times faster. Secondly, the `vcfnp` API was somewhat complicated, requiring three separate steps to get data from VCF into an HDF5 file or Zarr store. The new functions in `scikit-allel` hopefully simplify this process, enabling data to be extracted from VCF and loaded into any of a variety of storage containers via a single function call.\n",
    "\n",
    "If you previously used `vcfnp` here are a few notes on some of the things that have changed.\n",
    "\n",
    "* No need for separate function calls to extract data from variants and calldata fields, both can be extracted via a single call to `read_vcf()` or any of the `vcf_to_...()` functions described above.\n",
    "* Data can be extracted from VCF and loaded into HDF5 with a single function call to `vcf_to_hdf5()`; i.e., no need to first extract parts of the data out to .npy files then load into HDF5.\n",
    "* No need to use a cluster or do any parallelisation, it should be possible to run `vcf_to_hdf5()` or `vcf_to_zarr()` on a whole VCF on a half-decent desktop or laptop computer, although big VCF files might take a couple of hours and require a reasonably large hard disk.\n",
    "* The default NumPy data type for string fields has changed to use 'object' dtype, which means that strings of any length will be stored automatically (i.e., no need to configure separate dtypes for each string field) and there will be no truncation of long strings.\n",
    "* Previously in `vcfnp` the genotype calls were extracted into a special field called 'genotype' separate from the 'GT' calldata field if requested. In `scikit-allel` the default behaviour is to parse the 'GT' field as a 3-dimensional integer array and return simply as 'calldata/GT'. If you really want to process the 'GT' field as a string then you can override this by setting the type for 'calldata/GT' to 'S3' or 'object'.\n",
    "* The \"arity\" argument in `vcfnp` is instead called \"numbers\" in scikit-allel, to match better with the terminology used in VCF meta-information headers.\n",
    "* Genotype ploidy is now specified via the \"numbers\" argument, there is no special \"ploidy\" argument.\n"
   ]
  },
  {
   "cell_type": "code",
   "execution_count": null,
   "metadata": {},
   "outputs": [],
   "source": []
  }
 ],
 "metadata": {
  "kernelspec": {
   "display_name": "Python 3",
   "language": "python",
   "name": "python3"
  },
  "language_info": {
   "codemirror_mode": {
    "name": "ipython",
    "version": 3
   },
   "file_extension": ".py",
   "mimetype": "text/x-python",
   "name": "python",
   "nbconvert_exporter": "python",
   "pygments_lexer": "ipython3",
   "version": "3.6.5"
  }
 },
 "nbformat": 4,
 "nbformat_minor": 2
}
