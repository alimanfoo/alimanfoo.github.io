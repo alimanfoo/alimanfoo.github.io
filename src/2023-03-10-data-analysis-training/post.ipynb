{
 "cells": [
  {
   "cell_type": "raw",
   "id": "ba13720b-9b7d-45c2-8e4f-328d0ef655ce",
   "metadata": {},
   "source": [
    "---\n",
    "layout: post\n",
    "title: \"Training course in data analysis for genomic surveillance of African malaria vectors\"\n",
    "description: \"This post introduces a new training course and explains some of the rationale and technology choices we made to create, publish and deliver the course online.\"\n",
    "image: /src/2023-03-10-data-analysis-training/image.png\n",
    "---\n",
    "{% raw %}"
   ]
  },
  {
   "cell_type": "markdown",
   "id": "3927acda-0fc6-4d17-b84d-f0b9991faf02",
   "metadata": {},
   "source": [
    "*This post introduces a new training course and explains some of the rationale and technology choices we made to create, publish and deliver the course online.*\n",
    "\n",
    "---"
   ]
  },
  {
   "cell_type": "code",
   "execution_count": null,
   "id": "7c0a9d6d-c9ce-426b-908c-172b70d247b9",
   "metadata": {},
   "outputs": [],
   "source": []
  },
  {
   "cell_type": "raw",
   "id": "71feac38-f4b9-4a88-9ba2-68e83bc6c5d6",
   "metadata": {},
   "source": [
    "{% endraw %}"
   ]
  }
 ],
 "metadata": {
  "kernelspec": {
   "display_name": "Python 3 (ipykernel)",
   "language": "python",
   "name": "python3"
  },
  "language_info": {
   "codemirror_mode": {
    "name": "ipython",
    "version": 3
   },
   "file_extension": ".py",
   "mimetype": "text/x-python",
   "name": "python",
   "nbconvert_exporter": "python",
   "pygments_lexer": "ipython3",
   "version": "3.12.5"
  }
 },
 "nbformat": 4,
 "nbformat_minor": 5
}
