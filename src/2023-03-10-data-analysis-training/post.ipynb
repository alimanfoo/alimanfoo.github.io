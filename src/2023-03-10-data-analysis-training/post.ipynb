{
 "cells": [
  {
   "cell_type": "raw",
   "id": "ba13720b-9b7d-45c2-8e4f-328d0ef655ce",
   "metadata": {},
   "source": [
    "---\n",
    "layout: post\n",
    "title: \"Training course in data analysis for genomic surveillance of African malaria vectors\"\n",
    "description: \"This post introduces a new training course and explains some of the rationale and technology choices we made to create, publish and deliver the course online.\"\n",
    "image: /src/2023-03-10-data-analysis-training/image.png\n",
    "---\n",
    "{% raw %}"
   ]
  },
  {
   "cell_type": "markdown",
   "id": "3927acda-0fc6-4d17-b84d-f0b9991faf02",
   "metadata": {},
   "source": [
    "*This post introduces a new training course and explains some of the rationale and technology choices we made to create, publish and deliver the course online.*\n",
    "\n",
    "---"
   ]
  },
  {
   "cell_type": "markdown",
   "id": "35dadd97-7589-4c9a-8524-4b8685ea2085",
   "metadata": {},
   "source": [
    "Part of our mission is to make malaria genomics as accessible as possible. Over the past year my team and I have been working hard to develop a training course that introduces scientists to the elements of mosquito genomic data analysis. The goal was to create a course that can help someone get as quickly as possible from little or no prior experience of genomic data analysis to a point where they can independently plan and run a suite of common analysis methods required for surveillance of mosquito populations. Along the way, we have been delivering the course as a series of 8 one-day online workshops to a cohort of 50 African scientists. It's been a challenge because we've run one workshop every 6 weeks or so, developing the content for each workshop as we go. But we've finally come to the end and have a complete course of 8 workshops published via the course website. \n",
    "\n",
    "This post gives introduction to the scope and structure of the course, along with some discussion of choices we made to develop, publish and deliver the course."
   ]
  },
  {
   "cell_type": "raw",
   "id": "71feac38-f4b9-4a88-9ba2-68e83bc6c5d6",
   "metadata": {},
   "source": [
    "{% endraw %}"
   ]
  }
 ],
 "metadata": {
  "kernelspec": {
   "display_name": "Python 3 (ipykernel)",
   "language": "python",
   "name": "python3"
  },
  "language_info": {
   "codemirror_mode": {
    "name": "ipython",
    "version": 3
   },
   "file_extension": ".py",
   "mimetype": "text/x-python",
   "name": "python",
   "nbconvert_exporter": "python",
   "pygments_lexer": "ipython3",
   "version": "3.12.5"
  }
 },
 "nbformat": 4,
 "nbformat_minor": 5
}
