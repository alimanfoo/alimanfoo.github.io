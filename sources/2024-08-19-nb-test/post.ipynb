{
 "cells": [
  {
   "cell_type": "raw",
   "id": "af1153ef-19ac-4452-ae85-95aabb85c583",
   "metadata": {},
   "source": [
    "---\n",
    "layout: post\n",
    "title: Test notebook\n",
    "---"
   ]
  },
  {
   "cell_type": "markdown",
   "id": "242cd35c-b8ba-40f4-a18b-6589e94788bf",
   "metadata": {},
   "source": [
    "This is a test from a notebook."
   ]
  },
  {
   "cell_type": "code",
   "execution_count": null,
   "id": "df35b337-0f99-49de-a98e-271316871c15",
   "metadata": {},
   "outputs": [],
   "source": [
    "import sys\n",
    "sys.version_info"
   ]
  },
  {
   "cell_type": "code",
   "execution_count": null,
   "id": "fa629771-af37-4fe8-8baf-79351481d8ad",
   "metadata": {},
   "outputs": [],
   "source": [
    "print(\"hello\")"
   ]
  },
  {
   "cell_type": "markdown",
   "id": "6279f893-ca56-47ae-8238-650d6d058765",
   "metadata": {},
   "source": [
    "Wasn't that **great**!"
   ]
  },
  {
   "cell_type": "code",
   "execution_count": null,
   "id": "c2c3142b-da62-42c6-9957-f3bab61f2810",
   "metadata": {},
   "outputs": [],
   "source": [
    "import plotly.io as pio"
   ]
  },
  {
   "cell_type": "code",
   "execution_count": null,
   "id": "f05905bd-5538-40b7-8315-f2234fa01985",
   "metadata": {},
   "outputs": [],
   "source": [
    "pio.renderers"
   ]
  },
  {
   "cell_type": "code",
   "execution_count": null,
   "id": "344ed66c-1c5b-484f-bce0-3087dec12ceb",
   "metadata": {},
   "outputs": [],
   "source": [
    "pio.renderers.default = \"notebook_connected\""
   ]
  },
  {
   "cell_type": "code",
   "execution_count": null,
   "id": "f21892f9-9d0f-4a2f-b2c3-ca0d2aa84192",
   "metadata": {},
   "outputs": [],
   "source": [
    "import plotly.express as px"
   ]
  },
  {
   "cell_type": "code",
   "execution_count": null,
   "id": "5eeac573-93d1-4c3d-9b67-42a64f04b515",
   "metadata": {},
   "outputs": [],
   "source": [
    "df = px.data.iris()\n",
    "df"
   ]
  },
  {
   "cell_type": "code",
   "execution_count": null,
   "id": "86f45328-9de3-43f7-b929-77bcb72912e6",
   "metadata": {},
   "outputs": [],
   "source": [
    "px.scatter(df, x=\"sepal_length\", y=\"sepal_width\", color=\"species\")"
   ]
  },
  {
   "cell_type": "code",
   "execution_count": null,
   "id": "0747dc0e-ad19-4df7-833c-0b4f723d24c5",
   "metadata": {},
   "outputs": [],
   "source": []
  }
 ],
 "metadata": {
  "kernelspec": {
   "display_name": "Python 3 (ipykernel)",
   "language": "python",
   "name": "python3"
  },
  "language_info": {
   "codemirror_mode": {
    "name": "ipython",
    "version": 3
   },
   "file_extension": ".py",
   "mimetype": "text/x-python",
   "name": "python",
   "nbconvert_exporter": "python",
   "pygments_lexer": "ipython3",
   "version": "3.11.9"
  }
 },
 "nbformat": 4,
 "nbformat_minor": 5
}
